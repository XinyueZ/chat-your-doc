{
  "nbformat": 4,
  "nbformat_minor": 0,
  "metadata": {
    "colab": {
      "provenance": [],
      "gpuType": "T4"
    },
    "kernelspec": {
      "name": "python3",
      "display_name": "Python 3"
    },
    "language_info": {
      "name": "python"
    },
    "accelerator": "GPU"
  },
  "cells": [
    {
      "cell_type": "code",
      "source": [
        "import locale\n",
        "locale.getpreferredencoding = lambda: \"UTF-8\"\n",
        "\n",
        "%pip install -q transformers\n",
        "%pip install -q loguru\n",
        "%pip install -q openai langchain langchain[docarray] tiktoken"
      ],
      "metadata": {
        "id": "p0cyZiNIzIbg"
      },
      "execution_count": 1,
      "outputs": []
    },
    {
      "cell_type": "code",
      "source": [
        "!wget -O test.mp3 https://dl.dropbox.com/scl/fi/ri0koqljazuoj7irxcx14/Jeff-Bezos-on-the-Importance-of-Stress-Management.mp3?rlkey=kbvm6wvf3n41c6j2u558kx4jq&dl=0"
      ],
      "metadata": {
        "colab": {
          "base_uri": "https://localhost:8080/"
        },
        "id": "Ww2U6eLyAA1p",
        "outputId": "16423ce0-bf61-4297-d909-7b92566e4ed6"
      },
      "execution_count": 2,
      "outputs": [
        {
          "output_type": "stream",
          "name": "stdout",
          "text": [
            "--2023-11-10 20:58:23--  https://dl.dropbox.com/scl/fi/ri0koqljazuoj7irxcx14/Jeff-Bezos-on-the-Importance-of-Stress-Management.mp3?rlkey=kbvm6wvf3n41c6j2u558kx4jq\n",
            "Resolving dl.dropbox.com (dl.dropbox.com)... 162.125.81.15, 2620:100:6031:15::a27d:510f\n",
            "Connecting to dl.dropbox.com (dl.dropbox.com)|162.125.81.15|:443... connected.\n",
            "HTTP request sent, awaiting response... 302 Found\n",
            "Location: https://dl.dropboxusercontent.com/scl/fi/ri0koqljazuoj7irxcx14/Jeff-Bezos-on-the-Importance-of-Stress-Management.mp3?rlkey=kbvm6wvf3n41c6j2u558kx4jq [following]\n",
            "--2023-11-10 20:58:24--  https://dl.dropboxusercontent.com/scl/fi/ri0koqljazuoj7irxcx14/Jeff-Bezos-on-the-Importance-of-Stress-Management.mp3?rlkey=kbvm6wvf3n41c6j2u558kx4jq\n",
            "Resolving dl.dropboxusercontent.com (dl.dropboxusercontent.com)... 162.125.81.15, 2620:100:6025:15::a27d:450f\n",
            "Connecting to dl.dropboxusercontent.com (dl.dropboxusercontent.com)|162.125.81.15|:443... connected.\n",
            "HTTP request sent, awaiting response... 200 OK\n",
            "Length: 720916 (704K) [audio/mpeg]\n",
            "Saving to: ‘test.mp3’\n",
            "\n",
            "test.mp3            100%[===================>] 704.02K  3.08MB/s    in 0.2s    \n",
            "\n",
            "2023-11-10 20:58:25 (3.08 MB/s) - ‘test.mp3’ saved [720916/720916]\n",
            "\n"
          ]
        }
      ]
    },
    {
      "cell_type": "code",
      "execution_count": 4,
      "metadata": {
        "id": "-HaHPAzbyfV5"
      },
      "outputs": [],
      "source": [
        "import os\n",
        "\n",
        "import torch\n",
        "from rich.pretty import pprint\n",
        "from transformers import pipeline\n",
        "\n",
        "from loguru import logger\n",
        "\n",
        "import openai\n",
        "import sys\n",
        "\n",
        "from langchain.prompts import ChatPromptTemplate\n",
        "from langchain.chat_models import ChatOpenAI\n",
        "from langchain.schema.output_parser import StrOutputParser"
      ]
    },
    {
      "cell_type": "code",
      "source": [
        "device = \"cuda\" if torch.cuda.is_available() else \"cpu\"\n",
        "pprint(device)"
      ],
      "metadata": {
        "colab": {
          "base_uri": "https://localhost:8080/",
          "height": 34
        },
        "id": "HUfDDw0_yzQs",
        "outputId": "8dce517d-7bda-4d83-f62e-839f4661781d"
      },
      "execution_count": 5,
      "outputs": [
        {
          "output_type": "display_data",
          "data": {
            "text/plain": [
              "\u001b[32m'cuda'\u001b[0m\n"
            ],
            "text/html": [
              "<pre style=\"white-space:pre;overflow-x:auto;line-height:normal;font-family:Menlo,'DejaVu Sans Mono',consolas,'Courier New',monospace\"><span style=\"color: #008000; text-decoration-color: #008000\">'cuda'</span>\n",
              "</pre>\n"
            ]
          },
          "metadata": {}
        }
      ]
    },
    {
      "cell_type": "code",
      "source": [
        "pipe = pipeline(\n",
        "    \"automatic-speech-recognition\",\n",
        "    \"openai/whisper-large-v3\",\n",
        "    torch_dtype=torch.float16,\n",
        "    device=device,\n",
        ")"
      ],
      "metadata": {
        "colab": {
          "base_uri": "https://localhost:8080/"
        },
        "id": "Ecn_DRa2y5Km",
        "outputId": "cb80da32-84b7-482d-873a-9556503d0310"
      },
      "execution_count": 6,
      "outputs": [
        {
          "output_type": "stream",
          "name": "stderr",
          "text": [
            "Special tokens have been added in the vocabulary, make sure the associated word embeddings are fine-tuned or trained.\n",
            "Special tokens have been added in the vocabulary, make sure the associated word embeddings are fine-tuned or trained.\n"
          ]
        }
      ]
    },
    {
      "cell_type": "code",
      "source": [
        "audio_file_path = os.path.join(\"test.mp3\")\n",
        "\n",
        "if not os.path.exists(audio_file_path):\n",
        "    logger.error(f\"File not found: {audio_file_path}\")"
      ],
      "metadata": {
        "id": "BTVJqVmHy9QQ"
      },
      "execution_count": 7,
      "outputs": []
    },
    {
      "cell_type": "code",
      "source": [
        "res = pipe(audio_file_path)\n",
        "text = res.get(\"text\")\n",
        "if text == None:\n",
        "    logger.warning(\"No text extracted\")\n",
        "else:\n",
        "    pprint(text)"
      ],
      "metadata": {
        "colab": {
          "base_uri": "https://localhost:8080/",
          "height": 49
        },
        "id": "2KwQH9dozXFu",
        "outputId": "578863b7-4ce1-41f1-ae72-48a2abae7af5"
      },
      "execution_count": 8,
      "outputs": [
        {
          "output_type": "display_data",
          "data": {
            "text/plain": [
              "\u001b[32m\" Stress doesn't come, people get stress wrong all the time in my opinion. Stress doesn't come from hard work, for example. You can be working incredibly hard and loving it and likewise you can be out of work and incredibly stressed over that. And likewise if you kind of use that as an analogy for what I was just talking about, if you're out of work but you're going through a disciplined approach of a series of job\"\u001b[0m\n"
            ],
            "text/html": [
              "<pre style=\"white-space:pre;overflow-x:auto;line-height:normal;font-family:Menlo,'DejaVu Sans Mono',consolas,'Courier New',monospace\"><span style=\"color: #008000; text-decoration-color: #008000\">\" Stress doesn't come, people get stress wrong all the time in my opinion. Stress doesn't come from hard work, for example. You can be working incredibly hard and loving it and likewise you can be out of work and incredibly stressed over that. And likewise if you kind of use that as an analogy for what I was just talking about, if you're out of work but you're going through a disciplined approach of a series of job\"</span>\n",
              "</pre>\n"
            ]
          },
          "metadata": {}
        }
      ]
    },
    {
      "cell_type": "code",
      "source": [
        "openai_key = None\n",
        "if 'google.colab' in sys.modules:\n",
        "    from google.colab import userdata\n",
        "    openai_key = userdata.get('OPENAI_API_KEY')\n",
        "else:\n",
        "    openai_key = os.environ['OPENAI_API_KEY']\n"
      ],
      "metadata": {
        "id": "GC1evKo30dyw"
      },
      "execution_count": 14,
      "outputs": []
    },
    {
      "cell_type": "code",
      "source": [
        "prompt = ChatPromptTemplate.from_template(\n",
        "    \"\"\"Please provide a summary of the specified {context}.\n",
        "    The response should be presented as a list of key points,\n",
        "    formatted in HTML with appropriate markup for clarity and organization.\n",
        "    \"\"\"\n",
        ")\n",
        "model = ChatOpenAI(openai_api_key=openai_key)\n",
        "output_parser = StrOutputParser()"
      ],
      "metadata": {
        "id": "y_3zcfFw3hjh"
      },
      "execution_count": 15,
      "outputs": []
    },
    {
      "cell_type": "code",
      "source": [
        "chain = prompt | model | output_parser"
      ],
      "metadata": {
        "id": "X3e1v0Jy3_7C"
      },
      "execution_count": 16,
      "outputs": []
    },
    {
      "cell_type": "code",
      "source": [
        "res = chain.invoke({\"context\": text})"
      ],
      "metadata": {
        "id": "D3zgiNFL4L40"
      },
      "execution_count": 17,
      "outputs": []
    },
    {
      "cell_type": "code",
      "source": [
        "from IPython.display import display, HTML\n",
        "\n",
        "display(HTML(res))"
      ],
      "metadata": {
        "colab": {
          "base_uri": "https://localhost:8080/",
          "height": 132
        },
        "id": "wCRN2L2C7PhF",
        "outputId": "1859c6fd-f3cb-47ef-f5be-641c27183888"
      },
      "execution_count": 18,
      "outputs": [
        {
          "output_type": "display_data",
          "data": {
            "text/plain": [
              "<IPython.core.display.HTML object>"
            ],
            "text/html": [
              "<ol>\n",
              "<li>Stress is often misunderstood by people.</li>\n",
              "<li>Stress does not necessarily come from hard work.</li>\n",
              "<li>One can be working hard and still enjoy it without feeling stressed.</li>\n",
              "<li>Similarly, being out of work can also cause stress.</li>\n",
              "<li>Being disciplined in the job search process can help reduce stress.</li>\n",
              "</ol>"
            ]
          },
          "metadata": {}
        }
      ]
    }
  ]
}