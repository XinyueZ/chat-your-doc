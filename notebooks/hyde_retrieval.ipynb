{
 "cells": [
  {
   "cell_type": "markdown",
   "metadata": {},
   "source": [
    "https://arxiv.org/pdf/2212.10496.pdf\n",
    "langchain version: https://github.com/langchain-ai/rag-from-scratch/blob/main/rag_from_scratch_5_to_9.ipynb\n",
    "video course: https://youtu.be/SaDzIVkYqyY?si=RmuR3tra6QFWGWt7"
   ]
  },
  {
   "cell_type": "code",
   "execution_count": 43,
   "metadata": {},
   "outputs": [
    {
     "name": "stdout",
     "output_type": "stream",
     "text": [
      "zsh:1: no matches found: https://dl.dropbox.com/scl/fi/boxb3mvc0mv7d7tndmy0j/BAIDU-INC.-CODE-OF-BUSINESS-CONDUCT-AND-ETHICS.pdf?rlkey=gs378jtvi6gwzy0ncn0jx0876\n"
     ]
    },
    {
     "name": "stderr",
     "output_type": "stream",
     "text": [
      "huggingface/tokenizers: The current process just got forked, after parallelism has already been used. Disabling parallelism to avoid deadlocks...\n",
      "To disable this warning, you can either:\n",
      "\t- Avoid using `tokenizers` before the fork if possible\n",
      "\t- Explicitly set the environment variable TOKENIZERS_PARALLELISM=(true | false)\n"
     ]
    }
   ],
   "source": [
    "!wget -O ./tmp/Baidu-Inc-Code-of-Business-Conduct-and-Ethics.pdf https://dl.dropbox.com/scl/fi/boxb3mvc0mv7d7tndmy0j/BAIDU-INC.-CODE-OF-BUSINESS-CONDUCT-AND-ETHICS.pdf?rlkey=gs378jtvi6gwzy0ncn0jx0876\n",
    "file_path = \"./tmp/Baidu-Inc-Code-of-Business-Conduct-and-Ethics.pdf\""
   ]
  },
  {
   "cell_type": "code",
   "execution_count": 44,
   "metadata": {},
   "outputs": [],
   "source": [
    "from rich.pretty import pprint\n",
    "from typing import Any\n",
    "\n",
    "\n",
    "def pretty_print(title: str = None, content: Any = None):\n",
    "    if title is None:\n",
    "        print(content)\n",
    "        return\n",
    "    print(title)\n",
    "    pprint(content)"
   ]
  },
  {
   "cell_type": "code",
   "execution_count": 45,
   "metadata": {},
   "outputs": [],
   "source": [
    "SIM_TOP_K = 5\n",
    "RERANK_TOP_K = 5\n",
    "WIN_SZ = 5"
   ]
  },
  {
   "cell_type": "code",
   "execution_count": 46,
   "metadata": {},
   "outputs": [
    {
     "name": "stderr",
     "output_type": "stream",
     "text": [
      "/var/folders/3k/3105m_0n0jq3mpst61fnchtr0000gn/T/ipykernel_16186/3375871418.py:22: DeprecationWarning: Call to deprecated class method from_defaults. (ServiceContext is deprecated, please use `llama_index.settings.Settings` instead.) -- Deprecated since version 0.10.0.\n",
      "  return ServiceContext.from_defaults(\n",
      "Parsing nodes: 100%|██████████| 10/10 [00:00<00:00, 594.89it/s]\n",
      "Generating embeddings: 100%|██████████| 160/160 [00:13<00:00, 11.50it/s]\n"
     ]
    }
   ],
   "source": [
    "from typing import List\n",
    "\n",
    "from llama_index.core import (ServiceContext, SimpleDirectoryReader,\n",
    "                              VectorStoreIndex)\n",
    "from llama_index.core.embeddings.utils import EmbedType\n",
    "from llama_index.core.indices.base import BaseIndex\n",
    "from llama_index.core.base.llms.base import BaseLLM\n",
    "from llama_index.core.llms.utils import LLMType\n",
    "from llama_index.core.node_parser import SentenceWindowNodeParser\n",
    "from llama_index.llms.ollama import Ollama\n",
    "from llama_index.llms.groq import Groq\n",
    "\n",
    "#llm: BaseLLM = Ollama(model=\"gemma:2b-instruct\", temperature=0)\n",
    "llm: BaseLLM = Groq(model=\"mixtral-8x7b-32768\", temperature=0)\n",
    "\n",
    "def create_service_context(llm: LLMType, embs: EmbedType) -> ServiceContext:\n",
    "    node_parser = SentenceWindowNodeParser.from_defaults(\n",
    "        window_size=WIN_SZ,\n",
    "        window_metadata_key=\"window\",\n",
    "        original_text_metadata_key=\"original_text\",\n",
    "    )\n",
    "\n",
    "    return ServiceContext.from_defaults(\n",
    "        node_parser=node_parser,\n",
    "        llm=llm,\n",
    "        embed_model=embs,\n",
    "    )\n",
    "\n",
    "\n",
    "embs = \"local:BAAI/bge-small-en-v1.5\"  # OpenAIEmbedding(model=OpenAIEmbeddingModelType.TEXT_EMBED_ADA_002)\n",
    "service_context: ServiceContext = create_service_context(llm, embs)\n",
    "\n",
    "input_files: List[str] = [file_path]\n",
    "docs: SimpleDirectoryReader = SimpleDirectoryReader(\n",
    "    input_files=input_files,\n",
    ").load_data()\n",
    "\n",
    "\n",
    "vector_index: BaseIndex = VectorStoreIndex.from_documents(\n",
    "    docs,\n",
    "    service_context=service_context,\n",
    "    show_progress=True,\n",
    ")\n",
    "\n",
    "base_retriever = vector_index.as_retriever()"
   ]
  },
  {
   "cell_type": "code",
   "execution_count": 47,
   "metadata": {},
   "outputs": [],
   "source": [
    "from typing import List\n",
    "\n",
    "from llama_index.core import PromptTemplate, QueryBundle\n",
    "from llama_index.core.base.llms.base import BaseLLM\n",
    "from llama_index.core.retrievers import BaseRetriever\n",
    "from llama_index.core.schema import NodeWithScore\n",
    "\n",
    "\n",
    "class HyDERetriever(BaseRetriever):\n",
    "    def __init__(self, base_retriever: BaseRetriever, hypo_gen_model: BaseLLM):\n",
    "        self.base_retriever = base_retriever\n",
    "        self.hypo_gen_model = hypo_gen_model\n",
    "        self.hypothesis_template = PromptTemplate(\n",
    "            \"\"\"Write a hypothesis paper about question as you can.\n",
    "\n",
    "            Only return the paper content without any other information, ie. leading text and so on.\n",
    "            \n",
    "            Question: {question}\n",
    "\n",
    "            \"\"\"\n",
    "        )\n",
    "    def _retrieve(self, query_bundle: QueryBundle) -> List[NodeWithScore]:\n",
    "        return []\n",
    "    \n",
    "    async def _aretrieve(self, query_bundle: QueryBundle) -> List[NodeWithScore]:\n",
    "        query_str: str = query_bundle.query_str\n",
    "        gen_answer = self.hypo_gen_model.complete(\n",
    "            self.hypothesis_template.format(question=query_str)\n",
    "        ).text.strip()\n",
    "        pretty_print(\"Generated info\", gen_answer)\n",
    "        return await self.base_retriever.aretrieve(gen_answer)"
   ]
  },
  {
   "cell_type": "code",
   "execution_count": 48,
   "metadata": {},
   "outputs": [
    {
     "name": "stdout",
     "output_type": "stream",
     "text": [
      "Generated info\n"
     ]
    },
    {
     "data": {
      "text/html": [
       "<pre style=\"white-space:pre;overflow-x:auto;line-height:normal;font-family:Menlo,'DejaVu Sans Mono',consolas,'Courier New',monospace\"><span style=\"color: #008000; text-decoration-color: #008000\">'In the contemporary business landscape, the significance of a robust Code of Business Conduct and Ethics cannot be overstated. This is especially true for multinational technology companies like Baidu Inc., which operate in a rapidly evolving industry that is deeply intertwined with societal values and ethical considerations. This paper aims to delve into the Code of Business Conduct and Ethics of Baidu Inc., providing an overview of the company\\'s ethical framework and its commitment to responsible corporate practices.\\n\\nI. Introduction\\n\\nBaidu Inc., often referred to as the \"Google of China,\" is a leading multinational technology company specializing in artificial intelligence (AI), internet search, and various related services. As a prominent player in the global technology landscape, Baidu is responsible for upholding a strong code of ethics that guides its decision-making processes and operations.\\n\\nII. Baidu Inc.\\'s Code of Business Conduct and Ethics: An Overview\\n\\nBaidu\\'s Code of Business Conduct and Ethics outlines the company\\'s commitment to maintaining the highest standards of professional and ethical conduct. The code applies to all Baidu employees, officers, and directors, ensuring that the company\\'s business practices align with its core values and legal requirements.\\n\\nIII. Key Components of Baidu\\'s Code of Business Conduct and Ethics\\n\\n1. Compliance with Laws, Regulations, and Company Policies: Baidu is committed to adhering to all applicable laws, regulations, and company policies. This includes, but is not limited to, competition law, insider trading laws, and anti-bribery and corruption regulations.\\n2. Conflicts of Interest: Baidu employees are required to disclose and manage any actual or potential conflicts of interest to ensure that their actions do not harm the company or its stakeholders.\\n3. Fair Dealing: Baidu is dedicated to treating all employees, customers, and partners fairly and ethically. This includes fostering a work environment that is free from discrimination and harassment.\\n4. Protection and Proper Use of Company Assets: Baidu employees are expected to protect and use the company\\'s assets, including intellectual property, in a responsible and efficient manner.\\n5. Confidentiality: Baidu is committed to maintaining the confidentiality of its proprietary and confidential information, as well as that of its partners and customers.\\n6. Corporate Opportunities: Employees are prohibited from taking advantage of corporate opportunities for personal gain or diverting such opportunities from Baidu.\\n7. Financial Integrity: Baidu is dedicated to maintaining accurate and transparent financial records, ensuring the integrity of its financial reporting.\\n8. Reporting and Accountability: Employees are encouraged to report any suspected violations of the Code of Business Conduct and Ethics, and the company guarantees that all reports will be handled confidentially and without retaliation.\\n\\nIV. Conclusion\\n\\nBaidu Inc.\\'s Code of Business Conduct and Ethics serves as the backbone of its corporate responsibility framework, ensuring that the company remains committed to ethical business practices and legal compliance. By fostering a culture of integrity, Baidu can maintain the trust of its stakeholders and continue to thrive in the ever-evolving technology landscape.'</span>\n",
       "</pre>\n"
      ],
      "text/plain": [
       "\u001b[32m'In the contemporary business landscape, the significance of a robust Code of Business Conduct and Ethics cannot be overstated. This is especially true for multinational technology companies like Baidu Inc., which operate in a rapidly evolving industry that is deeply intertwined with societal values and ethical considerations. This paper aims to delve into the Code of Business Conduct and Ethics of Baidu Inc., providing an overview of the company\\'s ethical framework and its commitment to responsible corporate practices.\\n\\nI. Introduction\\n\\nBaidu Inc., often referred to as the \"Google of China,\" is a leading multinational technology company specializing in artificial intelligence \u001b[0m\u001b[32m(\u001b[0m\u001b[32mAI\u001b[0m\u001b[32m)\u001b[0m\u001b[32m, internet search, and various related services. As a prominent player in the global technology landscape, Baidu is responsible for upholding a strong code of ethics that guides its decision-making processes and operations.\\n\\nII. Baidu Inc.\\'s Code of Business Conduct and Ethics: An Overview\\n\\nBaidu\\'s Code of Business Conduct and Ethics outlines the company\\'s commitment to maintaining the highest standards of professional and ethical conduct. The code applies to all Baidu employees, officers, and directors, ensuring that the company\\'s business practices align with its core values and legal requirements.\\n\\nIII. Key Components of Baidu\\'s Code of Business Conduct and Ethics\\n\\n1. Compliance with Laws, Regulations, and Company Policies: Baidu is committed to adhering to all applicable laws, regulations, and company policies. This includes, but is not limited to, competition law, insider trading laws, and anti-bribery and corruption regulations.\\n2. Conflicts of Interest: Baidu employees are required to disclose and manage any actual or potential conflicts of interest to ensure that their actions do not harm the company or its stakeholders.\\n3. Fair Dealing: Baidu is dedicated to treating all employees, customers, and partners fairly and ethically. This includes fostering a work environment that is free from discrimination and harassment.\\n4. Protection and Proper Use of Company Assets: Baidu employees are expected to protect and use the company\\'s assets, including intellectual property, in a responsible and efficient manner.\\n5. Confidentiality: Baidu is committed to maintaining the confidentiality of its proprietary and confidential information, as well as that of its partners and customers.\\n6. Corporate Opportunities: Employees are prohibited from taking advantage of corporate opportunities for personal gain or diverting such opportunities from Baidu.\\n7. Financial Integrity: Baidu is dedicated to maintaining accurate and transparent financial records, ensuring the integrity of its financial reporting.\\n8. Reporting and Accountability: Employees are encouraged to report any suspected violations of the Code of Business Conduct and Ethics, and the company guarantees that all reports will be handled confidentially and without retaliation.\\n\\nIV. Conclusion\\n\\nBaidu Inc.\\'s Code of Business Conduct and Ethics serves as the backbone of its corporate responsibility framework, ensuring that the company remains committed to ethical business practices and legal compliance. By fostering a culture of integrity, Baidu can maintain the trust of its stakeholders and continue to thrive in the ever-evolving technology landscape.'\u001b[0m\n"
      ]
     },
     "metadata": {},
     "output_type": "display_data"
    }
   ],
   "source": [
    "from llama_index.core.indices.postprocessor import (\n",
    "    MetadataReplacementPostProcessor,\n",
    "    SentenceTransformerRerank,\n",
    ")\n",
    "from llama_index.core.base.llms.base import BaseLLM\n",
    "from llama_index.core.postprocessor.types import BaseNodePostprocessor\n",
    "from llama_index.core.query_engine import RetrieverQueryEngine\n",
    "from llama_index.llms.ollama import Ollama\n",
    "from llama_index.llms.groq import Groq\n",
    "from llama_index.core.response_synthesizers.base import BaseSynthesizer\n",
    "from llama_index.core import get_response_synthesizer\n",
    "from llama_index.core.response_synthesizers.type import ResponseMode\n",
    "from llama_index.core.base.response.schema import RESPONSE_TYPE\n",
    "\n",
    "query_text = \"\"\"What is the \"CODE OF BUSINESS CONDUCT AND ETHICS\" of BAIDU Inc.? \n",
    "    \"\"\"\n",
    "\n",
    "\n",
    "# hypo_gen_model: BaseLLM = Ollama(model=\"gemma:2b-instruct\", temperature=1.5)\n",
    "hypo_gen_model: BaseLLM = Groq(model=\"mixtral-8x7b-32768\", temperature=1.5)\n",
    "hyde_retriever = HyDERetriever(base_retriever, hypo_gen_model)\n",
    "postproc: BaseNodePostprocessor = MetadataReplacementPostProcessor(\n",
    "    target_metadata_key=\"window\"\n",
    ")\n",
    "rerank: BaseNodePostprocessor = SentenceTransformerRerank(\n",
    "    top_n=RERANK_TOP_K, model=\"BAAI/bge-reranker-base\"\n",
    ")\n",
    "response_synthesizer: BaseSynthesizer = get_response_synthesizer(\n",
    "    service_context=service_context,\n",
    "    response_mode=ResponseMode.REFINED,\n",
    ")\n",
    "final_res: RESPONSE_TYPE = await RetrieverQueryEngine(\n",
    "    hyde_retriever,\n",
    "    response_synthesizer=response_synthesizer,\n",
    "    node_postprocessors=[postproc, rerank],\n",
    ").aquery(query_text)"
   ]
  },
  {
   "cell_type": "code",
   "execution_count": 51,
   "metadata": {},
   "outputs": [
    {
     "name": "stdout",
     "output_type": "stream",
     "text": [
      "final_res.response\n"
     ]
    },
    {
     "data": {
      "text/html": [
       "<pre style=\"white-space:pre;overflow-x:auto;line-height:normal;font-family:Menlo,'DejaVu Sans Mono',consolas,'Courier New',monospace\"><span style=\"color: #008000; text-decoration-color: #008000\">'The CODE OF BUSINESS CONDUCT AND ETHICS of Baidu Inc. is a document that applies to all employees, officers, and directors of the company. It contains general guidelines for conducting the business of the company consistent with the highest standards of business ethics.'</span>\n",
       "</pre>\n"
      ],
      "text/plain": [
       "\u001b[32m'The CODE OF BUSINESS CONDUCT AND ETHICS of Baidu Inc. is a document that applies to all employees, officers, and directors of the company. It contains general guidelines for conducting the business of the company consistent with the highest standards of business ethics.'\u001b[0m\n"
      ]
     },
     "metadata": {},
     "output_type": "display_data"
    },
    {
     "data": {
      "text/html": [
       "<p>The <strong>CODE OF BUSINESS CONDUCT AND ETHICS</strong> of Baidu Inc. is a document that applies to all <em>employees, officers, and directors</em> of the company. It contains general guidelines for conducting the business of the company consistent with the highest standards of business ethics.</p>"
      ],
      "text/plain": [
       "<IPython.core.display.HTML object>"
      ]
     },
     "execution_count": 51,
     "metadata": {},
     "output_type": "execute_result"
    }
   ],
   "source": [
    "from IPython.display import HTML\n",
    "from llama_index.llms.groq import Groq\n",
    "from llama_index.llms.ollama import Ollama\n",
    "\n",
    "pretty_print(\"final_res.response\", final_res.response)\n",
    "\n",
    "fmt_model: BaseLLM = Groq(model=\"mixtral-8x7b-32768\", temperature=1.5)\n",
    "#Ollama(model=\"gemma:2b-instruct\", temperature=1.5, request_timeout=120)\n",
    "final_text: str = fmt_model.complete(\n",
    "    f\"\"\"Format the text in HTML with appropriate markup for clarity and organization, bullet points if necessary, and so on.\n",
    "    Do not add any additional information, only format the text.\n",
    "\n",
    "    text: \n",
    "    \n",
    "    {final_res.response}\n",
    "\n",
    "    \"\"\"\n",
    ").text.strip()\n",
    "\n",
    "\n",
    "HTML(final_text)"
   ]
  }
 ],
 "metadata": {
  "kernelspec": {
   "display_name": "machinelearning",
   "language": "python",
   "name": "python3"
  },
  "language_info": {
   "codemirror_mode": {
    "name": "ipython",
    "version": 3
   },
   "file_extension": ".py",
   "mimetype": "text/x-python",
   "name": "python",
   "nbconvert_exporter": "python",
   "pygments_lexer": "ipython3",
   "version": "3.11.5"
  }
 },
 "nbformat": 4,
 "nbformat_minor": 2
}
