{
 "cells": [
  {
   "cell_type": "code",
   "execution_count": 2,
   "metadata": {},
   "outputs": [],
   "source": [
    "from rich.pretty import pprint\n",
    "import torch\n",
    "\n",
    "\n",
    "def pretty_print(title: str = None, content: str = None):\n",
    "    if title is None:\n",
    "        print(content)\n",
    "        return\n",
    "    print(title)\n",
    "    pprint(content)"
   ]
  },
  {
   "cell_type": "markdown",
   "metadata": {},
   "source": [
    "# Image used for try: https://images.app.goo.gl/oqnKNSLtzeN9hvco8"
   ]
  },
  {
   "cell_type": "code",
   "execution_count": 8,
   "metadata": {},
   "outputs": [],
   "source": [
    "device = 'cuda' if torch.cuda.is_available() else 'cpu'"
   ]
  },
  {
   "cell_type": "code",
   "execution_count": 9,
   "metadata": {},
   "outputs": [
    {
     "name": "stderr",
     "output_type": "stream",
     "text": [
      "/Users/zxy/anaconda3/envs/machinelearning/lib/python3.11/site-packages/tqdm/auto.py:21: TqdmWarning: IProgress not found. Please update jupyter and ipywidgets. See https://ipywidgets.readthedocs.io/en/stable/user_install.html\n",
      "  from .autonotebook import tqdm as notebook_tqdm\n"
     ]
    }
   ],
   "source": [
    "from PIL import Image\n",
    "from transformers import BlipProcessor, BlipForConditionalGeneration\n",
    "\n",
    "class ImageDescriber:\n",
    "    def __init__(self, model_name: str, device: str) -> None:\n",
    "        self._device = device\n",
    "\n",
    "        self._processor = BlipProcessor.from_pretrained(model_name)\n",
    "        self._model = BlipForConditionalGeneration.from_pretrained(model_name).to(\n",
    "            device\n",
    "        )\n",
    "\n",
    "    def __call__(self, image_path: str) -> str:\n",
    "        image_obj = Image.open(image_path).convert(\"RGB\")\n",
    "        inputs = self._processor(image_obj, return_tensors=\"pt\").to(self._device)\n",
    "        output = self._model.generate(max_new_tokens=1024, **inputs)\n",
    "        return self._processor.decode(output[0], skip_special_tokens=True)"
   ]
  },
  {
   "cell_type": "code",
   "execution_count": 10,
   "metadata": {},
   "outputs": [
    {
     "data": {
      "text/plain": [
       "'a receipt with a lottoo on it'"
      ]
     },
     "execution_count": 10,
     "metadata": {},
     "output_type": "execute_result"
    }
   ],
   "source": [
    "image_describer = ImageDescriber(\"Salesforce/blip-image-captioning-base\", device)\n",
    "result = image_describer(\"assets/images/Elon-musk-biopic.webp\")   \n",
    "result"
   ]
  },
  {
   "cell_type": "code",
   "execution_count": 11,
   "metadata": {},
   "outputs": [
    {
     "data": {
      "text/plain": [
       "'a close up of a receipt with a price of $ 1, 000'"
      ]
     },
     "execution_count": 11,
     "metadata": {},
     "output_type": "execute_result"
    }
   ],
   "source": [
    "image_describer = ImageDescriber(\"Salesforce/blip-image-captioning-large\", device)\n",
    "result = image_describer(\"assets/images/Elon-musk-biopic.webp\")  \n",
    "result"
   ]
  },
  {
   "cell_type": "code",
   "execution_count": 12,
   "metadata": {},
   "outputs": [
    {
     "data": {
      "text/html": [
       "<pre style=\"white-space:pre;overflow-x:auto;line-height:normal;font-family:Menlo,'DejaVu Sans Mono',consolas,'Courier New',monospace\"><span style=\"font-weight: bold\">&lt;</span><span style=\"color: #ff00ff; text-decoration-color: #ff00ff; font-weight: bold\">class</span><span style=\"color: #000000; text-decoration-color: #000000\"> </span><span style=\"color: #008000; text-decoration-color: #008000\">'str'</span><span style=\"font-weight: bold\">&gt;</span>\n",
       "</pre>\n"
      ],
      "text/plain": [
       "\u001b[1m<\u001b[0m\u001b[1;95mclass\u001b[0m\u001b[39m \u001b[0m\u001b[32m'str'\u001b[0m\u001b[1m>\u001b[0m\n"
      ]
     },
     "metadata": {},
     "output_type": "display_data"
    }
   ],
   "source": [
    "pprint(type(result))"
   ]
  },
  {
   "cell_type": "markdown",
   "metadata": {},
   "source": [
    "import base64\n",
    "\n",
    "from langchain.prompts import ChatPromptTemplate\n",
    "from langchain.schema.output_parser import StrOutputParser\n",
    "from langchain_community.llms.ollama import Ollama\n",
    "from langchain_core.messages import HumanMessage, SystemMessage\n",
    "\n",
    "with open(\"assets/images/receipt/WechatIMG147.jpg\", \"rb\") as image_file:\n",
    "    base64_image = base64.b64encode(image_file.read()).decode(\"utf-8\")\n",
    "    prompt = ChatPromptTemplate.from_messages(\n",
    "        [\n",
    "            SystemMessage(\n",
    "                content=\"\"\"As a useful aaistant you provide the user with the receipt data information related to what they have consumed, bought, and paid for. \n",
    "                    Include the product name, price, and quantity if provided. \n",
    "                    Avoid any personal information, locations, addresses (even store's), sensitive data, and numbers. \n",
    "                    ONLY format the response in a reasonable TABLE in HTML format, no other paragraphs, phgrases or sentences are allowed.\n",
    "                    Above the table, give the store or the brand name.\n",
    "                    \"\"\",\n",
    "            ),\n",
    "            # HumanMessage(\n",
    "            #     content=[\n",
    "            #         {\n",
    "            #             \"type\": \"image_url\",\n",
    "            #             \"image_url\": {\n",
    "            #                 \"url\": f\"data:image/jpeg;base64,{base64_image}\",\n",
    "            #             },\n",
    "            #         },\n",
    "            #     ]\n",
    "            # ),\n",
    "        ]\n",
    "    )\n",
    "    model = Ollama(\n",
    "        base_url=\"http://localhost:11434\",\n",
    "        model=\"llava\",\n",
    "        temperature=0,\n",
    "    )\n",
    "    res = (prompt | model.bind(images=[base64_image]) | StrOutputParser()).invoke({})\n",
    "    #res = (prompt | model | StrOutputParser()).invoke({\"base64_image\": base64_image})\n",
    "    display(HTML(res))"
   ]
  },
  {
   "cell_type": "code",
   "execution_count": null,
   "metadata": {},
   "outputs": [],
   "source": [
    "import base64\n",
    "from os import listdir\n",
    "from os.path import isfile, join\n",
    "\n",
    "from IPython.display import Markdown,HTML\n",
    "from langchain.prompts import ChatPromptTemplate\n",
    "from langchain.schema.output_parser import StrOutputParser\n",
    "from langchain_core.messages import HumanMessage, SystemMessage\n",
    "from langchain_openai import ChatOpenAI\n",
    "from tqdm.asyncio import tqdm\n",
    "\n",
    "model = ChatOpenAI(\n",
    "    model=\"gpt-4-vision-preview\", temperature=0, max_tokens=1024 * 2\n",
    ")\n",
    "\n",
    "async def read_receipt(image_path: str) -> str:\n",
    "    with open(image_path, \"rb\") as image_file:\n",
    "        base64_image = base64.b64encode(image_file.read()).decode(\"utf-8\")\n",
    "        # pretty_print(\"base64_image\", base64_image)\n",
    "        prompt = ChatPromptTemplate.from_messages(\n",
    "            [\n",
    "                SystemMessage(\n",
    "                    content=\"\"\"As a useful aaistant you provide the user with the receipt data information related to what they have consumed, bought, and paid for. \n",
    "                    Include the product name, price, and quantity if provided. \n",
    "                    Avoid any personal information, locations, addresses (even store's), sensitive data, and numbers. \n",
    "                    ONLY format the response in a reasonable TABLE in HTML format, no other paragraphs, phgrases or sentences are allowed.\n",
    "                    In the table, the first row, in bold font, is the summe of the total payment, afterwards the product name, price, and quantity if provided.\n",
    "                    Above the table, give the store or the brand name.\n",
    "                    \"\"\",\n",
    "                ),\n",
    "                HumanMessage(\n",
    "                    content=[\n",
    "                        {\n",
    "                            \"type\": \"image_url\",\n",
    "                            \"image_url\": {\n",
    "                                \"url\": f\"data:image/jpeg;base64,{base64_image}\",\n",
    "                            },\n",
    "                        },\n",
    "                    ]\n",
    "                ),\n",
    "            ]\n",
    "        )\n",
    "\n",
    "        description = (prompt | model | StrOutputParser()).invoke(\n",
    "            {\"base64_image\": base64_image}\n",
    "        )\n",
    "\n",
    "        # pretty_print(\"description\", description)\n",
    "        return description\n",
    "\n",
    "\n",
    "image_dir = \"assets/images/receipt\"\n",
    "image_files = [f for f in listdir(image_dir) if isfile(join(image_dir, f))]\n",
    "tasks = list(\n",
    "    map(lambda image_file: read_receipt(f\"{image_dir}/{image_file}\"), image_files)\n",
    ")\n",
    "descriptions = await tqdm.gather(*tasks)\n"
   ]
  },
  {
   "cell_type": "code",
   "execution_count": 3,
   "metadata": {},
   "outputs": [
    {
     "name": "stdout",
     "output_type": "stream",
     "text": [
      "image\n"
     ]
    },
    {
     "data": {
      "text/html": [
       "<pre style=\"white-space:pre;overflow-x:auto;line-height:normal;font-family:Menlo,'DejaVu Sans Mono',consolas,'Courier New',monospace\"><span style=\"color: #008000; text-decoration-color: #008000\">'assets/images/receipt/WechatIMG144.jpg'</span>\n",
       "</pre>\n"
      ],
      "text/plain": [
       "\u001b[32m'assets/images/receipt/WechatIMG144.jpg'\u001b[0m\n"
      ]
     },
     "metadata": {},
     "output_type": "display_data"
    },
    {
     "data": {
      "text/html": [
       "Burger King\n",
       "\n",
       "<table>\n",
       "  <tr>\n",
       "    <td><b>Total</b></td>\n",
       "    <td><b>EUR 24,07</b></td>\n",
       "  </tr>\n",
       "</table>"
      ],
      "text/plain": [
       "<IPython.core.display.HTML object>"
      ]
     },
     "metadata": {},
     "output_type": "display_data"
    },
    {
     "name": "stdout",
     "output_type": "stream",
     "text": [
      "image\n"
     ]
    },
    {
     "data": {
      "text/html": [
       "<pre style=\"white-space:pre;overflow-x:auto;line-height:normal;font-family:Menlo,'DejaVu Sans Mono',consolas,'Courier New',monospace\"><span style=\"color: #008000; text-decoration-color: #008000\">'assets/images/receipt/WechatIMG145.jpg'</span>\n",
       "</pre>\n"
      ],
      "text/plain": [
       "\u001b[32m'assets/images/receipt/WechatIMG145.jpg'\u001b[0m\n"
      ]
     },
     "metadata": {},
     "output_type": "display_data"
    },
    {
     "data": {
      "text/html": [
       "TotalEnergies Tankstelle\n",
       "\n",
       "<table>\n",
       "  <tr>\n",
       "    <td><b>Total</b></td>\n",
       "    <td><b>68,47 EUR</b></td>\n",
       "  </tr>\n",
       "  <tr>\n",
       "    <td>Super</td>\n",
       "    <td>1,879 EUR/Liter</td>\n",
       "    <td>36,44 Liter</td>\n",
       "  </tr>\n",
       "  <tr>\n",
       "    <td>MWST. A</td>\n",
       "    <td>19,00%</td>\n",
       "    <td>10,93 EUR</td>\n",
       "  </tr>\n",
       "  <tr>\n",
       "    <td>Summe Netto</td>\n",
       "    <td></td>\n",
       "    <td>57,54 EUR</td>\n",
       "  </tr>\n",
       "</table>"
      ],
      "text/plain": [
       "<IPython.core.display.HTML object>"
      ]
     },
     "metadata": {},
     "output_type": "display_data"
    },
    {
     "name": "stdout",
     "output_type": "stream",
     "text": [
      "image\n"
     ]
    },
    {
     "data": {
      "text/html": [
       "<pre style=\"white-space:pre;overflow-x:auto;line-height:normal;font-family:Menlo,'DejaVu Sans Mono',consolas,'Courier New',monospace\"><span style=\"color: #008000; text-decoration-color: #008000\">'assets/images/receipt/WechatIMG147.jpg'</span>\n",
       "</pre>\n"
      ],
      "text/plain": [
       "\u001b[32m'assets/images/receipt/WechatIMG147.jpg'\u001b[0m\n"
      ]
     },
     "metadata": {},
     "output_type": "display_data"
    },
    {
     "data": {
      "text/html": [
       "Kaufland\n",
       "\n",
       "<table>\n",
       "  <tr>\n",
       "    <td><b>Total</b></td>\n",
       "    <td><b>33,45 EUR</b></td>\n",
       "  </tr>\n",
       "  <tr>\n",
       "    <td>Banane Chiquita</td>\n",
       "    <td>1,68</td>\n",
       "  </tr>\n",
       "  <tr>\n",
       "    <td>E. Kuklapytus Ment.</td>\n",
       "    <td>0,69</td>\n",
       "  </tr>\n",
       "  <tr>\n",
       "    <td>Broccoli 500g</td>\n",
       "    <td>0,99</td>\n",
       "  </tr>\n",
       "  <tr>\n",
       "    <td>Lauchzwiebeln</td>\n",
       "    <td>0,49</td>\n",
       "  </tr>\n",
       "  <tr>\n",
       "    <td>Lachsfilets</td>\n",
       "    <td>11,98</td>\n",
       "  </tr>\n",
       "  <tr>\n",
       "    <td>Mü. Milchreis</td>\n",
       "    <td>2,67</td>\n",
       "  </tr>\n",
       "  <tr>\n",
       "    <td>Knoblauch</td>\n",
       "    <td>1,99</td>\n",
       "  </tr>\n",
       "  <tr>\n",
       "    <td>Eier Bodenhaltung</td>\n",
       "    <td>1,99</td>\n",
       "  </tr>\n",
       "  <tr>\n",
       "    <td>Hohes C Vitamin D</td>\n",
       "    <td>2,99</td>\n",
       "  </tr>\n",
       "  <tr>\n",
       "    <td>Beerenmix 150g</td>\n",
       "    <td>2,79</td>\n",
       "  </tr>\n",
       "  <tr>\n",
       "    <td>Kerrygold extra</td>\n",
       "    <td>2,99</td>\n",
       "  </tr>\n",
       "  <tr>\n",
       "    <td>Mini-Pak Choi 300g</td>\n",
       "    <td>2,58</td>\n",
       "  </tr>\n",
       "  <tr>\n",
       "    <td>Tomate, Rispen</td>\n",
       "    <td>0,71</td>\n",
       "  </tr>\n",
       "</table>"
      ],
      "text/plain": [
       "<IPython.core.display.HTML object>"
      ]
     },
     "metadata": {},
     "output_type": "display_data"
    },
    {
     "name": "stdout",
     "output_type": "stream",
     "text": [
      "image\n"
     ]
    },
    {
     "data": {
      "text/html": [
       "<pre style=\"white-space:pre;overflow-x:auto;line-height:normal;font-family:Menlo,'DejaVu Sans Mono',consolas,'Courier New',monospace\"><span style=\"color: #008000; text-decoration-color: #008000\">'assets/images/receipt/WechatIMG142.jpg'</span>\n",
       "</pre>\n"
      ],
      "text/plain": [
       "\u001b[32m'assets/images/receipt/WechatIMG142.jpg'\u001b[0m\n"
      ]
     },
     "metadata": {},
     "output_type": "display_data"
    },
    {
     "data": {
      "text/html": [
       "Kaufland\n",
       "\n",
       "<table>\n",
       "  <tr>\n",
       "    <td><b>Total</b></td>\n",
       "    <td><b>8,66 EUR</b></td>\n",
       "  </tr>\n",
       "  <tr>\n",
       "    <td>Leergut Getränke</td>\n",
       "    <td>-1,90</td>\n",
       "  </tr>\n",
       "  <tr>\n",
       "    <td>Champ. braun 400g</td>\n",
       "    <td>0,80</td>\n",
       "  </tr>\n",
       "  <tr>\n",
       "    <td>S-Hackfleisch</td>\n",
       "    <td>2,70</td>\n",
       "  </tr>\n",
       "  <tr>\n",
       "    <td>Edamame</td>\n",
       "    <td>1,79</td>\n",
       "  </tr>\n",
       "  <tr>\n",
       "    <td>K-Pur P.Geschnetzeltes</td>\n",
       "    <td>3,99</td>\n",
       "  </tr>\n",
       "  <tr>\n",
       "    <td>Chinakohl</td>\n",
       "    <td>1,28</td>\n",
       "  </tr>\n",
       "  <tr>\n",
       "    <td>0.856 kg</td>\n",
       "    <td></td>\n",
       "  </tr>\n",
       "</table>"
      ],
      "text/plain": [
       "<IPython.core.display.HTML object>"
      ]
     },
     "metadata": {},
     "output_type": "display_data"
    },
    {
     "name": "stdout",
     "output_type": "stream",
     "text": [
      "image\n"
     ]
    },
    {
     "data": {
      "text/html": [
       "<pre style=\"white-space:pre;overflow-x:auto;line-height:normal;font-family:Menlo,'DejaVu Sans Mono',consolas,'Courier New',monospace\"><span style=\"color: #008000; text-decoration-color: #008000\">'assets/images/receipt/WechatIMG143.jpg'</span>\n",
       "</pre>\n"
      ],
      "text/plain": [
       "\u001b[32m'assets/images/receipt/WechatIMG143.jpg'\u001b[0m\n"
      ]
     },
     "metadata": {},
     "output_type": "display_data"
    },
    {
     "data": {
      "text/html": [
       "KFC\n",
       "\n",
       "<table>\n",
       "  <tr>\n",
       "    <td><b>Total</b></td>\n",
       "    <td><b>€16.99</b></td>\n",
       "  </tr>\n",
       "  <tr>\n",
       "    <td>Ch n Sh 18er HW</td>\n",
       "    <td>€16.99</td>\n",
       "  </tr>\n",
       "  <tr>\n",
       "    <td>18 Hot Wings</td>\n",
       "    <td></td>\n",
       "  </tr>\n",
       "  <tr>\n",
       "    <td>Uptrade Bucket</td>\n",
       "    <td></td>\n",
       "  </tr>\n",
       "  <tr>\n",
       "    <td>Subtotal</td>\n",
       "    <td>€15.88</td>\n",
       "  </tr>\n",
       "  <tr>\n",
       "    <td>VAT (7%)</td>\n",
       "    <td>€1.11</td>\n",
       "  </tr>\n",
       "</table>"
      ],
      "text/plain": [
       "<IPython.core.display.HTML object>"
      ]
     },
     "metadata": {},
     "output_type": "display_data"
    }
   ],
   "source": [
    "for image_file, description in zip(image_files, descriptions):\n",
    "    pretty_print(\"image\", f\"{image_dir}/{image_file}\")\n",
    "    display(HTML(description))"
   ]
  }
 ],
 "metadata": {
  "kernelspec": {
   "display_name": "machinelearning",
   "language": "python",
   "name": "python3"
  },
  "language_info": {
   "codemirror_mode": {
    "name": "ipython",
    "version": 3
   },
   "file_extension": ".py",
   "mimetype": "text/x-python",
   "name": "python",
   "nbconvert_exporter": "python",
   "pygments_lexer": "ipython3",
   "version": "3.11.5"
  },
  "orig_nbformat": 4
 },
 "nbformat": 4,
 "nbformat_minor": 2
}
