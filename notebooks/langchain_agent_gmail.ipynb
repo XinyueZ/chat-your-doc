{
 "cells": [
  {
   "cell_type": "code",
   "execution_count": 35,
   "metadata": {},
   "outputs": [],
   "source": [
    "import base64\n",
    "from os import listdir\n",
    "from os.path import isfile, join\n",
    "from typing import Dict, List, Literal, Optional, TypedDict, Union\n",
    "\n",
    "from IPython.display import HTML, Markdown\n",
    "from langchain.agents import AgentType, initialize_agent\n",
    "from langchain.output_parsers import ResponseSchema, StructuredOutputParser\n",
    "from langchain.prompts import ChatPromptTemplate\n",
    "from langchain.schema.output_parser import StrOutputParser\n",
    "from langchain_community.agent_toolkits import GmailToolkit\n",
    "from langchain_community.tools.gmail.utils import (build_resource_service,\n",
    "                                                   get_gmail_credentials)\n",
    "from langchain_core.messages import HumanMessage, SystemMessage\n",
    "from langchain_openai import ChatOpenAI\n",
    "from langgraph.graph import END, StateGraph\n",
    "from rich.pretty import pprint\n",
    "\n",
    "\n",
    "def pretty_print(title: str = None, content: str = None):\n",
    "    if title is None:\n",
    "        print(content)\n",
    "        return\n",
    "    print(title)\n",
    "    pprint(content)"
   ]
  },
  {
   "cell_type": "code",
   "execution_count": 36,
   "metadata": {},
   "outputs": [
    {
     "data": {
      "text/plain": [
       "[GmailCreateDraft(api_resource=<googleapiclient.discovery.Resource object at 0x128486ed0>),\n",
       " GmailSendMessage(api_resource=<googleapiclient.discovery.Resource object at 0x128486ed0>),\n",
       " GmailSearch(api_resource=<googleapiclient.discovery.Resource object at 0x128486ed0>),\n",
       " GmailGetMessage(api_resource=<googleapiclient.discovery.Resource object at 0x128486ed0>),\n",
       " GmailGetThread(api_resource=<googleapiclient.discovery.Resource object at 0x128486ed0>)]"
      ]
     },
     "execution_count": 36,
     "metadata": {},
     "output_type": "execute_result"
    }
   ],
   "source": [
    "credentials = get_gmail_credentials(\n",
    "    token_file=\"token.json\",\n",
    "    scopes=[\"https://mail.google.com/\"],\n",
    "    client_secrets_file=\"tmp/credentials.json\",\n",
    ")\n",
    "api_resource = build_resource_service(credentials=credentials)\n",
    "toolkit = GmailToolkit(api_resource=api_resource)\n",
    "tools = toolkit.get_tools()\n",
    "\n",
    "tools"
   ]
  },
  {
   "cell_type": "code",
   "execution_count": 37,
   "metadata": {},
   "outputs": [
    {
     "data": {
      "text/plain": [
       "AgentExecutor(verbose=True, tags=['structured-chat-zero-shot-react-description'], agent=StructuredChatAgent(llm_chain=LLMChain(prompt=ChatPromptTemplate(input_variables=['agent_scratchpad', 'input'], messages=[SystemMessagePromptTemplate(prompt=PromptTemplate(input_variables=[], template='Respond to the human as helpfully and accurately as possible. You have access to the following tools:\\n\\ncreate_gmail_draft: Use this tool to create a draft email with the provided message fields., args: {{\\'message\\': {{\\'title\\': \\'Message\\', \\'description\\': \\'The message to include in the draft.\\', \\'type\\': \\'string\\'}}, \\'to\\': {{\\'title\\': \\'To\\', \\'description\\': \\'The list of recipients.\\', \\'type\\': \\'array\\', \\'items\\': {{\\'type\\': \\'string\\'}}}}, \\'subject\\': {{\\'title\\': \\'Subject\\', \\'description\\': \\'The subject of the message.\\', \\'type\\': \\'string\\'}}, \\'cc\\': {{\\'title\\': \\'Cc\\', \\'description\\': \\'The list of CC recipients.\\', \\'type\\': \\'array\\', \\'items\\': {{\\'type\\': \\'string\\'}}}}, \\'bcc\\': {{\\'title\\': \\'Bcc\\', \\'description\\': \\'The list of BCC recipients.\\', \\'type\\': \\'array\\', \\'items\\': {{\\'type\\': \\'string\\'}}}}}}\\nsend_gmail_message: Use this tool to send email messages. The input is the message, recipients, args: {{\\'message\\': {{\\'title\\': \\'Message\\', \\'description\\': \\'The message to send.\\', \\'type\\': \\'string\\'}}, \\'to\\': {{\\'title\\': \\'To\\', \\'description\\': \\'The list of recipients.\\', \\'anyOf\\': [{{\\'type\\': \\'string\\'}}, {{\\'type\\': \\'array\\', \\'items\\': {{\\'type\\': \\'string\\'}}}}]}}, \\'subject\\': {{\\'title\\': \\'Subject\\', \\'description\\': \\'The subject of the message.\\', \\'type\\': \\'string\\'}}, \\'cc\\': {{\\'title\\': \\'Cc\\', \\'description\\': \\'The list of CC recipients.\\', \\'anyOf\\': [{{\\'type\\': \\'string\\'}}, {{\\'type\\': \\'array\\', \\'items\\': {{\\'type\\': \\'string\\'}}}}]}}, \\'bcc\\': {{\\'title\\': \\'Bcc\\', \\'description\\': \\'The list of BCC recipients.\\', \\'anyOf\\': [{{\\'type\\': \\'string\\'}}, {{\\'type\\': \\'array\\', \\'items\\': {{\\'type\\': \\'string\\'}}}}]}}}}\\nsearch_gmail: Use this tool to search for email messages or threads. The input must be a valid Gmail query. The output is a JSON list of the requested resource., args: {{\\'query\\': {{\\'title\\': \\'Query\\', \\'description\\': \\'The Gmail query. Example filters include from:sender, to:recipient, subject:subject, -filtered_term, in:folder, is:important|read|starred, after:year/mo/date, before:year/mo/date, label:label_name \"exact phrase\". Search newer/older than using d (day), m (month), and y (year): newer_than:2d, older_than:1y. Attachments with extension example: filename:pdf. Multiple term matching example: from:amy OR from:david.\\', \\'type\\': \\'string\\'}}, \\'resource\\': {{\\'description\\': \\'Whether to search for threads or messages.\\', \\'default\\': \\'messages\\', \\'allOf\\': [{{\\'$ref\\': \\'#/definitions/Resource\\'}}]}}, \\'max_results\\': {{\\'title\\': \\'Max Results\\', \\'description\\': \\'The maximum number of results to return.\\', \\'default\\': 10, \\'type\\': \\'integer\\'}}}}\\nget_gmail_message: Use this tool to fetch an email by message ID. Returns the thread ID, snippet, body, subject, and sender., args: {{\\'message_id\\': {{\\'title\\': \\'Message Id\\', \\'description\\': \\'The unique ID of the email message, retrieved from a search.\\', \\'type\\': \\'string\\'}}}}\\nget_gmail_thread: Use this tool to search for email messages. The input must be a valid Gmail query. The output is a JSON list of messages., args: {{\\'thread_id\\': {{\\'title\\': \\'Thread Id\\', \\'description\\': \\'The thread ID.\\', \\'type\\': \\'string\\'}}}}\\n\\nUse a json blob to specify a tool by providing an action key (tool name) and an action_input key (tool input).\\n\\nValid \"action\" values: \"Final Answer\" or create_gmail_draft, send_gmail_message, search_gmail, get_gmail_message, get_gmail_thread\\n\\nProvide only ONE action per $JSON_BLOB, as shown:\\n\\n```\\n{{\\n  \"action\": $TOOL_NAME,\\n  \"action_input\": $INPUT\\n}}\\n```\\n\\nFollow this format:\\n\\nQuestion: input question to answer\\nThought: consider previous and subsequent steps\\nAction:\\n```\\n$JSON_BLOB\\n```\\nObservation: action result\\n... (repeat Thought/Action/Observation N times)\\nThought: I know what to respond\\nAction:\\n```\\n{{\\n  \"action\": \"Final Answer\",\\n  \"action_input\": \"Final response to human\"\\n}}\\n```\\n\\nBegin! Reminder to ALWAYS respond with a valid json blob of a single action. Use tools if necessary. Respond directly if appropriate. Format is Action:```$JSON_BLOB```then Observation:.\\nThought:')), HumanMessagePromptTemplate(prompt=PromptTemplate(input_variables=['agent_scratchpad', 'input'], template='{input}\\n\\n{agent_scratchpad}'))]), llm=ChatOpenAI(client=<openai.resources.chat.completions.Completions object at 0x1288067d0>, async_client=<openai.resources.chat.completions.AsyncCompletions object at 0x12884a290>, model_name='gpt-4-vision-preview', temperature=0.0, openai_api_key=SecretStr('**********'), openai_proxy='', max_tokens=2048)), output_parser=StructuredChatOutputParserWithRetries(output_fixing_parser=OutputFixingParser(parser=StructuredChatOutputParser(), retry_chain=LLMChain(prompt=PromptTemplate(input_variables=['completion', 'error', 'instructions'], template='Instructions:\\n--------------\\n{instructions}\\n--------------\\nCompletion:\\n--------------\\n{completion}\\n--------------\\n\\nAbove, the Completion did not satisfy the constraints given in the Instructions.\\nError:\\n--------------\\n{error}\\n--------------\\n\\nPlease try again. Please only respond with an answer that satisfies the constraints laid out in the Instructions:'), llm=ChatOpenAI(client=<openai.resources.chat.completions.Completions object at 0x1288067d0>, async_client=<openai.resources.chat.completions.AsyncCompletions object at 0x12884a290>, model_name='gpt-4-vision-preview', temperature=0.0, openai_api_key=SecretStr('**********'), openai_proxy='', max_tokens=2048)))), allowed_tools=['create_gmail_draft', 'send_gmail_message', 'search_gmail', 'get_gmail_message', 'get_gmail_thread']), tools=[GmailCreateDraft(api_resource=<googleapiclient.discovery.Resource object at 0x128486ed0>), GmailSendMessage(api_resource=<googleapiclient.discovery.Resource object at 0x128486ed0>), GmailSearch(api_resource=<googleapiclient.discovery.Resource object at 0x128486ed0>), GmailGetMessage(api_resource=<googleapiclient.discovery.Resource object at 0x128486ed0>), GmailGetThread(api_resource=<googleapiclient.discovery.Resource object at 0x128486ed0>)])"
      ]
     },
     "execution_count": 37,
     "metadata": {},
     "output_type": "execute_result"
    }
   ],
   "source": [
    "model = ChatOpenAI(\n",
    "    model=\"gpt-4-vision-preview\", temperature=0, max_tokens=1024 * 2\n",
    ")\n",
    "\n",
    "#from langchain_community.llms.ollama import Ollama\n",
    "# llm = Ollama(\n",
    "#     base_url=\"http://localhost:11434\",\n",
    "#     model=\"gemma:2b\",\n",
    "#     temperature=0, \n",
    "# )\n",
    "\n",
    "agent = initialize_agent(tools=tools, llm=model, agent=AgentType.STRUCTURED_CHAT_ZERO_SHOT_REACT_DESCRIPTION, verbose=True)\n",
    "agent"
   ]
  },
  {
   "cell_type": "code",
   "execution_count": 38,
   "metadata": {},
   "outputs": [
    {
     "name": "stdout",
     "output_type": "stream",
     "text": [
      "\n",
      "\n",
      "\u001b[1m> Entering new AgentExecutor chain...\u001b[0m\n",
      "\u001b[32;1m\u001b[1;3mAction:\n",
      "```json\n",
      "{\n",
      "  \"action\": \"send_gmail_message\",\n",
      "  \"action_input\": {\n",
      "    \"to\": \"chris.at.de@gmail.com\",\n",
      "    \"subject\": \"Hier ist was neues, bitte aufpassen\",\n",
      "    \"message\": \"Hallo, Xinyue, es ist eine gute Nachrichten, wir müssen morgen nicht zu früh aufstehen.\"\n",
      "  }\n",
      "}\n",
      "```\u001b[0m\n",
      "Observation: \u001b[33;1m\u001b[1;3mMessage sent. Message Id: 18dec4f946bf05eb\u001b[0m\n",
      "Thought:\u001b[32;1m\u001b[1;3mAction:\n",
      "```\n",
      "{\n",
      "  \"action\": \"Final Answer\",\n",
      "  \"action_input\": \"The email has been successfully sent to chris.at.de@gmail.com with the subject 'Hier ist was neues, bitte aufpassen' and the message 'Hallo, Xinyue, es ist eine gute Nachrichten, wir müssen morgen nicht zu früh aufstehen.'\"\n",
      "}\n",
      "```\u001b[0m\n",
      "\n",
      "\u001b[1m> Finished chain.\u001b[0m\n"
     ]
    },
    {
     "data": {
      "text/plain": [
       "{'input': 'Send an email \\n\\n             To: chris.at.de@gmail.com\\n\\n             Subject: Hier ist was neues, bitte aufpassen \\n             \\n             Message: Hallo, Xinyue, es ist eine gute Nachrichten, wir müssen morgen nicht zu früh aufstehen.\\n',\n",
       " 'output': \"The email has been successfully sent to chris.at.de@gmail.com with the subject 'Hier ist was neues, bitte aufpassen' and the message 'Hallo, Xinyue, es ist eine gute Nachrichten, wir müssen morgen nicht zu früh aufstehen.'\"}"
      ]
     },
     "execution_count": 38,
     "metadata": {},
     "output_type": "execute_result"
    }
   ],
   "source": [
    "agent.invoke(\"\"\"Send an email \n",
    "\n",
    "             To: chris.at.de@gmail.com\n",
    "\n",
    "             Subject: Hier ist was neues, bitte aufpassen \n",
    "             \n",
    "             Message: Hallo, Xinyue, es ist eine gute Nachrichten, wir müssen morgen nicht zu früh aufstehen.\n",
    "\"\"\")"
   ]
  },
  {
   "cell_type": "markdown",
   "metadata": {},
   "source": [
    "# Use LangGraph to handle in batch"
   ]
  },
  {
   "cell_type": "code",
   "execution_count": 39,
   "metadata": {},
   "outputs": [],
   "source": [
    "structured_output_parser = StructuredOutputParser.from_response_schemas(\n",
    "            [\n",
    "                ResponseSchema(\n",
    "                    name=\"subject\",\n",
    "                    description=\"Subject of the email\",\n",
    "                    type=\"string\",\n",
    "                ),\n",
    "                ResponseSchema(\n",
    "                    name=\"message\",\n",
    "                    description=\"Subject of the email\",\n",
    "                    type=\"string\",\n",
    "                ),\n",
    "            ]\n",
    "        )"
   ]
  },
  {
   "cell_type": "code",
   "execution_count": 40,
   "metadata": {},
   "outputs": [],
   "source": [
    "class GraphState(TypedDict):\n",
    "    mailto: Optional[str] = None\n",
    "    subject: Optional[str] = None\n",
    "    recepit_stack: Optional[List[str]] = None # A image file path list of the receipts\n",
    "    current_recepit_pos:Optional[int]=None # The position of the current receipt to handle\n",
    "    receipt_description: Optional[str] = None # The description of the read receipt\n",
    "    results: Optional[Dict[str, Dict[str, str]]] = None # The results of the operations, receipt path and Dict[str, str]: the content of the mail: subject and message."
   ]
  },
  {
   "cell_type": "code",
   "execution_count": 41,
   "metadata": {},
   "outputs": [],
   "source": [
    "def pop_recepit_stack(state: StateGraph) -> Dict[str, str]:\n",
    "    current_recepit_pos = state[\"current_recepit_pos\"]\n",
    "    if current_recepit_pos is None:\n",
    "        current_recepit_pos = -1\n",
    "    return {\"current_recepit_pos\": current_recepit_pos + 1}\n",
    "\n",
    "\n",
    "def read_receipt(state: StateGraph) -> Dict[str, str]:\n",
    "    recepit_stack = state[\"recepit_stack\"]\n",
    "    current_recepit_pos = state[\"current_recepit_pos\"]\n",
    "    image_path = recepit_stack[current_recepit_pos]\n",
    "\n",
    "    with open(image_path, \"rb\") as image_file:\n",
    "        base64_image = base64.b64encode(image_file.read()).decode(\"utf-8\")\n",
    "        prompt = ChatPromptTemplate.from_messages(\n",
    "            [\n",
    "                SystemMessage(\n",
    "                    content=\"\"\"As a useful assistant you provide the user with the receipt data information as an email message related to what they have consumed, bought, and paid for. \n",
    "                    Include the product name, price, and quantity if provided. \n",
    "\n",
    "                    Avoid any personal information, locations, addresses (even store's), sensitive data, and numbers in the email message.\n",
    "                    \n",
    "                    ONLY format the response in a reasonable TABLE in HTML format (Email compatible HTML), no other paragraphs, phgrases or sentences are allowed.\n",
    "                   \n",
    "                    In the table, the first row, in bold font, is the summe of the total payment, afterwards the product name, price, and quantity if provided.\n",
    "                    \n",
    "                    Above the table, give the store or the brand name.\n",
    "\n",
    "                    The subject of the mail should be:\n",
    "                    \"Receipt from [store or brand name], payment date: [date]\"\n",
    "                    When the date is unknown, then show \"unknown\" instead of the date.\n",
    "\n",
    "                    The final result should be json:\n",
    "\n",
    "                    subject: The email subject\n",
    "                    message: The email message\n",
    "                    \n",
    "                    \"\"\",\n",
    "                ),\n",
    "                HumanMessage(\n",
    "                    content=[\n",
    "                        {\n",
    "                            \"type\": \"image_url\",\n",
    "                            \"image_url\": {\n",
    "                                \"url\": f\"data:image/jpeg;base64,{base64_image}\",\n",
    "                            },\n",
    "                        },\n",
    "                    ]\n",
    "                ),\n",
    "            ],\n",
    "        ).partial(\n",
    "            format_instructions=structured_output_parser.get_format_instructions()\n",
    "        )\n",
    "\n",
    "        res = (prompt | model | StrOutputParser()).invoke(\n",
    "            {\"base64_image\": base64_image}\n",
    "        )\n",
    "\n",
    "        structured_res = structured_output_parser.parse(res)\n",
    "\n",
    "        description = structured_res[\"message\"]\n",
    "        subject = structured_res[\"subject\"]\n",
    "\n",
    "        display(HTML(subject))\n",
    "        display(HTML(description))\n",
    "        return {\"receipt_description\": description, \"subject\": subject}\n",
    "\n",
    "\n",
    "def send_email(state: StateGraph) -> Dict[str, str]:\n",
    "    receipt_description = state[\"receipt_description\"]\n",
    "    mailto = state[\"mailto\"]\n",
    "    subject = state[\"subject\"]\n",
    "    pretty_print(\"mailto\", mailto)\n",
    "    agent.invoke(\n",
    "        f\"\"\"Send an email\n",
    "\n",
    "                 To: {mailto}\n",
    "\n",
    "                 Subject: {subject}\n",
    "\n",
    "                 Message: {receipt_description}\n",
    "    \"\"\"\n",
    "    )\n",
    "\n",
    "    recepit_stack = state[\"recepit_stack\"]\n",
    "    current_recepit_pos = state[\"current_recepit_pos\"]\n",
    "    image_path = recepit_stack[current_recepit_pos]\n",
    "\n",
    "    if state[\"results\"] is None:\n",
    "        state[\"results\"] = {}\n",
    "\n",
    "    state[\"results\"][image_path] = {\n",
    "        \"subject\": subject,\n",
    "        \"receipt_description\": receipt_description,\n",
    "    }\n",
    "    return {\"results\": state[\"results\"], \"receipt_description\": None}\n",
    "\n",
    "\n",
    "def continue_next(state: StateGraph) -> Literal[\"to_read_receipt\", \"to_finish\"]:\n",
    "    recepit_stack = state[\"recepit_stack\"]\n",
    "    length = len(recepit_stack)\n",
    "    current_recepit_pos = state[\"current_recepit_pos\"]\n",
    "    if current_recepit_pos < length:\n",
    "        return \"to_read_receipt\"\n",
    "    else:\n",
    "        return \"to_finish\"\n",
    "\n",
    "\n",
    "workflow = StateGraph(GraphState)\n",
    "\n",
    "workflow.add_node(\"pop_recepit_stack\", pop_recepit_stack)\n",
    "workflow.add_node(\"read_receipt\", read_receipt)\n",
    "workflow.add_node(\"send_email\", send_email)\n",
    "\n",
    "\n",
    "workflow.set_entry_point(\"pop_recepit_stack\")\n",
    "\n",
    "workflow.add_edge(\"read_receipt\", \"send_email\")\n",
    "workflow.add_edge(\"send_email\", \"pop_recepit_stack\")\n",
    "\n",
    "\n",
    "workflow.add_conditional_edges(\n",
    "    \"pop_recepit_stack\",  # start node name\n",
    "    continue_next,  # decision of what to do next AFTER start-node, the input is the output of the start-node\n",
    "    {  # keys: return of continue_next, values: next node to continue\n",
    "        \"to_read_receipt\": \"read_receipt\",\n",
    "        \"to_finish\": END,\n",
    "    },\n",
    ")\n",
    "\n",
    "app = workflow.compile()"
   ]
  },
  {
   "cell_type": "code",
   "execution_count": 42,
   "metadata": {},
   "outputs": [
    {
     "data": {
      "text/html": [
       "Receipt from Burger King, payment date: 25.02.24"
      ],
      "text/plain": [
       "<IPython.core.display.HTML object>"
      ]
     },
     "metadata": {},
     "output_type": "display_data"
    },
    {
     "data": {
      "text/html": [
       "<table style='width:100%;'><tr><td><strong>Total</strong></td><td><strong>EUR 24,07</strong></td></tr></table>"
      ],
      "text/plain": [
       "<IPython.core.display.HTML object>"
      ]
     },
     "metadata": {},
     "output_type": "display_data"
    },
    {
     "name": "stdout",
     "output_type": "stream",
     "text": [
      "mailto\n"
     ]
    },
    {
     "data": {
      "text/html": [
       "<pre style=\"white-space:pre;overflow-x:auto;line-height:normal;font-family:Menlo,'DejaVu Sans Mono',consolas,'Courier New',monospace\"><span style=\"color: #008000; text-decoration-color: #008000\">'chris.at.de@gmail.com'</span>\n",
       "</pre>\n"
      ],
      "text/plain": [
       "\u001b[32m'chris.at.de@gmail.com'\u001b[0m\n"
      ]
     },
     "metadata": {},
     "output_type": "display_data"
    },
    {
     "name": "stdout",
     "output_type": "stream",
     "text": [
      "\n",
      "\n",
      "\u001b[1m> Entering new AgentExecutor chain...\u001b[0m\n",
      "\u001b[32;1m\u001b[1;3mAction:\n",
      "```json\n",
      "{\n",
      "  \"action\": \"send_gmail_message\",\n",
      "  \"action_input\": {\n",
      "    \"to\": \"chris.at.de@gmail.com\",\n",
      "    \"subject\": \"Receipt from Burger King, payment date: 25.02.24\",\n",
      "    \"message\": \"<table style='width:100%;'><tr><td><strong>Total</strong></td><td><strong>EUR 24,07</strong></td></tr></table>\"\n",
      "  }\n",
      "}\n",
      "```\u001b[0m\n",
      "Observation: \u001b[33;1m\u001b[1;3mMessage sent. Message Id: 18dec4fd794ff6a3\u001b[0m\n",
      "Thought:\u001b[32;1m\u001b[1;3m{\n",
      "  \"action\": \"Final Answer\",\n",
      "  \"action_input\": \"The email has been successfully sent to chris.at.de@gmail.com with the subject 'Receipt from Burger King, payment date: 25.02.24'. The content of the message was delivered in HTML format displaying a table with the total amount of EUR 24,07.\"\n",
      "}\u001b[0m\n",
      "\n",
      "\u001b[1m> Finished chain.\u001b[0m\n"
     ]
    },
    {
     "data": {
      "text/html": [
       "Receipt from TotalEnergies, payment date: 24.02.2024"
      ],
      "text/plain": [
       "<IPython.core.display.HTML object>"
      ]
     },
     "metadata": {},
     "output_type": "display_data"
    },
    {
     "data": {
      "text/html": [
       "<table style='width:100%;'><tr><td><strong>Total</strong></td><td><strong>68,47 €</strong></td></tr><tr><td>Super</td><td>1,879 €/Liter</td><td>36,44 Liter</td></tr><tr><td>VAT (19% MwSt. A)</td><td>10,93 €</td></tr><tr><td>Net Sum</td><td>57,54 €</td></tr></table>"
      ],
      "text/plain": [
       "<IPython.core.display.HTML object>"
      ]
     },
     "metadata": {},
     "output_type": "display_data"
    },
    {
     "name": "stdout",
     "output_type": "stream",
     "text": [
      "mailto\n"
     ]
    },
    {
     "data": {
      "text/html": [
       "<pre style=\"white-space:pre;overflow-x:auto;line-height:normal;font-family:Menlo,'DejaVu Sans Mono',consolas,'Courier New',monospace\"><span style=\"color: #008000; text-decoration-color: #008000\">'chris.at.de@gmail.com'</span>\n",
       "</pre>\n"
      ],
      "text/plain": [
       "\u001b[32m'chris.at.de@gmail.com'\u001b[0m\n"
      ]
     },
     "metadata": {},
     "output_type": "display_data"
    },
    {
     "name": "stdout",
     "output_type": "stream",
     "text": [
      "\n",
      "\n",
      "\u001b[1m> Entering new AgentExecutor chain...\u001b[0m\n",
      "\u001b[32;1m\u001b[1;3mAction:\n",
      "```json\n",
      "{\n",
      "  \"action\": \"send_gmail_message\",\n",
      "  \"action_input\": {\n",
      "    \"to\": [\"chris.at.de@gmail.com\"],\n",
      "    \"subject\": \"Receipt from TotalEnergies, payment date: 24.02.2024\",\n",
      "    \"message\": \"<table style='width:100%;'><tr><td><strong>Total</strong></td><td><strong>68,47 €</strong></td></tr><tr><td>Super</td><td>1,879 €/Liter</td><td>36,44 Liter</td></tr><tr><td>VAT (19% MwSt. A)</td><td>10,93 €</td></tr><tr><td>Net Sum</td><td>57,54 €</td></tr></table>\"\n",
      "  }\n",
      "}\n",
      "```\u001b[0m\n",
      "Observation: \u001b[33;1m\u001b[1;3mMessage sent. Message Id: 18dec5030d0ee739\u001b[0m\n",
      "Thought:\u001b[32;1m\u001b[1;3m{\n",
      "  \"action\": \"Final Answer\",\n",
      "  \"action_input\": \"The email has been sent successfully to chris.at.de@gmail.com.\"\n",
      "}\u001b[0m\n",
      "\n",
      "\u001b[1m> Finished chain.\u001b[0m\n"
     ]
    },
    {
     "data": {
      "text/html": [
       "Receipt from Kaufland, payment date: 26.02.24"
      ],
      "text/plain": [
       "<IPython.core.display.HTML object>"
      ]
     },
     "metadata": {},
     "output_type": "display_data"
    },
    {
     "data": {
      "text/html": [
       "<table style='width:100%;'><tr><td><strong>Total</strong></td><td><strong>33,45 EUR</strong></td></tr><tr><td>Banane Chiquita</td><td>1,68</td></tr><tr><td>E. Kuklaputus Ment.</td><td>0,69</td></tr><tr><td>Broccoli 500g</td><td>0,99</td></tr><tr><td>Lauchzwiebeln</td><td>0,49</td></tr><tr><td>Lachsfilets</td><td>11,98</td></tr><tr><td>Mü. Milchreis</td><td>2,67</td></tr><tr><td>Knoblauch</td><td>1,99</td></tr><tr><td>Eier Bodenhaltung</td><td>1,99</td></tr><tr><td>Hohes C Vitamin D</td><td>2,99</td></tr><tr><td>Beerenmix 150g</td><td>2,79</td></tr><tr><td>Kerrygold extra</td><td>2,99</td></tr><tr><td>Mini-Pak Choi 300g</td><td>2,58</td></tr><tr><td>Tomate, Rispen</td><td>0,71</td></tr></table>"
      ],
      "text/plain": [
       "<IPython.core.display.HTML object>"
      ]
     },
     "metadata": {},
     "output_type": "display_data"
    },
    {
     "name": "stdout",
     "output_type": "stream",
     "text": [
      "mailto\n"
     ]
    },
    {
     "data": {
      "text/html": [
       "<pre style=\"white-space:pre;overflow-x:auto;line-height:normal;font-family:Menlo,'DejaVu Sans Mono',consolas,'Courier New',monospace\"><span style=\"color: #008000; text-decoration-color: #008000\">'chris.at.de@gmail.com'</span>\n",
       "</pre>\n"
      ],
      "text/plain": [
       "\u001b[32m'chris.at.de@gmail.com'\u001b[0m\n"
      ]
     },
     "metadata": {},
     "output_type": "display_data"
    },
    {
     "name": "stdout",
     "output_type": "stream",
     "text": [
      "\n",
      "\n",
      "\u001b[1m> Entering new AgentExecutor chain...\u001b[0m\n",
      "\u001b[32;1m\u001b[1;3mAction:\n",
      "```json\n",
      "{\n",
      "  \"action\": \"send_gmail_message\",\n",
      "  \"action_input\": {\n",
      "    \"to\": \"chris.at.de@gmail.com\",\n",
      "    \"subject\": \"Receipt from Kaufland, payment date: 26.02.24\",\n",
      "    \"message\": \"<table style='width:100%;'><tr><td><strong>Total</strong></td><td><strong>33,45 EUR</strong></td></tr><tr><td>Banane Chiquita</td><td>1,68</td></tr><tr><td>E. Kuklaputus Ment.</td><td>0,69</td></tr><tr><td>Broccoli 500g</td><td>0,99</td></tr><tr><td>Lauchzwiebeln</td><td>0,49</td></tr><tr><td>Lachsfilets</td><td>11,98</td></tr><tr><td>Mü. Milchreis</td><td>2,67</td></tr><tr><td>Knoblauch</td><td>1,99</td></tr><tr><td>Eier Bodenhaltung</td><td>1,99</td></tr><tr><td>Hohes C Vitamin D</td><td>2,99</td></tr><tr><td>Beerenmix 150g</td><td>2,79</td></tr><tr><td>Kerrygold extra</td><td>2,99</td></tr><tr><td>Mini-Pak Choi 300g</td><td>2,58</td></tr><tr><td>Tomate, Rispen</td><td>0,71</td></tr></table>\"\n",
      "  }\n",
      "}\n",
      "```\u001b[0m\n",
      "Observation: \u001b[33;1m\u001b[1;3mMessage sent. Message Id: 18dec50f52211aa4\u001b[0m\n",
      "Thought:\u001b[32;1m\u001b[1;3m{\n",
      "  \"action\": \"Final Answer\",\n",
      "  \"action_input\": \"The email has been successfully sent to chris.at.de@gmail.com with the subject 'Receipt from Kaufland, payment date: 26.02.24'.\"\n",
      "}\u001b[0m\n",
      "\n",
      "\u001b[1m> Finished chain.\u001b[0m\n"
     ]
    },
    {
     "data": {
      "text/html": [
       "Receipt from Kaufland, payment date: unknown"
      ],
      "text/plain": [
       "<IPython.core.display.HTML object>"
      ]
     },
     "metadata": {},
     "output_type": "display_data"
    },
    {
     "data": {
      "text/html": [
       "<table style='width:100%;'><tr><td><strong>Total</strong></td><td><strong>8,66 EUR</strong></td></tr><tr><td>Leergut Getränke</td><td>-1,90 EUR</td></tr><tr><td>Champ. braun (400g)</td><td>0,80 EUR</td></tr><tr><td>S-Hackfleisch</td><td>2,70 EUR</td></tr><tr><td>Edamame</td><td>1,79 EUR</td></tr><tr><td>KPur P.Geschnet.</td><td>3,99 EUR</td></tr><tr><td>Chinakohl</td><td>1,28 EUR</td></tr></table>"
      ],
      "text/plain": [
       "<IPython.core.display.HTML object>"
      ]
     },
     "metadata": {},
     "output_type": "display_data"
    },
    {
     "name": "stdout",
     "output_type": "stream",
     "text": [
      "mailto\n"
     ]
    },
    {
     "data": {
      "text/html": [
       "<pre style=\"white-space:pre;overflow-x:auto;line-height:normal;font-family:Menlo,'DejaVu Sans Mono',consolas,'Courier New',monospace\"><span style=\"color: #008000; text-decoration-color: #008000\">'chris.at.de@gmail.com'</span>\n",
       "</pre>\n"
      ],
      "text/plain": [
       "\u001b[32m'chris.at.de@gmail.com'\u001b[0m\n"
      ]
     },
     "metadata": {},
     "output_type": "display_data"
    },
    {
     "name": "stdout",
     "output_type": "stream",
     "text": [
      "\n",
      "\n",
      "\u001b[1m> Entering new AgentExecutor chain...\u001b[0m\n",
      "\u001b[32;1m\u001b[1;3mAction:\n",
      "```json\n",
      "{\n",
      "  \"action\": \"send_gmail_message\",\n",
      "  \"action_input\": {\n",
      "    \"to\": \"chris.at.de@gmail.com\",\n",
      "    \"subject\": \"Receipt from Kaufland, payment date: unknown\",\n",
      "    \"message\": \"<table style='width:100%;'><tr><td><strong>Total</strong></td><td><strong>8,66 EUR</strong></td></tr><tr><td>Leergut Getränke</td><td>-1,90 EUR</td></tr><tr><td>Champ. braun (400g)</td><td>0,80 EUR</td></tr><tr><td>S-Hackfleisch</td><td>2,70 EUR</td></tr><tr><td>Edamame</td><td>1,79 EUR</td></tr><tr><td>KPur P.Geschnet.</td><td>3,99 EUR</td></tr><tr><td>Chinakohl</td><td>1,28 EUR</td></tr></table>\"\n",
      "  }\n",
      "}\n",
      "```\u001b[0m\n",
      "Observation: \u001b[33;1m\u001b[1;3mMessage sent. Message Id: 18dec51770b0d795\u001b[0m\n",
      "Thought:\u001b[32;1m\u001b[1;3mAction:\n",
      "```json\n",
      "{\n",
      "  \"action\": \"Final Answer\",\n",
      "  \"action_input\": \"The email has been sent successfully to chris.at.de@gmail.com with the subject 'Receipt from Kaufland, payment date: unknown'.\"\n",
      "}\n",
      "```\u001b[0m\n",
      "\n",
      "\u001b[1m> Finished chain.\u001b[0m\n"
     ]
    },
    {
     "data": {
      "text/html": [
       "Receipt from KFC, payment date: 24.02.2024"
      ],
      "text/plain": [
       "<IPython.core.display.HTML object>"
      ]
     },
     "metadata": {},
     "output_type": "display_data"
    },
    {
     "data": {
      "text/html": [
       "<table style='width:100%;'><tr><td><strong>Total</strong></td><td><strong>€16.99</strong></td></tr><tr><td>Ch n Sh 18er HW</td><td>€16.99</td></tr><tr><td>18 Hot Wings Uptrade Bucket</td><td>€15.88</td></tr><tr><td>VAT (7%)</td><td>€1.11</td></tr></table>"
      ],
      "text/plain": [
       "<IPython.core.display.HTML object>"
      ]
     },
     "metadata": {},
     "output_type": "display_data"
    },
    {
     "name": "stdout",
     "output_type": "stream",
     "text": [
      "mailto\n"
     ]
    },
    {
     "data": {
      "text/html": [
       "<pre style=\"white-space:pre;overflow-x:auto;line-height:normal;font-family:Menlo,'DejaVu Sans Mono',consolas,'Courier New',monospace\"><span style=\"color: #008000; text-decoration-color: #008000\">'chris.at.de@gmail.com'</span>\n",
       "</pre>\n"
      ],
      "text/plain": [
       "\u001b[32m'chris.at.de@gmail.com'\u001b[0m\n"
      ]
     },
     "metadata": {},
     "output_type": "display_data"
    },
    {
     "name": "stdout",
     "output_type": "stream",
     "text": [
      "\n",
      "\n",
      "\u001b[1m> Entering new AgentExecutor chain...\u001b[0m\n",
      "\u001b[32;1m\u001b[1;3mAction:\n",
      "```json\n",
      "{\n",
      "  \"action\": \"send_gmail_message\",\n",
      "  \"action_input\": {\n",
      "    \"to\": \"chris.at.de@gmail.com\",\n",
      "    \"subject\": \"Receipt from KFC, payment date: 24.02.2024\",\n",
      "    \"message\": \"<table style='width:100%;'><tr><td><strong>Total</strong></td><td><strong>€16.99</strong></td></tr><tr><td>Ch n Sh 18er HW</td><td>€16.99</td></tr><tr><td>18 Hot Wings Uptrade Bucket</td><td>€15.88</td></tr><tr><td>VAT (7%)</td><td>€1.11</td></tr></table>\"\n",
      "  }\n",
      "}\n",
      "```\u001b[0m\n",
      "Observation: \u001b[33;1m\u001b[1;3mMessage sent. Message Id: 18dec51db97926ec\u001b[0m\n",
      "Thought:\u001b[32;1m\u001b[1;3m```\n",
      "{\n",
      "  \"action\": \"Final Answer\",\n",
      "  \"action_input\": \"The email has been sent successfully to chris.at.de@gmail.com with the subject 'Receipt from KFC, payment date: 24.02.2024'.\"\n",
      "}\n",
      "```\u001b[0m\n",
      "\n",
      "\u001b[1m> Finished chain.\u001b[0m\n",
      "Result:\n"
     ]
    },
    {
     "data": {
      "text/html": [
       "<pre style=\"white-space:pre;overflow-x:auto;line-height:normal;font-family:Menlo,'DejaVu Sans Mono',consolas,'Courier New',monospace\"><span style=\"font-weight: bold\">{</span>\n",
       "<span style=\"color: #7fbf7f; text-decoration-color: #7fbf7f\">│   </span><span style=\"color: #008000; text-decoration-color: #008000\">'mailto'</span>: <span style=\"color: #008000; text-decoration-color: #008000\">'chris.at.de@gmail.com'</span>,\n",
       "<span style=\"color: #7fbf7f; text-decoration-color: #7fbf7f\">│   </span><span style=\"color: #008000; text-decoration-color: #008000\">'subject'</span>: <span style=\"color: #008000; text-decoration-color: #008000\">'Receipt from KFC, payment date: 24.02.2024'</span>,\n",
       "<span style=\"color: #7fbf7f; text-decoration-color: #7fbf7f\">│   </span><span style=\"color: #008000; text-decoration-color: #008000\">'recepit_stack'</span>: <span style=\"font-weight: bold\">[</span>\n",
       "<span style=\"color: #7fbf7f; text-decoration-color: #7fbf7f\">│   │   </span><span style=\"color: #008000; text-decoration-color: #008000\">'assets/images/receipt/WechatIMG144.jpg'</span>,\n",
       "<span style=\"color: #7fbf7f; text-decoration-color: #7fbf7f\">│   │   </span><span style=\"color: #008000; text-decoration-color: #008000\">'assets/images/receipt/WechatIMG145.jpg'</span>,\n",
       "<span style=\"color: #7fbf7f; text-decoration-color: #7fbf7f\">│   │   </span><span style=\"color: #008000; text-decoration-color: #008000\">'assets/images/receipt/WechatIMG147.jpg'</span>,\n",
       "<span style=\"color: #7fbf7f; text-decoration-color: #7fbf7f\">│   │   </span><span style=\"color: #008000; text-decoration-color: #008000\">'assets/images/receipt/WechatIMG142.jpg'</span>,\n",
       "<span style=\"color: #7fbf7f; text-decoration-color: #7fbf7f\">│   │   </span><span style=\"color: #008000; text-decoration-color: #008000\">'assets/images/receipt/WechatIMG143.jpg'</span>\n",
       "<span style=\"color: #7fbf7f; text-decoration-color: #7fbf7f\">│   </span><span style=\"font-weight: bold\">]</span>,\n",
       "<span style=\"color: #7fbf7f; text-decoration-color: #7fbf7f\">│   </span><span style=\"color: #008000; text-decoration-color: #008000\">'current_recepit_pos'</span>: <span style=\"color: #008080; text-decoration-color: #008080; font-weight: bold\">5</span>,\n",
       "<span style=\"color: #7fbf7f; text-decoration-color: #7fbf7f\">│   </span><span style=\"color: #008000; text-decoration-color: #008000\">'receipt_description'</span>: <span style=\"color: #800080; text-decoration-color: #800080; font-style: italic\">None</span>,\n",
       "<span style=\"color: #7fbf7f; text-decoration-color: #7fbf7f\">│   </span><span style=\"color: #008000; text-decoration-color: #008000\">'results'</span>: <span style=\"font-weight: bold\">{</span>\n",
       "<span style=\"color: #7fbf7f; text-decoration-color: #7fbf7f\">│   │   </span><span style=\"color: #008000; text-decoration-color: #008000\">'assets/images/receipt/WechatIMG144.jpg'</span>: <span style=\"font-weight: bold\">{</span>\n",
       "<span style=\"color: #7fbf7f; text-decoration-color: #7fbf7f\">│   │   │   </span><span style=\"color: #008000; text-decoration-color: #008000\">'subject'</span>: <span style=\"color: #008000; text-decoration-color: #008000\">'Receipt from Burger King, payment date: 25.02.24'</span>,\n",
       "<span style=\"color: #7fbf7f; text-decoration-color: #7fbf7f\">│   │   │   </span><span style=\"color: #008000; text-decoration-color: #008000\">'receipt_description'</span>: <span style=\"color: #008000; text-decoration-color: #008000\">\"&lt;table style='width:100%;'&gt;&lt;tr&gt;&lt;td&gt;&lt;strong&gt;Total&lt;/strong&gt;&lt;/td&gt;&lt;td&gt;&lt;strong&gt;EUR 24,07&lt;/strong&gt;&lt;/td&gt;&lt;/tr&gt;&lt;/table&gt;\"</span>\n",
       "<span style=\"color: #7fbf7f; text-decoration-color: #7fbf7f\">│   │   </span><span style=\"color: #000000; text-decoration-color: #000000; font-weight: bold\">}</span><span style=\"color: #000000; text-decoration-color: #000000\">,</span>\n",
       "<span style=\"color: #7fbf7f; text-decoration-color: #7fbf7f\">│   │   </span><span style=\"color: #008000; text-decoration-color: #008000\">'assets/images/receipt/WechatIMG145.jpg'</span><span style=\"color: #000000; text-decoration-color: #000000\">: </span><span style=\"color: #000000; text-decoration-color: #000000; font-weight: bold\">{</span>\n",
       "<span style=\"color: #7fbf7f; text-decoration-color: #7fbf7f\">│   │   │   </span><span style=\"color: #008000; text-decoration-color: #008000\">'subject'</span><span style=\"color: #000000; text-decoration-color: #000000\">: </span><span style=\"color: #008000; text-decoration-color: #008000\">'Receipt from TotalEnergies, payment date: 24.02.2024'</span><span style=\"color: #000000; text-decoration-color: #000000\">,</span>\n",
       "<span style=\"color: #7fbf7f; text-decoration-color: #7fbf7f\">│   │   │   </span><span style=\"color: #008000; text-decoration-color: #008000\">'receipt_description'</span><span style=\"color: #000000; text-decoration-color: #000000\">: </span><span style=\"color: #008000; text-decoration-color: #008000\">\"&lt;table style='width:100%;'&gt;&lt;tr&gt;&lt;td&gt;&lt;strong&gt;Total&lt;/strong&gt;&lt;/td&gt;&lt;td&gt;&lt;strong&gt;68,47 €&lt;/strong&gt;&lt;/td&gt;&lt;/tr&gt;&lt;tr&gt;&lt;td&gt;Super&lt;/td&gt;&lt;td&gt;1,879 €/Liter&lt;/td&gt;&lt;td&gt;36,44 Liter&lt;/td&gt;&lt;/tr&gt;&lt;tr&gt;&lt;td&gt;VAT (19% MwSt. A)&lt;/td&gt;&lt;td&gt;10,93 €&lt;/td&gt;&lt;/tr&gt;&lt;tr&gt;&lt;td&gt;Net Sum&lt;/td&gt;&lt;td&gt;57,54 €&lt;/td&gt;&lt;/tr&gt;&lt;/table&gt;\"</span>\n",
       "<span style=\"color: #7fbf7f; text-decoration-color: #7fbf7f\">│   │   </span><span style=\"color: #000000; text-decoration-color: #000000; font-weight: bold\">}</span><span style=\"color: #000000; text-decoration-color: #000000\">,</span>\n",
       "<span style=\"color: #7fbf7f; text-decoration-color: #7fbf7f\">│   │   </span><span style=\"color: #008000; text-decoration-color: #008000\">'assets/images/receipt/WechatIMG147.jpg'</span><span style=\"color: #000000; text-decoration-color: #000000\">: </span><span style=\"color: #000000; text-decoration-color: #000000; font-weight: bold\">{</span>\n",
       "<span style=\"color: #7fbf7f; text-decoration-color: #7fbf7f\">│   │   │   </span><span style=\"color: #008000; text-decoration-color: #008000\">'subject'</span><span style=\"color: #000000; text-decoration-color: #000000\">: </span><span style=\"color: #008000; text-decoration-color: #008000\">'Receipt from Kaufland, payment date: 26.02.24'</span><span style=\"color: #000000; text-decoration-color: #000000\">,</span>\n",
       "<span style=\"color: #7fbf7f; text-decoration-color: #7fbf7f\">│   │   │   </span><span style=\"color: #008000; text-decoration-color: #008000\">'receipt_description'</span><span style=\"color: #000000; text-decoration-color: #000000\">: </span><span style=\"color: #008000; text-decoration-color: #008000\">\"&lt;table style='width:100%;'&gt;&lt;tr&gt;&lt;td&gt;&lt;strong&gt;Total&lt;/strong&gt;&lt;/td&gt;&lt;td&gt;&lt;strong&gt;33,45 EUR&lt;/strong&gt;&lt;/td&gt;&lt;/tr&gt;&lt;tr&gt;&lt;td&gt;Banane Chiquita&lt;/td&gt;&lt;td&gt;1,68&lt;/td&gt;&lt;/tr&gt;&lt;tr&gt;&lt;td&gt;E. Kuklaputus Ment.&lt;/td&gt;&lt;td&gt;0,69&lt;/td&gt;&lt;/tr&gt;&lt;tr&gt;&lt;td&gt;Broccoli 500g&lt;/td&gt;&lt;td&gt;0,99&lt;/td&gt;&lt;/tr&gt;&lt;tr&gt;&lt;td&gt;Lauchzwiebeln&lt;/td&gt;&lt;td&gt;0,49&lt;/td&gt;&lt;/tr&gt;&lt;tr&gt;&lt;td&gt;Lachsfilets&lt;/td&gt;&lt;td&gt;11,98&lt;/td&gt;&lt;/tr&gt;&lt;tr&gt;&lt;td&gt;Mü. Milchreis&lt;/td&gt;&lt;td&gt;2,67&lt;/td&gt;&lt;/tr&gt;&lt;tr&gt;&lt;td&gt;Knoblauch&lt;/td&gt;&lt;td&gt;1,99&lt;/td&gt;&lt;/tr&gt;&lt;tr&gt;&lt;td&gt;Eier Bodenhaltung&lt;/td&gt;&lt;td&gt;1,99&lt;/td&gt;&lt;/tr&gt;&lt;tr&gt;&lt;td&gt;Hohes C Vitamin D&lt;/td&gt;&lt;td&gt;2,99&lt;/td&gt;&lt;/tr&gt;&lt;tr&gt;&lt;td&gt;Beerenmix 150g&lt;/td&gt;&lt;td&gt;2,79&lt;/td&gt;&lt;/tr&gt;&lt;tr&gt;&lt;td&gt;Kerrygold extra&lt;/td&gt;&lt;td&gt;2,99&lt;/td&gt;&lt;/tr&gt;&lt;tr&gt;&lt;td&gt;Mini-Pak Choi 300g&lt;/td&gt;&lt;td&gt;2,58&lt;/td&gt;&lt;/tr&gt;&lt;tr&gt;&lt;td&gt;Tomate, Rispen&lt;/td&gt;&lt;td&gt;0,71&lt;/td&gt;&lt;/tr&gt;&lt;/table&gt;\"</span>\n",
       "<span style=\"color: #7fbf7f; text-decoration-color: #7fbf7f\">│   │   </span><span style=\"color: #000000; text-decoration-color: #000000; font-weight: bold\">}</span><span style=\"color: #000000; text-decoration-color: #000000\">,</span>\n",
       "<span style=\"color: #7fbf7f; text-decoration-color: #7fbf7f\">│   │   </span><span style=\"color: #008000; text-decoration-color: #008000\">'assets/images/receipt/WechatIMG142.jpg'</span><span style=\"color: #000000; text-decoration-color: #000000\">: </span><span style=\"color: #000000; text-decoration-color: #000000; font-weight: bold\">{</span>\n",
       "<span style=\"color: #7fbf7f; text-decoration-color: #7fbf7f\">│   │   │   </span><span style=\"color: #008000; text-decoration-color: #008000\">'subject'</span><span style=\"color: #000000; text-decoration-color: #000000\">: </span><span style=\"color: #008000; text-decoration-color: #008000\">'Receipt from Kaufland, payment date: unknown'</span><span style=\"color: #000000; text-decoration-color: #000000\">,</span>\n",
       "<span style=\"color: #7fbf7f; text-decoration-color: #7fbf7f\">│   │   │   </span><span style=\"color: #008000; text-decoration-color: #008000\">'receipt_description'</span><span style=\"color: #000000; text-decoration-color: #000000\">: </span><span style=\"color: #008000; text-decoration-color: #008000\">\"&lt;table style='width:100%;'&gt;&lt;tr&gt;&lt;td&gt;&lt;strong&gt;Total&lt;/strong&gt;&lt;/td&gt;&lt;td&gt;&lt;strong&gt;8,66 EUR&lt;/strong&gt;&lt;/td&gt;&lt;/tr&gt;&lt;tr&gt;&lt;td&gt;Leergut Getränke&lt;/td&gt;&lt;td&gt;-1,90 EUR&lt;/td&gt;&lt;/tr&gt;&lt;tr&gt;&lt;td&gt;Champ. braun (400g)&lt;/td&gt;&lt;td&gt;0,80 EUR&lt;/td&gt;&lt;/tr&gt;&lt;tr&gt;&lt;td&gt;S-Hackfleisch&lt;/td&gt;&lt;td&gt;2,70 EUR&lt;/td&gt;&lt;/tr&gt;&lt;tr&gt;&lt;td&gt;Edamame&lt;/td&gt;&lt;td&gt;1,79 EUR&lt;/td&gt;&lt;/tr&gt;&lt;tr&gt;&lt;td&gt;KPur P.Geschnet.&lt;/td&gt;&lt;td&gt;3,99 EUR&lt;/td&gt;&lt;/tr&gt;&lt;tr&gt;&lt;td&gt;Chinakohl&lt;/td&gt;&lt;td&gt;1,28 EUR&lt;/td&gt;&lt;/tr&gt;&lt;/table&gt;\"</span>\n",
       "<span style=\"color: #7fbf7f; text-decoration-color: #7fbf7f\">│   │   </span><span style=\"color: #000000; text-decoration-color: #000000; font-weight: bold\">}</span><span style=\"color: #000000; text-decoration-color: #000000\">,</span>\n",
       "<span style=\"color: #7fbf7f; text-decoration-color: #7fbf7f\">│   │   </span><span style=\"color: #008000; text-decoration-color: #008000\">'assets/images/receipt/WechatIMG143.jpg'</span><span style=\"color: #000000; text-decoration-color: #000000\">: </span><span style=\"color: #000000; text-decoration-color: #000000; font-weight: bold\">{</span>\n",
       "<span style=\"color: #7fbf7f; text-decoration-color: #7fbf7f\">│   │   │   </span><span style=\"color: #008000; text-decoration-color: #008000\">'subject'</span><span style=\"color: #000000; text-decoration-color: #000000\">: </span><span style=\"color: #008000; text-decoration-color: #008000\">'Receipt from KFC, payment date: 24.02.2024'</span><span style=\"color: #000000; text-decoration-color: #000000\">,</span>\n",
       "<span style=\"color: #7fbf7f; text-decoration-color: #7fbf7f\">│   │   │   </span><span style=\"color: #008000; text-decoration-color: #008000\">'receipt_description'</span><span style=\"color: #000000; text-decoration-color: #000000\">: </span><span style=\"color: #008000; text-decoration-color: #008000\">\"&lt;table style='width:100%;'&gt;&lt;tr&gt;&lt;td&gt;&lt;strong&gt;Total&lt;/strong&gt;&lt;/td&gt;&lt;td&gt;&lt;strong&gt;€16.99&lt;/strong&gt;&lt;/td&gt;&lt;/tr&gt;&lt;tr&gt;&lt;td&gt;Ch n Sh 18er HW&lt;/td&gt;&lt;td&gt;€16.99&lt;/td&gt;&lt;/tr&gt;&lt;tr&gt;&lt;td&gt;18 Hot Wings Uptrade Bucket&lt;/td&gt;&lt;td&gt;€15.88&lt;/td&gt;&lt;/tr&gt;&lt;tr&gt;&lt;td&gt;VAT (7%)&lt;/td&gt;&lt;td&gt;€1.11&lt;/td&gt;&lt;/tr&gt;&lt;/table&gt;\"</span>\n",
       "<span style=\"color: #7fbf7f; text-decoration-color: #7fbf7f\">│   │   </span><span style=\"font-weight: bold\">}</span>\n",
       "<span style=\"color: #7fbf7f; text-decoration-color: #7fbf7f\">│   </span><span style=\"font-weight: bold\">}</span>\n",
       "<span style=\"font-weight: bold\">}</span>\n",
       "</pre>\n"
      ],
      "text/plain": [
       "\u001b[1m{\u001b[0m\n",
       "\u001b[2;32m│   \u001b[0m\u001b[32m'mailto'\u001b[0m: \u001b[32m'chris.at.de@gmail.com'\u001b[0m,\n",
       "\u001b[2;32m│   \u001b[0m\u001b[32m'subject'\u001b[0m: \u001b[32m'Receipt from KFC, payment date: 24.02.2024'\u001b[0m,\n",
       "\u001b[2;32m│   \u001b[0m\u001b[32m'recepit_stack'\u001b[0m: \u001b[1m[\u001b[0m\n",
       "\u001b[2;32m│   │   \u001b[0m\u001b[32m'assets/images/receipt/WechatIMG144.jpg'\u001b[0m,\n",
       "\u001b[2;32m│   │   \u001b[0m\u001b[32m'assets/images/receipt/WechatIMG145.jpg'\u001b[0m,\n",
       "\u001b[2;32m│   │   \u001b[0m\u001b[32m'assets/images/receipt/WechatIMG147.jpg'\u001b[0m,\n",
       "\u001b[2;32m│   │   \u001b[0m\u001b[32m'assets/images/receipt/WechatIMG142.jpg'\u001b[0m,\n",
       "\u001b[2;32m│   │   \u001b[0m\u001b[32m'assets/images/receipt/WechatIMG143.jpg'\u001b[0m\n",
       "\u001b[2;32m│   \u001b[0m\u001b[1m]\u001b[0m,\n",
       "\u001b[2;32m│   \u001b[0m\u001b[32m'current_recepit_pos'\u001b[0m: \u001b[1;36m5\u001b[0m,\n",
       "\u001b[2;32m│   \u001b[0m\u001b[32m'receipt_description'\u001b[0m: \u001b[3;35mNone\u001b[0m,\n",
       "\u001b[2;32m│   \u001b[0m\u001b[32m'results'\u001b[0m: \u001b[1m{\u001b[0m\n",
       "\u001b[2;32m│   │   \u001b[0m\u001b[32m'assets/images/receipt/WechatIMG144.jpg'\u001b[0m: \u001b[1m{\u001b[0m\n",
       "\u001b[2;32m│   │   │   \u001b[0m\u001b[32m'subject'\u001b[0m: \u001b[32m'Receipt from Burger King, payment date: 25.02.24'\u001b[0m,\n",
       "\u001b[2;32m│   │   │   \u001b[0m\u001b[32m'receipt_description'\u001b[0m: \u001b[32m\"\u001b[0m\u001b[32m<\u001b[0m\u001b[32mtable\u001b[0m\u001b[32m \u001b[0m\u001b[32mstyle\u001b[0m\u001b[32m='width:100%;'><tr><td><strong>Total</strong></td><td><strong>EUR 24,07</strong></td></tr></table>\"\u001b[0m\n",
       "\u001b[2;32m│   │   \u001b[0m\u001b[1;39m}\u001b[0m\u001b[39m,\u001b[0m\n",
       "\u001b[2;32m│   │   \u001b[0m\u001b[32m'assets/images/receipt/WechatIMG145.jpg'\u001b[0m\u001b[39m: \u001b[0m\u001b[1;39m{\u001b[0m\n",
       "\u001b[2;32m│   │   │   \u001b[0m\u001b[32m'subject'\u001b[0m\u001b[39m: \u001b[0m\u001b[32m'Receipt from TotalEnergies, payment date: 24.02.2024'\u001b[0m\u001b[39m,\u001b[0m\n",
       "\u001b[2;32m│   │   │   \u001b[0m\u001b[32m'receipt_description'\u001b[0m\u001b[39m: \u001b[0m\u001b[32m\"<table \u001b[0m\u001b[32mstyle\u001b[0m\u001b[32m='width:100%;'><tr><td><strong>Total</strong></td><td><strong>68,47 €</strong></td></tr><tr><td>Super</td><td>1,879 €/Liter</td><td>36,44 Liter</td></tr><tr><td>VAT \u001b[0m\u001b[32m(\u001b[0m\u001b[32m19% MwSt. A\u001b[0m\u001b[32m)\u001b[0m\u001b[32m</td><td>10,93 €</td></tr><tr><td>Net Sum</td><td>57,54 €</td></tr></table>\"\u001b[0m\n",
       "\u001b[2;32m│   │   \u001b[0m\u001b[1;39m}\u001b[0m\u001b[39m,\u001b[0m\n",
       "\u001b[2;32m│   │   \u001b[0m\u001b[32m'assets/images/receipt/WechatIMG147.jpg'\u001b[0m\u001b[39m: \u001b[0m\u001b[1;39m{\u001b[0m\n",
       "\u001b[2;32m│   │   │   \u001b[0m\u001b[32m'subject'\u001b[0m\u001b[39m: \u001b[0m\u001b[32m'Receipt from Kaufland, payment date: 26.02.24'\u001b[0m\u001b[39m,\u001b[0m\n",
       "\u001b[2;32m│   │   │   \u001b[0m\u001b[32m'receipt_description'\u001b[0m\u001b[39m: \u001b[0m\u001b[32m\"<table \u001b[0m\u001b[32mstyle\u001b[0m\u001b[32m='width:100%;'><tr><td><strong>Total</strong></td><td><strong>33,45 EUR</strong></td></tr><tr><td>Banane Chiquita</td><td>1,68</td></tr><tr><td>E. Kuklaputus Ment.</td><td>0,69</td></tr><tr><td>Broccoli 500g</td><td>0,99</td></tr><tr><td>Lauchzwiebeln</td><td>0,49</td></tr><tr><td>Lachsfilets</td><td>11,98</td></tr><tr><td>Mü. Milchreis</td><td>2,67</td></tr><tr><td>Knoblauch</td><td>1,99</td></tr><tr><td>Eier Bodenhaltung</td><td>1,99</td></tr><tr><td>Hohes C Vitamin D</td><td>2,99</td></tr><tr><td>Beerenmix 150g</td><td>2,79</td></tr><tr><td>Kerrygold extra</td><td>2,99</td></tr><tr><td>Mini-Pak Choi 300g</td><td>2,58</td></tr><tr><td>Tomate, Rispen</td><td>0,71</td></tr></table>\"\u001b[0m\n",
       "\u001b[2;32m│   │   \u001b[0m\u001b[1;39m}\u001b[0m\u001b[39m,\u001b[0m\n",
       "\u001b[2;32m│   │   \u001b[0m\u001b[32m'assets/images/receipt/WechatIMG142.jpg'\u001b[0m\u001b[39m: \u001b[0m\u001b[1;39m{\u001b[0m\n",
       "\u001b[2;32m│   │   │   \u001b[0m\u001b[32m'subject'\u001b[0m\u001b[39m: \u001b[0m\u001b[32m'Receipt from Kaufland, payment date: unknown'\u001b[0m\u001b[39m,\u001b[0m\n",
       "\u001b[2;32m│   │   │   \u001b[0m\u001b[32m'receipt_description'\u001b[0m\u001b[39m: \u001b[0m\u001b[32m\"<table \u001b[0m\u001b[32mstyle\u001b[0m\u001b[32m='width:100%;'><tr><td><strong>Total</strong></td><td><strong>8,66 EUR</strong></td></tr><tr><td>Leergut Getränke</td><td>-1,90 EUR</td></tr><tr><td>Champ. braun \u001b[0m\u001b[32m(\u001b[0m\u001b[32m400g\u001b[0m\u001b[32m)\u001b[0m\u001b[32m</td><td>0,80 EUR</td></tr><tr><td>S-Hackfleisch</td><td>2,70 EUR</td></tr><tr><td>Edamame</td><td>1,79 EUR</td></tr><tr><td>KPur P.Geschnet.</td><td>3,99 EUR</td></tr><tr><td>Chinakohl</td><td>1,28 EUR</td></tr></table>\"\u001b[0m\n",
       "\u001b[2;32m│   │   \u001b[0m\u001b[1;39m}\u001b[0m\u001b[39m,\u001b[0m\n",
       "\u001b[2;32m│   │   \u001b[0m\u001b[32m'assets/images/receipt/WechatIMG143.jpg'\u001b[0m\u001b[39m: \u001b[0m\u001b[1;39m{\u001b[0m\n",
       "\u001b[2;32m│   │   │   \u001b[0m\u001b[32m'subject'\u001b[0m\u001b[39m: \u001b[0m\u001b[32m'Receipt from KFC, payment date: 24.02.2024'\u001b[0m\u001b[39m,\u001b[0m\n",
       "\u001b[2;32m│   │   │   \u001b[0m\u001b[32m'receipt_description'\u001b[0m\u001b[39m: \u001b[0m\u001b[32m\"<table \u001b[0m\u001b[32mstyle\u001b[0m\u001b[32m='width:100%;'><tr><td><strong>Total</strong></td><td><strong>€16.99</strong></td></tr><tr><td>Ch n Sh 18er HW</td><td>€16.99</td></tr><tr><td>18 Hot Wings Uptrade Bucket</td><td>€15.88</td></tr><tr><td>VAT \u001b[0m\u001b[32m(\u001b[0m\u001b[32m7%\u001b[0m\u001b[32m)\u001b[0m\u001b[32m</td><td>€1.11</td></tr></table\u001b[0m\u001b[32m>\u001b[0m\u001b[32m\"\u001b[0m\n",
       "\u001b[2;32m│   │   \u001b[0m\u001b[1m}\u001b[0m\n",
       "\u001b[2;32m│   \u001b[0m\u001b[1m}\u001b[0m\n",
       "\u001b[1m}\u001b[0m\n"
      ]
     },
     "metadata": {},
     "output_type": "display_data"
    }
   ],
   "source": [
    "image_dir = \"assets/images/receipt\"\n",
    "image_files = [f for f in listdir(image_dir) if isfile(join(image_dir, f))]\n",
    "image_file_paths = [join(image_dir, f) for f in image_files]\n",
    "\n",
    "result = app.invoke(\n",
    "    {\n",
    "        \"recepit_stack\": image_file_paths,\n",
    "        \"mailto\": \"chris.at.de@gmail.com\",\n",
    "    },\n",
    "    {\"recursion_limit\": 100}\n",
    ")\n",
    "pretty_print(\"Result:\", result)"
   ]
  }
 ],
 "metadata": {
  "kernelspec": {
   "display_name": "machinelearning",
   "language": "python",
   "name": "python3"
  },
  "language_info": {
   "codemirror_mode": {
    "name": "ipython",
    "version": 3
   },
   "file_extension": ".py",
   "mimetype": "text/x-python",
   "name": "python",
   "nbconvert_exporter": "python",
   "pygments_lexer": "ipython3",
   "version": "3.11.5"
  }
 },
 "nbformat": 4,
 "nbformat_minor": 2
}
