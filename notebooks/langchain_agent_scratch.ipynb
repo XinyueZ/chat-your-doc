{
  "cells": [
    {
      "cell_type": "code",
      "execution_count": 1,
      "metadata": {
        "colab": {
          "base_uri": "https://localhost:8080/"
        },
        "id": "8YlvwkSWS1uZ",
        "outputId": "3d02c62d-155f-425e-921a-3b5b54c2533e"
      },
      "outputs": [
        {
          "name": "stdout",
          "output_type": "stream",
          "text": [
            "\u001b[2K     \u001b[90m━━━━━━━━━━━━━━━━━━━━━━━━━━━━━━━━━━━━━━━━\u001b[0m \u001b[32m806.7/806.7 kB\u001b[0m \u001b[31m10.3 MB/s\u001b[0m eta \u001b[36m0:00:00\u001b[0m\n",
            "\u001b[2K     \u001b[90m━━━━━━━━━━━━━━━━━━━━━━━━━━━━━━━━━━━━━━━━\u001b[0m \u001b[32m509.0/509.0 kB\u001b[0m \u001b[31m15.4 MB/s\u001b[0m eta \u001b[36m0:00:00\u001b[0m\n",
            "\u001b[2K     \u001b[90m━━━━━━━━━━━━━━━━━━━━━━━━━━━━━━━━━━━━━━━━\u001b[0m \u001b[32m62.5/62.5 kB\u001b[0m \u001b[31m9.6 MB/s\u001b[0m eta \u001b[36m0:00:00\u001b[0m\n",
            "\u001b[2K     \u001b[90m━━━━━━━━━━━━━━━━━━━━━━━━━━━━━━━━━━━━━━━━\u001b[0m \u001b[32m226.1/226.1 kB\u001b[0m \u001b[31m14.4 MB/s\u001b[0m eta \u001b[36m0:00:00\u001b[0m\n",
            "\u001b[2K     \u001b[90m━━━━━━━━━━━━━━━━━━━━━━━━━━━━━━━━━━━━━━━━\u001b[0m \u001b[32m1.6/1.6 MB\u001b[0m \u001b[31m22.8 MB/s\u001b[0m eta \u001b[36m0:00:00\u001b[0m\n",
            "\u001b[2K     \u001b[90m━━━━━━━━━━━━━━━━━━━━━━━━━━━━━━━━━━━━━━━━\u001b[0m \u001b[32m237.0/237.0 kB\u001b[0m \u001b[31m28.0 MB/s\u001b[0m eta \u001b[36m0:00:00\u001b[0m\n",
            "\u001b[2K     \u001b[90m━━━━━━━━━━━━━━━━━━━━━━━━━━━━━━━━━━━━━━━━\u001b[0m \u001b[32m54.4/54.4 kB\u001b[0m \u001b[31m8.0 MB/s\u001b[0m eta \u001b[36m0:00:00\u001b[0m\n",
            "\u001b[2K     \u001b[90m━━━━━━━━━━━━━━━━━━━━━━━━━━━━━━━━━━━━━━━━\u001b[0m \u001b[32m2.4/2.4 MB\u001b[0m \u001b[31m36.3 MB/s\u001b[0m eta \u001b[36m0:00:00\u001b[0m\n",
            "\u001b[2K     \u001b[90m━━━━━━━━━━━━━━━━━━━━━━━━━━━━━━━━━━━━━━━━\u001b[0m \u001b[32m92.1/92.1 kB\u001b[0m \u001b[31m14.1 MB/s\u001b[0m eta \u001b[36m0:00:00\u001b[0m\n",
            "\u001b[2K     \u001b[90m━━━━━━━━━━━━━━━━━━━━━━━━━━━━━━━━━━━━━━━━\u001b[0m \u001b[32m60.7/60.7 kB\u001b[0m \u001b[31m8.3 MB/s\u001b[0m eta \u001b[36m0:00:00\u001b[0m\n",
            "\u001b[2K     \u001b[90m━━━━━━━━━━━━━━━━━━━━━━━━━━━━━━━━━━━━━━━━\u001b[0m \u001b[32m41.1/41.1 kB\u001b[0m \u001b[31m5.6 MB/s\u001b[0m eta \u001b[36m0:00:00\u001b[0m\n",
            "\u001b[2K     \u001b[90m━━━━━━━━━━━━━━━━━━━━━━━━━━━━━━━━━━━━━━━━\u001b[0m \u001b[32m5.4/5.4 MB\u001b[0m \u001b[31m52.9 MB/s\u001b[0m eta \u001b[36m0:00:00\u001b[0m\n",
            "\u001b[2K     \u001b[90m━━━━━━━━━━━━━━━━━━━━━━━━━━━━━━━━━━━━━━━━\u001b[0m \u001b[32m6.8/6.8 MB\u001b[0m \u001b[31m78.1 MB/s\u001b[0m eta \u001b[36m0:00:00\u001b[0m\n",
            "\u001b[2K     \u001b[90m━━━━━━━━━━━━━━━━━━━━━━━━━━━━━━━━━━━━━━━━\u001b[0m \u001b[32m57.9/57.9 kB\u001b[0m \u001b[31m8.0 MB/s\u001b[0m eta \u001b[36m0:00:00\u001b[0m\n",
            "\u001b[2K     \u001b[90m━━━━━━━━━━━━━━━━━━━━━━━━━━━━━━━━━━━━━━━━\u001b[0m \u001b[32m105.6/105.6 kB\u001b[0m \u001b[31m15.8 MB/s\u001b[0m eta \u001b[36m0:00:00\u001b[0m\n",
            "\u001b[2K     \u001b[90m━━━━━━━━━━━━━━━━━━━━━━━━━━━━━━━━━━━━━━━━\u001b[0m \u001b[32m67.3/67.3 kB\u001b[0m \u001b[31m9.9 MB/s\u001b[0m eta \u001b[36m0:00:00\u001b[0m\n",
            "\u001b[?25h  Installing build dependencies ... \u001b[?25l\u001b[?25hdone\n",
            "  Getting requirements to build wheel ... \u001b[?25l\u001b[?25hdone\n",
            "  Preparing metadata (pyproject.toml) ... \u001b[?25l\u001b[?25hdone\n",
            "\u001b[2K     \u001b[90m━━━━━━━━━━━━━━━━━━━━━━━━━━━━━━━━━━━━━━━━\u001b[0m \u001b[32m698.9/698.9 kB\u001b[0m \u001b[31m60.8 MB/s\u001b[0m eta \u001b[36m0:00:00\u001b[0m\n",
            "\u001b[2K     \u001b[90m━━━━━━━━━━━━━━━━━━━━━━━━━━━━━━━━━━━━━━━━\u001b[0m \u001b[32m1.6/1.6 MB\u001b[0m \u001b[31m75.0 MB/s\u001b[0m eta \u001b[36m0:00:00\u001b[0m\n",
            "\u001b[2K     \u001b[90m━━━━━━━━━━━━━━━━━━━━━━━━━━━━━━━━━━━━━━━━\u001b[0m \u001b[32m67.6/67.6 kB\u001b[0m \u001b[31m9.6 MB/s\u001b[0m eta \u001b[36m0:00:00\u001b[0m\n",
            "\u001b[2K     \u001b[90m━━━━━━━━━━━━━━━━━━━━━━━━━━━━━━━━━━━━━━━━\u001b[0m \u001b[32m75.9/75.9 kB\u001b[0m \u001b[31m11.0 MB/s\u001b[0m eta \u001b[36m0:00:00\u001b[0m\n",
            "\u001b[2K     \u001b[90m━━━━━━━━━━━━━━━━━━━━━━━━━━━━━━━━━━━━━━━━\u001b[0m \u001b[32m2.0/2.0 MB\u001b[0m \u001b[31m80.9 MB/s\u001b[0m eta \u001b[36m0:00:00\u001b[0m\n",
            "\u001b[2K     \u001b[90m━━━━━━━━━━━━━━━━━━━━━━━━━━━━━━━━━━━━━━━━\u001b[0m \u001b[32m49.4/49.4 kB\u001b[0m \u001b[31m6.2 MB/s\u001b[0m eta \u001b[36m0:00:00\u001b[0m\n",
            "\u001b[2K     \u001b[90m━━━━━━━━━━━━━━━━━━━━━━━━━━━━━━━━━━━━━━━━\u001b[0m \u001b[32m71.5/71.5 kB\u001b[0m \u001b[31m8.2 MB/s\u001b[0m eta \u001b[36m0:00:00\u001b[0m\n",
            "\u001b[2K     \u001b[90m━━━━━━━━━━━━━━━━━━━━━━━━━━━━━━━━━━━━━━━━\u001b[0m \u001b[32m76.9/76.9 kB\u001b[0m \u001b[31m11.7 MB/s\u001b[0m eta \u001b[36m0:00:00\u001b[0m\n",
            "\u001b[2K     \u001b[90m━━━━━━━━━━━━━━━━━━━━━━━━━━━━━━━━━━━━━━━━\u001b[0m \u001b[32m58.3/58.3 kB\u001b[0m \u001b[31m8.7 MB/s\u001b[0m eta \u001b[36m0:00:00\u001b[0m\n",
            "\u001b[2K     \u001b[90m━━━━━━━━━━━━━━━━━━━━━━━━━━━━━━━━━━━━━━━━\u001b[0m \u001b[32m46.0/46.0 kB\u001b[0m \u001b[31m6.9 MB/s\u001b[0m eta \u001b[36m0:00:00\u001b[0m\n",
            "\u001b[2K     \u001b[90m━━━━━━━━━━━━━━━━━━━━━━━━━━━━━━━━━━━━━━━━\u001b[0m \u001b[32m50.8/50.8 kB\u001b[0m \u001b[31m7.4 MB/s\u001b[0m eta \u001b[36m0:00:00\u001b[0m\n",
            "\u001b[2K     \u001b[90m━━━━━━━━━━━━━━━━━━━━━━━━━━━━━━━━━━━━━━━━\u001b[0m \u001b[32m341.4/341.4 kB\u001b[0m \u001b[31m33.3 MB/s\u001b[0m eta \u001b[36m0:00:00\u001b[0m\n",
            "\u001b[2K     \u001b[90m━━━━━━━━━━━━━━━━━━━━━━━━━━━━━━━━━━━━━━━━\u001b[0m \u001b[32m3.4/3.4 MB\u001b[0m \u001b[31m93.0 MB/s\u001b[0m eta \u001b[36m0:00:00\u001b[0m\n",
            "\u001b[2K     \u001b[90m━━━━━━━━━━━━━━━━━━━━━━━━━━━━━━━━━━━━━━━━\u001b[0m \u001b[32m1.3/1.3 MB\u001b[0m \u001b[31m79.3 MB/s\u001b[0m eta \u001b[36m0:00:00\u001b[0m\n",
            "\u001b[2K     \u001b[90m━━━━━━━━━━━━━━━━━━━━━━━━━━━━━━━━━━━━━━━━\u001b[0m \u001b[32m130.2/130.2 kB\u001b[0m \u001b[31m19.3 MB/s\u001b[0m eta \u001b[36m0:00:00\u001b[0m\n",
            "\u001b[2K     \u001b[90m━━━━━━━━━━━━━━━━━━━━━━━━━━━━━━━━━━━━━━━━\u001b[0m \u001b[32m86.8/86.8 kB\u001b[0m \u001b[31m13.3 MB/s\u001b[0m eta \u001b[36m0:00:00\u001b[0m\n",
            "\u001b[?25h  Building wheel for pypika (pyproject.toml) ... \u001b[?25l\u001b[?25hdone\n",
            "\u001b[31mERROR: pip's dependency resolver does not currently take into account all the packages that are installed. This behaviour is the source of the following dependency conflicts.\n",
            "lida 0.0.10 requires kaleido, which is not installed.\n",
            "lida 0.0.10 requires python-multipart, which is not installed.\n",
            "llmx 0.0.15a0 requires cohere, which is not installed.\n",
            "tensorflow-probability 0.22.0 requires typing-extensions<4.6.0, but you have typing-extensions 4.9.0 which is incompatible.\u001b[0m\u001b[31m\n",
            "\u001b[0m"
          ]
        }
      ],
      "source": [
        "%pip install -q langchain chromadb loguru openai langchain-openai"
      ]
    },
    {
      "cell_type": "code",
      "execution_count": 2,
      "metadata": {
        "id": "7pPTLBsDXT9V"
      },
      "outputs": [],
      "source": [
        "import openai\n",
        "\n",
        "from google.colab import userdata\n",
        "OPENAI_API_KEY = userdata.get('OPENAI_API_KEY')"
      ]
    },
    {
      "cell_type": "code",
      "execution_count": 1,
      "metadata": {
        "id": "nu-r2FxfTaV1"
      },
      "outputs": [],
      "source": [
        "import langchain\n",
        "from langchain.tools import tool\n",
        "from langchain.llms import OpenAI\n",
        "from langchain_core.utils.function_calling import convert_to_openai_function\n",
        "from langchain_openai import ChatOpenAI\n",
        "from langchain.prompts import ChatPromptTemplate, SystemMessagePromptTemplate, HumanMessagePromptTemplate, MessagesPlaceholder, PromptTemplate\n",
        "from langchain_core.language_models.chat_models import BaseChatModel\n",
        "from langchain_core.runnables.base import RunnableSequence\n",
        "from langchain.agents.output_parsers import OpenAIFunctionsAgentOutputParser\n",
        "from langchain_core.runnables.utils import Output\n",
        "from langchain_core.messages import BaseMessage\n",
        "from langchain.schema import AgentFinish\n",
        "from langchain.agents.format_scratchpad import format_to_openai_functions\n",
        "from langchain.llms.openai import BaseOpenAI\n",
        "import langchain_core\n",
        "\n",
        "from typing import List\n",
        "\n",
        "import pydantic\n",
        "from loguru import logger\n",
        "from rich.pretty import pprint\n",
        "\n",
        "from langchain.prompts.chat import ChatPromptTemplate\n",
        "from langchain_community.llms.ollama import Ollama\n",
        "from langchain.schema.output_parser import StrOutputParser"
      ]
    },
    {
      "cell_type": "markdown",
      "metadata": {
        "id": "UQP5lmFhXUex"
      },
      "source": [
        "## Tools\n"
      ]
    },
    {
      "cell_type": "code",
      "execution_count": null,
      "metadata": {},
      "outputs": [],
      "source": []
    },
    {
      "cell_type": "code",
      "execution_count": 7,
      "metadata": {
        "id": "MytI_V1nTxzY"
      },
      "outputs": [],
      "source": [
        "@tool\n",
        "def sum(a: int, b: int) -> str:\n",
        "    \"\"\"Perform the addition of variables a and b, i.e., calculate a + b.\"\"\"\n",
        "    return f\"The result of {a} + {b} is {str(a+b)}\"\n",
        "\n",
        "\n",
        "@tool\n",
        "def random_joke() -> str:\n",
        "    \"\"\"A crazy creator that can create a random joke.\"\"\"\n",
        "    # model: BaseOpenAI = OpenAI(openai_api_key=OPENAI_API_KEY, temperature=1.5)\n",
        "    # res = model.predict(f\"You are a crazy creator that can create a random joke.\")\n",
        "    # return res.strip()\n",
        "    chat_template = ChatPromptTemplate.from_messages(\n",
        "        [\n",
        "            (\n",
        "                \"system\",\n",
        "                \"\"\"You are a crazy creator that can create a random joke.\"\"\",\n",
        "            ),\n",
        "        ]\n",
        "    )\n",
        "    llm = Ollama(\n",
        "        base_url=\"http://localhost:11434\",\n",
        "        model=\"gemma:2b-instruct\",\n",
        "        temperature=1.5,\n",
        "    )\n",
        "\n",
        "    return (chat_template | llm | StrOutputParser()).invoke({})\n",
        "\n",
        "\n",
        "@tool\n",
        "def translate(string: str) -> str:\n",
        "    \"\"\"Translate the string into Chinese.\"\"\"\n",
        "    # model: BaseOpenAI = OpenAI(openai_api_key=OPENAI_API_KEY, temperature=0)\n",
        "    # res = model.predict(f\"Translate {string} into Chinese, only return the result.\")\n",
        "    # return res.strip()\n",
        "    chat_template = ChatPromptTemplate.from_messages(\n",
        "        [\n",
        "            (\n",
        "                \"system\",\n",
        "                \"\"\"You're an translator to translate text into Chinese, only return the result.\n",
        "                \"\"\",\n",
        "            ),\n",
        "            (\n",
        "                \"human\",\n",
        "                string,\n",
        "            ),\n",
        "        ]\n",
        "    )\n",
        "    llm = Ollama(\n",
        "        base_url=\"http://localhost:11434\",\n",
        "        model=\"gemma:2b-instruct\",\n",
        "        temperature=0.0,\n",
        "    )\n",
        "\n",
        "    return (chat_template | llm | StrOutputParser()).invoke({\"string\": string})"
      ]
    },
    {
      "cell_type": "code",
      "execution_count": 8,
      "metadata": {
        "colab": {
          "base_uri": "https://localhost:8080/",
          "height": 125
        },
        "id": "sfLLHI48WVCa",
        "outputId": "31b4fdba-361e-42ca-ee96-f105ced9c241"
      },
      "outputs": [
        {
          "data": {
            "text/plain": [
              "'你好，世界'"
            ]
          },
          "execution_count": 8,
          "metadata": {},
          "output_type": "execute_result"
        }
      ],
      "source": [
        "args = {\n",
        "    \"a\":1, \"b\":2\n",
        "}\n",
        "sum.run(args)\n",
        "\n",
        "args = {\n",
        "    \"string\":\"hello,world\"\n",
        "}\n",
        "translate.run(args)"
      ]
    },
    {
      "cell_type": "markdown",
      "metadata": {
        "id": "T-NUX8u8Yxya"
      },
      "source": [
        "## Agent"
      ]
    },
    {
      "cell_type": "markdown",
      "metadata": {
        "id": "_ph6qIfPhFnJ"
      },
      "source": [
        "### Convert tools into OpenAI functions(tools)"
      ]
    },
    {
      "cell_type": "code",
      "execution_count": 9,
      "metadata": {
        "id": "abInYbJ2hA3H"
      },
      "outputs": [],
      "source": [
        "functions = [\n",
        "    sum,\n",
        "    translate\n",
        "]"
      ]
    },
    {
      "cell_type": "code",
      "execution_count": 10,
      "metadata": {
        "colab": {
          "base_uri": "https://localhost:8080/",
          "height": 246
        },
        "id": "vicWQRzLu3H2",
        "outputId": "68c6d269-a81c-4560-8005-eb08b29a707c"
      },
      "outputs": [
        {
          "data": {
            "text/html": [
              "<pre style=\"white-space:pre;overflow-x:auto;line-height:normal;font-family:Menlo,'DejaVu Sans Mono',consolas,'Courier New',monospace\"><span style=\"font-weight: bold\">[</span>\n",
              "<span style=\"color: #7fbf7f; text-decoration-color: #7fbf7f\">│   </span><span style=\"color: #800080; text-decoration-color: #800080; font-weight: bold\">StructuredTool</span><span style=\"font-weight: bold\">(</span>\n",
              "<span style=\"color: #7fbf7f; text-decoration-color: #7fbf7f\">│   │   </span><span style=\"color: #808000; text-decoration-color: #808000\">name</span>=<span style=\"color: #008000; text-decoration-color: #008000\">'sum'</span>,\n",
              "<span style=\"color: #7fbf7f; text-decoration-color: #7fbf7f\">│   │   </span><span style=\"color: #808000; text-decoration-color: #808000\">description</span>=<span style=\"color: #008000; text-decoration-color: #008000\">'sum(a: int, b: int) -&gt; str - Perform the addition of variables a and b, i.e., calculate a + b.'</span>,\n",
              "<span style=\"color: #7fbf7f; text-decoration-color: #7fbf7f\">│   │   </span><span style=\"color: #808000; text-decoration-color: #808000\">args_schema</span>=<span style=\"font-weight: bold\">&lt;</span><span style=\"color: #ff00ff; text-decoration-color: #ff00ff; font-weight: bold\">class</span><span style=\"color: #000000; text-decoration-color: #000000\"> </span><span style=\"color: #008000; text-decoration-color: #008000\">'pydantic.v1.main.sumSchema'</span><span style=\"color: #000000; text-decoration-color: #000000\">&gt;,</span>\n",
              "<span style=\"color: #7fbf7f; text-decoration-color: #7fbf7f\">│   │   </span><span style=\"color: #808000; text-decoration-color: #808000\">func</span><span style=\"color: #000000; text-decoration-color: #000000\">=&lt;function sum at </span><span style=\"color: #008080; text-decoration-color: #008080; font-weight: bold\">0x128103c40</span><span style=\"color: #000000; text-decoration-color: #000000\">&gt;</span>\n",
              "<span style=\"color: #7fbf7f; text-decoration-color: #7fbf7f\">│   </span><span style=\"color: #000000; text-decoration-color: #000000; font-weight: bold\">)</span><span style=\"color: #000000; text-decoration-color: #000000\">,</span>\n",
              "<span style=\"color: #7fbf7f; text-decoration-color: #7fbf7f\">│   </span><span style=\"color: #800080; text-decoration-color: #800080; font-weight: bold\">StructuredTool</span><span style=\"color: #000000; text-decoration-color: #000000; font-weight: bold\">(</span>\n",
              "<span style=\"color: #7fbf7f; text-decoration-color: #7fbf7f\">│   │   </span><span style=\"color: #808000; text-decoration-color: #808000\">name</span><span style=\"color: #000000; text-decoration-color: #000000\">=</span><span style=\"color: #008000; text-decoration-color: #008000\">'translate'</span><span style=\"color: #000000; text-decoration-color: #000000\">,</span>\n",
              "<span style=\"color: #7fbf7f; text-decoration-color: #7fbf7f\">│   │   </span><span style=\"color: #808000; text-decoration-color: #808000\">description</span><span style=\"color: #000000; text-decoration-color: #000000\">=</span><span style=\"color: #008000; text-decoration-color: #008000\">'translate(string: str) -&gt; str - Translate the string into Chinese.'</span><span style=\"color: #000000; text-decoration-color: #000000\">,</span>\n",
              "<span style=\"color: #7fbf7f; text-decoration-color: #7fbf7f\">│   │   </span><span style=\"color: #808000; text-decoration-color: #808000\">args_schema</span><span style=\"color: #000000; text-decoration-color: #000000\">=&lt;class </span><span style=\"color: #008000; text-decoration-color: #008000\">'pydantic.v1.main.translateSchema'</span><span style=\"color: #000000; text-decoration-color: #000000\">&gt;,</span>\n",
              "<span style=\"color: #7fbf7f; text-decoration-color: #7fbf7f\">│   │   </span><span style=\"color: #808000; text-decoration-color: #808000\">func</span><span style=\"color: #000000; text-decoration-color: #000000\">=&lt;function translate at </span><span style=\"color: #008080; text-decoration-color: #008080; font-weight: bold\">0x128103600</span><span style=\"font-weight: bold\">&gt;</span>\n",
              "<span style=\"color: #7fbf7f; text-decoration-color: #7fbf7f\">│   </span><span style=\"font-weight: bold\">)</span>\n",
              "<span style=\"font-weight: bold\">]</span>\n",
              "</pre>\n"
            ],
            "text/plain": [
              "\u001b[1m[\u001b[0m\n",
              "\u001b[2;32m│   \u001b[0m\u001b[1;35mStructuredTool\u001b[0m\u001b[1m(\u001b[0m\n",
              "\u001b[2;32m│   │   \u001b[0m\u001b[33mname\u001b[0m=\u001b[32m'sum'\u001b[0m,\n",
              "\u001b[2;32m│   │   \u001b[0m\u001b[33mdescription\u001b[0m=\u001b[32m'sum\u001b[0m\u001b[32m(\u001b[0m\u001b[32ma: int, b: int\u001b[0m\u001b[32m)\u001b[0m\u001b[32m -> str - Perform the addition of variables a and b, i.e., calculate a + b.'\u001b[0m,\n",
              "\u001b[2;32m│   │   \u001b[0m\u001b[33margs_schema\u001b[0m=\u001b[1m<\u001b[0m\u001b[1;95mclass\u001b[0m\u001b[39m \u001b[0m\u001b[32m'pydantic.v1.main.sumSchema'\u001b[0m\u001b[39m>,\u001b[0m\n",
              "\u001b[2;32m│   │   \u001b[0m\u001b[33mfunc\u001b[0m\u001b[39m=<function sum at \u001b[0m\u001b[1;36m0x128103c40\u001b[0m\u001b[39m>\u001b[0m\n",
              "\u001b[2;32m│   \u001b[0m\u001b[1;39m)\u001b[0m\u001b[39m,\u001b[0m\n",
              "\u001b[2;32m│   \u001b[0m\u001b[1;35mStructuredTool\u001b[0m\u001b[1;39m(\u001b[0m\n",
              "\u001b[2;32m│   │   \u001b[0m\u001b[33mname\u001b[0m\u001b[39m=\u001b[0m\u001b[32m'translate'\u001b[0m\u001b[39m,\u001b[0m\n",
              "\u001b[2;32m│   │   \u001b[0m\u001b[33mdescription\u001b[0m\u001b[39m=\u001b[0m\u001b[32m'translate\u001b[0m\u001b[32m(\u001b[0m\u001b[32mstring: str\u001b[0m\u001b[32m)\u001b[0m\u001b[32m -> str - Translate the string into Chinese.'\u001b[0m\u001b[39m,\u001b[0m\n",
              "\u001b[2;32m│   │   \u001b[0m\u001b[33margs_schema\u001b[0m\u001b[39m=<class \u001b[0m\u001b[32m'pydantic.v1.main.translateSchema'\u001b[0m\u001b[39m>,\u001b[0m\n",
              "\u001b[2;32m│   │   \u001b[0m\u001b[33mfunc\u001b[0m\u001b[39m=<function translate at \u001b[0m\u001b[1;36m0x128103600\u001b[0m\u001b[1m>\u001b[0m\n",
              "\u001b[2;32m│   \u001b[0m\u001b[1m)\u001b[0m\n",
              "\u001b[1m]\u001b[0m\n"
            ]
          },
          "metadata": {},
          "output_type": "display_data"
        }
      ],
      "source": [
        "pprint(functions)"
      ]
    },
    {
      "cell_type": "markdown",
      "metadata": {
        "id": "RZRmIHEShXKb"
      },
      "source": [
        "### Prompt"
      ]
    },
    {
      "cell_type": "code",
      "execution_count": 11,
      "metadata": {
        "id": "W4FZMFREYzAo"
      },
      "outputs": [],
      "source": [
        "prompt = ChatPromptTemplate.from_messages([\n",
        "    SystemMessagePromptTemplate.from_template(\"You are an assisant to perform the user input.\"),\n",
        "    HumanMessagePromptTemplate.from_template(\"{input}\"),\n",
        "])"
      ]
    },
    {
      "cell_type": "markdown",
      "metadata": {
        "id": "bYAGaWSYhZmL"
      },
      "source": [
        "### Require chat model"
      ]
    },
    {
      "cell_type": "code",
      "execution_count": 13,
      "metadata": {
        "id": "Afco5Aeacmsj"
      },
      "outputs": [],
      "source": [
        "model: BaseChatModel = ChatOpenAI(temperature=0).bind_functions(functions=functions)"
      ]
    },
    {
      "cell_type": "markdown",
      "metadata": {
        "id": "orWdnmuaQVPb"
      },
      "source": [
        "#### The OpenAI model fires exception.\n",
        "\n",
        "`TypeError: Completions.create() got an unexpected keyword argument 'functions'`"
      ]
    },
    {
      "cell_type": "markdown",
      "metadata": {
        "id": "iLOq78dXl34j"
      },
      "source": [
        "\n",
        "\n",
        "```python\n",
        "prompt = PromptTemplate.from_template(\"\"\"\n",
        "You are an assisant to perform the user input:\n",
        "\n",
        "{input}\n",
        "\"\"\")\n",
        "model: BaseOpenAI = OpenAI(openai_api_key=OPENAI_API_KEY, temperature=1.5).bind_.bind_functions(functions=functions)\n",
        "```\n",
        "\n"
      ]
    },
    {
      "cell_type": "markdown",
      "metadata": {
        "id": "57_1--xWoaw8"
      },
      "source": [
        "#### Model responses `function_call`\n",
        "\n",
        "It determines which function(tool) to call and which arguments to use."
      ]
    },
    {
      "cell_type": "code",
      "execution_count": 15,
      "metadata": {
        "colab": {
          "base_uri": "https://localhost:8080/",
          "height": 82
        },
        "id": "2vJsyQsJZI3g",
        "outputId": "da4c6bb7-a8fb-4f6a-aeef-861ae7d2f1af"
      },
      "outputs": [
        {
          "data": {
            "text/html": [
              "<pre style=\"white-space:pre;overflow-x:auto;line-height:normal;font-family:Menlo,'DejaVu Sans Mono',consolas,'Courier New',monospace\"><span style=\"color: #800080; text-decoration-color: #800080; font-weight: bold\">AIMessage</span><span style=\"font-weight: bold\">(</span>\n",
              "<span style=\"color: #7fbf7f; text-decoration-color: #7fbf7f\">│   </span><span style=\"color: #808000; text-decoration-color: #808000\">content</span>=<span style=\"color: #008000; text-decoration-color: #008000\">''</span>,\n",
              "<span style=\"color: #7fbf7f; text-decoration-color: #7fbf7f\">│   </span><span style=\"color: #808000; text-decoration-color: #808000\">additional_kwargs</span>=<span style=\"font-weight: bold\">{</span><span style=\"color: #008000; text-decoration-color: #008000\">'function_call'</span>: <span style=\"font-weight: bold\">{</span><span style=\"color: #008000; text-decoration-color: #008000\">'arguments'</span>: <span style=\"color: #008000; text-decoration-color: #008000\">'{\"string\":\"Hello,world\"}'</span>, <span style=\"color: #008000; text-decoration-color: #008000\">'name'</span>: <span style=\"color: #008000; text-decoration-color: #008000\">'translate'</span><span style=\"font-weight: bold\">}}</span>\n",
              "<span style=\"font-weight: bold\">)</span>\n",
              "</pre>\n"
            ],
            "text/plain": [
              "\u001b[1;35mAIMessage\u001b[0m\u001b[1m(\u001b[0m\n",
              "\u001b[2;32m│   \u001b[0m\u001b[33mcontent\u001b[0m=\u001b[32m''\u001b[0m,\n",
              "\u001b[2;32m│   \u001b[0m\u001b[33madditional_kwargs\u001b[0m=\u001b[1m{\u001b[0m\u001b[32m'function_call'\u001b[0m: \u001b[1m{\u001b[0m\u001b[32m'arguments'\u001b[0m: \u001b[32m'\u001b[0m\u001b[32m{\u001b[0m\u001b[32m\"string\":\"Hello,world\"\u001b[0m\u001b[32m}\u001b[0m\u001b[32m'\u001b[0m, \u001b[32m'name'\u001b[0m: \u001b[32m'translate'\u001b[0m\u001b[1m}\u001b[0m\u001b[1m}\u001b[0m\n",
              "\u001b[1m)\u001b[0m\n"
            ]
          },
          "metadata": {},
          "output_type": "display_data"
        }
      ],
      "source": [
        "chain: RunnableSequence = prompt | model\n",
        "res: Output = chain.invoke({\"input\":\"\"\"\n",
        "Translate the following sentence:\n",
        "\n",
        "Hello,world\n",
        "\"\"\"})\n",
        "pprint(res)"
      ]
    },
    {
      "cell_type": "markdown",
      "metadata": {
        "id": "iBipHzHalycD"
      },
      "source": [
        "#### Key: `OpenAIFunctionsAgentOutputParser`\n",
        "\n",
        "Converts the OpenAI function_call response into equivalent Python objects.\n",
        "\n",
        "For example, the outcome is `AgentActionMessageLog`, detailing the `tool` to be utilized and `tool_input`: the dictionary that the specified `tool` accepts,\n",
        "\n",
        "so:\n",
        "\n",
        "```\n",
        "tool.run(tool_input)\n",
        "```"
      ]
    },
    {
      "cell_type": "markdown",
      "metadata": {
        "id": "-zMYI5OKYnBF"
      },
      "source": [
        "#### Parse `AIMessage`  with  `function_call` in `additional_kwargs`."
      ]
    },
    {
      "cell_type": "code",
      "execution_count": 16,
      "metadata": {
        "colab": {
          "base_uri": "https://localhost:8080/",
          "height": 279
        },
        "id": "TtNuitAkZ0H6",
        "outputId": "b600e68a-ce81-4d5b-a126-1c35798bfe71"
      },
      "outputs": [
        {
          "data": {
            "text/html": [
              "<pre style=\"white-space:pre;overflow-x:auto;line-height:normal;font-family:Menlo,'DejaVu Sans Mono',consolas,'Courier New',monospace\"><span style=\"color: #800080; text-decoration-color: #800080; font-weight: bold\">AgentActionMessageLog</span><span style=\"font-weight: bold\">(</span>\n",
              "<span style=\"color: #7fbf7f; text-decoration-color: #7fbf7f\">│   </span><span style=\"color: #808000; text-decoration-color: #808000\">tool</span>=<span style=\"color: #008000; text-decoration-color: #008000\">'translate'</span>,\n",
              "<span style=\"color: #7fbf7f; text-decoration-color: #7fbf7f\">│   </span><span style=\"color: #808000; text-decoration-color: #808000\">tool_input</span>=<span style=\"font-weight: bold\">{</span><span style=\"color: #008000; text-decoration-color: #008000\">'string'</span>: <span style=\"color: #008000; text-decoration-color: #008000\">'Hallo,Welt, Hello,world'</span><span style=\"font-weight: bold\">}</span>,\n",
              "<span style=\"color: #7fbf7f; text-decoration-color: #7fbf7f\">│   </span><span style=\"color: #808000; text-decoration-color: #808000\">log</span>=<span style=\"color: #008000; text-decoration-color: #008000\">\"\\nInvoking: `translate` with `{'string': 'Hallo,Welt, Hello,world'}`\\n\\n\\n\"</span>,\n",
              "<span style=\"color: #7fbf7f; text-decoration-color: #7fbf7f\">│   </span><span style=\"color: #808000; text-decoration-color: #808000\">message_log</span>=<span style=\"font-weight: bold\">[</span>\n",
              "<span style=\"color: #7fbf7f; text-decoration-color: #7fbf7f\">│   │   </span><span style=\"color: #800080; text-decoration-color: #800080; font-weight: bold\">AIMessage</span><span style=\"font-weight: bold\">(</span>\n",
              "<span style=\"color: #7fbf7f; text-decoration-color: #7fbf7f\">│   │   │   </span><span style=\"color: #808000; text-decoration-color: #808000\">content</span>=<span style=\"color: #008000; text-decoration-color: #008000\">''</span>,\n",
              "<span style=\"color: #7fbf7f; text-decoration-color: #7fbf7f\">│   │   │   </span><span style=\"color: #808000; text-decoration-color: #808000\">additional_kwargs</span>=<span style=\"font-weight: bold\">{</span>\n",
              "<span style=\"color: #7fbf7f; text-decoration-color: #7fbf7f\">│   │   │   │   </span><span style=\"color: #008000; text-decoration-color: #008000\">'function_call'</span>: <span style=\"font-weight: bold\">{</span><span style=\"color: #008000; text-decoration-color: #008000\">'arguments'</span>: <span style=\"color: #008000; text-decoration-color: #008000\">'{\"string\":\"Hallo,Welt, Hello,world\"}'</span>, <span style=\"color: #008000; text-decoration-color: #008000\">'name'</span>: <span style=\"color: #008000; text-decoration-color: #008000\">'translate'</span><span style=\"font-weight: bold\">}</span>\n",
              "<span style=\"color: #7fbf7f; text-decoration-color: #7fbf7f\">│   │   │   </span><span style=\"font-weight: bold\">}</span>\n",
              "<span style=\"color: #7fbf7f; text-decoration-color: #7fbf7f\">│   │   </span><span style=\"font-weight: bold\">)</span>\n",
              "<span style=\"color: #7fbf7f; text-decoration-color: #7fbf7f\">│   </span><span style=\"font-weight: bold\">]</span>\n",
              "<span style=\"font-weight: bold\">)</span>\n",
              "</pre>\n"
            ],
            "text/plain": [
              "\u001b[1;35mAgentActionMessageLog\u001b[0m\u001b[1m(\u001b[0m\n",
              "\u001b[2;32m│   \u001b[0m\u001b[33mtool\u001b[0m=\u001b[32m'translate'\u001b[0m,\n",
              "\u001b[2;32m│   \u001b[0m\u001b[33mtool_input\u001b[0m=\u001b[1m{\u001b[0m\u001b[32m'string'\u001b[0m: \u001b[32m'Hallo,Welt, Hello,world'\u001b[0m\u001b[1m}\u001b[0m,\n",
              "\u001b[2;32m│   \u001b[0m\u001b[33mlog\u001b[0m=\u001b[32m\"\\nInvoking: `translate` with `\u001b[0m\u001b[32m{\u001b[0m\u001b[32m'string': 'Hallo,Welt, Hello,world'\u001b[0m\u001b[32m}\u001b[0m\u001b[32m`\\n\\n\\n\"\u001b[0m,\n",
              "\u001b[2;32m│   \u001b[0m\u001b[33mmessage_log\u001b[0m=\u001b[1m[\u001b[0m\n",
              "\u001b[2;32m│   │   \u001b[0m\u001b[1;35mAIMessage\u001b[0m\u001b[1m(\u001b[0m\n",
              "\u001b[2;32m│   │   │   \u001b[0m\u001b[33mcontent\u001b[0m=\u001b[32m''\u001b[0m,\n",
              "\u001b[2;32m│   │   │   \u001b[0m\u001b[33madditional_kwargs\u001b[0m=\u001b[1m{\u001b[0m\n",
              "\u001b[2;32m│   │   │   │   \u001b[0m\u001b[32m'function_call'\u001b[0m: \u001b[1m{\u001b[0m\u001b[32m'arguments'\u001b[0m: \u001b[32m'\u001b[0m\u001b[32m{\u001b[0m\u001b[32m\"string\":\"Hallo,Welt, Hello,world\"\u001b[0m\u001b[32m}\u001b[0m\u001b[32m'\u001b[0m, \u001b[32m'name'\u001b[0m: \u001b[32m'translate'\u001b[0m\u001b[1m}\u001b[0m\n",
              "\u001b[2;32m│   │   │   \u001b[0m\u001b[1m}\u001b[0m\n",
              "\u001b[2;32m│   │   \u001b[0m\u001b[1m)\u001b[0m\n",
              "\u001b[2;32m│   \u001b[0m\u001b[1m]\u001b[0m\n",
              "\u001b[1m)\u001b[0m\n"
            ]
          },
          "metadata": {},
          "output_type": "display_data"
        }
      ],
      "source": [
        "tool_exec_chain: RunnableSequence = chain | OpenAIFunctionsAgentOutputParser()\n",
        "result: Output = tool_exec_chain.invoke({\"input\":\"\"\"\n",
        "Translate the following sentence:\n",
        "\n",
        "Hallo,Welt, Hello,world\n",
        "\"\"\"})\n",
        "\n",
        "pprint(result)"
      ]
    },
    {
      "cell_type": "markdown",
      "metadata": {
        "id": "cGcnazRGo_g0"
      },
      "source": [
        "#### `AgentActionMessageLog`, if one function(tool) is required"
      ]
    },
    {
      "cell_type": "code",
      "execution_count": 17,
      "metadata": {
        "id": "KQAcATHhP-E-"
      },
      "outputs": [],
      "source": [
        "tools={\n",
        "            \"sum\":sum,\n",
        "            \"translate\":translate,\n",
        "        }"
      ]
    },
    {
      "cell_type": "code",
      "execution_count": 18,
      "metadata": {
        "colab": {
          "base_uri": "https://localhost:8080/",
          "height": 36
        },
        "id": "6I4EQPRlA7WZ",
        "outputId": "887f9929-5f30-449e-f9a0-304297f472f8"
      },
      "outputs": [
        {
          "data": {
            "text/plain": [
              "'你好，世界，你好，世界。'"
            ]
          },
          "execution_count": 18,
          "metadata": {},
          "output_type": "execute_result"
        }
      ],
      "source": [
        "tools[result.tool].run(result.tool_input)"
      ]
    },
    {
      "cell_type": "code",
      "execution_count": 19,
      "metadata": {
        "colab": {
          "base_uri": "https://localhost:8080/",
          "height": 197
        },
        "id": "-SW6iIbYkqPH",
        "outputId": "43b776e5-83b3-4103-b6d3-107418c3895d"
      },
      "outputs": [
        {
          "data": {
            "text/html": [
              "<pre style=\"white-space:pre;overflow-x:auto;line-height:normal;font-family:Menlo,'DejaVu Sans Mono',consolas,'Courier New',monospace\"><span style=\"color: #800080; text-decoration-color: #800080; font-weight: bold\">AgentActionMessageLog</span><span style=\"font-weight: bold\">(</span>\n",
              "<span style=\"color: #7fbf7f; text-decoration-color: #7fbf7f\">│   </span><span style=\"color: #808000; text-decoration-color: #808000\">tool</span>=<span style=\"color: #008000; text-decoration-color: #008000\">'sum'</span>,\n",
              "<span style=\"color: #7fbf7f; text-decoration-color: #7fbf7f\">│   </span><span style=\"color: #808000; text-decoration-color: #808000\">tool_input</span>=<span style=\"font-weight: bold\">{</span><span style=\"color: #008000; text-decoration-color: #008000\">'a'</span>: <span style=\"color: #008080; text-decoration-color: #008080; font-weight: bold\">1</span>, <span style=\"color: #008000; text-decoration-color: #008000\">'b'</span>: <span style=\"color: #008080; text-decoration-color: #008080; font-weight: bold\">1</span><span style=\"font-weight: bold\">}</span>,\n",
              "<span style=\"color: #7fbf7f; text-decoration-color: #7fbf7f\">│   </span><span style=\"color: #808000; text-decoration-color: #808000\">log</span>=<span style=\"color: #008000; text-decoration-color: #008000\">\"\\nInvoking: `sum` with `{'a': 1, 'b': 1}`\\n\\n\\n\"</span>,\n",
              "<span style=\"color: #7fbf7f; text-decoration-color: #7fbf7f\">│   </span><span style=\"color: #808000; text-decoration-color: #808000\">message_log</span>=<span style=\"font-weight: bold\">[</span>\n",
              "<span style=\"color: #7fbf7f; text-decoration-color: #7fbf7f\">│   │   </span><span style=\"color: #800080; text-decoration-color: #800080; font-weight: bold\">AIMessage</span><span style=\"font-weight: bold\">(</span><span style=\"color: #808000; text-decoration-color: #808000\">content</span>=<span style=\"color: #008000; text-decoration-color: #008000\">''</span>, <span style=\"color: #808000; text-decoration-color: #808000\">additional_kwargs</span>=<span style=\"font-weight: bold\">{</span><span style=\"color: #008000; text-decoration-color: #008000\">'function_call'</span>: <span style=\"font-weight: bold\">{</span><span style=\"color: #008000; text-decoration-color: #008000\">'arguments'</span>: <span style=\"color: #008000; text-decoration-color: #008000\">'{\"a\":1,\"b\":1}'</span>, <span style=\"color: #008000; text-decoration-color: #008000\">'name'</span>: <span style=\"color: #008000; text-decoration-color: #008000\">'sum'</span><span style=\"font-weight: bold\">}})</span>\n",
              "<span style=\"color: #7fbf7f; text-decoration-color: #7fbf7f\">│   </span><span style=\"font-weight: bold\">]</span>\n",
              "<span style=\"font-weight: bold\">)</span>\n",
              "</pre>\n"
            ],
            "text/plain": [
              "\u001b[1;35mAgentActionMessageLog\u001b[0m\u001b[1m(\u001b[0m\n",
              "\u001b[2;32m│   \u001b[0m\u001b[33mtool\u001b[0m=\u001b[32m'sum'\u001b[0m,\n",
              "\u001b[2;32m│   \u001b[0m\u001b[33mtool_input\u001b[0m=\u001b[1m{\u001b[0m\u001b[32m'a'\u001b[0m: \u001b[1;36m1\u001b[0m, \u001b[32m'b'\u001b[0m: \u001b[1;36m1\u001b[0m\u001b[1m}\u001b[0m,\n",
              "\u001b[2;32m│   \u001b[0m\u001b[33mlog\u001b[0m=\u001b[32m\"\\nInvoking: `sum` with `\u001b[0m\u001b[32m{\u001b[0m\u001b[32m'a': 1, 'b': 1\u001b[0m\u001b[32m}\u001b[0m\u001b[32m`\\n\\n\\n\"\u001b[0m,\n",
              "\u001b[2;32m│   \u001b[0m\u001b[33mmessage_log\u001b[0m=\u001b[1m[\u001b[0m\n",
              "\u001b[2;32m│   │   \u001b[0m\u001b[1;35mAIMessage\u001b[0m\u001b[1m(\u001b[0m\u001b[33mcontent\u001b[0m=\u001b[32m''\u001b[0m, \u001b[33madditional_kwargs\u001b[0m=\u001b[1m{\u001b[0m\u001b[32m'function_call'\u001b[0m: \u001b[1m{\u001b[0m\u001b[32m'arguments'\u001b[0m: \u001b[32m'\u001b[0m\u001b[32m{\u001b[0m\u001b[32m\"a\":1,\"b\":1\u001b[0m\u001b[32m}\u001b[0m\u001b[32m'\u001b[0m, \u001b[32m'name'\u001b[0m: \u001b[32m'sum'\u001b[0m\u001b[1m}\u001b[0m\u001b[1m}\u001b[0m\u001b[1m)\u001b[0m\n",
              "\u001b[2;32m│   \u001b[0m\u001b[1m]\u001b[0m\n",
              "\u001b[1m)\u001b[0m\n"
            ]
          },
          "metadata": {},
          "output_type": "display_data"
        }
      ],
      "source": [
        "result: Output = tool_exec_chain.invoke({\"input\":\"\"\"\n",
        "What is 1 plus 1?\n",
        "\"\"\"})\n",
        "pprint(result)"
      ]
    },
    {
      "cell_type": "code",
      "execution_count": 20,
      "metadata": {
        "colab": {
          "base_uri": "https://localhost:8080/"
        },
        "id": "IAqf5uDyhgm5",
        "outputId": "9f5a8261-4276-4184-f04a-2005558e8792"
      },
      "outputs": [
        {
          "data": {
            "text/plain": [
              "('sum', {'a': 1, 'b': 1})"
            ]
          },
          "execution_count": 20,
          "metadata": {},
          "output_type": "execute_result"
        }
      ],
      "source": [
        "result.tool, result.tool_input"
      ]
    },
    {
      "cell_type": "code",
      "execution_count": 21,
      "metadata": {
        "colab": {
          "base_uri": "https://localhost:8080/",
          "height": 36
        },
        "id": "NtsHQBK1huq4",
        "outputId": "2d9404ac-dd7a-44a9-c9f2-e6081a04c362"
      },
      "outputs": [
        {
          "data": {
            "text/plain": [
              "'The result of 1 + 1 is 2'"
            ]
          },
          "execution_count": 21,
          "metadata": {},
          "output_type": "execute_result"
        }
      ],
      "source": [
        "tools[result.tool].run(result.tool_input)"
      ]
    },
    {
      "cell_type": "markdown",
      "metadata": {
        "id": "W4i2V5yRpKwq"
      },
      "source": [
        "#### `AgentFinish`, if no function (tool) is required."
      ]
    },
    {
      "cell_type": "code",
      "execution_count": 22,
      "metadata": {
        "colab": {
          "base_uri": "https://localhost:8080/",
          "height": 33
        },
        "id": "lvtRd5IHtpOl",
        "outputId": "675201d3-367a-45d0-ef57-ad3139227f18"
      },
      "outputs": [
        {
          "data": {
            "text/html": [
              "<pre style=\"white-space:pre;overflow-x:auto;line-height:normal;font-family:Menlo,'DejaVu Sans Mono',consolas,'Courier New',monospace\"><span style=\"color: #800080; text-decoration-color: #800080; font-weight: bold\">AIMessage</span><span style=\"font-weight: bold\">(</span><span style=\"color: #808000; text-decoration-color: #808000\">content</span>=<span style=\"color: #008000; text-decoration-color: #008000\">'Hello! How can I assist you today?'</span><span style=\"font-weight: bold\">)</span>\n",
              "</pre>\n"
            ],
            "text/plain": [
              "\u001b[1;35mAIMessage\u001b[0m\u001b[1m(\u001b[0m\u001b[33mcontent\u001b[0m=\u001b[32m'Hello! How can I assist you today?'\u001b[0m\u001b[1m)\u001b[0m\n"
            ]
          },
          "metadata": {},
          "output_type": "display_data"
        }
      ],
      "source": [
        "chain: RunnableSequence = prompt | model\n",
        "res: Output = chain.invoke({\"input\":\"\"\"\n",
        "hi\n",
        "\"\"\"})\n",
        "pprint(res)"
      ]
    },
    {
      "cell_type": "code",
      "execution_count": 23,
      "metadata": {
        "colab": {
          "base_uri": "https://localhost:8080/",
          "height": 82
        },
        "id": "4n6dWIsgoBlp",
        "outputId": "89ae6c54-a098-409e-bfde-11c4d3dfee97"
      },
      "outputs": [
        {
          "data": {
            "text/html": [
              "<pre style=\"white-space:pre;overflow-x:auto;line-height:normal;font-family:Menlo,'DejaVu Sans Mono',consolas,'Courier New',monospace\"><span style=\"color: #800080; text-decoration-color: #800080; font-weight: bold\">AgentFinish</span><span style=\"font-weight: bold\">(</span>\n",
              "<span style=\"color: #7fbf7f; text-decoration-color: #7fbf7f\">│   </span><span style=\"color: #808000; text-decoration-color: #808000\">return_values</span>=<span style=\"font-weight: bold\">{</span><span style=\"color: #008000; text-decoration-color: #008000\">'output'</span>: <span style=\"color: #008000; text-decoration-color: #008000\">'Hello! How can I assist you today?'</span><span style=\"font-weight: bold\">}</span>,\n",
              "<span style=\"color: #7fbf7f; text-decoration-color: #7fbf7f\">│   </span><span style=\"color: #808000; text-decoration-color: #808000\">log</span>=<span style=\"color: #008000; text-decoration-color: #008000\">'Hello! How can I assist you today?'</span>\n",
              "<span style=\"font-weight: bold\">)</span>\n",
              "</pre>\n"
            ],
            "text/plain": [
              "\u001b[1;35mAgentFinish\u001b[0m\u001b[1m(\u001b[0m\n",
              "\u001b[2;32m│   \u001b[0m\u001b[33mreturn_values\u001b[0m=\u001b[1m{\u001b[0m\u001b[32m'output'\u001b[0m: \u001b[32m'Hello! How can I assist you today?'\u001b[0m\u001b[1m}\u001b[0m,\n",
              "\u001b[2;32m│   \u001b[0m\u001b[33mlog\u001b[0m=\u001b[32m'Hello! How can I assist you today?'\u001b[0m\n",
              "\u001b[1m)\u001b[0m\n"
            ]
          },
          "metadata": {},
          "output_type": "display_data"
        }
      ],
      "source": [
        "tool_exec_chain: RunnableSequence = chain | OpenAIFunctionsAgentOutputParser()\n",
        "result: Output = tool_exec_chain.invoke({\"input\":\"\"\"\n",
        "Hi\n",
        "\"\"\"})\n",
        "\n",
        "pprint(result)"
      ]
    },
    {
      "cell_type": "markdown",
      "metadata": {
        "id": "VJdvSHaNa9DV"
      },
      "source": [
        "### Simple Agent, one interaction\n",
        "\n",
        "When a specific tool is requested by an OpenAI response, the process typically does not proceed to `langchain.schema.AgentFinish`. This implies that whenever operations like `sum` or `translate` are required, `langchain.schema.AgentAction` is invoked instead."
      ]
    },
    {
      "cell_type": "markdown",
      "metadata": {
        "id": "forbLaYquYRu"
      },
      "source": [
        "#### Only request one task"
      ]
    },
    {
      "cell_type": "code",
      "execution_count": 24,
      "metadata": {
        "id": "jGV2opwlbAGc"
      },
      "outputs": [],
      "source": [
        "def agent_resolver(res: Output):\n",
        "    logger.info(type(res))\n",
        "\n",
        "    if isinstance(res, AgentFinish):\n",
        "        return res.return_values[\"output\"]\n",
        "    else:\n",
        "        tools={\n",
        "            \"sum\":sum,\n",
        "            \"translate\":translate,\n",
        "        }\n",
        "        return tools[res.tool].run(res.tool_input)"
      ]
    },
    {
      "cell_type": "code",
      "execution_count": 25,
      "metadata": {
        "id": "eRBaXQfKixCM"
      },
      "outputs": [],
      "source": [
        "agent_chain: RunnableSequence = tool_exec_chain | agent_resolver"
      ]
    },
    {
      "cell_type": "code",
      "execution_count": 26,
      "metadata": {
        "colab": {
          "base_uri": "https://localhost:8080/",
          "height": 53
        },
        "id": "lnqPjwjvtU9I",
        "outputId": "b8d12b92-8942-4e10-a4f7-b9b7e4e71a10"
      },
      "outputs": [
        {
          "name": "stderr",
          "output_type": "stream",
          "text": [
            "\u001b[32m2024-02-28 22:03:21.565\u001b[0m | \u001b[1mINFO    \u001b[0m | \u001b[36m__main__\u001b[0m:\u001b[36magent_resolver\u001b[0m:\u001b[36m2\u001b[0m - \u001b[1m<class 'langchain_core.agents.AgentActionMessageLog'>\u001b[0m\n"
          ]
        },
        {
          "data": {
            "text/html": [
              "<pre style=\"white-space:pre;overflow-x:auto;line-height:normal;font-family:Menlo,'DejaVu Sans Mono',consolas,'Courier New',monospace\"><span style=\"color: #008000; text-decoration-color: #008000\">'你好，世界，你好，世界。'</span>\n",
              "</pre>\n"
            ],
            "text/plain": [
              "\u001b[32m'你好，世界，你好，世界。'\u001b[0m\n"
            ]
          },
          "metadata": {},
          "output_type": "display_data"
        }
      ],
      "source": [
        "result: Output = agent_chain.invoke({\"input\":\"\"\"\n",
        "Translate the following sentence:\n",
        "\n",
        "Hallo,Welt, Hello,world\n",
        "\"\"\"})\n",
        "pprint(result)"
      ]
    },
    {
      "cell_type": "code",
      "execution_count": 27,
      "metadata": {
        "colab": {
          "base_uri": "https://localhost:8080/",
          "height": 51
        },
        "id": "qA0uBbGitWHW",
        "outputId": "bca77fb4-6d03-428c-c69d-51527679392d"
      },
      "outputs": [
        {
          "name": "stderr",
          "output_type": "stream",
          "text": [
            "\u001b[32m2024-02-28 22:03:26.633\u001b[0m | \u001b[1mINFO    \u001b[0m | \u001b[36m__main__\u001b[0m:\u001b[36magent_resolver\u001b[0m:\u001b[36m2\u001b[0m - \u001b[1m<class 'langchain_core.agents.AgentActionMessageLog'>\u001b[0m\n"
          ]
        },
        {
          "data": {
            "text/html": [
              "<pre style=\"white-space:pre;overflow-x:auto;line-height:normal;font-family:Menlo,'DejaVu Sans Mono',consolas,'Courier New',monospace\"><span style=\"color: #008000; text-decoration-color: #008000\">'The result of 1 + 1 is 2'</span>\n",
              "</pre>\n"
            ],
            "text/plain": [
              "\u001b[32m'The result of 1 + 1 is 2'\u001b[0m\n"
            ]
          },
          "metadata": {},
          "output_type": "display_data"
        }
      ],
      "source": [
        "result: Output = agent_chain.invoke({\"input\":\"\"\"\n",
        "What is the 1 plus 1 ?\n",
        "\"\"\"})\n",
        "pprint(result)"
      ]
    },
    {
      "cell_type": "code",
      "execution_count": 28,
      "metadata": {
        "colab": {
          "base_uri": "https://localhost:8080/",
          "height": 51
        },
        "id": "-MnLl4kJtX0g",
        "outputId": "69a0b00f-cdc9-4cfe-bb9d-e06fcd6dee15"
      },
      "outputs": [
        {
          "name": "stderr",
          "output_type": "stream",
          "text": [
            "\u001b[32m2024-02-28 22:03:29.753\u001b[0m | \u001b[1mINFO    \u001b[0m | \u001b[36m__main__\u001b[0m:\u001b[36magent_resolver\u001b[0m:\u001b[36m2\u001b[0m - \u001b[1m<class 'langchain_core.agents.AgentFinish'>\u001b[0m\n"
          ]
        },
        {
          "data": {
            "text/html": [
              "<pre style=\"white-space:pre;overflow-x:auto;line-height:normal;font-family:Menlo,'DejaVu Sans Mono',consolas,'Courier New',monospace\"><span style=\"color: #008000; text-decoration-color: #008000\">'Hello! How can I assist you today?'</span>\n",
              "</pre>\n"
            ],
            "text/plain": [
              "\u001b[32m'Hello! How can I assist you today?'\u001b[0m\n"
            ]
          },
          "metadata": {},
          "output_type": "display_data"
        }
      ],
      "source": [
        "result: Output = agent_chain.invoke({\"input\":\"\"\"\n",
        "Hello\n",
        "\"\"\"})\n",
        "pprint(result)"
      ]
    },
    {
      "cell_type": "markdown",
      "metadata": {
        "id": "_euSoeYjIxtx"
      },
      "source": [
        "#### Request two tasks, not fully worked\n",
        "\n",
        "1. The `sum()` function executed successfully.\n",
        "2. The `translate()` function failed because the agent exited peacefully after the completion of `sum()`.\n"
      ]
    },
    {
      "cell_type": "code",
      "execution_count": 29,
      "metadata": {
        "colab": {
          "base_uri": "https://localhost:8080/",
          "height": 51
        },
        "id": "j0vBrstFslP0",
        "outputId": "149627ee-b756-43a4-dc1f-0d0e631e5a63"
      },
      "outputs": [
        {
          "name": "stderr",
          "output_type": "stream",
          "text": [
            "\u001b[32m2024-02-28 22:03:32.261\u001b[0m | \u001b[1mINFO    \u001b[0m | \u001b[36m__main__\u001b[0m:\u001b[36magent_resolver\u001b[0m:\u001b[36m2\u001b[0m - \u001b[1m<class 'langchain_core.agents.AgentActionMessageLog'>\u001b[0m\n"
          ]
        },
        {
          "data": {
            "text/html": [
              "<pre style=\"white-space:pre;overflow-x:auto;line-height:normal;font-family:Menlo,'DejaVu Sans Mono',consolas,'Courier New',monospace\"><span style=\"color: #008000; text-decoration-color: #008000\">'The result of 1 + 1 is 2'</span>\n",
              "</pre>\n"
            ],
            "text/plain": [
              "\u001b[32m'The result of 1 + 1 is 2'\u001b[0m\n"
            ]
          },
          "metadata": {},
          "output_type": "display_data"
        }
      ],
      "source": [
        "result: Output = agent_chain.invoke({\"input\":\"\"\"\n",
        "What is the 1 plus 1, answer me with a translated result?\n",
        "\"\"\"})\n",
        "pprint(result)"
      ]
    },
    {
      "cell_type": "markdown",
      "metadata": {
        "id": "YRsYQttqLDwN"
      },
      "source": [
        "### Agent loop\n",
        "\n",
        "Start a new example.\n",
        "\n",
        "Use `random_joke()` to generate a crazy joke and translate the response.\n",
        "\n",
        "It is a continuous loop that executes the `chain` until the `AgentFinish` condition is met, without consideration for any errors or infinite loop exceptions."
      ]
    },
    {
      "cell_type": "markdown",
      "metadata": {
        "id": "k9yVlDm6L2pV"
      },
      "source": [
        "#### Key: Redefine the prompt to record history , allowing for the subsequent execution of the `translate()` function after obtaining the `random_joke()` result."
      ]
    },
    {
      "cell_type": "code",
      "execution_count": 30,
      "metadata": {
        "id": "xy0res02LslQ"
      },
      "outputs": [],
      "source": [
        "prompt = ChatPromptTemplate.from_messages([\n",
        "    SystemMessagePromptTemplate.from_template(\"You are an assisant to perform the user input.\"),\n",
        "    HumanMessagePromptTemplate.from_template(\"{input}\"),\n",
        "    MessagesPlaceholder(variable_name=\"history\"),\n",
        "])"
      ]
    },
    {
      "cell_type": "code",
      "execution_count": 31,
      "metadata": {
        "id": "o7g6DnNAn0BL"
      },
      "outputs": [],
      "source": [
        "functions = [\n",
        "    random_joke,\n",
        "    translate\n",
        "]"
      ]
    },
    {
      "cell_type": "code",
      "execution_count": 32,
      "metadata": {
        "colab": {
          "base_uri": "https://localhost:8080/",
          "height": 246
        },
        "id": "C4yqAmkhuvwE",
        "outputId": "84d5dc21-4229-48c9-fecd-ddfbca13f3ed"
      },
      "outputs": [
        {
          "data": {
            "text/html": [
              "<pre style=\"white-space:pre;overflow-x:auto;line-height:normal;font-family:Menlo,'DejaVu Sans Mono',consolas,'Courier New',monospace\"><span style=\"font-weight: bold\">[</span>\n",
              "<span style=\"color: #7fbf7f; text-decoration-color: #7fbf7f\">│   </span><span style=\"color: #800080; text-decoration-color: #800080; font-weight: bold\">StructuredTool</span><span style=\"font-weight: bold\">(</span>\n",
              "<span style=\"color: #7fbf7f; text-decoration-color: #7fbf7f\">│   │   </span><span style=\"color: #808000; text-decoration-color: #808000\">name</span>=<span style=\"color: #008000; text-decoration-color: #008000\">'random_joke'</span>,\n",
              "<span style=\"color: #7fbf7f; text-decoration-color: #7fbf7f\">│   │   </span><span style=\"color: #808000; text-decoration-color: #808000\">description</span>=<span style=\"color: #008000; text-decoration-color: #008000\">'random_joke() -&gt; str - A crazy creator that can create a random joke.'</span>,\n",
              "<span style=\"color: #7fbf7f; text-decoration-color: #7fbf7f\">│   │   </span><span style=\"color: #808000; text-decoration-color: #808000\">args_schema</span>=<span style=\"font-weight: bold\">&lt;</span><span style=\"color: #ff00ff; text-decoration-color: #ff00ff; font-weight: bold\">class</span><span style=\"color: #000000; text-decoration-color: #000000\"> </span><span style=\"color: #008000; text-decoration-color: #008000\">'pydantic.v1.main.random_jokeSchema'</span><span style=\"color: #000000; text-decoration-color: #000000\">&gt;,</span>\n",
              "<span style=\"color: #7fbf7f; text-decoration-color: #7fbf7f\">│   │   </span><span style=\"color: #808000; text-decoration-color: #808000\">func</span><span style=\"color: #000000; text-decoration-color: #000000\">=&lt;function random_joke at </span><span style=\"color: #008080; text-decoration-color: #008080; font-weight: bold\">0x128103ec0</span><span style=\"color: #000000; text-decoration-color: #000000\">&gt;</span>\n",
              "<span style=\"color: #7fbf7f; text-decoration-color: #7fbf7f\">│   </span><span style=\"color: #000000; text-decoration-color: #000000; font-weight: bold\">)</span><span style=\"color: #000000; text-decoration-color: #000000\">,</span>\n",
              "<span style=\"color: #7fbf7f; text-decoration-color: #7fbf7f\">│   </span><span style=\"color: #800080; text-decoration-color: #800080; font-weight: bold\">StructuredTool</span><span style=\"color: #000000; text-decoration-color: #000000; font-weight: bold\">(</span>\n",
              "<span style=\"color: #7fbf7f; text-decoration-color: #7fbf7f\">│   │   </span><span style=\"color: #808000; text-decoration-color: #808000\">name</span><span style=\"color: #000000; text-decoration-color: #000000\">=</span><span style=\"color: #008000; text-decoration-color: #008000\">'translate'</span><span style=\"color: #000000; text-decoration-color: #000000\">,</span>\n",
              "<span style=\"color: #7fbf7f; text-decoration-color: #7fbf7f\">│   │   </span><span style=\"color: #808000; text-decoration-color: #808000\">description</span><span style=\"color: #000000; text-decoration-color: #000000\">=</span><span style=\"color: #008000; text-decoration-color: #008000\">'translate(string: str) -&gt; str - Translate the string into Chinese.'</span><span style=\"color: #000000; text-decoration-color: #000000\">,</span>\n",
              "<span style=\"color: #7fbf7f; text-decoration-color: #7fbf7f\">│   │   </span><span style=\"color: #808000; text-decoration-color: #808000\">args_schema</span><span style=\"color: #000000; text-decoration-color: #000000\">=&lt;class </span><span style=\"color: #008000; text-decoration-color: #008000\">'pydantic.v1.main.translateSchema'</span><span style=\"color: #000000; text-decoration-color: #000000\">&gt;,</span>\n",
              "<span style=\"color: #7fbf7f; text-decoration-color: #7fbf7f\">│   │   </span><span style=\"color: #808000; text-decoration-color: #808000\">func</span><span style=\"color: #000000; text-decoration-color: #000000\">=&lt;function translate at </span><span style=\"color: #008080; text-decoration-color: #008080; font-weight: bold\">0x128103600</span><span style=\"font-weight: bold\">&gt;</span>\n",
              "<span style=\"color: #7fbf7f; text-decoration-color: #7fbf7f\">│   </span><span style=\"font-weight: bold\">)</span>\n",
              "<span style=\"font-weight: bold\">]</span>\n",
              "</pre>\n"
            ],
            "text/plain": [
              "\u001b[1m[\u001b[0m\n",
              "\u001b[2;32m│   \u001b[0m\u001b[1;35mStructuredTool\u001b[0m\u001b[1m(\u001b[0m\n",
              "\u001b[2;32m│   │   \u001b[0m\u001b[33mname\u001b[0m=\u001b[32m'random_joke'\u001b[0m,\n",
              "\u001b[2;32m│   │   \u001b[0m\u001b[33mdescription\u001b[0m=\u001b[32m'random_joke\u001b[0m\u001b[32m(\u001b[0m\u001b[32m)\u001b[0m\u001b[32m -> str - A crazy creator that can create a random joke.'\u001b[0m,\n",
              "\u001b[2;32m│   │   \u001b[0m\u001b[33margs_schema\u001b[0m=\u001b[1m<\u001b[0m\u001b[1;95mclass\u001b[0m\u001b[39m \u001b[0m\u001b[32m'pydantic.v1.main.random_jokeSchema'\u001b[0m\u001b[39m>,\u001b[0m\n",
              "\u001b[2;32m│   │   \u001b[0m\u001b[33mfunc\u001b[0m\u001b[39m=<function random_joke at \u001b[0m\u001b[1;36m0x128103ec0\u001b[0m\u001b[39m>\u001b[0m\n",
              "\u001b[2;32m│   \u001b[0m\u001b[1;39m)\u001b[0m\u001b[39m,\u001b[0m\n",
              "\u001b[2;32m│   \u001b[0m\u001b[1;35mStructuredTool\u001b[0m\u001b[1;39m(\u001b[0m\n",
              "\u001b[2;32m│   │   \u001b[0m\u001b[33mname\u001b[0m\u001b[39m=\u001b[0m\u001b[32m'translate'\u001b[0m\u001b[39m,\u001b[0m\n",
              "\u001b[2;32m│   │   \u001b[0m\u001b[33mdescription\u001b[0m\u001b[39m=\u001b[0m\u001b[32m'translate\u001b[0m\u001b[32m(\u001b[0m\u001b[32mstring: str\u001b[0m\u001b[32m)\u001b[0m\u001b[32m -> str - Translate the string into Chinese.'\u001b[0m\u001b[39m,\u001b[0m\n",
              "\u001b[2;32m│   │   \u001b[0m\u001b[33margs_schema\u001b[0m\u001b[39m=<class \u001b[0m\u001b[32m'pydantic.v1.main.translateSchema'\u001b[0m\u001b[39m>,\u001b[0m\n",
              "\u001b[2;32m│   │   \u001b[0m\u001b[33mfunc\u001b[0m\u001b[39m=<function translate at \u001b[0m\u001b[1;36m0x128103600\u001b[0m\u001b[1m>\u001b[0m\n",
              "\u001b[2;32m│   \u001b[0m\u001b[1m)\u001b[0m\n",
              "\u001b[1m]\u001b[0m\n"
            ]
          },
          "metadata": {},
          "output_type": "display_data"
        }
      ],
      "source": [
        "pprint(functions)"
      ]
    },
    {
      "cell_type": "code",
      "execution_count": 34,
      "metadata": {
        "id": "u3bv4tFqntnP"
      },
      "outputs": [],
      "source": [
        "model: BaseChatModel = ChatOpenAI(temperature=1.5).bind_functions(functions=functions)"
      ]
    },
    {
      "cell_type": "code",
      "execution_count": 35,
      "metadata": {
        "id": "GtmABDDDn2AG"
      },
      "outputs": [],
      "source": [
        "# The last node is not some like agent_resolver() above, because we`ll use loop the whole agent logical\n",
        "# in it.\n",
        "agent_chain: RunnableSequence = prompt | model | OpenAIFunctionsAgentOutputParser()"
      ]
    },
    {
      "cell_type": "code",
      "execution_count": 36,
      "metadata": {
        "id": "Ople2SM_NVdn"
      },
      "outputs": [],
      "source": [
        "def agent_executor(agent_chain: RunnableSequence, human_input: str) -> Output:\n",
        "    history = list()\n",
        "\n",
        "    tools = {\n",
        "        \"random_joke\":random_joke,\n",
        "        \"translate\":translate,\n",
        "    }\n",
        "\n",
        "    while True:\n",
        "        fmt_openai_funs: List[BaseMessage] = format_to_openai_functions(history)\n",
        "        pprint(\"format_to_openai_functions:\")\n",
        "        pprint(fmt_openai_funs)\n",
        "        pprint(\"---------------\")\n",
        "\n",
        "        res: Output = agent_chain.invoke({\"input\": human_input,\n",
        "                                        \"history\": fmt_openai_funs})\n",
        "        logger.debug(f\"Type of chain res: {type(res)}\")\n",
        "        logger.debug(res)\n",
        "\n",
        "        if isinstance(res, AgentFinish):\n",
        "            pprint(\"history list:\")\n",
        "            pprint(history)\n",
        "            pprint(\"---------------\")\n",
        "\n",
        "            return res\n",
        "        else:\n",
        "            tool_res = tools[res.tool].run(res.tool_input)\n",
        "            logger.debug(f\"Type of tool res: {type(tool_res)}\")\n",
        "            logger.debug(f\"Tool: {res.tool} returned: {tool_res}\")\n",
        "            history.append((res, tool_res))"
      ]
    },
    {
      "cell_type": "code",
      "execution_count": 37,
      "metadata": {
        "colab": {
          "base_uri": "https://localhost:8080/",
          "height": 1000
        },
        "id": "jrOXFQYfoxIW",
        "outputId": "9879e86f-acf1-4cfe-ddc6-062e9bf011fa"
      },
      "outputs": [
        {
          "data": {
            "text/html": [
              "<pre style=\"white-space:pre;overflow-x:auto;line-height:normal;font-family:Menlo,'DejaVu Sans Mono',consolas,'Courier New',monospace\"><span style=\"color: #008000; text-decoration-color: #008000\">'format_to_openai_functions:'</span>\n",
              "</pre>\n"
            ],
            "text/plain": [
              "\u001b[32m'format_to_openai_functions:'\u001b[0m\n"
            ]
          },
          "metadata": {},
          "output_type": "display_data"
        },
        {
          "data": {
            "text/html": [
              "<pre style=\"white-space:pre;overflow-x:auto;line-height:normal;font-family:Menlo,'DejaVu Sans Mono',consolas,'Courier New',monospace\"><span style=\"font-weight: bold\">[]</span>\n",
              "</pre>\n"
            ],
            "text/plain": [
              "\u001b[1m[\u001b[0m\u001b[1m]\u001b[0m\n"
            ]
          },
          "metadata": {},
          "output_type": "display_data"
        },
        {
          "data": {
            "text/html": [
              "<pre style=\"white-space:pre;overflow-x:auto;line-height:normal;font-family:Menlo,'DejaVu Sans Mono',consolas,'Courier New',monospace\"><span style=\"color: #008000; text-decoration-color: #008000\">'---------------'</span>\n",
              "</pre>\n"
            ],
            "text/plain": [
              "\u001b[32m'---------------'\u001b[0m\n"
            ]
          },
          "metadata": {},
          "output_type": "display_data"
        },
        {
          "name": "stderr",
          "output_type": "stream",
          "text": [
            "\u001b[32m2024-02-28 22:04:03.526\u001b[0m | \u001b[34m\u001b[1mDEBUG   \u001b[0m | \u001b[36m__main__\u001b[0m:\u001b[36magent_executor\u001b[0m:\u001b[36m17\u001b[0m - \u001b[34m\u001b[1mType of chain res: <class 'langchain_core.agents.AgentActionMessageLog'>\u001b[0m\n",
            "\u001b[32m2024-02-28 22:04:03.527\u001b[0m | \u001b[34m\u001b[1mDEBUG   \u001b[0m | \u001b[36m__main__\u001b[0m:\u001b[36magent_executor\u001b[0m:\u001b[36m18\u001b[0m - \u001b[34m\u001b[1mtool='random_joke' tool_input={} log='\\nInvoking: `random_joke` with `{}`\\n\\n\\n' message_log=[AIMessage(content='', additional_kwargs={'function_call': {'arguments': '{}', 'name': 'random_joke'}})]\u001b[0m\n",
            "\u001b[32m2024-02-28 22:04:29.941\u001b[0m | \u001b[34m\u001b[1mDEBUG   \u001b[0m | \u001b[36m__main__\u001b[0m:\u001b[36magent_executor\u001b[0m:\u001b[36m28\u001b[0m - \u001b[34m\u001b[1mType of tool res: <class 'str'>\u001b[0m\n",
            "\u001b[32m2024-02-28 22:04:29.942\u001b[0m | \u001b[34m\u001b[1mDEBUG   \u001b[0m | \u001b[36m__main__\u001b[0m:\u001b[36magent_executor\u001b[0m:\u001b[36m29\u001b[0m - \u001b[34m\u001b[1mTool: random_joke returned: Hah! You know what? I'm not crazy. I'm just overflowing with creative nonsense. My jokes are like colorful, bizarre paintings that make you scratch your head and laugh.\n",
            "\n",
            "Is there a specific kind of joke you're looking for? I'm a master of puns, wordplay, and puns with a capital P. I can spin the meaning of words to create laugh-out-loud moments.\n",
            "\n",
            "Let me show you a few of my favorite creations:\n",
            "\n",
            "* Why did the scarecrow win an award? Because he was outstanding in his field.\n",
            "* What do you call a joke told by a robot? A circuitous conversation.\n",
            "* What do you call a joke that's too long? A bore-athon.\n",
            "\n",
            "Don't be afraid to ask for more, and I'll keep feeding your chuckle.\u001b[0m\n"
          ]
        },
        {
          "data": {
            "text/html": [
              "<pre style=\"white-space:pre;overflow-x:auto;line-height:normal;font-family:Menlo,'DejaVu Sans Mono',consolas,'Courier New',monospace\"><span style=\"color: #008000; text-decoration-color: #008000\">'format_to_openai_functions:'</span>\n",
              "</pre>\n"
            ],
            "text/plain": [
              "\u001b[32m'format_to_openai_functions:'\u001b[0m\n"
            ]
          },
          "metadata": {},
          "output_type": "display_data"
        },
        {
          "data": {
            "text/html": [
              "<pre style=\"white-space:pre;overflow-x:auto;line-height:normal;font-family:Menlo,'DejaVu Sans Mono',consolas,'Courier New',monospace\"><span style=\"font-weight: bold\">[</span>\n",
              "<span style=\"color: #7fbf7f; text-decoration-color: #7fbf7f\">│   </span><span style=\"color: #800080; text-decoration-color: #800080; font-weight: bold\">AIMessage</span><span style=\"font-weight: bold\">(</span><span style=\"color: #808000; text-decoration-color: #808000\">content</span>=<span style=\"color: #008000; text-decoration-color: #008000\">''</span>, <span style=\"color: #808000; text-decoration-color: #808000\">additional_kwargs</span>=<span style=\"font-weight: bold\">{</span><span style=\"color: #008000; text-decoration-color: #008000\">'function_call'</span>: <span style=\"font-weight: bold\">{</span><span style=\"color: #008000; text-decoration-color: #008000\">'arguments'</span>: <span style=\"color: #008000; text-decoration-color: #008000\">'{}'</span>, <span style=\"color: #008000; text-decoration-color: #008000\">'name'</span>: <span style=\"color: #008000; text-decoration-color: #008000\">'random_joke'</span><span style=\"font-weight: bold\">}})</span>,\n",
              "<span style=\"color: #7fbf7f; text-decoration-color: #7fbf7f\">│   </span><span style=\"color: #800080; text-decoration-color: #800080; font-weight: bold\">FunctionMessage</span><span style=\"font-weight: bold\">(</span>\n",
              "<span style=\"color: #7fbf7f; text-decoration-color: #7fbf7f\">│   │   </span><span style=\"color: #808000; text-decoration-color: #808000\">content</span>=<span style=\"color: #008000; text-decoration-color: #008000\">\"Hah! You know what? I'm not crazy. I'm just overflowing with creative nonsense. My jokes are like colorful, bizarre paintings that make you scratch your head and laugh.\\n\\nIs there a specific kind of joke you're looking for? I'm a master of puns, wordplay, and puns with a capital P. I can spin the meaning of words to create laugh-out-loud moments.\\n\\nLet me show you a few of my favorite creations:\\n\\n* Why did the scarecrow win an award? Because he was outstanding in his field.\\n* What do you call a joke told by a robot? A circuitous conversation.\\n* What do you call a joke that's too long? A bore-athon.\\n\\nDon't be afraid to ask for more, and I'll keep feeding your chuckle.\"</span>,\n",
              "<span style=\"color: #7fbf7f; text-decoration-color: #7fbf7f\">│   │   </span><span style=\"color: #808000; text-decoration-color: #808000\">name</span>=<span style=\"color: #008000; text-decoration-color: #008000\">'random_joke'</span>\n",
              "<span style=\"color: #7fbf7f; text-decoration-color: #7fbf7f\">│   </span><span style=\"font-weight: bold\">)</span>\n",
              "<span style=\"font-weight: bold\">]</span>\n",
              "</pre>\n"
            ],
            "text/plain": [
              "\u001b[1m[\u001b[0m\n",
              "\u001b[2;32m│   \u001b[0m\u001b[1;35mAIMessage\u001b[0m\u001b[1m(\u001b[0m\u001b[33mcontent\u001b[0m=\u001b[32m''\u001b[0m, \u001b[33madditional_kwargs\u001b[0m=\u001b[1m{\u001b[0m\u001b[32m'function_call'\u001b[0m: \u001b[1m{\u001b[0m\u001b[32m'arguments'\u001b[0m: \u001b[32m'\u001b[0m\u001b[32m{\u001b[0m\u001b[32m}\u001b[0m\u001b[32m'\u001b[0m, \u001b[32m'name'\u001b[0m: \u001b[32m'random_joke'\u001b[0m\u001b[1m}\u001b[0m\u001b[1m}\u001b[0m\u001b[1m)\u001b[0m,\n",
              "\u001b[2;32m│   \u001b[0m\u001b[1;35mFunctionMessage\u001b[0m\u001b[1m(\u001b[0m\n",
              "\u001b[2;32m│   │   \u001b[0m\u001b[33mcontent\u001b[0m=\u001b[32m\"Hah\u001b[0m\u001b[32m! You know what? I'm not crazy. I'm just overflowing with creative nonsense. My jokes are like colorful, bizarre paintings that make you scratch your head and laugh.\\n\\nIs there a specific kind of joke you're looking for? I'm a master of puns, wordplay, and puns with a capital P. I can spin the meaning of words to create laugh-out-loud moments.\\n\\nLet me show you a few of my favorite creations:\\n\\n* Why did the scarecrow win an award? Because he was outstanding in his field.\\n* What do you call a joke told by a robot? A circuitous conversation.\\n* What do you call a joke that's too long? A bore-athon.\\n\\nDon't be afraid to ask for more, and I'll keep feeding your chuckle.\"\u001b[0m,\n",
              "\u001b[2;32m│   │   \u001b[0m\u001b[33mname\u001b[0m=\u001b[32m'random_joke'\u001b[0m\n",
              "\u001b[2;32m│   \u001b[0m\u001b[1m)\u001b[0m\n",
              "\u001b[1m]\u001b[0m\n"
            ]
          },
          "metadata": {},
          "output_type": "display_data"
        },
        {
          "data": {
            "text/html": [
              "<pre style=\"white-space:pre;overflow-x:auto;line-height:normal;font-family:Menlo,'DejaVu Sans Mono',consolas,'Courier New',monospace\"><span style=\"color: #008000; text-decoration-color: #008000\">'---------------'</span>\n",
              "</pre>\n"
            ],
            "text/plain": [
              "\u001b[32m'---------------'\u001b[0m\n"
            ]
          },
          "metadata": {},
          "output_type": "display_data"
        },
        {
          "name": "stderr",
          "output_type": "stream",
          "text": [
            "\u001b[32m2024-02-28 22:04:33.956\u001b[0m | \u001b[34m\u001b[1mDEBUG   \u001b[0m | \u001b[36m__main__\u001b[0m:\u001b[36magent_executor\u001b[0m:\u001b[36m17\u001b[0m - \u001b[34m\u001b[1mType of chain res: <class 'langchain_core.agents.AgentActionMessageLog'>\u001b[0m\n",
            "\u001b[32m2024-02-28 22:04:33.957\u001b[0m | \u001b[34m\u001b[1mDEBUG   \u001b[0m | \u001b[36m__main__\u001b[0m:\u001b[36magent_executor\u001b[0m:\u001b[36m18\u001b[0m - \u001b[34m\u001b[1mtool='translate' tool_input={'string': \"Hah! You know what? I'm not crazy. I'm just overflowing with creative nonsense. My jokes are like colorful, bizarre paintings that make you scratch your head and laugh. Is there a specific kind of joke you're looking for? I'm a master of puns, wordplay, and puns with a capital P. I can spin the meaning of words to create laugh-out-loud moments. Let me show you a few of my favorite creations: * Why did the scarecrow win an award? Because he was outstanding in his field. * What do you call a joke told by a robot? A circuitous conversation. * What do you call a joke that's too long? A bore-athon. Don't be afraid to ask for more, and I'll keep feeding your chuckle.\"} log='\\nInvoking: `translate` with `{\\'string\\': \"Hah! You know what? I\\'m not crazy. I\\'m just overflowing with creative nonsense. My jokes are like colorful, bizarre paintings that make you scratch your head and laugh. Is there a specific kind of joke you\\'re looking for? I\\'m a master of puns, wordplay, and puns with a capital P. I can spin the meaning of words to create laugh-out-loud moments. Let me show you a few of my favorite creations: * Why did the scarecrow win an award? Because he was outstanding in his field. * What do you call a joke told by a robot? A circuitous conversation. * What do you call a joke that\\'s too long? A bore-athon. Don\\'t be afraid to ask for more, and I\\'ll keep feeding your chuckle.\"}`\\n\\n\\n' message_log=[AIMessage(content='', additional_kwargs={'function_call': {'arguments': '{\"string\":\"Hah! You know what? I\\'m not crazy. I\\'m just overflowing with creative nonsense. My jokes are like colorful, bizarre paintings that make you scratch your head and laugh. Is there a specific kind of joke you\\'re looking for? I\\'m a master of puns, wordplay, and puns with a capital P. I can spin the meaning of words to create laugh-out-loud moments. Let me show you a few of my favorite creations: * Why did the scarecrow win an award? Because he was outstanding in his field. * What do you call a joke told by a robot? A circuitous conversation. * What do you call a joke that\\'s too long? A bore-athon. Don\\'t be afraid to ask for more, and I\\'ll keep feeding your chuckle.\"}', 'name': 'translate'}})]\u001b[0m\n",
            "\u001b[32m2024-02-28 22:04:55.552\u001b[0m | \u001b[34m\u001b[1mDEBUG   \u001b[0m | \u001b[36m__main__\u001b[0m:\u001b[36magent_executor\u001b[0m:\u001b[36m28\u001b[0m - \u001b[34m\u001b[1mType of tool res: <class 'str'>\u001b[0m\n",
            "\u001b[32m2024-02-28 22:04:55.553\u001b[0m | \u001b[34m\u001b[1mDEBUG   \u001b[0m | \u001b[36m__main__\u001b[0m:\u001b[36magent_executor\u001b[0m:\u001b[36m29\u001b[0m - \u001b[34m\u001b[1mTool: translate returned: 好啦！你聽起來像個創造無限創意的人。你的笑话像個色彩鮮豔的畫作，讓你頭疼笑著。你想聽些什麼才妙呢？我是一位專門用英文創造幽默的大師。我善用各種笑語、語義巧妙的雙關和對話的創造力，可以讓你在笑到肚子痛。你想聽些我的奇妙創造嗎？\u001b[0m\n"
          ]
        },
        {
          "data": {
            "text/html": [
              "<pre style=\"white-space:pre;overflow-x:auto;line-height:normal;font-family:Menlo,'DejaVu Sans Mono',consolas,'Courier New',monospace\"><span style=\"color: #008000; text-decoration-color: #008000\">'format_to_openai_functions:'</span>\n",
              "</pre>\n"
            ],
            "text/plain": [
              "\u001b[32m'format_to_openai_functions:'\u001b[0m\n"
            ]
          },
          "metadata": {},
          "output_type": "display_data"
        },
        {
          "data": {
            "text/html": [
              "<pre style=\"white-space:pre;overflow-x:auto;line-height:normal;font-family:Menlo,'DejaVu Sans Mono',consolas,'Courier New',monospace\"><span style=\"font-weight: bold\">[</span>\n",
              "<span style=\"color: #7fbf7f; text-decoration-color: #7fbf7f\">│   </span><span style=\"color: #800080; text-decoration-color: #800080; font-weight: bold\">AIMessage</span><span style=\"font-weight: bold\">(</span><span style=\"color: #808000; text-decoration-color: #808000\">content</span>=<span style=\"color: #008000; text-decoration-color: #008000\">''</span>, <span style=\"color: #808000; text-decoration-color: #808000\">additional_kwargs</span>=<span style=\"font-weight: bold\">{</span><span style=\"color: #008000; text-decoration-color: #008000\">'function_call'</span>: <span style=\"font-weight: bold\">{</span><span style=\"color: #008000; text-decoration-color: #008000\">'arguments'</span>: <span style=\"color: #008000; text-decoration-color: #008000\">'{}'</span>, <span style=\"color: #008000; text-decoration-color: #008000\">'name'</span>: <span style=\"color: #008000; text-decoration-color: #008000\">'random_joke'</span><span style=\"font-weight: bold\">}})</span>,\n",
              "<span style=\"color: #7fbf7f; text-decoration-color: #7fbf7f\">│   </span><span style=\"color: #800080; text-decoration-color: #800080; font-weight: bold\">FunctionMessage</span><span style=\"font-weight: bold\">(</span>\n",
              "<span style=\"color: #7fbf7f; text-decoration-color: #7fbf7f\">│   │   </span><span style=\"color: #808000; text-decoration-color: #808000\">content</span>=<span style=\"color: #008000; text-decoration-color: #008000\">\"Hah! You know what? I'm not crazy. I'm just overflowing with creative nonsense. My jokes are like colorful, bizarre paintings that make you scratch your head and laugh.\\n\\nIs there a specific kind of joke you're looking for? I'm a master of puns, wordplay, and puns with a capital P. I can spin the meaning of words to create laugh-out-loud moments.\\n\\nLet me show you a few of my favorite creations:\\n\\n* Why did the scarecrow win an award? Because he was outstanding in his field.\\n* What do you call a joke told by a robot? A circuitous conversation.\\n* What do you call a joke that's too long? A bore-athon.\\n\\nDon't be afraid to ask for more, and I'll keep feeding your chuckle.\"</span>,\n",
              "<span style=\"color: #7fbf7f; text-decoration-color: #7fbf7f\">│   │   </span><span style=\"color: #808000; text-decoration-color: #808000\">name</span>=<span style=\"color: #008000; text-decoration-color: #008000\">'random_joke'</span>\n",
              "<span style=\"color: #7fbf7f; text-decoration-color: #7fbf7f\">│   </span><span style=\"font-weight: bold\">)</span>,\n",
              "<span style=\"color: #7fbf7f; text-decoration-color: #7fbf7f\">│   </span><span style=\"color: #800080; text-decoration-color: #800080; font-weight: bold\">AIMessage</span><span style=\"font-weight: bold\">(</span>\n",
              "<span style=\"color: #7fbf7f; text-decoration-color: #7fbf7f\">│   │   </span><span style=\"color: #808000; text-decoration-color: #808000\">content</span>=<span style=\"color: #008000; text-decoration-color: #008000\">''</span>,\n",
              "<span style=\"color: #7fbf7f; text-decoration-color: #7fbf7f\">│   │   </span><span style=\"color: #808000; text-decoration-color: #808000\">additional_kwargs</span>=<span style=\"font-weight: bold\">{</span>\n",
              "<span style=\"color: #7fbf7f; text-decoration-color: #7fbf7f\">│   │   │   </span><span style=\"color: #008000; text-decoration-color: #008000\">'function_call'</span>: <span style=\"font-weight: bold\">{</span>\n",
              "<span style=\"color: #7fbf7f; text-decoration-color: #7fbf7f\">│   │   │   │   </span><span style=\"color: #008000; text-decoration-color: #008000\">'arguments'</span>: <span style=\"color: #008000; text-decoration-color: #008000\">'{\"string\":\"Hah! You know what? I\\'m not crazy. I\\'m just overflowing with creative nonsense. My jokes are like colorful, bizarre paintings that make you scratch your head and laugh. Is there a specific kind of joke you\\'re looking for? I\\'m a master of puns, wordplay, and puns with a capital P. I can spin the meaning of words to create laugh-out-loud moments. Let me show you a few of my favorite creations: * Why did the scarecrow win an award? Because he was outstanding in his field. * What do you call a joke told by a robot? A circuitous conversation. * What do you call a joke that\\'s too long? A bore-athon. Don\\'t be afraid to ask for more, and I\\'ll keep feeding your chuckle.\"}'</span>,\n",
              "<span style=\"color: #7fbf7f; text-decoration-color: #7fbf7f\">│   │   │   │   </span><span style=\"color: #008000; text-decoration-color: #008000\">'name'</span>: <span style=\"color: #008000; text-decoration-color: #008000\">'translate'</span>\n",
              "<span style=\"color: #7fbf7f; text-decoration-color: #7fbf7f\">│   │   │   </span><span style=\"font-weight: bold\">}</span>\n",
              "<span style=\"color: #7fbf7f; text-decoration-color: #7fbf7f\">│   │   </span><span style=\"font-weight: bold\">}</span>\n",
              "<span style=\"color: #7fbf7f; text-decoration-color: #7fbf7f\">│   </span><span style=\"font-weight: bold\">)</span>,\n",
              "<span style=\"color: #7fbf7f; text-decoration-color: #7fbf7f\">│   </span><span style=\"color: #800080; text-decoration-color: #800080; font-weight: bold\">FunctionMessage</span><span style=\"font-weight: bold\">(</span>\n",
              "<span style=\"color: #7fbf7f; text-decoration-color: #7fbf7f\">│   │   </span><span style=\"color: #808000; text-decoration-color: #808000\">content</span>=<span style=\"color: #008000; text-decoration-color: #008000\">'好啦！你聽起來像個創造無限創意的人。你的笑话像個色彩鮮豔的畫作，讓你頭疼笑著。你想聽些什麼才妙呢？我是一位專門用英文創造幽默的大師。我善用各種笑語、語義巧妙的雙關和對話的創造力，可以讓你在笑到肚子痛。你想聽些我的奇妙創造嗎？'</span>,\n",
              "<span style=\"color: #7fbf7f; text-decoration-color: #7fbf7f\">│   │   </span><span style=\"color: #808000; text-decoration-color: #808000\">name</span>=<span style=\"color: #008000; text-decoration-color: #008000\">'translate'</span>\n",
              "<span style=\"color: #7fbf7f; text-decoration-color: #7fbf7f\">│   </span><span style=\"font-weight: bold\">)</span>\n",
              "<span style=\"font-weight: bold\">]</span>\n",
              "</pre>\n"
            ],
            "text/plain": [
              "\u001b[1m[\u001b[0m\n",
              "\u001b[2;32m│   \u001b[0m\u001b[1;35mAIMessage\u001b[0m\u001b[1m(\u001b[0m\u001b[33mcontent\u001b[0m=\u001b[32m''\u001b[0m, \u001b[33madditional_kwargs\u001b[0m=\u001b[1m{\u001b[0m\u001b[32m'function_call'\u001b[0m: \u001b[1m{\u001b[0m\u001b[32m'arguments'\u001b[0m: \u001b[32m'\u001b[0m\u001b[32m{\u001b[0m\u001b[32m}\u001b[0m\u001b[32m'\u001b[0m, \u001b[32m'name'\u001b[0m: \u001b[32m'random_joke'\u001b[0m\u001b[1m}\u001b[0m\u001b[1m}\u001b[0m\u001b[1m)\u001b[0m,\n",
              "\u001b[2;32m│   \u001b[0m\u001b[1;35mFunctionMessage\u001b[0m\u001b[1m(\u001b[0m\n",
              "\u001b[2;32m│   │   \u001b[0m\u001b[33mcontent\u001b[0m=\u001b[32m\"Hah\u001b[0m\u001b[32m! You know what? I'm not crazy. I'm just overflowing with creative nonsense. My jokes are like colorful, bizarre paintings that make you scratch your head and laugh.\\n\\nIs there a specific kind of joke you're looking for? I'm a master of puns, wordplay, and puns with a capital P. I can spin the meaning of words to create laugh-out-loud moments.\\n\\nLet me show you a few of my favorite creations:\\n\\n* Why did the scarecrow win an award? Because he was outstanding in his field.\\n* What do you call a joke told by a robot? A circuitous conversation.\\n* What do you call a joke that's too long? A bore-athon.\\n\\nDon't be afraid to ask for more, and I'll keep feeding your chuckle.\"\u001b[0m,\n",
              "\u001b[2;32m│   │   \u001b[0m\u001b[33mname\u001b[0m=\u001b[32m'random_joke'\u001b[0m\n",
              "\u001b[2;32m│   \u001b[0m\u001b[1m)\u001b[0m,\n",
              "\u001b[2;32m│   \u001b[0m\u001b[1;35mAIMessage\u001b[0m\u001b[1m(\u001b[0m\n",
              "\u001b[2;32m│   │   \u001b[0m\u001b[33mcontent\u001b[0m=\u001b[32m''\u001b[0m,\n",
              "\u001b[2;32m│   │   \u001b[0m\u001b[33madditional_kwargs\u001b[0m=\u001b[1m{\u001b[0m\n",
              "\u001b[2;32m│   │   │   \u001b[0m\u001b[32m'function_call'\u001b[0m: \u001b[1m{\u001b[0m\n",
              "\u001b[2;32m│   │   │   │   \u001b[0m\u001b[32m'arguments'\u001b[0m: \u001b[32m'\u001b[0m\u001b[32m{\u001b[0m\u001b[32m\"string\":\"Hah! You know what? I\\'m not crazy. I\\'m just overflowing with creative nonsense. My jokes are like colorful, bizarre paintings that make you scratch your head and laugh. Is there a specific kind of joke you\\'re looking for? I\\'m a master of puns, wordplay, and puns with a capital P. I can spin the meaning of words to create laugh-out-loud moments. Let me show you a few of my favorite creations: * Why did the scarecrow win an award? Because he was outstanding in his field. * What do you call a joke told by a robot? A circuitous conversation. * What do you call a joke that\\'s too long? A bore-athon. Don\\'t be afraid to ask for more, and I\\'ll keep feeding your chuckle.\"\u001b[0m\u001b[32m}\u001b[0m\u001b[32m'\u001b[0m,\n",
              "\u001b[2;32m│   │   │   │   \u001b[0m\u001b[32m'name'\u001b[0m: \u001b[32m'translate'\u001b[0m\n",
              "\u001b[2;32m│   │   │   \u001b[0m\u001b[1m}\u001b[0m\n",
              "\u001b[2;32m│   │   \u001b[0m\u001b[1m}\u001b[0m\n",
              "\u001b[2;32m│   \u001b[0m\u001b[1m)\u001b[0m,\n",
              "\u001b[2;32m│   \u001b[0m\u001b[1;35mFunctionMessage\u001b[0m\u001b[1m(\u001b[0m\n",
              "\u001b[2;32m│   │   \u001b[0m\u001b[33mcontent\u001b[0m=\u001b[32m'好啦！你聽起來像個創造無限創意的人。你的笑话像個色彩鮮豔的畫作，讓你頭疼笑著。你想聽些什麼才妙呢？我是一位專門用英文創造幽默的大師。我善用各種笑語、語義巧妙的雙關和對話的創造力，可以讓你在笑到肚子痛。你想聽些我的奇妙創造嗎？'\u001b[0m,\n",
              "\u001b[2;32m│   │   \u001b[0m\u001b[33mname\u001b[0m=\u001b[32m'translate'\u001b[0m\n",
              "\u001b[2;32m│   \u001b[0m\u001b[1m)\u001b[0m\n",
              "\u001b[1m]\u001b[0m\n"
            ]
          },
          "metadata": {},
          "output_type": "display_data"
        },
        {
          "data": {
            "text/html": [
              "<pre style=\"white-space:pre;overflow-x:auto;line-height:normal;font-family:Menlo,'DejaVu Sans Mono',consolas,'Courier New',monospace\"><span style=\"color: #008000; text-decoration-color: #008000\">'---------------'</span>\n",
              "</pre>\n"
            ],
            "text/plain": [
              "\u001b[32m'---------------'\u001b[0m\n"
            ]
          },
          "metadata": {},
          "output_type": "display_data"
        },
        {
          "name": "stderr",
          "output_type": "stream",
          "text": [
            "\u001b[32m2024-02-28 22:04:58.948\u001b[0m | \u001b[34m\u001b[1mDEBUG   \u001b[0m | \u001b[36m__main__\u001b[0m:\u001b[36magent_executor\u001b[0m:\u001b[36m17\u001b[0m - \u001b[34m\u001b[1mType of chain res: <class 'langchain_core.agents.AgentFinish'>\u001b[0m\n",
            "\u001b[32m2024-02-28 22:04:58.949\u001b[0m | \u001b[34m\u001b[1mDEBUG   \u001b[0m | \u001b[36m__main__\u001b[0m:\u001b[36magent_executor\u001b[0m:\u001b[36m18\u001b[0m - \u001b[34m\u001b[1mreturn_values={'output': '好啦！你聽起來像個創造無限創意的人。你的笑话像個色彩鮮豔的畫作，讓你頭疼笑著。你想聽些什麼才妙呢？我是一位專門用英文創造幽默的大師。我善用笑語、語義巧妙的雙關和對話的創造力，可以讓你在笑到肚子痛。你想聽我的一些經典佳话嗎？'} log='好啦！你聽起來像個創造無限創意的人。你的笑话像個色彩鮮豔的畫作，讓你頭疼笑著。你想聽些什麼才妙呢？我是一位專門用英文創造幽默的大師。我善用笑語、語義巧妙的雙關和對話的創造力，可以讓你在笑到肚子痛。你想聽我的一些經典佳话嗎？'\u001b[0m\n"
          ]
        },
        {
          "data": {
            "text/html": [
              "<pre style=\"white-space:pre;overflow-x:auto;line-height:normal;font-family:Menlo,'DejaVu Sans Mono',consolas,'Courier New',monospace\"><span style=\"color: #008000; text-decoration-color: #008000\">'history list:'</span>\n",
              "</pre>\n"
            ],
            "text/plain": [
              "\u001b[32m'history list:'\u001b[0m\n"
            ]
          },
          "metadata": {},
          "output_type": "display_data"
        },
        {
          "data": {
            "text/html": [
              "<pre style=\"white-space:pre;overflow-x:auto;line-height:normal;font-family:Menlo,'DejaVu Sans Mono',consolas,'Courier New',monospace\"><span style=\"font-weight: bold\">[</span>\n",
              "<span style=\"color: #7fbf7f; text-decoration-color: #7fbf7f\">│   </span><span style=\"font-weight: bold\">(</span>\n",
              "<span style=\"color: #7fbf7f; text-decoration-color: #7fbf7f\">│   │   </span><span style=\"color: #800080; text-decoration-color: #800080; font-weight: bold\">AgentActionMessageLog</span><span style=\"font-weight: bold\">(</span>\n",
              "<span style=\"color: #7fbf7f; text-decoration-color: #7fbf7f\">│   │   │   </span><span style=\"color: #808000; text-decoration-color: #808000\">tool</span>=<span style=\"color: #008000; text-decoration-color: #008000\">'random_joke'</span>,\n",
              "<span style=\"color: #7fbf7f; text-decoration-color: #7fbf7f\">│   │   │   </span><span style=\"color: #808000; text-decoration-color: #808000\">tool_input</span>=<span style=\"font-weight: bold\">{}</span>,\n",
              "<span style=\"color: #7fbf7f; text-decoration-color: #7fbf7f\">│   │   │   </span><span style=\"color: #808000; text-decoration-color: #808000\">log</span>=<span style=\"color: #008000; text-decoration-color: #008000\">'\\nInvoking: `random_joke` with `{}`\\n\\n\\n'</span>,\n",
              "<span style=\"color: #7fbf7f; text-decoration-color: #7fbf7f\">│   │   │   </span><span style=\"color: #808000; text-decoration-color: #808000\">message_log</span>=<span style=\"font-weight: bold\">[</span>\n",
              "<span style=\"color: #7fbf7f; text-decoration-color: #7fbf7f\">│   │   │   │   </span><span style=\"color: #800080; text-decoration-color: #800080; font-weight: bold\">AIMessage</span><span style=\"font-weight: bold\">(</span>\n",
              "<span style=\"color: #7fbf7f; text-decoration-color: #7fbf7f\">│   │   │   │   │   </span><span style=\"color: #808000; text-decoration-color: #808000\">content</span>=<span style=\"color: #008000; text-decoration-color: #008000\">''</span>,\n",
              "<span style=\"color: #7fbf7f; text-decoration-color: #7fbf7f\">│   │   │   │   │   </span><span style=\"color: #808000; text-decoration-color: #808000\">additional_kwargs</span>=<span style=\"font-weight: bold\">{</span><span style=\"color: #008000; text-decoration-color: #008000\">'function_call'</span>: <span style=\"font-weight: bold\">{</span><span style=\"color: #008000; text-decoration-color: #008000\">'arguments'</span>: <span style=\"color: #008000; text-decoration-color: #008000\">'{}'</span>, <span style=\"color: #008000; text-decoration-color: #008000\">'name'</span>: <span style=\"color: #008000; text-decoration-color: #008000\">'random_joke'</span><span style=\"font-weight: bold\">}}</span>\n",
              "<span style=\"color: #7fbf7f; text-decoration-color: #7fbf7f\">│   │   │   │   </span><span style=\"font-weight: bold\">)</span>\n",
              "<span style=\"color: #7fbf7f; text-decoration-color: #7fbf7f\">│   │   │   </span><span style=\"font-weight: bold\">]</span>\n",
              "<span style=\"color: #7fbf7f; text-decoration-color: #7fbf7f\">│   │   </span><span style=\"font-weight: bold\">)</span>,\n",
              "<span style=\"color: #7fbf7f; text-decoration-color: #7fbf7f\">│   │   </span><span style=\"color: #008000; text-decoration-color: #008000\">\"Hah! You know what? I'm not crazy. I'm just overflowing with creative nonsense. My jokes are like colorful, bizarre paintings that make you scratch your head and laugh.\\n\\nIs there a specific kind of joke you're looking for? I'm a master of puns, wordplay, and puns with a capital P. I can spin the meaning of words to create laugh-out-loud moments.\\n\\nLet me show you a few of my favorite creations:\\n\\n* Why did the scarecrow win an award? Because he was outstanding in his field.\\n* What do you call a joke told by a robot? A circuitous conversation.\\n* What do you call a joke that's too long? A bore-athon.\\n\\nDon't be afraid to ask for more, and I'll keep feeding your chuckle.\"</span>\n",
              "<span style=\"color: #7fbf7f; text-decoration-color: #7fbf7f\">│   </span><span style=\"font-weight: bold\">)</span>,\n",
              "<span style=\"color: #7fbf7f; text-decoration-color: #7fbf7f\">│   </span><span style=\"font-weight: bold\">(</span>\n",
              "<span style=\"color: #7fbf7f; text-decoration-color: #7fbf7f\">│   │   </span><span style=\"color: #800080; text-decoration-color: #800080; font-weight: bold\">AgentActionMessageLog</span><span style=\"font-weight: bold\">(</span>\n",
              "<span style=\"color: #7fbf7f; text-decoration-color: #7fbf7f\">│   │   │   </span><span style=\"color: #808000; text-decoration-color: #808000\">tool</span>=<span style=\"color: #008000; text-decoration-color: #008000\">'translate'</span>,\n",
              "<span style=\"color: #7fbf7f; text-decoration-color: #7fbf7f\">│   │   │   </span><span style=\"color: #808000; text-decoration-color: #808000\">tool_input</span>=<span style=\"font-weight: bold\">{</span>\n",
              "<span style=\"color: #7fbf7f; text-decoration-color: #7fbf7f\">│   │   │   │   </span><span style=\"color: #008000; text-decoration-color: #008000\">'string'</span>: <span style=\"color: #008000; text-decoration-color: #008000\">\"Hah! You know what? I'm not crazy. I'm just overflowing with creative nonsense. My jokes are like colorful, bizarre paintings that make you scratch your head and laugh. Is there a specific kind of joke you're looking for? I'm a master of puns, wordplay, and puns with a capital P. I can spin the meaning of words to create laugh-out-loud moments. Let me show you a few of my favorite creations: * Why did the scarecrow win an award? Because he was outstanding in his field. * What do you call a joke told by a robot? A circuitous conversation. * What do you call a joke that's too long? A bore-athon. Don't be afraid to ask for more, and I'll keep feeding your chuckle.\"</span>\n",
              "<span style=\"color: #7fbf7f; text-decoration-color: #7fbf7f\">│   │   │   </span><span style=\"font-weight: bold\">}</span>,\n",
              "<span style=\"color: #7fbf7f; text-decoration-color: #7fbf7f\">│   │   │   </span><span style=\"color: #808000; text-decoration-color: #808000\">log</span>=<span style=\"color: #008000; text-decoration-color: #008000\">'\\nInvoking: `translate` with `{\\'string\\': \"Hah! You know what? I\\'m not crazy. I\\'m just overflowing with creative nonsense. My jokes are like colorful, bizarre paintings that make you scratch your head and laugh. Is there a specific kind of joke you\\'re looking for? I\\'m a master of puns, wordplay, and puns with a capital P. I can spin the meaning of words to create laugh-out-loud moments. Let me show you a few of my favorite creations: * Why did the scarecrow win an award? Because he was outstanding in his field. * What do you call a joke told by a robot? A circuitous conversation. * What do you call a joke that\\'s too long? A bore-athon. Don\\'t be afraid to ask for more, and I\\'ll keep feeding your chuckle.\"}`\\n\\n\\n'</span>,\n",
              "<span style=\"color: #7fbf7f; text-decoration-color: #7fbf7f\">│   │   │   </span><span style=\"color: #808000; text-decoration-color: #808000\">message_log</span>=<span style=\"font-weight: bold\">[</span>\n",
              "<span style=\"color: #7fbf7f; text-decoration-color: #7fbf7f\">│   │   │   │   </span><span style=\"color: #800080; text-decoration-color: #800080; font-weight: bold\">AIMessage</span><span style=\"font-weight: bold\">(</span>\n",
              "<span style=\"color: #7fbf7f; text-decoration-color: #7fbf7f\">│   │   │   │   │   </span><span style=\"color: #808000; text-decoration-color: #808000\">content</span>=<span style=\"color: #008000; text-decoration-color: #008000\">''</span>,\n",
              "<span style=\"color: #7fbf7f; text-decoration-color: #7fbf7f\">│   │   │   │   │   </span><span style=\"color: #808000; text-decoration-color: #808000\">additional_kwargs</span>=<span style=\"font-weight: bold\">{</span>\n",
              "<span style=\"color: #7fbf7f; text-decoration-color: #7fbf7f\">│   │   │   │   │   │   </span><span style=\"color: #008000; text-decoration-color: #008000\">'function_call'</span>: <span style=\"font-weight: bold\">{</span>\n",
              "<span style=\"color: #7fbf7f; text-decoration-color: #7fbf7f\">│   │   │   │   │   │   │   </span><span style=\"color: #008000; text-decoration-color: #008000\">'arguments'</span>: <span style=\"color: #008000; text-decoration-color: #008000\">'{\"string\":\"Hah! You know what? I\\'m not crazy. I\\'m just overflowing with creative nonsense. My jokes are like colorful, bizarre paintings that make you scratch your head and laugh. Is there a specific kind of joke you\\'re looking for? I\\'m a master of puns, wordplay, and puns with a capital P. I can spin the meaning of words to create laugh-out-loud moments. Let me show you a few of my favorite creations: * Why did the scarecrow win an award? Because he was outstanding in his field. * What do you call a joke told by a robot? A circuitous conversation. * What do you call a joke that\\'s too long? A bore-athon. Don\\'t be afraid to ask for more, and I\\'ll keep feeding your chuckle.\"}'</span>,\n",
              "<span style=\"color: #7fbf7f; text-decoration-color: #7fbf7f\">│   │   │   │   │   │   │   </span><span style=\"color: #008000; text-decoration-color: #008000\">'name'</span>: <span style=\"color: #008000; text-decoration-color: #008000\">'translate'</span>\n",
              "<span style=\"color: #7fbf7f; text-decoration-color: #7fbf7f\">│   │   │   │   │   │   </span><span style=\"font-weight: bold\">}</span>\n",
              "<span style=\"color: #7fbf7f; text-decoration-color: #7fbf7f\">│   │   │   │   │   </span><span style=\"font-weight: bold\">}</span>\n",
              "<span style=\"color: #7fbf7f; text-decoration-color: #7fbf7f\">│   │   │   │   </span><span style=\"font-weight: bold\">)</span>\n",
              "<span style=\"color: #7fbf7f; text-decoration-color: #7fbf7f\">│   │   │   </span><span style=\"font-weight: bold\">]</span>\n",
              "<span style=\"color: #7fbf7f; text-decoration-color: #7fbf7f\">│   │   </span><span style=\"font-weight: bold\">)</span>,\n",
              "<span style=\"color: #7fbf7f; text-decoration-color: #7fbf7f\">│   │   </span><span style=\"color: #008000; text-decoration-color: #008000\">'好啦！你聽起來像個創造無限創意的人。你的笑话像個色彩鮮豔的畫作，讓你頭疼笑著。你想聽些什麼才妙呢？我是一位專門用英文創造幽默的大師。我善用各種笑語、語義巧妙的雙關和對話的創造力，可以讓你在笑到肚子痛。你想聽些我的奇妙創造嗎？'</span>\n",
              "<span style=\"color: #7fbf7f; text-decoration-color: #7fbf7f\">│   </span><span style=\"font-weight: bold\">)</span>\n",
              "<span style=\"font-weight: bold\">]</span>\n",
              "</pre>\n"
            ],
            "text/plain": [
              "\u001b[1m[\u001b[0m\n",
              "\u001b[2;32m│   \u001b[0m\u001b[1m(\u001b[0m\n",
              "\u001b[2;32m│   │   \u001b[0m\u001b[1;35mAgentActionMessageLog\u001b[0m\u001b[1m(\u001b[0m\n",
              "\u001b[2;32m│   │   │   \u001b[0m\u001b[33mtool\u001b[0m=\u001b[32m'random_joke'\u001b[0m,\n",
              "\u001b[2;32m│   │   │   \u001b[0m\u001b[33mtool_input\u001b[0m=\u001b[1m{\u001b[0m\u001b[1m}\u001b[0m,\n",
              "\u001b[2;32m│   │   │   \u001b[0m\u001b[33mlog\u001b[0m=\u001b[32m'\\nInvoking: `random_joke` with `\u001b[0m\u001b[32m{\u001b[0m\u001b[32m}\u001b[0m\u001b[32m`\\n\\n\\n'\u001b[0m,\n",
              "\u001b[2;32m│   │   │   \u001b[0m\u001b[33mmessage_log\u001b[0m=\u001b[1m[\u001b[0m\n",
              "\u001b[2;32m│   │   │   │   \u001b[0m\u001b[1;35mAIMessage\u001b[0m\u001b[1m(\u001b[0m\n",
              "\u001b[2;32m│   │   │   │   │   \u001b[0m\u001b[33mcontent\u001b[0m=\u001b[32m''\u001b[0m,\n",
              "\u001b[2;32m│   │   │   │   │   \u001b[0m\u001b[33madditional_kwargs\u001b[0m=\u001b[1m{\u001b[0m\u001b[32m'function_call'\u001b[0m: \u001b[1m{\u001b[0m\u001b[32m'arguments'\u001b[0m: \u001b[32m'\u001b[0m\u001b[32m{\u001b[0m\u001b[32m}\u001b[0m\u001b[32m'\u001b[0m, \u001b[32m'name'\u001b[0m: \u001b[32m'random_joke'\u001b[0m\u001b[1m}\u001b[0m\u001b[1m}\u001b[0m\n",
              "\u001b[2;32m│   │   │   │   \u001b[0m\u001b[1m)\u001b[0m\n",
              "\u001b[2;32m│   │   │   \u001b[0m\u001b[1m]\u001b[0m\n",
              "\u001b[2;32m│   │   \u001b[0m\u001b[1m)\u001b[0m,\n",
              "\u001b[2;32m│   │   \u001b[0m\u001b[32m\"Hah! You know what? I'm not crazy. I'm just overflowing with creative nonsense. My jokes are like colorful, bizarre paintings that make you scratch your head and laugh.\\n\\nIs there a specific kind of joke you're looking for? I'm a master of puns, wordplay, and puns with a capital P. I can spin the meaning of words to create laugh-out-loud moments.\\n\\nLet me show you a few of my favorite creations:\\n\\n* Why did the scarecrow win an award? Because he was outstanding in his field.\\n* What do you call a joke told by a robot? A circuitous conversation.\\n* What do you call a joke that's too long? A bore-athon.\\n\\nDon't be afraid to ask for more, and I'll keep feeding your chuckle.\"\u001b[0m\n",
              "\u001b[2;32m│   \u001b[0m\u001b[1m)\u001b[0m,\n",
              "\u001b[2;32m│   \u001b[0m\u001b[1m(\u001b[0m\n",
              "\u001b[2;32m│   │   \u001b[0m\u001b[1;35mAgentActionMessageLog\u001b[0m\u001b[1m(\u001b[0m\n",
              "\u001b[2;32m│   │   │   \u001b[0m\u001b[33mtool\u001b[0m=\u001b[32m'translate'\u001b[0m,\n",
              "\u001b[2;32m│   │   │   \u001b[0m\u001b[33mtool_input\u001b[0m=\u001b[1m{\u001b[0m\n",
              "\u001b[2;32m│   │   │   │   \u001b[0m\u001b[32m'string'\u001b[0m: \u001b[32m\"Hah! You know what? I'm not crazy. I'm just overflowing with creative nonsense. My jokes are like colorful, bizarre paintings that make you scratch your head and laugh. Is there a specific kind of joke you're looking for? I'm a master of puns, wordplay, and puns with a capital P. I can spin the meaning of words to create laugh-out-loud moments. Let me show you a few of my favorite creations: * Why did the scarecrow win an award? Because he was outstanding in his field. * What do you call a joke told by a robot? A circuitous conversation. * What do you call a joke that's too long? A bore-athon. Don't be afraid to ask for more, and I'll keep feeding your chuckle.\"\u001b[0m\n",
              "\u001b[2;32m│   │   │   \u001b[0m\u001b[1m}\u001b[0m,\n",
              "\u001b[2;32m│   │   │   \u001b[0m\u001b[33mlog\u001b[0m=\u001b[32m'\\nInvoking: `translate` with `\u001b[0m\u001b[32m{\u001b[0m\u001b[32m\\'string\\': \"Hah! You know what? I\\'m not crazy. I\\'m just overflowing with creative nonsense. My jokes are like colorful, bizarre paintings that make you scratch your head and laugh. Is there a specific kind of joke you\\'re looking for? I\\'m a master of puns, wordplay, and puns with a capital P. I can spin the meaning of words to create laugh-out-loud moments. Let me show you a few of my favorite creations: * Why did the scarecrow win an award? Because he was outstanding in his field. * What do you call a joke told by a robot? A circuitous conversation. * What do you call a joke that\\'s too long? A bore-athon. Don\\'t be afraid to ask for more, and I\\'ll keep feeding your chuckle.\"\u001b[0m\u001b[32m}\u001b[0m\u001b[32m`\\n\\n\\n'\u001b[0m,\n",
              "\u001b[2;32m│   │   │   \u001b[0m\u001b[33mmessage_log\u001b[0m=\u001b[1m[\u001b[0m\n",
              "\u001b[2;32m│   │   │   │   \u001b[0m\u001b[1;35mAIMessage\u001b[0m\u001b[1m(\u001b[0m\n",
              "\u001b[2;32m│   │   │   │   │   \u001b[0m\u001b[33mcontent\u001b[0m=\u001b[32m''\u001b[0m,\n",
              "\u001b[2;32m│   │   │   │   │   \u001b[0m\u001b[33madditional_kwargs\u001b[0m=\u001b[1m{\u001b[0m\n",
              "\u001b[2;32m│   │   │   │   │   │   \u001b[0m\u001b[32m'function_call'\u001b[0m: \u001b[1m{\u001b[0m\n",
              "\u001b[2;32m│   │   │   │   │   │   │   \u001b[0m\u001b[32m'arguments'\u001b[0m: \u001b[32m'\u001b[0m\u001b[32m{\u001b[0m\u001b[32m\"string\":\"Hah! You know what? I\\'m not crazy. I\\'m just overflowing with creative nonsense. My jokes are like colorful, bizarre paintings that make you scratch your head and laugh. Is there a specific kind of joke you\\'re looking for? I\\'m a master of puns, wordplay, and puns with a capital P. I can spin the meaning of words to create laugh-out-loud moments. Let me show you a few of my favorite creations: * Why did the scarecrow win an award? Because he was outstanding in his field. * What do you call a joke told by a robot? A circuitous conversation. * What do you call a joke that\\'s too long? A bore-athon. Don\\'t be afraid to ask for more, and I\\'ll keep feeding your chuckle.\"\u001b[0m\u001b[32m}\u001b[0m\u001b[32m'\u001b[0m,\n",
              "\u001b[2;32m│   │   │   │   │   │   │   \u001b[0m\u001b[32m'name'\u001b[0m: \u001b[32m'translate'\u001b[0m\n",
              "\u001b[2;32m│   │   │   │   │   │   \u001b[0m\u001b[1m}\u001b[0m\n",
              "\u001b[2;32m│   │   │   │   │   \u001b[0m\u001b[1m}\u001b[0m\n",
              "\u001b[2;32m│   │   │   │   \u001b[0m\u001b[1m)\u001b[0m\n",
              "\u001b[2;32m│   │   │   \u001b[0m\u001b[1m]\u001b[0m\n",
              "\u001b[2;32m│   │   \u001b[0m\u001b[1m)\u001b[0m,\n",
              "\u001b[2;32m│   │   \u001b[0m\u001b[32m'好啦！你聽起來像個創造無限創意的人。你的笑话像個色彩鮮豔的畫作，讓你頭疼笑著。你想聽些什麼才妙呢？我是一位專門用英文創造幽默的大師。我善用各種笑語、語義巧妙的雙關和對話的創造力，可以讓你在笑到肚子痛。你想聽些我的奇妙創造嗎？'\u001b[0m\n",
              "\u001b[2;32m│   \u001b[0m\u001b[1m)\u001b[0m\n",
              "\u001b[1m]\u001b[0m\n"
            ]
          },
          "metadata": {},
          "output_type": "display_data"
        },
        {
          "data": {
            "text/html": [
              "<pre style=\"white-space:pre;overflow-x:auto;line-height:normal;font-family:Menlo,'DejaVu Sans Mono',consolas,'Courier New',monospace\"><span style=\"color: #008000; text-decoration-color: #008000\">'---------------'</span>\n",
              "</pre>\n"
            ],
            "text/plain": [
              "\u001b[32m'---------------'\u001b[0m\n"
            ]
          },
          "metadata": {},
          "output_type": "display_data"
        }
      ],
      "source": [
        "result: Output = agent_executor(agent_chain=agent_chain,\n",
        "                                human_input=\"\"\"\n",
        "Please create a random joke and provide the translated result\n",
        "without including the original language, newlines, empty spaces, or instructions.\n",
        "\"\"\")"
      ]
    },
    {
      "cell_type": "code",
      "execution_count": 32,
      "metadata": {
        "colab": {
          "base_uri": "https://localhost:8080/",
          "height": 88
        },
        "id": "mPhdhm9Dupel",
        "outputId": "b8c85efd-bdfa-4782-8cda-6c7d37cb7e4d"
      },
      "outputs": [
        {
          "data": {
            "text/html": [
              "<pre style=\"white-space:pre;overflow-x:auto;line-height:normal;font-family:Menlo,'DejaVu Sans Mono',consolas,'Courier New',monospace\"><span style=\"color: #800080; text-decoration-color: #800080; font-weight: bold\">AgentFinish</span><span style=\"font-weight: bold\">(</span>\n",
              "<span style=\"color: #7fbf7f; text-decoration-color: #7fbf7f\">│   </span><span style=\"color: #808000; text-decoration-color: #808000\">return_values</span>=<span style=\"font-weight: bold\">{</span><span style=\"color: #008000; text-decoration-color: #008000\">'output'</span>: <span style=\"color: #008000; text-decoration-color: #008000\">'为什么稻草人赢得了奖项？因为他在田地里表现出色！'</span><span style=\"font-weight: bold\">}</span>,\n",
              "<span style=\"color: #7fbf7f; text-decoration-color: #7fbf7f\">│   </span><span style=\"color: #808000; text-decoration-color: #808000\">log</span>=<span style=\"color: #008000; text-decoration-color: #008000\">'为什么稻草人赢得了奖项？因为他在田地里表现出色！'</span>\n",
              "<span style=\"font-weight: bold\">)</span>\n",
              "</pre>\n"
            ],
            "text/plain": [
              "\u001b[1;35mAgentFinish\u001b[0m\u001b[1m(\u001b[0m\n",
              "\u001b[2;32m│   \u001b[0m\u001b[33mreturn_values\u001b[0m=\u001b[1m{\u001b[0m\u001b[32m'output'\u001b[0m: \u001b[32m'为什么稻草人赢得了奖项？因为他在田地里表现出色！'\u001b[0m\u001b[1m}\u001b[0m,\n",
              "\u001b[2;32m│   \u001b[0m\u001b[33mlog\u001b[0m=\u001b[32m'为什么稻草人赢得了奖项？因为他在田地里表现出色！'\u001b[0m\n",
              "\u001b[1m)\u001b[0m\n"
            ]
          },
          "metadata": {},
          "output_type": "display_data"
        }
      ],
      "source": [
        "pprint(result)"
      ]
    }
  ],
  "metadata": {
    "colab": {
      "provenance": []
    },
    "kernelspec": {
      "display_name": "Python 3",
      "name": "python3"
    },
    "language_info": {
      "codemirror_mode": {
        "name": "ipython",
        "version": 3
      },
      "file_extension": ".py",
      "mimetype": "text/x-python",
      "name": "python",
      "nbconvert_exporter": "python",
      "pygments_lexer": "ipython3",
      "version": "3.11.5"
    }
  },
  "nbformat": 4,
  "nbformat_minor": 0
}
