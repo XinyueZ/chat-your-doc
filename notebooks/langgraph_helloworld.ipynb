{
 "cells": [
  {
   "cell_type": "code",
   "execution_count": 244,
   "metadata": {},
   "outputs": [],
   "source": [
    "import os\n",
    "os.environ[\"LANGCHAIN_PROJECT\"] = \"langchain_grah\" # langsmith usage"
   ]
  },
  {
   "cell_type": "markdown",
   "metadata": {},
   "source": [
    "## Hello,world"
   ]
  },
  {
   "cell_type": "code",
   "execution_count": 245,
   "metadata": {},
   "outputs": [],
   "source": [
    "from langgraph.graph import StateGraph, END\n",
    "from typing import Dict, TypedDict, Optional, Literal, List, Union"
   ]
  },
  {
   "cell_type": "code",
   "execution_count": 246,
   "metadata": {},
   "outputs": [],
   "source": [
    "class GraphState(TypedDict):\n",
    "    init_input: Optional[str] = None\n",
    "    first_word: Optional[str] = None\n",
    "    second_word: Optional[str] = None\n",
    "    final_result: Optional[str] = None"
   ]
  },
  {
   "cell_type": "code",
   "execution_count": 247,
   "metadata": {},
   "outputs": [],
   "source": [
    "def input_first(state: GraphState) -> Dict[str, str]:\n",
    "    print(\"\"\"start input_first()\"\"\")\n",
    "    init_input = state.get(\"init_input\", \"\").strip()\n",
    "    if init_input != \"hello\":\n",
    "        return {\"first_word\": \"error\"}\n",
    "    return {\"first_word\": \"hello\"}\n",
    "\n",
    "\n",
    "def input_second(state: GraphState) -> Dict[str, str]:\n",
    "    print(\"\"\"start input_second()\"\"\")\n",
    "    if state.get(\"first_word\") == \"error\":\n",
    "        {\"second_word\": \"error\"}\n",
    "    return {\"second_word\": \"world\"}\n",
    "\n",
    "\n",
    "def complete_word(state: GraphState) -> Dict[str, str]:\n",
    "    print(\"\"\"start complete_word()\"\"\")\n",
    "    if state.get(\"first_word\") == \"error\" or state.get(\"second_word\") == \"error\":\n",
    "        return {\"final_result\": \"error\"}\n",
    "    return {\"final_result\": state[\"first_word\"] + \", \" + state[\"second_word\"] + \"!\"}\n",
    "\n",
    "\n",
    "def error(state: GraphState) -> Dict[str, str]:\n",
    "    print(\"\"\"start error()\"\"\")\n",
    "    return {\"final_result\": \"error\", \"first_word\": \"error\", \"second_word\": \"error\"}\n",
    "\n",
    "\n",
    "def continue_next(\n",
    "    state: GraphState,\n",
    ") ->  Literal[\"to_input_second\", \"to_error\"]:\n",
    "    print(f\"continue_next: state: {state}\")\n",
    "    if state.get(\"first_word\") == \"hello\" and state.get(\"second_word\") == None:\n",
    "        print(\"- continue to_input_second\")\n",
    "        return \"to_input_second\"\n",
    "\n",
    "    if (\n",
    "        state.get(\"first_word\") == \"error\"\n",
    "        or state.get(\"second_word\") == \"error\"\n",
    "        or state.get(\"final_result\") == \"error\"\n",
    "    ):\n",
    "        print(\"- continue to_error\")\n",
    "        return \"to_error\" "
   ]
  },
  {
   "cell_type": "code",
   "execution_count": 248,
   "metadata": {},
   "outputs": [],
   "source": [
    "workflow = StateGraph(GraphState)\n",
    "\n",
    "workflow.add_node(\"input_first\", input_first)\n",
    "workflow.add_node(\"input_second\", input_second)\n",
    "workflow.add_node(\"complete_word\", complete_word)\n",
    "workflow.add_node(\"error\", error)\n",
    "\n",
    "workflow.set_entry_point(\"input_first\")\n",
    "workflow.add_edge(\"input_second\", \"complete_word\")\n",
    "workflow.add_edge(\"complete_word\", END)\n",
    "workflow.add_edge(\"error\", END)\n",
    "\n",
    "workflow.add_conditional_edges(\n",
    "    \"input_first\", # start node name\n",
    "    continue_next, # decision of what to do next AFTER start-node, the input is the output of the start-node\n",
    "    {   # keys: return of continue_next, values: next node to continue\n",
    "        \"to_input_second\": \"input_second\",\n",
    "        \"to_error\": \"error\",\n",
    "    },\n",
    ")\n",
    "\n",
    "app = workflow.compile()"
   ]
  },
  {
   "cell_type": "code",
   "execution_count": 249,
   "metadata": {},
   "outputs": [
    {
     "name": "stdout",
     "output_type": "stream",
     "text": [
      "start input_first()\n",
      "continue_next: state: {'init_input': 'hello', 'first_word': 'hello', 'second_word': None, 'final_result': None}\n",
      "- continue to_input_second\n",
      "start input_second()\n",
      "start complete_word()\n",
      "Result:\n",
      "{'init_input': 'hello', 'first_word': 'hello', 'second_word': 'world', 'final_result': 'hello, world!'}\n"
     ]
    }
   ],
   "source": [
    "result = app.invoke({\"init_input\": \"hello\"})\n",
    "print(\"Result:\")\n",
    "print(result)"
   ]
  },
  {
   "cell_type": "code",
   "execution_count": 250,
   "metadata": {},
   "outputs": [
    {
     "name": "stdout",
     "output_type": "stream",
     "text": [
      "start input_first()\n",
      "continue_next: state: {'init_input': 'hey', 'first_word': 'error', 'second_word': None, 'final_result': None}\n",
      "- continue to_error\n",
      "start error()\n",
      "Result:\n",
      "{'init_input': 'hey', 'first_word': 'error', 'second_word': 'error', 'final_result': 'error'}\n"
     ]
    }
   ],
   "source": [
    "result = app.invoke({\"init_input\": \"hey\"})\n",
    "print(\"Result:\")\n",
    "print(result)"
   ]
  }
 ],
 "metadata": {
  "kernelspec": {
   "display_name": "machinelearning",
   "language": "python",
   "name": "python3"
  },
  "language_info": {
   "codemirror_mode": {
    "name": "ipython",
    "version": 3
   },
   "file_extension": ".py",
   "mimetype": "text/x-python",
   "name": "python",
   "nbconvert_exporter": "python",
   "pygments_lexer": "ipython3",
   "version": "3.11.5"
  }
 },
 "nbformat": 4,
 "nbformat_minor": 2
}
