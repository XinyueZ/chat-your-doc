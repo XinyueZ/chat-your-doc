{
  "cells": [
    {
      "cell_type": "code",
      "execution_count": 55,
      "metadata": {
        "id": "Jx2E24SKRE9w"
      },
      "outputs": [],
      "source": [
        "import json\n",
        "from typing import (Any, Dict, List, Literal, Optional, Sequence, TypedDict,\n",
        "                    Union)\n",
        "\n",
        "import nest_asyncio\n",
        "from langgraph.graph import END, StateGraph\n",
        "from llama_index.core.base.llms.types import (ChatMessage, ChatResponse,\n",
        "                                              MessageRole)\n",
        "from llama_index.core.llms import ChatMessage\n",
        "from llama_index.core.prompts.base import ChatPromptTemplate\n",
        "from llama_index.core.tools.function_tool import FunctionTool\n",
        "from llama_index.core.tools.types import BaseTool, ToolOutput\n",
        "from llama_index.llms.groq import Groq\n",
        "from llama_index.llms.ollama import Ollama\n",
        "from llama_index.llms.openai import OpenAI\n",
        "from loguru import logger\n",
        "from openai.types.chat import ChatCompletionMessageToolCall\n",
        "from rich.pretty import pprint\n",
        "\n",
        "nest_asyncio.apply()\n",
        "\n",
        "def pretty_print(title: str = None, content: Any = None):\n",
        "    if title is None:\n",
        "        print(content)\n",
        "        return\n",
        "    print(title)\n",
        "    pprint(content)\n"
      ]
    },
    {
      "cell_type": "markdown",
      "metadata": {
        "id": "g20FejLURYSC"
      },
      "source": [
        "## Tools"
      ]
    },
    {
      "cell_type": "code",
      "execution_count": 56,
      "metadata": {
        "id": "Lr42qj1HRXjO"
      },
      "outputs": [
        {
          "data": {
            "text/html": [
              "<pre style=\"white-space:pre;overflow-x:auto;line-height:normal;font-family:Menlo,'DejaVu Sans Mono',consolas,'Courier New',monospace\"><span style=\"color: #008000; text-decoration-color: #008000\">\"What do you call a stick that won't come back?\\n\\n答案：一根无法回家的棍子。\"</span>\n",
              "</pre>\n"
            ],
            "text/plain": [
              "\u001b[32m\"What do you call a stick that won't come back?\\n\\n答案：一根无法回家的棍子。\"\u001b[0m\n"
            ]
          },
          "metadata": {},
          "output_type": "display_data"
        }
      ],
      "source": [
        "def int_mult(a: int, b: int) -> int:\n",
        "    \"\"\"Apply a * b and returns the result as int\"\"\"\n",
        "    res = a * b\n",
        "    logger.debug(f\"Apply {a} * {b} and returns {res}\")\n",
        "\n",
        "    return res\n",
        "\n",
        "def int_add(a: int, b: int) -> int:\n",
        "    \"\"\"Apply a + b and returns the result as int\"\"\"\n",
        "    res = a + b\n",
        "    logger.debug(f\"Apply {a} + {b} and returns {res}\")\n",
        "\n",
        "    return res\n",
        "\n",
        "\n",
        "def random_joke()->str:\n",
        "    \"\"\"A crazy creator that can create a random joke.\"\"\"\n",
        "    #model: OpenAI = OpenAI(temperature=1.5)\n",
        "    model = Ollama(model=\"gemma:2b-instruct\", temperature=2.)\n",
        "    res = model.complete(f\"You are a crazy creator that can create a random joke. Notice: only return the joke content without any other information, empty spaces, leading text, newlines or instruction information.\")\n",
        "    return res.text.strip()\n",
        "\n",
        "\n",
        "def translate(string: str)->str:\n",
        "    \"\"\"Translate the string into Simplified Chinese.\"\"\"\n",
        "    #model: OpenAI = OpenAI(temperature=0)\n",
        "    model = Ollama(model=\"gemma:2b-instruct\", temperature=0.5)\n",
        "    res = model.complete(f\"Translate the text inside [TEXT] into Simplified Chinese, only return the result. [TEXT]{string}[TEXT]\")\n",
        "    return res.text.strip()\n",
        "\n",
        "# Some demos:\n",
        "a_joke = random_joke()\n",
        "joke_translated = translate(a_joke)\n",
        "pprint(joke_translated)"
      ]
    },
    {
      "cell_type": "markdown",
      "metadata": {
        "id": "-eXVSh0XSJPz"
      },
      "source": [
        "### Convert Python functiont to function-tool.\n",
        "\n",
        "Similar to `@tool` in LangChain"
      ]
    },
    {
      "cell_type": "code",
      "execution_count": 57,
      "metadata": {
        "colab": {
          "base_uri": "https://localhost:8080/",
          "height": 82
        },
        "id": "yAlCMB-lSSVM",
        "outputId": "1848fdda-e773-43d3-fb32-3fea1f2da27b"
      },
      "outputs": [
        {
          "data": {
            "text/html": [
              "<pre style=\"white-space:pre;overflow-x:auto;line-height:normal;font-family:Menlo,'DejaVu Sans Mono',consolas,'Courier New',monospace\"><span style=\"font-weight: bold\">[</span>\n",
              "<span style=\"color: #7fbf7f; text-decoration-color: #7fbf7f\">│   </span><span style=\"font-weight: bold\">&lt;</span><span style=\"color: #ff00ff; text-decoration-color: #ff00ff; font-weight: bold\">llama_index.core.tools.function_tool.FunctionTool</span><span style=\"color: #000000; text-decoration-color: #000000\"> object at </span><span style=\"color: #008080; text-decoration-color: #008080; font-weight: bold\">0x134c75d50</span><span style=\"color: #000000; text-decoration-color: #000000\">&gt;,</span>\n",
              "<span style=\"color: #7fbf7f; text-decoration-color: #7fbf7f\">│   </span><span style=\"color: #000000; text-decoration-color: #000000\">&lt;llama_index.core.tools.function_tool.FunctionTool object at </span><span style=\"color: #008080; text-decoration-color: #008080; font-weight: bold\">0x13427b790</span><span style=\"font-weight: bold\">&gt;</span>\n",
              "<span style=\"font-weight: bold\">]</span>\n",
              "</pre>\n"
            ],
            "text/plain": [
              "\u001b[1m[\u001b[0m\n",
              "\u001b[2;32m│   \u001b[0m\u001b[1m<\u001b[0m\u001b[1;95mllama_index.core.tools.function_tool.FunctionTool\u001b[0m\u001b[39m object at \u001b[0m\u001b[1;36m0x134c75d50\u001b[0m\u001b[39m>,\u001b[0m\n",
              "\u001b[2;32m│   \u001b[0m\u001b[39m<llama_index.core.tools.function_tool.FunctionTool object at \u001b[0m\u001b[1;36m0x13427b790\u001b[0m\u001b[1m>\u001b[0m\n",
              "\u001b[1m]\u001b[0m\n"
            ]
          },
          "metadata": {},
          "output_type": "display_data"
        }
      ],
      "source": [
        "int_mult_tool, int_add_tool = FunctionTool.from_defaults(fn=int_mult), FunctionTool.from_defaults(fn=int_add)\n",
        "int_tools: Sequence[BaseTool]  = [int_mult_tool, int_add_tool]\n",
        "\n",
        "pprint(int_tools)"
      ]
    },
    {
      "cell_type": "code",
      "execution_count": 58,
      "metadata": {
        "colab": {
          "base_uri": "https://localhost:8080/",
          "height": 215
        },
        "id": "GuPkGCdR0jti",
        "outputId": "dc0e3c72-394c-4bdb-97d9-f8107779ee95"
      },
      "outputs": [
        {
          "data": {
            "text/html": [
              "<pre style=\"white-space:pre;overflow-x:auto;line-height:normal;font-family:Menlo,'DejaVu Sans Mono',consolas,'Courier New',monospace\"><span style=\"color: #800080; text-decoration-color: #800080; font-weight: bold\">ToolMetadata</span><span style=\"font-weight: bold\">(</span>\n",
              "<span style=\"color: #7fbf7f; text-decoration-color: #7fbf7f\">│   </span><span style=\"color: #808000; text-decoration-color: #808000\">description</span>=<span style=\"color: #008000; text-decoration-color: #008000\">'int_mult(a: int, b: int) -&gt; int\\nApply a * b and returns the result as int'</span>,\n",
              "<span style=\"color: #7fbf7f; text-decoration-color: #7fbf7f\">│   </span><span style=\"color: #808000; text-decoration-color: #808000\">name</span>=<span style=\"color: #008000; text-decoration-color: #008000\">'int_mult'</span>,\n",
              "<span style=\"color: #7fbf7f; text-decoration-color: #7fbf7f\">│   </span><span style=\"color: #808000; text-decoration-color: #808000\">fn_schema</span>=<span style=\"font-weight: bold\">&lt;</span><span style=\"color: #ff00ff; text-decoration-color: #ff00ff; font-weight: bold\">class</span><span style=\"color: #000000; text-decoration-color: #000000\"> </span><span style=\"color: #008000; text-decoration-color: #008000\">'pydantic.main.int_mult'</span><span style=\"font-weight: bold\">&gt;</span>\n",
              "<span style=\"font-weight: bold\">)</span>\n",
              "</pre>\n"
            ],
            "text/plain": [
              "\u001b[1;35mToolMetadata\u001b[0m\u001b[1m(\u001b[0m\n",
              "\u001b[2;32m│   \u001b[0m\u001b[33mdescription\u001b[0m=\u001b[32m'int_mult\u001b[0m\u001b[32m(\u001b[0m\u001b[32ma: int, b: int\u001b[0m\u001b[32m)\u001b[0m\u001b[32m -> int\\nApply a * b and returns the result as int'\u001b[0m,\n",
              "\u001b[2;32m│   \u001b[0m\u001b[33mname\u001b[0m=\u001b[32m'int_mult'\u001b[0m,\n",
              "\u001b[2;32m│   \u001b[0m\u001b[33mfn_schema\u001b[0m=\u001b[1m<\u001b[0m\u001b[1;95mclass\u001b[0m\u001b[39m \u001b[0m\u001b[32m'pydantic.main.int_mult'\u001b[0m\u001b[1m>\u001b[0m\n",
              "\u001b[1m)\u001b[0m\n"
            ]
          },
          "metadata": {},
          "output_type": "display_data"
        },
        {
          "name": "stdout",
          "output_type": "stream",
          "text": [
            "-----\n"
          ]
        },
        {
          "data": {
            "text/html": [
              "<pre style=\"white-space:pre;overflow-x:auto;line-height:normal;font-family:Menlo,'DejaVu Sans Mono',consolas,'Courier New',monospace\"><span style=\"color: #800080; text-decoration-color: #800080; font-weight: bold\">ToolMetadata</span><span style=\"font-weight: bold\">(</span>\n",
              "<span style=\"color: #7fbf7f; text-decoration-color: #7fbf7f\">│   </span><span style=\"color: #808000; text-decoration-color: #808000\">description</span>=<span style=\"color: #008000; text-decoration-color: #008000\">'int_add(a: int, b: int) -&gt; int\\nApply a + b and returns the result as int'</span>,\n",
              "<span style=\"color: #7fbf7f; text-decoration-color: #7fbf7f\">│   </span><span style=\"color: #808000; text-decoration-color: #808000\">name</span>=<span style=\"color: #008000; text-decoration-color: #008000\">'int_add'</span>,\n",
              "<span style=\"color: #7fbf7f; text-decoration-color: #7fbf7f\">│   </span><span style=\"color: #808000; text-decoration-color: #808000\">fn_schema</span>=<span style=\"font-weight: bold\">&lt;</span><span style=\"color: #ff00ff; text-decoration-color: #ff00ff; font-weight: bold\">class</span><span style=\"color: #000000; text-decoration-color: #000000\"> </span><span style=\"color: #008000; text-decoration-color: #008000\">'pydantic.main.int_add'</span><span style=\"font-weight: bold\">&gt;</span>\n",
              "<span style=\"font-weight: bold\">)</span>\n",
              "</pre>\n"
            ],
            "text/plain": [
              "\u001b[1;35mToolMetadata\u001b[0m\u001b[1m(\u001b[0m\n",
              "\u001b[2;32m│   \u001b[0m\u001b[33mdescription\u001b[0m=\u001b[32m'int_add\u001b[0m\u001b[32m(\u001b[0m\u001b[32ma: int, b: int\u001b[0m\u001b[32m)\u001b[0m\u001b[32m -> int\\nApply a + b and returns the result as int'\u001b[0m,\n",
              "\u001b[2;32m│   \u001b[0m\u001b[33mname\u001b[0m=\u001b[32m'int_add'\u001b[0m,\n",
              "\u001b[2;32m│   \u001b[0m\u001b[33mfn_schema\u001b[0m=\u001b[1m<\u001b[0m\u001b[1;95mclass\u001b[0m\u001b[39m \u001b[0m\u001b[32m'pydantic.main.int_add'\u001b[0m\u001b[1m>\u001b[0m\n",
              "\u001b[1m)\u001b[0m\n"
            ]
          },
          "metadata": {},
          "output_type": "display_data"
        },
        {
          "name": "stdout",
          "output_type": "stream",
          "text": [
            "-----\n"
          ]
        }
      ],
      "source": [
        "for tool in int_tools:\n",
        "    pprint(tool.metadata)\n",
        "    print(\"-----\")"
      ]
    },
    {
      "cell_type": "code",
      "execution_count": 59,
      "metadata": {
        "colab": {
          "base_uri": "https://localhost:8080/",
          "height": 82
        },
        "id": "3G38et1T0s04",
        "outputId": "ed779b77-4d33-4c8c-8097-9daebaca6f73"
      },
      "outputs": [
        {
          "data": {
            "text/html": [
              "<pre style=\"white-space:pre;overflow-x:auto;line-height:normal;font-family:Menlo,'DejaVu Sans Mono',consolas,'Courier New',monospace\"><span style=\"font-weight: bold\">{</span>\n",
              "<span style=\"color: #7fbf7f; text-decoration-color: #7fbf7f\">│   </span><span style=\"color: #008000; text-decoration-color: #008000\">'int_mult'</span>: <span style=\"font-weight: bold\">&lt;</span><span style=\"color: #ff00ff; text-decoration-color: #ff00ff; font-weight: bold\">llama_index.core.tools.function_tool.FunctionTool</span><span style=\"color: #000000; text-decoration-color: #000000\"> object at </span><span style=\"color: #008080; text-decoration-color: #008080; font-weight: bold\">0x134c75d50</span><span style=\"color: #000000; text-decoration-color: #000000\">&gt;,</span>\n",
              "<span style=\"color: #7fbf7f; text-decoration-color: #7fbf7f\">│   </span><span style=\"color: #008000; text-decoration-color: #008000\">'int_add'</span><span style=\"color: #000000; text-decoration-color: #000000\">: &lt;llama_index.core.tools.function_tool.FunctionTool object at </span><span style=\"color: #008080; text-decoration-color: #008080; font-weight: bold\">0x13427b790</span><span style=\"font-weight: bold\">&gt;</span>\n",
              "<span style=\"font-weight: bold\">}</span>\n",
              "</pre>\n"
            ],
            "text/plain": [
              "\u001b[1m{\u001b[0m\n",
              "\u001b[2;32m│   \u001b[0m\u001b[32m'int_mult'\u001b[0m: \u001b[1m<\u001b[0m\u001b[1;95mllama_index.core.tools.function_tool.FunctionTool\u001b[0m\u001b[39m object at \u001b[0m\u001b[1;36m0x134c75d50\u001b[0m\u001b[39m>,\u001b[0m\n",
              "\u001b[2;32m│   \u001b[0m\u001b[32m'int_add'\u001b[0m\u001b[39m: <llama_index.core.tools.function_tool.FunctionTool object at \u001b[0m\u001b[1;36m0x13427b790\u001b[0m\u001b[1m>\u001b[0m\n",
              "\u001b[1m}\u001b[0m\n"
            ]
          },
          "metadata": {},
          "output_type": "display_data"
        }
      ],
      "source": [
        "tools_dict: Dict[str, FunctionTool] = {tool.metadata.name: tool for tool in int_tools}\n",
        "pprint(tools_dict)"
      ]
    },
    {
      "cell_type": "markdown",
      "metadata": {
        "id": "Axj95wk-1jaA"
      },
      "source": [
        "### Call a tool"
      ]
    },
    {
      "cell_type": "code",
      "execution_count": 60,
      "metadata": {
        "colab": {
          "base_uri": "https://localhost:8080/"
        },
        "id": "6sk7_j0Y1lMQ",
        "outputId": "f3167b24-049c-4551-d64b-823a133d82ba"
      },
      "outputs": [
        {
          "name": "stderr",
          "output_type": "stream",
          "text": [
            "\u001b[32m2024-03-05 21:18:00.209\u001b[0m | \u001b[34m\u001b[1mDEBUG   \u001b[0m | \u001b[36m__main__\u001b[0m:\u001b[36mint_mult\u001b[0m:\u001b[36m4\u001b[0m - \u001b[34m\u001b[1mApply 12 * 34 and returns 408\u001b[0m\n"
          ]
        },
        {
          "data": {
            "text/plain": [
              "ToolOutput(content='408', tool_name='int_mult', raw_input={'args': (), 'kwargs': {'a': 12, 'b': 34}}, raw_output=408)"
            ]
          },
          "execution_count": 60,
          "metadata": {},
          "output_type": "execute_result"
        }
      ],
      "source": [
        "int_mult_tool(**{\"a\":12,\"b\":34})"
      ]
    },
    {
      "cell_type": "markdown",
      "metadata": {
        "id": "eupFOquSTzNI"
      },
      "source": [
        "## Model"
      ]
    },
    {
      "cell_type": "code",
      "execution_count": 61,
      "metadata": {
        "id": "8ZVr9xKGT24T"
      },
      "outputs": [],
      "source": [
        "model: OpenAI = OpenAI(temperature=0, model=\"gpt-4-1106-preview\")"
      ]
    },
    {
      "cell_type": "markdown",
      "metadata": {
        "id": "6Kq3ruQPUupf"
      },
      "source": [
        "## Prompt template\n",
        "\n",
        "Ref: https://docs.llamaindex.ai/en/stable/examples/customization/prompts/chat_prompts.html\n",
        "\n"
      ]
    },
    {
      "cell_type": "code",
      "execution_count": 62,
      "metadata": {
        "colab": {
          "base_uri": "https://localhost:8080/",
          "height": 199
        },
        "id": "AzQosh0hU3vf",
        "outputId": "2c659272-b464-453c-dfc2-1ce5bb42b7f4"
      },
      "outputs": [
        {
          "name": "stderr",
          "output_type": "stream",
          "text": [
            "\u001b[32m2024-03-05 21:18:00.308\u001b[0m | \u001b[34m\u001b[1mDEBUG   \u001b[0m | \u001b[36m__main__\u001b[0m:\u001b[36m<module>\u001b[0m:\u001b[36m13\u001b[0m - \u001b[34m\u001b[1min string\u001b[0m\n"
          ]
        },
        {
          "data": {
            "text/html": [
              "<pre style=\"white-space:pre;overflow-x:auto;line-height:normal;font-family:Menlo,'DejaVu Sans Mono',consolas,'Courier New',monospace\"><span style=\"color: #008000; text-decoration-color: #008000\">'system: You are an assisant to perform the user input.\\nuser: hi, template\\nassistant: '</span>\n",
              "</pre>\n"
            ],
            "text/plain": [
              "\u001b[32m'system: You are an assisant to perform the user input.\\nuser: hi, template\\nassistant: '\u001b[0m\n"
            ]
          },
          "metadata": {},
          "output_type": "display_data"
        },
        {
          "name": "stderr",
          "output_type": "stream",
          "text": [
            "\u001b[32m2024-03-05 21:18:00.314\u001b[0m | \u001b[34m\u001b[1mDEBUG   \u001b[0m | \u001b[36m__main__\u001b[0m:\u001b[36m<module>\u001b[0m:\u001b[36m18\u001b[0m - \u001b[34m\u001b[1min list\u001b[0m\n"
          ]
        },
        {
          "data": {
            "text/html": [
              "<pre style=\"white-space:pre;overflow-x:auto;line-height:normal;font-family:Menlo,'DejaVu Sans Mono',consolas,'Courier New',monospace\"><span style=\"font-weight: bold\">[</span>\n",
              "<span style=\"color: #7fbf7f; text-decoration-color: #7fbf7f\">│   </span><span style=\"color: #800080; text-decoration-color: #800080; font-weight: bold\">ChatMessage</span><span style=\"font-weight: bold\">(</span>\n",
              "<span style=\"color: #7fbf7f; text-decoration-color: #7fbf7f\">│   │   </span><span style=\"color: #808000; text-decoration-color: #808000\">role</span>=<span style=\"font-weight: bold\">&lt;</span><span style=\"color: #ff00ff; text-decoration-color: #ff00ff; font-weight: bold\">MessageRole.SYSTEM:</span><span style=\"color: #000000; text-decoration-color: #000000\"> </span><span style=\"color: #008000; text-decoration-color: #008000\">'system'</span><span style=\"color: #000000; text-decoration-color: #000000\">&gt;,</span>\n",
              "<span style=\"color: #7fbf7f; text-decoration-color: #7fbf7f\">│   │   </span><span style=\"color: #808000; text-decoration-color: #808000\">content</span><span style=\"color: #000000; text-decoration-color: #000000\">=</span><span style=\"color: #008000; text-decoration-color: #008000\">'You are an assisant to perform the user input.'</span><span style=\"color: #000000; text-decoration-color: #000000\">,</span>\n",
              "<span style=\"color: #7fbf7f; text-decoration-color: #7fbf7f\">│   │   </span><span style=\"color: #808000; text-decoration-color: #808000\">additional_kwargs</span><span style=\"color: #000000; text-decoration-color: #000000\">=</span><span style=\"color: #000000; text-decoration-color: #000000; font-weight: bold\">{}</span>\n",
              "<span style=\"color: #7fbf7f; text-decoration-color: #7fbf7f\">│   </span><span style=\"color: #000000; text-decoration-color: #000000; font-weight: bold\">)</span><span style=\"color: #000000; text-decoration-color: #000000\">,</span>\n",
              "<span style=\"color: #7fbf7f; text-decoration-color: #7fbf7f\">│   </span><span style=\"color: #800080; text-decoration-color: #800080; font-weight: bold\">ChatMessage</span><span style=\"color: #000000; text-decoration-color: #000000; font-weight: bold\">(</span><span style=\"color: #808000; text-decoration-color: #808000\">role</span><span style=\"color: #000000; text-decoration-color: #000000\">=&lt;MessageRole.USER: </span><span style=\"color: #008000; text-decoration-color: #008000\">'user'</span><span style=\"font-weight: bold\">&gt;</span>, <span style=\"color: #808000; text-decoration-color: #808000\">content</span>=<span style=\"color: #008000; text-decoration-color: #008000\">'hi, messages'</span>, <span style=\"color: #808000; text-decoration-color: #808000\">additional_kwargs</span>=<span style=\"font-weight: bold\">{})</span>\n",
              "<span style=\"font-weight: bold\">]</span>\n",
              "</pre>\n"
            ],
            "text/plain": [
              "\u001b[1m[\u001b[0m\n",
              "\u001b[2;32m│   \u001b[0m\u001b[1;35mChatMessage\u001b[0m\u001b[1m(\u001b[0m\n",
              "\u001b[2;32m│   │   \u001b[0m\u001b[33mrole\u001b[0m=\u001b[1m<\u001b[0m\u001b[1;95mMessageRole.SYSTEM:\u001b[0m\u001b[39m \u001b[0m\u001b[32m'system'\u001b[0m\u001b[39m>,\u001b[0m\n",
              "\u001b[2;32m│   │   \u001b[0m\u001b[33mcontent\u001b[0m\u001b[39m=\u001b[0m\u001b[32m'You are an assisant to perform the user input.'\u001b[0m\u001b[39m,\u001b[0m\n",
              "\u001b[2;32m│   │   \u001b[0m\u001b[33madditional_kwargs\u001b[0m\u001b[39m=\u001b[0m\u001b[1;39m{\u001b[0m\u001b[1;39m}\u001b[0m\n",
              "\u001b[2;32m│   \u001b[0m\u001b[1;39m)\u001b[0m\u001b[39m,\u001b[0m\n",
              "\u001b[2;32m│   \u001b[0m\u001b[1;35mChatMessage\u001b[0m\u001b[1;39m(\u001b[0m\u001b[33mrole\u001b[0m\u001b[39m=<MessageRole.USER: \u001b[0m\u001b[32m'user'\u001b[0m\u001b[1m>\u001b[0m, \u001b[33mcontent\u001b[0m=\u001b[32m'hi, messages'\u001b[0m, \u001b[33madditional_kwargs\u001b[0m=\u001b[1m{\u001b[0m\u001b[1m}\u001b[0m\u001b[1m)\u001b[0m\n",
              "\u001b[1m]\u001b[0m\n"
            ]
          },
          "metadata": {},
          "output_type": "display_data"
        }
      ],
      "source": [
        "messages: Sequence[ChatMessage] = [\n",
        "    ChatMessage(\n",
        "        role=MessageRole.SYSTEM,\n",
        "        content=(\"You are an assisant to perform the user input.\"),\n",
        "    ),\n",
        "    ChatMessage(\n",
        "        role=MessageRole.USER,\n",
        "        content=(\"{input}\"),\n",
        "    ),\n",
        "]\n",
        "tmpl: ChatPromptTemplate = ChatPromptTemplate(messages)\n",
        "\n",
        "logger.debug(\"in string\")\n",
        "\n",
        "messages_str: str = tmpl.format(input=\"hi, template\")\n",
        "pprint(messages_str)\n",
        "\n",
        "logger.debug(\"in list\")\n",
        "\n",
        "messages: Sequence[ChatMessage] = tmpl.format_messages(input=\"hi, messages\")\n",
        "pprint(messages)"
      ]
    },
    {
      "cell_type": "markdown",
      "metadata": {
        "id": "Y_ti2dUaTCsA"
      },
      "source": [
        "## Query with tools"
      ]
    },
    {
      "cell_type": "code",
      "execution_count": 63,
      "metadata": {
        "colab": {
          "base_uri": "https://localhost:8080/",
          "height": 213
        },
        "id": "EB3etyQpYKBE",
        "outputId": "b4e06ac9-2079-43fc-ebc7-3f0418b279a0"
      },
      "outputs": [
        {
          "data": {
            "text/html": [
              "<pre style=\"white-space:pre;overflow-x:auto;line-height:normal;font-family:Menlo,'DejaVu Sans Mono',consolas,'Courier New',monospace\"><span style=\"font-weight: bold\">[</span>\n",
              "<span style=\"color: #7fbf7f; text-decoration-color: #7fbf7f\">│   </span><span style=\"color: #800080; text-decoration-color: #800080; font-weight: bold\">ChatMessage</span><span style=\"font-weight: bold\">(</span>\n",
              "<span style=\"color: #7fbf7f; text-decoration-color: #7fbf7f\">│   │   </span><span style=\"color: #808000; text-decoration-color: #808000\">role</span>=<span style=\"font-weight: bold\">&lt;</span><span style=\"color: #ff00ff; text-decoration-color: #ff00ff; font-weight: bold\">MessageRole.SYSTEM:</span><span style=\"color: #000000; text-decoration-color: #000000\"> </span><span style=\"color: #008000; text-decoration-color: #008000\">'system'</span><span style=\"color: #000000; text-decoration-color: #000000\">&gt;,</span>\n",
              "<span style=\"color: #7fbf7f; text-decoration-color: #7fbf7f\">│   │   </span><span style=\"color: #808000; text-decoration-color: #808000\">content</span><span style=\"color: #000000; text-decoration-color: #000000\">=</span><span style=\"color: #008000; text-decoration-color: #008000\">'You are an assisant to perform the user input.'</span><span style=\"color: #000000; text-decoration-color: #000000\">,</span>\n",
              "<span style=\"color: #7fbf7f; text-decoration-color: #7fbf7f\">│   │   </span><span style=\"color: #808000; text-decoration-color: #808000\">additional_kwargs</span><span style=\"color: #000000; text-decoration-color: #000000\">=</span><span style=\"color: #000000; text-decoration-color: #000000; font-weight: bold\">{}</span>\n",
              "<span style=\"color: #7fbf7f; text-decoration-color: #7fbf7f\">│   </span><span style=\"color: #000000; text-decoration-color: #000000; font-weight: bold\">)</span><span style=\"color: #000000; text-decoration-color: #000000\">,</span>\n",
              "<span style=\"color: #7fbf7f; text-decoration-color: #7fbf7f\">│   </span><span style=\"color: #800080; text-decoration-color: #800080; font-weight: bold\">ChatMessage</span><span style=\"color: #000000; text-decoration-color: #000000; font-weight: bold\">(</span>\n",
              "<span style=\"color: #7fbf7f; text-decoration-color: #7fbf7f\">│   │   </span><span style=\"color: #808000; text-decoration-color: #808000\">role</span><span style=\"color: #000000; text-decoration-color: #000000\">=&lt;MessageRole.USER: </span><span style=\"color: #008000; text-decoration-color: #008000\">'user'</span><span style=\"font-weight: bold\">&gt;</span>,\n",
              "<span style=\"color: #7fbf7f; text-decoration-color: #7fbf7f\">│   │   </span><span style=\"color: #808000; text-decoration-color: #808000\">content</span>=<span style=\"color: #008000; text-decoration-color: #008000\">'What is the result of the 12*34?'</span>,\n",
              "<span style=\"color: #7fbf7f; text-decoration-color: #7fbf7f\">│   │   </span><span style=\"color: #808000; text-decoration-color: #808000\">additional_kwargs</span>=<span style=\"font-weight: bold\">{}</span>\n",
              "<span style=\"color: #7fbf7f; text-decoration-color: #7fbf7f\">│   </span><span style=\"font-weight: bold\">)</span>\n",
              "<span style=\"font-weight: bold\">]</span>\n",
              "</pre>\n"
            ],
            "text/plain": [
              "\u001b[1m[\u001b[0m\n",
              "\u001b[2;32m│   \u001b[0m\u001b[1;35mChatMessage\u001b[0m\u001b[1m(\u001b[0m\n",
              "\u001b[2;32m│   │   \u001b[0m\u001b[33mrole\u001b[0m=\u001b[1m<\u001b[0m\u001b[1;95mMessageRole.SYSTEM:\u001b[0m\u001b[39m \u001b[0m\u001b[32m'system'\u001b[0m\u001b[39m>,\u001b[0m\n",
              "\u001b[2;32m│   │   \u001b[0m\u001b[33mcontent\u001b[0m\u001b[39m=\u001b[0m\u001b[32m'You are an assisant to perform the user input.'\u001b[0m\u001b[39m,\u001b[0m\n",
              "\u001b[2;32m│   │   \u001b[0m\u001b[33madditional_kwargs\u001b[0m\u001b[39m=\u001b[0m\u001b[1;39m{\u001b[0m\u001b[1;39m}\u001b[0m\n",
              "\u001b[2;32m│   \u001b[0m\u001b[1;39m)\u001b[0m\u001b[39m,\u001b[0m\n",
              "\u001b[2;32m│   \u001b[0m\u001b[1;35mChatMessage\u001b[0m\u001b[1;39m(\u001b[0m\n",
              "\u001b[2;32m│   │   \u001b[0m\u001b[33mrole\u001b[0m\u001b[39m=<MessageRole.USER: \u001b[0m\u001b[32m'user'\u001b[0m\u001b[1m>\u001b[0m,\n",
              "\u001b[2;32m│   │   \u001b[0m\u001b[33mcontent\u001b[0m=\u001b[32m'What is the result of the 12*34?'\u001b[0m,\n",
              "\u001b[2;32m│   │   \u001b[0m\u001b[33madditional_kwargs\u001b[0m=\u001b[1m{\u001b[0m\u001b[1m}\u001b[0m\n",
              "\u001b[2;32m│   \u001b[0m\u001b[1m)\u001b[0m\n",
              "\u001b[1m]\u001b[0m\n"
            ]
          },
          "metadata": {},
          "output_type": "display_data"
        }
      ],
      "source": [
        "messages: Sequence[ChatMessage]  = tmpl.format_messages(input=\"What is the result of the 12*34?\")\n",
        "pprint(messages)"
      ]
    },
    {
      "cell_type": "markdown",
      "metadata": {
        "id": "RRYeL-dhYtAK"
      },
      "source": [
        "### Notice\n",
        "\n",
        "Cannot call `model.chat(messages, tools=int_tools)`, it complaints, because it is not OpenAI format.\n",
        "\n",
        "```\n",
        "TypeError                                 Traceback (most recent call last)\n",
        "<ipython-input-26-76230e6dd870> in <cell line: 1>()\n",
        "----> 1 res = model.chat(messages, tools=int_tools)\n",
        "      2 pprint(res)\n",
        "\n",
        "16 frames\n",
        "/usr/lib/python3.10/json/encoder.py in default(self, o)\n",
        "    177\n",
        "    178         \"\"\"\n",
        "--> 179         raise TypeError(f'Object of type {o.__class__.__name__} '\n",
        "    180                         f'is not JSON serializable')\n",
        "    181\n",
        "\n",
        "TypeError: Object of type FunctionTool is not JSON serializable\n",
        "```\n",
        "\n"
      ]
    },
    {
      "cell_type": "markdown",
      "metadata": {
        "id": "WSQ6Ku2da8oV"
      },
      "source": [
        "### Convert to OpenAI function\n",
        "\n",
        "Similar to LangChain `langchain_core.utils.function_calling.convert_to_openai_function`"
      ]
    },
    {
      "cell_type": "code",
      "execution_count": 64,
      "metadata": {
        "colab": {
          "base_uri": "https://localhost:8080/",
          "height": 442
        },
        "id": "XspmZRffaI-I",
        "outputId": "eb302cc7-bc34-4f29-dd30-74f3560feb37"
      },
      "outputs": [
        {
          "data": {
            "text/html": [
              "<pre style=\"white-space:pre;overflow-x:auto;line-height:normal;font-family:Menlo,'DejaVu Sans Mono',consolas,'Courier New',monospace\"><span style=\"font-weight: bold\">[</span>\n",
              "<span style=\"color: #7fbf7f; text-decoration-color: #7fbf7f\">│   </span><span style=\"font-weight: bold\">{</span>\n",
              "<span style=\"color: #7fbf7f; text-decoration-color: #7fbf7f\">│   │   </span><span style=\"color: #008000; text-decoration-color: #008000\">'type'</span>: <span style=\"color: #008000; text-decoration-color: #008000\">'function'</span>,\n",
              "<span style=\"color: #7fbf7f; text-decoration-color: #7fbf7f\">│   │   </span><span style=\"color: #008000; text-decoration-color: #008000\">'function'</span>: <span style=\"font-weight: bold\">{</span>\n",
              "<span style=\"color: #7fbf7f; text-decoration-color: #7fbf7f\">│   │   │   </span><span style=\"color: #008000; text-decoration-color: #008000\">'name'</span>: <span style=\"color: #008000; text-decoration-color: #008000\">'int_mult'</span>,\n",
              "<span style=\"color: #7fbf7f; text-decoration-color: #7fbf7f\">│   │   │   </span><span style=\"color: #008000; text-decoration-color: #008000\">'description'</span>: <span style=\"color: #008000; text-decoration-color: #008000\">'int_mult(a: int, b: int) -&gt; int\\nApply a * b and returns the result as int'</span>,\n",
              "<span style=\"color: #7fbf7f; text-decoration-color: #7fbf7f\">│   │   │   </span><span style=\"color: #008000; text-decoration-color: #008000\">'parameters'</span>: <span style=\"font-weight: bold\">{</span>\n",
              "<span style=\"color: #7fbf7f; text-decoration-color: #7fbf7f\">│   │   │   │   </span><span style=\"color: #008000; text-decoration-color: #008000\">'type'</span>: <span style=\"color: #008000; text-decoration-color: #008000\">'object'</span>,\n",
              "<span style=\"color: #7fbf7f; text-decoration-color: #7fbf7f\">│   │   │   │   </span><span style=\"color: #008000; text-decoration-color: #008000\">'properties'</span>: <span style=\"font-weight: bold\">{</span><span style=\"color: #008000; text-decoration-color: #008000\">'a'</span>: <span style=\"font-weight: bold\">{</span><span style=\"color: #008000; text-decoration-color: #008000\">'title'</span>: <span style=\"color: #008000; text-decoration-color: #008000\">'A'</span>, <span style=\"color: #008000; text-decoration-color: #008000\">'type'</span>: <span style=\"color: #008000; text-decoration-color: #008000\">'integer'</span><span style=\"font-weight: bold\">}</span>, <span style=\"color: #008000; text-decoration-color: #008000\">'b'</span>: <span style=\"font-weight: bold\">{</span><span style=\"color: #008000; text-decoration-color: #008000\">'title'</span>: <span style=\"color: #008000; text-decoration-color: #008000\">'B'</span>, <span style=\"color: #008000; text-decoration-color: #008000\">'type'</span>: <span style=\"color: #008000; text-decoration-color: #008000\">'integer'</span><span style=\"font-weight: bold\">}}</span>,\n",
              "<span style=\"color: #7fbf7f; text-decoration-color: #7fbf7f\">│   │   │   │   </span><span style=\"color: #008000; text-decoration-color: #008000\">'required'</span>: <span style=\"font-weight: bold\">[</span><span style=\"color: #008000; text-decoration-color: #008000\">'a'</span>, <span style=\"color: #008000; text-decoration-color: #008000\">'b'</span><span style=\"font-weight: bold\">]</span>\n",
              "<span style=\"color: #7fbf7f; text-decoration-color: #7fbf7f\">│   │   │   </span><span style=\"font-weight: bold\">}</span>\n",
              "<span style=\"color: #7fbf7f; text-decoration-color: #7fbf7f\">│   │   </span><span style=\"font-weight: bold\">}</span>\n",
              "<span style=\"color: #7fbf7f; text-decoration-color: #7fbf7f\">│   </span><span style=\"font-weight: bold\">}</span>,\n",
              "<span style=\"color: #7fbf7f; text-decoration-color: #7fbf7f\">│   </span><span style=\"font-weight: bold\">{</span>\n",
              "<span style=\"color: #7fbf7f; text-decoration-color: #7fbf7f\">│   │   </span><span style=\"color: #008000; text-decoration-color: #008000\">'type'</span>: <span style=\"color: #008000; text-decoration-color: #008000\">'function'</span>,\n",
              "<span style=\"color: #7fbf7f; text-decoration-color: #7fbf7f\">│   │   </span><span style=\"color: #008000; text-decoration-color: #008000\">'function'</span>: <span style=\"font-weight: bold\">{</span>\n",
              "<span style=\"color: #7fbf7f; text-decoration-color: #7fbf7f\">│   │   │   </span><span style=\"color: #008000; text-decoration-color: #008000\">'name'</span>: <span style=\"color: #008000; text-decoration-color: #008000\">'int_add'</span>,\n",
              "<span style=\"color: #7fbf7f; text-decoration-color: #7fbf7f\">│   │   │   </span><span style=\"color: #008000; text-decoration-color: #008000\">'description'</span>: <span style=\"color: #008000; text-decoration-color: #008000\">'int_add(a: int, b: int) -&gt; int\\nApply a + b and returns the result as int'</span>,\n",
              "<span style=\"color: #7fbf7f; text-decoration-color: #7fbf7f\">│   │   │   </span><span style=\"color: #008000; text-decoration-color: #008000\">'parameters'</span>: <span style=\"font-weight: bold\">{</span>\n",
              "<span style=\"color: #7fbf7f; text-decoration-color: #7fbf7f\">│   │   │   │   </span><span style=\"color: #008000; text-decoration-color: #008000\">'type'</span>: <span style=\"color: #008000; text-decoration-color: #008000\">'object'</span>,\n",
              "<span style=\"color: #7fbf7f; text-decoration-color: #7fbf7f\">│   │   │   │   </span><span style=\"color: #008000; text-decoration-color: #008000\">'properties'</span>: <span style=\"font-weight: bold\">{</span><span style=\"color: #008000; text-decoration-color: #008000\">'a'</span>: <span style=\"font-weight: bold\">{</span><span style=\"color: #008000; text-decoration-color: #008000\">'title'</span>: <span style=\"color: #008000; text-decoration-color: #008000\">'A'</span>, <span style=\"color: #008000; text-decoration-color: #008000\">'type'</span>: <span style=\"color: #008000; text-decoration-color: #008000\">'integer'</span><span style=\"font-weight: bold\">}</span>, <span style=\"color: #008000; text-decoration-color: #008000\">'b'</span>: <span style=\"font-weight: bold\">{</span><span style=\"color: #008000; text-decoration-color: #008000\">'title'</span>: <span style=\"color: #008000; text-decoration-color: #008000\">'B'</span>, <span style=\"color: #008000; text-decoration-color: #008000\">'type'</span>: <span style=\"color: #008000; text-decoration-color: #008000\">'integer'</span><span style=\"font-weight: bold\">}}</span>,\n",
              "<span style=\"color: #7fbf7f; text-decoration-color: #7fbf7f\">│   │   │   │   </span><span style=\"color: #008000; text-decoration-color: #008000\">'required'</span>: <span style=\"font-weight: bold\">[</span><span style=\"color: #008000; text-decoration-color: #008000\">'a'</span>, <span style=\"color: #008000; text-decoration-color: #008000\">'b'</span><span style=\"font-weight: bold\">]</span>\n",
              "<span style=\"color: #7fbf7f; text-decoration-color: #7fbf7f\">│   │   │   </span><span style=\"font-weight: bold\">}</span>\n",
              "<span style=\"color: #7fbf7f; text-decoration-color: #7fbf7f\">│   │   </span><span style=\"font-weight: bold\">}</span>\n",
              "<span style=\"color: #7fbf7f; text-decoration-color: #7fbf7f\">│   </span><span style=\"font-weight: bold\">}</span>\n",
              "<span style=\"font-weight: bold\">]</span>\n",
              "</pre>\n"
            ],
            "text/plain": [
              "\u001b[1m[\u001b[0m\n",
              "\u001b[2;32m│   \u001b[0m\u001b[1m{\u001b[0m\n",
              "\u001b[2;32m│   │   \u001b[0m\u001b[32m'type'\u001b[0m: \u001b[32m'function'\u001b[0m,\n",
              "\u001b[2;32m│   │   \u001b[0m\u001b[32m'function'\u001b[0m: \u001b[1m{\u001b[0m\n",
              "\u001b[2;32m│   │   │   \u001b[0m\u001b[32m'name'\u001b[0m: \u001b[32m'int_mult'\u001b[0m,\n",
              "\u001b[2;32m│   │   │   \u001b[0m\u001b[32m'description'\u001b[0m: \u001b[32m'int_mult\u001b[0m\u001b[32m(\u001b[0m\u001b[32ma: int, b: int\u001b[0m\u001b[32m)\u001b[0m\u001b[32m -> int\\nApply a * b and returns the result as int'\u001b[0m,\n",
              "\u001b[2;32m│   │   │   \u001b[0m\u001b[32m'parameters'\u001b[0m: \u001b[1m{\u001b[0m\n",
              "\u001b[2;32m│   │   │   │   \u001b[0m\u001b[32m'type'\u001b[0m: \u001b[32m'object'\u001b[0m,\n",
              "\u001b[2;32m│   │   │   │   \u001b[0m\u001b[32m'properties'\u001b[0m: \u001b[1m{\u001b[0m\u001b[32m'a'\u001b[0m: \u001b[1m{\u001b[0m\u001b[32m'title'\u001b[0m: \u001b[32m'A'\u001b[0m, \u001b[32m'type'\u001b[0m: \u001b[32m'integer'\u001b[0m\u001b[1m}\u001b[0m, \u001b[32m'b'\u001b[0m: \u001b[1m{\u001b[0m\u001b[32m'title'\u001b[0m: \u001b[32m'B'\u001b[0m, \u001b[32m'type'\u001b[0m: \u001b[32m'integer'\u001b[0m\u001b[1m}\u001b[0m\u001b[1m}\u001b[0m,\n",
              "\u001b[2;32m│   │   │   │   \u001b[0m\u001b[32m'required'\u001b[0m: \u001b[1m[\u001b[0m\u001b[32m'a'\u001b[0m, \u001b[32m'b'\u001b[0m\u001b[1m]\u001b[0m\n",
              "\u001b[2;32m│   │   │   \u001b[0m\u001b[1m}\u001b[0m\n",
              "\u001b[2;32m│   │   \u001b[0m\u001b[1m}\u001b[0m\n",
              "\u001b[2;32m│   \u001b[0m\u001b[1m}\u001b[0m,\n",
              "\u001b[2;32m│   \u001b[0m\u001b[1m{\u001b[0m\n",
              "\u001b[2;32m│   │   \u001b[0m\u001b[32m'type'\u001b[0m: \u001b[32m'function'\u001b[0m,\n",
              "\u001b[2;32m│   │   \u001b[0m\u001b[32m'function'\u001b[0m: \u001b[1m{\u001b[0m\n",
              "\u001b[2;32m│   │   │   \u001b[0m\u001b[32m'name'\u001b[0m: \u001b[32m'int_add'\u001b[0m,\n",
              "\u001b[2;32m│   │   │   \u001b[0m\u001b[32m'description'\u001b[0m: \u001b[32m'int_add\u001b[0m\u001b[32m(\u001b[0m\u001b[32ma: int, b: int\u001b[0m\u001b[32m)\u001b[0m\u001b[32m -> int\\nApply a + b and returns the result as int'\u001b[0m,\n",
              "\u001b[2;32m│   │   │   \u001b[0m\u001b[32m'parameters'\u001b[0m: \u001b[1m{\u001b[0m\n",
              "\u001b[2;32m│   │   │   │   \u001b[0m\u001b[32m'type'\u001b[0m: \u001b[32m'object'\u001b[0m,\n",
              "\u001b[2;32m│   │   │   │   \u001b[0m\u001b[32m'properties'\u001b[0m: \u001b[1m{\u001b[0m\u001b[32m'a'\u001b[0m: \u001b[1m{\u001b[0m\u001b[32m'title'\u001b[0m: \u001b[32m'A'\u001b[0m, \u001b[32m'type'\u001b[0m: \u001b[32m'integer'\u001b[0m\u001b[1m}\u001b[0m, \u001b[32m'b'\u001b[0m: \u001b[1m{\u001b[0m\u001b[32m'title'\u001b[0m: \u001b[32m'B'\u001b[0m, \u001b[32m'type'\u001b[0m: \u001b[32m'integer'\u001b[0m\u001b[1m}\u001b[0m\u001b[1m}\u001b[0m,\n",
              "\u001b[2;32m│   │   │   │   \u001b[0m\u001b[32m'required'\u001b[0m: \u001b[1m[\u001b[0m\u001b[32m'a'\u001b[0m, \u001b[32m'b'\u001b[0m\u001b[1m]\u001b[0m\n",
              "\u001b[2;32m│   │   │   \u001b[0m\u001b[1m}\u001b[0m\n",
              "\u001b[2;32m│   │   \u001b[0m\u001b[1m}\u001b[0m\n",
              "\u001b[2;32m│   \u001b[0m\u001b[1m}\u001b[0m\n",
              "\u001b[1m]\u001b[0m\n"
            ]
          },
          "metadata": {},
          "output_type": "display_data"
        }
      ],
      "source": [
        "openai_tools: Dict[str, Any] = [\n",
        "            tool.metadata.to_openai_tool() for tool in int_tools\n",
        "        ]\n",
        "pprint(openai_tools)"
      ]
    },
    {
      "cell_type": "markdown",
      "metadata": {
        "id": "OV_HAO6vY9Nu"
      },
      "source": [
        "### Useful query"
      ]
    },
    {
      "cell_type": "code",
      "execution_count": 65,
      "metadata": {
        "colab": {
          "base_uri": "https://localhost:8080/",
          "height": 737
        },
        "id": "54V7d-pjTHy8",
        "outputId": "fccbb0cb-f74e-4e40-8b94-df2bffff5457"
      },
      "outputs": [
        {
          "data": {
            "text/html": [
              "<pre style=\"white-space:pre;overflow-x:auto;line-height:normal;font-family:Menlo,'DejaVu Sans Mono',consolas,'Courier New',monospace\"><span style=\"color: #800080; text-decoration-color: #800080; font-weight: bold\">ChatResponse</span><span style=\"font-weight: bold\">(</span>\n",
              "<span style=\"color: #7fbf7f; text-decoration-color: #7fbf7f\">│   </span><span style=\"color: #808000; text-decoration-color: #808000\">message</span>=<span style=\"color: #800080; text-decoration-color: #800080; font-weight: bold\">ChatMessage</span><span style=\"font-weight: bold\">(</span>\n",
              "<span style=\"color: #7fbf7f; text-decoration-color: #7fbf7f\">│   │   </span><span style=\"color: #808000; text-decoration-color: #808000\">role</span>=<span style=\"font-weight: bold\">&lt;</span><span style=\"color: #ff00ff; text-decoration-color: #ff00ff; font-weight: bold\">MessageRole.ASSISTANT:</span><span style=\"color: #000000; text-decoration-color: #000000\"> </span><span style=\"color: #008000; text-decoration-color: #008000\">'assistant'</span><span style=\"font-weight: bold\">&gt;</span>,\n",
              "<span style=\"color: #7fbf7f; text-decoration-color: #7fbf7f\">│   │   </span><span style=\"color: #808000; text-decoration-color: #808000\">content</span>=<span style=\"color: #800080; text-decoration-color: #800080; font-style: italic\">None</span>,\n",
              "<span style=\"color: #7fbf7f; text-decoration-color: #7fbf7f\">│   │   </span><span style=\"color: #808000; text-decoration-color: #808000\">additional_kwargs</span>=<span style=\"font-weight: bold\">{</span>\n",
              "<span style=\"color: #7fbf7f; text-decoration-color: #7fbf7f\">│   │   │   </span><span style=\"color: #008000; text-decoration-color: #008000\">'tool_calls'</span>: <span style=\"font-weight: bold\">[</span>\n",
              "<span style=\"color: #7fbf7f; text-decoration-color: #7fbf7f\">│   │   │   │   </span><span style=\"color: #800080; text-decoration-color: #800080; font-weight: bold\">ChatCompletionMessageToolCall</span><span style=\"font-weight: bold\">(</span>\n",
              "<span style=\"color: #7fbf7f; text-decoration-color: #7fbf7f\">│   │   │   │   │   </span><span style=\"color: #808000; text-decoration-color: #808000\">id</span>=<span style=\"color: #008000; text-decoration-color: #008000\">'call_uFap5QFPTzJXIW7Yemnt4aAT'</span>,\n",
              "<span style=\"color: #7fbf7f; text-decoration-color: #7fbf7f\">│   │   │   │   │   </span><span style=\"color: #808000; text-decoration-color: #808000\">function</span>=<span style=\"color: #800080; text-decoration-color: #800080; font-weight: bold\">Function</span><span style=\"font-weight: bold\">(</span><span style=\"color: #808000; text-decoration-color: #808000\">arguments</span>=<span style=\"color: #008000; text-decoration-color: #008000\">'{\"a\":12,\"b\":34}'</span>, <span style=\"color: #808000; text-decoration-color: #808000\">name</span>=<span style=\"color: #008000; text-decoration-color: #008000\">'int_mult'</span><span style=\"font-weight: bold\">)</span>,\n",
              "<span style=\"color: #7fbf7f; text-decoration-color: #7fbf7f\">│   │   │   │   │   </span><span style=\"color: #808000; text-decoration-color: #808000\">type</span>=<span style=\"color: #008000; text-decoration-color: #008000\">'function'</span>\n",
              "<span style=\"color: #7fbf7f; text-decoration-color: #7fbf7f\">│   │   │   │   </span><span style=\"font-weight: bold\">)</span>\n",
              "<span style=\"color: #7fbf7f; text-decoration-color: #7fbf7f\">│   │   │   </span><span style=\"font-weight: bold\">]</span>\n",
              "<span style=\"color: #7fbf7f; text-decoration-color: #7fbf7f\">│   │   </span><span style=\"font-weight: bold\">}</span>\n",
              "<span style=\"color: #7fbf7f; text-decoration-color: #7fbf7f\">│   </span><span style=\"font-weight: bold\">)</span>,\n",
              "<span style=\"color: #7fbf7f; text-decoration-color: #7fbf7f\">│   </span><span style=\"color: #808000; text-decoration-color: #808000\">raw</span>=<span style=\"font-weight: bold\">{</span>\n",
              "<span style=\"color: #7fbf7f; text-decoration-color: #7fbf7f\">│   │   </span><span style=\"color: #008000; text-decoration-color: #008000\">'id'</span>: <span style=\"color: #008000; text-decoration-color: #008000\">'chatcmpl-8zVWadfa5hALPaMyMyIHsHUKTMB0S'</span>,\n",
              "<span style=\"color: #7fbf7f; text-decoration-color: #7fbf7f\">│   │   </span><span style=\"color: #008000; text-decoration-color: #008000\">'choices'</span>: <span style=\"font-weight: bold\">[</span>\n",
              "<span style=\"color: #7fbf7f; text-decoration-color: #7fbf7f\">│   │   │   </span><span style=\"color: #800080; text-decoration-color: #800080; font-weight: bold\">Choice</span><span style=\"font-weight: bold\">(</span>\n",
              "<span style=\"color: #7fbf7f; text-decoration-color: #7fbf7f\">│   │   │   │   </span><span style=\"color: #808000; text-decoration-color: #808000\">finish_reason</span>=<span style=\"color: #008000; text-decoration-color: #008000\">'tool_calls'</span>,\n",
              "<span style=\"color: #7fbf7f; text-decoration-color: #7fbf7f\">│   │   │   │   </span><span style=\"color: #808000; text-decoration-color: #808000\">index</span>=<span style=\"color: #008080; text-decoration-color: #008080; font-weight: bold\">0</span>,\n",
              "<span style=\"color: #7fbf7f; text-decoration-color: #7fbf7f\">│   │   │   │   </span><span style=\"color: #808000; text-decoration-color: #808000\">logprobs</span>=<span style=\"color: #800080; text-decoration-color: #800080; font-style: italic\">None</span>,\n",
              "<span style=\"color: #7fbf7f; text-decoration-color: #7fbf7f\">│   │   │   │   </span><span style=\"color: #808000; text-decoration-color: #808000\">message</span>=<span style=\"color: #800080; text-decoration-color: #800080; font-weight: bold\">ChatCompletionMessage</span><span style=\"font-weight: bold\">(</span>\n",
              "<span style=\"color: #7fbf7f; text-decoration-color: #7fbf7f\">│   │   │   │   │   </span><span style=\"color: #808000; text-decoration-color: #808000\">content</span>=<span style=\"color: #800080; text-decoration-color: #800080; font-style: italic\">None</span>,\n",
              "<span style=\"color: #7fbf7f; text-decoration-color: #7fbf7f\">│   │   │   │   │   </span><span style=\"color: #808000; text-decoration-color: #808000\">role</span>=<span style=\"color: #008000; text-decoration-color: #008000\">'assistant'</span>,\n",
              "<span style=\"color: #7fbf7f; text-decoration-color: #7fbf7f\">│   │   │   │   │   </span><span style=\"color: #808000; text-decoration-color: #808000\">function_call</span>=<span style=\"color: #800080; text-decoration-color: #800080; font-style: italic\">None</span>,\n",
              "<span style=\"color: #7fbf7f; text-decoration-color: #7fbf7f\">│   │   │   │   │   </span><span style=\"color: #808000; text-decoration-color: #808000\">tool_calls</span>=<span style=\"font-weight: bold\">[</span>\n",
              "<span style=\"color: #7fbf7f; text-decoration-color: #7fbf7f\">│   │   │   │   │   │   </span><span style=\"color: #800080; text-decoration-color: #800080; font-weight: bold\">ChatCompletionMessageToolCall</span><span style=\"font-weight: bold\">(</span>\n",
              "<span style=\"color: #7fbf7f; text-decoration-color: #7fbf7f\">│   │   │   │   │   │   │   </span><span style=\"color: #808000; text-decoration-color: #808000\">id</span>=<span style=\"color: #008000; text-decoration-color: #008000\">'call_uFap5QFPTzJXIW7Yemnt4aAT'</span>,\n",
              "<span style=\"color: #7fbf7f; text-decoration-color: #7fbf7f\">│   │   │   │   │   │   │   </span><span style=\"color: #808000; text-decoration-color: #808000\">function</span>=<span style=\"color: #800080; text-decoration-color: #800080; font-weight: bold\">Function</span><span style=\"font-weight: bold\">(</span><span style=\"color: #808000; text-decoration-color: #808000\">arguments</span>=<span style=\"color: #008000; text-decoration-color: #008000\">'{\"a\":12,\"b\":34}'</span>, <span style=\"color: #808000; text-decoration-color: #808000\">name</span>=<span style=\"color: #008000; text-decoration-color: #008000\">'int_mult'</span><span style=\"font-weight: bold\">)</span>,\n",
              "<span style=\"color: #7fbf7f; text-decoration-color: #7fbf7f\">│   │   │   │   │   │   │   </span><span style=\"color: #808000; text-decoration-color: #808000\">type</span>=<span style=\"color: #008000; text-decoration-color: #008000\">'function'</span>\n",
              "<span style=\"color: #7fbf7f; text-decoration-color: #7fbf7f\">│   │   │   │   │   │   </span><span style=\"font-weight: bold\">)</span>\n",
              "<span style=\"color: #7fbf7f; text-decoration-color: #7fbf7f\">│   │   │   │   │   </span><span style=\"font-weight: bold\">]</span>\n",
              "<span style=\"color: #7fbf7f; text-decoration-color: #7fbf7f\">│   │   │   │   </span><span style=\"font-weight: bold\">)</span>\n",
              "<span style=\"color: #7fbf7f; text-decoration-color: #7fbf7f\">│   │   │   </span><span style=\"font-weight: bold\">)</span>\n",
              "<span style=\"color: #7fbf7f; text-decoration-color: #7fbf7f\">│   │   </span><span style=\"font-weight: bold\">]</span>,\n",
              "<span style=\"color: #7fbf7f; text-decoration-color: #7fbf7f\">│   │   </span><span style=\"color: #008000; text-decoration-color: #008000\">'created'</span>: <span style=\"color: #008080; text-decoration-color: #008080; font-weight: bold\">1709669880</span>,\n",
              "<span style=\"color: #7fbf7f; text-decoration-color: #7fbf7f\">│   │   </span><span style=\"color: #008000; text-decoration-color: #008000\">'model'</span>: <span style=\"color: #008000; text-decoration-color: #008000\">'gpt-4-1106-preview'</span>,\n",
              "<span style=\"color: #7fbf7f; text-decoration-color: #7fbf7f\">│   │   </span><span style=\"color: #008000; text-decoration-color: #008000\">'object'</span>: <span style=\"color: #008000; text-decoration-color: #008000\">'chat.completion'</span>,\n",
              "<span style=\"color: #7fbf7f; text-decoration-color: #7fbf7f\">│   │   </span><span style=\"color: #008000; text-decoration-color: #008000\">'system_fingerprint'</span>: <span style=\"color: #008000; text-decoration-color: #008000\">'fp_021f187978'</span>,\n",
              "<span style=\"color: #7fbf7f; text-decoration-color: #7fbf7f\">│   │   </span><span style=\"color: #008000; text-decoration-color: #008000\">'usage'</span>: <span style=\"color: #800080; text-decoration-color: #800080; font-weight: bold\">CompletionUsage</span><span style=\"font-weight: bold\">(</span><span style=\"color: #808000; text-decoration-color: #808000\">completion_tokens</span>=<span style=\"color: #008080; text-decoration-color: #008080; font-weight: bold\">18</span>, <span style=\"color: #808000; text-decoration-color: #808000\">prompt_tokens</span>=<span style=\"color: #008080; text-decoration-color: #008080; font-weight: bold\">148</span>, <span style=\"color: #808000; text-decoration-color: #808000\">total_tokens</span>=<span style=\"color: #008080; text-decoration-color: #008080; font-weight: bold\">166</span><span style=\"font-weight: bold\">)</span>\n",
              "<span style=\"color: #7fbf7f; text-decoration-color: #7fbf7f\">│   </span><span style=\"font-weight: bold\">}</span>,\n",
              "<span style=\"color: #7fbf7f; text-decoration-color: #7fbf7f\">│   </span><span style=\"color: #808000; text-decoration-color: #808000\">delta</span>=<span style=\"color: #800080; text-decoration-color: #800080; font-style: italic\">None</span>,\n",
              "<span style=\"color: #7fbf7f; text-decoration-color: #7fbf7f\">│   </span><span style=\"color: #808000; text-decoration-color: #808000\">additional_kwargs</span>=<span style=\"font-weight: bold\">{}</span>\n",
              "<span style=\"font-weight: bold\">)</span>\n",
              "</pre>\n"
            ],
            "text/plain": [
              "\u001b[1;35mChatResponse\u001b[0m\u001b[1m(\u001b[0m\n",
              "\u001b[2;32m│   \u001b[0m\u001b[33mmessage\u001b[0m=\u001b[1;35mChatMessage\u001b[0m\u001b[1m(\u001b[0m\n",
              "\u001b[2;32m│   │   \u001b[0m\u001b[33mrole\u001b[0m=\u001b[1m<\u001b[0m\u001b[1;95mMessageRole.ASSISTANT:\u001b[0m\u001b[39m \u001b[0m\u001b[32m'assistant'\u001b[0m\u001b[1m>\u001b[0m,\n",
              "\u001b[2;32m│   │   \u001b[0m\u001b[33mcontent\u001b[0m=\u001b[3;35mNone\u001b[0m,\n",
              "\u001b[2;32m│   │   \u001b[0m\u001b[33madditional_kwargs\u001b[0m=\u001b[1m{\u001b[0m\n",
              "\u001b[2;32m│   │   │   \u001b[0m\u001b[32m'tool_calls'\u001b[0m: \u001b[1m[\u001b[0m\n",
              "\u001b[2;32m│   │   │   │   \u001b[0m\u001b[1;35mChatCompletionMessageToolCall\u001b[0m\u001b[1m(\u001b[0m\n",
              "\u001b[2;32m│   │   │   │   │   \u001b[0m\u001b[33mid\u001b[0m=\u001b[32m'call_uFap5QFPTzJXIW7Yemnt4aAT'\u001b[0m,\n",
              "\u001b[2;32m│   │   │   │   │   \u001b[0m\u001b[33mfunction\u001b[0m=\u001b[1;35mFunction\u001b[0m\u001b[1m(\u001b[0m\u001b[33marguments\u001b[0m=\u001b[32m'\u001b[0m\u001b[32m{\u001b[0m\u001b[32m\"a\":12,\"b\":34\u001b[0m\u001b[32m}\u001b[0m\u001b[32m'\u001b[0m, \u001b[33mname\u001b[0m=\u001b[32m'int_mult'\u001b[0m\u001b[1m)\u001b[0m,\n",
              "\u001b[2;32m│   │   │   │   │   \u001b[0m\u001b[33mtype\u001b[0m=\u001b[32m'function'\u001b[0m\n",
              "\u001b[2;32m│   │   │   │   \u001b[0m\u001b[1m)\u001b[0m\n",
              "\u001b[2;32m│   │   │   \u001b[0m\u001b[1m]\u001b[0m\n",
              "\u001b[2;32m│   │   \u001b[0m\u001b[1m}\u001b[0m\n",
              "\u001b[2;32m│   \u001b[0m\u001b[1m)\u001b[0m,\n",
              "\u001b[2;32m│   \u001b[0m\u001b[33mraw\u001b[0m=\u001b[1m{\u001b[0m\n",
              "\u001b[2;32m│   │   \u001b[0m\u001b[32m'id'\u001b[0m: \u001b[32m'chatcmpl-8zVWadfa5hALPaMyMyIHsHUKTMB0S'\u001b[0m,\n",
              "\u001b[2;32m│   │   \u001b[0m\u001b[32m'choices'\u001b[0m: \u001b[1m[\u001b[0m\n",
              "\u001b[2;32m│   │   │   \u001b[0m\u001b[1;35mChoice\u001b[0m\u001b[1m(\u001b[0m\n",
              "\u001b[2;32m│   │   │   │   \u001b[0m\u001b[33mfinish_reason\u001b[0m=\u001b[32m'tool_calls'\u001b[0m,\n",
              "\u001b[2;32m│   │   │   │   \u001b[0m\u001b[33mindex\u001b[0m=\u001b[1;36m0\u001b[0m,\n",
              "\u001b[2;32m│   │   │   │   \u001b[0m\u001b[33mlogprobs\u001b[0m=\u001b[3;35mNone\u001b[0m,\n",
              "\u001b[2;32m│   │   │   │   \u001b[0m\u001b[33mmessage\u001b[0m=\u001b[1;35mChatCompletionMessage\u001b[0m\u001b[1m(\u001b[0m\n",
              "\u001b[2;32m│   │   │   │   │   \u001b[0m\u001b[33mcontent\u001b[0m=\u001b[3;35mNone\u001b[0m,\n",
              "\u001b[2;32m│   │   │   │   │   \u001b[0m\u001b[33mrole\u001b[0m=\u001b[32m'assistant'\u001b[0m,\n",
              "\u001b[2;32m│   │   │   │   │   \u001b[0m\u001b[33mfunction_call\u001b[0m=\u001b[3;35mNone\u001b[0m,\n",
              "\u001b[2;32m│   │   │   │   │   \u001b[0m\u001b[33mtool_calls\u001b[0m=\u001b[1m[\u001b[0m\n",
              "\u001b[2;32m│   │   │   │   │   │   \u001b[0m\u001b[1;35mChatCompletionMessageToolCall\u001b[0m\u001b[1m(\u001b[0m\n",
              "\u001b[2;32m│   │   │   │   │   │   │   \u001b[0m\u001b[33mid\u001b[0m=\u001b[32m'call_uFap5QFPTzJXIW7Yemnt4aAT'\u001b[0m,\n",
              "\u001b[2;32m│   │   │   │   │   │   │   \u001b[0m\u001b[33mfunction\u001b[0m=\u001b[1;35mFunction\u001b[0m\u001b[1m(\u001b[0m\u001b[33marguments\u001b[0m=\u001b[32m'\u001b[0m\u001b[32m{\u001b[0m\u001b[32m\"a\":12,\"b\":34\u001b[0m\u001b[32m}\u001b[0m\u001b[32m'\u001b[0m, \u001b[33mname\u001b[0m=\u001b[32m'int_mult'\u001b[0m\u001b[1m)\u001b[0m,\n",
              "\u001b[2;32m│   │   │   │   │   │   │   \u001b[0m\u001b[33mtype\u001b[0m=\u001b[32m'function'\u001b[0m\n",
              "\u001b[2;32m│   │   │   │   │   │   \u001b[0m\u001b[1m)\u001b[0m\n",
              "\u001b[2;32m│   │   │   │   │   \u001b[0m\u001b[1m]\u001b[0m\n",
              "\u001b[2;32m│   │   │   │   \u001b[0m\u001b[1m)\u001b[0m\n",
              "\u001b[2;32m│   │   │   \u001b[0m\u001b[1m)\u001b[0m\n",
              "\u001b[2;32m│   │   \u001b[0m\u001b[1m]\u001b[0m,\n",
              "\u001b[2;32m│   │   \u001b[0m\u001b[32m'created'\u001b[0m: \u001b[1;36m1709669880\u001b[0m,\n",
              "\u001b[2;32m│   │   \u001b[0m\u001b[32m'model'\u001b[0m: \u001b[32m'gpt-4-1106-preview'\u001b[0m,\n",
              "\u001b[2;32m│   │   \u001b[0m\u001b[32m'object'\u001b[0m: \u001b[32m'chat.completion'\u001b[0m,\n",
              "\u001b[2;32m│   │   \u001b[0m\u001b[32m'system_fingerprint'\u001b[0m: \u001b[32m'fp_021f187978'\u001b[0m,\n",
              "\u001b[2;32m│   │   \u001b[0m\u001b[32m'usage'\u001b[0m: \u001b[1;35mCompletionUsage\u001b[0m\u001b[1m(\u001b[0m\u001b[33mcompletion_tokens\u001b[0m=\u001b[1;36m18\u001b[0m, \u001b[33mprompt_tokens\u001b[0m=\u001b[1;36m148\u001b[0m, \u001b[33mtotal_tokens\u001b[0m=\u001b[1;36m166\u001b[0m\u001b[1m)\u001b[0m\n",
              "\u001b[2;32m│   \u001b[0m\u001b[1m}\u001b[0m,\n",
              "\u001b[2;32m│   \u001b[0m\u001b[33mdelta\u001b[0m=\u001b[3;35mNone\u001b[0m,\n",
              "\u001b[2;32m│   \u001b[0m\u001b[33madditional_kwargs\u001b[0m=\u001b[1m{\u001b[0m\u001b[1m}\u001b[0m\n",
              "\u001b[1m)\u001b[0m\n"
            ]
          },
          "metadata": {},
          "output_type": "display_data"
        }
      ],
      "source": [
        "res:ChatResponse = model.chat(messages, tools=openai_tools)\n",
        "pprint(res)"
      ]
    },
    {
      "cell_type": "markdown",
      "metadata": {
        "id": "-cYzaRXrZAJD"
      },
      "source": [
        "### Useless query, no tool required"
      ]
    },
    {
      "cell_type": "code",
      "execution_count": 66,
      "metadata": {
        "colab": {
          "base_uri": "https://localhost:8080/",
          "height": 148
        },
        "id": "dwzsOYFPM3-g",
        "outputId": "9483bf66-8fbf-434e-c5fb-fbd0576db997"
      },
      "outputs": [
        {
          "data": {
            "text/html": [
              "<pre style=\"white-space:pre;overflow-x:auto;line-height:normal;font-family:Menlo,'DejaVu Sans Mono',consolas,'Courier New',monospace\"><span style=\"font-weight: bold\">[</span>\n",
              "<span style=\"color: #7fbf7f; text-decoration-color: #7fbf7f\">│   </span><span style=\"color: #800080; text-decoration-color: #800080; font-weight: bold\">ChatMessage</span><span style=\"font-weight: bold\">(</span>\n",
              "<span style=\"color: #7fbf7f; text-decoration-color: #7fbf7f\">│   │   </span><span style=\"color: #808000; text-decoration-color: #808000\">role</span>=<span style=\"font-weight: bold\">&lt;</span><span style=\"color: #ff00ff; text-decoration-color: #ff00ff; font-weight: bold\">MessageRole.SYSTEM:</span><span style=\"color: #000000; text-decoration-color: #000000\"> </span><span style=\"color: #008000; text-decoration-color: #008000\">'system'</span><span style=\"color: #000000; text-decoration-color: #000000\">&gt;,</span>\n",
              "<span style=\"color: #7fbf7f; text-decoration-color: #7fbf7f\">│   │   </span><span style=\"color: #808000; text-decoration-color: #808000\">content</span><span style=\"color: #000000; text-decoration-color: #000000\">=</span><span style=\"color: #008000; text-decoration-color: #008000\">'You are an assisant to perform the user input.'</span><span style=\"color: #000000; text-decoration-color: #000000\">,</span>\n",
              "<span style=\"color: #7fbf7f; text-decoration-color: #7fbf7f\">│   │   </span><span style=\"color: #808000; text-decoration-color: #808000\">additional_kwargs</span><span style=\"color: #000000; text-decoration-color: #000000\">=</span><span style=\"color: #000000; text-decoration-color: #000000; font-weight: bold\">{}</span>\n",
              "<span style=\"color: #7fbf7f; text-decoration-color: #7fbf7f\">│   </span><span style=\"color: #000000; text-decoration-color: #000000; font-weight: bold\">)</span><span style=\"color: #000000; text-decoration-color: #000000\">,</span>\n",
              "<span style=\"color: #7fbf7f; text-decoration-color: #7fbf7f\">│   </span><span style=\"color: #800080; text-decoration-color: #800080; font-weight: bold\">ChatMessage</span><span style=\"color: #000000; text-decoration-color: #000000; font-weight: bold\">(</span><span style=\"color: #808000; text-decoration-color: #808000\">role</span><span style=\"color: #000000; text-decoration-color: #000000\">=&lt;MessageRole.USER: </span><span style=\"color: #008000; text-decoration-color: #008000\">'user'</span><span style=\"font-weight: bold\">&gt;</span>, <span style=\"color: #808000; text-decoration-color: #808000\">content</span>=<span style=\"color: #008000; text-decoration-color: #008000\">'hi'</span>, <span style=\"color: #808000; text-decoration-color: #808000\">additional_kwargs</span>=<span style=\"font-weight: bold\">{})</span>\n",
              "<span style=\"font-weight: bold\">]</span>\n",
              "</pre>\n"
            ],
            "text/plain": [
              "\u001b[1m[\u001b[0m\n",
              "\u001b[2;32m│   \u001b[0m\u001b[1;35mChatMessage\u001b[0m\u001b[1m(\u001b[0m\n",
              "\u001b[2;32m│   │   \u001b[0m\u001b[33mrole\u001b[0m=\u001b[1m<\u001b[0m\u001b[1;95mMessageRole.SYSTEM:\u001b[0m\u001b[39m \u001b[0m\u001b[32m'system'\u001b[0m\u001b[39m>,\u001b[0m\n",
              "\u001b[2;32m│   │   \u001b[0m\u001b[33mcontent\u001b[0m\u001b[39m=\u001b[0m\u001b[32m'You are an assisant to perform the user input.'\u001b[0m\u001b[39m,\u001b[0m\n",
              "\u001b[2;32m│   │   \u001b[0m\u001b[33madditional_kwargs\u001b[0m\u001b[39m=\u001b[0m\u001b[1;39m{\u001b[0m\u001b[1;39m}\u001b[0m\n",
              "\u001b[2;32m│   \u001b[0m\u001b[1;39m)\u001b[0m\u001b[39m,\u001b[0m\n",
              "\u001b[2;32m│   \u001b[0m\u001b[1;35mChatMessage\u001b[0m\u001b[1;39m(\u001b[0m\u001b[33mrole\u001b[0m\u001b[39m=<MessageRole.USER: \u001b[0m\u001b[32m'user'\u001b[0m\u001b[1m>\u001b[0m, \u001b[33mcontent\u001b[0m=\u001b[32m'hi'\u001b[0m, \u001b[33madditional_kwargs\u001b[0m=\u001b[1m{\u001b[0m\u001b[1m}\u001b[0m\u001b[1m)\u001b[0m\n",
              "\u001b[1m]\u001b[0m\n"
            ]
          },
          "metadata": {},
          "output_type": "display_data"
        }
      ],
      "source": [
        "messages: Sequence[ChatMessage]  = tmpl.format_messages(input=\"hi\")\n",
        "pprint(messages)"
      ]
    },
    {
      "cell_type": "code",
      "execution_count": 67,
      "metadata": {
        "colab": {
          "base_uri": "https://localhost:8080/",
          "height": 508
        },
        "id": "ho5XUZpiM9gV",
        "outputId": "122dd6bc-d981-4890-c4d6-4dbe8d125737"
      },
      "outputs": [
        {
          "data": {
            "text/html": [
              "<pre style=\"white-space:pre;overflow-x:auto;line-height:normal;font-family:Menlo,'DejaVu Sans Mono',consolas,'Courier New',monospace\"><span style=\"color: #800080; text-decoration-color: #800080; font-weight: bold\">ChatResponse</span><span style=\"font-weight: bold\">(</span>\n",
              "<span style=\"color: #7fbf7f; text-decoration-color: #7fbf7f\">│   </span><span style=\"color: #808000; text-decoration-color: #808000\">message</span>=<span style=\"color: #800080; text-decoration-color: #800080; font-weight: bold\">ChatMessage</span><span style=\"font-weight: bold\">(</span>\n",
              "<span style=\"color: #7fbf7f; text-decoration-color: #7fbf7f\">│   │   </span><span style=\"color: #808000; text-decoration-color: #808000\">role</span>=<span style=\"font-weight: bold\">&lt;</span><span style=\"color: #ff00ff; text-decoration-color: #ff00ff; font-weight: bold\">MessageRole.ASSISTANT:</span><span style=\"color: #000000; text-decoration-color: #000000\"> </span><span style=\"color: #008000; text-decoration-color: #008000\">'assistant'</span><span style=\"font-weight: bold\">&gt;</span>,\n",
              "<span style=\"color: #7fbf7f; text-decoration-color: #7fbf7f\">│   │   </span><span style=\"color: #808000; text-decoration-color: #808000\">content</span>=<span style=\"color: #008000; text-decoration-color: #008000\">'Hello! How can I assist you today?'</span>,\n",
              "<span style=\"color: #7fbf7f; text-decoration-color: #7fbf7f\">│   │   </span><span style=\"color: #808000; text-decoration-color: #808000\">additional_kwargs</span>=<span style=\"font-weight: bold\">{}</span>\n",
              "<span style=\"color: #7fbf7f; text-decoration-color: #7fbf7f\">│   </span><span style=\"font-weight: bold\">)</span>,\n",
              "<span style=\"color: #7fbf7f; text-decoration-color: #7fbf7f\">│   </span><span style=\"color: #808000; text-decoration-color: #808000\">raw</span>=<span style=\"font-weight: bold\">{</span>\n",
              "<span style=\"color: #7fbf7f; text-decoration-color: #7fbf7f\">│   │   </span><span style=\"color: #008000; text-decoration-color: #008000\">'id'</span>: <span style=\"color: #008000; text-decoration-color: #008000\">'chatcmpl-8zVWdBMFXs1jhaKSBYeIUmavAXfCs'</span>,\n",
              "<span style=\"color: #7fbf7f; text-decoration-color: #7fbf7f\">│   │   </span><span style=\"color: #008000; text-decoration-color: #008000\">'choices'</span>: <span style=\"font-weight: bold\">[</span>\n",
              "<span style=\"color: #7fbf7f; text-decoration-color: #7fbf7f\">│   │   │   </span><span style=\"color: #800080; text-decoration-color: #800080; font-weight: bold\">Choice</span><span style=\"font-weight: bold\">(</span>\n",
              "<span style=\"color: #7fbf7f; text-decoration-color: #7fbf7f\">│   │   │   │   </span><span style=\"color: #808000; text-decoration-color: #808000\">finish_reason</span>=<span style=\"color: #008000; text-decoration-color: #008000\">'stop'</span>,\n",
              "<span style=\"color: #7fbf7f; text-decoration-color: #7fbf7f\">│   │   │   │   </span><span style=\"color: #808000; text-decoration-color: #808000\">index</span>=<span style=\"color: #008080; text-decoration-color: #008080; font-weight: bold\">0</span>,\n",
              "<span style=\"color: #7fbf7f; text-decoration-color: #7fbf7f\">│   │   │   │   </span><span style=\"color: #808000; text-decoration-color: #808000\">logprobs</span>=<span style=\"color: #800080; text-decoration-color: #800080; font-style: italic\">None</span>,\n",
              "<span style=\"color: #7fbf7f; text-decoration-color: #7fbf7f\">│   │   │   │   </span><span style=\"color: #808000; text-decoration-color: #808000\">message</span>=<span style=\"color: #800080; text-decoration-color: #800080; font-weight: bold\">ChatCompletionMessage</span><span style=\"font-weight: bold\">(</span>\n",
              "<span style=\"color: #7fbf7f; text-decoration-color: #7fbf7f\">│   │   │   │   │   </span><span style=\"color: #808000; text-decoration-color: #808000\">content</span>=<span style=\"color: #008000; text-decoration-color: #008000\">'Hello! How can I assist you today?'</span>,\n",
              "<span style=\"color: #7fbf7f; text-decoration-color: #7fbf7f\">│   │   │   │   │   </span><span style=\"color: #808000; text-decoration-color: #808000\">role</span>=<span style=\"color: #008000; text-decoration-color: #008000\">'assistant'</span>,\n",
              "<span style=\"color: #7fbf7f; text-decoration-color: #7fbf7f\">│   │   │   │   │   </span><span style=\"color: #808000; text-decoration-color: #808000\">function_call</span>=<span style=\"color: #800080; text-decoration-color: #800080; font-style: italic\">None</span>,\n",
              "<span style=\"color: #7fbf7f; text-decoration-color: #7fbf7f\">│   │   │   │   │   </span><span style=\"color: #808000; text-decoration-color: #808000\">tool_calls</span>=<span style=\"color: #800080; text-decoration-color: #800080; font-style: italic\">None</span>\n",
              "<span style=\"color: #7fbf7f; text-decoration-color: #7fbf7f\">│   │   │   │   </span><span style=\"font-weight: bold\">)</span>\n",
              "<span style=\"color: #7fbf7f; text-decoration-color: #7fbf7f\">│   │   │   </span><span style=\"font-weight: bold\">)</span>\n",
              "<span style=\"color: #7fbf7f; text-decoration-color: #7fbf7f\">│   │   </span><span style=\"font-weight: bold\">]</span>,\n",
              "<span style=\"color: #7fbf7f; text-decoration-color: #7fbf7f\">│   │   </span><span style=\"color: #008000; text-decoration-color: #008000\">'created'</span>: <span style=\"color: #008080; text-decoration-color: #008080; font-weight: bold\">1709669883</span>,\n",
              "<span style=\"color: #7fbf7f; text-decoration-color: #7fbf7f\">│   │   </span><span style=\"color: #008000; text-decoration-color: #008000\">'model'</span>: <span style=\"color: #008000; text-decoration-color: #008000\">'gpt-4-1106-preview'</span>,\n",
              "<span style=\"color: #7fbf7f; text-decoration-color: #7fbf7f\">│   │   </span><span style=\"color: #008000; text-decoration-color: #008000\">'object'</span>: <span style=\"color: #008000; text-decoration-color: #008000\">'chat.completion'</span>,\n",
              "<span style=\"color: #7fbf7f; text-decoration-color: #7fbf7f\">│   │   </span><span style=\"color: #008000; text-decoration-color: #008000\">'system_fingerprint'</span>: <span style=\"color: #008000; text-decoration-color: #008000\">'fp_021f187978'</span>,\n",
              "<span style=\"color: #7fbf7f; text-decoration-color: #7fbf7f\">│   │   </span><span style=\"color: #008000; text-decoration-color: #008000\">'usage'</span>: <span style=\"color: #800080; text-decoration-color: #800080; font-weight: bold\">CompletionUsage</span><span style=\"font-weight: bold\">(</span><span style=\"color: #808000; text-decoration-color: #808000\">completion_tokens</span>=<span style=\"color: #008080; text-decoration-color: #008080; font-weight: bold\">10</span>, <span style=\"color: #808000; text-decoration-color: #808000\">prompt_tokens</span>=<span style=\"color: #008080; text-decoration-color: #008080; font-weight: bold\">138</span>, <span style=\"color: #808000; text-decoration-color: #808000\">total_tokens</span>=<span style=\"color: #008080; text-decoration-color: #008080; font-weight: bold\">148</span><span style=\"font-weight: bold\">)</span>\n",
              "<span style=\"color: #7fbf7f; text-decoration-color: #7fbf7f\">│   </span><span style=\"font-weight: bold\">}</span>,\n",
              "<span style=\"color: #7fbf7f; text-decoration-color: #7fbf7f\">│   </span><span style=\"color: #808000; text-decoration-color: #808000\">delta</span>=<span style=\"color: #800080; text-decoration-color: #800080; font-style: italic\">None</span>,\n",
              "<span style=\"color: #7fbf7f; text-decoration-color: #7fbf7f\">│   </span><span style=\"color: #808000; text-decoration-color: #808000\">additional_kwargs</span>=<span style=\"font-weight: bold\">{}</span>\n",
              "<span style=\"font-weight: bold\">)</span>\n",
              "</pre>\n"
            ],
            "text/plain": [
              "\u001b[1;35mChatResponse\u001b[0m\u001b[1m(\u001b[0m\n",
              "\u001b[2;32m│   \u001b[0m\u001b[33mmessage\u001b[0m=\u001b[1;35mChatMessage\u001b[0m\u001b[1m(\u001b[0m\n",
              "\u001b[2;32m│   │   \u001b[0m\u001b[33mrole\u001b[0m=\u001b[1m<\u001b[0m\u001b[1;95mMessageRole.ASSISTANT:\u001b[0m\u001b[39m \u001b[0m\u001b[32m'assistant'\u001b[0m\u001b[1m>\u001b[0m,\n",
              "\u001b[2;32m│   │   \u001b[0m\u001b[33mcontent\u001b[0m=\u001b[32m'Hello! How can I assist you today?'\u001b[0m,\n",
              "\u001b[2;32m│   │   \u001b[0m\u001b[33madditional_kwargs\u001b[0m=\u001b[1m{\u001b[0m\u001b[1m}\u001b[0m\n",
              "\u001b[2;32m│   \u001b[0m\u001b[1m)\u001b[0m,\n",
              "\u001b[2;32m│   \u001b[0m\u001b[33mraw\u001b[0m=\u001b[1m{\u001b[0m\n",
              "\u001b[2;32m│   │   \u001b[0m\u001b[32m'id'\u001b[0m: \u001b[32m'chatcmpl-8zVWdBMFXs1jhaKSBYeIUmavAXfCs'\u001b[0m,\n",
              "\u001b[2;32m│   │   \u001b[0m\u001b[32m'choices'\u001b[0m: \u001b[1m[\u001b[0m\n",
              "\u001b[2;32m│   │   │   \u001b[0m\u001b[1;35mChoice\u001b[0m\u001b[1m(\u001b[0m\n",
              "\u001b[2;32m│   │   │   │   \u001b[0m\u001b[33mfinish_reason\u001b[0m=\u001b[32m'stop'\u001b[0m,\n",
              "\u001b[2;32m│   │   │   │   \u001b[0m\u001b[33mindex\u001b[0m=\u001b[1;36m0\u001b[0m,\n",
              "\u001b[2;32m│   │   │   │   \u001b[0m\u001b[33mlogprobs\u001b[0m=\u001b[3;35mNone\u001b[0m,\n",
              "\u001b[2;32m│   │   │   │   \u001b[0m\u001b[33mmessage\u001b[0m=\u001b[1;35mChatCompletionMessage\u001b[0m\u001b[1m(\u001b[0m\n",
              "\u001b[2;32m│   │   │   │   │   \u001b[0m\u001b[33mcontent\u001b[0m=\u001b[32m'Hello! How can I assist you today?'\u001b[0m,\n",
              "\u001b[2;32m│   │   │   │   │   \u001b[0m\u001b[33mrole\u001b[0m=\u001b[32m'assistant'\u001b[0m,\n",
              "\u001b[2;32m│   │   │   │   │   \u001b[0m\u001b[33mfunction_call\u001b[0m=\u001b[3;35mNone\u001b[0m,\n",
              "\u001b[2;32m│   │   │   │   │   \u001b[0m\u001b[33mtool_calls\u001b[0m=\u001b[3;35mNone\u001b[0m\n",
              "\u001b[2;32m│   │   │   │   \u001b[0m\u001b[1m)\u001b[0m\n",
              "\u001b[2;32m│   │   │   \u001b[0m\u001b[1m)\u001b[0m\n",
              "\u001b[2;32m│   │   \u001b[0m\u001b[1m]\u001b[0m,\n",
              "\u001b[2;32m│   │   \u001b[0m\u001b[32m'created'\u001b[0m: \u001b[1;36m1709669883\u001b[0m,\n",
              "\u001b[2;32m│   │   \u001b[0m\u001b[32m'model'\u001b[0m: \u001b[32m'gpt-4-1106-preview'\u001b[0m,\n",
              "\u001b[2;32m│   │   \u001b[0m\u001b[32m'object'\u001b[0m: \u001b[32m'chat.completion'\u001b[0m,\n",
              "\u001b[2;32m│   │   \u001b[0m\u001b[32m'system_fingerprint'\u001b[0m: \u001b[32m'fp_021f187978'\u001b[0m,\n",
              "\u001b[2;32m│   │   \u001b[0m\u001b[32m'usage'\u001b[0m: \u001b[1;35mCompletionUsage\u001b[0m\u001b[1m(\u001b[0m\u001b[33mcompletion_tokens\u001b[0m=\u001b[1;36m10\u001b[0m, \u001b[33mprompt_tokens\u001b[0m=\u001b[1;36m138\u001b[0m, \u001b[33mtotal_tokens\u001b[0m=\u001b[1;36m148\u001b[0m\u001b[1m)\u001b[0m\n",
              "\u001b[2;32m│   \u001b[0m\u001b[1m}\u001b[0m,\n",
              "\u001b[2;32m│   \u001b[0m\u001b[33mdelta\u001b[0m=\u001b[3;35mNone\u001b[0m,\n",
              "\u001b[2;32m│   \u001b[0m\u001b[33madditional_kwargs\u001b[0m=\u001b[1m{\u001b[0m\u001b[1m}\u001b[0m\n",
              "\u001b[1m)\u001b[0m\n"
            ]
          },
          "metadata": {},
          "output_type": "display_data"
        }
      ],
      "source": [
        "res: ChatResponse = model.chat(messages, tools=openai_tools)\n",
        "pprint(res)"
      ]
    },
    {
      "cell_type": "markdown",
      "metadata": {
        "id": "lPbZccdiZEQd"
      },
      "source": [
        "## Agent loop"
      ]
    },
    {
      "cell_type": "code",
      "execution_count": 115,
      "metadata": {
        "id": "zKDVDG9aNAqh"
      },
      "outputs": [],
      "source": [
        "class AgentExecutor:\n",
        "    def __init__(self, tools: Sequence[Any]):\n",
        "        func_tools: Sequence[BaseTool] = list(\n",
        "            map(lambda f: FunctionTool.from_defaults(fn=f), tools)\n",
        "        )\n",
        "        self.func_tools_dict: Dict[str, FunctionTool] = {\n",
        "            tool.metadata.name: tool for tool in func_tools\n",
        "        }\n",
        "        self.openai_tools: Sequence[Dict[str, Any]] = list(\n",
        "            map(lambda func_tool: func_tool.metadata.to_openai_tool(), func_tools)\n",
        "        )\n",
        "\n",
        "        self.chat_history: List[ChatMessage] = list()\n",
        "\n",
        "        messages: Sequence[ChatMessage] = [\n",
        "            ChatMessage(\n",
        "                role=MessageRole.SYSTEM,\n",
        "                content=(\"You are an assisant to perform the user input.\"),\n",
        "            ),\n",
        "            ChatMessage(\n",
        "                role=MessageRole.USER,\n",
        "                content=(\"{input}\"),\n",
        "            ),\n",
        "        ]\n",
        "        self.chat_prompt_template: ChatPromptTemplate = ChatPromptTemplate(messages)\n",
        "        self.model: OpenAI = OpenAI(temperature=0, model=\"gpt-4-1106-preview\")\n",
        "        # self.model: Groq = Groq(\n",
        "        #     model=\"mixtral-8x7b-32768\",\n",
        "        #     temperature=0,\n",
        "        #     timeout=60,\n",
        "        # )\n",
        "\n",
        "    def should_continue(self, chat_response: ChatResponse) -> bool:\n",
        "        return (\n",
        "            chat_response.message.additional_kwargs.get(\"tool_calls\", None) is not None\n",
        "        )\n",
        "\n",
        "    def run_tool(self, tool_call: ChatCompletionMessageToolCall) -> ChatMessage:\n",
        "        func_id: str = tool_call.id\n",
        "        func_name: str = tool_call.function.name\n",
        "        args_json: str = tool_call.function.arguments\n",
        "\n",
        "        func: FunctionTool = self.func_tools_dict.get(func_name)\n",
        "        res: ToolOutput = func(**json.loads(args_json))\n",
        "        pretty_print(\"Ran tool\", res)\n",
        "        return ChatMessage(\n",
        "            role=MessageRole.TOOL,\n",
        "            content=str(res),\n",
        "            name=func_name,\n",
        "            additional_kwargs={\n",
        "                \"tool_call_id\": func_id,\n",
        "                \"name\": func_name,\n",
        "            },\n",
        "        )\n",
        "\n",
        "    def __call__(self, human_input: str) -> ChatMessage:\n",
        "        pretty_print(\"Agent on start.\")\n",
        "        messages: Sequence[ChatMessage] = self.chat_prompt_template.format_messages(\n",
        "            input=human_input\n",
        "        )\n",
        "        self.chat_history.extend(messages)\n",
        "        while True:\n",
        "            chat_response: ChatResponse = self.model.chat(\n",
        "                messages, tools=self.openai_tools\n",
        "            )\n",
        "            ai_message: ChatMessage = chat_response.message\n",
        "            pretty_print(\"AI messsaging\", ai_message)\n",
        "\n",
        "            self.chat_history.extend([ai_message])\n",
        "            if not self.should_continue(chat_response):\n",
        "                pretty_print(\"Agent on stop.\")\n",
        "                return ai_message\n",
        "            else:\n",
        "                func_message = self.run_tool(\n",
        "                    ai_message.additional_kwargs[\"tool_calls\"][0]\n",
        "                )\n",
        "                self.chat_history.extend([func_message])\n",
        "                messages = self.chat_history\n",
        "                logger.info(\"Agent in continue.\")\n",
        "\n",
        "    def __str__(self) -> str:\n",
        "        pretty_print(\"func_tools_dict\", self.func_tools_dict)\n",
        "        pretty_print(\"openai_tools\", self.openai_tools)\n",
        "        pretty_print(\"chat_prompt_template\", self.chat_prompt_template)\n",
        "        pretty_print(\"chat_history\", self.chat_history)\n",
        "\n",
        "\n",
        "agent_exe: AgentExecutor = AgentExecutor(tools=[random_joke, translate])"
      ]
    },
    {
      "cell_type": "markdown",
      "metadata": {
        "id": "1ZfHjQ7aeTGy"
      },
      "source": [
        "### Run agent"
      ]
    },
    {
      "cell_type": "code",
      "execution_count": 116,
      "metadata": {
        "colab": {
          "base_uri": "https://localhost:8080/",
          "height": 1000
        },
        "id": "XRktOVFIeSlc",
        "outputId": "d803159b-66b8-465b-9b25-dcbcea54edb6"
      },
      "outputs": [
        {
          "name": "stderr",
          "output_type": "stream",
          "text": [
            "\u001b[32m2024-03-05 21:47:31.513\u001b[0m | \u001b[1mINFO    \u001b[0m | \u001b[36m__main__\u001b[0m:\u001b[36m__call__\u001b[0m:\u001b[36m57\u001b[0m - \u001b[1mAgent on start.\u001b[0m\n"
          ]
        },
        {
          "name": "stdout",
          "output_type": "stream",
          "text": [
            "AI messsaging\n"
          ]
        },
        {
          "data": {
            "text/html": [
              "<pre style=\"white-space:pre;overflow-x:auto;line-height:normal;font-family:Menlo,'DejaVu Sans Mono',consolas,'Courier New',monospace\"><span style=\"color: #800080; text-decoration-color: #800080; font-weight: bold\">ChatMessage</span><span style=\"font-weight: bold\">(</span>\n",
              "<span style=\"color: #7fbf7f; text-decoration-color: #7fbf7f\">│   </span><span style=\"color: #808000; text-decoration-color: #808000\">role</span>=<span style=\"font-weight: bold\">&lt;</span><span style=\"color: #ff00ff; text-decoration-color: #ff00ff; font-weight: bold\">MessageRole.ASSISTANT:</span><span style=\"color: #000000; text-decoration-color: #000000\"> </span><span style=\"color: #008000; text-decoration-color: #008000\">'assistant'</span><span style=\"font-weight: bold\">&gt;</span>,\n",
              "<span style=\"color: #7fbf7f; text-decoration-color: #7fbf7f\">│   </span><span style=\"color: #808000; text-decoration-color: #808000\">content</span>=<span style=\"color: #800080; text-decoration-color: #800080; font-style: italic\">None</span>,\n",
              "<span style=\"color: #7fbf7f; text-decoration-color: #7fbf7f\">│   </span><span style=\"color: #808000; text-decoration-color: #808000\">additional_kwargs</span>=<span style=\"font-weight: bold\">{</span>\n",
              "<span style=\"color: #7fbf7f; text-decoration-color: #7fbf7f\">│   │   </span><span style=\"color: #008000; text-decoration-color: #008000\">'tool_calls'</span>: <span style=\"font-weight: bold\">[</span>\n",
              "<span style=\"color: #7fbf7f; text-decoration-color: #7fbf7f\">│   │   │   </span><span style=\"color: #800080; text-decoration-color: #800080; font-weight: bold\">ChatCompletionMessageToolCall</span><span style=\"font-weight: bold\">(</span>\n",
              "<span style=\"color: #7fbf7f; text-decoration-color: #7fbf7f\">│   │   │   │   </span><span style=\"color: #808000; text-decoration-color: #808000\">id</span>=<span style=\"color: #008000; text-decoration-color: #008000\">'call_lL6XOicfBYiacC9bghzqo8AW'</span>,\n",
              "<span style=\"color: #7fbf7f; text-decoration-color: #7fbf7f\">│   │   │   │   </span><span style=\"color: #808000; text-decoration-color: #808000\">function</span>=<span style=\"color: #800080; text-decoration-color: #800080; font-weight: bold\">Function</span><span style=\"font-weight: bold\">(</span><span style=\"color: #808000; text-decoration-color: #808000\">arguments</span>=<span style=\"color: #008000; text-decoration-color: #008000\">'{}'</span>, <span style=\"color: #808000; text-decoration-color: #808000\">name</span>=<span style=\"color: #008000; text-decoration-color: #008000\">'random_joke'</span><span style=\"font-weight: bold\">)</span>,\n",
              "<span style=\"color: #7fbf7f; text-decoration-color: #7fbf7f\">│   │   │   │   </span><span style=\"color: #808000; text-decoration-color: #808000\">type</span>=<span style=\"color: #008000; text-decoration-color: #008000\">'function'</span>\n",
              "<span style=\"color: #7fbf7f; text-decoration-color: #7fbf7f\">│   │   │   </span><span style=\"font-weight: bold\">)</span>\n",
              "<span style=\"color: #7fbf7f; text-decoration-color: #7fbf7f\">│   │   </span><span style=\"font-weight: bold\">]</span>\n",
              "<span style=\"color: #7fbf7f; text-decoration-color: #7fbf7f\">│   </span><span style=\"font-weight: bold\">}</span>\n",
              "<span style=\"font-weight: bold\">)</span>\n",
              "</pre>\n"
            ],
            "text/plain": [
              "\u001b[1;35mChatMessage\u001b[0m\u001b[1m(\u001b[0m\n",
              "\u001b[2;32m│   \u001b[0m\u001b[33mrole\u001b[0m=\u001b[1m<\u001b[0m\u001b[1;95mMessageRole.ASSISTANT:\u001b[0m\u001b[39m \u001b[0m\u001b[32m'assistant'\u001b[0m\u001b[1m>\u001b[0m,\n",
              "\u001b[2;32m│   \u001b[0m\u001b[33mcontent\u001b[0m=\u001b[3;35mNone\u001b[0m,\n",
              "\u001b[2;32m│   \u001b[0m\u001b[33madditional_kwargs\u001b[0m=\u001b[1m{\u001b[0m\n",
              "\u001b[2;32m│   │   \u001b[0m\u001b[32m'tool_calls'\u001b[0m: \u001b[1m[\u001b[0m\n",
              "\u001b[2;32m│   │   │   \u001b[0m\u001b[1;35mChatCompletionMessageToolCall\u001b[0m\u001b[1m(\u001b[0m\n",
              "\u001b[2;32m│   │   │   │   \u001b[0m\u001b[33mid\u001b[0m=\u001b[32m'call_lL6XOicfBYiacC9bghzqo8AW'\u001b[0m,\n",
              "\u001b[2;32m│   │   │   │   \u001b[0m\u001b[33mfunction\u001b[0m=\u001b[1;35mFunction\u001b[0m\u001b[1m(\u001b[0m\u001b[33marguments\u001b[0m=\u001b[32m'\u001b[0m\u001b[32m{\u001b[0m\u001b[32m}\u001b[0m\u001b[32m'\u001b[0m, \u001b[33mname\u001b[0m=\u001b[32m'random_joke'\u001b[0m\u001b[1m)\u001b[0m,\n",
              "\u001b[2;32m│   │   │   │   \u001b[0m\u001b[33mtype\u001b[0m=\u001b[32m'function'\u001b[0m\n",
              "\u001b[2;32m│   │   │   \u001b[0m\u001b[1m)\u001b[0m\n",
              "\u001b[2;32m│   │   \u001b[0m\u001b[1m]\u001b[0m\n",
              "\u001b[2;32m│   \u001b[0m\u001b[1m}\u001b[0m\n",
              "\u001b[1m)\u001b[0m\n"
            ]
          },
          "metadata": {},
          "output_type": "display_data"
        },
        {
          "name": "stdout",
          "output_type": "stream",
          "text": [
            "Ran tool\n"
          ]
        },
        {
          "data": {
            "text/html": [
              "<pre style=\"white-space:pre;overflow-x:auto;line-height:normal;font-family:Menlo,'DejaVu Sans Mono',consolas,'Courier New',monospace\"><span style=\"color: #800080; text-decoration-color: #800080; font-weight: bold\">ToolOutput</span><span style=\"font-weight: bold\">(</span>\n",
              "<span style=\"color: #7fbf7f; text-decoration-color: #7fbf7f\">│   </span><span style=\"color: #808000; text-decoration-color: #808000\">content</span>=<span style=\"color: #008000; text-decoration-color: #008000\">'Why did the scarecrow win an award?\\n\\nBecause he was outstanding in his field!'</span>,\n",
              "<span style=\"color: #7fbf7f; text-decoration-color: #7fbf7f\">│   </span><span style=\"color: #808000; text-decoration-color: #808000\">tool_name</span>=<span style=\"color: #008000; text-decoration-color: #008000\">'random_joke'</span>,\n",
              "<span style=\"color: #7fbf7f; text-decoration-color: #7fbf7f\">│   </span><span style=\"color: #808000; text-decoration-color: #808000\">raw_input</span>=<span style=\"font-weight: bold\">{</span><span style=\"color: #008000; text-decoration-color: #008000\">'args'</span>: <span style=\"font-weight: bold\">()</span>, <span style=\"color: #008000; text-decoration-color: #008000\">'kwargs'</span>: <span style=\"font-weight: bold\">{}}</span>,\n",
              "<span style=\"color: #7fbf7f; text-decoration-color: #7fbf7f\">│   </span><span style=\"color: #808000; text-decoration-color: #808000\">raw_output</span>=<span style=\"color: #008000; text-decoration-color: #008000\">'Why did the scarecrow win an award?\\n\\nBecause he was outstanding in his field!'</span>\n",
              "<span style=\"font-weight: bold\">)</span>\n",
              "</pre>\n"
            ],
            "text/plain": [
              "\u001b[1;35mToolOutput\u001b[0m\u001b[1m(\u001b[0m\n",
              "\u001b[2;32m│   \u001b[0m\u001b[33mcontent\u001b[0m=\u001b[32m'Why did the scarecrow win an award?\\n\\nBecause he was outstanding in his field!'\u001b[0m,\n",
              "\u001b[2;32m│   \u001b[0m\u001b[33mtool_name\u001b[0m=\u001b[32m'random_joke'\u001b[0m,\n",
              "\u001b[2;32m│   \u001b[0m\u001b[33mraw_input\u001b[0m=\u001b[1m{\u001b[0m\u001b[32m'args'\u001b[0m: \u001b[1m(\u001b[0m\u001b[1m)\u001b[0m, \u001b[32m'kwargs'\u001b[0m: \u001b[1m{\u001b[0m\u001b[1m}\u001b[0m\u001b[1m}\u001b[0m,\n",
              "\u001b[2;32m│   \u001b[0m\u001b[33mraw_output\u001b[0m=\u001b[32m'Why did the scarecrow win an award?\\n\\nBecause he was outstanding in his field!'\u001b[0m\n",
              "\u001b[1m)\u001b[0m\n"
            ]
          },
          "metadata": {},
          "output_type": "display_data"
        },
        {
          "name": "stderr",
          "output_type": "stream",
          "text": [
            "\u001b[32m2024-03-05 21:47:39.684\u001b[0m | \u001b[1mINFO    \u001b[0m | \u001b[36m__main__\u001b[0m:\u001b[36m__call__\u001b[0m:\u001b[36m79\u001b[0m - \u001b[1mAgent in continue.\u001b[0m\n"
          ]
        },
        {
          "name": "stdout",
          "output_type": "stream",
          "text": [
            "AI messsaging\n"
          ]
        },
        {
          "data": {
            "text/html": [
              "<pre style=\"white-space:pre;overflow-x:auto;line-height:normal;font-family:Menlo,'DejaVu Sans Mono',consolas,'Courier New',monospace\"><span style=\"color: #800080; text-decoration-color: #800080; font-weight: bold\">ChatMessage</span><span style=\"font-weight: bold\">(</span>\n",
              "<span style=\"color: #7fbf7f; text-decoration-color: #7fbf7f\">│   </span><span style=\"color: #808000; text-decoration-color: #808000\">role</span>=<span style=\"font-weight: bold\">&lt;</span><span style=\"color: #ff00ff; text-decoration-color: #ff00ff; font-weight: bold\">MessageRole.ASSISTANT:</span><span style=\"color: #000000; text-decoration-color: #000000\"> </span><span style=\"color: #008000; text-decoration-color: #008000\">'assistant'</span><span style=\"font-weight: bold\">&gt;</span>,\n",
              "<span style=\"color: #7fbf7f; text-decoration-color: #7fbf7f\">│   </span><span style=\"color: #808000; text-decoration-color: #808000\">content</span>=<span style=\"color: #800080; text-decoration-color: #800080; font-style: italic\">None</span>,\n",
              "<span style=\"color: #7fbf7f; text-decoration-color: #7fbf7f\">│   </span><span style=\"color: #808000; text-decoration-color: #808000\">additional_kwargs</span>=<span style=\"font-weight: bold\">{</span>\n",
              "<span style=\"color: #7fbf7f; text-decoration-color: #7fbf7f\">│   │   </span><span style=\"color: #008000; text-decoration-color: #008000\">'tool_calls'</span>: <span style=\"font-weight: bold\">[</span>\n",
              "<span style=\"color: #7fbf7f; text-decoration-color: #7fbf7f\">│   │   │   </span><span style=\"color: #800080; text-decoration-color: #800080; font-weight: bold\">ChatCompletionMessageToolCall</span><span style=\"font-weight: bold\">(</span>\n",
              "<span style=\"color: #7fbf7f; text-decoration-color: #7fbf7f\">│   │   │   │   </span><span style=\"color: #808000; text-decoration-color: #808000\">id</span>=<span style=\"color: #008000; text-decoration-color: #008000\">'call_DLLibGwgWpaDjUXZRMCgxMhN'</span>,\n",
              "<span style=\"color: #7fbf7f; text-decoration-color: #7fbf7f\">│   │   │   │   </span><span style=\"color: #808000; text-decoration-color: #808000\">function</span>=<span style=\"color: #800080; text-decoration-color: #800080; font-weight: bold\">Function</span><span style=\"font-weight: bold\">(</span>\n",
              "<span style=\"color: #7fbf7f; text-decoration-color: #7fbf7f\">│   │   │   │   │   </span><span style=\"color: #808000; text-decoration-color: #808000\">arguments</span>=<span style=\"color: #008000; text-decoration-color: #008000\">'{\"string\":\"Why did the scarecrow win an award? Because he was outstanding in his field!\"}'</span>,\n",
              "<span style=\"color: #7fbf7f; text-decoration-color: #7fbf7f\">│   │   │   │   │   </span><span style=\"color: #808000; text-decoration-color: #808000\">name</span>=<span style=\"color: #008000; text-decoration-color: #008000\">'translate'</span>\n",
              "<span style=\"color: #7fbf7f; text-decoration-color: #7fbf7f\">│   │   │   │   </span><span style=\"font-weight: bold\">)</span>,\n",
              "<span style=\"color: #7fbf7f; text-decoration-color: #7fbf7f\">│   │   │   │   </span><span style=\"color: #808000; text-decoration-color: #808000\">type</span>=<span style=\"color: #008000; text-decoration-color: #008000\">'function'</span>\n",
              "<span style=\"color: #7fbf7f; text-decoration-color: #7fbf7f\">│   │   │   </span><span style=\"font-weight: bold\">)</span>\n",
              "<span style=\"color: #7fbf7f; text-decoration-color: #7fbf7f\">│   │   </span><span style=\"font-weight: bold\">]</span>\n",
              "<span style=\"color: #7fbf7f; text-decoration-color: #7fbf7f\">│   </span><span style=\"font-weight: bold\">}</span>\n",
              "<span style=\"font-weight: bold\">)</span>\n",
              "</pre>\n"
            ],
            "text/plain": [
              "\u001b[1;35mChatMessage\u001b[0m\u001b[1m(\u001b[0m\n",
              "\u001b[2;32m│   \u001b[0m\u001b[33mrole\u001b[0m=\u001b[1m<\u001b[0m\u001b[1;95mMessageRole.ASSISTANT:\u001b[0m\u001b[39m \u001b[0m\u001b[32m'assistant'\u001b[0m\u001b[1m>\u001b[0m,\n",
              "\u001b[2;32m│   \u001b[0m\u001b[33mcontent\u001b[0m=\u001b[3;35mNone\u001b[0m,\n",
              "\u001b[2;32m│   \u001b[0m\u001b[33madditional_kwargs\u001b[0m=\u001b[1m{\u001b[0m\n",
              "\u001b[2;32m│   │   \u001b[0m\u001b[32m'tool_calls'\u001b[0m: \u001b[1m[\u001b[0m\n",
              "\u001b[2;32m│   │   │   \u001b[0m\u001b[1;35mChatCompletionMessageToolCall\u001b[0m\u001b[1m(\u001b[0m\n",
              "\u001b[2;32m│   │   │   │   \u001b[0m\u001b[33mid\u001b[0m=\u001b[32m'call_DLLibGwgWpaDjUXZRMCgxMhN'\u001b[0m,\n",
              "\u001b[2;32m│   │   │   │   \u001b[0m\u001b[33mfunction\u001b[0m=\u001b[1;35mFunction\u001b[0m\u001b[1m(\u001b[0m\n",
              "\u001b[2;32m│   │   │   │   │   \u001b[0m\u001b[33marguments\u001b[0m=\u001b[32m'\u001b[0m\u001b[32m{\u001b[0m\u001b[32m\"string\":\"Why did the scarecrow win an award? Because he was outstanding in his field!\"\u001b[0m\u001b[32m}\u001b[0m\u001b[32m'\u001b[0m,\n",
              "\u001b[2;32m│   │   │   │   │   \u001b[0m\u001b[33mname\u001b[0m=\u001b[32m'translate'\u001b[0m\n",
              "\u001b[2;32m│   │   │   │   \u001b[0m\u001b[1m)\u001b[0m,\n",
              "\u001b[2;32m│   │   │   │   \u001b[0m\u001b[33mtype\u001b[0m=\u001b[32m'function'\u001b[0m\n",
              "\u001b[2;32m│   │   │   \u001b[0m\u001b[1m)\u001b[0m\n",
              "\u001b[2;32m│   │   \u001b[0m\u001b[1m]\u001b[0m\n",
              "\u001b[2;32m│   \u001b[0m\u001b[1m}\u001b[0m\n",
              "\u001b[1m)\u001b[0m\n"
            ]
          },
          "metadata": {},
          "output_type": "display_data"
        },
        {
          "name": "stdout",
          "output_type": "stream",
          "text": [
            "Ran tool\n"
          ]
        },
        {
          "data": {
            "text/html": [
              "<pre style=\"white-space:pre;overflow-x:auto;line-height:normal;font-family:Menlo,'DejaVu Sans Mono',consolas,'Courier New',monospace\"><span style=\"color: #800080; text-decoration-color: #800080; font-weight: bold\">ToolOutput</span><span style=\"font-weight: bold\">(</span>\n",
              "<span style=\"color: #7fbf7f; text-decoration-color: #7fbf7f\">│   </span><span style=\"color: #808000; text-decoration-color: #808000\">content</span>=<span style=\"color: #008000; text-decoration-color: #008000\">'因为他出色地在这领域获得了奖项！'</span>,\n",
              "<span style=\"color: #7fbf7f; text-decoration-color: #7fbf7f\">│   </span><span style=\"color: #808000; text-decoration-color: #808000\">tool_name</span>=<span style=\"color: #008000; text-decoration-color: #008000\">'translate'</span>,\n",
              "<span style=\"color: #7fbf7f; text-decoration-color: #7fbf7f\">│   </span><span style=\"color: #808000; text-decoration-color: #808000\">raw_input</span>=<span style=\"font-weight: bold\">{</span>\n",
              "<span style=\"color: #7fbf7f; text-decoration-color: #7fbf7f\">│   │   </span><span style=\"color: #008000; text-decoration-color: #008000\">'args'</span>: <span style=\"font-weight: bold\">()</span>,\n",
              "<span style=\"color: #7fbf7f; text-decoration-color: #7fbf7f\">│   │   </span><span style=\"color: #008000; text-decoration-color: #008000\">'kwargs'</span>: <span style=\"font-weight: bold\">{</span><span style=\"color: #008000; text-decoration-color: #008000\">'string'</span>: <span style=\"color: #008000; text-decoration-color: #008000\">'Why did the scarecrow win an award? Because he was outstanding in his field!'</span><span style=\"font-weight: bold\">}</span>\n",
              "<span style=\"color: #7fbf7f; text-decoration-color: #7fbf7f\">│   </span><span style=\"font-weight: bold\">}</span>,\n",
              "<span style=\"color: #7fbf7f; text-decoration-color: #7fbf7f\">│   </span><span style=\"color: #808000; text-decoration-color: #808000\">raw_output</span>=<span style=\"color: #008000; text-decoration-color: #008000\">'因为他出色地在这领域获得了奖项！'</span>\n",
              "<span style=\"font-weight: bold\">)</span>\n",
              "</pre>\n"
            ],
            "text/plain": [
              "\u001b[1;35mToolOutput\u001b[0m\u001b[1m(\u001b[0m\n",
              "\u001b[2;32m│   \u001b[0m\u001b[33mcontent\u001b[0m=\u001b[32m'因为他出色地在这领域获得了奖项！'\u001b[0m,\n",
              "\u001b[2;32m│   \u001b[0m\u001b[33mtool_name\u001b[0m=\u001b[32m'translate'\u001b[0m,\n",
              "\u001b[2;32m│   \u001b[0m\u001b[33mraw_input\u001b[0m=\u001b[1m{\u001b[0m\n",
              "\u001b[2;32m│   │   \u001b[0m\u001b[32m'args'\u001b[0m: \u001b[1m(\u001b[0m\u001b[1m)\u001b[0m,\n",
              "\u001b[2;32m│   │   \u001b[0m\u001b[32m'kwargs'\u001b[0m: \u001b[1m{\u001b[0m\u001b[32m'string'\u001b[0m: \u001b[32m'Why did the scarecrow win an award? Because he was outstanding in his field!'\u001b[0m\u001b[1m}\u001b[0m\n",
              "\u001b[2;32m│   \u001b[0m\u001b[1m}\u001b[0m,\n",
              "\u001b[2;32m│   \u001b[0m\u001b[33mraw_output\u001b[0m=\u001b[32m'因为他出色地在这领域获得了奖项！'\u001b[0m\n",
              "\u001b[1m)\u001b[0m\n"
            ]
          },
          "metadata": {},
          "output_type": "display_data"
        },
        {
          "name": "stderr",
          "output_type": "stream",
          "text": [
            "\u001b[32m2024-03-05 21:47:47.403\u001b[0m | \u001b[1mINFO    \u001b[0m | \u001b[36m__main__\u001b[0m:\u001b[36m__call__\u001b[0m:\u001b[36m79\u001b[0m - \u001b[1mAgent in continue.\u001b[0m\n"
          ]
        },
        {
          "name": "stdout",
          "output_type": "stream",
          "text": [
            "AI messsaging\n"
          ]
        },
        {
          "data": {
            "text/html": [
              "<pre style=\"white-space:pre;overflow-x:auto;line-height:normal;font-family:Menlo,'DejaVu Sans Mono',consolas,'Courier New',monospace\"><span style=\"color: #800080; text-decoration-color: #800080; font-weight: bold\">ChatMessage</span><span style=\"font-weight: bold\">(</span>\n",
              "<span style=\"color: #7fbf7f; text-decoration-color: #7fbf7f\">│   </span><span style=\"color: #808000; text-decoration-color: #808000\">role</span>=<span style=\"font-weight: bold\">&lt;</span><span style=\"color: #ff00ff; text-decoration-color: #ff00ff; font-weight: bold\">MessageRole.ASSISTANT:</span><span style=\"color: #000000; text-decoration-color: #000000\"> </span><span style=\"color: #008000; text-decoration-color: #008000\">'assistant'</span><span style=\"font-weight: bold\">&gt;</span>,\n",
              "<span style=\"color: #7fbf7f; text-decoration-color: #7fbf7f\">│   </span><span style=\"color: #808000; text-decoration-color: #808000\">content</span>=<span style=\"color: #008000; text-decoration-color: #008000\">'因为他出色地在这领域获得了奖项！'</span>,\n",
              "<span style=\"color: #7fbf7f; text-decoration-color: #7fbf7f\">│   </span><span style=\"color: #808000; text-decoration-color: #808000\">additional_kwargs</span>=<span style=\"font-weight: bold\">{}</span>\n",
              "<span style=\"font-weight: bold\">)</span>\n",
              "</pre>\n"
            ],
            "text/plain": [
              "\u001b[1;35mChatMessage\u001b[0m\u001b[1m(\u001b[0m\n",
              "\u001b[2;32m│   \u001b[0m\u001b[33mrole\u001b[0m=\u001b[1m<\u001b[0m\u001b[1;95mMessageRole.ASSISTANT:\u001b[0m\u001b[39m \u001b[0m\u001b[32m'assistant'\u001b[0m\u001b[1m>\u001b[0m,\n",
              "\u001b[2;32m│   \u001b[0m\u001b[33mcontent\u001b[0m=\u001b[32m'因为他出色地在这领域获得了奖项！'\u001b[0m,\n",
              "\u001b[2;32m│   \u001b[0m\u001b[33madditional_kwargs\u001b[0m=\u001b[1m{\u001b[0m\u001b[1m}\u001b[0m\n",
              "\u001b[1m)\u001b[0m\n"
            ]
          },
          "metadata": {},
          "output_type": "display_data"
        },
        {
          "name": "stderr",
          "output_type": "stream",
          "text": [
            "\u001b[32m2024-03-05 21:47:48.732\u001b[0m | \u001b[1mINFO    \u001b[0m | \u001b[36m__main__\u001b[0m:\u001b[36m__call__\u001b[0m:\u001b[36m71\u001b[0m - \u001b[1mAgent on stop.\u001b[0m\n"
          ]
        },
        {
          "name": "stdout",
          "output_type": "stream",
          "text": [
            "\n",
            "---Final result---\n"
          ]
        },
        {
          "data": {
            "text/html": [
              "<pre style=\"white-space:pre;overflow-x:auto;line-height:normal;font-family:Menlo,'DejaVu Sans Mono',consolas,'Courier New',monospace\"><span style=\"color: #800080; text-decoration-color: #800080; font-weight: bold\">ChatMessage</span><span style=\"font-weight: bold\">(</span>\n",
              "<span style=\"color: #7fbf7f; text-decoration-color: #7fbf7f\">│   </span><span style=\"color: #808000; text-decoration-color: #808000\">role</span>=<span style=\"font-weight: bold\">&lt;</span><span style=\"color: #ff00ff; text-decoration-color: #ff00ff; font-weight: bold\">MessageRole.ASSISTANT:</span><span style=\"color: #000000; text-decoration-color: #000000\"> </span><span style=\"color: #008000; text-decoration-color: #008000\">'assistant'</span><span style=\"font-weight: bold\">&gt;</span>,\n",
              "<span style=\"color: #7fbf7f; text-decoration-color: #7fbf7f\">│   </span><span style=\"color: #808000; text-decoration-color: #808000\">content</span>=<span style=\"color: #008000; text-decoration-color: #008000\">'因为他出色地在这领域获得了奖项！'</span>,\n",
              "<span style=\"color: #7fbf7f; text-decoration-color: #7fbf7f\">│   </span><span style=\"color: #808000; text-decoration-color: #808000\">additional_kwargs</span>=<span style=\"font-weight: bold\">{}</span>\n",
              "<span style=\"font-weight: bold\">)</span>\n",
              "</pre>\n"
            ],
            "text/plain": [
              "\u001b[1;35mChatMessage\u001b[0m\u001b[1m(\u001b[0m\n",
              "\u001b[2;32m│   \u001b[0m\u001b[33mrole\u001b[0m=\u001b[1m<\u001b[0m\u001b[1;95mMessageRole.ASSISTANT:\u001b[0m\u001b[39m \u001b[0m\u001b[32m'assistant'\u001b[0m\u001b[1m>\u001b[0m,\n",
              "\u001b[2;32m│   \u001b[0m\u001b[33mcontent\u001b[0m=\u001b[32m'因为他出色地在这领域获得了奖项！'\u001b[0m,\n",
              "\u001b[2;32m│   \u001b[0m\u001b[33madditional_kwargs\u001b[0m=\u001b[1m{\u001b[0m\u001b[1m}\u001b[0m\n",
              "\u001b[1m)\u001b[0m\n"
            ]
          },
          "metadata": {},
          "output_type": "display_data"
        }
      ],
      "source": [
        "#@title { vertical-output: true}\n",
        "\n",
        "human_input: str = \"\"\"\n",
        "Please create a random joke and provide the translated result in Simplified Chinese\n",
        "without including the original language, newlines, empty spaces, or instruction information\n",
        "\"\"\"\n",
        "\n",
        "res: ChatMessage = agent_exe(human_input=human_input)\n",
        "print(\"\\n---Final result---\")\n",
        "pprint(res)"
      ]
    },
    {
      "cell_type": "markdown",
      "metadata": {
        "id": "AGnPHESPe7Qk"
      },
      "source": [
        "### Agent history"
      ]
    },
    {
      "cell_type": "code",
      "execution_count": 117,
      "metadata": {
        "colab": {
          "base_uri": "https://localhost:8080/",
          "height": 1000
        },
        "id": "Barna-Keb9da",
        "outputId": "325ea0ee-f7be-4ede-f578-be59baf5f9f3"
      },
      "outputs": [
        {
          "name": "stdout",
          "output_type": "stream",
          "text": [
            "func_tools_dict\n"
          ]
        },
        {
          "data": {
            "text/html": [
              "<pre style=\"white-space:pre;overflow-x:auto;line-height:normal;font-family:Menlo,'DejaVu Sans Mono',consolas,'Courier New',monospace\"><span style=\"font-weight: bold\">{</span>\n",
              "<span style=\"color: #7fbf7f; text-decoration-color: #7fbf7f\">│   </span><span style=\"color: #008000; text-decoration-color: #008000\">'random_joke'</span>: <span style=\"font-weight: bold\">&lt;</span><span style=\"color: #ff00ff; text-decoration-color: #ff00ff; font-weight: bold\">llama_index.core.tools.function_tool.FunctionTool</span><span style=\"color: #000000; text-decoration-color: #000000\"> object at </span><span style=\"color: #008080; text-decoration-color: #008080; font-weight: bold\">0x136ae0d90</span><span style=\"color: #000000; text-decoration-color: #000000\">&gt;,</span>\n",
              "<span style=\"color: #7fbf7f; text-decoration-color: #7fbf7f\">│   </span><span style=\"color: #008000; text-decoration-color: #008000\">'translate'</span><span style=\"color: #000000; text-decoration-color: #000000\">: &lt;llama_index.core.tools.function_tool.FunctionTool object at </span><span style=\"color: #008080; text-decoration-color: #008080; font-weight: bold\">0x1369b4c50</span><span style=\"font-weight: bold\">&gt;</span>\n",
              "<span style=\"font-weight: bold\">}</span>\n",
              "</pre>\n"
            ],
            "text/plain": [
              "\u001b[1m{\u001b[0m\n",
              "\u001b[2;32m│   \u001b[0m\u001b[32m'random_joke'\u001b[0m: \u001b[1m<\u001b[0m\u001b[1;95mllama_index.core.tools.function_tool.FunctionTool\u001b[0m\u001b[39m object at \u001b[0m\u001b[1;36m0x136ae0d90\u001b[0m\u001b[39m>,\u001b[0m\n",
              "\u001b[2;32m│   \u001b[0m\u001b[32m'translate'\u001b[0m\u001b[39m: <llama_index.core.tools.function_tool.FunctionTool object at \u001b[0m\u001b[1;36m0x1369b4c50\u001b[0m\u001b[1m>\u001b[0m\n",
              "\u001b[1m}\u001b[0m\n"
            ]
          },
          "metadata": {},
          "output_type": "display_data"
        },
        {
          "name": "stdout",
          "output_type": "stream",
          "text": [
            "openai_tools\n"
          ]
        },
        {
          "data": {
            "text/html": [
              "<pre style=\"white-space:pre;overflow-x:auto;line-height:normal;font-family:Menlo,'DejaVu Sans Mono',consolas,'Courier New',monospace\"><span style=\"font-weight: bold\">[</span>\n",
              "<span style=\"color: #7fbf7f; text-decoration-color: #7fbf7f\">│   </span><span style=\"font-weight: bold\">{</span>\n",
              "<span style=\"color: #7fbf7f; text-decoration-color: #7fbf7f\">│   │   </span><span style=\"color: #008000; text-decoration-color: #008000\">'type'</span>: <span style=\"color: #008000; text-decoration-color: #008000\">'function'</span>,\n",
              "<span style=\"color: #7fbf7f; text-decoration-color: #7fbf7f\">│   │   </span><span style=\"color: #008000; text-decoration-color: #008000\">'function'</span>: <span style=\"font-weight: bold\">{</span>\n",
              "<span style=\"color: #7fbf7f; text-decoration-color: #7fbf7f\">│   │   │   </span><span style=\"color: #008000; text-decoration-color: #008000\">'name'</span>: <span style=\"color: #008000; text-decoration-color: #008000\">'random_joke'</span>,\n",
              "<span style=\"color: #7fbf7f; text-decoration-color: #7fbf7f\">│   │   │   </span><span style=\"color: #008000; text-decoration-color: #008000\">'description'</span>: <span style=\"color: #008000; text-decoration-color: #008000\">'random_joke() -&gt; str\\nA crazy creator that can create a random joke.'</span>,\n",
              "<span style=\"color: #7fbf7f; text-decoration-color: #7fbf7f\">│   │   │   </span><span style=\"color: #008000; text-decoration-color: #008000\">'parameters'</span>: <span style=\"font-weight: bold\">{</span><span style=\"color: #008000; text-decoration-color: #008000\">'type'</span>: <span style=\"color: #008000; text-decoration-color: #008000\">'object'</span>, <span style=\"color: #008000; text-decoration-color: #008000\">'properties'</span>: <span style=\"font-weight: bold\">{}}</span>\n",
              "<span style=\"color: #7fbf7f; text-decoration-color: #7fbf7f\">│   │   </span><span style=\"font-weight: bold\">}</span>\n",
              "<span style=\"color: #7fbf7f; text-decoration-color: #7fbf7f\">│   </span><span style=\"font-weight: bold\">}</span>,\n",
              "<span style=\"color: #7fbf7f; text-decoration-color: #7fbf7f\">│   </span><span style=\"font-weight: bold\">{</span>\n",
              "<span style=\"color: #7fbf7f; text-decoration-color: #7fbf7f\">│   │   </span><span style=\"color: #008000; text-decoration-color: #008000\">'type'</span>: <span style=\"color: #008000; text-decoration-color: #008000\">'function'</span>,\n",
              "<span style=\"color: #7fbf7f; text-decoration-color: #7fbf7f\">│   │   </span><span style=\"color: #008000; text-decoration-color: #008000\">'function'</span>: <span style=\"font-weight: bold\">{</span>\n",
              "<span style=\"color: #7fbf7f; text-decoration-color: #7fbf7f\">│   │   │   </span><span style=\"color: #008000; text-decoration-color: #008000\">'name'</span>: <span style=\"color: #008000; text-decoration-color: #008000\">'translate'</span>,\n",
              "<span style=\"color: #7fbf7f; text-decoration-color: #7fbf7f\">│   │   │   </span><span style=\"color: #008000; text-decoration-color: #008000\">'description'</span>: <span style=\"color: #008000; text-decoration-color: #008000\">'translate(string: str) -&gt; str\\nTranslate the string into Simplified Chinese.'</span>,\n",
              "<span style=\"color: #7fbf7f; text-decoration-color: #7fbf7f\">│   │   │   </span><span style=\"color: #008000; text-decoration-color: #008000\">'parameters'</span>: <span style=\"font-weight: bold\">{</span>\n",
              "<span style=\"color: #7fbf7f; text-decoration-color: #7fbf7f\">│   │   │   │   </span><span style=\"color: #008000; text-decoration-color: #008000\">'type'</span>: <span style=\"color: #008000; text-decoration-color: #008000\">'object'</span>,\n",
              "<span style=\"color: #7fbf7f; text-decoration-color: #7fbf7f\">│   │   │   │   </span><span style=\"color: #008000; text-decoration-color: #008000\">'properties'</span>: <span style=\"font-weight: bold\">{</span><span style=\"color: #008000; text-decoration-color: #008000\">'string'</span>: <span style=\"font-weight: bold\">{</span><span style=\"color: #008000; text-decoration-color: #008000\">'title'</span>: <span style=\"color: #008000; text-decoration-color: #008000\">'String'</span>, <span style=\"color: #008000; text-decoration-color: #008000\">'type'</span>: <span style=\"color: #008000; text-decoration-color: #008000\">'string'</span><span style=\"font-weight: bold\">}}</span>,\n",
              "<span style=\"color: #7fbf7f; text-decoration-color: #7fbf7f\">│   │   │   │   </span><span style=\"color: #008000; text-decoration-color: #008000\">'required'</span>: <span style=\"font-weight: bold\">[</span><span style=\"color: #008000; text-decoration-color: #008000\">'string'</span><span style=\"font-weight: bold\">]</span>\n",
              "<span style=\"color: #7fbf7f; text-decoration-color: #7fbf7f\">│   │   │   </span><span style=\"font-weight: bold\">}</span>\n",
              "<span style=\"color: #7fbf7f; text-decoration-color: #7fbf7f\">│   │   </span><span style=\"font-weight: bold\">}</span>\n",
              "<span style=\"color: #7fbf7f; text-decoration-color: #7fbf7f\">│   </span><span style=\"font-weight: bold\">}</span>\n",
              "<span style=\"font-weight: bold\">]</span>\n",
              "</pre>\n"
            ],
            "text/plain": [
              "\u001b[1m[\u001b[0m\n",
              "\u001b[2;32m│   \u001b[0m\u001b[1m{\u001b[0m\n",
              "\u001b[2;32m│   │   \u001b[0m\u001b[32m'type'\u001b[0m: \u001b[32m'function'\u001b[0m,\n",
              "\u001b[2;32m│   │   \u001b[0m\u001b[32m'function'\u001b[0m: \u001b[1m{\u001b[0m\n",
              "\u001b[2;32m│   │   │   \u001b[0m\u001b[32m'name'\u001b[0m: \u001b[32m'random_joke'\u001b[0m,\n",
              "\u001b[2;32m│   │   │   \u001b[0m\u001b[32m'description'\u001b[0m: \u001b[32m'random_joke\u001b[0m\u001b[32m(\u001b[0m\u001b[32m)\u001b[0m\u001b[32m -> str\\nA crazy creator that can create a random joke.'\u001b[0m,\n",
              "\u001b[2;32m│   │   │   \u001b[0m\u001b[32m'parameters'\u001b[0m: \u001b[1m{\u001b[0m\u001b[32m'type'\u001b[0m: \u001b[32m'object'\u001b[0m, \u001b[32m'properties'\u001b[0m: \u001b[1m{\u001b[0m\u001b[1m}\u001b[0m\u001b[1m}\u001b[0m\n",
              "\u001b[2;32m│   │   \u001b[0m\u001b[1m}\u001b[0m\n",
              "\u001b[2;32m│   \u001b[0m\u001b[1m}\u001b[0m,\n",
              "\u001b[2;32m│   \u001b[0m\u001b[1m{\u001b[0m\n",
              "\u001b[2;32m│   │   \u001b[0m\u001b[32m'type'\u001b[0m: \u001b[32m'function'\u001b[0m,\n",
              "\u001b[2;32m│   │   \u001b[0m\u001b[32m'function'\u001b[0m: \u001b[1m{\u001b[0m\n",
              "\u001b[2;32m│   │   │   \u001b[0m\u001b[32m'name'\u001b[0m: \u001b[32m'translate'\u001b[0m,\n",
              "\u001b[2;32m│   │   │   \u001b[0m\u001b[32m'description'\u001b[0m: \u001b[32m'translate\u001b[0m\u001b[32m(\u001b[0m\u001b[32mstring: str\u001b[0m\u001b[32m)\u001b[0m\u001b[32m -> str\\nTranslate the string into Simplified Chinese.'\u001b[0m,\n",
              "\u001b[2;32m│   │   │   \u001b[0m\u001b[32m'parameters'\u001b[0m: \u001b[1m{\u001b[0m\n",
              "\u001b[2;32m│   │   │   │   \u001b[0m\u001b[32m'type'\u001b[0m: \u001b[32m'object'\u001b[0m,\n",
              "\u001b[2;32m│   │   │   │   \u001b[0m\u001b[32m'properties'\u001b[0m: \u001b[1m{\u001b[0m\u001b[32m'string'\u001b[0m: \u001b[1m{\u001b[0m\u001b[32m'title'\u001b[0m: \u001b[32m'String'\u001b[0m, \u001b[32m'type'\u001b[0m: \u001b[32m'string'\u001b[0m\u001b[1m}\u001b[0m\u001b[1m}\u001b[0m,\n",
              "\u001b[2;32m│   │   │   │   \u001b[0m\u001b[32m'required'\u001b[0m: \u001b[1m[\u001b[0m\u001b[32m'string'\u001b[0m\u001b[1m]\u001b[0m\n",
              "\u001b[2;32m│   │   │   \u001b[0m\u001b[1m}\u001b[0m\n",
              "\u001b[2;32m│   │   \u001b[0m\u001b[1m}\u001b[0m\n",
              "\u001b[2;32m│   \u001b[0m\u001b[1m}\u001b[0m\n",
              "\u001b[1m]\u001b[0m\n"
            ]
          },
          "metadata": {},
          "output_type": "display_data"
        },
        {
          "name": "stdout",
          "output_type": "stream",
          "text": [
            "chat_prompt_template\n"
          ]
        },
        {
          "data": {
            "text/html": [
              "<pre style=\"white-space:pre;overflow-x:auto;line-height:normal;font-family:Menlo,'DejaVu Sans Mono',consolas,'Courier New',monospace\"><span style=\"color: #800080; text-decoration-color: #800080; font-weight: bold\">ChatPromptTemplate</span><span style=\"font-weight: bold\">(</span>\n",
              "<span style=\"color: #7fbf7f; text-decoration-color: #7fbf7f\">│   </span><span style=\"color: #808000; text-decoration-color: #808000\">metadata</span>=<span style=\"font-weight: bold\">{</span><span style=\"color: #008000; text-decoration-color: #008000\">'prompt_type'</span>: <span style=\"font-weight: bold\">&lt;</span><span style=\"color: #ff00ff; text-decoration-color: #ff00ff; font-weight: bold\">PromptType.CUSTOM:</span><span style=\"color: #000000; text-decoration-color: #000000\"> </span><span style=\"color: #008000; text-decoration-color: #008000\">'custom'</span><span style=\"color: #000000; text-decoration-color: #000000\">&gt;</span><span style=\"color: #000000; text-decoration-color: #000000; font-weight: bold\">}</span><span style=\"color: #000000; text-decoration-color: #000000\">,</span>\n",
              "<span style=\"color: #7fbf7f; text-decoration-color: #7fbf7f\">│   </span><span style=\"color: #808000; text-decoration-color: #808000\">template_vars</span><span style=\"color: #000000; text-decoration-color: #000000\">=</span><span style=\"color: #000000; text-decoration-color: #000000; font-weight: bold\">[</span><span style=\"color: #008000; text-decoration-color: #008000\">'input'</span><span style=\"color: #000000; text-decoration-color: #000000; font-weight: bold\">]</span><span style=\"color: #000000; text-decoration-color: #000000\">,</span>\n",
              "<span style=\"color: #7fbf7f; text-decoration-color: #7fbf7f\">│   </span><span style=\"color: #808000; text-decoration-color: #808000\">kwargs</span><span style=\"color: #000000; text-decoration-color: #000000\">=</span><span style=\"color: #000000; text-decoration-color: #000000; font-weight: bold\">{}</span><span style=\"color: #000000; text-decoration-color: #000000\">,</span>\n",
              "<span style=\"color: #7fbf7f; text-decoration-color: #7fbf7f\">│   </span><span style=\"color: #808000; text-decoration-color: #808000\">output_parser</span><span style=\"color: #000000; text-decoration-color: #000000\">=</span><span style=\"color: #800080; text-decoration-color: #800080; font-style: italic\">None</span><span style=\"color: #000000; text-decoration-color: #000000\">,</span>\n",
              "<span style=\"color: #7fbf7f; text-decoration-color: #7fbf7f\">│   </span><span style=\"color: #808000; text-decoration-color: #808000\">template_var_mappings</span><span style=\"color: #000000; text-decoration-color: #000000\">=</span><span style=\"color: #800080; text-decoration-color: #800080; font-style: italic\">None</span><span style=\"color: #000000; text-decoration-color: #000000\">,</span>\n",
              "<span style=\"color: #7fbf7f; text-decoration-color: #7fbf7f\">│   </span><span style=\"color: #808000; text-decoration-color: #808000\">function_mappings</span><span style=\"color: #000000; text-decoration-color: #000000\">=</span><span style=\"color: #800080; text-decoration-color: #800080; font-style: italic\">None</span><span style=\"color: #000000; text-decoration-color: #000000\">,</span>\n",
              "<span style=\"color: #7fbf7f; text-decoration-color: #7fbf7f\">│   </span><span style=\"color: #808000; text-decoration-color: #808000\">message_templates</span><span style=\"color: #000000; text-decoration-color: #000000\">=</span><span style=\"color: #000000; text-decoration-color: #000000; font-weight: bold\">[</span>\n",
              "<span style=\"color: #7fbf7f; text-decoration-color: #7fbf7f\">│   │   </span><span style=\"color: #800080; text-decoration-color: #800080; font-weight: bold\">ChatMessage</span><span style=\"color: #000000; text-decoration-color: #000000; font-weight: bold\">(</span>\n",
              "<span style=\"color: #7fbf7f; text-decoration-color: #7fbf7f\">│   │   │   </span><span style=\"color: #808000; text-decoration-color: #808000\">role</span><span style=\"color: #000000; text-decoration-color: #000000\">=&lt;MessageRole.SYSTEM: </span><span style=\"color: #008000; text-decoration-color: #008000\">'system'</span><span style=\"color: #000000; text-decoration-color: #000000\">&gt;,</span>\n",
              "<span style=\"color: #7fbf7f; text-decoration-color: #7fbf7f\">│   │   │   </span><span style=\"color: #808000; text-decoration-color: #808000\">content</span><span style=\"color: #000000; text-decoration-color: #000000\">=</span><span style=\"color: #008000; text-decoration-color: #008000\">'You are an assisant to perform the user input.'</span><span style=\"color: #000000; text-decoration-color: #000000\">,</span>\n",
              "<span style=\"color: #7fbf7f; text-decoration-color: #7fbf7f\">│   │   │   </span><span style=\"color: #808000; text-decoration-color: #808000\">additional_kwargs</span><span style=\"color: #000000; text-decoration-color: #000000\">=</span><span style=\"color: #000000; text-decoration-color: #000000; font-weight: bold\">{}</span>\n",
              "<span style=\"color: #7fbf7f; text-decoration-color: #7fbf7f\">│   │   </span><span style=\"color: #000000; text-decoration-color: #000000; font-weight: bold\">)</span><span style=\"color: #000000; text-decoration-color: #000000\">,</span>\n",
              "<span style=\"color: #7fbf7f; text-decoration-color: #7fbf7f\">│   │   </span><span style=\"color: #800080; text-decoration-color: #800080; font-weight: bold\">ChatMessage</span><span style=\"color: #000000; text-decoration-color: #000000; font-weight: bold\">(</span><span style=\"color: #808000; text-decoration-color: #808000\">role</span><span style=\"color: #000000; text-decoration-color: #000000\">=&lt;MessageRole.USER: </span><span style=\"color: #008000; text-decoration-color: #008000\">'user'</span><span style=\"font-weight: bold\">&gt;</span>, <span style=\"color: #808000; text-decoration-color: #808000\">content</span>=<span style=\"color: #008000; text-decoration-color: #008000\">'{input}'</span>, <span style=\"color: #808000; text-decoration-color: #808000\">additional_kwargs</span>=<span style=\"font-weight: bold\">{})</span>\n",
              "<span style=\"color: #7fbf7f; text-decoration-color: #7fbf7f\">│   </span><span style=\"font-weight: bold\">]</span>\n",
              "<span style=\"font-weight: bold\">)</span>\n",
              "</pre>\n"
            ],
            "text/plain": [
              "\u001b[1;35mChatPromptTemplate\u001b[0m\u001b[1m(\u001b[0m\n",
              "\u001b[2;32m│   \u001b[0m\u001b[33mmetadata\u001b[0m=\u001b[1m{\u001b[0m\u001b[32m'prompt_type'\u001b[0m: \u001b[1m<\u001b[0m\u001b[1;95mPromptType.CUSTOM:\u001b[0m\u001b[39m \u001b[0m\u001b[32m'custom'\u001b[0m\u001b[39m>\u001b[0m\u001b[1;39m}\u001b[0m\u001b[39m,\u001b[0m\n",
              "\u001b[2;32m│   \u001b[0m\u001b[33mtemplate_vars\u001b[0m\u001b[39m=\u001b[0m\u001b[1;39m[\u001b[0m\u001b[32m'input'\u001b[0m\u001b[1;39m]\u001b[0m\u001b[39m,\u001b[0m\n",
              "\u001b[2;32m│   \u001b[0m\u001b[33mkwargs\u001b[0m\u001b[39m=\u001b[0m\u001b[1;39m{\u001b[0m\u001b[1;39m}\u001b[0m\u001b[39m,\u001b[0m\n",
              "\u001b[2;32m│   \u001b[0m\u001b[33moutput_parser\u001b[0m\u001b[39m=\u001b[0m\u001b[3;35mNone\u001b[0m\u001b[39m,\u001b[0m\n",
              "\u001b[2;32m│   \u001b[0m\u001b[33mtemplate_var_mappings\u001b[0m\u001b[39m=\u001b[0m\u001b[3;35mNone\u001b[0m\u001b[39m,\u001b[0m\n",
              "\u001b[2;32m│   \u001b[0m\u001b[33mfunction_mappings\u001b[0m\u001b[39m=\u001b[0m\u001b[3;35mNone\u001b[0m\u001b[39m,\u001b[0m\n",
              "\u001b[2;32m│   \u001b[0m\u001b[33mmessage_templates\u001b[0m\u001b[39m=\u001b[0m\u001b[1;39m[\u001b[0m\n",
              "\u001b[2;32m│   │   \u001b[0m\u001b[1;35mChatMessage\u001b[0m\u001b[1;39m(\u001b[0m\n",
              "\u001b[2;32m│   │   │   \u001b[0m\u001b[33mrole\u001b[0m\u001b[39m=<MessageRole.SYSTEM: \u001b[0m\u001b[32m'system'\u001b[0m\u001b[39m>,\u001b[0m\n",
              "\u001b[2;32m│   │   │   \u001b[0m\u001b[33mcontent\u001b[0m\u001b[39m=\u001b[0m\u001b[32m'You are an assisant to perform the user input.'\u001b[0m\u001b[39m,\u001b[0m\n",
              "\u001b[2;32m│   │   │   \u001b[0m\u001b[33madditional_kwargs\u001b[0m\u001b[39m=\u001b[0m\u001b[1;39m{\u001b[0m\u001b[1;39m}\u001b[0m\n",
              "\u001b[2;32m│   │   \u001b[0m\u001b[1;39m)\u001b[0m\u001b[39m,\u001b[0m\n",
              "\u001b[2;32m│   │   \u001b[0m\u001b[1;35mChatMessage\u001b[0m\u001b[1;39m(\u001b[0m\u001b[33mrole\u001b[0m\u001b[39m=<MessageRole.USER: \u001b[0m\u001b[32m'user'\u001b[0m\u001b[1m>\u001b[0m, \u001b[33mcontent\u001b[0m=\u001b[32m'\u001b[0m\u001b[32m{\u001b[0m\u001b[32minput\u001b[0m\u001b[32m}\u001b[0m\u001b[32m'\u001b[0m, \u001b[33madditional_kwargs\u001b[0m=\u001b[1m{\u001b[0m\u001b[1m}\u001b[0m\u001b[1m)\u001b[0m\n",
              "\u001b[2;32m│   \u001b[0m\u001b[1m]\u001b[0m\n",
              "\u001b[1m)\u001b[0m\n"
            ]
          },
          "metadata": {},
          "output_type": "display_data"
        },
        {
          "name": "stdout",
          "output_type": "stream",
          "text": [
            "chat_history\n"
          ]
        },
        {
          "data": {
            "text/html": [
              "<pre style=\"white-space:pre;overflow-x:auto;line-height:normal;font-family:Menlo,'DejaVu Sans Mono',consolas,'Courier New',monospace\"><span style=\"font-weight: bold\">[</span>\n",
              "<span style=\"color: #7fbf7f; text-decoration-color: #7fbf7f\">│   </span><span style=\"color: #800080; text-decoration-color: #800080; font-weight: bold\">ChatMessage</span><span style=\"font-weight: bold\">(</span>\n",
              "<span style=\"color: #7fbf7f; text-decoration-color: #7fbf7f\">│   │   </span><span style=\"color: #808000; text-decoration-color: #808000\">role</span>=<span style=\"font-weight: bold\">&lt;</span><span style=\"color: #ff00ff; text-decoration-color: #ff00ff; font-weight: bold\">MessageRole.SYSTEM:</span><span style=\"color: #000000; text-decoration-color: #000000\"> </span><span style=\"color: #008000; text-decoration-color: #008000\">'system'</span><span style=\"color: #000000; text-decoration-color: #000000\">&gt;,</span>\n",
              "<span style=\"color: #7fbf7f; text-decoration-color: #7fbf7f\">│   │   </span><span style=\"color: #808000; text-decoration-color: #808000\">content</span><span style=\"color: #000000; text-decoration-color: #000000\">=</span><span style=\"color: #008000; text-decoration-color: #008000\">'You are an assisant to perform the user input.'</span><span style=\"color: #000000; text-decoration-color: #000000\">,</span>\n",
              "<span style=\"color: #7fbf7f; text-decoration-color: #7fbf7f\">│   │   </span><span style=\"color: #808000; text-decoration-color: #808000\">additional_kwargs</span><span style=\"color: #000000; text-decoration-color: #000000\">=</span><span style=\"color: #000000; text-decoration-color: #000000; font-weight: bold\">{}</span>\n",
              "<span style=\"color: #7fbf7f; text-decoration-color: #7fbf7f\">│   </span><span style=\"color: #000000; text-decoration-color: #000000; font-weight: bold\">)</span><span style=\"color: #000000; text-decoration-color: #000000\">,</span>\n",
              "<span style=\"color: #7fbf7f; text-decoration-color: #7fbf7f\">│   </span><span style=\"color: #800080; text-decoration-color: #800080; font-weight: bold\">ChatMessage</span><span style=\"color: #000000; text-decoration-color: #000000; font-weight: bold\">(</span>\n",
              "<span style=\"color: #7fbf7f; text-decoration-color: #7fbf7f\">│   │   </span><span style=\"color: #808000; text-decoration-color: #808000\">role</span><span style=\"color: #000000; text-decoration-color: #000000\">=&lt;MessageRole.USER: </span><span style=\"color: #008000; text-decoration-color: #008000\">'user'</span><span style=\"color: #000000; text-decoration-color: #000000\">&gt;,</span>\n",
              "<span style=\"color: #7fbf7f; text-decoration-color: #7fbf7f\">│   │   </span><span style=\"color: #808000; text-decoration-color: #808000\">content</span><span style=\"color: #000000; text-decoration-color: #000000\">=</span><span style=\"color: #008000; text-decoration-color: #008000\">'\\nPlease create a random joke and provide the translated result in Simplified Chinese\\nwithout including the original language, newlines, empty spaces, or instruction information\\n'</span><span style=\"color: #000000; text-decoration-color: #000000\">,</span>\n",
              "<span style=\"color: #7fbf7f; text-decoration-color: #7fbf7f\">│   │   </span><span style=\"color: #808000; text-decoration-color: #808000\">additional_kwargs</span><span style=\"color: #000000; text-decoration-color: #000000\">=</span><span style=\"color: #000000; text-decoration-color: #000000; font-weight: bold\">{}</span>\n",
              "<span style=\"color: #7fbf7f; text-decoration-color: #7fbf7f\">│   </span><span style=\"color: #000000; text-decoration-color: #000000; font-weight: bold\">)</span><span style=\"color: #000000; text-decoration-color: #000000\">,</span>\n",
              "<span style=\"color: #7fbf7f; text-decoration-color: #7fbf7f\">│   </span><span style=\"color: #800080; text-decoration-color: #800080; font-weight: bold\">ChatMessage</span><span style=\"color: #000000; text-decoration-color: #000000; font-weight: bold\">(</span>\n",
              "<span style=\"color: #7fbf7f; text-decoration-color: #7fbf7f\">│   │   </span><span style=\"color: #808000; text-decoration-color: #808000\">role</span><span style=\"color: #000000; text-decoration-color: #000000\">=&lt;MessageRole.ASSISTANT: </span><span style=\"color: #008000; text-decoration-color: #008000\">'assistant'</span><span style=\"color: #000000; text-decoration-color: #000000\">&gt;,</span>\n",
              "<span style=\"color: #7fbf7f; text-decoration-color: #7fbf7f\">│   │   </span><span style=\"color: #808000; text-decoration-color: #808000\">content</span><span style=\"color: #000000; text-decoration-color: #000000\">=</span><span style=\"color: #800080; text-decoration-color: #800080; font-style: italic\">None</span><span style=\"color: #000000; text-decoration-color: #000000\">,</span>\n",
              "<span style=\"color: #7fbf7f; text-decoration-color: #7fbf7f\">│   │   </span><span style=\"color: #808000; text-decoration-color: #808000\">additional_kwargs</span><span style=\"color: #000000; text-decoration-color: #000000\">=</span><span style=\"color: #000000; text-decoration-color: #000000; font-weight: bold\">{</span>\n",
              "<span style=\"color: #7fbf7f; text-decoration-color: #7fbf7f\">│   │   │   </span><span style=\"color: #008000; text-decoration-color: #008000\">'tool_calls'</span><span style=\"color: #000000; text-decoration-color: #000000\">: </span><span style=\"color: #000000; text-decoration-color: #000000; font-weight: bold\">[</span>\n",
              "<span style=\"color: #7fbf7f; text-decoration-color: #7fbf7f\">│   │   │   │   </span><span style=\"color: #800080; text-decoration-color: #800080; font-weight: bold\">ChatCompletionMessageToolCall</span><span style=\"color: #000000; text-decoration-color: #000000; font-weight: bold\">(</span>\n",
              "<span style=\"color: #7fbf7f; text-decoration-color: #7fbf7f\">│   │   │   │   │   </span><span style=\"color: #808000; text-decoration-color: #808000\">id</span><span style=\"color: #000000; text-decoration-color: #000000\">=</span><span style=\"color: #008000; text-decoration-color: #008000\">'call_lL6XOicfBYiacC9bghzqo8AW'</span><span style=\"color: #000000; text-decoration-color: #000000\">,</span>\n",
              "<span style=\"color: #7fbf7f; text-decoration-color: #7fbf7f\">│   │   │   │   │   </span><span style=\"color: #808000; text-decoration-color: #808000\">function</span><span style=\"color: #000000; text-decoration-color: #000000\">=</span><span style=\"color: #800080; text-decoration-color: #800080; font-weight: bold\">Function</span><span style=\"color: #000000; text-decoration-color: #000000; font-weight: bold\">(</span><span style=\"color: #808000; text-decoration-color: #808000\">arguments</span><span style=\"color: #000000; text-decoration-color: #000000\">=</span><span style=\"color: #008000; text-decoration-color: #008000\">'{}'</span><span style=\"color: #000000; text-decoration-color: #000000\">, </span><span style=\"color: #808000; text-decoration-color: #808000\">name</span><span style=\"color: #000000; text-decoration-color: #000000\">=</span><span style=\"color: #008000; text-decoration-color: #008000\">'random_joke'</span><span style=\"color: #000000; text-decoration-color: #000000; font-weight: bold\">)</span><span style=\"color: #000000; text-decoration-color: #000000\">,</span>\n",
              "<span style=\"color: #7fbf7f; text-decoration-color: #7fbf7f\">│   │   │   │   │   </span><span style=\"color: #808000; text-decoration-color: #808000\">type</span><span style=\"color: #000000; text-decoration-color: #000000\">=</span><span style=\"color: #008000; text-decoration-color: #008000\">'function'</span>\n",
              "<span style=\"color: #7fbf7f; text-decoration-color: #7fbf7f\">│   │   │   │   </span><span style=\"color: #000000; text-decoration-color: #000000; font-weight: bold\">)</span>\n",
              "<span style=\"color: #7fbf7f; text-decoration-color: #7fbf7f\">│   │   │   </span><span style=\"color: #000000; text-decoration-color: #000000; font-weight: bold\">]</span>\n",
              "<span style=\"color: #7fbf7f; text-decoration-color: #7fbf7f\">│   │   </span><span style=\"color: #000000; text-decoration-color: #000000; font-weight: bold\">}</span>\n",
              "<span style=\"color: #7fbf7f; text-decoration-color: #7fbf7f\">│   </span><span style=\"color: #000000; text-decoration-color: #000000; font-weight: bold\">)</span><span style=\"color: #000000; text-decoration-color: #000000\">,</span>\n",
              "<span style=\"color: #7fbf7f; text-decoration-color: #7fbf7f\">│   </span><span style=\"color: #800080; text-decoration-color: #800080; font-weight: bold\">ChatMessage</span><span style=\"color: #000000; text-decoration-color: #000000; font-weight: bold\">(</span>\n",
              "<span style=\"color: #7fbf7f; text-decoration-color: #7fbf7f\">│   │   </span><span style=\"color: #808000; text-decoration-color: #808000\">role</span><span style=\"color: #000000; text-decoration-color: #000000\">=&lt;MessageRole.TOOL: </span><span style=\"color: #008000; text-decoration-color: #008000\">'tool'</span><span style=\"color: #000000; text-decoration-color: #000000\">&gt;,</span>\n",
              "<span style=\"color: #7fbf7f; text-decoration-color: #7fbf7f\">│   │   </span><span style=\"color: #808000; text-decoration-color: #808000\">content</span><span style=\"color: #000000; text-decoration-color: #000000\">=</span><span style=\"color: #008000; text-decoration-color: #008000\">'Why did the scarecrow win an award?\\n\\nBecause he was outstanding in his field!'</span><span style=\"color: #000000; text-decoration-color: #000000\">,</span>\n",
              "<span style=\"color: #7fbf7f; text-decoration-color: #7fbf7f\">│   │   </span><span style=\"color: #808000; text-decoration-color: #808000\">additional_kwargs</span><span style=\"color: #000000; text-decoration-color: #000000\">=</span><span style=\"color: #000000; text-decoration-color: #000000; font-weight: bold\">{</span><span style=\"color: #008000; text-decoration-color: #008000\">'tool_call_id'</span><span style=\"color: #000000; text-decoration-color: #000000\">: </span><span style=\"color: #008000; text-decoration-color: #008000\">'call_lL6XOicfBYiacC9bghzqo8AW'</span><span style=\"color: #000000; text-decoration-color: #000000\">, </span><span style=\"color: #008000; text-decoration-color: #008000\">'name'</span><span style=\"color: #000000; text-decoration-color: #000000\">: </span><span style=\"color: #008000; text-decoration-color: #008000\">'random_joke'</span><span style=\"color: #000000; text-decoration-color: #000000; font-weight: bold\">}</span>\n",
              "<span style=\"color: #7fbf7f; text-decoration-color: #7fbf7f\">│   </span><span style=\"color: #000000; text-decoration-color: #000000; font-weight: bold\">)</span><span style=\"color: #000000; text-decoration-color: #000000\">,</span>\n",
              "<span style=\"color: #7fbf7f; text-decoration-color: #7fbf7f\">│   </span><span style=\"color: #800080; text-decoration-color: #800080; font-weight: bold\">ChatMessage</span><span style=\"color: #000000; text-decoration-color: #000000; font-weight: bold\">(</span>\n",
              "<span style=\"color: #7fbf7f; text-decoration-color: #7fbf7f\">│   │   </span><span style=\"color: #808000; text-decoration-color: #808000\">role</span><span style=\"color: #000000; text-decoration-color: #000000\">=&lt;MessageRole.ASSISTANT: </span><span style=\"color: #008000; text-decoration-color: #008000\">'assistant'</span><span style=\"color: #000000; text-decoration-color: #000000\">&gt;,</span>\n",
              "<span style=\"color: #7fbf7f; text-decoration-color: #7fbf7f\">│   │   </span><span style=\"color: #808000; text-decoration-color: #808000\">content</span><span style=\"color: #000000; text-decoration-color: #000000\">=</span><span style=\"color: #800080; text-decoration-color: #800080; font-style: italic\">None</span><span style=\"color: #000000; text-decoration-color: #000000\">,</span>\n",
              "<span style=\"color: #7fbf7f; text-decoration-color: #7fbf7f\">│   │   </span><span style=\"color: #808000; text-decoration-color: #808000\">additional_kwargs</span><span style=\"color: #000000; text-decoration-color: #000000\">=</span><span style=\"color: #000000; text-decoration-color: #000000; font-weight: bold\">{</span>\n",
              "<span style=\"color: #7fbf7f; text-decoration-color: #7fbf7f\">│   │   │   </span><span style=\"color: #008000; text-decoration-color: #008000\">'tool_calls'</span><span style=\"color: #000000; text-decoration-color: #000000\">: </span><span style=\"color: #000000; text-decoration-color: #000000; font-weight: bold\">[</span>\n",
              "<span style=\"color: #7fbf7f; text-decoration-color: #7fbf7f\">│   │   │   │   </span><span style=\"color: #800080; text-decoration-color: #800080; font-weight: bold\">ChatCompletionMessageToolCall</span><span style=\"color: #000000; text-decoration-color: #000000; font-weight: bold\">(</span>\n",
              "<span style=\"color: #7fbf7f; text-decoration-color: #7fbf7f\">│   │   │   │   │   </span><span style=\"color: #808000; text-decoration-color: #808000\">id</span><span style=\"color: #000000; text-decoration-color: #000000\">=</span><span style=\"color: #008000; text-decoration-color: #008000\">'call_DLLibGwgWpaDjUXZRMCgxMhN'</span><span style=\"color: #000000; text-decoration-color: #000000\">,</span>\n",
              "<span style=\"color: #7fbf7f; text-decoration-color: #7fbf7f\">│   │   │   │   │   </span><span style=\"color: #808000; text-decoration-color: #808000\">function</span><span style=\"color: #000000; text-decoration-color: #000000\">=</span><span style=\"color: #800080; text-decoration-color: #800080; font-weight: bold\">Function</span><span style=\"color: #000000; text-decoration-color: #000000; font-weight: bold\">(</span>\n",
              "<span style=\"color: #7fbf7f; text-decoration-color: #7fbf7f\">│   │   │   │   │   │   </span><span style=\"color: #808000; text-decoration-color: #808000\">arguments</span><span style=\"color: #000000; text-decoration-color: #000000\">=</span><span style=\"color: #008000; text-decoration-color: #008000\">'{\"string\":\"Why did the scarecrow win an award? Because he was outstanding in his field!\"}'</span><span style=\"color: #000000; text-decoration-color: #000000\">,</span>\n",
              "<span style=\"color: #7fbf7f; text-decoration-color: #7fbf7f\">│   │   │   │   │   │   </span><span style=\"color: #808000; text-decoration-color: #808000\">name</span><span style=\"color: #000000; text-decoration-color: #000000\">=</span><span style=\"color: #008000; text-decoration-color: #008000\">'translate'</span>\n",
              "<span style=\"color: #7fbf7f; text-decoration-color: #7fbf7f\">│   │   │   │   │   </span><span style=\"color: #000000; text-decoration-color: #000000; font-weight: bold\">)</span><span style=\"color: #000000; text-decoration-color: #000000\">,</span>\n",
              "<span style=\"color: #7fbf7f; text-decoration-color: #7fbf7f\">│   │   │   │   │   </span><span style=\"color: #808000; text-decoration-color: #808000\">type</span><span style=\"color: #000000; text-decoration-color: #000000\">=</span><span style=\"color: #008000; text-decoration-color: #008000\">'function'</span>\n",
              "<span style=\"color: #7fbf7f; text-decoration-color: #7fbf7f\">│   │   │   │   </span><span style=\"color: #000000; text-decoration-color: #000000; font-weight: bold\">)</span>\n",
              "<span style=\"color: #7fbf7f; text-decoration-color: #7fbf7f\">│   │   │   </span><span style=\"color: #000000; text-decoration-color: #000000; font-weight: bold\">]</span>\n",
              "<span style=\"color: #7fbf7f; text-decoration-color: #7fbf7f\">│   │   </span><span style=\"color: #000000; text-decoration-color: #000000; font-weight: bold\">}</span>\n",
              "<span style=\"color: #7fbf7f; text-decoration-color: #7fbf7f\">│   </span><span style=\"color: #000000; text-decoration-color: #000000; font-weight: bold\">)</span><span style=\"color: #000000; text-decoration-color: #000000\">,</span>\n",
              "<span style=\"color: #7fbf7f; text-decoration-color: #7fbf7f\">│   </span><span style=\"color: #800080; text-decoration-color: #800080; font-weight: bold\">ChatMessage</span><span style=\"color: #000000; text-decoration-color: #000000; font-weight: bold\">(</span>\n",
              "<span style=\"color: #7fbf7f; text-decoration-color: #7fbf7f\">│   │   </span><span style=\"color: #808000; text-decoration-color: #808000\">role</span><span style=\"color: #000000; text-decoration-color: #000000\">=&lt;MessageRole.TOOL: </span><span style=\"color: #008000; text-decoration-color: #008000\">'tool'</span><span style=\"color: #000000; text-decoration-color: #000000\">&gt;,</span>\n",
              "<span style=\"color: #7fbf7f; text-decoration-color: #7fbf7f\">│   │   </span><span style=\"color: #808000; text-decoration-color: #808000\">content</span><span style=\"color: #000000; text-decoration-color: #000000\">=</span><span style=\"color: #008000; text-decoration-color: #008000\">'因为他出色地在这领域获得了奖项！'</span><span style=\"color: #000000; text-decoration-color: #000000\">,</span>\n",
              "<span style=\"color: #7fbf7f; text-decoration-color: #7fbf7f\">│   │   </span><span style=\"color: #808000; text-decoration-color: #808000\">additional_kwargs</span><span style=\"color: #000000; text-decoration-color: #000000\">=</span><span style=\"color: #000000; text-decoration-color: #000000; font-weight: bold\">{</span><span style=\"color: #008000; text-decoration-color: #008000\">'tool_call_id'</span><span style=\"color: #000000; text-decoration-color: #000000\">: </span><span style=\"color: #008000; text-decoration-color: #008000\">'call_DLLibGwgWpaDjUXZRMCgxMhN'</span><span style=\"color: #000000; text-decoration-color: #000000\">, </span><span style=\"color: #008000; text-decoration-color: #008000\">'name'</span><span style=\"color: #000000; text-decoration-color: #000000\">: </span><span style=\"color: #008000; text-decoration-color: #008000\">'translate'</span><span style=\"color: #000000; text-decoration-color: #000000; font-weight: bold\">}</span>\n",
              "<span style=\"color: #7fbf7f; text-decoration-color: #7fbf7f\">│   </span><span style=\"color: #000000; text-decoration-color: #000000; font-weight: bold\">)</span><span style=\"color: #000000; text-decoration-color: #000000\">,</span>\n",
              "<span style=\"color: #7fbf7f; text-decoration-color: #7fbf7f\">│   </span><span style=\"color: #800080; text-decoration-color: #800080; font-weight: bold\">ChatMessage</span><span style=\"color: #000000; text-decoration-color: #000000; font-weight: bold\">(</span>\n",
              "<span style=\"color: #7fbf7f; text-decoration-color: #7fbf7f\">│   │   </span><span style=\"color: #808000; text-decoration-color: #808000\">role</span><span style=\"color: #000000; text-decoration-color: #000000\">=&lt;MessageRole.ASSISTANT: </span><span style=\"color: #008000; text-decoration-color: #008000\">'assistant'</span><span style=\"font-weight: bold\">&gt;</span>,\n",
              "<span style=\"color: #7fbf7f; text-decoration-color: #7fbf7f\">│   │   </span><span style=\"color: #808000; text-decoration-color: #808000\">content</span>=<span style=\"color: #008000; text-decoration-color: #008000\">'因为他出色地在这领域获得了奖项！'</span>,\n",
              "<span style=\"color: #7fbf7f; text-decoration-color: #7fbf7f\">│   │   </span><span style=\"color: #808000; text-decoration-color: #808000\">additional_kwargs</span>=<span style=\"font-weight: bold\">{}</span>\n",
              "<span style=\"color: #7fbf7f; text-decoration-color: #7fbf7f\">│   </span><span style=\"font-weight: bold\">)</span>\n",
              "<span style=\"font-weight: bold\">]</span>\n",
              "</pre>\n"
            ],
            "text/plain": [
              "\u001b[1m[\u001b[0m\n",
              "\u001b[2;32m│   \u001b[0m\u001b[1;35mChatMessage\u001b[0m\u001b[1m(\u001b[0m\n",
              "\u001b[2;32m│   │   \u001b[0m\u001b[33mrole\u001b[0m=\u001b[1m<\u001b[0m\u001b[1;95mMessageRole.SYSTEM:\u001b[0m\u001b[39m \u001b[0m\u001b[32m'system'\u001b[0m\u001b[39m>,\u001b[0m\n",
              "\u001b[2;32m│   │   \u001b[0m\u001b[33mcontent\u001b[0m\u001b[39m=\u001b[0m\u001b[32m'You are an assisant to perform the user input.'\u001b[0m\u001b[39m,\u001b[0m\n",
              "\u001b[2;32m│   │   \u001b[0m\u001b[33madditional_kwargs\u001b[0m\u001b[39m=\u001b[0m\u001b[1;39m{\u001b[0m\u001b[1;39m}\u001b[0m\n",
              "\u001b[2;32m│   \u001b[0m\u001b[1;39m)\u001b[0m\u001b[39m,\u001b[0m\n",
              "\u001b[2;32m│   \u001b[0m\u001b[1;35mChatMessage\u001b[0m\u001b[1;39m(\u001b[0m\n",
              "\u001b[2;32m│   │   \u001b[0m\u001b[33mrole\u001b[0m\u001b[39m=<MessageRole.USER: \u001b[0m\u001b[32m'user'\u001b[0m\u001b[39m>,\u001b[0m\n",
              "\u001b[2;32m│   │   \u001b[0m\u001b[33mcontent\u001b[0m\u001b[39m=\u001b[0m\u001b[32m'\\nPlease create a random joke and provide the translated result in Simplified Chinese\\nwithout including the original language, newlines, empty spaces, or instruction information\\n'\u001b[0m\u001b[39m,\u001b[0m\n",
              "\u001b[2;32m│   │   \u001b[0m\u001b[33madditional_kwargs\u001b[0m\u001b[39m=\u001b[0m\u001b[1;39m{\u001b[0m\u001b[1;39m}\u001b[0m\n",
              "\u001b[2;32m│   \u001b[0m\u001b[1;39m)\u001b[0m\u001b[39m,\u001b[0m\n",
              "\u001b[2;32m│   \u001b[0m\u001b[1;35mChatMessage\u001b[0m\u001b[1;39m(\u001b[0m\n",
              "\u001b[2;32m│   │   \u001b[0m\u001b[33mrole\u001b[0m\u001b[39m=<MessageRole.ASSISTANT: \u001b[0m\u001b[32m'assistant'\u001b[0m\u001b[39m>,\u001b[0m\n",
              "\u001b[2;32m│   │   \u001b[0m\u001b[33mcontent\u001b[0m\u001b[39m=\u001b[0m\u001b[3;35mNone\u001b[0m\u001b[39m,\u001b[0m\n",
              "\u001b[2;32m│   │   \u001b[0m\u001b[33madditional_kwargs\u001b[0m\u001b[39m=\u001b[0m\u001b[1;39m{\u001b[0m\n",
              "\u001b[2;32m│   │   │   \u001b[0m\u001b[32m'tool_calls'\u001b[0m\u001b[39m: \u001b[0m\u001b[1;39m[\u001b[0m\n",
              "\u001b[2;32m│   │   │   │   \u001b[0m\u001b[1;35mChatCompletionMessageToolCall\u001b[0m\u001b[1;39m(\u001b[0m\n",
              "\u001b[2;32m│   │   │   │   │   \u001b[0m\u001b[33mid\u001b[0m\u001b[39m=\u001b[0m\u001b[32m'call_lL6XOicfBYiacC9bghzqo8AW'\u001b[0m\u001b[39m,\u001b[0m\n",
              "\u001b[2;32m│   │   │   │   │   \u001b[0m\u001b[33mfunction\u001b[0m\u001b[39m=\u001b[0m\u001b[1;35mFunction\u001b[0m\u001b[1;39m(\u001b[0m\u001b[33marguments\u001b[0m\u001b[39m=\u001b[0m\u001b[32m'\u001b[0m\u001b[32m{\u001b[0m\u001b[32m}\u001b[0m\u001b[32m'\u001b[0m\u001b[39m, \u001b[0m\u001b[33mname\u001b[0m\u001b[39m=\u001b[0m\u001b[32m'random_joke'\u001b[0m\u001b[1;39m)\u001b[0m\u001b[39m,\u001b[0m\n",
              "\u001b[2;32m│   │   │   │   │   \u001b[0m\u001b[33mtype\u001b[0m\u001b[39m=\u001b[0m\u001b[32m'function'\u001b[0m\n",
              "\u001b[2;32m│   │   │   │   \u001b[0m\u001b[1;39m)\u001b[0m\n",
              "\u001b[2;32m│   │   │   \u001b[0m\u001b[1;39m]\u001b[0m\n",
              "\u001b[2;32m│   │   \u001b[0m\u001b[1;39m}\u001b[0m\n",
              "\u001b[2;32m│   \u001b[0m\u001b[1;39m)\u001b[0m\u001b[39m,\u001b[0m\n",
              "\u001b[2;32m│   \u001b[0m\u001b[1;35mChatMessage\u001b[0m\u001b[1;39m(\u001b[0m\n",
              "\u001b[2;32m│   │   \u001b[0m\u001b[33mrole\u001b[0m\u001b[39m=<MessageRole.TOOL: \u001b[0m\u001b[32m'tool'\u001b[0m\u001b[39m>,\u001b[0m\n",
              "\u001b[2;32m│   │   \u001b[0m\u001b[33mcontent\u001b[0m\u001b[39m=\u001b[0m\u001b[32m'Why did the scarecrow win an award?\\n\\nBecause he was outstanding in his field!'\u001b[0m\u001b[39m,\u001b[0m\n",
              "\u001b[2;32m│   │   \u001b[0m\u001b[33madditional_kwargs\u001b[0m\u001b[39m=\u001b[0m\u001b[1;39m{\u001b[0m\u001b[32m'tool_call_id'\u001b[0m\u001b[39m: \u001b[0m\u001b[32m'call_lL6XOicfBYiacC9bghzqo8AW'\u001b[0m\u001b[39m, \u001b[0m\u001b[32m'name'\u001b[0m\u001b[39m: \u001b[0m\u001b[32m'random_joke'\u001b[0m\u001b[1;39m}\u001b[0m\n",
              "\u001b[2;32m│   \u001b[0m\u001b[1;39m)\u001b[0m\u001b[39m,\u001b[0m\n",
              "\u001b[2;32m│   \u001b[0m\u001b[1;35mChatMessage\u001b[0m\u001b[1;39m(\u001b[0m\n",
              "\u001b[2;32m│   │   \u001b[0m\u001b[33mrole\u001b[0m\u001b[39m=<MessageRole.ASSISTANT: \u001b[0m\u001b[32m'assistant'\u001b[0m\u001b[39m>,\u001b[0m\n",
              "\u001b[2;32m│   │   \u001b[0m\u001b[33mcontent\u001b[0m\u001b[39m=\u001b[0m\u001b[3;35mNone\u001b[0m\u001b[39m,\u001b[0m\n",
              "\u001b[2;32m│   │   \u001b[0m\u001b[33madditional_kwargs\u001b[0m\u001b[39m=\u001b[0m\u001b[1;39m{\u001b[0m\n",
              "\u001b[2;32m│   │   │   \u001b[0m\u001b[32m'tool_calls'\u001b[0m\u001b[39m: \u001b[0m\u001b[1;39m[\u001b[0m\n",
              "\u001b[2;32m│   │   │   │   \u001b[0m\u001b[1;35mChatCompletionMessageToolCall\u001b[0m\u001b[1;39m(\u001b[0m\n",
              "\u001b[2;32m│   │   │   │   │   \u001b[0m\u001b[33mid\u001b[0m\u001b[39m=\u001b[0m\u001b[32m'call_DLLibGwgWpaDjUXZRMCgxMhN'\u001b[0m\u001b[39m,\u001b[0m\n",
              "\u001b[2;32m│   │   │   │   │   \u001b[0m\u001b[33mfunction\u001b[0m\u001b[39m=\u001b[0m\u001b[1;35mFunction\u001b[0m\u001b[1;39m(\u001b[0m\n",
              "\u001b[2;32m│   │   │   │   │   │   \u001b[0m\u001b[33marguments\u001b[0m\u001b[39m=\u001b[0m\u001b[32m'\u001b[0m\u001b[32m{\u001b[0m\u001b[32m\"string\":\"Why did the scarecrow win an award? Because he was outstanding in his field!\"\u001b[0m\u001b[32m}\u001b[0m\u001b[32m'\u001b[0m\u001b[39m,\u001b[0m\n",
              "\u001b[2;32m│   │   │   │   │   │   \u001b[0m\u001b[33mname\u001b[0m\u001b[39m=\u001b[0m\u001b[32m'translate'\u001b[0m\n",
              "\u001b[2;32m│   │   │   │   │   \u001b[0m\u001b[1;39m)\u001b[0m\u001b[39m,\u001b[0m\n",
              "\u001b[2;32m│   │   │   │   │   \u001b[0m\u001b[33mtype\u001b[0m\u001b[39m=\u001b[0m\u001b[32m'function'\u001b[0m\n",
              "\u001b[2;32m│   │   │   │   \u001b[0m\u001b[1;39m)\u001b[0m\n",
              "\u001b[2;32m│   │   │   \u001b[0m\u001b[1;39m]\u001b[0m\n",
              "\u001b[2;32m│   │   \u001b[0m\u001b[1;39m}\u001b[0m\n",
              "\u001b[2;32m│   \u001b[0m\u001b[1;39m)\u001b[0m\u001b[39m,\u001b[0m\n",
              "\u001b[2;32m│   \u001b[0m\u001b[1;35mChatMessage\u001b[0m\u001b[1;39m(\u001b[0m\n",
              "\u001b[2;32m│   │   \u001b[0m\u001b[33mrole\u001b[0m\u001b[39m=<MessageRole.TOOL: \u001b[0m\u001b[32m'tool'\u001b[0m\u001b[39m>,\u001b[0m\n",
              "\u001b[2;32m│   │   \u001b[0m\u001b[33mcontent\u001b[0m\u001b[39m=\u001b[0m\u001b[32m'因为他出色地在这领域获得了奖项！'\u001b[0m\u001b[39m,\u001b[0m\n",
              "\u001b[2;32m│   │   \u001b[0m\u001b[33madditional_kwargs\u001b[0m\u001b[39m=\u001b[0m\u001b[1;39m{\u001b[0m\u001b[32m'tool_call_id'\u001b[0m\u001b[39m: \u001b[0m\u001b[32m'call_DLLibGwgWpaDjUXZRMCgxMhN'\u001b[0m\u001b[39m, \u001b[0m\u001b[32m'name'\u001b[0m\u001b[39m: \u001b[0m\u001b[32m'translate'\u001b[0m\u001b[1;39m}\u001b[0m\n",
              "\u001b[2;32m│   \u001b[0m\u001b[1;39m)\u001b[0m\u001b[39m,\u001b[0m\n",
              "\u001b[2;32m│   \u001b[0m\u001b[1;35mChatMessage\u001b[0m\u001b[1;39m(\u001b[0m\n",
              "\u001b[2;32m│   │   \u001b[0m\u001b[33mrole\u001b[0m\u001b[39m=<MessageRole.ASSISTANT: \u001b[0m\u001b[32m'assistant'\u001b[0m\u001b[1m>\u001b[0m,\n",
              "\u001b[2;32m│   │   \u001b[0m\u001b[33mcontent\u001b[0m=\u001b[32m'因为他出色地在这领域获得了奖项！'\u001b[0m,\n",
              "\u001b[2;32m│   │   \u001b[0m\u001b[33madditional_kwargs\u001b[0m=\u001b[1m{\u001b[0m\u001b[1m}\u001b[0m\n",
              "\u001b[2;32m│   \u001b[0m\u001b[1m)\u001b[0m\n",
              "\u001b[1m]\u001b[0m\n"
            ]
          },
          "metadata": {},
          "output_type": "display_data"
        }
      ],
      "source": [
        "agent_exe.__str__()"
      ]
    },
    {
      "cell_type": "markdown",
      "metadata": {
        "id": "zTO59C0QMX6J"
      },
      "source": [
        "## OpenAIAgent\n",
        "\n",
        "This is Llama-Index buildin, it encapsulates a lot details of Agent running and very robust."
      ]
    },
    {
      "cell_type": "code",
      "execution_count": 118,
      "metadata": {
        "colab": {
          "base_uri": "https://localhost:8080/",
          "height": 749
        },
        "id": "kq2Zb98jMpxX",
        "outputId": "dac8a5e5-e3c3-4f4f-d5c9-36ce863be9d3"
      },
      "outputs": [
        {
          "name": "stdout",
          "output_type": "stream",
          "text": [
            "Added user message to memory: \n",
            "Please create a random joke and provide the translated result in Simplified Chinese\n",
            "without including the original language, newlines, empty spaces, or instruction information\n",
            "\n",
            "=== Calling Function ===\n",
            "Calling function: random_joke with args: {}\n",
            "Got output: Sure, here's the joke you requested:\n",
            "\n",
            "Why did the scarecrow win an award?\n",
            "\n",
            "Because he was outstanding in his field!\n",
            "========================\n",
            "\n",
            "=== Calling Function ===\n",
            "Calling function: translate with args: {\"string\":\"Why did the scarecrow win an award? Because he was outstanding in his field!\"}\n",
            "Got output: 因为他出色地工作，他获得了奖项！\n",
            "========================\n",
            "\n",
            "\n",
            "Final result\n"
          ]
        },
        {
          "data": {
            "text/html": [
              "<pre style=\"white-space:pre;overflow-x:auto;line-height:normal;font-family:Menlo,'DejaVu Sans Mono',consolas,'Courier New',monospace\"><span style=\"color: #800080; text-decoration-color: #800080; font-weight: bold\">AgentChatResponse</span><span style=\"font-weight: bold\">(</span>\n",
              "<span style=\"color: #7fbf7f; text-decoration-color: #7fbf7f\">│   </span><span style=\"color: #808000; text-decoration-color: #808000\">response</span>=<span style=\"color: #008000; text-decoration-color: #008000\">'因为他出色地工作，他获得了奖项！'</span>,\n",
              "<span style=\"color: #7fbf7f; text-decoration-color: #7fbf7f\">│   </span><span style=\"color: #808000; text-decoration-color: #808000\">sources</span>=<span style=\"font-weight: bold\">[</span>\n",
              "<span style=\"color: #7fbf7f; text-decoration-color: #7fbf7f\">│   │   </span><span style=\"color: #800080; text-decoration-color: #800080; font-weight: bold\">ToolOutput</span><span style=\"font-weight: bold\">(</span>\n",
              "<span style=\"color: #7fbf7f; text-decoration-color: #7fbf7f\">│   │   │   </span><span style=\"color: #808000; text-decoration-color: #808000\">content</span>=<span style=\"color: #008000; text-decoration-color: #008000\">\"Sure, here's the joke you requested:\\n\\nWhy did the scarecrow win an award?\\n\\nBecause he was outstanding in his field!\"</span>,\n",
              "<span style=\"color: #7fbf7f; text-decoration-color: #7fbf7f\">│   │   │   </span><span style=\"color: #808000; text-decoration-color: #808000\">tool_name</span>=<span style=\"color: #008000; text-decoration-color: #008000\">'random_joke'</span>,\n",
              "<span style=\"color: #7fbf7f; text-decoration-color: #7fbf7f\">│   │   │   </span><span style=\"color: #808000; text-decoration-color: #808000\">raw_input</span>=<span style=\"font-weight: bold\">{</span><span style=\"color: #008000; text-decoration-color: #008000\">'args'</span>: <span style=\"font-weight: bold\">()</span>, <span style=\"color: #008000; text-decoration-color: #008000\">'kwargs'</span>: <span style=\"font-weight: bold\">{}}</span>,\n",
              "<span style=\"color: #7fbf7f; text-decoration-color: #7fbf7f\">│   │   │   </span><span style=\"color: #808000; text-decoration-color: #808000\">raw_output</span>=<span style=\"color: #008000; text-decoration-color: #008000\">\"Sure, here's the joke you requested:\\n\\nWhy did the scarecrow win an award?\\n\\nBecause he was outstanding in his field!\"</span>\n",
              "<span style=\"color: #7fbf7f; text-decoration-color: #7fbf7f\">│   │   </span><span style=\"font-weight: bold\">)</span>,\n",
              "<span style=\"color: #7fbf7f; text-decoration-color: #7fbf7f\">│   │   </span><span style=\"color: #800080; text-decoration-color: #800080; font-weight: bold\">ToolOutput</span><span style=\"font-weight: bold\">(</span>\n",
              "<span style=\"color: #7fbf7f; text-decoration-color: #7fbf7f\">│   │   │   </span><span style=\"color: #808000; text-decoration-color: #808000\">content</span>=<span style=\"color: #008000; text-decoration-color: #008000\">'因为他出色地工作，他获得了奖项！'</span>,\n",
              "<span style=\"color: #7fbf7f; text-decoration-color: #7fbf7f\">│   │   │   </span><span style=\"color: #808000; text-decoration-color: #808000\">tool_name</span>=<span style=\"color: #008000; text-decoration-color: #008000\">'translate'</span>,\n",
              "<span style=\"color: #7fbf7f; text-decoration-color: #7fbf7f\">│   │   │   </span><span style=\"color: #808000; text-decoration-color: #808000\">raw_input</span>=<span style=\"font-weight: bold\">{</span>\n",
              "<span style=\"color: #7fbf7f; text-decoration-color: #7fbf7f\">│   │   │   │   </span><span style=\"color: #008000; text-decoration-color: #008000\">'args'</span>: <span style=\"font-weight: bold\">()</span>,\n",
              "<span style=\"color: #7fbf7f; text-decoration-color: #7fbf7f\">│   │   │   │   </span><span style=\"color: #008000; text-decoration-color: #008000\">'kwargs'</span>: <span style=\"font-weight: bold\">{</span>\n",
              "<span style=\"color: #7fbf7f; text-decoration-color: #7fbf7f\">│   │   │   │   │   </span><span style=\"color: #008000; text-decoration-color: #008000\">'string'</span>: <span style=\"color: #008000; text-decoration-color: #008000\">'Why did the scarecrow win an award? Because he was outstanding in his field!'</span>\n",
              "<span style=\"color: #7fbf7f; text-decoration-color: #7fbf7f\">│   │   │   │   </span><span style=\"font-weight: bold\">}</span>\n",
              "<span style=\"color: #7fbf7f; text-decoration-color: #7fbf7f\">│   │   │   </span><span style=\"font-weight: bold\">}</span>,\n",
              "<span style=\"color: #7fbf7f; text-decoration-color: #7fbf7f\">│   │   │   </span><span style=\"color: #808000; text-decoration-color: #808000\">raw_output</span>=<span style=\"color: #008000; text-decoration-color: #008000\">'因为他出色地工作，他获得了奖项！'</span>\n",
              "<span style=\"color: #7fbf7f; text-decoration-color: #7fbf7f\">│   │   </span><span style=\"font-weight: bold\">)</span>\n",
              "<span style=\"color: #7fbf7f; text-decoration-color: #7fbf7f\">│   </span><span style=\"font-weight: bold\">]</span>,\n",
              "<span style=\"color: #7fbf7f; text-decoration-color: #7fbf7f\">│   </span><span style=\"color: #808000; text-decoration-color: #808000\">source_nodes</span>=<span style=\"font-weight: bold\">[]</span>\n",
              "<span style=\"font-weight: bold\">)</span>\n",
              "</pre>\n"
            ],
            "text/plain": [
              "\u001b[1;35mAgentChatResponse\u001b[0m\u001b[1m(\u001b[0m\n",
              "\u001b[2;32m│   \u001b[0m\u001b[33mresponse\u001b[0m=\u001b[32m'因为他出色地工作，他获得了奖项！'\u001b[0m,\n",
              "\u001b[2;32m│   \u001b[0m\u001b[33msources\u001b[0m=\u001b[1m[\u001b[0m\n",
              "\u001b[2;32m│   │   \u001b[0m\u001b[1;35mToolOutput\u001b[0m\u001b[1m(\u001b[0m\n",
              "\u001b[2;32m│   │   │   \u001b[0m\u001b[33mcontent\u001b[0m=\u001b[32m\"Sure\u001b[0m\u001b[32m, here's the joke you requested:\\n\\nWhy did the scarecrow win an award?\\n\\nBecause he was outstanding in his field!\"\u001b[0m,\n",
              "\u001b[2;32m│   │   │   \u001b[0m\u001b[33mtool_name\u001b[0m=\u001b[32m'random_joke'\u001b[0m,\n",
              "\u001b[2;32m│   │   │   \u001b[0m\u001b[33mraw_input\u001b[0m=\u001b[1m{\u001b[0m\u001b[32m'args'\u001b[0m: \u001b[1m(\u001b[0m\u001b[1m)\u001b[0m, \u001b[32m'kwargs'\u001b[0m: \u001b[1m{\u001b[0m\u001b[1m}\u001b[0m\u001b[1m}\u001b[0m,\n",
              "\u001b[2;32m│   │   │   \u001b[0m\u001b[33mraw_output\u001b[0m=\u001b[32m\"Sure\u001b[0m\u001b[32m, here's the joke you requested:\\n\\nWhy did the scarecrow win an award?\\n\\nBecause he was outstanding in his field!\"\u001b[0m\n",
              "\u001b[2;32m│   │   \u001b[0m\u001b[1m)\u001b[0m,\n",
              "\u001b[2;32m│   │   \u001b[0m\u001b[1;35mToolOutput\u001b[0m\u001b[1m(\u001b[0m\n",
              "\u001b[2;32m│   │   │   \u001b[0m\u001b[33mcontent\u001b[0m=\u001b[32m'因为他出色地工作，他获得了奖项！'\u001b[0m,\n",
              "\u001b[2;32m│   │   │   \u001b[0m\u001b[33mtool_name\u001b[0m=\u001b[32m'translate'\u001b[0m,\n",
              "\u001b[2;32m│   │   │   \u001b[0m\u001b[33mraw_input\u001b[0m=\u001b[1m{\u001b[0m\n",
              "\u001b[2;32m│   │   │   │   \u001b[0m\u001b[32m'args'\u001b[0m: \u001b[1m(\u001b[0m\u001b[1m)\u001b[0m,\n",
              "\u001b[2;32m│   │   │   │   \u001b[0m\u001b[32m'kwargs'\u001b[0m: \u001b[1m{\u001b[0m\n",
              "\u001b[2;32m│   │   │   │   │   \u001b[0m\u001b[32m'string'\u001b[0m: \u001b[32m'Why did the scarecrow win an award? Because he was outstanding in his field!'\u001b[0m\n",
              "\u001b[2;32m│   │   │   │   \u001b[0m\u001b[1m}\u001b[0m\n",
              "\u001b[2;32m│   │   │   \u001b[0m\u001b[1m}\u001b[0m,\n",
              "\u001b[2;32m│   │   │   \u001b[0m\u001b[33mraw_output\u001b[0m=\u001b[32m'因为他出色地工作，他获得了奖项！'\u001b[0m\n",
              "\u001b[2;32m│   │   \u001b[0m\u001b[1m)\u001b[0m\n",
              "\u001b[2;32m│   \u001b[0m\u001b[1m]\u001b[0m,\n",
              "\u001b[2;32m│   \u001b[0m\u001b[33msource_nodes\u001b[0m=\u001b[1m[\u001b[0m\u001b[1m]\u001b[0m\n",
              "\u001b[1m)\u001b[0m\n"
            ]
          },
          "metadata": {},
          "output_type": "display_data"
        }
      ],
      "source": [
        "from llama_index.agent.openai import OpenAIAgent\n",
        "\n",
        "func_tools: Sequence[BaseTool]  = list(map(lambda f: FunctionTool.from_defaults(fn=f), [random_joke, translate] ))\n",
        "openai_agent = OpenAIAgent.from_tools(\n",
        "    tools=func_tools,\n",
        "    llm=model,\n",
        "    verbose=True\n",
        ")\n",
        "res = openai_agent.chat(human_input)\n",
        "print(\"\\nFinal result\")\n",
        "pprint(res)"
      ]
    },
    {
      "cell_type": "markdown",
      "metadata": {},
      "source": [
        "## LangGraph driven"
      ]
    },
    {
      "cell_type": "code",
      "execution_count": 124,
      "metadata": {},
      "outputs": [],
      "source": [
        "class GraphState(TypedDict):\n",
        "    messages: Optional[Sequence[ChatMessage]] = (\n",
        "        None  # the history of the interaction with model\n",
        "    )\n",
        "    chat_response: Optional[ChatResponse] = None  # the latest response of model\n",
        "    tool_call: Optional[ChatCompletionMessageToolCall] = (\n",
        "        None  # the tool that the model requires\n",
        "    )"
      ]
    },
    {
      "cell_type": "code",
      "execution_count": 125,
      "metadata": {},
      "outputs": [],
      "source": [
        "model: OpenAI = OpenAI(temperature=0, model=\"gpt-4-1106-preview\")\n",
        "# model: Groq = Groq(\n",
        "#     model=\"mixtral-8x7b-32768\",\n",
        "#     temperature=0,\n",
        "#     timeout=60,\n",
        "# )\n",
        "\n",
        "\n",
        "# Convert python function to Llama-Index function and\n",
        "# then OpenAI scheme.\n",
        "\n",
        "func_tools: Sequence[BaseTool] = list(\n",
        "    map(\n",
        "        lambda f: FunctionTool.from_defaults(fn=f),\n",
        "        [random_joke, translate],\n",
        "    )\n",
        ")\n",
        "func_tools_dict: Dict[str, FunctionTool] = {\n",
        "    tool.metadata.name: tool for tool in func_tools\n",
        "}\n",
        "openai_tools: Sequence[Dict[str, Any]] = list(\n",
        "    map(lambda func_tool: func_tool.metadata.to_openai_tool(), func_tools)\n",
        ")"
      ]
    },
    {
      "cell_type": "code",
      "execution_count": 140,
      "metadata": {},
      "outputs": [],
      "source": [
        "def continue_next(\n",
        "    state: GraphState,\n",
        ") -> Literal[\"to_call_tool_func\", \"to_end\"]:\n",
        "\n",
        "    def _should_continue(chat_response: ChatResponse) -> bool:\n",
        "        \"\"\"To decide whether a tool function will be called (true) or not.\"\"\"\n",
        "        return (\n",
        "            chat_response.message.additional_kwargs.get(\"tool_calls\", None) is not None\n",
        "        )\n",
        "\n",
        "    if _should_continue(state[\"chat_response\"]):\n",
        "        state[\"tool_call\"] = state[\"chat_response\"].message.additional_kwargs[\n",
        "            \"tool_calls\"\n",
        "        ][0]\n",
        "        return \"to_run_tool\"\n",
        "    else:\n",
        "        return \"to_finish\"\n",
        "\n",
        "\n",
        "def run_agent(state: GraphState) -> Dict[str, Any]:\n",
        "    chat_response: ChatResponse = model.chat(state[\"messages\"], tools=openai_tools)\n",
        "    ai_message: ChatMessage = chat_response.message\n",
        "\n",
        "    pretty_print(\"AI messsaging\", ai_message)\n",
        "\n",
        "    state[\"messages\"].extend([ai_message])\n",
        "    return {\"messages\": state[\"messages\"], \"chat_response\": chat_response}\n",
        "\n",
        "\n",
        "def run_tool(state: GraphState) -> Dict[str, Sequence[ChatMessage]]:\n",
        "    tool_call = state[\"tool_call\"]\n",
        "\n",
        "    func_id: str = tool_call.id\n",
        "    func_name: str = tool_call.function.name\n",
        "    args_json: str = tool_call.function.arguments\n",
        "\n",
        "    func: FunctionTool = func_tools_dict.get(func_name)\n",
        "    res: ToolOutput = func(**json.loads(args_json))\n",
        "\n",
        "    pretty_print(\"Ran tool\", res)\n",
        "\n",
        "    func_message = ChatMessage(\n",
        "        role=MessageRole.TOOL,\n",
        "        content=str(res),\n",
        "        name=func_name,\n",
        "        additional_kwargs={\n",
        "            \"tool_call_id\": func_id,\n",
        "            \"name\": func_name,\n",
        "        },\n",
        "    )\n",
        "\n",
        "    state[\"messages\"].extend([func_message])\n",
        "    return {\"messages\": state[\"messages\"]}"
      ]
    },
    {
      "cell_type": "code",
      "execution_count": 141,
      "metadata": {},
      "outputs": [],
      "source": [
        "workflow = StateGraph(GraphState)\n",
        "\n",
        "workflow.add_node(\"run_agent\", run_agent)\n",
        "workflow.add_node(\"run_tool\", run_tool)\n",
        "\n",
        "workflow.set_entry_point(\"run_agent\")\n",
        "workflow.add_edge(\"run_tool\", \"run_agent\")\n",
        "\n",
        "workflow.add_conditional_edges(\n",
        "    \"run_agent\", # start node name\n",
        "    continue_next, # decision of what to do next AFTER start-node, the input is the output of the start-node\n",
        "    {   # keys: return of continue_next, values: next node to continue\n",
        "        \"to_run_tool\": \"run_tool\",\n",
        "        \"to_finish\": END,\n",
        "    },\n",
        ")\n",
        "\n",
        "app = workflow.compile()"
      ]
    },
    {
      "cell_type": "code",
      "execution_count": 142,
      "metadata": {},
      "outputs": [
        {
          "name": "stdout",
          "output_type": "stream",
          "text": [
            "AI messsaging\n"
          ]
        },
        {
          "data": {
            "text/html": [
              "<pre style=\"white-space:pre;overflow-x:auto;line-height:normal;font-family:Menlo,'DejaVu Sans Mono',consolas,'Courier New',monospace\"><span style=\"color: #800080; text-decoration-color: #800080; font-weight: bold\">ChatMessage</span><span style=\"font-weight: bold\">(</span>\n",
              "<span style=\"color: #7fbf7f; text-decoration-color: #7fbf7f\">│   </span><span style=\"color: #808000; text-decoration-color: #808000\">role</span>=<span style=\"font-weight: bold\">&lt;</span><span style=\"color: #ff00ff; text-decoration-color: #ff00ff; font-weight: bold\">MessageRole.ASSISTANT:</span><span style=\"color: #000000; text-decoration-color: #000000\"> </span><span style=\"color: #008000; text-decoration-color: #008000\">'assistant'</span><span style=\"font-weight: bold\">&gt;</span>,\n",
              "<span style=\"color: #7fbf7f; text-decoration-color: #7fbf7f\">│   </span><span style=\"color: #808000; text-decoration-color: #808000\">content</span>=<span style=\"color: #800080; text-decoration-color: #800080; font-style: italic\">None</span>,\n",
              "<span style=\"color: #7fbf7f; text-decoration-color: #7fbf7f\">│   </span><span style=\"color: #808000; text-decoration-color: #808000\">additional_kwargs</span>=<span style=\"font-weight: bold\">{</span>\n",
              "<span style=\"color: #7fbf7f; text-decoration-color: #7fbf7f\">│   │   </span><span style=\"color: #008000; text-decoration-color: #008000\">'tool_calls'</span>: <span style=\"font-weight: bold\">[</span>\n",
              "<span style=\"color: #7fbf7f; text-decoration-color: #7fbf7f\">│   │   │   </span><span style=\"color: #800080; text-decoration-color: #800080; font-weight: bold\">ChatCompletionMessageToolCall</span><span style=\"font-weight: bold\">(</span>\n",
              "<span style=\"color: #7fbf7f; text-decoration-color: #7fbf7f\">│   │   │   │   </span><span style=\"color: #808000; text-decoration-color: #808000\">id</span>=<span style=\"color: #008000; text-decoration-color: #008000\">'call_BTWuX0GSm42BhIuiUdMoGUeH'</span>,\n",
              "<span style=\"color: #7fbf7f; text-decoration-color: #7fbf7f\">│   │   │   │   </span><span style=\"color: #808000; text-decoration-color: #808000\">function</span>=<span style=\"color: #800080; text-decoration-color: #800080; font-weight: bold\">Function</span><span style=\"font-weight: bold\">(</span><span style=\"color: #808000; text-decoration-color: #808000\">arguments</span>=<span style=\"color: #008000; text-decoration-color: #008000\">'{}'</span>, <span style=\"color: #808000; text-decoration-color: #808000\">name</span>=<span style=\"color: #008000; text-decoration-color: #008000\">'random_joke'</span><span style=\"font-weight: bold\">)</span>,\n",
              "<span style=\"color: #7fbf7f; text-decoration-color: #7fbf7f\">│   │   │   │   </span><span style=\"color: #808000; text-decoration-color: #808000\">type</span>=<span style=\"color: #008000; text-decoration-color: #008000\">'function'</span>\n",
              "<span style=\"color: #7fbf7f; text-decoration-color: #7fbf7f\">│   │   │   </span><span style=\"font-weight: bold\">)</span>\n",
              "<span style=\"color: #7fbf7f; text-decoration-color: #7fbf7f\">│   │   </span><span style=\"font-weight: bold\">]</span>\n",
              "<span style=\"color: #7fbf7f; text-decoration-color: #7fbf7f\">│   </span><span style=\"font-weight: bold\">}</span>\n",
              "<span style=\"font-weight: bold\">)</span>\n",
              "</pre>\n"
            ],
            "text/plain": [
              "\u001b[1;35mChatMessage\u001b[0m\u001b[1m(\u001b[0m\n",
              "\u001b[2;32m│   \u001b[0m\u001b[33mrole\u001b[0m=\u001b[1m<\u001b[0m\u001b[1;95mMessageRole.ASSISTANT:\u001b[0m\u001b[39m \u001b[0m\u001b[32m'assistant'\u001b[0m\u001b[1m>\u001b[0m,\n",
              "\u001b[2;32m│   \u001b[0m\u001b[33mcontent\u001b[0m=\u001b[3;35mNone\u001b[0m,\n",
              "\u001b[2;32m│   \u001b[0m\u001b[33madditional_kwargs\u001b[0m=\u001b[1m{\u001b[0m\n",
              "\u001b[2;32m│   │   \u001b[0m\u001b[32m'tool_calls'\u001b[0m: \u001b[1m[\u001b[0m\n",
              "\u001b[2;32m│   │   │   \u001b[0m\u001b[1;35mChatCompletionMessageToolCall\u001b[0m\u001b[1m(\u001b[0m\n",
              "\u001b[2;32m│   │   │   │   \u001b[0m\u001b[33mid\u001b[0m=\u001b[32m'call_BTWuX0GSm42BhIuiUdMoGUeH'\u001b[0m,\n",
              "\u001b[2;32m│   │   │   │   \u001b[0m\u001b[33mfunction\u001b[0m=\u001b[1;35mFunction\u001b[0m\u001b[1m(\u001b[0m\u001b[33marguments\u001b[0m=\u001b[32m'\u001b[0m\u001b[32m{\u001b[0m\u001b[32m}\u001b[0m\u001b[32m'\u001b[0m, \u001b[33mname\u001b[0m=\u001b[32m'random_joke'\u001b[0m\u001b[1m)\u001b[0m,\n",
              "\u001b[2;32m│   │   │   │   \u001b[0m\u001b[33mtype\u001b[0m=\u001b[32m'function'\u001b[0m\n",
              "\u001b[2;32m│   │   │   \u001b[0m\u001b[1m)\u001b[0m\n",
              "\u001b[2;32m│   │   \u001b[0m\u001b[1m]\u001b[0m\n",
              "\u001b[2;32m│   \u001b[0m\u001b[1m}\u001b[0m\n",
              "\u001b[1m)\u001b[0m\n"
            ]
          },
          "metadata": {},
          "output_type": "display_data"
        },
        {
          "name": "stdout",
          "output_type": "stream",
          "text": [
            "Ran tool\n"
          ]
        },
        {
          "data": {
            "text/html": [
              "<pre style=\"white-space:pre;overflow-x:auto;line-height:normal;font-family:Menlo,'DejaVu Sans Mono',consolas,'Courier New',monospace\"><span style=\"color: #800080; text-decoration-color: #800080; font-weight: bold\">ToolOutput</span><span style=\"font-weight: bold\">(</span>\n",
              "<span style=\"color: #7fbf7f; text-decoration-color: #7fbf7f\">│   </span><span style=\"color: #808000; text-decoration-color: #808000\">content</span>=<span style=\"color: #008000; text-decoration-color: #008000\">\"What do you call a joke that's too long?\\n\\nA longshot!\"</span>,\n",
              "<span style=\"color: #7fbf7f; text-decoration-color: #7fbf7f\">│   </span><span style=\"color: #808000; text-decoration-color: #808000\">tool_name</span>=<span style=\"color: #008000; text-decoration-color: #008000\">'random_joke'</span>,\n",
              "<span style=\"color: #7fbf7f; text-decoration-color: #7fbf7f\">│   </span><span style=\"color: #808000; text-decoration-color: #808000\">raw_input</span>=<span style=\"font-weight: bold\">{</span><span style=\"color: #008000; text-decoration-color: #008000\">'args'</span>: <span style=\"font-weight: bold\">()</span>, <span style=\"color: #008000; text-decoration-color: #008000\">'kwargs'</span>: <span style=\"font-weight: bold\">{}}</span>,\n",
              "<span style=\"color: #7fbf7f; text-decoration-color: #7fbf7f\">│   </span><span style=\"color: #808000; text-decoration-color: #808000\">raw_output</span>=<span style=\"color: #008000; text-decoration-color: #008000\">\"What do you call a joke that's too long?\\n\\nA longshot!\"</span>\n",
              "<span style=\"font-weight: bold\">)</span>\n",
              "</pre>\n"
            ],
            "text/plain": [
              "\u001b[1;35mToolOutput\u001b[0m\u001b[1m(\u001b[0m\n",
              "\u001b[2;32m│   \u001b[0m\u001b[33mcontent\u001b[0m=\u001b[32m\"What\u001b[0m\u001b[32m do you call a joke that's too long?\\n\\nA longshot!\"\u001b[0m,\n",
              "\u001b[2;32m│   \u001b[0m\u001b[33mtool_name\u001b[0m=\u001b[32m'random_joke'\u001b[0m,\n",
              "\u001b[2;32m│   \u001b[0m\u001b[33mraw_input\u001b[0m=\u001b[1m{\u001b[0m\u001b[32m'args'\u001b[0m: \u001b[1m(\u001b[0m\u001b[1m)\u001b[0m, \u001b[32m'kwargs'\u001b[0m: \u001b[1m{\u001b[0m\u001b[1m}\u001b[0m\u001b[1m}\u001b[0m,\n",
              "\u001b[2;32m│   \u001b[0m\u001b[33mraw_output\u001b[0m=\u001b[32m\"What\u001b[0m\u001b[32m do you call a joke that's too long?\\n\\nA longshot!\"\u001b[0m\n",
              "\u001b[1m)\u001b[0m\n"
            ]
          },
          "metadata": {},
          "output_type": "display_data"
        },
        {
          "name": "stdout",
          "output_type": "stream",
          "text": [
            "AI messsaging\n"
          ]
        },
        {
          "data": {
            "text/html": [
              "<pre style=\"white-space:pre;overflow-x:auto;line-height:normal;font-family:Menlo,'DejaVu Sans Mono',consolas,'Courier New',monospace\"><span style=\"color: #800080; text-decoration-color: #800080; font-weight: bold\">ChatMessage</span><span style=\"font-weight: bold\">(</span>\n",
              "<span style=\"color: #7fbf7f; text-decoration-color: #7fbf7f\">│   </span><span style=\"color: #808000; text-decoration-color: #808000\">role</span>=<span style=\"font-weight: bold\">&lt;</span><span style=\"color: #ff00ff; text-decoration-color: #ff00ff; font-weight: bold\">MessageRole.ASSISTANT:</span><span style=\"color: #000000; text-decoration-color: #000000\"> </span><span style=\"color: #008000; text-decoration-color: #008000\">'assistant'</span><span style=\"font-weight: bold\">&gt;</span>,\n",
              "<span style=\"color: #7fbf7f; text-decoration-color: #7fbf7f\">│   </span><span style=\"color: #808000; text-decoration-color: #808000\">content</span>=<span style=\"color: #800080; text-decoration-color: #800080; font-style: italic\">None</span>,\n",
              "<span style=\"color: #7fbf7f; text-decoration-color: #7fbf7f\">│   </span><span style=\"color: #808000; text-decoration-color: #808000\">additional_kwargs</span>=<span style=\"font-weight: bold\">{</span>\n",
              "<span style=\"color: #7fbf7f; text-decoration-color: #7fbf7f\">│   │   </span><span style=\"color: #008000; text-decoration-color: #008000\">'tool_calls'</span>: <span style=\"font-weight: bold\">[</span>\n",
              "<span style=\"color: #7fbf7f; text-decoration-color: #7fbf7f\">│   │   │   </span><span style=\"color: #800080; text-decoration-color: #800080; font-weight: bold\">ChatCompletionMessageToolCall</span><span style=\"font-weight: bold\">(</span>\n",
              "<span style=\"color: #7fbf7f; text-decoration-color: #7fbf7f\">│   │   │   │   </span><span style=\"color: #808000; text-decoration-color: #808000\">id</span>=<span style=\"color: #008000; text-decoration-color: #008000\">'call_VrgXPeweC29ISzxyntac8RCX'</span>,\n",
              "<span style=\"color: #7fbf7f; text-decoration-color: #7fbf7f\">│   │   │   │   </span><span style=\"color: #808000; text-decoration-color: #808000\">function</span>=<span style=\"color: #800080; text-decoration-color: #800080; font-weight: bold\">Function</span><span style=\"font-weight: bold\">(</span>\n",
              "<span style=\"color: #7fbf7f; text-decoration-color: #7fbf7f\">│   │   │   │   │   </span><span style=\"color: #808000; text-decoration-color: #808000\">arguments</span>=<span style=\"color: #008000; text-decoration-color: #008000\">'{\"string\":\"What do you call a joke that\\'s too long?\\\\n\\\\nA longshot!\"}'</span>,\n",
              "<span style=\"color: #7fbf7f; text-decoration-color: #7fbf7f\">│   │   │   │   │   </span><span style=\"color: #808000; text-decoration-color: #808000\">name</span>=<span style=\"color: #008000; text-decoration-color: #008000\">'translate'</span>\n",
              "<span style=\"color: #7fbf7f; text-decoration-color: #7fbf7f\">│   │   │   │   </span><span style=\"font-weight: bold\">)</span>,\n",
              "<span style=\"color: #7fbf7f; text-decoration-color: #7fbf7f\">│   │   │   │   </span><span style=\"color: #808000; text-decoration-color: #808000\">type</span>=<span style=\"color: #008000; text-decoration-color: #008000\">'function'</span>\n",
              "<span style=\"color: #7fbf7f; text-decoration-color: #7fbf7f\">│   │   │   </span><span style=\"font-weight: bold\">)</span>\n",
              "<span style=\"color: #7fbf7f; text-decoration-color: #7fbf7f\">│   │   </span><span style=\"font-weight: bold\">]</span>\n",
              "<span style=\"color: #7fbf7f; text-decoration-color: #7fbf7f\">│   </span><span style=\"font-weight: bold\">}</span>\n",
              "<span style=\"font-weight: bold\">)</span>\n",
              "</pre>\n"
            ],
            "text/plain": [
              "\u001b[1;35mChatMessage\u001b[0m\u001b[1m(\u001b[0m\n",
              "\u001b[2;32m│   \u001b[0m\u001b[33mrole\u001b[0m=\u001b[1m<\u001b[0m\u001b[1;95mMessageRole.ASSISTANT:\u001b[0m\u001b[39m \u001b[0m\u001b[32m'assistant'\u001b[0m\u001b[1m>\u001b[0m,\n",
              "\u001b[2;32m│   \u001b[0m\u001b[33mcontent\u001b[0m=\u001b[3;35mNone\u001b[0m,\n",
              "\u001b[2;32m│   \u001b[0m\u001b[33madditional_kwargs\u001b[0m=\u001b[1m{\u001b[0m\n",
              "\u001b[2;32m│   │   \u001b[0m\u001b[32m'tool_calls'\u001b[0m: \u001b[1m[\u001b[0m\n",
              "\u001b[2;32m│   │   │   \u001b[0m\u001b[1;35mChatCompletionMessageToolCall\u001b[0m\u001b[1m(\u001b[0m\n",
              "\u001b[2;32m│   │   │   │   \u001b[0m\u001b[33mid\u001b[0m=\u001b[32m'call_VrgXPeweC29ISzxyntac8RCX'\u001b[0m,\n",
              "\u001b[2;32m│   │   │   │   \u001b[0m\u001b[33mfunction\u001b[0m=\u001b[1;35mFunction\u001b[0m\u001b[1m(\u001b[0m\n",
              "\u001b[2;32m│   │   │   │   │   \u001b[0m\u001b[33marguments\u001b[0m=\u001b[32m'\u001b[0m\u001b[32m{\u001b[0m\u001b[32m\"string\":\"What do you call a joke that\\'s too long?\\\\n\\\\nA longshot!\"\u001b[0m\u001b[32m}\u001b[0m\u001b[32m'\u001b[0m,\n",
              "\u001b[2;32m│   │   │   │   │   \u001b[0m\u001b[33mname\u001b[0m=\u001b[32m'translate'\u001b[0m\n",
              "\u001b[2;32m│   │   │   │   \u001b[0m\u001b[1m)\u001b[0m,\n",
              "\u001b[2;32m│   │   │   │   \u001b[0m\u001b[33mtype\u001b[0m=\u001b[32m'function'\u001b[0m\n",
              "\u001b[2;32m│   │   │   \u001b[0m\u001b[1m)\u001b[0m\n",
              "\u001b[2;32m│   │   \u001b[0m\u001b[1m]\u001b[0m\n",
              "\u001b[2;32m│   \u001b[0m\u001b[1m}\u001b[0m\n",
              "\u001b[1m)\u001b[0m\n"
            ]
          },
          "metadata": {},
          "output_type": "display_data"
        },
        {
          "name": "stdout",
          "output_type": "stream",
          "text": [
            "Ran tool\n"
          ]
        },
        {
          "data": {
            "text/html": [
              "<pre style=\"white-space:pre;overflow-x:auto;line-height:normal;font-family:Menlo,'DejaVu Sans Mono',consolas,'Courier New',monospace\"><span style=\"color: #800080; text-decoration-color: #800080; font-weight: bold\">ToolOutput</span><span style=\"font-weight: bold\">(</span>\n",
              "<span style=\"color: #7fbf7f; text-decoration-color: #7fbf7f\">│   </span><span style=\"color: #808000; text-decoration-color: #808000\">content</span>=<span style=\"color: #008000; text-decoration-color: #008000\">'Longshot。\\n\\nThis is a slang term for a joke that is too long.'</span>,\n",
              "<span style=\"color: #7fbf7f; text-decoration-color: #7fbf7f\">│   </span><span style=\"color: #808000; text-decoration-color: #808000\">tool_name</span>=<span style=\"color: #008000; text-decoration-color: #008000\">'translate'</span>,\n",
              "<span style=\"color: #7fbf7f; text-decoration-color: #7fbf7f\">│   </span><span style=\"color: #808000; text-decoration-color: #808000\">raw_input</span>=<span style=\"font-weight: bold\">{</span><span style=\"color: #008000; text-decoration-color: #008000\">'args'</span>: <span style=\"font-weight: bold\">()</span>, <span style=\"color: #008000; text-decoration-color: #008000\">'kwargs'</span>: <span style=\"font-weight: bold\">{</span><span style=\"color: #008000; text-decoration-color: #008000\">'string'</span>: <span style=\"color: #008000; text-decoration-color: #008000\">\"What do you call a joke that's too long?\\n\\nA longshot!\"</span><span style=\"font-weight: bold\">}}</span>,\n",
              "<span style=\"color: #7fbf7f; text-decoration-color: #7fbf7f\">│   </span><span style=\"color: #808000; text-decoration-color: #808000\">raw_output</span>=<span style=\"color: #008000; text-decoration-color: #008000\">'Longshot。\\n\\nThis is a slang term for a joke that is too long.'</span>\n",
              "<span style=\"font-weight: bold\">)</span>\n",
              "</pre>\n"
            ],
            "text/plain": [
              "\u001b[1;35mToolOutput\u001b[0m\u001b[1m(\u001b[0m\n",
              "\u001b[2;32m│   \u001b[0m\u001b[33mcontent\u001b[0m=\u001b[32m'Longshot。\\n\\nThis is a slang term for a joke that is too long.'\u001b[0m,\n",
              "\u001b[2;32m│   \u001b[0m\u001b[33mtool_name\u001b[0m=\u001b[32m'translate'\u001b[0m,\n",
              "\u001b[2;32m│   \u001b[0m\u001b[33mraw_input\u001b[0m=\u001b[1m{\u001b[0m\u001b[32m'args'\u001b[0m: \u001b[1m(\u001b[0m\u001b[1m)\u001b[0m, \u001b[32m'kwargs'\u001b[0m: \u001b[1m{\u001b[0m\u001b[32m'string'\u001b[0m: \u001b[32m\"What do you call a joke that's too long?\\n\\nA longshot!\"\u001b[0m\u001b[1m}\u001b[0m\u001b[1m}\u001b[0m,\n",
              "\u001b[2;32m│   \u001b[0m\u001b[33mraw_output\u001b[0m=\u001b[32m'Longshot。\\n\\nThis is a slang term for a joke that is too long.'\u001b[0m\n",
              "\u001b[1m)\u001b[0m\n"
            ]
          },
          "metadata": {},
          "output_type": "display_data"
        },
        {
          "name": "stdout",
          "output_type": "stream",
          "text": [
            "AI messsaging\n"
          ]
        },
        {
          "data": {
            "text/html": [
              "<pre style=\"white-space:pre;overflow-x:auto;line-height:normal;font-family:Menlo,'DejaVu Sans Mono',consolas,'Courier New',monospace\"><span style=\"color: #800080; text-decoration-color: #800080; font-weight: bold\">ChatMessage</span><span style=\"font-weight: bold\">(</span><span style=\"color: #808000; text-decoration-color: #808000\">role</span>=<span style=\"font-weight: bold\">&lt;</span><span style=\"color: #ff00ff; text-decoration-color: #ff00ff; font-weight: bold\">MessageRole.ASSISTANT:</span><span style=\"color: #000000; text-decoration-color: #000000\"> </span><span style=\"color: #008000; text-decoration-color: #008000\">'assistant'</span><span style=\"font-weight: bold\">&gt;</span>, <span style=\"color: #808000; text-decoration-color: #808000\">content</span>=<span style=\"color: #008000; text-decoration-color: #008000\">'长篇大论。'</span>, <span style=\"color: #808000; text-decoration-color: #808000\">additional_kwargs</span>=<span style=\"font-weight: bold\">{})</span>\n",
              "</pre>\n"
            ],
            "text/plain": [
              "\u001b[1;35mChatMessage\u001b[0m\u001b[1m(\u001b[0m\u001b[33mrole\u001b[0m=\u001b[1m<\u001b[0m\u001b[1;95mMessageRole.ASSISTANT:\u001b[0m\u001b[39m \u001b[0m\u001b[32m'assistant'\u001b[0m\u001b[1m>\u001b[0m, \u001b[33mcontent\u001b[0m=\u001b[32m'长篇大论。'\u001b[0m, \u001b[33madditional_kwargs\u001b[0m=\u001b[1m{\u001b[0m\u001b[1m}\u001b[0m\u001b[1m)\u001b[0m\n"
            ]
          },
          "metadata": {},
          "output_type": "display_data"
        },
        {
          "name": "stdout",
          "output_type": "stream",
          "text": [
            "Result:\n"
          ]
        },
        {
          "data": {
            "text/html": [
              "<pre style=\"white-space:pre;overflow-x:auto;line-height:normal;font-family:Menlo,'DejaVu Sans Mono',consolas,'Courier New',monospace\"><span style=\"font-weight: bold\">{</span>\n",
              "<span style=\"color: #7fbf7f; text-decoration-color: #7fbf7f\">│   </span><span style=\"color: #008000; text-decoration-color: #008000\">'messages'</span>: <span style=\"font-weight: bold\">[</span>\n",
              "<span style=\"color: #7fbf7f; text-decoration-color: #7fbf7f\">│   │   </span><span style=\"color: #800080; text-decoration-color: #800080; font-weight: bold\">ChatMessage</span><span style=\"font-weight: bold\">(</span>\n",
              "<span style=\"color: #7fbf7f; text-decoration-color: #7fbf7f\">│   │   │   </span><span style=\"color: #808000; text-decoration-color: #808000\">role</span>=<span style=\"font-weight: bold\">&lt;</span><span style=\"color: #ff00ff; text-decoration-color: #ff00ff; font-weight: bold\">MessageRole.SYSTEM:</span><span style=\"color: #000000; text-decoration-color: #000000\"> </span><span style=\"color: #008000; text-decoration-color: #008000\">'system'</span><span style=\"color: #000000; text-decoration-color: #000000\">&gt;,</span>\n",
              "<span style=\"color: #7fbf7f; text-decoration-color: #7fbf7f\">│   │   │   </span><span style=\"color: #808000; text-decoration-color: #808000\">content</span><span style=\"color: #000000; text-decoration-color: #000000\">=</span><span style=\"color: #008000; text-decoration-color: #008000\">'You are an assisant to perform the user input.'</span><span style=\"color: #000000; text-decoration-color: #000000\">,</span>\n",
              "<span style=\"color: #7fbf7f; text-decoration-color: #7fbf7f\">│   │   │   </span><span style=\"color: #808000; text-decoration-color: #808000\">additional_kwargs</span><span style=\"color: #000000; text-decoration-color: #000000\">=</span><span style=\"color: #000000; text-decoration-color: #000000; font-weight: bold\">{}</span>\n",
              "<span style=\"color: #7fbf7f; text-decoration-color: #7fbf7f\">│   │   </span><span style=\"color: #000000; text-decoration-color: #000000; font-weight: bold\">)</span><span style=\"color: #000000; text-decoration-color: #000000\">,</span>\n",
              "<span style=\"color: #7fbf7f; text-decoration-color: #7fbf7f\">│   │   </span><span style=\"color: #800080; text-decoration-color: #800080; font-weight: bold\">ChatMessage</span><span style=\"color: #000000; text-decoration-color: #000000; font-weight: bold\">(</span>\n",
              "<span style=\"color: #7fbf7f; text-decoration-color: #7fbf7f\">│   │   │   </span><span style=\"color: #808000; text-decoration-color: #808000\">role</span><span style=\"color: #000000; text-decoration-color: #000000\">=&lt;MessageRole.USER: </span><span style=\"color: #008000; text-decoration-color: #008000\">'user'</span><span style=\"color: #000000; text-decoration-color: #000000\">&gt;,</span>\n",
              "<span style=\"color: #7fbf7f; text-decoration-color: #7fbf7f\">│   │   │   </span><span style=\"color: #808000; text-decoration-color: #808000\">content</span><span style=\"color: #000000; text-decoration-color: #000000\">=</span><span style=\"color: #008000; text-decoration-color: #008000\">'\\nPlease create a random joke and provide the translated result in Simplified Chinese\\nwithout the original language, the final result should have no newlines, empty spaces, or instruction information text.\\n'</span><span style=\"color: #000000; text-decoration-color: #000000\">,</span>\n",
              "<span style=\"color: #7fbf7f; text-decoration-color: #7fbf7f\">│   │   │   </span><span style=\"color: #808000; text-decoration-color: #808000\">additional_kwargs</span><span style=\"color: #000000; text-decoration-color: #000000\">=</span><span style=\"color: #000000; text-decoration-color: #000000; font-weight: bold\">{}</span>\n",
              "<span style=\"color: #7fbf7f; text-decoration-color: #7fbf7f\">│   │   </span><span style=\"color: #000000; text-decoration-color: #000000; font-weight: bold\">)</span><span style=\"color: #000000; text-decoration-color: #000000\">,</span>\n",
              "<span style=\"color: #7fbf7f; text-decoration-color: #7fbf7f\">│   │   </span><span style=\"color: #800080; text-decoration-color: #800080; font-weight: bold\">ChatMessage</span><span style=\"color: #000000; text-decoration-color: #000000; font-weight: bold\">(</span>\n",
              "<span style=\"color: #7fbf7f; text-decoration-color: #7fbf7f\">│   │   │   </span><span style=\"color: #808000; text-decoration-color: #808000\">role</span><span style=\"color: #000000; text-decoration-color: #000000\">=&lt;MessageRole.ASSISTANT: </span><span style=\"color: #008000; text-decoration-color: #008000\">'assistant'</span><span style=\"color: #000000; text-decoration-color: #000000\">&gt;,</span>\n",
              "<span style=\"color: #7fbf7f; text-decoration-color: #7fbf7f\">│   │   │   </span><span style=\"color: #808000; text-decoration-color: #808000\">content</span><span style=\"color: #000000; text-decoration-color: #000000\">=</span><span style=\"color: #800080; text-decoration-color: #800080; font-style: italic\">None</span><span style=\"color: #000000; text-decoration-color: #000000\">,</span>\n",
              "<span style=\"color: #7fbf7f; text-decoration-color: #7fbf7f\">│   │   │   </span><span style=\"color: #808000; text-decoration-color: #808000\">additional_kwargs</span><span style=\"color: #000000; text-decoration-color: #000000\">=</span><span style=\"color: #000000; text-decoration-color: #000000; font-weight: bold\">{</span>\n",
              "<span style=\"color: #7fbf7f; text-decoration-color: #7fbf7f\">│   │   │   │   </span><span style=\"color: #008000; text-decoration-color: #008000\">'tool_calls'</span><span style=\"color: #000000; text-decoration-color: #000000\">: </span><span style=\"color: #000000; text-decoration-color: #000000; font-weight: bold\">[</span>\n",
              "<span style=\"color: #7fbf7f; text-decoration-color: #7fbf7f\">│   │   │   │   │   </span><span style=\"color: #800080; text-decoration-color: #800080; font-weight: bold\">ChatCompletionMessageToolCall</span><span style=\"color: #000000; text-decoration-color: #000000; font-weight: bold\">(</span>\n",
              "<span style=\"color: #7fbf7f; text-decoration-color: #7fbf7f\">│   │   │   │   │   │   </span><span style=\"color: #808000; text-decoration-color: #808000\">id</span><span style=\"color: #000000; text-decoration-color: #000000\">=</span><span style=\"color: #008000; text-decoration-color: #008000\">'call_BTWuX0GSm42BhIuiUdMoGUeH'</span><span style=\"color: #000000; text-decoration-color: #000000\">,</span>\n",
              "<span style=\"color: #7fbf7f; text-decoration-color: #7fbf7f\">│   │   │   │   │   │   </span><span style=\"color: #808000; text-decoration-color: #808000\">function</span><span style=\"color: #000000; text-decoration-color: #000000\">=</span><span style=\"color: #800080; text-decoration-color: #800080; font-weight: bold\">Function</span><span style=\"color: #000000; text-decoration-color: #000000; font-weight: bold\">(</span><span style=\"color: #808000; text-decoration-color: #808000\">arguments</span><span style=\"color: #000000; text-decoration-color: #000000\">=</span><span style=\"color: #008000; text-decoration-color: #008000\">'{}'</span><span style=\"color: #000000; text-decoration-color: #000000\">, </span><span style=\"color: #808000; text-decoration-color: #808000\">name</span><span style=\"color: #000000; text-decoration-color: #000000\">=</span><span style=\"color: #008000; text-decoration-color: #008000\">'random_joke'</span><span style=\"color: #000000; text-decoration-color: #000000; font-weight: bold\">)</span><span style=\"color: #000000; text-decoration-color: #000000\">,</span>\n",
              "<span style=\"color: #7fbf7f; text-decoration-color: #7fbf7f\">│   │   │   │   │   │   </span><span style=\"color: #808000; text-decoration-color: #808000\">type</span><span style=\"color: #000000; text-decoration-color: #000000\">=</span><span style=\"color: #008000; text-decoration-color: #008000\">'function'</span>\n",
              "<span style=\"color: #7fbf7f; text-decoration-color: #7fbf7f\">│   │   │   │   │   </span><span style=\"color: #000000; text-decoration-color: #000000; font-weight: bold\">)</span>\n",
              "<span style=\"color: #7fbf7f; text-decoration-color: #7fbf7f\">│   │   │   │   </span><span style=\"color: #000000; text-decoration-color: #000000; font-weight: bold\">]</span>\n",
              "<span style=\"color: #7fbf7f; text-decoration-color: #7fbf7f\">│   │   │   </span><span style=\"color: #000000; text-decoration-color: #000000; font-weight: bold\">}</span>\n",
              "<span style=\"color: #7fbf7f; text-decoration-color: #7fbf7f\">│   │   </span><span style=\"color: #000000; text-decoration-color: #000000; font-weight: bold\">)</span><span style=\"color: #000000; text-decoration-color: #000000\">,</span>\n",
              "<span style=\"color: #7fbf7f; text-decoration-color: #7fbf7f\">│   │   </span><span style=\"color: #800080; text-decoration-color: #800080; font-weight: bold\">ChatMessage</span><span style=\"color: #000000; text-decoration-color: #000000; font-weight: bold\">(</span>\n",
              "<span style=\"color: #7fbf7f; text-decoration-color: #7fbf7f\">│   │   │   </span><span style=\"color: #808000; text-decoration-color: #808000\">role</span><span style=\"color: #000000; text-decoration-color: #000000\">=&lt;MessageRole.TOOL: </span><span style=\"color: #008000; text-decoration-color: #008000\">'tool'</span><span style=\"color: #000000; text-decoration-color: #000000\">&gt;,</span>\n",
              "<span style=\"color: #7fbf7f; text-decoration-color: #7fbf7f\">│   │   │   </span><span style=\"color: #808000; text-decoration-color: #808000\">content</span><span style=\"color: #000000; text-decoration-color: #000000\">=</span><span style=\"color: #008000; text-decoration-color: #008000\">\"What do you call a joke that's too long?\\n\\nA longshot!\"</span><span style=\"color: #000000; text-decoration-color: #000000\">,</span>\n",
              "<span style=\"color: #7fbf7f; text-decoration-color: #7fbf7f\">│   │   │   </span><span style=\"color: #808000; text-decoration-color: #808000\">additional_kwargs</span><span style=\"color: #000000; text-decoration-color: #000000\">=</span><span style=\"color: #000000; text-decoration-color: #000000; font-weight: bold\">{</span><span style=\"color: #008000; text-decoration-color: #008000\">'tool_call_id'</span><span style=\"color: #000000; text-decoration-color: #000000\">: </span><span style=\"color: #008000; text-decoration-color: #008000\">'call_BTWuX0GSm42BhIuiUdMoGUeH'</span><span style=\"color: #000000; text-decoration-color: #000000\">, </span><span style=\"color: #008000; text-decoration-color: #008000\">'name'</span><span style=\"color: #000000; text-decoration-color: #000000\">: </span><span style=\"color: #008000; text-decoration-color: #008000\">'random_joke'</span><span style=\"color: #000000; text-decoration-color: #000000; font-weight: bold\">}</span>\n",
              "<span style=\"color: #7fbf7f; text-decoration-color: #7fbf7f\">│   │   </span><span style=\"color: #000000; text-decoration-color: #000000; font-weight: bold\">)</span><span style=\"color: #000000; text-decoration-color: #000000\">,</span>\n",
              "<span style=\"color: #7fbf7f; text-decoration-color: #7fbf7f\">│   │   </span><span style=\"color: #800080; text-decoration-color: #800080; font-weight: bold\">ChatMessage</span><span style=\"color: #000000; text-decoration-color: #000000; font-weight: bold\">(</span>\n",
              "<span style=\"color: #7fbf7f; text-decoration-color: #7fbf7f\">│   │   │   </span><span style=\"color: #808000; text-decoration-color: #808000\">role</span><span style=\"color: #000000; text-decoration-color: #000000\">=&lt;MessageRole.ASSISTANT: </span><span style=\"color: #008000; text-decoration-color: #008000\">'assistant'</span><span style=\"color: #000000; text-decoration-color: #000000\">&gt;,</span>\n",
              "<span style=\"color: #7fbf7f; text-decoration-color: #7fbf7f\">│   │   │   </span><span style=\"color: #808000; text-decoration-color: #808000\">content</span><span style=\"color: #000000; text-decoration-color: #000000\">=</span><span style=\"color: #800080; text-decoration-color: #800080; font-style: italic\">None</span><span style=\"color: #000000; text-decoration-color: #000000\">,</span>\n",
              "<span style=\"color: #7fbf7f; text-decoration-color: #7fbf7f\">│   │   │   </span><span style=\"color: #808000; text-decoration-color: #808000\">additional_kwargs</span><span style=\"color: #000000; text-decoration-color: #000000\">=</span><span style=\"color: #000000; text-decoration-color: #000000; font-weight: bold\">{</span>\n",
              "<span style=\"color: #7fbf7f; text-decoration-color: #7fbf7f\">│   │   │   │   </span><span style=\"color: #008000; text-decoration-color: #008000\">'tool_calls'</span><span style=\"color: #000000; text-decoration-color: #000000\">: </span><span style=\"color: #000000; text-decoration-color: #000000; font-weight: bold\">[</span>\n",
              "<span style=\"color: #7fbf7f; text-decoration-color: #7fbf7f\">│   │   │   │   │   </span><span style=\"color: #800080; text-decoration-color: #800080; font-weight: bold\">ChatCompletionMessageToolCall</span><span style=\"color: #000000; text-decoration-color: #000000; font-weight: bold\">(</span>\n",
              "<span style=\"color: #7fbf7f; text-decoration-color: #7fbf7f\">│   │   │   │   │   │   </span><span style=\"color: #808000; text-decoration-color: #808000\">id</span><span style=\"color: #000000; text-decoration-color: #000000\">=</span><span style=\"color: #008000; text-decoration-color: #008000\">'call_VrgXPeweC29ISzxyntac8RCX'</span><span style=\"color: #000000; text-decoration-color: #000000\">,</span>\n",
              "<span style=\"color: #7fbf7f; text-decoration-color: #7fbf7f\">│   │   │   │   │   │   </span><span style=\"color: #808000; text-decoration-color: #808000\">function</span><span style=\"color: #000000; text-decoration-color: #000000\">=</span><span style=\"color: #800080; text-decoration-color: #800080; font-weight: bold\">Function</span><span style=\"color: #000000; text-decoration-color: #000000; font-weight: bold\">(</span>\n",
              "<span style=\"color: #7fbf7f; text-decoration-color: #7fbf7f\">│   │   │   │   │   │   │   </span><span style=\"color: #808000; text-decoration-color: #808000\">arguments</span><span style=\"color: #000000; text-decoration-color: #000000\">=</span><span style=\"color: #008000; text-decoration-color: #008000\">'{\"string\":\"What do you call a joke that\\'s too long?\\\\n\\\\nA longshot!\"}'</span><span style=\"color: #000000; text-decoration-color: #000000\">,</span>\n",
              "<span style=\"color: #7fbf7f; text-decoration-color: #7fbf7f\">│   │   │   │   │   │   │   </span><span style=\"color: #808000; text-decoration-color: #808000\">name</span><span style=\"color: #000000; text-decoration-color: #000000\">=</span><span style=\"color: #008000; text-decoration-color: #008000\">'translate'</span>\n",
              "<span style=\"color: #7fbf7f; text-decoration-color: #7fbf7f\">│   │   │   │   │   │   </span><span style=\"color: #000000; text-decoration-color: #000000; font-weight: bold\">)</span><span style=\"color: #000000; text-decoration-color: #000000\">,</span>\n",
              "<span style=\"color: #7fbf7f; text-decoration-color: #7fbf7f\">│   │   │   │   │   │   </span><span style=\"color: #808000; text-decoration-color: #808000\">type</span><span style=\"color: #000000; text-decoration-color: #000000\">=</span><span style=\"color: #008000; text-decoration-color: #008000\">'function'</span>\n",
              "<span style=\"color: #7fbf7f; text-decoration-color: #7fbf7f\">│   │   │   │   │   </span><span style=\"color: #000000; text-decoration-color: #000000; font-weight: bold\">)</span>\n",
              "<span style=\"color: #7fbf7f; text-decoration-color: #7fbf7f\">│   │   │   │   </span><span style=\"color: #000000; text-decoration-color: #000000; font-weight: bold\">]</span>\n",
              "<span style=\"color: #7fbf7f; text-decoration-color: #7fbf7f\">│   │   │   </span><span style=\"color: #000000; text-decoration-color: #000000; font-weight: bold\">}</span>\n",
              "<span style=\"color: #7fbf7f; text-decoration-color: #7fbf7f\">│   │   </span><span style=\"color: #000000; text-decoration-color: #000000; font-weight: bold\">)</span><span style=\"color: #000000; text-decoration-color: #000000\">,</span>\n",
              "<span style=\"color: #7fbf7f; text-decoration-color: #7fbf7f\">│   │   </span><span style=\"color: #800080; text-decoration-color: #800080; font-weight: bold\">ChatMessage</span><span style=\"color: #000000; text-decoration-color: #000000; font-weight: bold\">(</span>\n",
              "<span style=\"color: #7fbf7f; text-decoration-color: #7fbf7f\">│   │   │   </span><span style=\"color: #808000; text-decoration-color: #808000\">role</span><span style=\"color: #000000; text-decoration-color: #000000\">=&lt;MessageRole.TOOL: </span><span style=\"color: #008000; text-decoration-color: #008000\">'tool'</span><span style=\"color: #000000; text-decoration-color: #000000\">&gt;,</span>\n",
              "<span style=\"color: #7fbf7f; text-decoration-color: #7fbf7f\">│   │   │   </span><span style=\"color: #808000; text-decoration-color: #808000\">content</span><span style=\"color: #000000; text-decoration-color: #000000\">=</span><span style=\"color: #008000; text-decoration-color: #008000\">'Longshot。\\n\\nThis is a slang term for a joke that is too long.'</span><span style=\"color: #000000; text-decoration-color: #000000\">,</span>\n",
              "<span style=\"color: #7fbf7f; text-decoration-color: #7fbf7f\">│   │   │   </span><span style=\"color: #808000; text-decoration-color: #808000\">additional_kwargs</span><span style=\"color: #000000; text-decoration-color: #000000\">=</span><span style=\"color: #000000; text-decoration-color: #000000; font-weight: bold\">{</span><span style=\"color: #008000; text-decoration-color: #008000\">'tool_call_id'</span><span style=\"color: #000000; text-decoration-color: #000000\">: </span><span style=\"color: #008000; text-decoration-color: #008000\">'call_VrgXPeweC29ISzxyntac8RCX'</span><span style=\"color: #000000; text-decoration-color: #000000\">, </span><span style=\"color: #008000; text-decoration-color: #008000\">'name'</span><span style=\"color: #000000; text-decoration-color: #000000\">: </span><span style=\"color: #008000; text-decoration-color: #008000\">'translate'</span><span style=\"color: #000000; text-decoration-color: #000000; font-weight: bold\">}</span>\n",
              "<span style=\"color: #7fbf7f; text-decoration-color: #7fbf7f\">│   │   </span><span style=\"color: #000000; text-decoration-color: #000000; font-weight: bold\">)</span><span style=\"color: #000000; text-decoration-color: #000000\">,</span>\n",
              "<span style=\"color: #7fbf7f; text-decoration-color: #7fbf7f\">│   │   </span><span style=\"color: #800080; text-decoration-color: #800080; font-weight: bold\">ChatMessage</span><span style=\"color: #000000; text-decoration-color: #000000; font-weight: bold\">(</span><span style=\"color: #808000; text-decoration-color: #808000\">role</span><span style=\"color: #000000; text-decoration-color: #000000\">=&lt;MessageRole.ASSISTANT: </span><span style=\"color: #008000; text-decoration-color: #008000\">'assistant'</span><span style=\"color: #000000; text-decoration-color: #000000\">&gt;, </span><span style=\"color: #808000; text-decoration-color: #808000\">content</span><span style=\"color: #000000; text-decoration-color: #000000\">=</span><span style=\"color: #008000; text-decoration-color: #008000\">'长篇大论。'</span><span style=\"color: #000000; text-decoration-color: #000000\">, </span><span style=\"color: #808000; text-decoration-color: #808000\">additional_kwargs</span><span style=\"color: #000000; text-decoration-color: #000000\">=</span><span style=\"color: #000000; text-decoration-color: #000000; font-weight: bold\">{})</span>\n",
              "<span style=\"color: #7fbf7f; text-decoration-color: #7fbf7f\">│   </span><span style=\"color: #000000; text-decoration-color: #000000; font-weight: bold\">]</span><span style=\"color: #000000; text-decoration-color: #000000\">,</span>\n",
              "<span style=\"color: #7fbf7f; text-decoration-color: #7fbf7f\">│   </span><span style=\"color: #008000; text-decoration-color: #008000\">'chat_response'</span><span style=\"color: #000000; text-decoration-color: #000000\">: </span><span style=\"color: #800080; text-decoration-color: #800080; font-weight: bold\">ChatResponse</span><span style=\"color: #000000; text-decoration-color: #000000; font-weight: bold\">(</span>\n",
              "<span style=\"color: #7fbf7f; text-decoration-color: #7fbf7f\">│   │   </span><span style=\"color: #808000; text-decoration-color: #808000\">message</span><span style=\"color: #000000; text-decoration-color: #000000\">=</span><span style=\"color: #800080; text-decoration-color: #800080; font-weight: bold\">ChatMessage</span><span style=\"color: #000000; text-decoration-color: #000000; font-weight: bold\">(</span>\n",
              "<span style=\"color: #7fbf7f; text-decoration-color: #7fbf7f\">│   │   │   </span><span style=\"color: #808000; text-decoration-color: #808000\">role</span><span style=\"color: #000000; text-decoration-color: #000000\">=&lt;MessageRole.ASSISTANT: </span><span style=\"color: #008000; text-decoration-color: #008000\">'assistant'</span><span style=\"font-weight: bold\">&gt;</span>,\n",
              "<span style=\"color: #7fbf7f; text-decoration-color: #7fbf7f\">│   │   │   </span><span style=\"color: #808000; text-decoration-color: #808000\">content</span>=<span style=\"color: #008000; text-decoration-color: #008000\">'长篇大论。'</span>,\n",
              "<span style=\"color: #7fbf7f; text-decoration-color: #7fbf7f\">│   │   │   </span><span style=\"color: #808000; text-decoration-color: #808000\">additional_kwargs</span>=<span style=\"font-weight: bold\">{}</span>\n",
              "<span style=\"color: #7fbf7f; text-decoration-color: #7fbf7f\">│   │   </span><span style=\"font-weight: bold\">)</span>,\n",
              "<span style=\"color: #7fbf7f; text-decoration-color: #7fbf7f\">│   │   </span><span style=\"color: #808000; text-decoration-color: #808000\">raw</span>=<span style=\"font-weight: bold\">{</span>\n",
              "<span style=\"color: #7fbf7f; text-decoration-color: #7fbf7f\">│   │   │   </span><span style=\"color: #008000; text-decoration-color: #008000\">'id'</span>: <span style=\"color: #008000; text-decoration-color: #008000\">'chatcmpl-8zW95VDlrnf0r7niOLlFDn046debK'</span>,\n",
              "<span style=\"color: #7fbf7f; text-decoration-color: #7fbf7f\">│   │   │   </span><span style=\"color: #008000; text-decoration-color: #008000\">'choices'</span>: <span style=\"font-weight: bold\">[</span>\n",
              "<span style=\"color: #7fbf7f; text-decoration-color: #7fbf7f\">│   │   │   │   </span><span style=\"color: #800080; text-decoration-color: #800080; font-weight: bold\">Choice</span><span style=\"font-weight: bold\">(</span>\n",
              "<span style=\"color: #7fbf7f; text-decoration-color: #7fbf7f\">│   │   │   │   │   </span><span style=\"color: #808000; text-decoration-color: #808000\">finish_reason</span>=<span style=\"color: #008000; text-decoration-color: #008000\">'stop'</span>,\n",
              "<span style=\"color: #7fbf7f; text-decoration-color: #7fbf7f\">│   │   │   │   │   </span><span style=\"color: #808000; text-decoration-color: #808000\">index</span>=<span style=\"color: #008080; text-decoration-color: #008080; font-weight: bold\">0</span>,\n",
              "<span style=\"color: #7fbf7f; text-decoration-color: #7fbf7f\">│   │   │   │   │   </span><span style=\"color: #808000; text-decoration-color: #808000\">logprobs</span>=<span style=\"color: #800080; text-decoration-color: #800080; font-style: italic\">None</span>,\n",
              "<span style=\"color: #7fbf7f; text-decoration-color: #7fbf7f\">│   │   │   │   │   </span><span style=\"color: #808000; text-decoration-color: #808000\">message</span>=<span style=\"color: #800080; text-decoration-color: #800080; font-weight: bold\">ChatCompletionMessage</span><span style=\"font-weight: bold\">(</span>\n",
              "<span style=\"color: #7fbf7f; text-decoration-color: #7fbf7f\">│   │   │   │   │   │   </span><span style=\"color: #808000; text-decoration-color: #808000\">content</span>=<span style=\"color: #008000; text-decoration-color: #008000\">'长篇大论。'</span>,\n",
              "<span style=\"color: #7fbf7f; text-decoration-color: #7fbf7f\">│   │   │   │   │   │   </span><span style=\"color: #808000; text-decoration-color: #808000\">role</span>=<span style=\"color: #008000; text-decoration-color: #008000\">'assistant'</span>,\n",
              "<span style=\"color: #7fbf7f; text-decoration-color: #7fbf7f\">│   │   │   │   │   │   </span><span style=\"color: #808000; text-decoration-color: #808000\">function_call</span>=<span style=\"color: #800080; text-decoration-color: #800080; font-style: italic\">None</span>,\n",
              "<span style=\"color: #7fbf7f; text-decoration-color: #7fbf7f\">│   │   │   │   │   │   </span><span style=\"color: #808000; text-decoration-color: #808000\">tool_calls</span>=<span style=\"color: #800080; text-decoration-color: #800080; font-style: italic\">None</span>\n",
              "<span style=\"color: #7fbf7f; text-decoration-color: #7fbf7f\">│   │   │   │   │   </span><span style=\"font-weight: bold\">)</span>\n",
              "<span style=\"color: #7fbf7f; text-decoration-color: #7fbf7f\">│   │   │   │   </span><span style=\"font-weight: bold\">)</span>\n",
              "<span style=\"color: #7fbf7f; text-decoration-color: #7fbf7f\">│   │   │   </span><span style=\"font-weight: bold\">]</span>,\n",
              "<span style=\"color: #7fbf7f; text-decoration-color: #7fbf7f\">│   │   │   </span><span style=\"color: #008000; text-decoration-color: #008000\">'created'</span>: <span style=\"color: #008080; text-decoration-color: #008080; font-weight: bold\">1709672267</span>,\n",
              "<span style=\"color: #7fbf7f; text-decoration-color: #7fbf7f\">│   │   │   </span><span style=\"color: #008000; text-decoration-color: #008000\">'model'</span>: <span style=\"color: #008000; text-decoration-color: #008000\">'gpt-4-1106-preview'</span>,\n",
              "<span style=\"color: #7fbf7f; text-decoration-color: #7fbf7f\">│   │   │   </span><span style=\"color: #008000; text-decoration-color: #008000\">'object'</span>: <span style=\"color: #008000; text-decoration-color: #008000\">'chat.completion'</span>,\n",
              "<span style=\"color: #7fbf7f; text-decoration-color: #7fbf7f\">│   │   │   </span><span style=\"color: #008000; text-decoration-color: #008000\">'system_fingerprint'</span>: <span style=\"color: #008000; text-decoration-color: #008000\">'fp_021f187978'</span>,\n",
              "<span style=\"color: #7fbf7f; text-decoration-color: #7fbf7f\">│   │   │   </span><span style=\"color: #008000; text-decoration-color: #008000\">'usage'</span>: <span style=\"color: #800080; text-decoration-color: #800080; font-weight: bold\">CompletionUsage</span><span style=\"font-weight: bold\">(</span><span style=\"color: #808000; text-decoration-color: #808000\">completion_tokens</span>=<span style=\"color: #008080; text-decoration-color: #008080; font-weight: bold\">7</span>, <span style=\"color: #808000; text-decoration-color: #808000\">prompt_tokens</span>=<span style=\"color: #008080; text-decoration-color: #008080; font-weight: bold\">223</span>, <span style=\"color: #808000; text-decoration-color: #808000\">total_tokens</span>=<span style=\"color: #008080; text-decoration-color: #008080; font-weight: bold\">230</span><span style=\"font-weight: bold\">)</span>\n",
              "<span style=\"color: #7fbf7f; text-decoration-color: #7fbf7f\">│   │   </span><span style=\"font-weight: bold\">}</span>,\n",
              "<span style=\"color: #7fbf7f; text-decoration-color: #7fbf7f\">│   │   </span><span style=\"color: #808000; text-decoration-color: #808000\">delta</span>=<span style=\"color: #800080; text-decoration-color: #800080; font-style: italic\">None</span>,\n",
              "<span style=\"color: #7fbf7f; text-decoration-color: #7fbf7f\">│   │   </span><span style=\"color: #808000; text-decoration-color: #808000\">additional_kwargs</span>=<span style=\"font-weight: bold\">{}</span>\n",
              "<span style=\"color: #7fbf7f; text-decoration-color: #7fbf7f\">│   </span><span style=\"font-weight: bold\">)</span>,\n",
              "<span style=\"color: #7fbf7f; text-decoration-color: #7fbf7f\">│   </span><span style=\"color: #008000; text-decoration-color: #008000\">'tool_call'</span>: <span style=\"color: #800080; text-decoration-color: #800080; font-style: italic\">None</span>\n",
              "<span style=\"font-weight: bold\">}</span>\n",
              "</pre>\n"
            ],
            "text/plain": [
              "\u001b[1m{\u001b[0m\n",
              "\u001b[2;32m│   \u001b[0m\u001b[32m'messages'\u001b[0m: \u001b[1m[\u001b[0m\n",
              "\u001b[2;32m│   │   \u001b[0m\u001b[1;35mChatMessage\u001b[0m\u001b[1m(\u001b[0m\n",
              "\u001b[2;32m│   │   │   \u001b[0m\u001b[33mrole\u001b[0m=\u001b[1m<\u001b[0m\u001b[1;95mMessageRole.SYSTEM:\u001b[0m\u001b[39m \u001b[0m\u001b[32m'system'\u001b[0m\u001b[39m>,\u001b[0m\n",
              "\u001b[2;32m│   │   │   \u001b[0m\u001b[33mcontent\u001b[0m\u001b[39m=\u001b[0m\u001b[32m'You are an assisant to perform the user input.'\u001b[0m\u001b[39m,\u001b[0m\n",
              "\u001b[2;32m│   │   │   \u001b[0m\u001b[33madditional_kwargs\u001b[0m\u001b[39m=\u001b[0m\u001b[1;39m{\u001b[0m\u001b[1;39m}\u001b[0m\n",
              "\u001b[2;32m│   │   \u001b[0m\u001b[1;39m)\u001b[0m\u001b[39m,\u001b[0m\n",
              "\u001b[2;32m│   │   \u001b[0m\u001b[1;35mChatMessage\u001b[0m\u001b[1;39m(\u001b[0m\n",
              "\u001b[2;32m│   │   │   \u001b[0m\u001b[33mrole\u001b[0m\u001b[39m=<MessageRole.USER: \u001b[0m\u001b[32m'user'\u001b[0m\u001b[39m>,\u001b[0m\n",
              "\u001b[2;32m│   │   │   \u001b[0m\u001b[33mcontent\u001b[0m\u001b[39m=\u001b[0m\u001b[32m'\\nPlease create a random joke and provide the translated result in Simplified Chinese\\nwithout the original language, the final result should have no newlines, empty spaces, or instruction information text.\\n'\u001b[0m\u001b[39m,\u001b[0m\n",
              "\u001b[2;32m│   │   │   \u001b[0m\u001b[33madditional_kwargs\u001b[0m\u001b[39m=\u001b[0m\u001b[1;39m{\u001b[0m\u001b[1;39m}\u001b[0m\n",
              "\u001b[2;32m│   │   \u001b[0m\u001b[1;39m)\u001b[0m\u001b[39m,\u001b[0m\n",
              "\u001b[2;32m│   │   \u001b[0m\u001b[1;35mChatMessage\u001b[0m\u001b[1;39m(\u001b[0m\n",
              "\u001b[2;32m│   │   │   \u001b[0m\u001b[33mrole\u001b[0m\u001b[39m=<MessageRole.ASSISTANT: \u001b[0m\u001b[32m'assistant'\u001b[0m\u001b[39m>,\u001b[0m\n",
              "\u001b[2;32m│   │   │   \u001b[0m\u001b[33mcontent\u001b[0m\u001b[39m=\u001b[0m\u001b[3;35mNone\u001b[0m\u001b[39m,\u001b[0m\n",
              "\u001b[2;32m│   │   │   \u001b[0m\u001b[33madditional_kwargs\u001b[0m\u001b[39m=\u001b[0m\u001b[1;39m{\u001b[0m\n",
              "\u001b[2;32m│   │   │   │   \u001b[0m\u001b[32m'tool_calls'\u001b[0m\u001b[39m: \u001b[0m\u001b[1;39m[\u001b[0m\n",
              "\u001b[2;32m│   │   │   │   │   \u001b[0m\u001b[1;35mChatCompletionMessageToolCall\u001b[0m\u001b[1;39m(\u001b[0m\n",
              "\u001b[2;32m│   │   │   │   │   │   \u001b[0m\u001b[33mid\u001b[0m\u001b[39m=\u001b[0m\u001b[32m'call_BTWuX0GSm42BhIuiUdMoGUeH'\u001b[0m\u001b[39m,\u001b[0m\n",
              "\u001b[2;32m│   │   │   │   │   │   \u001b[0m\u001b[33mfunction\u001b[0m\u001b[39m=\u001b[0m\u001b[1;35mFunction\u001b[0m\u001b[1;39m(\u001b[0m\u001b[33marguments\u001b[0m\u001b[39m=\u001b[0m\u001b[32m'\u001b[0m\u001b[32m{\u001b[0m\u001b[32m}\u001b[0m\u001b[32m'\u001b[0m\u001b[39m, \u001b[0m\u001b[33mname\u001b[0m\u001b[39m=\u001b[0m\u001b[32m'random_joke'\u001b[0m\u001b[1;39m)\u001b[0m\u001b[39m,\u001b[0m\n",
              "\u001b[2;32m│   │   │   │   │   │   \u001b[0m\u001b[33mtype\u001b[0m\u001b[39m=\u001b[0m\u001b[32m'function'\u001b[0m\n",
              "\u001b[2;32m│   │   │   │   │   \u001b[0m\u001b[1;39m)\u001b[0m\n",
              "\u001b[2;32m│   │   │   │   \u001b[0m\u001b[1;39m]\u001b[0m\n",
              "\u001b[2;32m│   │   │   \u001b[0m\u001b[1;39m}\u001b[0m\n",
              "\u001b[2;32m│   │   \u001b[0m\u001b[1;39m)\u001b[0m\u001b[39m,\u001b[0m\n",
              "\u001b[2;32m│   │   \u001b[0m\u001b[1;35mChatMessage\u001b[0m\u001b[1;39m(\u001b[0m\n",
              "\u001b[2;32m│   │   │   \u001b[0m\u001b[33mrole\u001b[0m\u001b[39m=<MessageRole.TOOL: \u001b[0m\u001b[32m'tool'\u001b[0m\u001b[39m>,\u001b[0m\n",
              "\u001b[2;32m│   │   │   \u001b[0m\u001b[33mcontent\u001b[0m\u001b[39m=\u001b[0m\u001b[32m\"What\u001b[0m\u001b[32m do you call a joke that's too long?\\n\\nA longshot!\"\u001b[0m\u001b[39m,\u001b[0m\n",
              "\u001b[2;32m│   │   │   \u001b[0m\u001b[33madditional_kwargs\u001b[0m\u001b[39m=\u001b[0m\u001b[1;39m{\u001b[0m\u001b[32m'tool_call_id'\u001b[0m\u001b[39m: \u001b[0m\u001b[32m'call_BTWuX0GSm42BhIuiUdMoGUeH'\u001b[0m\u001b[39m, \u001b[0m\u001b[32m'name'\u001b[0m\u001b[39m: \u001b[0m\u001b[32m'random_joke'\u001b[0m\u001b[1;39m}\u001b[0m\n",
              "\u001b[2;32m│   │   \u001b[0m\u001b[1;39m)\u001b[0m\u001b[39m,\u001b[0m\n",
              "\u001b[2;32m│   │   \u001b[0m\u001b[1;35mChatMessage\u001b[0m\u001b[1;39m(\u001b[0m\n",
              "\u001b[2;32m│   │   │   \u001b[0m\u001b[33mrole\u001b[0m\u001b[39m=<MessageRole.ASSISTANT: \u001b[0m\u001b[32m'assistant'\u001b[0m\u001b[39m>,\u001b[0m\n",
              "\u001b[2;32m│   │   │   \u001b[0m\u001b[33mcontent\u001b[0m\u001b[39m=\u001b[0m\u001b[3;35mNone\u001b[0m\u001b[39m,\u001b[0m\n",
              "\u001b[2;32m│   │   │   \u001b[0m\u001b[33madditional_kwargs\u001b[0m\u001b[39m=\u001b[0m\u001b[1;39m{\u001b[0m\n",
              "\u001b[2;32m│   │   │   │   \u001b[0m\u001b[32m'tool_calls'\u001b[0m\u001b[39m: \u001b[0m\u001b[1;39m[\u001b[0m\n",
              "\u001b[2;32m│   │   │   │   │   \u001b[0m\u001b[1;35mChatCompletionMessageToolCall\u001b[0m\u001b[1;39m(\u001b[0m\n",
              "\u001b[2;32m│   │   │   │   │   │   \u001b[0m\u001b[33mid\u001b[0m\u001b[39m=\u001b[0m\u001b[32m'call_VrgXPeweC29ISzxyntac8RCX'\u001b[0m\u001b[39m,\u001b[0m\n",
              "\u001b[2;32m│   │   │   │   │   │   \u001b[0m\u001b[33mfunction\u001b[0m\u001b[39m=\u001b[0m\u001b[1;35mFunction\u001b[0m\u001b[1;39m(\u001b[0m\n",
              "\u001b[2;32m│   │   │   │   │   │   │   \u001b[0m\u001b[33marguments\u001b[0m\u001b[39m=\u001b[0m\u001b[32m'\u001b[0m\u001b[32m{\u001b[0m\u001b[32m\"string\":\"What do you call a joke that\\'s too long?\\\\n\\\\nA longshot!\"\u001b[0m\u001b[32m}\u001b[0m\u001b[32m'\u001b[0m\u001b[39m,\u001b[0m\n",
              "\u001b[2;32m│   │   │   │   │   │   │   \u001b[0m\u001b[33mname\u001b[0m\u001b[39m=\u001b[0m\u001b[32m'translate'\u001b[0m\n",
              "\u001b[2;32m│   │   │   │   │   │   \u001b[0m\u001b[1;39m)\u001b[0m\u001b[39m,\u001b[0m\n",
              "\u001b[2;32m│   │   │   │   │   │   \u001b[0m\u001b[33mtype\u001b[0m\u001b[39m=\u001b[0m\u001b[32m'function'\u001b[0m\n",
              "\u001b[2;32m│   │   │   │   │   \u001b[0m\u001b[1;39m)\u001b[0m\n",
              "\u001b[2;32m│   │   │   │   \u001b[0m\u001b[1;39m]\u001b[0m\n",
              "\u001b[2;32m│   │   │   \u001b[0m\u001b[1;39m}\u001b[0m\n",
              "\u001b[2;32m│   │   \u001b[0m\u001b[1;39m)\u001b[0m\u001b[39m,\u001b[0m\n",
              "\u001b[2;32m│   │   \u001b[0m\u001b[1;35mChatMessage\u001b[0m\u001b[1;39m(\u001b[0m\n",
              "\u001b[2;32m│   │   │   \u001b[0m\u001b[33mrole\u001b[0m\u001b[39m=<MessageRole.TOOL: \u001b[0m\u001b[32m'tool'\u001b[0m\u001b[39m>,\u001b[0m\n",
              "\u001b[2;32m│   │   │   \u001b[0m\u001b[33mcontent\u001b[0m\u001b[39m=\u001b[0m\u001b[32m'Longshot。\\n\\nThis is a slang term for a joke that is too long.'\u001b[0m\u001b[39m,\u001b[0m\n",
              "\u001b[2;32m│   │   │   \u001b[0m\u001b[33madditional_kwargs\u001b[0m\u001b[39m=\u001b[0m\u001b[1;39m{\u001b[0m\u001b[32m'tool_call_id'\u001b[0m\u001b[39m: \u001b[0m\u001b[32m'call_VrgXPeweC29ISzxyntac8RCX'\u001b[0m\u001b[39m, \u001b[0m\u001b[32m'name'\u001b[0m\u001b[39m: \u001b[0m\u001b[32m'translate'\u001b[0m\u001b[1;39m}\u001b[0m\n",
              "\u001b[2;32m│   │   \u001b[0m\u001b[1;39m)\u001b[0m\u001b[39m,\u001b[0m\n",
              "\u001b[2;32m│   │   \u001b[0m\u001b[1;35mChatMessage\u001b[0m\u001b[1;39m(\u001b[0m\u001b[33mrole\u001b[0m\u001b[39m=<MessageRole.ASSISTANT: \u001b[0m\u001b[32m'assistant'\u001b[0m\u001b[39m>, \u001b[0m\u001b[33mcontent\u001b[0m\u001b[39m=\u001b[0m\u001b[32m'长篇大论。'\u001b[0m\u001b[39m, \u001b[0m\u001b[33madditional_kwargs\u001b[0m\u001b[39m=\u001b[0m\u001b[1;39m{\u001b[0m\u001b[1;39m}\u001b[0m\u001b[1;39m)\u001b[0m\n",
              "\u001b[2;32m│   \u001b[0m\u001b[1;39m]\u001b[0m\u001b[39m,\u001b[0m\n",
              "\u001b[2;32m│   \u001b[0m\u001b[32m'chat_response'\u001b[0m\u001b[39m: \u001b[0m\u001b[1;35mChatResponse\u001b[0m\u001b[1;39m(\u001b[0m\n",
              "\u001b[2;32m│   │   \u001b[0m\u001b[33mmessage\u001b[0m\u001b[39m=\u001b[0m\u001b[1;35mChatMessage\u001b[0m\u001b[1;39m(\u001b[0m\n",
              "\u001b[2;32m│   │   │   \u001b[0m\u001b[33mrole\u001b[0m\u001b[39m=<MessageRole.ASSISTANT: \u001b[0m\u001b[32m'assistant'\u001b[0m\u001b[1m>\u001b[0m,\n",
              "\u001b[2;32m│   │   │   \u001b[0m\u001b[33mcontent\u001b[0m=\u001b[32m'长篇大论。'\u001b[0m,\n",
              "\u001b[2;32m│   │   │   \u001b[0m\u001b[33madditional_kwargs\u001b[0m=\u001b[1m{\u001b[0m\u001b[1m}\u001b[0m\n",
              "\u001b[2;32m│   │   \u001b[0m\u001b[1m)\u001b[0m,\n",
              "\u001b[2;32m│   │   \u001b[0m\u001b[33mraw\u001b[0m=\u001b[1m{\u001b[0m\n",
              "\u001b[2;32m│   │   │   \u001b[0m\u001b[32m'id'\u001b[0m: \u001b[32m'chatcmpl-8zW95VDlrnf0r7niOLlFDn046debK'\u001b[0m,\n",
              "\u001b[2;32m│   │   │   \u001b[0m\u001b[32m'choices'\u001b[0m: \u001b[1m[\u001b[0m\n",
              "\u001b[2;32m│   │   │   │   \u001b[0m\u001b[1;35mChoice\u001b[0m\u001b[1m(\u001b[0m\n",
              "\u001b[2;32m│   │   │   │   │   \u001b[0m\u001b[33mfinish_reason\u001b[0m=\u001b[32m'stop'\u001b[0m,\n",
              "\u001b[2;32m│   │   │   │   │   \u001b[0m\u001b[33mindex\u001b[0m=\u001b[1;36m0\u001b[0m,\n",
              "\u001b[2;32m│   │   │   │   │   \u001b[0m\u001b[33mlogprobs\u001b[0m=\u001b[3;35mNone\u001b[0m,\n",
              "\u001b[2;32m│   │   │   │   │   \u001b[0m\u001b[33mmessage\u001b[0m=\u001b[1;35mChatCompletionMessage\u001b[0m\u001b[1m(\u001b[0m\n",
              "\u001b[2;32m│   │   │   │   │   │   \u001b[0m\u001b[33mcontent\u001b[0m=\u001b[32m'长篇大论。'\u001b[0m,\n",
              "\u001b[2;32m│   │   │   │   │   │   \u001b[0m\u001b[33mrole\u001b[0m=\u001b[32m'assistant'\u001b[0m,\n",
              "\u001b[2;32m│   │   │   │   │   │   \u001b[0m\u001b[33mfunction_call\u001b[0m=\u001b[3;35mNone\u001b[0m,\n",
              "\u001b[2;32m│   │   │   │   │   │   \u001b[0m\u001b[33mtool_calls\u001b[0m=\u001b[3;35mNone\u001b[0m\n",
              "\u001b[2;32m│   │   │   │   │   \u001b[0m\u001b[1m)\u001b[0m\n",
              "\u001b[2;32m│   │   │   │   \u001b[0m\u001b[1m)\u001b[0m\n",
              "\u001b[2;32m│   │   │   \u001b[0m\u001b[1m]\u001b[0m,\n",
              "\u001b[2;32m│   │   │   \u001b[0m\u001b[32m'created'\u001b[0m: \u001b[1;36m1709672267\u001b[0m,\n",
              "\u001b[2;32m│   │   │   \u001b[0m\u001b[32m'model'\u001b[0m: \u001b[32m'gpt-4-1106-preview'\u001b[0m,\n",
              "\u001b[2;32m│   │   │   \u001b[0m\u001b[32m'object'\u001b[0m: \u001b[32m'chat.completion'\u001b[0m,\n",
              "\u001b[2;32m│   │   │   \u001b[0m\u001b[32m'system_fingerprint'\u001b[0m: \u001b[32m'fp_021f187978'\u001b[0m,\n",
              "\u001b[2;32m│   │   │   \u001b[0m\u001b[32m'usage'\u001b[0m: \u001b[1;35mCompletionUsage\u001b[0m\u001b[1m(\u001b[0m\u001b[33mcompletion_tokens\u001b[0m=\u001b[1;36m7\u001b[0m, \u001b[33mprompt_tokens\u001b[0m=\u001b[1;36m223\u001b[0m, \u001b[33mtotal_tokens\u001b[0m=\u001b[1;36m230\u001b[0m\u001b[1m)\u001b[0m\n",
              "\u001b[2;32m│   │   \u001b[0m\u001b[1m}\u001b[0m,\n",
              "\u001b[2;32m│   │   \u001b[0m\u001b[33mdelta\u001b[0m=\u001b[3;35mNone\u001b[0m,\n",
              "\u001b[2;32m│   │   \u001b[0m\u001b[33madditional_kwargs\u001b[0m=\u001b[1m{\u001b[0m\u001b[1m}\u001b[0m\n",
              "\u001b[2;32m│   \u001b[0m\u001b[1m)\u001b[0m,\n",
              "\u001b[2;32m│   \u001b[0m\u001b[32m'tool_call'\u001b[0m: \u001b[3;35mNone\u001b[0m\n",
              "\u001b[1m}\u001b[0m\n"
            ]
          },
          "metadata": {},
          "output_type": "display_data"
        }
      ],
      "source": [
        "human_input: str = \"\"\"\n",
        "Please create a random joke and provide the translated result in Simplified Chinese\n",
        "without the original language, the final result should have no newlines, empty spaces, or instruction information text.\n",
        "\"\"\"\n",
        "def create_messages(human_input: str) -> Sequence[ChatMessage]:\n",
        "    \"\"\"Create a sequence of ChatMessage from a string input.\"\"\"\n",
        "    messages: Sequence[ChatMessage] = [\n",
        "        ChatMessage(\n",
        "            role=MessageRole.SYSTEM,\n",
        "            content=(\"You are an assisant to perform the user input.\"),\n",
        "        ),\n",
        "        ChatMessage(\n",
        "            role=MessageRole.USER,\n",
        "            content=(\"{input}\"),\n",
        "        ),\n",
        "    ]\n",
        "    prompt_template: ChatPromptTemplate = ChatPromptTemplate(messages)\n",
        "    return prompt_template.format_messages(input=human_input)\n",
        "\n",
        "result = app.invoke({\"messages\": create_messages(human_input=human_input)})\n",
        "pretty_print(\"Result:\", result)"
      ]
    }
  ],
  "metadata": {
    "accelerator": "GPU",
    "colab": {
      "gpuType": "T4",
      "machine_shape": "hm",
      "provenance": []
    },
    "kernelspec": {
      "display_name": "Python 3",
      "name": "python3"
    },
    "language_info": {
      "codemirror_mode": {
        "name": "ipython",
        "version": 3
      },
      "file_extension": ".py",
      "mimetype": "text/x-python",
      "name": "python",
      "nbconvert_exporter": "python",
      "pygments_lexer": "ipython3",
      "version": "3.11.5"
    }
  },
  "nbformat": 4,
  "nbformat_minor": 0
}
