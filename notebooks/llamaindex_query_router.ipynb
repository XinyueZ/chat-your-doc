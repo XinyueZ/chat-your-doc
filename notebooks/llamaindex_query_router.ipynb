{
 "cells": [
  {
   "cell_type": "markdown",
   "metadata": {},
   "source": [
    "LLM application through query routing and long-context, a type of reflection flow based on the user query\n",
    "===\n",
    "\n",
    "RAG routing is based on the complexity of the query and the context. The routing follows these rules:\n",
    "\n",
    "1. Simple query, direct answer, no routing.\n",
    "2. Answerable question, but complex query, then routing for query decomposition.\n",
    "3. Route to long-context query for unanswerable questions.\n",
    "\n",
    "Origin paper: [Retrieval Augmented Generation or Long-Context LLMs? A Comprehensive Study and Hybrid Approach](https://arxiv.org/abs/2407.16833)\n",
    "\n",
    "Implementation: LLama-Index\n"
   ]
  },
  {
   "cell_type": "code",
   "execution_count": 1,
   "metadata": {},
   "outputs": [],
   "source": [
    "from rich.pretty import pprint as pp\n",
    "from icecream import ic\n",
    "from IPython.display import Markdown\n",
    "\n",
    "import nest_asyncio\n",
    "nest_asyncio.apply()"
   ]
  },
  {
   "cell_type": "markdown",
   "metadata": {},
   "source": [
    "## Const"
   ]
  },
  {
   "cell_type": "code",
   "execution_count": 2,
   "metadata": {},
   "outputs": [],
   "source": [
    "from llama_index.llms.groq import Groq\n",
    "from llama_index.core.response_synthesizers import ResponseMode\n",
    "\n",
    "llm = \"llama-3.1-70b-versatile\"\n",
    "embeds = \"models/text-embedding-004\"\n",
    "chunk_size = 512\n",
    "MAX_TOKENS = 2048\n",
    "data_urls = [\n",
    "    \"https://hermesworld.com/de/karriere/jobs/Junior-Manager-mwd-HR-Controlling-de-j4364.html\",\n",
    "    \"https://hermesworld.com/de/karriere/jobs/Senior-Product-Manager-mwd-de-j3839.html\",\n",
    "]\n",
    "rerank_top_k = 10\n",
    "similarity_top_k = 10\n",
    "num_multi_steps = 4\n",
    "verbose = True\n",
    "streaming = False\n",
    "response_mode = ResponseMode.TREE_SUMMARIZE\n",
    "# https://github.com/run-llama/llama_index/blob/71c2cfdfbec6bcdd71f0e39f5dbb52c0e9f68ae5/llama-index-core/llama_index/core/response_synthesizers/type.py"
   ]
  },
  {
   "cell_type": "markdown",
   "metadata": {},
   "source": [
    "## Token counting"
   ]
  },
  {
   "cell_type": "code",
   "execution_count": 3,
   "metadata": {},
   "outputs": [],
   "source": [
    "from llama_index.core.callbacks import TokenCountingHandler\n",
    "import tiktoken\n",
    "\n",
    "token_counter = TokenCountingHandler(\n",
    "    tokenizer=tiktoken.encoding_for_model(\"gpt-3.5-turbo\").encode\n",
    ")"
   ]
  },
  {
   "cell_type": "code",
   "execution_count": 4,
   "metadata": {},
   "outputs": [
    {
     "data": {
      "text/html": [
       "<pre style=\"white-space:pre;overflow-x:auto;line-height:normal;font-family:Menlo,'DejaVu Sans Mono',consolas,'Courier New',monospace\"><span style=\"font-weight: bold\">(</span><span style=\"color: #008000; text-decoration-color: #008000\">'Embedding Tokens: '</span>, <span style=\"color: #008080; text-decoration-color: #008080; font-weight: bold\">0</span>, <span style=\"color: #008000; text-decoration-color: #008000\">'LLM Prompt Tokens: '</span>, <span style=\"color: #008080; text-decoration-color: #008080; font-weight: bold\">0</span>, <span style=\"color: #008000; text-decoration-color: #008000\">'LLM Completion Tokens: '</span>, <span style=\"color: #008080; text-decoration-color: #008080; font-weight: bold\">0</span>, <span style=\"color: #008000; text-decoration-color: #008000\">'Total LLM Token Count: '</span>, <span style=\"color: #008080; text-decoration-color: #008080; font-weight: bold\">0</span><span style=\"font-weight: bold\">)</span>\n",
       "</pre>\n"
      ],
      "text/plain": [
       "\u001b[1m(\u001b[0m\u001b[32m'Embedding Tokens: '\u001b[0m, \u001b[1;36m0\u001b[0m, \u001b[32m'LLM Prompt Tokens: '\u001b[0m, \u001b[1;36m0\u001b[0m, \u001b[32m'LLM Completion Tokens: '\u001b[0m, \u001b[1;36m0\u001b[0m, \u001b[32m'Total LLM Token Count: '\u001b[0m, \u001b[1;36m0\u001b[0m\u001b[1m)\u001b[0m\n"
      ]
     },
     "metadata": {},
     "output_type": "display_data"
    }
   ],
   "source": [
    "def print_token_counter(counter: TokenCountingHandler):\n",
    "    pp(\n",
    "        (\n",
    "            \"Embedding Tokens: \",\n",
    "            counter.total_embedding_token_count,\n",
    "            \"LLM Prompt Tokens: \",\n",
    "            counter.prompt_llm_token_count,\n",
    "            \"LLM Completion Tokens: \",\n",
    "            counter.completion_llm_token_count,\n",
    "            \"Total LLM Token Count: \",\n",
    "            counter.total_llm_token_count,\n",
    "        )\n",
    "    )\n",
    "\n",
    "    counter.reset_counts()\n",
    "\n",
    "\n",
    "print_token_counter(token_counter)"
   ]
  },
  {
   "cell_type": "markdown",
   "metadata": {},
   "source": [
    "## LLama-Index setting"
   ]
  },
  {
   "cell_type": "code",
   "execution_count": 5,
   "metadata": {},
   "outputs": [],
   "source": [
    "from llama_index.core import Settings\n",
    "from llama_index.embeddings.gemini import GeminiEmbedding\n",
    "from llama_index.llms.gemini import Gemini\n",
    "from llama_index.core.callbacks import CallbackManager\n",
    "\n",
    "Settings.llm = Groq(model=llm, temperature=0, max_tokens=MAX_TOKENS)\n",
    "Settings.embed_model = GeminiEmbedding(model_name=embeds)\n",
    "Settings.callbacks = CallbackManager([token_counter])"
   ]
  },
  {
   "cell_type": "code",
   "execution_count": 6,
   "metadata": {},
   "outputs": [
    {
     "name": "stderr",
     "output_type": "stream",
     "text": [
      "ic| temp_file.name: '/tmp/tmpf_5ek4lj.txt'\n"
     ]
    },
    {
     "name": "stdout",
     "output_type": "stream",
     "text": [
      "b'----document 1:----\\n\\n[ Privatkunden ](https://www.myhermes.de)\\n\\n\\xc3\\x96sterreich China Deutschland Vereinigtes K\\xc3\\xb6nigreich International USA\\n\\nMenu AT CN DE EN INT US [Hermes](https://www.hermesworld.com/de/)\\n\\n  * navigation.search\\n\\n  * [Start](https://www.hermesworld.com/de/)\\n  * [Unsere Dienstleistungen](https://www.hermesworld.com/de/unsere-dienstleistungen/)\\n\\n    * [Transport Logistics](https://www.hermesworld.com/de/unsere-dienstleistungen/transport-logistics/)\\n      * [Supply Chain Solutions](https://www.hermesworld.com/de/unsere-dienstleistungen/transport-logistics/supply-chain-solutions/unsere-fokusbranchen/)\\n        * [Unsere Fokusbranchen](https://www.hermesworld.com/de/unsere-dienstleistungen/transport-logistics/supply-chain-solutions/unsere-fokusbranchen/)\\n        * [Supply Chain Services](https://www.hermesworld.com/de/unsere-dienstleistungen/transport-logistics/supply-chain-solutions/supply-chain-services/)\\n        * [E-Services](https://www.hermesworld.com/de/unsere-dienstleistungen/transport-logistics/supply-chain-solutions/e-services/)\\n        * [Zoll Services](https://www.hermesworld.com/de/unsere-dienstleistungen/transport-logistics/supply-chain-solutions/hermes-scan/)\\n        * [Nachhaltigkeit](https://www.hermesworld.com/de/unsere-dienstleistungen/transport-logistics/supply-chain-solutions/massgeschneiderte-logistikloesungen/)\\n        * [Unser Partnernetzwerk](https://www.hermesworld.com/de/unsere-dienstleistungen/transport-logistics/supply-chain-solutions/zusatzdienstleistungen/)\\n          * [FML](https://www.hermesworld.com/de/unsere-dienstleistungen/transport-logistics/supply-chain-solutions/unser-partnernetzwerk/fml/)\\n          * [Jeena](https://www.hermesworld.com/de/unsere-dienstleistungen/transport-logistics/supply-chain-solutions/unsere-globalen-partner/jeena/)\\n          * [SEKO](https://www.hermesworld.com/de/unsere-dienstleistungen/transport-logistics/supply-chain-solutions/unser-partnernetzwerk/seko/)\\n          * [WWG](https://www.hermesworld.com/de/unsere-dienstleistungen/transport-logistics/supply-chain-solutions/unser-partnernetzwerk/wwg/)\\n    * [Global E-Commerce](https://www.hermesworld.com/de/unsere-dienstleistungen/global-e-commerce/)\\n      * [Global E-Commerce](https://www.hermesworld.com/de/unsere-dienstleistungen/global-e-commerce/global-e-commerce/)\\n    * [Distribution](https://www.hermesworld.com/de/unsere-dienstleistungen/distribution/)\\n      * [Paketversand](https://www.hermesworld.com/de/unsere-dienstleistungen/distribution/paketversand/paketversand/)\\n        * [Paketversand](https://www.hermesworld.com/de/unsere-dienstleistungen/distribution/paketversand/paketversand/)\\n      * [2-Mann-Handling](https://www.hermesworld.com/de/unsere-dienstleistungen/distribution/2-mann-handling/2-mann-handling/)\\n        * [2-Mann-Handling](https://www.hermesworld.com/de/unsere-dienstleistungen/distribution/2-mann-handling/2-mann-handling/)\\n        * [Individuelle Versandl\\xc3\\xb6sungen](https://www.hermesworld.com/de/unsere-dienstleistungen/distribution/2-mann-handling/individuelle-versandloesungen/)\\n        * [Zusammenarbeit](https://www.hermesworld.com/de/unsere-dienstleistungen/distribution/2-mann-handling/zusammenarbeit/)\\n        * [Dropshipping](https://www.hermesworld.com/de/unsere-dienstleistungen/distribution/2-mann-handling/dropshipping/)\\n        * [Unser Service f\\xc3\\xbcr Versender](https://www.hermesworld.com/de/unsere-dienstleistungen/distribution/2-mann-handling/unser-service-fuer-versender/)\\n        * [Unser Service f\\xc3\\xbcr Endkunden](https://www.hermesworld.com/de/unsere-dienstleistungen/distribution/2-mann-handling/unser-service-fuer-endkunden/)\\n        * [CO2-neutraler Versand](https://www.hermesworld.com/de/unsere-dienstleistungen/distribution/2-mann-handling/klimaneutraler-versand/)\\n        * [HES Pay](https://www.hermesworld.com/de/unsere-dienstleistungen/distribution/2-mann-handling/hes-pay/)\\n      * [Distribution in Europa](https://www.hermesworld.com/de/unsere-dienstleistungen/distribution/distribution-in-europa/)\\n\\n  * [\\xc3\\x9cber uns](https://www.hermesworld.com/de/ueber-uns/)\\n\\n    * [Auf einen Blick](https://www.hermesworld.com/de/ueber-uns/auf-einen-blick/hermes-auf-einen-blick/)\\n      * [Hermes auf einen Blick](https://www.hermesworld.com/de/ueber-uns/auf-einen-blick/hermes-auf-einen-blick/)\\n    * [Hermes Gruppe](https://www.hermesworld.com/de/ueber-uns/hermes-gruppe/)\\n      * [Hermes Einrichtungs Service](https://www.hermesworld.com/de/ueber-uns/hermes-gruppe/hermes-einrichtungs-service/)\\n        * [Hermes Einrichtungs Service](https://www.hermesworld.com/de/ueber-uns/hermes-gruppe/hermes-einrichtungs-service/)\\n        * [Logistikzentren](https://www.hermesworld.com/de/ueber-uns/hermes-gruppe/hermes-einrichtungs-service/logistikzentren/)\\n        * [Auslieferdepots](https://www.hermesworld.com/de/ueber-uns/hermes-gruppe/hermes-einrichtungs-service/auslieferdepots/)\\n      * [Hermes Fulfilment](https://www.hermesworld.com/de/ueber-uns/hermes-gruppe/hermes-fulfilment/hermes-fulfilment/)\\n        * [Hermes Fulfilment](https://www.hermesworld.com/de/ueber-uns/hermes-gruppe/hermes-fulfilment/hermes-fulfilment/)\\n        * [Daten & Fakten](https://www.hermesworld.com/de/ueber-uns/hermes-gruppe/hermes-fulfilment/daten-fakten/)\\n        * [Einblicke](https://www.hermesworld.com/de/ueber-uns/hermes-gruppe/hermes-fulfilment/einblicke/)\\n        * [Nachhaltigkeit](https://www.hermesworld.com/de/ueber-uns/hermes-gruppe/hermes-fulfilment/nachhaltigkeit/)\\n      * [Hermes Logistik \\xc3\\x96sterreich](https://www.hermesworld.com/de/ueber-uns/hermes-gruppe/hermes-logistik-at/hermes-logistik-oesterreich/)\\n        * [Hermes Logistik \\xc3\\x96sterreich](https://www.hermesworld.com/de/ueber-uns/hermes-gruppe/hermes-logistik-at/hermes-logistik-oesterreich/)\\n        * [PaketShop Partner](https://www.hermesworld.com/de/ueber-uns/hermes-gruppe/hermes-logistik-at/paketshop-partner/)\\n      * [Hermes Germany GmbH](https://www.hermesworld.com/de/ueber-uns/hermes-gruppe/hermes-logistik-gruppe-deutschland/hermes-logistik-gruppe-deutschland/)\\n        * [Hermes Germany GmbH](https://www.hermesworld.com/de/ueber-uns/hermes-gruppe/hermes-logistik-gruppe-deutschland/hermes-logistik-gruppe-deutschland/)\\n        * [PaketShop-Partner werden](https://www.hermesworld.com/de/ueber-uns/hermes-gruppe/hermes-logistik-gruppe-deutschland/paketshop-partner/)\\n        * [Vertragspartner werden](https://www.hermesworld.com/de/ueber-uns/hermes-gruppe/hermes-logistik-gruppe-deutschland/vertragspartner-werden/)\\n          * [Formular](https://www.hermesworld.com/de/ueber-uns/hermes-gruppe/hermes-logistik-gruppe-deutschland/vertragspartner-werden/formular/)\\n      * [Hermes NexTec](https://www.hermesworld.com/de/ueber-uns/hermes-gruppe/hermes-nextec/)\\n      * [Hermes Germany](https://www.hermesworld.com/de/ueber-uns/hermes-gruppe/hermes-transport-logistics/hermes-transport-logistics/)\\n        * [Hermes Germany](https://www.hermesworld.com/de/ueber-uns/hermes-gruppe/hermes-transport-logistics/hermes-transport-logistics/)\\n        * [Downloads](https://www.hermesworld.com/de/ueber-uns/hermes-gruppe/hermes-transport-logistics/downloads/)\\n      * [Hermes UK](https://www.hermesworld.com/de/ueber-uns/hermes-gruppe/hermes-uk/hermes-uk/)\\n        * [Hermes UK](https://www.hermesworld.com/de/ueber-uns/hermes-gruppe/hermes-uk/hermes-uk/)\\n        * [Kundenstimmen](https://www.hermesworld.com/de/ueber-uns/hermes-gruppe/hermes-uk/kundenstimmen/)\\n      * [Hermes BorderGuru](https://www.hermesworld.com/de/ueber-uns/hermes-gruppe/borderguru/)\\n    * [Management](https://www.hermesworld.com/de/ueber-uns/management/)\\n    * [Klima- und Umweltschutz](https://www.hermesworld.com/de/ueber-uns/klima-und-umweltschutz/klima-und-umweltschutz/)\\n      * [Klima- und Umweltschutz](https://www.hermesworld.com/de/ueber-uns/klima-und-umweltschutz/klima-und-umweltschutz/)\\n      * [Gr\\xc3\\xbcne Zustellung](https://www.hermesworld.com/de/ueber-uns/klima-und-umweltschutz/gruene-zustellung/)\\n      * [Energieeffiziente Standorte](https://www.hermesworld.com/de/ueber-uns/klima-und-umweltschutz/energieeffiziente-standorte/)\\n      * [Unterst\\xc3\\xbctzung von Klimaschutzprojekten](https://www.hermesworld.com/de/ueber-uns/klima-und-umweltschutz/unterstuetzung-von-klimaschutzprojekten/)\\n    * [Soziale Verantwortung](https://www.hermesworld.com/de/ueber-uns/soziale-verantwortung/faire-zusammenarbeit/)\\n      * [Faire Zusammenarbeit](https://www.hermesworld.com/de/ueber-uns/soziale-verantwortung/faire-zusammenarbeit/)\\n      * [Einhaltung von Sozialstandards](https://www.hermesworld.com/de/ueber-uns/soziale-verantwortung/einhaltung-von-sozialstandards/)\\n      * [Gesellschaftliches Engagement](https://www.hermesworld.com/de/ueber-uns/soziale-verantwortung/gesellschaftliches-engagement/)\\n    * [Downloads](https://www.hermesworld.com/de/ueber-uns/downloads/)\\n      * [Plattformen & Bezahlfunktionen China](https://www.hermesworld.com/de/ueber-uns/downloads/plattformen-bezahlfunktionen-china/)\\n      * [Export nach China](https://www.hermesworld.com/de/ueber-uns/downloads/export-nach-china/)\\n    * [Messen](https://www.hermesworld.com/de/ueber-uns/messen/)\\n    * [Historie](https://www.hermesworld.com/de/ueber-uns/historie/2010er-jahre/)\\n      * [2010er Jahre](https://www.hermesworld.com/de/ueber-uns/historie/2010er-jahre/)\\n      * [2000er Jahre](https://www.hermesworld.com/de/ueber-uns/historie/2000er-jahre/)\\n      * [1990er Jahre](https://www.hermesworld.com/de/ueber-uns/historie/1990er-jahre/)\\n      * [1980er Jahre](https://www.hermesworld.com/de/ueber-uns/historie/1980er-jahre/)\\n      * [1970er Jahre](https://www.hermesworld.com/de/ueber-uns/historie/1970er-jahre/)\\n\\n  * [Karriere](https://www.hermesworld.com/de/karriere/karriere-uebersicht/)\\n\\n    * [Karriere \\xc3\\x9cbersicht](https://www.hermesworld.com/de/karriere/karriere-uebersicht/)\\n    * [Jobs bei Hermes Germany](https://www.hermesworld.com/de/karriere/jobs/)\\n    * [Jobb\\xc3\\xb6rse der Hermes-Gruppe](https://www.hermesworld.com/de/karriere/jobboerse/)\\n    * [Unsere Gesellschaften](https://www.hermesworld.com/de/karriere/unsere-gesellschaften/)\\n      * [Hermes Fulfilment](https://www.hermesworld.com/de/karriere/unsere-gesellschaften/hermes-fulfilment/hermes-fulfilment/)\\n        * [Hermes Fulfilment](https://www.hermesworld.com/de/karriere/unsere-gesellschaften/hermes-fulfilment/hermes-fulfilment/)\\n        * [Was uns auszeichnet](https://www.hermesworld.com/de/karriere/unsere-gesellschaften/hermes-fulfilment/was-uns-auszeichnet/)\\n        * [Ausbildung](https://www.hermesworld.com/de/karriere/unsere-gesellschaften/hermes-fulfilment/ausbildung-duales-studium/)\\n        * [Studierende & Absolventen](https://www.hermesworld.com/de/karriere/unsere-gesellschaften/hermes-fulfilment/studierende-absolventen/)\\n        * [Deine Bewerbung](https://www.hermesworld.com/de/karriere/unsere-gesellschaften/hermes-fulfilment/ihre-bewerbung/)\\n      * [Hermes Germany](https://www.hermesworld.com/de/karriere/unsere-gesellschaften/hermes-germany/hermes-germany/)\\n        * [Hermes Germany](https://www.hermesworld.com/de/karriere/unsere-gesellschaften/hermes-germany/hermes-germany/)\\n        * [Ausbildung & Duales Studium](https://www.hermesworld.com/de/karriere/unsere-gesellschaften/hermes-germany/ausbildung-duales-studium/)\\n        * [Studierende & Absolventen](https://www.hermesworld.com/de/karriere/unsere-gesellschaften/hermes-germany/studierende-absolventen/)\\n        * [Berufserfahrene](https://www.hermesworld.com/de/karriere/unsere-gesellschaften/hermes-germany/berufserfahrene/)\\n        * [Tech](https://www.hermesworld.com/de/karriere/unsere-gesellschaften/hermes-germany/tech/)\\n          * [ Architecture & Information Security ](https://www.hermesworld.com/de/karriere/unsere-gesellschaften/hermes-germany/tech/architecture-integration-security/)\\n          * [ANS](https://www.hermesworld.com/de/karriere/unsere-gesellschaften/hermes-germany/tech/ans/)\\n          * [Cloud & Application Infrastructure](https://www.hermesworld.com/de/karriere/unsere-gesellschaften/hermes-germany/tech/cloud-application-infrastructure/)\\n          * [IT-Finance und IT-Licensemanagement](https://www.hermesworld.com/de/karriere/unsere-gesellschaften/hermes-germany/tech/it-finance-and-it-licensemanagement/)\\n          * [BlueOps](https://www.hermesworld.com/de/karriere/unsere-gesellschaften/hermes-germany/tech/blueops/)\\n          * [European Network](https://www.hermesworld.com/de/karriere/unsere-gesellschaften/hermes-germany/tech/european-network/)\\n          * [Black OPs](https://www.hermesworld.com/de/karriere/unsere-gesellschaften/hermes-germany/tech/black-ops/)\\n          * [Business Analytics](https://www.hermesworld.com/de/karriere/unsere-gesellschaften/hermes-germany/tech/business-analytics/)\\n          * [Support Solutions](https://www.hermesworld.com/de/karriere/unsere-gesellschaften/hermes-germany/tech/support-solutions/)\\n          * [Servicedesk](https://www.hermesworld.com/de/karriere/unsere-gesellschaften/hermes-germany/tech/servicedesk/)\\n          * [Supply Chain Solutions](https://www.hermesworld.com/de/karriere/unsere-gesellschaften/hermes-germany/tech/supply-chain-solutions/)\\n        * [Logistik & gewerbliche Jobs](https://www.hermesworld.com/de/karriere/unsere-gesellschaften/hermes-germany/logistik-gewerbliche-jobs/)\\n      * [Hermes Europe](https://www.hermesworld.com/de/karriere/unsere-gesellschaften/hermes-europe/)\\n      * [Hermes Einrichtungs Service](https://www.hermesworld.com/de/karriere/unsere-gesellschaften/hermes-einrichtungs-service/jobs-beim-hes-in-ansbach/)\\n        * [Hermes Einrichtungs Service](https://www.hermesworld.com/de/karriere/unsere-gesellschaften/hermes-einrichtungs-service/hermes-einrichtungs-service/)\\n        * [Was wir dir bei HES bieten](https://www.hermesworld.com/de/karriere/unsere-gesellschaften/hermes-einrichtungs-service/was-wir-ihnen-bei-hes-bieten/)\\n        * [Jobs beim HES](https://www.hermesworld.com/de/karriere/unsere-gesellschaften/hermes-einrichtungs-service/jobs-beim-hes/)\\n        * [Jobs beim HES in Ansbach](https://www.hermesworld.com/de/karriere/unsere-gesellschaften/hermes-einrichtungs-service/jobs-beim-hes-in-ansbach/)\\n        * [Jobs in unseren Depots](https://www.hermesworld.com/de/karriere/unsere-gesellschaften/hermes-einrichtungs-service/jobs-in-unseren-depots/)\\n    * [Karrieremessen](https://www.hermesworld.com/de/karriere/karrieremessen/)\\n\\n  * [Newsroom](https://newsroom.hermesworld.com)\\n\\n    * [Presse](https://newsroom.hermesworld.com/presse/)\\n    * [Mediathek](https://newsroom.hermesworld.com/?s=&fwp_posttype=pressematerial&fwp_pressematerial_type=foto&fwp_paged=2)\\n    * [Pressekontakt](https://newsroom.hermesworld.com/kontakt/)\\n\\n  * [Kontakt](https://www.hermesworld.com/de/kontakt/)\\n\\n  * [ Start](https://www.hermesworld.com/de/)\\n  * [Karriere](https://www.hermesworld.com/de/karriere/karriere-uebersicht/)\\n  * [Jobs bei Hermes Germany](https://www.hermesworld.com/de/karriere/jobs/)\\n\\n# (Junior) Manager (m/w/d) HR Controlling\\n\\n  *  __Hermes Germany GmbH\\n  *  __Hermes Zentrale Hamburg\\n  *  __Berufserfahrung (Junior Level)\\n  * __Berufserfahrung\\n\\n  *  __Finanzen, Controlling\\n  * __Personalwesen, HR\\n  *  __Vollzeit\\n\\n![scheme\\nimage](https://hermesworld.com/de/karriere/jobs/inc/display_image.php?id=4364-HO-1-DE&type=tmp)\\n\\nBei uns stimmt die Balance zwischen Arbeits- und Privatleben. Mit dieser\\nVoraussetzung sorgen wir daf\\xc3\\xbcr, dass du deinen beruflichen Erfolg mit Freude,\\nTeamwork und Eigenverantwortung gestalten kannst. Werde ein Teil von uns und\\nsorge mit neuester Technik und \\xc3\\xbcber 6.000 Kolleg*innen daf\\xc3\\xbcr, dass jeden Tag\\nmehrere Millionen Pakete genau dort ankommen, wo sie bereits erwartet werden.\\nAls Teil der Division Strategy, People & Organization besch\\xc3\\xa4ftigt sich das\\nTeam People Analytics and Compensation mit Zahlen und Daten rund um die\\nMitarbeitenden von Hermes Germany. In unseren Auswertungen und Analysen\\nbesch\\xc3\\xa4ftigen wir uns mit Fragestellungen wie \\xe2\\x80\\x9eWie hoch ist die Frauenquote auf\\nden F\\xc3\\xbchrungsebenen von Hermes?\\xe2\\x80\\x9c oder \\xe2\\x80\\x9eWie ver\\xc3\\xa4ndert sich der Krankenstand \\xc3\\xbcber\\ndas Gesch\\xc3\\xa4ftsjahr hinweg?\\xe2\\x80\\x9c. Au\\xc3\\x9ferdem begleiten wir zahlreiche Projekte mit\\nunseren Analysen und Erkenntnissen.\\n\\n## Was dich erwartet:\\n\\n  * Du erstellst Auswertungen, Statistiken und Pr\\xc3\\xa4sentationen f\\xc3\\xbcr interne Stakeholder wie HR Kolleg*innen oder Fachbereiche sowie f\\xc3\\xbcr externe Stakeholder wie Beh\\xc3\\xb6rden\\n  * Du begleitest tatkr\\xc3\\xa4ftig Prozesse (z.B. Gehaltsrunde) sowie HR-Projekte, um datenbasierte Entscheidungen treffen zu k\\xc3\\xb6nnen\\n  * Du arbeitest aktiv an dem Aufbau einer Qualit\\xc3\\xa4tskontrolle zwischen unseren Systemen mit\\n  * Neue Ideen und Verbesserungsvorschl\\xc3\\xa4ge bringst du mit \\xc3\\x9cberzeugungskraft ein\\n  * Unser Team besteht aus zwei HR Controllern und einer Teamleiterin. Wir zeichnen uns durch viel Leidenschaft an den Themen und Spa\\xc3\\x9f an der Arbeit aus \\n\\n## Was du mitbringen solltest:\\n\\n  * Du hast dein Studium z.B. in den Studieng\\xc3\\xa4ngen Wirtschafts-, Sozialwissenschaften oder Personalmanagement abgeschlossen\\n  * Erste Berufserfahrung in Form von Praktika, Werkstudentent\\xc3\\xa4tigkeiten oder Nebenjobs konntest du bereits sammeln\\n  * Du hast Spa\\xc3\\x9f am Umgang mit Daten und gro\\xc3\\x9fen Zahlenmengen\\n  * Du interessierst dich f\\xc3\\xbcr Fragestellungen rund um moderne Personalarbeit\\n  * Probleml\\xc3\\xb6sef\\xc3\\xa4higkeit, Selbstorganisation und Zielorientierung z\\xc3\\xa4hlen zu deinen St\\xc3\\xa4rken\\n  * Sichere Anwendung der g\\xc3\\xa4ngigen MS-Office Programme (insbesondere Excel und Power Point) ist von Vorteil\\n\\n## Was wir dir bieten:\\n\\n  * Einsatz f\\xc3\\xbchrender Technologien und agiler Prozesse\\n  * Du arbeitest f\\xc3\\xbcr einen mehrfach ausgezeichneten Arbeitgeber, dessen Unternehmenskultur gepr\\xc3\\xa4gt ist durch ein offenes und kooperatives Miteinander\\n  * Flexible Arbeitszeiten, nach Absprache ist auch mobiles Arbeiten m\\xc3\\xb6glich\\n  * Umfangreiches Weiterbildungsangebot\\n  * 15% Rabatt auf otto.de und anderen Shops\\n  * Bezuschussung des Deutschlandtickets, Altersvorsorge, JobRad, verschiedene Sport- und Freizeitangebote uvm.\\n  * Verg\\xc3\\xbcnstigte und vielf\\xc3\\xa4ltige Speiseauswahl in unserer modernen Kantine\\n\\nDie Hermes Gruppe bietet vielseitige Arbeitspl\\xc3\\xa4tze mit langfristigen\\nPerspektiven und t\\xc3\\xa4glich wechselnden Herausforderungen in einer sicheren und\\nzukunftsorientierten Branche. Unser Arbeitsfeld bewegt sich \\xc3\\xbcber die\\nLandesgrenzen hinaus: Wir sind ein international t\\xc3\\xa4tiges Unternehmen und leben\\neine multikulturelle Arbeitsatmosph\\xc3\\xa4re. Unsere Wertsch\\xc3\\xa4tzung gilt allen\\nMenschen gleicherma\\xc3\\x9fen - unabh\\xc3\\xa4ngig von Geschlecht, Nationalit\\xc3\\xa4t, ethnischer\\nHerkunft, Religion, Behinderung oder sexueller Orientierung. Logistik bewegt\\ndie Welt - beweg dich mit!\\n\\nHaben wir dein Interesse geweckt? Dann mache jetzt den ersten Schritt und\\nbewirb dich gleich online bei uns oder informiere dich auf unserer Homepage.\\n\\n  * Lisa Schille\\n  * Junior HR Manager Recruiting\\n\\n  * Viktoria Gratenau\\n  * Teamlead HR Controlling\\n\\n[Zur\\xc3\\xbcck](https://hermesworld.com/de/karriere/jobs/)\\n\\n[Jetzt bewerben!](https://hermesworld.com/de/karriere/jobs/Junior-Manager-mwd-\\nHR-Controlling-de-f4364.html)\\n\\n[ ![rexx systems - software for\\nsuccess](https://hermesworld.com/de/karriere/jobs/bilder/rexx_systems_logo.svg)\\n](https://www.rexx-systems.com \"rexx systems - software for success\")\\n\\n\\n\\n###### Tools & Services\\n\\n  * [ Sendungsverfolgung ](https://www.myhermes.de/empfangen/sendungsverfolgung/)\\n  * [ PaketShop finden ](https://www.myhermes.de/paketshop/)\\n  * [ myHermes Business-Portal ](https://business.myhermes.de/konto/)\\n  * [ click2supplychain.com ](https://www.hermesworld.com/de/unsere-dienstleistungen/transport-logistics/supply-chain-solutions/e-services/)\\n  * [ Hermes PORT ](https://www.hermes-port.de/port/)\\n\\n###### \\xc3\\x9cber uns\\n\\n  * [ Hermes Gruppe ](https://www.hermesworld.com/de/ueber-uns/hermes-gruppe/)\\n  * [ Jobs & Karriere ](https://www.hermesworld.com/de/karriere/karriere-uebersicht/)\\n  * [ Newsroom ](https://newsroom.hermesworld.com)\\n  * [ Hermes Blog ](https://blog.myhermes.de/)\\n\\n###### Kontakt\\n\\n  * [ Gesch\\xc3\\xa4ftskunden Kontakt ](https://www.hermesworld.com/de/kontakt/geschaeftskunden/)\\n  * [ Presse Kontakt ](https://newsroom.hermesworld.com/allgemeiner-kontakt)\\n  * [ Privatkunden Kontakt ](https://www.myhermes.de/service/kontakt/)\\n  * [ Lieferanten Kontakt ](https://www.hermesworld.com/de/kontakt/lieferanten/)\\n  * [ Unternehmer werden ](https://www.hermesworld.com/de/ueber-uns/hermes-gruppe/hermes-logistik-gruppe-deutschland/vertragspartner-werden/)\\n  * [ PaketShop-Partner werden ](https://www.hermesworld.com/de/ueber-uns/hermes-gruppe/hermes-logistik-gruppe-deutschland/paketshop-partner/)\\n\\n###### L\\xc3\\xa4nderversion\\n\\n\\xc3\\x96sterreich China Deutschland Vereinigtes K\\xc3\\xb6nigreich International USA\\n\\n  * Cookies \\n  * [ Impressum ](https://www.hermesworld.com/de/impressum/)\\n  * [ Datenschutz ](https://www.hermesworld.com/de/datenschutz/)\\n  * [ Sicherheitshinweise ](https://www.hermesworld.com/de/sicherheitshinweise/)\\n  * [ Sitemap ](https://www.hermesworld.com/de/sitemap/)\\n\\n\\xc2\\xa9 2023 Hermes Europe GmbH\\n\\n![](//analytics.hermesworld.com/195245818237640/wt.pl?p=324,0)\\n\\n\\n----document 1:----\\n\\n[ Privatkunden ](https://www.myhermes.de)\\n\\n\\xc3\\x96sterreich China Deutschland Vereinigtes K\\xc3\\xb6nigreich International USA\\n\\nMenu AT CN DE EN INT US [Hermes](https://www.hermesworld.com/de/)\\n\\n  * navigation.search\\n\\n  * [Start](https://www.hermesworld.com/de/)\\n  * [Unsere Dienstleistungen](https://www.hermesworld.com/de/unsere-dienstleistungen/)\\n\\n    * [Transport Logistics](https://www.hermesworld.com/de/unsere-dienstleistungen/transport-logistics/)\\n      * [Supply Chain Solutions](https://www.hermesworld.com/de/unsere-dienstleistungen/transport-logistics/supply-chain-solutions/unsere-fokusbranchen/)\\n        * [Unsere Fokusbranchen](https://www.hermesworld.com/de/unsere-dienstleistungen/transport-logistics/supply-chain-solutions/unsere-fokusbranchen/)\\n        * [Supply Chain Services](https://www.hermesworld.com/de/unsere-dienstleistungen/transport-logistics/supply-chain-solutions/supply-chain-services/)\\n        * [E-Services](https://www.hermesworld.com/de/unsere-dienstleistungen/transport-logistics/supply-chain-solutions/e-services/)\\n        * [Zoll Services](https://www.hermesworld.com/de/unsere-dienstleistungen/transport-logistics/supply-chain-solutions/hermes-scan/)\\n        * [Nachhaltigkeit](https://www.hermesworld.com/de/unsere-dienstleistungen/transport-logistics/supply-chain-solutions/massgeschneiderte-logistikloesungen/)\\n        * [Unser Partnernetzwerk](https://www.hermesworld.com/de/unsere-dienstleistungen/transport-logistics/supply-chain-solutions/zusatzdienstleistungen/)\\n          * [FML](https://www.hermesworld.com/de/unsere-dienstleistungen/transport-logistics/supply-chain-solutions/unser-partnernetzwerk/fml/)\\n          * [Jeena](https://www.hermesworld.com/de/unsere-dienstleistungen/transport-logistics/supply-chain-solutions/unsere-globalen-partner/jeena/)\\n          * [SEKO](https://www.hermesworld.com/de/unsere-dienstleistungen/transport-logistics/supply-chain-solutions/unser-partnernetzwerk/seko/)\\n          * [WWG](https://www.hermesworld.com/de/unsere-dienstleistungen/transport-logistics/supply-chain-solutions/unser-partnernetzwerk/wwg/)\\n    * [Global E-Commerce](https://www.hermesworld.com/de/unsere-dienstleistungen/global-e-commerce/)\\n      * [Global E-Commerce](https://www.hermesworld.com/de/unsere-dienstleistungen/global-e-commerce/global-e-commerce/)\\n    * [Distribution](https://www.hermesworld.com/de/unsere-dienstleistungen/distribution/)\\n      * [Paketversand](https://www.hermesworld.com/de/unsere-dienstleistungen/distribution/paketversand/paketversand/)\\n        * [Paketversand](https://www.hermesworld.com/de/unsere-dienstleistungen/distribution/paketversand/paketversand/)\\n      * [2-Mann-Handling](https://www.hermesworld.com/de/unsere-dienstleistungen/distribution/2-mann-handling/2-mann-handling/)\\n        * [2-Mann-Handling](https://www.hermesworld.com/de/unsere-dienstleistungen/distribution/2-mann-handling/2-mann-handling/)\\n        * [Individuelle Versandl\\xc3\\xb6sungen](https://www.hermesworld.com/de/unsere-dienstleistungen/distribution/2-mann-handling/individuelle-versandloesungen/)\\n        * [Zusammenarbeit](https://www.hermesworld.com/de/unsere-dienstleistungen/distribution/2-mann-handling/zusammenarbeit/)\\n        * [Dropshipping](https://www.hermesworld.com/de/unsere-dienstleistungen/distribution/2-mann-handling/dropshipping/)\\n        * [Unser Service f\\xc3\\xbcr Versender](https://www.hermesworld.com/de/unsere-dienstleistungen/distribution/2-mann-handling/unser-service-fuer-versender/)\\n        * [Unser Service f\\xc3\\xbcr Endkunden](https://www.hermesworld.com/de/unsere-dienstleistungen/distribution/2-mann-handling/unser-service-fuer-endkunden/)\\n        * [CO2-neutraler Versand](https://www.hermesworld.com/de/unsere-dienstleistungen/distribution/2-mann-handling/klimaneutraler-versand/)\\n        * [HES Pay](https://www.hermesworld.com/de/unsere-dienstleistungen/distribution/2-mann-handling/hes-pay/)\\n      * [Distribution in Europa](https://www.hermesworld.com/de/unsere-dienstleistungen/distribution/distribution-in-europa/)\\n\\n  * [\\xc3\\x9cber uns](https://www.hermesworld.com/de/ueber-uns/)\\n\\n    * [Auf einen Blick](https://www.hermesworld.com/de/ueber-uns/auf-einen-blick/hermes-auf-einen-blick/)\\n      * [Hermes auf einen Blick](https://www.hermesworld.com/de/ueber-uns/auf-einen-blick/hermes-auf-einen-blick/)\\n    * [Hermes Gruppe](https://www.hermesworld.com/de/ueber-uns/hermes-gruppe/)\\n      * [Hermes Einrichtungs Service](https://www.hermesworld.com/de/ueber-uns/hermes-gruppe/hermes-einrichtungs-service/)\\n        * [Hermes Einrichtungs Service](https://www.hermesworld.com/de/ueber-uns/hermes-gruppe/hermes-einrichtungs-service/)\\n        * [Logistikzentren](https://www.hermesworld.com/de/ueber-uns/hermes-gruppe/hermes-einrichtungs-service/logistikzentren/)\\n        * [Auslieferdepots](https://www.hermesworld.com/de/ueber-uns/hermes-gruppe/hermes-einrichtungs-service/auslieferdepots/)\\n      * [Hermes Fulfilment](https://www.hermesworld.com/de/ueber-uns/hermes-gruppe/hermes-fulfilment/hermes-fulfilment/)\\n        * [Hermes Fulfilment](https://www.hermesworld.com/de/ueber-uns/hermes-gruppe/hermes-fulfilment/hermes-fulfilment/)\\n        * [Daten & Fakten](https://www.hermesworld.com/de/ueber-uns/hermes-gruppe/hermes-fulfilment/daten-fakten/)\\n        * [Einblicke](https://www.hermesworld.com/de/ueber-uns/hermes-gruppe/hermes-fulfilment/einblicke/)\\n        * [Nachhaltigkeit](https://www.hermesworld.com/de/ueber-uns/hermes-gruppe/hermes-fulfilment/nachhaltigkeit/)\\n      * [Hermes Logistik \\xc3\\x96sterreich](https://www.hermesworld.com/de/ueber-uns/hermes-gruppe/hermes-logistik-at/hermes-logistik-oesterreich/)\\n        * [Hermes Logistik \\xc3\\x96sterreich](https://www.hermesworld.com/de/ueber-uns/hermes-gruppe/hermes-logistik-at/hermes-logistik-oesterreich/)\\n        * [PaketShop Partner](https://www.hermesworld.com/de/ueber-uns/hermes-gruppe/hermes-logistik-at/paketshop-partner/)\\n      * [Hermes Germany GmbH](https://www.hermesworld.com/de/ueber-uns/hermes-gruppe/hermes-logistik-gruppe-deutschland/hermes-logistik-gruppe-deutschland/)\\n        * [Hermes Germany GmbH](https://www.hermesworld.com/de/ueber-uns/hermes-gruppe/hermes-logistik-gruppe-deutschland/hermes-logistik-gruppe-deutschland/)\\n        * [PaketShop-Partner werden](https://www.hermesworld.com/de/ueber-uns/hermes-gruppe/hermes-logistik-gruppe-deutschland/paketshop-partner/)\\n        * [Vertragspartner werden](https://www.hermesworld.com/de/ueber-uns/hermes-gruppe/hermes-logistik-gruppe-deutschland/vertragspartner-werden/)\\n          * [Formular](https://www.hermesworld.com/de/ueber-uns/hermes-gruppe/hermes-logistik-gruppe-deutschland/vertragspartner-werden/formular/)\\n      * [Hermes NexTec](https://www.hermesworld.com/de/ueber-uns/hermes-gruppe/hermes-nextec/)\\n      * [Hermes Germany](https://www.hermesworld.com/de/ueber-uns/hermes-gruppe/hermes-transport-logistics/hermes-transport-logistics/)\\n        * [Hermes Germany](https://www.hermesworld.com/de/ueber-uns/hermes-gruppe/hermes-transport-logistics/hermes-transport-logistics/)\\n        * [Downloads](https://www.hermesworld.com/de/ueber-uns/hermes-gruppe/hermes-transport-logistics/downloads/)\\n      * [Hermes UK](https://www.hermesworld.com/de/ueber-uns/hermes-gruppe/hermes-uk/hermes-uk/)\\n        * [Hermes UK](https://www.hermesworld.com/de/ueber-uns/hermes-gruppe/hermes-uk/hermes-uk/)\\n        * [Kundenstimmen](https://www.hermesworld.com/de/ueber-uns/hermes-gruppe/hermes-uk/kundenstimmen/)\\n      * [Hermes BorderGuru](https://www.hermesworld.com/de/ueber-uns/hermes-gruppe/borderguru/)\\n    * [Management](https://www.hermesworld.com/de/ueber-uns/management/)\\n    * [Klima- und Umweltschutz](https://www.hermesworld.com/de/ueber-uns/klima-und-umweltschutz/klima-und-umweltschutz/)\\n      * [Klima- und Umweltschutz](https://www.hermesworld.com/de/ueber-uns/klima-und-umweltschutz/klima-und-umweltschutz/)\\n      * [Gr\\xc3\\xbcne Zustellung](https://www.hermesworld.com/de/ueber-uns/klima-und-umweltschutz/gruene-zustellung/)\\n      * [Energieeffiziente Standorte](https://www.hermesworld.com/de/ueber-uns/klima-und-umweltschutz/energieeffiziente-standorte/)\\n      * [Unterst\\xc3\\xbctzung von Klimaschutzprojekten](https://www.hermesworld.com/de/ueber-uns/klima-und-umweltschutz/unterstuetzung-von-klimaschutzprojekten/)\\n    * [Soziale Verantwortung](https://www.hermesworld.com/de/ueber-uns/soziale-verantwortung/faire-zusammenarbeit/)\\n      * [Faire Zusammenarbeit](https://www.hermesworld.com/de/ueber-uns/soziale-verantwortung/faire-zusammenarbeit/)\\n      * [Einhaltung von Sozialstandards](https://www.hermesworld.com/de/ueber-uns/soziale-verantwortung/einhaltung-von-sozialstandards/)\\n      * [Gesellschaftliches Engagement](https://www.hermesworld.com/de/ueber-uns/soziale-verantwortung/gesellschaftliches-engagement/)\\n    * [Downloads](https://www.hermesworld.com/de/ueber-uns/downloads/)\\n      * [Plattformen & Bezahlfunktionen China](https://www.hermesworld.com/de/ueber-uns/downloads/plattformen-bezahlfunktionen-china/)\\n      * [Export nach China](https://www.hermesworld.com/de/ueber-uns/downloads/export-nach-china/)\\n    * [Messen](https://www.hermesworld.com/de/ueber-uns/messen/)\\n    * [Historie](https://www.hermesworld.com/de/ueber-uns/historie/2010er-jahre/)\\n      * [2010er Jahre](https://www.hermesworld.com/de/ueber-uns/historie/2010er-jahre/)\\n      * [2000er Jahre](https://www.hermesworld.com/de/ueber-uns/historie/2000er-jahre/)\\n      * [1990er Jahre](https://www.hermesworld.com/de/ueber-uns/historie/1990er-jahre/)\\n      * [1980er Jahre](https://www.hermesworld.com/de/ueber-uns/historie/1980er-jahre/)\\n      * [1970er Jahre](https://www.hermesworld.com/de/ueber-uns/historie/1970er-jahre/)\\n\\n  * [Karriere](https://www.hermesworld.com/de/karriere/karriere-uebersicht/)\\n\\n    * [Karriere \\xc3\\x9cbersicht](https://www.hermesworld.com/de/karriere/karriere-uebersicht/)\\n    * [Jobs bei Hermes Germany](https://www.hermesworld.com/de/karriere/jobs/)\\n    * [Jobb\\xc3\\xb6rse der Hermes-Gruppe](https://www.hermesworld.com/de/karriere/jobboerse/)\\n    * [Unsere Gesellschaften](https://www.hermesworld.com/de/karriere/unsere-gesellschaften/)\\n      * [Hermes Fulfilment](https://www.hermesworld.com/de/karriere/unsere-gesellschaften/hermes-fulfilment/hermes-fulfilment/)\\n        * [Hermes Fulfilment](https://www.hermesworld.com/de/karriere/unsere-gesellschaften/hermes-fulfilment/hermes-fulfilment/)\\n        * [Was uns auszeichnet](https://www.hermesworld.com/de/karriere/unsere-gesellschaften/hermes-fulfilment/was-uns-auszeichnet/)\\n        * [Ausbildung](https://www.hermesworld.com/de/karriere/unsere-gesellschaften/hermes-fulfilment/ausbildung-duales-studium/)\\n        * [Studierende & Absolventen](https://www.hermesworld.com/de/karriere/unsere-gesellschaften/hermes-fulfilment/studierende-absolventen/)\\n        * [Deine Bewerbung](https://www.hermesworld.com/de/karriere/unsere-gesellschaften/hermes-fulfilment/ihre-bewerbung/)\\n      * [Hermes Germany](https://www.hermesworld.com/de/karriere/unsere-gesellschaften/hermes-germany/hermes-germany/)\\n        * [Hermes Germany](https://www.hermesworld.com/de/karriere/unsere-gesellschaften/hermes-germany/hermes-germany/)\\n        * [Ausbildung & Duales Studium](https://www.hermesworld.com/de/karriere/unsere-gesellschaften/hermes-germany/ausbildung-duales-studium/)\\n        * [Studierende & Absolventen](https://www.hermesworld.com/de/karriere/unsere-gesellschaften/hermes-germany/studierende-absolventen/)\\n        * [Berufserfahrene](https://www.hermesworld.com/de/karriere/unsere-gesellschaften/hermes-germany/berufserfahrene/)\\n        * [Tech](https://www.hermesworld.com/de/karriere/unsere-gesellschaften/hermes-germany/tech/)\\n          * [ Architecture & Information Security ](https://www.hermesworld.com/de/karriere/unsere-gesellschaften/hermes-germany/tech/architecture-integration-security/)\\n          * [ANS](https://www.hermesworld.com/de/karriere/unsere-gesellschaften/hermes-germany/tech/ans/)\\n          * [Cloud & Application Infrastructure](https://www.hermesworld.com/de/karriere/unsere-gesellschaften/hermes-germany/tech/cloud-application-infrastructure/)\\n          * [IT-Finance und IT-Licensemanagement](https://www.hermesworld.com/de/karriere/unsere-gesellschaften/hermes-germany/tech/it-finance-and-it-licensemanagement/)\\n          * [BlueOps](https://www.hermesworld.com/de/karriere/unsere-gesellschaften/hermes-germany/tech/blueops/)\\n          * [European Network](https://www.hermesworld.com/de/karriere/unsere-gesellschaften/hermes-germany/tech/european-network/)\\n          * [Black OPs](https://www.hermesworld.com/de/karriere/unsere-gesellschaften/hermes-germany/tech/black-ops/)\\n          * [Business Analytics](https://www.hermesworld.com/de/karriere/unsere-gesellschaften/hermes-germany/tech/business-analytics/)\\n          * [Support Solutions](https://www.hermesworld.com/de/karriere/unsere-gesellschaften/hermes-germany/tech/support-solutions/)\\n          * [Servicedesk](https://www.hermesworld.com/de/karriere/unsere-gesellschaften/hermes-germany/tech/servicedesk/)\\n          * [Supply Chain Solutions](https://www.hermesworld.com/de/karriere/unsere-gesellschaften/hermes-germany/tech/supply-chain-solutions/)\\n        * [Logistik & gewerbliche Jobs](https://www.hermesworld.com/de/karriere/unsere-gesellschaften/hermes-germany/logistik-gewerbliche-jobs/)\\n      * [Hermes Europe](https://www.hermesworld.com/de/karriere/unsere-gesellschaften/hermes-europe/)\\n      * [Hermes Einrichtungs Service](https://www.hermesworld.com/de/karriere/unsere-gesellschaften/hermes-einrichtungs-service/jobs-beim-hes-in-ansbach/)\\n        * [Hermes Einrichtungs Service](https://www.hermesworld.com/de/karriere/unsere-gesellschaften/hermes-einrichtungs-service/hermes-einrichtungs-service/)\\n        * [Was wir dir bei HES bieten](https://www.hermesworld.com/de/karriere/unsere-gesellschaften/hermes-einrichtungs-service/was-wir-ihnen-bei-hes-bieten/)\\n        * [Jobs beim HES](https://www.hermesworld.com/de/karriere/unsere-gesellschaften/hermes-einrichtungs-service/jobs-beim-hes/)\\n        * [Jobs beim HES in Ansbach](https://www.hermesworld.com/de/karriere/unsere-gesellschaften/hermes-einrichtungs-service/jobs-beim-hes-in-ansbach/)\\n        * [Jobs in unseren Depots](https://www.hermesworld.com/de/karriere/unsere-gesellschaften/hermes-einrichtungs-service/jobs-in-unseren-depots/)\\n    * [Karrieremessen](https://www.hermesworld.com/de/karriere/karrieremessen/)\\n\\n  * [Newsroom](https://newsroom.hermesworld.com)\\n\\n    * [Presse](https://newsroom.hermesworld.com/presse/)\\n    * [Mediathek](https://newsroom.hermesworld.com/?s=&fwp_posttype=pressematerial&fwp_pressematerial_type=foto&fwp_paged=2)\\n    * [Pressekontakt](https://newsroom.hermesworld.com/kontakt/)\\n\\n  * [Kontakt](https://www.hermesworld.com/de/kontakt/)\\n\\n  * [ Start](https://www.hermesworld.com/de/)\\n  * [Karriere](https://www.hermesworld.com/de/karriere/karriere-uebersicht/)\\n  * [Jobs bei Hermes Germany](https://www.hermesworld.com/de/karriere/jobs/)\\n\\n# (Senior-) Product Manager (m/w/d)\\n\\n  * __Hermes Germany GmbH\\n  *  __Hermes Zentrale Hamburg\\n  *  __Berufserfahrung\\n\\n  *  __Marketing / Kommunikation / Redaktion\\n  * __Marketing, Kommunikation, PR\\n  *  __Vollzeit\\n\\n![scheme\\nimage](https://hermesworld.com/de/karriere/jobs/inc/display_image.php?id=3839-HO-1-DE&type=tmp)\\n\\nBei uns stimmt die Balance zwischen Arbeits- und Privatleben. Mit dieser\\nVoraussetzung sorgen wir daf\\xc3\\xbcr, dass du deinen beruflichen Erfolg mit Freude,\\nTeamwork und Eigenverantwortung gestalten kannst. Werde ein Teil von uns und\\nsorge mit neuester Technik und \\xc3\\xbcber 6.000 Kolleg*innen daf\\xc3\\xbcr, dass jeden Tag\\nmehrere Millionen Pakete genau dort ankommen, wo sie bereits erwartet werden.\\n\\n## Was dich erwartet:\\n\\n  * Du verantwortest strategisch und operativ einen Teil unseres Produktportfolios (z.B. Retoure) \\xc3\\xbcber die gesamte Customer Journey, von der Beauftragung durch den Versender bis zur Zustellung an den Empf\\xc3\\xa4nger\\n  * Du beobachtest und analysierst die Zielgruppen, den Markt und den Wettbewerb, um darauf basierend Produkt-, Preis- und Kommunikationsma\\xc3\\x9fnahmen zu initiieren und umzusetzen, die den ganzheitlichen Erfolg unseres Produktportfolios \\xc3\\xbcber den gesamten Lebenszyklus vorantreiben\\n  * Du hast die wesentlichen Produkt-KPIs (wie z.B. Menge, Deckungsbeitrag, Qualit\\xc3\\xa4t, Kundenzufriedenheit) kontinuierlich im Blick und leitest Optimierungspotenziale ab\\n  * Du leitest neue Produktideen unter Ber\\xc3\\xbccksichtigung der Unternehmensziele ab und erstellst daf\\xc3\\xbcr Marktanalysen, Business Cases und Pr\\xc3\\xa4sentationen mit klaren Handlungsempfehlungen\\n  * Du initiierst Produkt-Launches und koordinierst deren Umsetzung als Initiativen-Owner\\n  * Du begleitest die Entwicklung, Durchf\\xc3\\xbchrung und Auswertung von Marktforschungen und Kundenbefragungen\\n  * Du \\xc3\\xbcbernimmst als \\xe2\\x80\\x9eProduct Lead\\xe2\\x80\\x9c die fachliche Leitung eines crossfunktionalen Produktteams mit dedizierten Vertretern relevanter Funktionen wie z.B. Operations, IT, Sales, Controlling oder Legal \\n\\n## Was du mitbringen solltest:\\n\\n  * Du hast Dein Studium, idealerweise mit Schwerpunkt Produktmanagement, oder eine vergleichbare Ausbildung erfolgreich abgeschlossen\\n  * Du bringst mehrj\\xc3\\xa4hrige Berufserfahrung im Produkt- oder Brand Management mit, gern auch aus dem FMCG-Umfeld\\n  * Dich zeichnet eine hohe analytische Kompetenz, verbunden mit einem sehr guten Zahlenverst\\xc3\\xa4ndnis hinsichtlich der Interpretation und Steuerung von Kennzahlen aus\\n  * Du verf\\xc3\\xbcgst \\xc3\\xbcber eine ausgepr\\xc3\\xa4gte Kundenorientierung\\n  * Du bist kreativ und suchst permanent nach den besten L\\xc3\\xb6sungen\\n  * Deine Arbeitsweise ist ergebnisorientiert und gepr\\xc3\\xa4gt von hoher Eigenverantwortung und Selbstst\\xc3\\xa4ndigkeit\\n  * Dank Deiner offenen Art und zielgerichteten Kommunikation, gepaart mit einem hohen Ma\\xc3\\x9f an Verhandlungsgeschick, f\\xc3\\xa4llt es Dir leicht, aktiv zwischen den relevanten Unternehmensbereichen hierarchie\\xc3\\xbcbergreifend vermitteln zu k\\xc3\\xb6nnen\\n\\n## Was wir dir bieten:\\n\\n  * Einsatz f\\xc3\\xbchrender Technologien und agiler Prozesse\\n  * Du arbeitest f\\xc3\\xbcr einen mehrfach ausgezeichneten Arbeitgeber, dessen Unternehmenskultur gepr\\xc3\\xa4gt ist durch ein offenes und kooperatives Miteinander\\n  * Flexible Arbeitszeiten, nach Absprache ist auch mobiles Arbeiten m\\xc3\\xb6glich\\n  * Umfangreiches Weiterbildungsangebot\\n  * 15% Rabatt auf otto.de und anderen Shops\\n  * Bezuschussung des Deutschlandtickets, Altersvorsorge, JobRad, verschiedene Sport- und Freizeitangebote uvm.\\n  * Verg\\xc3\\xbcnstigte und vielf\\xc3\\xa4ltige Speiseauswahl in unserer modernen Kantine\\n\\n  \\nDie Hermes Gruppe bietet vielseitige Arbeitspl\\xc3\\xa4tze mit langfristigen\\nPerspektiven und t\\xc3\\xa4glich wechselnden Herausforderungen in einer sicheren und\\nzukunftsorientierten Branche. Unser Arbeitsfeld bewegt sich \\xc3\\xbcber die\\nLandesgrenzen hinaus: Wir sind ein international t\\xc3\\xa4tiges Unternehmen und leben\\neine multikulturelle Arbeitsatmosph\\xc3\\xa4re. Unsere Wertsch\\xc3\\xa4tzung gilt allen\\nMenschen gleicherma\\xc3\\x9fen - unabh\\xc3\\xa4ngig von Geschlecht, Nationalit\\xc3\\xa4t, ethnischer\\nHerkunft, Religion, Behinderung oder sexueller Orientierung.  \\n  \\nLogistik bewegt die Welt - beweg dich mit!\\n\\nHaben wir dein Interesse geweckt? Dann mache jetzt den ersten Schritt und\\nbewirb dich gleich online bei uns oder informiere dich auf unserer Homepage.\\n\\n  * Lisa Overbeck\\n  * Senior HR Manager Recruiting\\n\\n  * Jessica Michaels\\n  * Teamlead Product Management\\n\\n[Zur\\xc3\\xbcck](https://hermesworld.com/de/karriere/jobs/)\\n\\n[Jetzt bewerben!](https://hermesworld.com/de/karriere/jobs/Senior-Product-\\nManager-mwd-de-f3839.html)\\n\\n[ ![rexx systems - software for\\nsuccess](https://hermesworld.com/de/karriere/jobs/bilder/rexx_systems_logo.svg)\\n](https://www.rexx-systems.com \"rexx systems - software for success\")\\n\\n\\n\\n###### Tools & Services\\n\\n  * [ Sendungsverfolgung ](https://www.myhermes.de/empfangen/sendungsverfolgung/)\\n  * [ PaketShop finden ](https://www.myhermes.de/paketshop/)\\n  * [ myHermes Business-Portal ](https://business.myhermes.de/konto/)\\n  * [ click2supplychain.com ](https://www.hermesworld.com/de/unsere-dienstleistungen/transport-logistics/supply-chain-solutions/e-services/)\\n  * [ Hermes PORT ](https://www.hermes-port.de/port/)\\n\\n###### \\xc3\\x9cber uns\\n\\n  * [ Hermes Gruppe ](https://www.hermesworld.com/de/ueber-uns/hermes-gruppe/)\\n  * [ Jobs & Karriere ](https://www.hermesworld.com/de/karriere/karriere-uebersicht/)\\n  * [ Newsroom ](https://newsroom.hermesworld.com)\\n  * [ Hermes Blog ](https://blog.myhermes.de/)\\n\\n###### Kontakt\\n\\n  * [ Gesch\\xc3\\xa4ftskunden Kontakt ](https://www.hermesworld.com/de/kontakt/geschaeftskunden/)\\n  * [ Presse Kontakt ](https://newsroom.hermesworld.com/allgemeiner-kontakt)\\n  * [ Privatkunden Kontakt ](https://www.myhermes.de/service/kontakt/)\\n  * [ Lieferanten Kontakt ](https://www.hermesworld.com/de/kontakt/lieferanten/)\\n  * [ Unternehmer werden ](https://www.hermesworld.com/de/ueber-uns/hermes-gruppe/hermes-logistik-gruppe-deutschland/vertragspartner-werden/)\\n  * [ PaketShop-Partner werden ](https://www.hermesworld.com/de/ueber-uns/hermes-gruppe/hermes-logistik-gruppe-deutschland/paketshop-partner/)\\n\\n###### L\\xc3\\xa4nderversion\\n\\n\\xc3\\x96sterreich China Deutschland Vereinigtes K\\xc3\\xb6nigreich International USA\\n\\n  * Cookies \\n  * [ Impressum ](https://www.hermesworld.com/de/impressum/)\\n  * [ Datenschutz ](https://www.hermesworld.com/de/datenschutz/)\\n  * [ Sicherheitshinweise ](https://www.hermesworld.com/de/sicherheitshinweise/)\\n  * [ Sitemap ](https://www.hermesworld.com/de/sitemap/)\\n\\n\\xc2\\xa9 2023 Hermes Europe GmbH\\n\\n![](//analytics.hermesworld.com/195245818237640/wt.pl?p=324,0)\\n\\n'\n",
      "Started parsing the file under job_id dc62a111-0660-45d4-88e1-2f724966ccb2\n"
     ]
    },
    {
     "data": {
      "text/html": [
       "<pre style=\"white-space:pre;overflow-x:auto;line-height:normal;font-family:Menlo,'DejaVu Sans Mono',consolas,'Courier New',monospace\"><span style=\"font-weight: bold\">[</span>\n",
       "<span style=\"color: #7fbf7f; text-decoration-color: #7fbf7f\">│   </span><span style=\"color: #800080; text-decoration-color: #800080; font-weight: bold\">Document</span><span style=\"font-weight: bold\">(</span>\n",
       "<span style=\"color: #7fbf7f; text-decoration-color: #7fbf7f\">│   │   </span><span style=\"color: #808000; text-decoration-color: #808000\">id_</span>=<span style=\"color: #008000; text-decoration-color: #008000\">'205d1cc0-ad0c-4bea-b424-cc30a626bbea'</span>,\n",
       "<span style=\"color: #7fbf7f; text-decoration-color: #7fbf7f\">│   │   </span><span style=\"color: #808000; text-decoration-color: #808000\">embedding</span>=<span style=\"color: #800080; text-decoration-color: #800080; font-style: italic\">None</span>,\n",
       "<span style=\"color: #7fbf7f; text-decoration-color: #7fbf7f\">│   │   </span><span style=\"color: #808000; text-decoration-color: #808000\">metadata</span>=<span style=\"font-weight: bold\">{}</span>,\n",
       "<span style=\"color: #7fbf7f; text-decoration-color: #7fbf7f\">│   │   </span><span style=\"color: #808000; text-decoration-color: #808000\">excluded_embed_metadata_keys</span>=<span style=\"font-weight: bold\">[]</span>,\n",
       "<span style=\"color: #7fbf7f; text-decoration-color: #7fbf7f\">│   │   </span><span style=\"color: #808000; text-decoration-color: #808000\">excluded_llm_metadata_keys</span>=<span style=\"font-weight: bold\">[]</span>,\n",
       "<span style=\"color: #7fbf7f; text-decoration-color: #7fbf7f\">│   │   </span><span style=\"color: #808000; text-decoration-color: #808000\">relationships</span>=<span style=\"font-weight: bold\">{}</span>,\n",
       "<span style=\"color: #7fbf7f; text-decoration-color: #7fbf7f\">│   │   </span><span style=\"color: #808000; text-decoration-color: #808000\">text</span>=<span style=\"color: #008000; text-decoration-color: #008000\">'# Privatkunden\\n\\nÖsterreich China Deutschland Vereinigtes Königreich International USA\\n\\nMenu AT CN DE EN INT US Hermes\\n\\n- navigation.search\\n- Start\\n- Unsere Dienstleistungen'</span>,\n",
       "<span style=\"color: #7fbf7f; text-decoration-color: #7fbf7f\">│   │   </span><span style=\"color: #808000; text-decoration-color: #808000\">mimetype</span>=<span style=\"color: #008000; text-decoration-color: #008000\">'text/plain'</span>,\n",
       "<span style=\"color: #7fbf7f; text-decoration-color: #7fbf7f\">│   │   </span><span style=\"color: #808000; text-decoration-color: #808000\">start_char_idx</span>=<span style=\"color: #800080; text-decoration-color: #800080; font-style: italic\">None</span>,\n",
       "<span style=\"color: #7fbf7f; text-decoration-color: #7fbf7f\">│   │   </span><span style=\"color: #808000; text-decoration-color: #808000\">end_char_idx</span>=<span style=\"color: #800080; text-decoration-color: #800080; font-style: italic\">None</span>,\n",
       "<span style=\"color: #7fbf7f; text-decoration-color: #7fbf7f\">│   │   </span><span style=\"color: #808000; text-decoration-color: #808000\">text_template</span>=<span style=\"color: #008000; text-decoration-color: #008000\">'{metadata_str}\\n\\n{content}'</span>,\n",
       "<span style=\"color: #7fbf7f; text-decoration-color: #7fbf7f\">│   │   </span><span style=\"color: #808000; text-decoration-color: #808000\">metadata_template</span>=<span style=\"color: #008000; text-decoration-color: #008000\">'{key}: {value}'</span>,\n",
       "<span style=\"color: #7fbf7f; text-decoration-color: #7fbf7f\">│   │   </span><span style=\"color: #808000; text-decoration-color: #808000\">metadata_seperator</span>=<span style=\"color: #008000; text-decoration-color: #008000\">'\\n'</span>\n",
       "<span style=\"color: #7fbf7f; text-decoration-color: #7fbf7f\">│   </span><span style=\"font-weight: bold\">)</span>,\n",
       "<span style=\"color: #7fbf7f; text-decoration-color: #7fbf7f\">│   </span><span style=\"color: #800080; text-decoration-color: #800080; font-weight: bold\">Document</span><span style=\"font-weight: bold\">(</span>\n",
       "<span style=\"color: #7fbf7f; text-decoration-color: #7fbf7f\">│   │   </span><span style=\"color: #808000; text-decoration-color: #808000\">id_</span>=<span style=\"color: #008000; text-decoration-color: #008000\">'38cd6b87-b9cb-4a0a-9b29-574e89846ce9'</span>,\n",
       "<span style=\"color: #7fbf7f; text-decoration-color: #7fbf7f\">│   │   </span><span style=\"color: #808000; text-decoration-color: #808000\">embedding</span>=<span style=\"color: #800080; text-decoration-color: #800080; font-style: italic\">None</span>,\n",
       "<span style=\"color: #7fbf7f; text-decoration-color: #7fbf7f\">│   │   </span><span style=\"color: #808000; text-decoration-color: #808000\">metadata</span>=<span style=\"font-weight: bold\">{}</span>,\n",
       "<span style=\"color: #7fbf7f; text-decoration-color: #7fbf7f\">│   │   </span><span style=\"color: #808000; text-decoration-color: #808000\">excluded_embed_metadata_keys</span>=<span style=\"font-weight: bold\">[]</span>,\n",
       "<span style=\"color: #7fbf7f; text-decoration-color: #7fbf7f\">│   │   </span><span style=\"color: #808000; text-decoration-color: #808000\">excluded_llm_metadata_keys</span>=<span style=\"font-weight: bold\">[]</span>,\n",
       "<span style=\"color: #7fbf7f; text-decoration-color: #7fbf7f\">│   │   </span><span style=\"color: #808000; text-decoration-color: #808000\">relationships</span>=<span style=\"font-weight: bold\">{}</span>,\n",
       "<span style=\"color: #7fbf7f; text-decoration-color: #7fbf7f\">│   │   </span><span style=\"color: #808000; text-decoration-color: #808000\">text</span>=<span style=\"color: #008000; text-decoration-color: #008000\">'# Zusammenarbeit\\n\\nhttps://www.hermesworld.com/de/unsere-dienstleistungen/distribution/2-mann-handling/zusammenarbeit/\\n\\n# Dropshipping\\n\\nhttps://www.hermesworld.com/de/unsere-dienstleistungen/distribution/2-mann-handling/dropshipping/\\n\\n# Unser Service für Versender\\n\\nhttps://www.hermesworld.com/de/unsere-dienstleistungen/distribution/2-mann-handling/unser-service-fuer-versender/\\n\\n# Unser Service für Endkunden\\n\\nhttps://www.hermesworld.com/de/unsere-dienstleistungen/distribution/2-mann-handling/unser-service-fuer-endkunden/\\n\\n# CO2-neutraler Versand\\n\\nhttps://www.hermesworld.com/de/unsere-dienstleistungen/distribution/2-mann-handling/klimaneutraler-versand/\\n\\n# HES Pay\\n\\nhttps://www.hermesworld.com/de/unsere-dienstleistungen/distribution/2-mann-handling/hes-pay/\\n\\n# Distribution in Europa\\n\\nhttps://www.hermesworld.com/de/unsere-dienstleistungen/distribution/distribution-in-europa/\\n\\n# Über uns\\n\\n# Auf einen Blick\\n\\nhttps://www.hermesworld.com/de/ueber-uns/auf-einen-blick/hermes-auf-einen-blick/\\n\\n# Hermes Gruppe\\n\\n# Hermes Einrichtungs Service\\n\\nhttps://www.hermesworld.com/de/ueber-uns/hermes-gruppe/hermes-einrichtungs-service/\\n\\n- Hermes Einrichtungs Service\\n- Logistikzentren\\n- Auslieferdepots\\n\\n# Hermes Fulfilment\\n\\nhttps://www.hermesworld.com/de/ueber-uns/hermes-gruppe/hermes-fulfilment/hermes-fulfilment/\\n\\n- Hermes Fulfilment\\n- Daten &amp; Fakten\\n- Einblicke\\n- Nachhaltigkeit\\n\\n# Hermes Logistik Österreich\\n\\nhttps://www.hermesworld.com/de/ueber-uns/hermes-gruppe/hermes-logistik-at/hermes-logistik-oesterreich/\\n\\n- Hermes Logistik Österreich\\n- PaketShop Partner\\n\\n# Hermes Germany GmbH\\n\\nhttps://www.hermesworld.com/de/ueber-uns/hermes-gruppe/hermes-logistik-gruppe-deutschland/hermes-logistik-gruppe-deutschland/\\n\\n- Hermes Germany GmbH\\n- PaketShop-Partner werden\\n- Vertragspartner werden\\n\\n- Formular\\n\\n# Hermes NexTec\\n\\nhttps://www.hermesworld.com/de/ueber-uns/hermes-gruppe/hermes-nextec/\\n\\n# Hermes Germany\\n\\nhttps://www.hermesworld.com/de/ueber-uns/hermes-'</span>,\n",
       "<span style=\"color: #7fbf7f; text-decoration-color: #7fbf7f\">│   │   </span><span style=\"color: #808000; text-decoration-color: #808000\">mimetype</span>=<span style=\"color: #008000; text-decoration-color: #008000\">'text/plain'</span>,\n",
       "<span style=\"color: #7fbf7f; text-decoration-color: #7fbf7f\">│   │   </span><span style=\"color: #808000; text-decoration-color: #808000\">start_char_idx</span>=<span style=\"color: #800080; text-decoration-color: #800080; font-style: italic\">None</span>,\n",
       "<span style=\"color: #7fbf7f; text-decoration-color: #7fbf7f\">│   │   </span><span style=\"color: #808000; text-decoration-color: #808000\">end_char_idx</span>=<span style=\"color: #800080; text-decoration-color: #800080; font-style: italic\">None</span>,\n",
       "<span style=\"color: #7fbf7f; text-decoration-color: #7fbf7f\">│   │   </span><span style=\"color: #808000; text-decoration-color: #808000\">text_template</span>=<span style=\"color: #008000; text-decoration-color: #008000\">'{metadata_str}\\n\\n{content}'</span>,\n",
       "<span style=\"color: #7fbf7f; text-decoration-color: #7fbf7f\">│   │   </span><span style=\"color: #808000; text-decoration-color: #808000\">metadata_template</span>=<span style=\"color: #008000; text-decoration-color: #008000\">'{key}: {value}'</span>,\n",
       "<span style=\"color: #7fbf7f; text-decoration-color: #7fbf7f\">│   │   </span><span style=\"color: #808000; text-decoration-color: #808000\">metadata_seperator</span>=<span style=\"color: #008000; text-decoration-color: #008000\">'\\n'</span>\n",
       "<span style=\"color: #7fbf7f; text-decoration-color: #7fbf7f\">│   </span><span style=\"font-weight: bold\">)</span>,\n",
       "<span style=\"color: #7fbf7f; text-decoration-color: #7fbf7f\">│   </span><span style=\"color: #800080; text-decoration-color: #800080; font-weight: bold\">Document</span><span style=\"font-weight: bold\">(</span>\n",
       "<span style=\"color: #7fbf7f; text-decoration-color: #7fbf7f\">│   │   </span><span style=\"color: #808000; text-decoration-color: #808000\">id_</span>=<span style=\"color: #008000; text-decoration-color: #008000\">'62690241-1763-4ed6-a068-5404a6220a58'</span>,\n",
       "<span style=\"color: #7fbf7f; text-decoration-color: #7fbf7f\">│   │   </span><span style=\"color: #808000; text-decoration-color: #808000\">embedding</span>=<span style=\"color: #800080; text-decoration-color: #800080; font-style: italic\">None</span>,\n",
       "<span style=\"color: #7fbf7f; text-decoration-color: #7fbf7f\">│   │   </span><span style=\"color: #808000; text-decoration-color: #808000\">metadata</span>=<span style=\"font-weight: bold\">{}</span>,\n",
       "<span style=\"color: #7fbf7f; text-decoration-color: #7fbf7f\">│   │   </span><span style=\"color: #808000; text-decoration-color: #808000\">excluded_embed_metadata_keys</span>=<span style=\"font-weight: bold\">[]</span>,\n",
       "<span style=\"color: #7fbf7f; text-decoration-color: #7fbf7f\">│   │   </span><span style=\"color: #808000; text-decoration-color: #808000\">excluded_llm_metadata_keys</span>=<span style=\"font-weight: bold\">[]</span>,\n",
       "<span style=\"color: #7fbf7f; text-decoration-color: #7fbf7f\">│   │   </span><span style=\"color: #808000; text-decoration-color: #808000\">relationships</span>=<span style=\"font-weight: bold\">{}</span>,\n",
       "<span style=\"color: #7fbf7f; text-decoration-color: #7fbf7f\">│   │   </span><span style=\"color: #808000; text-decoration-color: #808000\">text</span>=<span style=\"color: #008000; text-decoration-color: #008000\">'# gruppe/hermes-transport-logistics/hermes-transport-logistics/\\n\\n- Hermes Germany\\n- Downloads\\n\\n# Hermes UK\\n\\n- Hermes UK\\n- Kundenstimmen\\n\\n# Hermes BorderGuru\\n\\n- Hermes BorderGuru\\n\\n# Management\\n\\n- Management\\n\\n# Klima- und Umweltschutz\\n\\n- Klima- und Umweltschutz\\n- Grüne Zustellung\\n- Energieeffiziente Standorte\\n- Unterstützung von Klimaschutzprojekten\\n\\n# Soziale Verantwortung\\n\\n- Faire Zusammenarbeit\\n- Einhaltung von Sozialstandards\\n- Gesellschaftliches Engagement\\n\\n# Downloads\\n\\n- Plattformen &amp; Bezahlfunktionen China\\n- Export nach China\\n\\n# Messen\\n\\n- Messen\\n\\n# Historie\\n\\n- 2010er Jahre\\n- 2000er Jahre\\n- 1990er Jahre\\n- 1980er Jahre\\n- 1970er Jahre\\n\\n# Karriere\\n\\n- Karriere Übersicht\\n- Jobs bei Hermes Germany\\n- Jobbörse der Hermes-Gruppe\\n- Unsere Gesellschaften'</span>,\n",
       "<span style=\"color: #7fbf7f; text-decoration-color: #7fbf7f\">│   │   </span><span style=\"color: #808000; text-decoration-color: #808000\">mimetype</span>=<span style=\"color: #008000; text-decoration-color: #008000\">'text/plain'</span>,\n",
       "<span style=\"color: #7fbf7f; text-decoration-color: #7fbf7f\">│   │   </span><span style=\"color: #808000; text-decoration-color: #808000\">start_char_idx</span>=<span style=\"color: #800080; text-decoration-color: #800080; font-style: italic\">None</span>,\n",
       "<span style=\"color: #7fbf7f; text-decoration-color: #7fbf7f\">│   │   </span><span style=\"color: #808000; text-decoration-color: #808000\">end_char_idx</span>=<span style=\"color: #800080; text-decoration-color: #800080; font-style: italic\">None</span>,\n",
       "<span style=\"color: #7fbf7f; text-decoration-color: #7fbf7f\">│   │   </span><span style=\"color: #808000; text-decoration-color: #808000\">text_template</span>=<span style=\"color: #008000; text-decoration-color: #008000\">'{metadata_str}\\n\\n{content}'</span>,\n",
       "<span style=\"color: #7fbf7f; text-decoration-color: #7fbf7f\">│   │   </span><span style=\"color: #808000; text-decoration-color: #808000\">metadata_template</span>=<span style=\"color: #008000; text-decoration-color: #008000\">'{key}: {value}'</span>,\n",
       "<span style=\"color: #7fbf7f; text-decoration-color: #7fbf7f\">│   │   </span><span style=\"color: #808000; text-decoration-color: #808000\">metadata_seperator</span>=<span style=\"color: #008000; text-decoration-color: #008000\">'\\n'</span>\n",
       "<span style=\"color: #7fbf7f; text-decoration-color: #7fbf7f\">│   </span><span style=\"font-weight: bold\">)</span>,\n",
       "<span style=\"color: #7fbf7f; text-decoration-color: #7fbf7f\">│   </span><span style=\"color: #800080; text-decoration-color: #800080; font-weight: bold\">Document</span><span style=\"font-weight: bold\">(</span>\n",
       "<span style=\"color: #7fbf7f; text-decoration-color: #7fbf7f\">│   │   </span><span style=\"color: #808000; text-decoration-color: #808000\">id_</span>=<span style=\"color: #008000; text-decoration-color: #008000\">'3665c836-2e0c-4f36-aa19-b8a4144f80c6'</span>,\n",
       "<span style=\"color: #7fbf7f; text-decoration-color: #7fbf7f\">│   │   </span><span style=\"color: #808000; text-decoration-color: #808000\">embedding</span>=<span style=\"color: #800080; text-decoration-color: #800080; font-style: italic\">None</span>,\n",
       "<span style=\"color: #7fbf7f; text-decoration-color: #7fbf7f\">│   │   </span><span style=\"color: #808000; text-decoration-color: #808000\">metadata</span>=<span style=\"font-weight: bold\">{}</span>,\n",
       "<span style=\"color: #7fbf7f; text-decoration-color: #7fbf7f\">│   │   </span><span style=\"color: #808000; text-decoration-color: #808000\">excluded_embed_metadata_keys</span>=<span style=\"font-weight: bold\">[]</span>,\n",
       "<span style=\"color: #7fbf7f; text-decoration-color: #7fbf7f\">│   │   </span><span style=\"color: #808000; text-decoration-color: #808000\">excluded_llm_metadata_keys</span>=<span style=\"font-weight: bold\">[]</span>,\n",
       "<span style=\"color: #7fbf7f; text-decoration-color: #7fbf7f\">│   │   </span><span style=\"color: #808000; text-decoration-color: #808000\">relationships</span>=<span style=\"font-weight: bold\">{}</span>,\n",
       "<span style=\"color: #7fbf7f; text-decoration-color: #7fbf7f\">│   │   </span><span style=\"color: #808000; text-decoration-color: #808000\">text</span>=<span style=\"color: #008000; text-decoration-color: #008000\">'# Hermes Fulfilment\\n\\n- Hermes Fulfilment\\n- Was uns auszeichnet\\n- Ausbildung\\n- Studierende &amp; Absolventen\\n- Deine Bewerbung\\n\\n# Hermes Germany\\n\\n- Hermes Germany\\n- Ausbildung &amp; Duales Studium\\n- Studierende &amp; Absolventen\\n- Berufserfahrene\\n- Tech\\n- Architecture &amp; Information Security\\n- ANS\\n- Cloud &amp; Application Infrastructure\\n- IT-Finance und IT-Licensemanagement\\n- BlueOps\\n- European Network\\n- Black OPs\\n- Business Analytics\\n- Support Solutions\\n- Servicedesk\\n- Supply Chain Solutions\\n- Logistik &amp; gewerbliche Jobs\\n\\n# Hermes Europe\\n\\n- Hermes Europe\\n\\n# Hermes Einrichtungs Service\\n\\n- Hermes Einrichtungs Service\\n- Hermes Einrichtungs Service'</span>,\n",
       "<span style=\"color: #7fbf7f; text-decoration-color: #7fbf7f\">│   │   </span><span style=\"color: #808000; text-decoration-color: #808000\">mimetype</span>=<span style=\"color: #008000; text-decoration-color: #008000\">'text/plain'</span>,\n",
       "<span style=\"color: #7fbf7f; text-decoration-color: #7fbf7f\">│   │   </span><span style=\"color: #808000; text-decoration-color: #808000\">start_char_idx</span>=<span style=\"color: #800080; text-decoration-color: #800080; font-style: italic\">None</span>,\n",
       "<span style=\"color: #7fbf7f; text-decoration-color: #7fbf7f\">│   │   </span><span style=\"color: #808000; text-decoration-color: #808000\">end_char_idx</span>=<span style=\"color: #800080; text-decoration-color: #800080; font-style: italic\">None</span>,\n",
       "<span style=\"color: #7fbf7f; text-decoration-color: #7fbf7f\">│   │   </span><span style=\"color: #808000; text-decoration-color: #808000\">text_template</span>=<span style=\"color: #008000; text-decoration-color: #008000\">'{metadata_str}\\n\\n{content}'</span>,\n",
       "<span style=\"color: #7fbf7f; text-decoration-color: #7fbf7f\">│   │   </span><span style=\"color: #808000; text-decoration-color: #808000\">metadata_template</span>=<span style=\"color: #008000; text-decoration-color: #008000\">'{key}: {value}'</span>,\n",
       "<span style=\"color: #7fbf7f; text-decoration-color: #7fbf7f\">│   │   </span><span style=\"color: #808000; text-decoration-color: #808000\">metadata_seperator</span>=<span style=\"color: #008000; text-decoration-color: #008000\">'\\n'</span>\n",
       "<span style=\"color: #7fbf7f; text-decoration-color: #7fbf7f\">│   </span><span style=\"font-weight: bold\">)</span>,\n",
       "<span style=\"color: #7fbf7f; text-decoration-color: #7fbf7f\">│   </span><span style=\"color: #800080; text-decoration-color: #800080; font-weight: bold\">Document</span><span style=\"font-weight: bold\">(</span>\n",
       "<span style=\"color: #7fbf7f; text-decoration-color: #7fbf7f\">│   │   </span><span style=\"color: #808000; text-decoration-color: #808000\">id_</span>=<span style=\"color: #008000; text-decoration-color: #008000\">'5de37f43-e373-4bc1-9c6a-3853c692a3ca'</span>,\n",
       "<span style=\"color: #7fbf7f; text-decoration-color: #7fbf7f\">│   │   </span><span style=\"color: #808000; text-decoration-color: #808000\">embedding</span>=<span style=\"color: #800080; text-decoration-color: #800080; font-style: italic\">None</span>,\n",
       "<span style=\"color: #7fbf7f; text-decoration-color: #7fbf7f\">│   │   </span><span style=\"color: #808000; text-decoration-color: #808000\">metadata</span>=<span style=\"font-weight: bold\">{}</span>,\n",
       "<span style=\"color: #7fbf7f; text-decoration-color: #7fbf7f\">│   │   </span><span style=\"color: #808000; text-decoration-color: #808000\">excluded_embed_metadata_keys</span>=<span style=\"font-weight: bold\">[]</span>,\n",
       "<span style=\"color: #7fbf7f; text-decoration-color: #7fbf7f\">│   │   </span><span style=\"color: #808000; text-decoration-color: #808000\">excluded_llm_metadata_keys</span>=<span style=\"font-weight: bold\">[]</span>,\n",
       "<span style=\"color: #7fbf7f; text-decoration-color: #7fbf7f\">│   │   </span><span style=\"color: #808000; text-decoration-color: #808000\">relationships</span>=<span style=\"font-weight: bold\">{}</span>,\n",
       "<span style=\"color: #7fbf7f; text-decoration-color: #7fbf7f\">│   │   </span><span style=\"color: #808000; text-decoration-color: #808000\">text</span>=<span style=\"color: #008000; text-decoration-color: #008000\">'# (Junior) Manager (m/w/d) HR Controlling\\n\\n- Hermes Germany GmbH\\n- Hermes Zentrale Hamburg\\n- Berufserfahrung (Junior Level)\\n- Berufserfahrung\\n- Finanzen, Controlling\\n- Personalwesen, HR\\n- Vollzeit\\n\\nBei uns stimmt die Balance zwischen Arbeits- und Privatleben. Mit dieser Voraussetzung sorgen wir dafür, dass du deinen beruflichen Erfolg mit Freude, Teamwork und Eigenverantwortung gestalten kannst. Werde ein Teil von uns und sorge mit neuester Technik und über 6.000 Kolleg*innen dafür, dass jeden Tag mehrere Millionen Pakete genau dort ankommen, wo sie bereits erwartet werden. Als Teil der Division Strategy, People &amp; Organization beschäftigt sich das Team People Analytics and Compensation mit Zahlen und Daten rund um die Mitarbeitenden von Hermes Germany. In unseren Auswertungen und Analysen beschäftigen wir uns mit Fragestellungen wie „Wie hoch ist die Frauenquote auf den Führungsebenen von Hermes?“ oder „Wie verändert sich der Krankenstand über das Geschäftsjahr hinweg?“. Außerdem begleiten wir zahlreiche Projekte mit unseren Analysen und Erkenntnissen.\\n\\n# Was dich erwartet:\\n\\n- Du erstellst Auswertungen, Statistiken und Präsentationen für interne Stakeholder wie HR Kolleg*innen oder Fachbereiche sowie für externe Stakeholder wie Behörden\\n- Du begleitest tatkräftig Prozesse (z.B. Gehaltsrunde) sowie HR-Projekte, um datenbasierte Entscheidungen treffen zu können\\n- Du arbeitest aktiv an dem Aufbau einer Qualitätskontrolle zwischen unseren Systemen mit\\n- Neue Ideen und Verbesserungsvorschläge bringst du mit Überzeugungskraft ein'</span>,\n",
       "<span style=\"color: #7fbf7f; text-decoration-color: #7fbf7f\">│   │   </span><span style=\"color: #808000; text-decoration-color: #808000\">mimetype</span>=<span style=\"color: #008000; text-decoration-color: #008000\">'text/plain'</span>,\n",
       "<span style=\"color: #7fbf7f; text-decoration-color: #7fbf7f\">│   │   </span><span style=\"color: #808000; text-decoration-color: #808000\">start_char_idx</span>=<span style=\"color: #800080; text-decoration-color: #800080; font-style: italic\">None</span>,\n",
       "<span style=\"color: #7fbf7f; text-decoration-color: #7fbf7f\">│   │   </span><span style=\"color: #808000; text-decoration-color: #808000\">end_char_idx</span>=<span style=\"color: #800080; text-decoration-color: #800080; font-style: italic\">None</span>,\n",
       "<span style=\"color: #7fbf7f; text-decoration-color: #7fbf7f\">│   │   </span><span style=\"color: #808000; text-decoration-color: #808000\">text_template</span>=<span style=\"color: #008000; text-decoration-color: #008000\">'{metadata_str}\\n\\n{content}'</span>,\n",
       "<span style=\"color: #7fbf7f; text-decoration-color: #7fbf7f\">│   │   </span><span style=\"color: #808000; text-decoration-color: #808000\">metadata_template</span>=<span style=\"color: #008000; text-decoration-color: #008000\">'{key}: {value}'</span>,\n",
       "<span style=\"color: #7fbf7f; text-decoration-color: #7fbf7f\">│   │   </span><span style=\"color: #808000; text-decoration-color: #808000\">metadata_seperator</span>=<span style=\"color: #008000; text-decoration-color: #008000\">'\\n'</span>\n",
       "<span style=\"color: #7fbf7f; text-decoration-color: #7fbf7f\">│   </span><span style=\"font-weight: bold\">)</span>,\n",
       "<span style=\"color: #7fbf7f; text-decoration-color: #7fbf7f\">│   </span><span style=\"color: #800080; text-decoration-color: #800080; font-weight: bold\">Document</span><span style=\"font-weight: bold\">(</span>\n",
       "<span style=\"color: #7fbf7f; text-decoration-color: #7fbf7f\">│   │   </span><span style=\"color: #808000; text-decoration-color: #808000\">id_</span>=<span style=\"color: #008000; text-decoration-color: #008000\">'d86437d6-a9b0-46e6-b701-fe2e211674ae'</span>,\n",
       "<span style=\"color: #7fbf7f; text-decoration-color: #7fbf7f\">│   │   </span><span style=\"color: #808000; text-decoration-color: #808000\">embedding</span>=<span style=\"color: #800080; text-decoration-color: #800080; font-style: italic\">None</span>,\n",
       "<span style=\"color: #7fbf7f; text-decoration-color: #7fbf7f\">│   │   </span><span style=\"color: #808000; text-decoration-color: #808000\">metadata</span>=<span style=\"font-weight: bold\">{}</span>,\n",
       "<span style=\"color: #7fbf7f; text-decoration-color: #7fbf7f\">│   │   </span><span style=\"color: #808000; text-decoration-color: #808000\">excluded_embed_metadata_keys</span>=<span style=\"font-weight: bold\">[]</span>,\n",
       "<span style=\"color: #7fbf7f; text-decoration-color: #7fbf7f\">│   │   </span><span style=\"color: #808000; text-decoration-color: #808000\">excluded_llm_metadata_keys</span>=<span style=\"font-weight: bold\">[]</span>,\n",
       "<span style=\"color: #7fbf7f; text-decoration-color: #7fbf7f\">│   │   </span><span style=\"color: #808000; text-decoration-color: #808000\">relationships</span>=<span style=\"font-weight: bold\">{}</span>,\n",
       "<span style=\"color: #7fbf7f; text-decoration-color: #7fbf7f\">│   │   </span><span style=\"color: #808000; text-decoration-color: #808000\">text</span>=<span style=\"color: #008000; text-decoration-color: #008000\">'# Was du mitbringen solltest:\\n\\n- Du hast dein Studium z.B. in den Studiengängen Wirtschafts-, Sozialwissenschaften oder Personalmanagement abgeschlossen\\n- Erste Berufserfahrung in Form von Praktika, Werkstudententätigkeiten oder Nebenjobs konntest du bereits sammeln\\n- Du hast Spaß am Umgang mit Daten und großen Zahlenmengen\\n- Du interessierst dich für Fragestellungen rund um moderne Personalarbeit\\n- Problemlösefähigkeit, Selbstorganisation und Zielorientierung zählen zu deinen Stärken\\n- Sichere Anwendung der gängigen MS-Office Programme (insbesondere Excel und Power Point) ist von Vorteil\\n\\n# Was wir dir bieten:\\n\\n- Einsatz führender Technologien und agiler Prozesse\\n- Du arbeitest für einen mehrfach ausgezeichneten Arbeitgeber, dessen Unternehmenskultur geprägt ist durch ein offenes und kooperatives Miteinander\\n- Flexible Arbeitszeiten, nach Absprache ist auch mobiles Arbeiten möglich\\n- Umfangreiches Weiterbildungsangebot\\n- 15% Rabatt auf otto.de und anderen Shops\\n- Bezuschussung des Deutschlandtickets, Altersvorsorge, JobRad, verschiedene Sport- und Freizeitangebote uvm.\\n- Vergünstigte und vielfältige Speiseauswahl in unserer modernen Kantine\\n\\nDie Hermes Gruppe bietet vielseitige Arbeitsplätze mit langfristigen Perspektiven und täglich wechselnden Herausforderungen in einer sicheren und zukunftsorientierten Branche. Unser Arbeitsfeld bewegt sich über die Landesgrenzen hinaus: Wir sind ein international tätiges Unternehmen und leben eine multikulturelle Arbeitsatmosphäre. Unsere Wertschätzung gilt allen Menschen gleichermaßen - unabhängig von Geschlecht, Nationalität, ethnischer Herkunft, Religion, Behinderung oder sexueller Orientierung. Logistik bewegt die Welt - beweg dich mit!\\n\\nHaben wir dein Interesse geweckt? Dann mache jetzt den ersten Schritt und bewirb dich gleich online bei uns oder informiere dich auf unserer Homepage.\\n\\nLisa Schille\\nJunior HR Manager Recruiting\\n\\nViktoria Gratenau\\nTeamlead HR Controlling\\n\\nZurück\\n\\nJetzt bewerben!\\n\\n# Tools &amp; Services\\n\\n- Sendungsverfolgung\\n- PaketShop finden\\n- myHermes Business-Portal\\n- click2supplychain.com'</span>,\n",
       "<span style=\"color: #7fbf7f; text-decoration-color: #7fbf7f\">│   │   </span><span style=\"color: #808000; text-decoration-color: #808000\">mimetype</span>=<span style=\"color: #008000; text-decoration-color: #008000\">'text/plain'</span>,\n",
       "<span style=\"color: #7fbf7f; text-decoration-color: #7fbf7f\">│   │   </span><span style=\"color: #808000; text-decoration-color: #808000\">start_char_idx</span>=<span style=\"color: #800080; text-decoration-color: #800080; font-style: italic\">None</span>,\n",
       "<span style=\"color: #7fbf7f; text-decoration-color: #7fbf7f\">│   │   </span><span style=\"color: #808000; text-decoration-color: #808000\">end_char_idx</span>=<span style=\"color: #800080; text-decoration-color: #800080; font-style: italic\">None</span>,\n",
       "<span style=\"color: #7fbf7f; text-decoration-color: #7fbf7f\">│   │   </span><span style=\"color: #808000; text-decoration-color: #808000\">text_template</span>=<span style=\"color: #008000; text-decoration-color: #008000\">'{metadata_str}\\n\\n{content}'</span>,\n",
       "<span style=\"color: #7fbf7f; text-decoration-color: #7fbf7f\">│   │   </span><span style=\"color: #808000; text-decoration-color: #808000\">metadata_template</span>=<span style=\"color: #008000; text-decoration-color: #008000\">'{key}: {value}'</span>,\n",
       "<span style=\"color: #7fbf7f; text-decoration-color: #7fbf7f\">│   │   </span><span style=\"color: #808000; text-decoration-color: #808000\">metadata_seperator</span>=<span style=\"color: #008000; text-decoration-color: #008000\">'\\n'</span>\n",
       "<span style=\"color: #7fbf7f; text-decoration-color: #7fbf7f\">│   </span><span style=\"font-weight: bold\">)</span>,\n",
       "<span style=\"color: #7fbf7f; text-decoration-color: #7fbf7f\">│   </span><span style=\"color: #800080; text-decoration-color: #800080; font-weight: bold\">Document</span><span style=\"font-weight: bold\">(</span>\n",
       "<span style=\"color: #7fbf7f; text-decoration-color: #7fbf7f\">│   │   </span><span style=\"color: #808000; text-decoration-color: #808000\">id_</span>=<span style=\"color: #008000; text-decoration-color: #008000\">'487de62a-40ed-4818-b990-18c080e72982'</span>,\n",
       "<span style=\"color: #7fbf7f; text-decoration-color: #7fbf7f\">│   │   </span><span style=\"color: #808000; text-decoration-color: #808000\">embedding</span>=<span style=\"color: #800080; text-decoration-color: #800080; font-style: italic\">None</span>,\n",
       "<span style=\"color: #7fbf7f; text-decoration-color: #7fbf7f\">│   │   </span><span style=\"color: #808000; text-decoration-color: #808000\">metadata</span>=<span style=\"font-weight: bold\">{}</span>,\n",
       "<span style=\"color: #7fbf7f; text-decoration-color: #7fbf7f\">│   │   </span><span style=\"color: #808000; text-decoration-color: #808000\">excluded_embed_metadata_keys</span>=<span style=\"font-weight: bold\">[]</span>,\n",
       "<span style=\"color: #7fbf7f; text-decoration-color: #7fbf7f\">│   │   </span><span style=\"color: #808000; text-decoration-color: #808000\">excluded_llm_metadata_keys</span>=<span style=\"font-weight: bold\">[]</span>,\n",
       "<span style=\"color: #7fbf7f; text-decoration-color: #7fbf7f\">│   │   </span><span style=\"color: #808000; text-decoration-color: #808000\">relationships</span>=<span style=\"font-weight: bold\">{}</span>,\n",
       "<span style=\"color: #7fbf7f; text-decoration-color: #7fbf7f\">│   │   </span><span style=\"color: #808000; text-decoration-color: #808000\">text</span>=<span style=\"color: #008000; text-decoration-color: #008000\">'# Über uns\\n\\nHermes GruppeJobs &amp; KarriereNewsroomHermes Blog\\n\\n# Kontakt\\n\\nGeschäftskunden KontaktPresse KontaktPrivatkunden KontaktLieferanten KontaktUnternehmer werdenPaketShop-Partner werden\\n\\n# Länderversion\\n\\nÖsterreich China Deutschland Vereinigtes Königreich International USA\\n\\nCookies\\n\\nImpressum\\n\\nDatenschutz\\n\\nSicherheitshinweise\\n\\nSitemap\\n\\n© 2023 Hermes Europe GmbH\\n\\n# document 1:\\n\\nPrivatkunden\\n\\nÖsterreich China Deutschland Vereinigtes Königreich International USA\\n\\nMenu AT CN DE EN INT US Hermes\\n\\n# Unsere Dienstleistungen\\n\\nStartTransport LogisticsSupply Chain SolutionsSupply Chain Services'</span>,\n",
       "<span style=\"color: #7fbf7f; text-decoration-color: #7fbf7f\">│   │   </span><span style=\"color: #808000; text-decoration-color: #808000\">mimetype</span>=<span style=\"color: #008000; text-decoration-color: #008000\">'text/plain'</span>,\n",
       "<span style=\"color: #7fbf7f; text-decoration-color: #7fbf7f\">│   │   </span><span style=\"color: #808000; text-decoration-color: #808000\">start_char_idx</span>=<span style=\"color: #800080; text-decoration-color: #800080; font-style: italic\">None</span>,\n",
       "<span style=\"color: #7fbf7f; text-decoration-color: #7fbf7f\">│   │   </span><span style=\"color: #808000; text-decoration-color: #808000\">end_char_idx</span>=<span style=\"color: #800080; text-decoration-color: #800080; font-style: italic\">None</span>,\n",
       "<span style=\"color: #7fbf7f; text-decoration-color: #7fbf7f\">│   │   </span><span style=\"color: #808000; text-decoration-color: #808000\">text_template</span>=<span style=\"color: #008000; text-decoration-color: #008000\">'{metadata_str}\\n\\n{content}'</span>,\n",
       "<span style=\"color: #7fbf7f; text-decoration-color: #7fbf7f\">│   │   </span><span style=\"color: #808000; text-decoration-color: #808000\">metadata_template</span>=<span style=\"color: #008000; text-decoration-color: #008000\">'{key}: {value}'</span>,\n",
       "<span style=\"color: #7fbf7f; text-decoration-color: #7fbf7f\">│   │   </span><span style=\"color: #808000; text-decoration-color: #808000\">metadata_seperator</span>=<span style=\"color: #008000; text-decoration-color: #008000\">'\\n'</span>\n",
       "<span style=\"color: #7fbf7f; text-decoration-color: #7fbf7f\">│   </span><span style=\"font-weight: bold\">)</span>,\n",
       "<span style=\"color: #7fbf7f; text-decoration-color: #7fbf7f\">│   </span><span style=\"color: #800080; text-decoration-color: #800080; font-weight: bold\">Document</span><span style=\"font-weight: bold\">(</span>\n",
       "<span style=\"color: #7fbf7f; text-decoration-color: #7fbf7f\">│   │   </span><span style=\"color: #808000; text-decoration-color: #808000\">id_</span>=<span style=\"color: #008000; text-decoration-color: #008000\">'70e7416f-ea6e-4034-8288-2132eceb109c'</span>,\n",
       "<span style=\"color: #7fbf7f; text-decoration-color: #7fbf7f\">│   │   </span><span style=\"color: #808000; text-decoration-color: #808000\">embedding</span>=<span style=\"color: #800080; text-decoration-color: #800080; font-style: italic\">None</span>,\n",
       "<span style=\"color: #7fbf7f; text-decoration-color: #7fbf7f\">│   │   </span><span style=\"color: #808000; text-decoration-color: #808000\">metadata</span>=<span style=\"font-weight: bold\">{}</span>,\n",
       "<span style=\"color: #7fbf7f; text-decoration-color: #7fbf7f\">│   │   </span><span style=\"color: #808000; text-decoration-color: #808000\">excluded_embed_metadata_keys</span>=<span style=\"font-weight: bold\">[]</span>,\n",
       "<span style=\"color: #7fbf7f; text-decoration-color: #7fbf7f\">│   │   </span><span style=\"color: #808000; text-decoration-color: #808000\">excluded_llm_metadata_keys</span>=<span style=\"font-weight: bold\">[]</span>,\n",
       "<span style=\"color: #7fbf7f; text-decoration-color: #7fbf7f\">│   │   </span><span style=\"color: #808000; text-decoration-color: #808000\">relationships</span>=<span style=\"font-weight: bold\">{}</span>,\n",
       "<span style=\"color: #7fbf7f; text-decoration-color: #7fbf7f\">│   │   </span><span style=\"color: #808000; text-decoration-color: #808000\">text</span>=<span style=\"color: #008000; text-decoration-color: #008000\">'# E-Services\\n\\n- E-Services\\n- Zoll Services\\n- Nachhaltigkeit\\n- Unser Partnernetzwerk\\n- FML\\n- Jeena\\n- SEKO\\n- WWG\\n\\n# Global E-Commerce\\n\\n- Global E-Commerce\\n\\n# Distribution\\n\\n- Distribution\\n- Paketversand\\n- 2-Mann-Handling\\n- Distribution in Europa\\n\\n# Über uns\\n\\n- Über uns\\n- Auf einen Blick\\n- Hermes auf einen Blick\\n- Hermes Gruppe\\n- Hermes Einrichtungs Service'</span>,\n",
       "<span style=\"color: #7fbf7f; text-decoration-color: #7fbf7f\">│   │   </span><span style=\"color: #808000; text-decoration-color: #808000\">mimetype</span>=<span style=\"color: #008000; text-decoration-color: #008000\">'text/plain'</span>,\n",
       "<span style=\"color: #7fbf7f; text-decoration-color: #7fbf7f\">│   │   </span><span style=\"color: #808000; text-decoration-color: #808000\">start_char_idx</span>=<span style=\"color: #800080; text-decoration-color: #800080; font-style: italic\">None</span>,\n",
       "<span style=\"color: #7fbf7f; text-decoration-color: #7fbf7f\">│   │   </span><span style=\"color: #808000; text-decoration-color: #808000\">end_char_idx</span>=<span style=\"color: #800080; text-decoration-color: #800080; font-style: italic\">None</span>,\n",
       "<span style=\"color: #7fbf7f; text-decoration-color: #7fbf7f\">│   │   </span><span style=\"color: #808000; text-decoration-color: #808000\">text_template</span>=<span style=\"color: #008000; text-decoration-color: #008000\">'{metadata_str}\\n\\n{content}'</span>,\n",
       "<span style=\"color: #7fbf7f; text-decoration-color: #7fbf7f\">│   │   </span><span style=\"color: #808000; text-decoration-color: #808000\">metadata_template</span>=<span style=\"color: #008000; text-decoration-color: #008000\">'{key}: {value}'</span>,\n",
       "<span style=\"color: #7fbf7f; text-decoration-color: #7fbf7f\">│   │   </span><span style=\"color: #808000; text-decoration-color: #808000\">metadata_seperator</span>=<span style=\"color: #008000; text-decoration-color: #008000\">'\\n'</span>\n",
       "<span style=\"color: #7fbf7f; text-decoration-color: #7fbf7f\">│   </span><span style=\"font-weight: bold\">)</span>,\n",
       "<span style=\"color: #7fbf7f; text-decoration-color: #7fbf7f\">│   </span><span style=\"color: #800080; text-decoration-color: #800080; font-weight: bold\">Document</span><span style=\"font-weight: bold\">(</span>\n",
       "<span style=\"color: #7fbf7f; text-decoration-color: #7fbf7f\">│   │   </span><span style=\"color: #808000; text-decoration-color: #808000\">id_</span>=<span style=\"color: #008000; text-decoration-color: #008000\">'ed7080bd-ab4b-44d4-b00a-6833c6712af3'</span>,\n",
       "<span style=\"color: #7fbf7f; text-decoration-color: #7fbf7f\">│   │   </span><span style=\"color: #808000; text-decoration-color: #808000\">embedding</span>=<span style=\"color: #800080; text-decoration-color: #800080; font-style: italic\">None</span>,\n",
       "<span style=\"color: #7fbf7f; text-decoration-color: #7fbf7f\">│   │   </span><span style=\"color: #808000; text-decoration-color: #808000\">metadata</span>=<span style=\"font-weight: bold\">{}</span>,\n",
       "<span style=\"color: #7fbf7f; text-decoration-color: #7fbf7f\">│   │   </span><span style=\"color: #808000; text-decoration-color: #808000\">excluded_embed_metadata_keys</span>=<span style=\"font-weight: bold\">[]</span>,\n",
       "<span style=\"color: #7fbf7f; text-decoration-color: #7fbf7f\">│   │   </span><span style=\"color: #808000; text-decoration-color: #808000\">excluded_llm_metadata_keys</span>=<span style=\"font-weight: bold\">[]</span>,\n",
       "<span style=\"color: #7fbf7f; text-decoration-color: #7fbf7f\">│   │   </span><span style=\"color: #808000; text-decoration-color: #808000\">relationships</span>=<span style=\"font-weight: bold\">{}</span>,\n",
       "<span style=\"color: #7fbf7f; text-decoration-color: #7fbf7f\">│   │   </span><span style=\"color: #808000; text-decoration-color: #808000\">text</span>=<span style=\"color: #008000; text-decoration-color: #008000\">'# Hermes Einrichtungs Service\\n\\n- Hermes Einrichtungs Service\\n- Logistikzentren\\n- Auslieferdepots\\n\\n# Hermes Fulfilment\\n\\n- Hermes Fulfilment\\n- Daten &amp; Fakten\\n- Einblicke\\n- Nachhaltigkeit\\n\\n# Hermes Logistik Österreich\\n\\n- Hermes Logistik Österreich\\n- PaketShop Partner\\n\\n# Hermes Germany GmbH\\n\\n- Hermes Germany GmbH\\n- PaketShop-Partner werden\\n- Vertragspartner werden\\n\\n# Hermes NexTec\\n\\n- Hermes NexTec\\n\\n# Hermes Germany\\n\\n- Hermes Germany\\n- Downloads\\n\\n# Hermes UK\\n\\n- Hermes UK\\n- Kundenstimmen\\n\\n# Hermes BorderGuru\\n\\n- Hermes BorderGuru\\n\\n# Management\\n\\n- Management\\n\\n# Klima- und Umweltschutz\\n\\n- Klima- und Umweltschutz\\n- Grüne Zustellung\\n- Energieeffiziente Standorte\\n- Unterstützung von Klimaschutzprojekten'</span>,\n",
       "<span style=\"color: #7fbf7f; text-decoration-color: #7fbf7f\">│   │   </span><span style=\"color: #808000; text-decoration-color: #808000\">mimetype</span>=<span style=\"color: #008000; text-decoration-color: #008000\">'text/plain'</span>,\n",
       "<span style=\"color: #7fbf7f; text-decoration-color: #7fbf7f\">│   │   </span><span style=\"color: #808000; text-decoration-color: #808000\">start_char_idx</span>=<span style=\"color: #800080; text-decoration-color: #800080; font-style: italic\">None</span>,\n",
       "<span style=\"color: #7fbf7f; text-decoration-color: #7fbf7f\">│   │   </span><span style=\"color: #808000; text-decoration-color: #808000\">end_char_idx</span>=<span style=\"color: #800080; text-decoration-color: #800080; font-style: italic\">None</span>,\n",
       "<span style=\"color: #7fbf7f; text-decoration-color: #7fbf7f\">│   │   </span><span style=\"color: #808000; text-decoration-color: #808000\">text_template</span>=<span style=\"color: #008000; text-decoration-color: #008000\">'{metadata_str}\\n\\n{content}'</span>,\n",
       "<span style=\"color: #7fbf7f; text-decoration-color: #7fbf7f\">│   │   </span><span style=\"color: #808000; text-decoration-color: #808000\">metadata_template</span>=<span style=\"color: #008000; text-decoration-color: #008000\">'{key}: {value}'</span>,\n",
       "<span style=\"color: #7fbf7f; text-decoration-color: #7fbf7f\">│   │   </span><span style=\"color: #808000; text-decoration-color: #808000\">metadata_seperator</span>=<span style=\"color: #008000; text-decoration-color: #008000\">'\\n'</span>\n",
       "<span style=\"color: #7fbf7f; text-decoration-color: #7fbf7f\">│   </span><span style=\"font-weight: bold\">)</span>,\n",
       "<span style=\"color: #7fbf7f; text-decoration-color: #7fbf7f\">│   </span><span style=\"color: #800080; text-decoration-color: #800080; font-weight: bold\">Document</span><span style=\"font-weight: bold\">(</span>\n",
       "<span style=\"color: #7fbf7f; text-decoration-color: #7fbf7f\">│   │   </span><span style=\"color: #808000; text-decoration-color: #808000\">id_</span>=<span style=\"color: #008000; text-decoration-color: #008000\">'7f10f400-6897-4146-8d6e-0e11c55da6ee'</span>,\n",
       "<span style=\"color: #7fbf7f; text-decoration-color: #7fbf7f\">│   │   </span><span style=\"color: #808000; text-decoration-color: #808000\">embedding</span>=<span style=\"color: #800080; text-decoration-color: #800080; font-style: italic\">None</span>,\n",
       "<span style=\"color: #7fbf7f; text-decoration-color: #7fbf7f\">│   │   </span><span style=\"color: #808000; text-decoration-color: #808000\">metadata</span>=<span style=\"font-weight: bold\">{}</span>,\n",
       "<span style=\"color: #7fbf7f; text-decoration-color: #7fbf7f\">│   │   </span><span style=\"color: #808000; text-decoration-color: #808000\">excluded_embed_metadata_keys</span>=<span style=\"font-weight: bold\">[]</span>,\n",
       "<span style=\"color: #7fbf7f; text-decoration-color: #7fbf7f\">│   │   </span><span style=\"color: #808000; text-decoration-color: #808000\">excluded_llm_metadata_keys</span>=<span style=\"font-weight: bold\">[]</span>,\n",
       "<span style=\"color: #7fbf7f; text-decoration-color: #7fbf7f\">│   │   </span><span style=\"color: #808000; text-decoration-color: #808000\">relationships</span>=<span style=\"font-weight: bold\">{}</span>,\n",
       "<span style=\"color: #7fbf7f; text-decoration-color: #7fbf7f\">│   │   </span><span style=\"color: #808000; text-decoration-color: #808000\">text</span>=<span style=\"color: #008000; text-decoration-color: #008000\">'# umweltschutz/unterstuetzung-von-klimaschutzprojekten/\\n\\n- Faire Zusammenarbeit\\n- Einhaltung von Sozialstandards\\n- Gesellschaftliches Engagement\\n\\n- Plattformen &amp; Bezahlfunktionen China\\n- Export nach China\\n\\n- Messen\\n\\n# Historie\\n\\n- 2010er Jahre\\n- 2000er Jahre\\n- 1990er Jahre\\n- 1980er Jahre\\n- 1970er Jahre\\n\\n# Karriere\\n\\n- Karriere Übersicht\\n- Jobs bei Hermes Germany\\n- Jobbörse der Hermes-Gruppe\\n- Unsere Gesellschaften\\n\\n# Hermes Fulfilment\\n\\n- Hermes Fulfilment\\n- Was uns auszeichnet\\n- Ausbildung\\n- Studierende &amp; Absolventen\\n- Deine Bewerbung\\n\\n# Hermes Germany\\n\\n- Hermes Germany\\n- Ausbildung &amp; Duales Studium\\n- Studierende &amp; Absolventen\\n- Berufserfahrene'</span>,\n",
       "<span style=\"color: #7fbf7f; text-decoration-color: #7fbf7f\">│   │   </span><span style=\"color: #808000; text-decoration-color: #808000\">mimetype</span>=<span style=\"color: #008000; text-decoration-color: #008000\">'text/plain'</span>,\n",
       "<span style=\"color: #7fbf7f; text-decoration-color: #7fbf7f\">│   │   </span><span style=\"color: #808000; text-decoration-color: #808000\">start_char_idx</span>=<span style=\"color: #800080; text-decoration-color: #800080; font-style: italic\">None</span>,\n",
       "<span style=\"color: #7fbf7f; text-decoration-color: #7fbf7f\">│   │   </span><span style=\"color: #808000; text-decoration-color: #808000\">end_char_idx</span>=<span style=\"color: #800080; text-decoration-color: #800080; font-style: italic\">None</span>,\n",
       "<span style=\"color: #7fbf7f; text-decoration-color: #7fbf7f\">│   │   </span><span style=\"color: #808000; text-decoration-color: #808000\">text_template</span>=<span style=\"color: #008000; text-decoration-color: #008000\">'{metadata_str}\\n\\n{content}'</span>,\n",
       "<span style=\"color: #7fbf7f; text-decoration-color: #7fbf7f\">│   │   </span><span style=\"color: #808000; text-decoration-color: #808000\">metadata_template</span>=<span style=\"color: #008000; text-decoration-color: #008000\">'{key}: {value}'</span>,\n",
       "<span style=\"color: #7fbf7f; text-decoration-color: #7fbf7f\">│   │   </span><span style=\"color: #808000; text-decoration-color: #808000\">metadata_seperator</span>=<span style=\"color: #008000; text-decoration-color: #008000\">'\\n'</span>\n",
       "<span style=\"color: #7fbf7f; text-decoration-color: #7fbf7f\">│   </span><span style=\"font-weight: bold\">)</span>,\n",
       "<span style=\"color: #7fbf7f; text-decoration-color: #7fbf7f\">│   </span><span style=\"color: #800080; text-decoration-color: #800080; font-weight: bold\">Document</span><span style=\"font-weight: bold\">(</span>\n",
       "<span style=\"color: #7fbf7f; text-decoration-color: #7fbf7f\">│   │   </span><span style=\"color: #808000; text-decoration-color: #808000\">id_</span>=<span style=\"color: #008000; text-decoration-color: #008000\">'eff2e6c0-0662-4cd2-8a08-f2cfbe900d80'</span>,\n",
       "<span style=\"color: #7fbf7f; text-decoration-color: #7fbf7f\">│   │   </span><span style=\"color: #808000; text-decoration-color: #808000\">embedding</span>=<span style=\"color: #800080; text-decoration-color: #800080; font-style: italic\">None</span>,\n",
       "<span style=\"color: #7fbf7f; text-decoration-color: #7fbf7f\">│   │   </span><span style=\"color: #808000; text-decoration-color: #808000\">metadata</span>=<span style=\"font-weight: bold\">{}</span>,\n",
       "<span style=\"color: #7fbf7f; text-decoration-color: #7fbf7f\">│   │   </span><span style=\"color: #808000; text-decoration-color: #808000\">excluded_embed_metadata_keys</span>=<span style=\"font-weight: bold\">[]</span>,\n",
       "<span style=\"color: #7fbf7f; text-decoration-color: #7fbf7f\">│   │   </span><span style=\"color: #808000; text-decoration-color: #808000\">excluded_llm_metadata_keys</span>=<span style=\"font-weight: bold\">[]</span>,\n",
       "<span style=\"color: #7fbf7f; text-decoration-color: #7fbf7f\">│   │   </span><span style=\"color: #808000; text-decoration-color: #808000\">relationships</span>=<span style=\"font-weight: bold\">{}</span>,\n",
       "<span style=\"color: #7fbf7f; text-decoration-color: #7fbf7f\">│   │   </span><span style=\"color: #808000; text-decoration-color: #808000\">text</span>=<span style=\"color: #008000; text-decoration-color: #008000\">'# hermes-germany/tech/\\n\\n- Architecture &amp; Information Security\\n- ANS\\n- Cloud &amp; Application Infrastructure\\n- IT-Finance und IT-Licensemanagement\\n- BlueOps\\n- European Network\\n- Black OPs\\n- Business Analytics\\n- Support Solutions\\n- Servicedesk\\n- Supply Chain Solutions\\n\\n- Logistik &amp; gewerbliche Jobs\\n\\n# Hermes Europe\\n\\n- Hermes Europe\\n\\n# Hermes Einrichtungs Service\\n\\n- Hermes Einrichtungs Service\\n- Was wir dir bei HES bieten\\n- Jobs beim HES\\n- Jobs beim HES in Ansbach\\n- Jobs in unseren Depots\\n\\n# Karrieremessen\\n\\n- Karrieremessen\\n\\n# Newsroom\\n\\n- Start\\n- Presse\\n- Mediathek\\n- Pressekontakt\\n\\n# Kontakt\\n\\n- Kontakt\\n\\n# Quick Links\\n\\n- Start\\n- Karriere\\n- Jobs bei Hermes Germany'</span>,\n",
       "<span style=\"color: #7fbf7f; text-decoration-color: #7fbf7f\">│   │   </span><span style=\"color: #808000; text-decoration-color: #808000\">mimetype</span>=<span style=\"color: #008000; text-decoration-color: #008000\">'text/plain'</span>,\n",
       "<span style=\"color: #7fbf7f; text-decoration-color: #7fbf7f\">│   │   </span><span style=\"color: #808000; text-decoration-color: #808000\">start_char_idx</span>=<span style=\"color: #800080; text-decoration-color: #800080; font-style: italic\">None</span>,\n",
       "<span style=\"color: #7fbf7f; text-decoration-color: #7fbf7f\">│   │   </span><span style=\"color: #808000; text-decoration-color: #808000\">end_char_idx</span>=<span style=\"color: #800080; text-decoration-color: #800080; font-style: italic\">None</span>,\n",
       "<span style=\"color: #7fbf7f; text-decoration-color: #7fbf7f\">│   │   </span><span style=\"color: #808000; text-decoration-color: #808000\">text_template</span>=<span style=\"color: #008000; text-decoration-color: #008000\">'{metadata_str}\\n\\n{content}'</span>,\n",
       "<span style=\"color: #7fbf7f; text-decoration-color: #7fbf7f\">│   │   </span><span style=\"color: #808000; text-decoration-color: #808000\">metadata_template</span>=<span style=\"color: #008000; text-decoration-color: #008000\">'{key}: {value}'</span>,\n",
       "<span style=\"color: #7fbf7f; text-decoration-color: #7fbf7f\">│   │   </span><span style=\"color: #808000; text-decoration-color: #808000\">metadata_seperator</span>=<span style=\"color: #008000; text-decoration-color: #008000\">'\\n'</span>\n",
       "<span style=\"color: #7fbf7f; text-decoration-color: #7fbf7f\">│   </span><span style=\"font-weight: bold\">)</span>,\n",
       "<span style=\"color: #7fbf7f; text-decoration-color: #7fbf7f\">│   </span><span style=\"color: #800080; text-decoration-color: #800080; font-weight: bold\">Document</span><span style=\"font-weight: bold\">(</span>\n",
       "<span style=\"color: #7fbf7f; text-decoration-color: #7fbf7f\">│   │   </span><span style=\"color: #808000; text-decoration-color: #808000\">id_</span>=<span style=\"color: #008000; text-decoration-color: #008000\">'7379973d-4654-4bb1-989c-a52e9991c1d4'</span>,\n",
       "<span style=\"color: #7fbf7f; text-decoration-color: #7fbf7f\">│   │   </span><span style=\"color: #808000; text-decoration-color: #808000\">embedding</span>=<span style=\"color: #800080; text-decoration-color: #800080; font-style: italic\">None</span>,\n",
       "<span style=\"color: #7fbf7f; text-decoration-color: #7fbf7f\">│   │   </span><span style=\"color: #808000; text-decoration-color: #808000\">metadata</span>=<span style=\"font-weight: bold\">{}</span>,\n",
       "<span style=\"color: #7fbf7f; text-decoration-color: #7fbf7f\">│   │   </span><span style=\"color: #808000; text-decoration-color: #808000\">excluded_embed_metadata_keys</span>=<span style=\"font-weight: bold\">[]</span>,\n",
       "<span style=\"color: #7fbf7f; text-decoration-color: #7fbf7f\">│   │   </span><span style=\"color: #808000; text-decoration-color: #808000\">excluded_llm_metadata_keys</span>=<span style=\"font-weight: bold\">[]</span>,\n",
       "<span style=\"color: #7fbf7f; text-decoration-color: #7fbf7f\">│   │   </span><span style=\"color: #808000; text-decoration-color: #808000\">relationships</span>=<span style=\"font-weight: bold\">{}</span>,\n",
       "<span style=\"color: #7fbf7f; text-decoration-color: #7fbf7f\">│   │   </span><span style=\"color: #808000; text-decoration-color: #808000\">text</span>=<span style=\"color: #008000; text-decoration-color: #008000\">'# (Senior-) Product Manager (m/w/d)\\n\\nHermes Germany GmbH\\n\\nHermes Zentrale Hamburg\\n\\nBerufserfahrung\\n\\nMarketing / Kommunikation / Redaktion\\n\\nMarketing, Kommunikation, PR\\n\\nVollzeit\\n\\n# Was dich erwartet:\\n\\n- Du verantwortest strategisch und operativ einen Teil unseres Produktportfolios (z.B. Retoure) über die gesamte Customer Journey, von der Beauftragung durch den Versender bis zur Zustellung an den Empfänger\\n- Du beobachtest und analysierst die Zielgruppen, den Markt und den Wettbewerb, um darauf basierend Produkt-, Preis- und Kommunikationsmaßnahmen zu initiieren und umzusetzen, die den ganzheitlichen Erfolg unseres Produktportfolios über den gesamten Lebenszyklus vorantreiben\\n- Du hast die wesentlichen Produkt-KPIs (wie z.B. Menge, Deckungsbeitrag, Qualität, Kundenzufriedenheit) kontinuierlich im Blick und leitest Optimierungspotenziale ab\\n- Du leitest neue Produktideen unter Berücksichtigung der Unternehmensziele ab und erstellst dafür Marktanalysen, Business Cases und Präsentationen mit klaren Handlungsempfehlungen\\n- Du initiierst Produkt-Launches und koordinierst deren Umsetzung als Initiatives-Owner\\n- Du begleitest die Entwicklung, Durchführung und Auswertung von Marktforschungen und Kundenbefragungen\\n- Du übernimmst als „Product Lead“ die fachliche Leitung eines crossfunktionalen Produktteams mit dedizierten Vertretern relevanter Funktionen wie z.B. Operations, IT, Sales, Controlling oder Legal\\n\\n# Was du mitbringen solltest:\\n\\n- Du hast Dein Studium, idealerweise mit Schwerpunkt Produktmanagement, oder eine vergleichbare Ausbildung erfolgreich abgeschlossen\\n- Du bringst mehrjährige Berufserfahrung im Produkt- oder Brand Management mit, gern auch aus dem FMCG-Umfeld\\n- Dich zeichnet eine hohe analytische Kompetenz, verbunden mit einem sehr guten Zahlenverständnis hinsichtlich der Interpretation und Steuerung von Kennzahlen aus\\n- Du verfügst über eine ausgeprägte Kundenorientierung\\n- Du bist kreativ und suchst permanent nach den besten Lösungen\\n- Deine Arbeitsweise ist ergebnisorientiert und geprägt von hoher Eigenverantwortung und Selbstständigkeit\\n- Dank Deiner offenen Art und zielgerichteten Kommunikation, gepaart mit einem hohen Maß an Verhandlungsgeschick, fällt es Dir leicht, aktiv zwischen den relevanten Unternehmensbereichen hierarchieübergreifend vermitteln zu können\\n\\n# Was wir dir bieten:\\n\\n- Einsatz führender Technologien und agiler Prozesse\\n- Du arbeitest für einen mehrfach ausgezeichneten Arbeitgeber, dessen'</span>,\n",
       "<span style=\"color: #7fbf7f; text-decoration-color: #7fbf7f\">│   │   </span><span style=\"color: #808000; text-decoration-color: #808000\">mimetype</span>=<span style=\"color: #008000; text-decoration-color: #008000\">'text/plain'</span>,\n",
       "<span style=\"color: #7fbf7f; text-decoration-color: #7fbf7f\">│   │   </span><span style=\"color: #808000; text-decoration-color: #808000\">start_char_idx</span>=<span style=\"color: #800080; text-decoration-color: #800080; font-style: italic\">None</span>,\n",
       "<span style=\"color: #7fbf7f; text-decoration-color: #7fbf7f\">│   │   </span><span style=\"color: #808000; text-decoration-color: #808000\">end_char_idx</span>=<span style=\"color: #800080; text-decoration-color: #800080; font-style: italic\">None</span>,\n",
       "<span style=\"color: #7fbf7f; text-decoration-color: #7fbf7f\">│   │   </span><span style=\"color: #808000; text-decoration-color: #808000\">text_template</span>=<span style=\"color: #008000; text-decoration-color: #008000\">'{metadata_str}\\n\\n{content}'</span>,\n",
       "<span style=\"color: #7fbf7f; text-decoration-color: #7fbf7f\">│   │   </span><span style=\"color: #808000; text-decoration-color: #808000\">metadata_template</span>=<span style=\"color: #008000; text-decoration-color: #008000\">'{key}: {value}'</span>,\n",
       "<span style=\"color: #7fbf7f; text-decoration-color: #7fbf7f\">│   │   </span><span style=\"color: #808000; text-decoration-color: #808000\">metadata_seperator</span>=<span style=\"color: #008000; text-decoration-color: #008000\">'\\n'</span>\n",
       "<span style=\"color: #7fbf7f; text-decoration-color: #7fbf7f\">│   </span><span style=\"font-weight: bold\">)</span>,\n",
       "<span style=\"color: #7fbf7f; text-decoration-color: #7fbf7f\">│   </span><span style=\"color: #800080; text-decoration-color: #800080; font-weight: bold\">Document</span><span style=\"font-weight: bold\">(</span>\n",
       "<span style=\"color: #7fbf7f; text-decoration-color: #7fbf7f\">│   │   </span><span style=\"color: #808000; text-decoration-color: #808000\">id_</span>=<span style=\"color: #008000; text-decoration-color: #008000\">'6bbeead0-0a65-4b86-a585-95f04068f4a7'</span>,\n",
       "<span style=\"color: #7fbf7f; text-decoration-color: #7fbf7f\">│   │   </span><span style=\"color: #808000; text-decoration-color: #808000\">embedding</span>=<span style=\"color: #800080; text-decoration-color: #800080; font-style: italic\">None</span>,\n",
       "<span style=\"color: #7fbf7f; text-decoration-color: #7fbf7f\">│   │   </span><span style=\"color: #808000; text-decoration-color: #808000\">metadata</span>=<span style=\"font-weight: bold\">{}</span>,\n",
       "<span style=\"color: #7fbf7f; text-decoration-color: #7fbf7f\">│   │   </span><span style=\"color: #808000; text-decoration-color: #808000\">excluded_embed_metadata_keys</span>=<span style=\"font-weight: bold\">[]</span>,\n",
       "<span style=\"color: #7fbf7f; text-decoration-color: #7fbf7f\">│   │   </span><span style=\"color: #808000; text-decoration-color: #808000\">excluded_llm_metadata_keys</span>=<span style=\"font-weight: bold\">[]</span>,\n",
       "<span style=\"color: #7fbf7f; text-decoration-color: #7fbf7f\">│   │   </span><span style=\"color: #808000; text-decoration-color: #808000\">relationships</span>=<span style=\"font-weight: bold\">{}</span>,\n",
       "<span style=\"color: #7fbf7f; text-decoration-color: #7fbf7f\">│   │   </span><span style=\"color: #808000; text-decoration-color: #808000\">text</span>=<span style=\"color: #008000; text-decoration-color: #008000\">'# Unternehmenskultur geprägt ist durch ein offenes und kooperatives Miteinander\\n\\n- Flexible Arbeitszeiten, nach Absprache ist auch mobiles Arbeiten möglich\\n- Umfangreiches Weiterbildungsangebot\\n- 15% Rabatt auf otto.de und anderen Shops\\n- Bezuschussung des Deutschlandtickets, Altersvorsorge, JobRad, verschiedene Sport- und Freizeitangebote uvm.\\n- Vergünstigte und vielfältige Speiseauswahl in unserer modernen Kantine\\n\\nDie Hermes Gruppe bietet vielseitige Arbeitsplätze mit langfristigen Perspektiven und täglich wechselnden Herausforderungen in einer sicheren und zukunftsorientierten Branche. Unser Arbeitsfeld bewegt sich über die Landesgrenzen hinaus: Wir sind ein international tätiges Unternehmen und leben eine multikulturelle Arbeitsatmosphäre. Unsere Wertschätzung gilt allen Menschen gleichermaßen - unabhängig von Geschlecht, Nationalität, ethnischer Herkunft, Religion, Behinderung oder sexueller Orientierung.\\n\\nLogistik bewegt die Welt - beweg dich mit!\\n\\nHaben wir dein Interesse geweckt? Dann mache jetzt den ersten Schritt und bewirb dich gleich online bei uns oder informiere dich auf unserer Homepage.\\n\\n- Lisa Overbeck - Senior HR Manager Recruiting\\n- Jessica Michaels - Teamlead Product Management\\n\\nZurück\\n\\nJetzt bewerben!\\n\\nrexx systems - software for success\\n\\n# Tools &amp; Services\\n\\n- Sendungsverfolgung\\n- PaketShop finden\\n- myHermes Business-Portal\\n- click2supplychain.com\\n- Hermes PORT\\n\\n# Über uns\\n\\n- Hermes Gruppe\\n- Jobs &amp; Karriere\\n- Newsroom\\n- Hermes Blog\\n\\n# Kontakt\\n\\n- Geschäftskunden Kontakt\\n- Presse Kontakt\\n- Privatkunden Kontakt\\n- Lieferanten Kontakt'</span>,\n",
       "<span style=\"color: #7fbf7f; text-decoration-color: #7fbf7f\">│   │   </span><span style=\"color: #808000; text-decoration-color: #808000\">mimetype</span>=<span style=\"color: #008000; text-decoration-color: #008000\">'text/plain'</span>,\n",
       "<span style=\"color: #7fbf7f; text-decoration-color: #7fbf7f\">│   │   </span><span style=\"color: #808000; text-decoration-color: #808000\">start_char_idx</span>=<span style=\"color: #800080; text-decoration-color: #800080; font-style: italic\">None</span>,\n",
       "<span style=\"color: #7fbf7f; text-decoration-color: #7fbf7f\">│   │   </span><span style=\"color: #808000; text-decoration-color: #808000\">end_char_idx</span>=<span style=\"color: #800080; text-decoration-color: #800080; font-style: italic\">None</span>,\n",
       "<span style=\"color: #7fbf7f; text-decoration-color: #7fbf7f\">│   │   </span><span style=\"color: #808000; text-decoration-color: #808000\">text_template</span>=<span style=\"color: #008000; text-decoration-color: #008000\">'{metadata_str}\\n\\n{content}'</span>,\n",
       "<span style=\"color: #7fbf7f; text-decoration-color: #7fbf7f\">│   │   </span><span style=\"color: #808000; text-decoration-color: #808000\">metadata_template</span>=<span style=\"color: #008000; text-decoration-color: #008000\">'{key}: {value}'</span>,\n",
       "<span style=\"color: #7fbf7f; text-decoration-color: #7fbf7f\">│   │   </span><span style=\"color: #808000; text-decoration-color: #808000\">metadata_seperator</span>=<span style=\"color: #008000; text-decoration-color: #008000\">'\\n'</span>\n",
       "<span style=\"color: #7fbf7f; text-decoration-color: #7fbf7f\">│   </span><span style=\"font-weight: bold\">)</span>,\n",
       "<span style=\"color: #7fbf7f; text-decoration-color: #7fbf7f\">│   </span><span style=\"color: #800080; text-decoration-color: #800080; font-weight: bold\">Document</span><span style=\"font-weight: bold\">(</span>\n",
       "<span style=\"color: #7fbf7f; text-decoration-color: #7fbf7f\">│   │   </span><span style=\"color: #808000; text-decoration-color: #808000\">id_</span>=<span style=\"color: #008000; text-decoration-color: #008000\">'297e3e04-4165-4d77-90f5-9c12e6f0c77f'</span>,\n",
       "<span style=\"color: #7fbf7f; text-decoration-color: #7fbf7f\">│   │   </span><span style=\"color: #808000; text-decoration-color: #808000\">embedding</span>=<span style=\"color: #800080; text-decoration-color: #800080; font-style: italic\">None</span>,\n",
       "<span style=\"color: #7fbf7f; text-decoration-color: #7fbf7f\">│   │   </span><span style=\"color: #808000; text-decoration-color: #808000\">metadata</span>=<span style=\"font-weight: bold\">{}</span>,\n",
       "<span style=\"color: #7fbf7f; text-decoration-color: #7fbf7f\">│   │   </span><span style=\"color: #808000; text-decoration-color: #808000\">excluded_embed_metadata_keys</span>=<span style=\"font-weight: bold\">[]</span>,\n",
       "<span style=\"color: #7fbf7f; text-decoration-color: #7fbf7f\">│   │   </span><span style=\"color: #808000; text-decoration-color: #808000\">excluded_llm_metadata_keys</span>=<span style=\"font-weight: bold\">[]</span>,\n",
       "<span style=\"color: #7fbf7f; text-decoration-color: #7fbf7f\">│   │   </span><span style=\"color: #808000; text-decoration-color: #808000\">relationships</span>=<span style=\"font-weight: bold\">{}</span>,\n",
       "<span style=\"color: #7fbf7f; text-decoration-color: #7fbf7f\">│   │   </span><span style=\"color: #808000; text-decoration-color: #808000\">text</span>=<span style=\"color: #008000; text-decoration-color: #008000\">'Unternehmer werden\\nPaketShop-Partner werden\\n\\n# Länderversion\\n\\nÖsterreich China Deutschland Vereinigtes Königreich International USA\\n\\n- Cookies\\n- Impressum\\n- Datenschutz\\n- Sicherheitshinweise\\n- Sitemap\\n\\n© 2023 Hermes Europe GmbH'</span>,\n",
       "<span style=\"color: #7fbf7f; text-decoration-color: #7fbf7f\">│   │   </span><span style=\"color: #808000; text-decoration-color: #808000\">mimetype</span>=<span style=\"color: #008000; text-decoration-color: #008000\">'text/plain'</span>,\n",
       "<span style=\"color: #7fbf7f; text-decoration-color: #7fbf7f\">│   │   </span><span style=\"color: #808000; text-decoration-color: #808000\">start_char_idx</span>=<span style=\"color: #800080; text-decoration-color: #800080; font-style: italic\">None</span>,\n",
       "<span style=\"color: #7fbf7f; text-decoration-color: #7fbf7f\">│   │   </span><span style=\"color: #808000; text-decoration-color: #808000\">end_char_idx</span>=<span style=\"color: #800080; text-decoration-color: #800080; font-style: italic\">None</span>,\n",
       "<span style=\"color: #7fbf7f; text-decoration-color: #7fbf7f\">│   │   </span><span style=\"color: #808000; text-decoration-color: #808000\">text_template</span>=<span style=\"color: #008000; text-decoration-color: #008000\">'{metadata_str}\\n\\n{content}'</span>,\n",
       "<span style=\"color: #7fbf7f; text-decoration-color: #7fbf7f\">│   │   </span><span style=\"color: #808000; text-decoration-color: #808000\">metadata_template</span>=<span style=\"color: #008000; text-decoration-color: #008000\">'{key}: {value}'</span>,\n",
       "<span style=\"color: #7fbf7f; text-decoration-color: #7fbf7f\">│   │   </span><span style=\"color: #808000; text-decoration-color: #808000\">metadata_seperator</span>=<span style=\"color: #008000; text-decoration-color: #008000\">'\\n'</span>\n",
       "<span style=\"color: #7fbf7f; text-decoration-color: #7fbf7f\">│   </span><span style=\"font-weight: bold\">)</span>\n",
       "<span style=\"font-weight: bold\">]</span>\n",
       "</pre>\n"
      ],
      "text/plain": [
       "\u001b[1m[\u001b[0m\n",
       "\u001b[2;32m│   \u001b[0m\u001b[1;35mDocument\u001b[0m\u001b[1m(\u001b[0m\n",
       "\u001b[2;32m│   │   \u001b[0m\u001b[33mid_\u001b[0m=\u001b[32m'205d1cc0-ad0c-4bea-b424-cc30a626bbea'\u001b[0m,\n",
       "\u001b[2;32m│   │   \u001b[0m\u001b[33membedding\u001b[0m=\u001b[3;35mNone\u001b[0m,\n",
       "\u001b[2;32m│   │   \u001b[0m\u001b[33mmetadata\u001b[0m=\u001b[1m{\u001b[0m\u001b[1m}\u001b[0m,\n",
       "\u001b[2;32m│   │   \u001b[0m\u001b[33mexcluded_embed_metadata_keys\u001b[0m=\u001b[1m[\u001b[0m\u001b[1m]\u001b[0m,\n",
       "\u001b[2;32m│   │   \u001b[0m\u001b[33mexcluded_llm_metadata_keys\u001b[0m=\u001b[1m[\u001b[0m\u001b[1m]\u001b[0m,\n",
       "\u001b[2;32m│   │   \u001b[0m\u001b[33mrelationships\u001b[0m=\u001b[1m{\u001b[0m\u001b[1m}\u001b[0m,\n",
       "\u001b[2;32m│   │   \u001b[0m\u001b[33mtext\u001b[0m=\u001b[32m'# Privatkunden\\n\\nÖsterreich China Deutschland Vereinigtes Königreich International USA\\n\\nMenu AT CN DE EN INT US Hermes\\n\\n- navigation.search\\n- Start\\n- Unsere Dienstleistungen'\u001b[0m,\n",
       "\u001b[2;32m│   │   \u001b[0m\u001b[33mmimetype\u001b[0m=\u001b[32m'text/plain'\u001b[0m,\n",
       "\u001b[2;32m│   │   \u001b[0m\u001b[33mstart_char_idx\u001b[0m=\u001b[3;35mNone\u001b[0m,\n",
       "\u001b[2;32m│   │   \u001b[0m\u001b[33mend_char_idx\u001b[0m=\u001b[3;35mNone\u001b[0m,\n",
       "\u001b[2;32m│   │   \u001b[0m\u001b[33mtext_template\u001b[0m=\u001b[32m'\u001b[0m\u001b[32m{\u001b[0m\u001b[32mmetadata_str\u001b[0m\u001b[32m}\u001b[0m\u001b[32m\\n\\n\u001b[0m\u001b[32m{\u001b[0m\u001b[32mcontent\u001b[0m\u001b[32m}\u001b[0m\u001b[32m'\u001b[0m,\n",
       "\u001b[2;32m│   │   \u001b[0m\u001b[33mmetadata_template\u001b[0m=\u001b[32m'\u001b[0m\u001b[32m{\u001b[0m\u001b[32mkey\u001b[0m\u001b[32m}\u001b[0m\u001b[32m: \u001b[0m\u001b[32m{\u001b[0m\u001b[32mvalue\u001b[0m\u001b[32m}\u001b[0m\u001b[32m'\u001b[0m,\n",
       "\u001b[2;32m│   │   \u001b[0m\u001b[33mmetadata_seperator\u001b[0m=\u001b[32m'\\n'\u001b[0m\n",
       "\u001b[2;32m│   \u001b[0m\u001b[1m)\u001b[0m,\n",
       "\u001b[2;32m│   \u001b[0m\u001b[1;35mDocument\u001b[0m\u001b[1m(\u001b[0m\n",
       "\u001b[2;32m│   │   \u001b[0m\u001b[33mid_\u001b[0m=\u001b[32m'38cd6b87-b9cb-4a0a-9b29-574e89846ce9'\u001b[0m,\n",
       "\u001b[2;32m│   │   \u001b[0m\u001b[33membedding\u001b[0m=\u001b[3;35mNone\u001b[0m,\n",
       "\u001b[2;32m│   │   \u001b[0m\u001b[33mmetadata\u001b[0m=\u001b[1m{\u001b[0m\u001b[1m}\u001b[0m,\n",
       "\u001b[2;32m│   │   \u001b[0m\u001b[33mexcluded_embed_metadata_keys\u001b[0m=\u001b[1m[\u001b[0m\u001b[1m]\u001b[0m,\n",
       "\u001b[2;32m│   │   \u001b[0m\u001b[33mexcluded_llm_metadata_keys\u001b[0m=\u001b[1m[\u001b[0m\u001b[1m]\u001b[0m,\n",
       "\u001b[2;32m│   │   \u001b[0m\u001b[33mrelationships\u001b[0m=\u001b[1m{\u001b[0m\u001b[1m}\u001b[0m,\n",
       "\u001b[2;32m│   │   \u001b[0m\u001b[33mtext\u001b[0m=\u001b[32m'# Zusammenarbeit\\n\\nhttps://www.hermesworld.com/de/unsere-dienstleistungen/distribution/2-mann-handling/zusammenarbeit/\\n\\n# Dropshipping\\n\\nhttps://www.hermesworld.com/de/unsere-dienstleistungen/distribution/2-mann-handling/dropshipping/\\n\\n# Unser Service für Versender\\n\\nhttps://www.hermesworld.com/de/unsere-dienstleistungen/distribution/2-mann-handling/unser-service-fuer-versender/\\n\\n# Unser Service für Endkunden\\n\\nhttps://www.hermesworld.com/de/unsere-dienstleistungen/distribution/2-mann-handling/unser-service-fuer-endkunden/\\n\\n# CO2-neutraler Versand\\n\\nhttps://www.hermesworld.com/de/unsere-dienstleistungen/distribution/2-mann-handling/klimaneutraler-versand/\\n\\n# HES Pay\\n\\nhttps://www.hermesworld.com/de/unsere-dienstleistungen/distribution/2-mann-handling/hes-pay/\\n\\n# Distribution in Europa\\n\\nhttps://www.hermesworld.com/de/unsere-dienstleistungen/distribution/distribution-in-europa/\\n\\n# Über uns\\n\\n# Auf einen Blick\\n\\nhttps://www.hermesworld.com/de/ueber-uns/auf-einen-blick/hermes-auf-einen-blick/\\n\\n# Hermes Gruppe\\n\\n# Hermes Einrichtungs Service\\n\\nhttps://www.hermesworld.com/de/ueber-uns/hermes-gruppe/hermes-einrichtungs-service/\\n\\n- Hermes Einrichtungs Service\\n- Logistikzentren\\n- Auslieferdepots\\n\\n# Hermes Fulfilment\\n\\nhttps://www.hermesworld.com/de/ueber-uns/hermes-gruppe/hermes-fulfilment/hermes-fulfilment/\\n\\n- Hermes Fulfilment\\n- Daten & Fakten\\n- Einblicke\\n- Nachhaltigkeit\\n\\n# Hermes Logistik Österreich\\n\\nhttps://www.hermesworld.com/de/ueber-uns/hermes-gruppe/hermes-logistik-at/hermes-logistik-oesterreich/\\n\\n- Hermes Logistik Österreich\\n- PaketShop Partner\\n\\n# Hermes Germany GmbH\\n\\nhttps://www.hermesworld.com/de/ueber-uns/hermes-gruppe/hermes-logistik-gruppe-deutschland/hermes-logistik-gruppe-deutschland/\\n\\n- Hermes Germany GmbH\\n- PaketShop-Partner werden\\n- Vertragspartner werden\\n\\n- Formular\\n\\n# Hermes NexTec\\n\\nhttps://www.hermesworld.com/de/ueber-uns/hermes-gruppe/hermes-nextec/\\n\\n# Hermes Germany\\n\\nhttps://www.hermesworld.com/de/ueber-uns/hermes-'\u001b[0m,\n",
       "\u001b[2;32m│   │   \u001b[0m\u001b[33mmimetype\u001b[0m=\u001b[32m'text/plain'\u001b[0m,\n",
       "\u001b[2;32m│   │   \u001b[0m\u001b[33mstart_char_idx\u001b[0m=\u001b[3;35mNone\u001b[0m,\n",
       "\u001b[2;32m│   │   \u001b[0m\u001b[33mend_char_idx\u001b[0m=\u001b[3;35mNone\u001b[0m,\n",
       "\u001b[2;32m│   │   \u001b[0m\u001b[33mtext_template\u001b[0m=\u001b[32m'\u001b[0m\u001b[32m{\u001b[0m\u001b[32mmetadata_str\u001b[0m\u001b[32m}\u001b[0m\u001b[32m\\n\\n\u001b[0m\u001b[32m{\u001b[0m\u001b[32mcontent\u001b[0m\u001b[32m}\u001b[0m\u001b[32m'\u001b[0m,\n",
       "\u001b[2;32m│   │   \u001b[0m\u001b[33mmetadata_template\u001b[0m=\u001b[32m'\u001b[0m\u001b[32m{\u001b[0m\u001b[32mkey\u001b[0m\u001b[32m}\u001b[0m\u001b[32m: \u001b[0m\u001b[32m{\u001b[0m\u001b[32mvalue\u001b[0m\u001b[32m}\u001b[0m\u001b[32m'\u001b[0m,\n",
       "\u001b[2;32m│   │   \u001b[0m\u001b[33mmetadata_seperator\u001b[0m=\u001b[32m'\\n'\u001b[0m\n",
       "\u001b[2;32m│   \u001b[0m\u001b[1m)\u001b[0m,\n",
       "\u001b[2;32m│   \u001b[0m\u001b[1;35mDocument\u001b[0m\u001b[1m(\u001b[0m\n",
       "\u001b[2;32m│   │   \u001b[0m\u001b[33mid_\u001b[0m=\u001b[32m'62690241-1763-4ed6-a068-5404a6220a58'\u001b[0m,\n",
       "\u001b[2;32m│   │   \u001b[0m\u001b[33membedding\u001b[0m=\u001b[3;35mNone\u001b[0m,\n",
       "\u001b[2;32m│   │   \u001b[0m\u001b[33mmetadata\u001b[0m=\u001b[1m{\u001b[0m\u001b[1m}\u001b[0m,\n",
       "\u001b[2;32m│   │   \u001b[0m\u001b[33mexcluded_embed_metadata_keys\u001b[0m=\u001b[1m[\u001b[0m\u001b[1m]\u001b[0m,\n",
       "\u001b[2;32m│   │   \u001b[0m\u001b[33mexcluded_llm_metadata_keys\u001b[0m=\u001b[1m[\u001b[0m\u001b[1m]\u001b[0m,\n",
       "\u001b[2;32m│   │   \u001b[0m\u001b[33mrelationships\u001b[0m=\u001b[1m{\u001b[0m\u001b[1m}\u001b[0m,\n",
       "\u001b[2;32m│   │   \u001b[0m\u001b[33mtext\u001b[0m=\u001b[32m'# gruppe/hermes-transport-logistics/hermes-transport-logistics/\\n\\n- Hermes Germany\\n- Downloads\\n\\n# Hermes UK\\n\\n- Hermes UK\\n- Kundenstimmen\\n\\n# Hermes BorderGuru\\n\\n- Hermes BorderGuru\\n\\n# Management\\n\\n- Management\\n\\n# Klima- und Umweltschutz\\n\\n- Klima- und Umweltschutz\\n- Grüne Zustellung\\n- Energieeffiziente Standorte\\n- Unterstützung von Klimaschutzprojekten\\n\\n# Soziale Verantwortung\\n\\n- Faire Zusammenarbeit\\n- Einhaltung von Sozialstandards\\n- Gesellschaftliches Engagement\\n\\n# Downloads\\n\\n- Plattformen & Bezahlfunktionen China\\n- Export nach China\\n\\n# Messen\\n\\n- Messen\\n\\n# Historie\\n\\n- 2010er Jahre\\n- 2000er Jahre\\n- 1990er Jahre\\n- 1980er Jahre\\n- 1970er Jahre\\n\\n# Karriere\\n\\n- Karriere Übersicht\\n- Jobs bei Hermes Germany\\n- Jobbörse der Hermes-Gruppe\\n- Unsere Gesellschaften'\u001b[0m,\n",
       "\u001b[2;32m│   │   \u001b[0m\u001b[33mmimetype\u001b[0m=\u001b[32m'text/plain'\u001b[0m,\n",
       "\u001b[2;32m│   │   \u001b[0m\u001b[33mstart_char_idx\u001b[0m=\u001b[3;35mNone\u001b[0m,\n",
       "\u001b[2;32m│   │   \u001b[0m\u001b[33mend_char_idx\u001b[0m=\u001b[3;35mNone\u001b[0m,\n",
       "\u001b[2;32m│   │   \u001b[0m\u001b[33mtext_template\u001b[0m=\u001b[32m'\u001b[0m\u001b[32m{\u001b[0m\u001b[32mmetadata_str\u001b[0m\u001b[32m}\u001b[0m\u001b[32m\\n\\n\u001b[0m\u001b[32m{\u001b[0m\u001b[32mcontent\u001b[0m\u001b[32m}\u001b[0m\u001b[32m'\u001b[0m,\n",
       "\u001b[2;32m│   │   \u001b[0m\u001b[33mmetadata_template\u001b[0m=\u001b[32m'\u001b[0m\u001b[32m{\u001b[0m\u001b[32mkey\u001b[0m\u001b[32m}\u001b[0m\u001b[32m: \u001b[0m\u001b[32m{\u001b[0m\u001b[32mvalue\u001b[0m\u001b[32m}\u001b[0m\u001b[32m'\u001b[0m,\n",
       "\u001b[2;32m│   │   \u001b[0m\u001b[33mmetadata_seperator\u001b[0m=\u001b[32m'\\n'\u001b[0m\n",
       "\u001b[2;32m│   \u001b[0m\u001b[1m)\u001b[0m,\n",
       "\u001b[2;32m│   \u001b[0m\u001b[1;35mDocument\u001b[0m\u001b[1m(\u001b[0m\n",
       "\u001b[2;32m│   │   \u001b[0m\u001b[33mid_\u001b[0m=\u001b[32m'3665c836-2e0c-4f36-aa19-b8a4144f80c6'\u001b[0m,\n",
       "\u001b[2;32m│   │   \u001b[0m\u001b[33membedding\u001b[0m=\u001b[3;35mNone\u001b[0m,\n",
       "\u001b[2;32m│   │   \u001b[0m\u001b[33mmetadata\u001b[0m=\u001b[1m{\u001b[0m\u001b[1m}\u001b[0m,\n",
       "\u001b[2;32m│   │   \u001b[0m\u001b[33mexcluded_embed_metadata_keys\u001b[0m=\u001b[1m[\u001b[0m\u001b[1m]\u001b[0m,\n",
       "\u001b[2;32m│   │   \u001b[0m\u001b[33mexcluded_llm_metadata_keys\u001b[0m=\u001b[1m[\u001b[0m\u001b[1m]\u001b[0m,\n",
       "\u001b[2;32m│   │   \u001b[0m\u001b[33mrelationships\u001b[0m=\u001b[1m{\u001b[0m\u001b[1m}\u001b[0m,\n",
       "\u001b[2;32m│   │   \u001b[0m\u001b[33mtext\u001b[0m=\u001b[32m'# Hermes Fulfilment\\n\\n- Hermes Fulfilment\\n- Was uns auszeichnet\\n- Ausbildung\\n- Studierende & Absolventen\\n- Deine Bewerbung\\n\\n# Hermes Germany\\n\\n- Hermes Germany\\n- Ausbildung & Duales Studium\\n- Studierende & Absolventen\\n- Berufserfahrene\\n- Tech\\n- Architecture & Information Security\\n- ANS\\n- Cloud & Application Infrastructure\\n- IT-Finance und IT-Licensemanagement\\n- BlueOps\\n- European Network\\n- Black OPs\\n- Business Analytics\\n- Support Solutions\\n- Servicedesk\\n- Supply Chain Solutions\\n- Logistik & gewerbliche Jobs\\n\\n# Hermes Europe\\n\\n- Hermes Europe\\n\\n# Hermes Einrichtungs Service\\n\\n- Hermes Einrichtungs Service\\n- Hermes Einrichtungs Service'\u001b[0m,\n",
       "\u001b[2;32m│   │   \u001b[0m\u001b[33mmimetype\u001b[0m=\u001b[32m'text/plain'\u001b[0m,\n",
       "\u001b[2;32m│   │   \u001b[0m\u001b[33mstart_char_idx\u001b[0m=\u001b[3;35mNone\u001b[0m,\n",
       "\u001b[2;32m│   │   \u001b[0m\u001b[33mend_char_idx\u001b[0m=\u001b[3;35mNone\u001b[0m,\n",
       "\u001b[2;32m│   │   \u001b[0m\u001b[33mtext_template\u001b[0m=\u001b[32m'\u001b[0m\u001b[32m{\u001b[0m\u001b[32mmetadata_str\u001b[0m\u001b[32m}\u001b[0m\u001b[32m\\n\\n\u001b[0m\u001b[32m{\u001b[0m\u001b[32mcontent\u001b[0m\u001b[32m}\u001b[0m\u001b[32m'\u001b[0m,\n",
       "\u001b[2;32m│   │   \u001b[0m\u001b[33mmetadata_template\u001b[0m=\u001b[32m'\u001b[0m\u001b[32m{\u001b[0m\u001b[32mkey\u001b[0m\u001b[32m}\u001b[0m\u001b[32m: \u001b[0m\u001b[32m{\u001b[0m\u001b[32mvalue\u001b[0m\u001b[32m}\u001b[0m\u001b[32m'\u001b[0m,\n",
       "\u001b[2;32m│   │   \u001b[0m\u001b[33mmetadata_seperator\u001b[0m=\u001b[32m'\\n'\u001b[0m\n",
       "\u001b[2;32m│   \u001b[0m\u001b[1m)\u001b[0m,\n",
       "\u001b[2;32m│   \u001b[0m\u001b[1;35mDocument\u001b[0m\u001b[1m(\u001b[0m\n",
       "\u001b[2;32m│   │   \u001b[0m\u001b[33mid_\u001b[0m=\u001b[32m'5de37f43-e373-4bc1-9c6a-3853c692a3ca'\u001b[0m,\n",
       "\u001b[2;32m│   │   \u001b[0m\u001b[33membedding\u001b[0m=\u001b[3;35mNone\u001b[0m,\n",
       "\u001b[2;32m│   │   \u001b[0m\u001b[33mmetadata\u001b[0m=\u001b[1m{\u001b[0m\u001b[1m}\u001b[0m,\n",
       "\u001b[2;32m│   │   \u001b[0m\u001b[33mexcluded_embed_metadata_keys\u001b[0m=\u001b[1m[\u001b[0m\u001b[1m]\u001b[0m,\n",
       "\u001b[2;32m│   │   \u001b[0m\u001b[33mexcluded_llm_metadata_keys\u001b[0m=\u001b[1m[\u001b[0m\u001b[1m]\u001b[0m,\n",
       "\u001b[2;32m│   │   \u001b[0m\u001b[33mrelationships\u001b[0m=\u001b[1m{\u001b[0m\u001b[1m}\u001b[0m,\n",
       "\u001b[2;32m│   │   \u001b[0m\u001b[33mtext\u001b[0m=\u001b[32m'# \u001b[0m\u001b[32m(\u001b[0m\u001b[32mJunior\u001b[0m\u001b[32m)\u001b[0m\u001b[32m Manager \u001b[0m\u001b[32m(\u001b[0m\u001b[32mm/w/d\u001b[0m\u001b[32m)\u001b[0m\u001b[32m HR Controlling\\n\\n- Hermes Germany GmbH\\n- Hermes Zentrale Hamburg\\n- Berufserfahrung \u001b[0m\u001b[32m(\u001b[0m\u001b[32mJunior Level\u001b[0m\u001b[32m)\u001b[0m\u001b[32m\\n- Berufserfahrung\\n- Finanzen, Controlling\\n- Personalwesen, HR\\n- Vollzeit\\n\\nBei uns stimmt die Balance zwischen Arbeits- und Privatleben. Mit dieser Voraussetzung sorgen wir dafür, dass du deinen beruflichen Erfolg mit Freude, Teamwork und Eigenverantwortung gestalten kannst. Werde ein Teil von uns und sorge mit neuester Technik und über 6.000 Kolleg*innen dafür, dass jeden Tag mehrere Millionen Pakete genau dort ankommen, wo sie bereits erwartet werden. Als Teil der Division Strategy, People & Organization beschäftigt sich das Team People Analytics and Compensation mit Zahlen und Daten rund um die Mitarbeitenden von Hermes Germany. In unseren Auswertungen und Analysen beschäftigen wir uns mit Fragestellungen wie „Wie hoch ist die Frauenquote auf den Führungsebenen von Hermes?“ oder „Wie verändert sich der Krankenstand über das Geschäftsjahr hinweg?“. Außerdem begleiten wir zahlreiche Projekte mit unseren Analysen und Erkenntnissen.\\n\\n# Was dich erwartet:\\n\\n- Du erstellst Auswertungen, Statistiken und Präsentationen für interne Stakeholder wie HR Kolleg*innen oder Fachbereiche sowie für externe Stakeholder wie Behörden\\n- Du begleitest tatkräftig Prozesse \u001b[0m\u001b[32m(\u001b[0m\u001b[32mz.B. Gehaltsrunde\u001b[0m\u001b[32m)\u001b[0m\u001b[32m sowie HR-Projekte, um datenbasierte Entscheidungen treffen zu können\\n- Du arbeitest aktiv an dem Aufbau einer Qualitätskontrolle zwischen unseren Systemen mit\\n- Neue Ideen und Verbesserungsvorschläge bringst du mit Überzeugungskraft ein'\u001b[0m,\n",
       "\u001b[2;32m│   │   \u001b[0m\u001b[33mmimetype\u001b[0m=\u001b[32m'text/plain'\u001b[0m,\n",
       "\u001b[2;32m│   │   \u001b[0m\u001b[33mstart_char_idx\u001b[0m=\u001b[3;35mNone\u001b[0m,\n",
       "\u001b[2;32m│   │   \u001b[0m\u001b[33mend_char_idx\u001b[0m=\u001b[3;35mNone\u001b[0m,\n",
       "\u001b[2;32m│   │   \u001b[0m\u001b[33mtext_template\u001b[0m=\u001b[32m'\u001b[0m\u001b[32m{\u001b[0m\u001b[32mmetadata_str\u001b[0m\u001b[32m}\u001b[0m\u001b[32m\\n\\n\u001b[0m\u001b[32m{\u001b[0m\u001b[32mcontent\u001b[0m\u001b[32m}\u001b[0m\u001b[32m'\u001b[0m,\n",
       "\u001b[2;32m│   │   \u001b[0m\u001b[33mmetadata_template\u001b[0m=\u001b[32m'\u001b[0m\u001b[32m{\u001b[0m\u001b[32mkey\u001b[0m\u001b[32m}\u001b[0m\u001b[32m: \u001b[0m\u001b[32m{\u001b[0m\u001b[32mvalue\u001b[0m\u001b[32m}\u001b[0m\u001b[32m'\u001b[0m,\n",
       "\u001b[2;32m│   │   \u001b[0m\u001b[33mmetadata_seperator\u001b[0m=\u001b[32m'\\n'\u001b[0m\n",
       "\u001b[2;32m│   \u001b[0m\u001b[1m)\u001b[0m,\n",
       "\u001b[2;32m│   \u001b[0m\u001b[1;35mDocument\u001b[0m\u001b[1m(\u001b[0m\n",
       "\u001b[2;32m│   │   \u001b[0m\u001b[33mid_\u001b[0m=\u001b[32m'd86437d6-a9b0-46e6-b701-fe2e211674ae'\u001b[0m,\n",
       "\u001b[2;32m│   │   \u001b[0m\u001b[33membedding\u001b[0m=\u001b[3;35mNone\u001b[0m,\n",
       "\u001b[2;32m│   │   \u001b[0m\u001b[33mmetadata\u001b[0m=\u001b[1m{\u001b[0m\u001b[1m}\u001b[0m,\n",
       "\u001b[2;32m│   │   \u001b[0m\u001b[33mexcluded_embed_metadata_keys\u001b[0m=\u001b[1m[\u001b[0m\u001b[1m]\u001b[0m,\n",
       "\u001b[2;32m│   │   \u001b[0m\u001b[33mexcluded_llm_metadata_keys\u001b[0m=\u001b[1m[\u001b[0m\u001b[1m]\u001b[0m,\n",
       "\u001b[2;32m│   │   \u001b[0m\u001b[33mrelationships\u001b[0m=\u001b[1m{\u001b[0m\u001b[1m}\u001b[0m,\n",
       "\u001b[2;32m│   │   \u001b[0m\u001b[33mtext\u001b[0m=\u001b[32m'# Was du mitbringen solltest:\\n\\n- Du hast dein Studium z.B. in den Studiengängen Wirtschafts-, Sozialwissenschaften oder Personalmanagement abgeschlossen\\n- Erste Berufserfahrung in Form von Praktika, Werkstudententätigkeiten oder Nebenjobs konntest du bereits sammeln\\n- Du hast Spaß am Umgang mit Daten und großen Zahlenmengen\\n- Du interessierst dich für Fragestellungen rund um moderne Personalarbeit\\n- Problemlösefähigkeit, Selbstorganisation und Zielorientierung zählen zu deinen Stärken\\n- Sichere Anwendung der gängigen MS-Office Programme \u001b[0m\u001b[32m(\u001b[0m\u001b[32minsbesondere Excel und Power Point\u001b[0m\u001b[32m)\u001b[0m\u001b[32m ist von Vorteil\\n\\n# Was wir dir bieten:\\n\\n- Einsatz führender Technologien und agiler Prozesse\\n- Du arbeitest für einen mehrfach ausgezeichneten Arbeitgeber, dessen Unternehmenskultur geprägt ist durch ein offenes und kooperatives Miteinander\\n- Flexible Arbeitszeiten, nach Absprache ist auch mobiles Arbeiten möglich\\n- Umfangreiches Weiterbildungsangebot\\n- 15% Rabatt auf otto.de und anderen Shops\\n- Bezuschussung des Deutschlandtickets, Altersvorsorge, JobRad, verschiedene Sport- und Freizeitangebote uvm.\\n- Vergünstigte und vielfältige Speiseauswahl in unserer modernen Kantine\\n\\nDie Hermes Gruppe bietet vielseitige Arbeitsplätze mit langfristigen Perspektiven und täglich wechselnden Herausforderungen in einer sicheren und zukunftsorientierten Branche. Unser Arbeitsfeld bewegt sich über die Landesgrenzen hinaus: Wir sind ein international tätiges Unternehmen und leben eine multikulturelle Arbeitsatmosphäre. Unsere Wertschätzung gilt allen Menschen gleichermaßen - unabhängig von Geschlecht, Nationalität, ethnischer Herkunft, Religion, Behinderung oder sexueller Orientierung. Logistik bewegt die Welt - beweg dich mit!\\n\\nHaben wir dein Interesse geweckt? Dann mache jetzt den ersten Schritt und bewirb dich gleich online bei uns oder informiere dich auf unserer Homepage.\\n\\nLisa Schille\\nJunior HR Manager Recruiting\\n\\nViktoria Gratenau\\nTeamlead HR Controlling\\n\\nZurück\\n\\nJetzt bewerben!\\n\\n# Tools & Services\\n\\n- Sendungsverfolgung\\n- PaketShop finden\\n- myHermes Business-Portal\\n- click2supplychain.com'\u001b[0m,\n",
       "\u001b[2;32m│   │   \u001b[0m\u001b[33mmimetype\u001b[0m=\u001b[32m'text/plain'\u001b[0m,\n",
       "\u001b[2;32m│   │   \u001b[0m\u001b[33mstart_char_idx\u001b[0m=\u001b[3;35mNone\u001b[0m,\n",
       "\u001b[2;32m│   │   \u001b[0m\u001b[33mend_char_idx\u001b[0m=\u001b[3;35mNone\u001b[0m,\n",
       "\u001b[2;32m│   │   \u001b[0m\u001b[33mtext_template\u001b[0m=\u001b[32m'\u001b[0m\u001b[32m{\u001b[0m\u001b[32mmetadata_str\u001b[0m\u001b[32m}\u001b[0m\u001b[32m\\n\\n\u001b[0m\u001b[32m{\u001b[0m\u001b[32mcontent\u001b[0m\u001b[32m}\u001b[0m\u001b[32m'\u001b[0m,\n",
       "\u001b[2;32m│   │   \u001b[0m\u001b[33mmetadata_template\u001b[0m=\u001b[32m'\u001b[0m\u001b[32m{\u001b[0m\u001b[32mkey\u001b[0m\u001b[32m}\u001b[0m\u001b[32m: \u001b[0m\u001b[32m{\u001b[0m\u001b[32mvalue\u001b[0m\u001b[32m}\u001b[0m\u001b[32m'\u001b[0m,\n",
       "\u001b[2;32m│   │   \u001b[0m\u001b[33mmetadata_seperator\u001b[0m=\u001b[32m'\\n'\u001b[0m\n",
       "\u001b[2;32m│   \u001b[0m\u001b[1m)\u001b[0m,\n",
       "\u001b[2;32m│   \u001b[0m\u001b[1;35mDocument\u001b[0m\u001b[1m(\u001b[0m\n",
       "\u001b[2;32m│   │   \u001b[0m\u001b[33mid_\u001b[0m=\u001b[32m'487de62a-40ed-4818-b990-18c080e72982'\u001b[0m,\n",
       "\u001b[2;32m│   │   \u001b[0m\u001b[33membedding\u001b[0m=\u001b[3;35mNone\u001b[0m,\n",
       "\u001b[2;32m│   │   \u001b[0m\u001b[33mmetadata\u001b[0m=\u001b[1m{\u001b[0m\u001b[1m}\u001b[0m,\n",
       "\u001b[2;32m│   │   \u001b[0m\u001b[33mexcluded_embed_metadata_keys\u001b[0m=\u001b[1m[\u001b[0m\u001b[1m]\u001b[0m,\n",
       "\u001b[2;32m│   │   \u001b[0m\u001b[33mexcluded_llm_metadata_keys\u001b[0m=\u001b[1m[\u001b[0m\u001b[1m]\u001b[0m,\n",
       "\u001b[2;32m│   │   \u001b[0m\u001b[33mrelationships\u001b[0m=\u001b[1m{\u001b[0m\u001b[1m}\u001b[0m,\n",
       "\u001b[2;32m│   │   \u001b[0m\u001b[33mtext\u001b[0m=\u001b[32m'# Über uns\\n\\nHermes GruppeJobs & KarriereNewsroomHermes Blog\\n\\n# Kontakt\\n\\nGeschäftskunden KontaktPresse KontaktPrivatkunden KontaktLieferanten KontaktUnternehmer werdenPaketShop-Partner werden\\n\\n# Länderversion\\n\\nÖsterreich China Deutschland Vereinigtes Königreich International USA\\n\\nCookies\\n\\nImpressum\\n\\nDatenschutz\\n\\nSicherheitshinweise\\n\\nSitemap\\n\\n© 2023 Hermes Europe GmbH\\n\\n# document 1:\\n\\nPrivatkunden\\n\\nÖsterreich China Deutschland Vereinigtes Königreich International USA\\n\\nMenu AT CN DE EN INT US Hermes\\n\\n# Unsere Dienstleistungen\\n\\nStartTransport LogisticsSupply Chain SolutionsSupply Chain Services'\u001b[0m,\n",
       "\u001b[2;32m│   │   \u001b[0m\u001b[33mmimetype\u001b[0m=\u001b[32m'text/plain'\u001b[0m,\n",
       "\u001b[2;32m│   │   \u001b[0m\u001b[33mstart_char_idx\u001b[0m=\u001b[3;35mNone\u001b[0m,\n",
       "\u001b[2;32m│   │   \u001b[0m\u001b[33mend_char_idx\u001b[0m=\u001b[3;35mNone\u001b[0m,\n",
       "\u001b[2;32m│   │   \u001b[0m\u001b[33mtext_template\u001b[0m=\u001b[32m'\u001b[0m\u001b[32m{\u001b[0m\u001b[32mmetadata_str\u001b[0m\u001b[32m}\u001b[0m\u001b[32m\\n\\n\u001b[0m\u001b[32m{\u001b[0m\u001b[32mcontent\u001b[0m\u001b[32m}\u001b[0m\u001b[32m'\u001b[0m,\n",
       "\u001b[2;32m│   │   \u001b[0m\u001b[33mmetadata_template\u001b[0m=\u001b[32m'\u001b[0m\u001b[32m{\u001b[0m\u001b[32mkey\u001b[0m\u001b[32m}\u001b[0m\u001b[32m: \u001b[0m\u001b[32m{\u001b[0m\u001b[32mvalue\u001b[0m\u001b[32m}\u001b[0m\u001b[32m'\u001b[0m,\n",
       "\u001b[2;32m│   │   \u001b[0m\u001b[33mmetadata_seperator\u001b[0m=\u001b[32m'\\n'\u001b[0m\n",
       "\u001b[2;32m│   \u001b[0m\u001b[1m)\u001b[0m,\n",
       "\u001b[2;32m│   \u001b[0m\u001b[1;35mDocument\u001b[0m\u001b[1m(\u001b[0m\n",
       "\u001b[2;32m│   │   \u001b[0m\u001b[33mid_\u001b[0m=\u001b[32m'70e7416f-ea6e-4034-8288-2132eceb109c'\u001b[0m,\n",
       "\u001b[2;32m│   │   \u001b[0m\u001b[33membedding\u001b[0m=\u001b[3;35mNone\u001b[0m,\n",
       "\u001b[2;32m│   │   \u001b[0m\u001b[33mmetadata\u001b[0m=\u001b[1m{\u001b[0m\u001b[1m}\u001b[0m,\n",
       "\u001b[2;32m│   │   \u001b[0m\u001b[33mexcluded_embed_metadata_keys\u001b[0m=\u001b[1m[\u001b[0m\u001b[1m]\u001b[0m,\n",
       "\u001b[2;32m│   │   \u001b[0m\u001b[33mexcluded_llm_metadata_keys\u001b[0m=\u001b[1m[\u001b[0m\u001b[1m]\u001b[0m,\n",
       "\u001b[2;32m│   │   \u001b[0m\u001b[33mrelationships\u001b[0m=\u001b[1m{\u001b[0m\u001b[1m}\u001b[0m,\n",
       "\u001b[2;32m│   │   \u001b[0m\u001b[33mtext\u001b[0m=\u001b[32m'# E-Services\\n\\n- E-Services\\n- Zoll Services\\n- Nachhaltigkeit\\n- Unser Partnernetzwerk\\n- FML\\n- Jeena\\n- SEKO\\n- WWG\\n\\n# Global E-Commerce\\n\\n- Global E-Commerce\\n\\n# Distribution\\n\\n- Distribution\\n- Paketversand\\n- 2-Mann-Handling\\n- Distribution in Europa\\n\\n# Über uns\\n\\n- Über uns\\n- Auf einen Blick\\n- Hermes auf einen Blick\\n- Hermes Gruppe\\n- Hermes Einrichtungs Service'\u001b[0m,\n",
       "\u001b[2;32m│   │   \u001b[0m\u001b[33mmimetype\u001b[0m=\u001b[32m'text/plain'\u001b[0m,\n",
       "\u001b[2;32m│   │   \u001b[0m\u001b[33mstart_char_idx\u001b[0m=\u001b[3;35mNone\u001b[0m,\n",
       "\u001b[2;32m│   │   \u001b[0m\u001b[33mend_char_idx\u001b[0m=\u001b[3;35mNone\u001b[0m,\n",
       "\u001b[2;32m│   │   \u001b[0m\u001b[33mtext_template\u001b[0m=\u001b[32m'\u001b[0m\u001b[32m{\u001b[0m\u001b[32mmetadata_str\u001b[0m\u001b[32m}\u001b[0m\u001b[32m\\n\\n\u001b[0m\u001b[32m{\u001b[0m\u001b[32mcontent\u001b[0m\u001b[32m}\u001b[0m\u001b[32m'\u001b[0m,\n",
       "\u001b[2;32m│   │   \u001b[0m\u001b[33mmetadata_template\u001b[0m=\u001b[32m'\u001b[0m\u001b[32m{\u001b[0m\u001b[32mkey\u001b[0m\u001b[32m}\u001b[0m\u001b[32m: \u001b[0m\u001b[32m{\u001b[0m\u001b[32mvalue\u001b[0m\u001b[32m}\u001b[0m\u001b[32m'\u001b[0m,\n",
       "\u001b[2;32m│   │   \u001b[0m\u001b[33mmetadata_seperator\u001b[0m=\u001b[32m'\\n'\u001b[0m\n",
       "\u001b[2;32m│   \u001b[0m\u001b[1m)\u001b[0m,\n",
       "\u001b[2;32m│   \u001b[0m\u001b[1;35mDocument\u001b[0m\u001b[1m(\u001b[0m\n",
       "\u001b[2;32m│   │   \u001b[0m\u001b[33mid_\u001b[0m=\u001b[32m'ed7080bd-ab4b-44d4-b00a-6833c6712af3'\u001b[0m,\n",
       "\u001b[2;32m│   │   \u001b[0m\u001b[33membedding\u001b[0m=\u001b[3;35mNone\u001b[0m,\n",
       "\u001b[2;32m│   │   \u001b[0m\u001b[33mmetadata\u001b[0m=\u001b[1m{\u001b[0m\u001b[1m}\u001b[0m,\n",
       "\u001b[2;32m│   │   \u001b[0m\u001b[33mexcluded_embed_metadata_keys\u001b[0m=\u001b[1m[\u001b[0m\u001b[1m]\u001b[0m,\n",
       "\u001b[2;32m│   │   \u001b[0m\u001b[33mexcluded_llm_metadata_keys\u001b[0m=\u001b[1m[\u001b[0m\u001b[1m]\u001b[0m,\n",
       "\u001b[2;32m│   │   \u001b[0m\u001b[33mrelationships\u001b[0m=\u001b[1m{\u001b[0m\u001b[1m}\u001b[0m,\n",
       "\u001b[2;32m│   │   \u001b[0m\u001b[33mtext\u001b[0m=\u001b[32m'# Hermes Einrichtungs Service\\n\\n- Hermes Einrichtungs Service\\n- Logistikzentren\\n- Auslieferdepots\\n\\n# Hermes Fulfilment\\n\\n- Hermes Fulfilment\\n- Daten & Fakten\\n- Einblicke\\n- Nachhaltigkeit\\n\\n# Hermes Logistik Österreich\\n\\n- Hermes Logistik Österreich\\n- PaketShop Partner\\n\\n# Hermes Germany GmbH\\n\\n- Hermes Germany GmbH\\n- PaketShop-Partner werden\\n- Vertragspartner werden\\n\\n# Hermes NexTec\\n\\n- Hermes NexTec\\n\\n# Hermes Germany\\n\\n- Hermes Germany\\n- Downloads\\n\\n# Hermes UK\\n\\n- Hermes UK\\n- Kundenstimmen\\n\\n# Hermes BorderGuru\\n\\n- Hermes BorderGuru\\n\\n# Management\\n\\n- Management\\n\\n# Klima- und Umweltschutz\\n\\n- Klima- und Umweltschutz\\n- Grüne Zustellung\\n- Energieeffiziente Standorte\\n- Unterstützung von Klimaschutzprojekten'\u001b[0m,\n",
       "\u001b[2;32m│   │   \u001b[0m\u001b[33mmimetype\u001b[0m=\u001b[32m'text/plain'\u001b[0m,\n",
       "\u001b[2;32m│   │   \u001b[0m\u001b[33mstart_char_idx\u001b[0m=\u001b[3;35mNone\u001b[0m,\n",
       "\u001b[2;32m│   │   \u001b[0m\u001b[33mend_char_idx\u001b[0m=\u001b[3;35mNone\u001b[0m,\n",
       "\u001b[2;32m│   │   \u001b[0m\u001b[33mtext_template\u001b[0m=\u001b[32m'\u001b[0m\u001b[32m{\u001b[0m\u001b[32mmetadata_str\u001b[0m\u001b[32m}\u001b[0m\u001b[32m\\n\\n\u001b[0m\u001b[32m{\u001b[0m\u001b[32mcontent\u001b[0m\u001b[32m}\u001b[0m\u001b[32m'\u001b[0m,\n",
       "\u001b[2;32m│   │   \u001b[0m\u001b[33mmetadata_template\u001b[0m=\u001b[32m'\u001b[0m\u001b[32m{\u001b[0m\u001b[32mkey\u001b[0m\u001b[32m}\u001b[0m\u001b[32m: \u001b[0m\u001b[32m{\u001b[0m\u001b[32mvalue\u001b[0m\u001b[32m}\u001b[0m\u001b[32m'\u001b[0m,\n",
       "\u001b[2;32m│   │   \u001b[0m\u001b[33mmetadata_seperator\u001b[0m=\u001b[32m'\\n'\u001b[0m\n",
       "\u001b[2;32m│   \u001b[0m\u001b[1m)\u001b[0m,\n",
       "\u001b[2;32m│   \u001b[0m\u001b[1;35mDocument\u001b[0m\u001b[1m(\u001b[0m\n",
       "\u001b[2;32m│   │   \u001b[0m\u001b[33mid_\u001b[0m=\u001b[32m'7f10f400-6897-4146-8d6e-0e11c55da6ee'\u001b[0m,\n",
       "\u001b[2;32m│   │   \u001b[0m\u001b[33membedding\u001b[0m=\u001b[3;35mNone\u001b[0m,\n",
       "\u001b[2;32m│   │   \u001b[0m\u001b[33mmetadata\u001b[0m=\u001b[1m{\u001b[0m\u001b[1m}\u001b[0m,\n",
       "\u001b[2;32m│   │   \u001b[0m\u001b[33mexcluded_embed_metadata_keys\u001b[0m=\u001b[1m[\u001b[0m\u001b[1m]\u001b[0m,\n",
       "\u001b[2;32m│   │   \u001b[0m\u001b[33mexcluded_llm_metadata_keys\u001b[0m=\u001b[1m[\u001b[0m\u001b[1m]\u001b[0m,\n",
       "\u001b[2;32m│   │   \u001b[0m\u001b[33mrelationships\u001b[0m=\u001b[1m{\u001b[0m\u001b[1m}\u001b[0m,\n",
       "\u001b[2;32m│   │   \u001b[0m\u001b[33mtext\u001b[0m=\u001b[32m'# umweltschutz/unterstuetzung-von-klimaschutzprojekten/\\n\\n- Faire Zusammenarbeit\\n- Einhaltung von Sozialstandards\\n- Gesellschaftliches Engagement\\n\\n- Plattformen & Bezahlfunktionen China\\n- Export nach China\\n\\n- Messen\\n\\n# Historie\\n\\n- 2010er Jahre\\n- 2000er Jahre\\n- 1990er Jahre\\n- 1980er Jahre\\n- 1970er Jahre\\n\\n# Karriere\\n\\n- Karriere Übersicht\\n- Jobs bei Hermes Germany\\n- Jobbörse der Hermes-Gruppe\\n- Unsere Gesellschaften\\n\\n# Hermes Fulfilment\\n\\n- Hermes Fulfilment\\n- Was uns auszeichnet\\n- Ausbildung\\n- Studierende & Absolventen\\n- Deine Bewerbung\\n\\n# Hermes Germany\\n\\n- Hermes Germany\\n- Ausbildung & Duales Studium\\n- Studierende & Absolventen\\n- Berufserfahrene'\u001b[0m,\n",
       "\u001b[2;32m│   │   \u001b[0m\u001b[33mmimetype\u001b[0m=\u001b[32m'text/plain'\u001b[0m,\n",
       "\u001b[2;32m│   │   \u001b[0m\u001b[33mstart_char_idx\u001b[0m=\u001b[3;35mNone\u001b[0m,\n",
       "\u001b[2;32m│   │   \u001b[0m\u001b[33mend_char_idx\u001b[0m=\u001b[3;35mNone\u001b[0m,\n",
       "\u001b[2;32m│   │   \u001b[0m\u001b[33mtext_template\u001b[0m=\u001b[32m'\u001b[0m\u001b[32m{\u001b[0m\u001b[32mmetadata_str\u001b[0m\u001b[32m}\u001b[0m\u001b[32m\\n\\n\u001b[0m\u001b[32m{\u001b[0m\u001b[32mcontent\u001b[0m\u001b[32m}\u001b[0m\u001b[32m'\u001b[0m,\n",
       "\u001b[2;32m│   │   \u001b[0m\u001b[33mmetadata_template\u001b[0m=\u001b[32m'\u001b[0m\u001b[32m{\u001b[0m\u001b[32mkey\u001b[0m\u001b[32m}\u001b[0m\u001b[32m: \u001b[0m\u001b[32m{\u001b[0m\u001b[32mvalue\u001b[0m\u001b[32m}\u001b[0m\u001b[32m'\u001b[0m,\n",
       "\u001b[2;32m│   │   \u001b[0m\u001b[33mmetadata_seperator\u001b[0m=\u001b[32m'\\n'\u001b[0m\n",
       "\u001b[2;32m│   \u001b[0m\u001b[1m)\u001b[0m,\n",
       "\u001b[2;32m│   \u001b[0m\u001b[1;35mDocument\u001b[0m\u001b[1m(\u001b[0m\n",
       "\u001b[2;32m│   │   \u001b[0m\u001b[33mid_\u001b[0m=\u001b[32m'eff2e6c0-0662-4cd2-8a08-f2cfbe900d80'\u001b[0m,\n",
       "\u001b[2;32m│   │   \u001b[0m\u001b[33membedding\u001b[0m=\u001b[3;35mNone\u001b[0m,\n",
       "\u001b[2;32m│   │   \u001b[0m\u001b[33mmetadata\u001b[0m=\u001b[1m{\u001b[0m\u001b[1m}\u001b[0m,\n",
       "\u001b[2;32m│   │   \u001b[0m\u001b[33mexcluded_embed_metadata_keys\u001b[0m=\u001b[1m[\u001b[0m\u001b[1m]\u001b[0m,\n",
       "\u001b[2;32m│   │   \u001b[0m\u001b[33mexcluded_llm_metadata_keys\u001b[0m=\u001b[1m[\u001b[0m\u001b[1m]\u001b[0m,\n",
       "\u001b[2;32m│   │   \u001b[0m\u001b[33mrelationships\u001b[0m=\u001b[1m{\u001b[0m\u001b[1m}\u001b[0m,\n",
       "\u001b[2;32m│   │   \u001b[0m\u001b[33mtext\u001b[0m=\u001b[32m'# hermes-germany/tech/\\n\\n- Architecture & Information Security\\n- ANS\\n- Cloud & Application Infrastructure\\n- IT-Finance und IT-Licensemanagement\\n- BlueOps\\n- European Network\\n- Black OPs\\n- Business Analytics\\n- Support Solutions\\n- Servicedesk\\n- Supply Chain Solutions\\n\\n- Logistik & gewerbliche Jobs\\n\\n# Hermes Europe\\n\\n- Hermes Europe\\n\\n# Hermes Einrichtungs Service\\n\\n- Hermes Einrichtungs Service\\n- Was wir dir bei HES bieten\\n- Jobs beim HES\\n- Jobs beim HES in Ansbach\\n- Jobs in unseren Depots\\n\\n# Karrieremessen\\n\\n- Karrieremessen\\n\\n# Newsroom\\n\\n- Start\\n- Presse\\n- Mediathek\\n- Pressekontakt\\n\\n# Kontakt\\n\\n- Kontakt\\n\\n# Quick Links\\n\\n- Start\\n- Karriere\\n- Jobs bei Hermes Germany'\u001b[0m,\n",
       "\u001b[2;32m│   │   \u001b[0m\u001b[33mmimetype\u001b[0m=\u001b[32m'text/plain'\u001b[0m,\n",
       "\u001b[2;32m│   │   \u001b[0m\u001b[33mstart_char_idx\u001b[0m=\u001b[3;35mNone\u001b[0m,\n",
       "\u001b[2;32m│   │   \u001b[0m\u001b[33mend_char_idx\u001b[0m=\u001b[3;35mNone\u001b[0m,\n",
       "\u001b[2;32m│   │   \u001b[0m\u001b[33mtext_template\u001b[0m=\u001b[32m'\u001b[0m\u001b[32m{\u001b[0m\u001b[32mmetadata_str\u001b[0m\u001b[32m}\u001b[0m\u001b[32m\\n\\n\u001b[0m\u001b[32m{\u001b[0m\u001b[32mcontent\u001b[0m\u001b[32m}\u001b[0m\u001b[32m'\u001b[0m,\n",
       "\u001b[2;32m│   │   \u001b[0m\u001b[33mmetadata_template\u001b[0m=\u001b[32m'\u001b[0m\u001b[32m{\u001b[0m\u001b[32mkey\u001b[0m\u001b[32m}\u001b[0m\u001b[32m: \u001b[0m\u001b[32m{\u001b[0m\u001b[32mvalue\u001b[0m\u001b[32m}\u001b[0m\u001b[32m'\u001b[0m,\n",
       "\u001b[2;32m│   │   \u001b[0m\u001b[33mmetadata_seperator\u001b[0m=\u001b[32m'\\n'\u001b[0m\n",
       "\u001b[2;32m│   \u001b[0m\u001b[1m)\u001b[0m,\n",
       "\u001b[2;32m│   \u001b[0m\u001b[1;35mDocument\u001b[0m\u001b[1m(\u001b[0m\n",
       "\u001b[2;32m│   │   \u001b[0m\u001b[33mid_\u001b[0m=\u001b[32m'7379973d-4654-4bb1-989c-a52e9991c1d4'\u001b[0m,\n",
       "\u001b[2;32m│   │   \u001b[0m\u001b[33membedding\u001b[0m=\u001b[3;35mNone\u001b[0m,\n",
       "\u001b[2;32m│   │   \u001b[0m\u001b[33mmetadata\u001b[0m=\u001b[1m{\u001b[0m\u001b[1m}\u001b[0m,\n",
       "\u001b[2;32m│   │   \u001b[0m\u001b[33mexcluded_embed_metadata_keys\u001b[0m=\u001b[1m[\u001b[0m\u001b[1m]\u001b[0m,\n",
       "\u001b[2;32m│   │   \u001b[0m\u001b[33mexcluded_llm_metadata_keys\u001b[0m=\u001b[1m[\u001b[0m\u001b[1m]\u001b[0m,\n",
       "\u001b[2;32m│   │   \u001b[0m\u001b[33mrelationships\u001b[0m=\u001b[1m{\u001b[0m\u001b[1m}\u001b[0m,\n",
       "\u001b[2;32m│   │   \u001b[0m\u001b[33mtext\u001b[0m=\u001b[32m'# \u001b[0m\u001b[32m(\u001b[0m\u001b[32mSenior-\u001b[0m\u001b[32m)\u001b[0m\u001b[32m Product Manager \u001b[0m\u001b[32m(\u001b[0m\u001b[32mm/w/d\u001b[0m\u001b[32m)\u001b[0m\u001b[32m\\n\\nHermes Germany GmbH\\n\\nHermes Zentrale Hamburg\\n\\nBerufserfahrung\\n\\nMarketing / Kommunikation / Redaktion\\n\\nMarketing, Kommunikation, PR\\n\\nVollzeit\\n\\n# Was dich erwartet:\\n\\n- Du verantwortest strategisch und operativ einen Teil unseres Produktportfolios \u001b[0m\u001b[32m(\u001b[0m\u001b[32mz.B. Retoure\u001b[0m\u001b[32m)\u001b[0m\u001b[32m über die gesamte Customer Journey, von der Beauftragung durch den Versender bis zur Zustellung an den Empfänger\\n- Du beobachtest und analysierst die Zielgruppen, den Markt und den Wettbewerb, um darauf basierend Produkt-, Preis- und Kommunikationsmaßnahmen zu initiieren und umzusetzen, die den ganzheitlichen Erfolg unseres Produktportfolios über den gesamten Lebenszyklus vorantreiben\\n- Du hast die wesentlichen Produkt-KPIs \u001b[0m\u001b[32m(\u001b[0m\u001b[32mwie z.B. Menge, Deckungsbeitrag, Qualität, Kundenzufriedenheit\u001b[0m\u001b[32m)\u001b[0m\u001b[32m kontinuierlich im Blick und leitest Optimierungspotenziale ab\\n- Du leitest neue Produktideen unter Berücksichtigung der Unternehmensziele ab und erstellst dafür Marktanalysen, Business Cases und Präsentationen mit klaren Handlungsempfehlungen\\n- Du initiierst Produkt-Launches und koordinierst deren Umsetzung als Initiatives-Owner\\n- Du begleitest die Entwicklung, Durchführung und Auswertung von Marktforschungen und Kundenbefragungen\\n- Du übernimmst als „Product Lead“ die fachliche Leitung eines crossfunktionalen Produktteams mit dedizierten Vertretern relevanter Funktionen wie z.B. Operations, IT, Sales, Controlling oder Legal\\n\\n# Was du mitbringen solltest:\\n\\n- Du hast Dein Studium, idealerweise mit Schwerpunkt Produktmanagement, oder eine vergleichbare Ausbildung erfolgreich abgeschlossen\\n- Du bringst mehrjährige Berufserfahrung im Produkt- oder Brand Management mit, gern auch aus dem FMCG-Umfeld\\n- Dich zeichnet eine hohe analytische Kompetenz, verbunden mit einem sehr guten Zahlenverständnis hinsichtlich der Interpretation und Steuerung von Kennzahlen aus\\n- Du verfügst über eine ausgeprägte Kundenorientierung\\n- Du bist kreativ und suchst permanent nach den besten Lösungen\\n- Deine Arbeitsweise ist ergebnisorientiert und geprägt von hoher Eigenverantwortung und Selbstständigkeit\\n- Dank Deiner offenen Art und zielgerichteten Kommunikation, gepaart mit einem hohen Maß an Verhandlungsgeschick, fällt es Dir leicht, aktiv zwischen den relevanten Unternehmensbereichen hierarchieübergreifend vermitteln zu können\\n\\n# Was wir dir bieten:\\n\\n- Einsatz führender Technologien und agiler Prozesse\\n- Du arbeitest für einen mehrfach ausgezeichneten Arbeitgeber, dessen'\u001b[0m,\n",
       "\u001b[2;32m│   │   \u001b[0m\u001b[33mmimetype\u001b[0m=\u001b[32m'text/plain'\u001b[0m,\n",
       "\u001b[2;32m│   │   \u001b[0m\u001b[33mstart_char_idx\u001b[0m=\u001b[3;35mNone\u001b[0m,\n",
       "\u001b[2;32m│   │   \u001b[0m\u001b[33mend_char_idx\u001b[0m=\u001b[3;35mNone\u001b[0m,\n",
       "\u001b[2;32m│   │   \u001b[0m\u001b[33mtext_template\u001b[0m=\u001b[32m'\u001b[0m\u001b[32m{\u001b[0m\u001b[32mmetadata_str\u001b[0m\u001b[32m}\u001b[0m\u001b[32m\\n\\n\u001b[0m\u001b[32m{\u001b[0m\u001b[32mcontent\u001b[0m\u001b[32m}\u001b[0m\u001b[32m'\u001b[0m,\n",
       "\u001b[2;32m│   │   \u001b[0m\u001b[33mmetadata_template\u001b[0m=\u001b[32m'\u001b[0m\u001b[32m{\u001b[0m\u001b[32mkey\u001b[0m\u001b[32m}\u001b[0m\u001b[32m: \u001b[0m\u001b[32m{\u001b[0m\u001b[32mvalue\u001b[0m\u001b[32m}\u001b[0m\u001b[32m'\u001b[0m,\n",
       "\u001b[2;32m│   │   \u001b[0m\u001b[33mmetadata_seperator\u001b[0m=\u001b[32m'\\n'\u001b[0m\n",
       "\u001b[2;32m│   \u001b[0m\u001b[1m)\u001b[0m,\n",
       "\u001b[2;32m│   \u001b[0m\u001b[1;35mDocument\u001b[0m\u001b[1m(\u001b[0m\n",
       "\u001b[2;32m│   │   \u001b[0m\u001b[33mid_\u001b[0m=\u001b[32m'6bbeead0-0a65-4b86-a585-95f04068f4a7'\u001b[0m,\n",
       "\u001b[2;32m│   │   \u001b[0m\u001b[33membedding\u001b[0m=\u001b[3;35mNone\u001b[0m,\n",
       "\u001b[2;32m│   │   \u001b[0m\u001b[33mmetadata\u001b[0m=\u001b[1m{\u001b[0m\u001b[1m}\u001b[0m,\n",
       "\u001b[2;32m│   │   \u001b[0m\u001b[33mexcluded_embed_metadata_keys\u001b[0m=\u001b[1m[\u001b[0m\u001b[1m]\u001b[0m,\n",
       "\u001b[2;32m│   │   \u001b[0m\u001b[33mexcluded_llm_metadata_keys\u001b[0m=\u001b[1m[\u001b[0m\u001b[1m]\u001b[0m,\n",
       "\u001b[2;32m│   │   \u001b[0m\u001b[33mrelationships\u001b[0m=\u001b[1m{\u001b[0m\u001b[1m}\u001b[0m,\n",
       "\u001b[2;32m│   │   \u001b[0m\u001b[33mtext\u001b[0m=\u001b[32m'# Unternehmenskultur geprägt ist durch ein offenes und kooperatives Miteinander\\n\\n- Flexible Arbeitszeiten, nach Absprache ist auch mobiles Arbeiten möglich\\n- Umfangreiches Weiterbildungsangebot\\n- 15% Rabatt auf otto.de und anderen Shops\\n- Bezuschussung des Deutschlandtickets, Altersvorsorge, JobRad, verschiedene Sport- und Freizeitangebote uvm.\\n- Vergünstigte und vielfältige Speiseauswahl in unserer modernen Kantine\\n\\nDie Hermes Gruppe bietet vielseitige Arbeitsplätze mit langfristigen Perspektiven und täglich wechselnden Herausforderungen in einer sicheren und zukunftsorientierten Branche. Unser Arbeitsfeld bewegt sich über die Landesgrenzen hinaus: Wir sind ein international tätiges Unternehmen und leben eine multikulturelle Arbeitsatmosphäre. Unsere Wertschätzung gilt allen Menschen gleichermaßen - unabhängig von Geschlecht, Nationalität, ethnischer Herkunft, Religion, Behinderung oder sexueller Orientierung.\\n\\nLogistik bewegt die Welt - beweg dich mit!\\n\\nHaben wir dein Interesse geweckt? Dann mache jetzt den ersten Schritt und bewirb dich gleich online bei uns oder informiere dich auf unserer Homepage.\\n\\n- Lisa Overbeck - Senior HR Manager Recruiting\\n- Jessica Michaels - Teamlead Product Management\\n\\nZurück\\n\\nJetzt bewerben!\\n\\nrexx systems - software for success\\n\\n# Tools & Services\\n\\n- Sendungsverfolgung\\n- PaketShop finden\\n- myHermes Business-Portal\\n- click2supplychain.com\\n- Hermes PORT\\n\\n# Über uns\\n\\n- Hermes Gruppe\\n- Jobs & Karriere\\n- Newsroom\\n- Hermes Blog\\n\\n# Kontakt\\n\\n- Geschäftskunden Kontakt\\n- Presse Kontakt\\n- Privatkunden Kontakt\\n- Lieferanten Kontakt'\u001b[0m,\n",
       "\u001b[2;32m│   │   \u001b[0m\u001b[33mmimetype\u001b[0m=\u001b[32m'text/plain'\u001b[0m,\n",
       "\u001b[2;32m│   │   \u001b[0m\u001b[33mstart_char_idx\u001b[0m=\u001b[3;35mNone\u001b[0m,\n",
       "\u001b[2;32m│   │   \u001b[0m\u001b[33mend_char_idx\u001b[0m=\u001b[3;35mNone\u001b[0m,\n",
       "\u001b[2;32m│   │   \u001b[0m\u001b[33mtext_template\u001b[0m=\u001b[32m'\u001b[0m\u001b[32m{\u001b[0m\u001b[32mmetadata_str\u001b[0m\u001b[32m}\u001b[0m\u001b[32m\\n\\n\u001b[0m\u001b[32m{\u001b[0m\u001b[32mcontent\u001b[0m\u001b[32m}\u001b[0m\u001b[32m'\u001b[0m,\n",
       "\u001b[2;32m│   │   \u001b[0m\u001b[33mmetadata_template\u001b[0m=\u001b[32m'\u001b[0m\u001b[32m{\u001b[0m\u001b[32mkey\u001b[0m\u001b[32m}\u001b[0m\u001b[32m: \u001b[0m\u001b[32m{\u001b[0m\u001b[32mvalue\u001b[0m\u001b[32m}\u001b[0m\u001b[32m'\u001b[0m,\n",
       "\u001b[2;32m│   │   \u001b[0m\u001b[33mmetadata_seperator\u001b[0m=\u001b[32m'\\n'\u001b[0m\n",
       "\u001b[2;32m│   \u001b[0m\u001b[1m)\u001b[0m,\n",
       "\u001b[2;32m│   \u001b[0m\u001b[1;35mDocument\u001b[0m\u001b[1m(\u001b[0m\n",
       "\u001b[2;32m│   │   \u001b[0m\u001b[33mid_\u001b[0m=\u001b[32m'297e3e04-4165-4d77-90f5-9c12e6f0c77f'\u001b[0m,\n",
       "\u001b[2;32m│   │   \u001b[0m\u001b[33membedding\u001b[0m=\u001b[3;35mNone\u001b[0m,\n",
       "\u001b[2;32m│   │   \u001b[0m\u001b[33mmetadata\u001b[0m=\u001b[1m{\u001b[0m\u001b[1m}\u001b[0m,\n",
       "\u001b[2;32m│   │   \u001b[0m\u001b[33mexcluded_embed_metadata_keys\u001b[0m=\u001b[1m[\u001b[0m\u001b[1m]\u001b[0m,\n",
       "\u001b[2;32m│   │   \u001b[0m\u001b[33mexcluded_llm_metadata_keys\u001b[0m=\u001b[1m[\u001b[0m\u001b[1m]\u001b[0m,\n",
       "\u001b[2;32m│   │   \u001b[0m\u001b[33mrelationships\u001b[0m=\u001b[1m{\u001b[0m\u001b[1m}\u001b[0m,\n",
       "\u001b[2;32m│   │   \u001b[0m\u001b[33mtext\u001b[0m=\u001b[32m'Unternehmer werden\\nPaketShop-Partner werden\\n\\n# Länderversion\\n\\nÖsterreich China Deutschland Vereinigtes Königreich International USA\\n\\n- Cookies\\n- Impressum\\n- Datenschutz\\n- Sicherheitshinweise\\n- Sitemap\\n\\n© 2023 Hermes Europe GmbH'\u001b[0m,\n",
       "\u001b[2;32m│   │   \u001b[0m\u001b[33mmimetype\u001b[0m=\u001b[32m'text/plain'\u001b[0m,\n",
       "\u001b[2;32m│   │   \u001b[0m\u001b[33mstart_char_idx\u001b[0m=\u001b[3;35mNone\u001b[0m,\n",
       "\u001b[2;32m│   │   \u001b[0m\u001b[33mend_char_idx\u001b[0m=\u001b[3;35mNone\u001b[0m,\n",
       "\u001b[2;32m│   │   \u001b[0m\u001b[33mtext_template\u001b[0m=\u001b[32m'\u001b[0m\u001b[32m{\u001b[0m\u001b[32mmetadata_str\u001b[0m\u001b[32m}\u001b[0m\u001b[32m\\n\\n\u001b[0m\u001b[32m{\u001b[0m\u001b[32mcontent\u001b[0m\u001b[32m}\u001b[0m\u001b[32m'\u001b[0m,\n",
       "\u001b[2;32m│   │   \u001b[0m\u001b[33mmetadata_template\u001b[0m=\u001b[32m'\u001b[0m\u001b[32m{\u001b[0m\u001b[32mkey\u001b[0m\u001b[32m}\u001b[0m\u001b[32m: \u001b[0m\u001b[32m{\u001b[0m\u001b[32mvalue\u001b[0m\u001b[32m}\u001b[0m\u001b[32m'\u001b[0m,\n",
       "\u001b[2;32m│   │   \u001b[0m\u001b[33mmetadata_seperator\u001b[0m=\u001b[32m'\\n'\u001b[0m\n",
       "\u001b[2;32m│   \u001b[0m\u001b[1m)\u001b[0m\n",
       "\u001b[1m]\u001b[0m\n"
      ]
     },
     "metadata": {},
     "output_type": "display_data"
    }
   ],
   "source": [
    "from llama_index.readers.web import SimpleWebPageReader\n",
    "import tempfile\n",
    "from llama_parse import LlamaParse\n",
    "\n",
    "origin_documents = SimpleWebPageReader(html_to_text=True).load_data(data_urls)\n",
    "# pp(origin_documents)\n",
    "document_contents = \"\\n\".join(\n",
    "    [f\"----document 1:----\\n\\n{doc.text}\" for doc in origin_documents]\n",
    ")\n",
    "# print(document_contents)\n",
    "temp_file = tempfile.NamedTemporaryFile(delete=True, suffix=\".txt\")\n",
    "temp_file.write(document_contents.encode(\"utf-8\"))\n",
    "temp_file.seek(0) \n",
    "ic(temp_file.name)\n",
    "print(temp_file.read()) \n",
    "parser = LlamaParse(\n",
    "    # api_key= api_key,\n",
    "    result_type=\"markdown\"\n",
    ") \n",
    "documents = parser.load_data(temp_file.name)\n",
    "pp(documents)\n",
    "temp_file.close()"
   ]
  },
  {
   "cell_type": "markdown",
   "metadata": {},
   "source": [
    "## Setup step methods"
   ]
  },
  {
   "cell_type": "markdown",
   "metadata": {},
   "source": [
    "### Chain"
   ]
  },
  {
   "cell_type": "code",
   "execution_count": 26,
   "metadata": {},
   "outputs": [],
   "source": [
    "from llama_index.core import get_response_synthesizer\n",
    "\n",
    "synthesizer = get_response_synthesizer(\n",
    "    response_mode=response_mode, streaming=streaming\n",
    ")"
   ]
  },
  {
   "cell_type": "markdown",
   "metadata": {},
   "source": [
    "### Prompting\n",
    "\n",
    "Re-prompt the default prompt for German input data. This can enhance query performance."
   ]
  },
  {
   "cell_type": "code",
   "execution_count": 27,
   "metadata": {},
   "outputs": [
    {
     "data": {
      "text/html": [
       "<pre style=\"white-space:pre;overflow-x:auto;line-height:normal;font-family:Menlo,'DejaVu Sans Mono',consolas,'Courier New',monospace\"><span style=\"color: #008000; text-decoration-color: #008000\">'[INST] &lt;&lt;SYS&gt;&gt; You contains data in German, thinking everything including query and ansewr in German if possible. Answer the users query_str only taking into account the following context_str. If the user asks for information not found in the below context_str, do not answer.\\n\\n&lt;context_str&gt;\\n{context_str}\\n&lt;/context_str&gt;\\n&lt;&lt;/SYS&gt;&gt;\\n\\n {query_str} [/INST]'</span>\n",
       "</pre>\n"
      ],
      "text/plain": [
       "\u001b[32m'\u001b[0m\u001b[32m[\u001b[0m\u001b[32mINST\u001b[0m\u001b[32m]\u001b[0m\u001b[32m \u001b[0m\u001b[32m<\u001b[0m\u001b[32m<SYS>> You contains data in German, thinking everything including query and ansewr in German if possible. Answer the users query_str only taking into account the following context_str. If the user asks for information not found in the below context_str, do not answer.\\n\\n<context_str>\\n\u001b[0m\u001b[32m{\u001b[0m\u001b[32mcontext_str\u001b[0m\u001b[32m}\u001b[0m\u001b[32m\\n</context_str>\\n<</SYS>\u001b[0m\u001b[32m>\u001b[0m\u001b[32m\\n\\n \u001b[0m\u001b[32m{\u001b[0m\u001b[32mquery_str\u001b[0m\u001b[32m}\u001b[0m\u001b[32m \u001b[0m\u001b[32m[\u001b[0m\u001b[32m/INST\u001b[0m\u001b[32m]\u001b[0m\u001b[32m'\u001b[0m\n"
      ]
     },
     "metadata": {},
     "output_type": "display_data"
    }
   ],
   "source": [
    "from langchain import hub\n",
    "from llama_index.core import PromptTemplate\n",
    "\n",
    "prompt_str = hub.pull(\"hwchase17/llama-rag\").template.replace(\"context\", \"context_str\").replace(\"question\", \"query_str\")\n",
    "prompt_str = prompt_str.replace(\"[INST] <<SYS>>\", \"[INST] <<SYS>> You contains data in German, thinking everything including query and ansewr in German if possible. \")\n",
    "pp(prompt_str)\n",
    "\n",
    "prompt_tmpl = PromptTemplate(prompt_str)"
   ]
  },
  {
   "cell_type": "markdown",
   "metadata": {},
   "source": [
    "### Top K RAG"
   ]
  },
  {
   "cell_type": "code",
   "execution_count": 28,
   "metadata": {},
   "outputs": [],
   "source": [
    "from llama_index.core import VectorStoreIndex\n",
    "from llama_index.core.node_parser import SentenceSplitter\n",
    "from llama_index.core.postprocessor import SentenceTransformerRerank\n",
    "\n",
    "\n",
    "splitter = SentenceSplitter(chunk_size=chunk_size)\n",
    "vector_index = VectorStoreIndex.from_documents(documents, transformations=[splitter])\n",
    "vector_query_engine = vector_index.as_query_engine(\n",
    "    similarity_top_k=similarity_top_k,\n",
    "    response_synthesizer=synthesizer,\n",
    "    node_postprocessors=[\n",
    "        SentenceTransformerRerank(top_n=rerank_top_k, model=\"BAAI/bge-reranker-base\")\n",
    "    ],\n",
    "    summary_template=prompt_tmpl,\n",
    ")\n",
    "vector_query_engine.update_prompts(\n",
    "    {\"response_synthesizer:summary_template\": prompt_tmpl}\n",
    ")"
   ]
  },
  {
   "cell_type": "code",
   "execution_count": 29,
   "metadata": {},
   "outputs": [
    {
     "data": {
      "text/html": [
       "<pre style=\"white-space:pre;overflow-x:auto;line-height:normal;font-family:Menlo,'DejaVu Sans Mono',consolas,'Courier New',monospace\"><span style=\"font-weight: bold\">[</span>\n",
       "<span style=\"color: #7fbf7f; text-decoration-color: #7fbf7f\">│   </span><span style=\"color: #800080; text-decoration-color: #800080; font-weight: bold\">PromptTemplate</span><span style=\"font-weight: bold\">(</span>\n",
       "<span style=\"color: #7fbf7f; text-decoration-color: #7fbf7f\">│   │   </span><span style=\"color: #808000; text-decoration-color: #808000\">metadata</span>=<span style=\"font-weight: bold\">{</span><span style=\"color: #008000; text-decoration-color: #008000\">'prompt_type'</span>: <span style=\"font-weight: bold\">&lt;</span><span style=\"color: #ff00ff; text-decoration-color: #ff00ff; font-weight: bold\">PromptType.CUSTOM:</span><span style=\"color: #000000; text-decoration-color: #000000\"> </span><span style=\"color: #008000; text-decoration-color: #008000\">'custom'</span><span style=\"color: #000000; text-decoration-color: #000000\">&gt;</span><span style=\"color: #000000; text-decoration-color: #000000; font-weight: bold\">}</span><span style=\"color: #000000; text-decoration-color: #000000\">,</span>\n",
       "<span style=\"color: #7fbf7f; text-decoration-color: #7fbf7f\">│   │   </span><span style=\"color: #808000; text-decoration-color: #808000\">template_vars</span><span style=\"color: #000000; text-decoration-color: #000000\">=</span><span style=\"color: #000000; text-decoration-color: #000000; font-weight: bold\">[</span><span style=\"color: #008000; text-decoration-color: #008000\">'context_str'</span><span style=\"color: #000000; text-decoration-color: #000000\">, </span><span style=\"color: #008000; text-decoration-color: #008000\">'query_str'</span><span style=\"color: #000000; text-decoration-color: #000000; font-weight: bold\">]</span><span style=\"color: #000000; text-decoration-color: #000000\">,</span>\n",
       "<span style=\"color: #7fbf7f; text-decoration-color: #7fbf7f\">│   │   </span><span style=\"color: #808000; text-decoration-color: #808000\">kwargs</span><span style=\"color: #000000; text-decoration-color: #000000\">=</span><span style=\"color: #000000; text-decoration-color: #000000; font-weight: bold\">{}</span><span style=\"color: #000000; text-decoration-color: #000000\">,</span>\n",
       "<span style=\"color: #7fbf7f; text-decoration-color: #7fbf7f\">│   │   </span><span style=\"color: #808000; text-decoration-color: #808000\">output_parser</span><span style=\"color: #000000; text-decoration-color: #000000\">=</span><span style=\"color: #800080; text-decoration-color: #800080; font-style: italic\">None</span><span style=\"color: #000000; text-decoration-color: #000000\">,</span>\n",
       "<span style=\"color: #7fbf7f; text-decoration-color: #7fbf7f\">│   │   </span><span style=\"color: #808000; text-decoration-color: #808000\">template_var_mappings</span><span style=\"color: #000000; text-decoration-color: #000000\">=</span><span style=\"color: #800080; text-decoration-color: #800080; font-style: italic\">None</span><span style=\"color: #000000; text-decoration-color: #000000\">,</span>\n",
       "<span style=\"color: #7fbf7f; text-decoration-color: #7fbf7f\">│   │   </span><span style=\"color: #808000; text-decoration-color: #808000\">function_mappings</span><span style=\"color: #000000; text-decoration-color: #000000\">=</span><span style=\"color: #800080; text-decoration-color: #800080; font-style: italic\">None</span><span style=\"color: #000000; text-decoration-color: #000000\">,</span>\n",
       "<span style=\"color: #7fbf7f; text-decoration-color: #7fbf7f\">│   │   </span><span style=\"color: #808000; text-decoration-color: #808000\">template</span><span style=\"color: #000000; text-decoration-color: #000000\">=</span><span style=\"color: #008000; text-decoration-color: #008000\">'[INST] &lt;&lt;SYS&gt;&gt; You contains data in German, thinking everything including query and ansewr in German if possible. Answer the users query_str only taking into account the following context_str. If the user asks for information not found in the below context_str, do not answer.\\n\\n&lt;context_str&gt;\\n{context_str}\\n&lt;/context_str&gt;\\n&lt;&lt;/SYS&gt;&gt;\\n\\n {query_str} [/INST]'</span>\n",
       "<span style=\"color: #7fbf7f; text-decoration-color: #7fbf7f\">│   </span><span style=\"font-weight: bold\">)</span>\n",
       "<span style=\"font-weight: bold\">]</span>\n",
       "</pre>\n"
      ],
      "text/plain": [
       "\u001b[1m[\u001b[0m\n",
       "\u001b[2;32m│   \u001b[0m\u001b[1;35mPromptTemplate\u001b[0m\u001b[1m(\u001b[0m\n",
       "\u001b[2;32m│   │   \u001b[0m\u001b[33mmetadata\u001b[0m=\u001b[1m{\u001b[0m\u001b[32m'prompt_type'\u001b[0m: \u001b[1m<\u001b[0m\u001b[1;95mPromptType.CUSTOM:\u001b[0m\u001b[39m \u001b[0m\u001b[32m'custom'\u001b[0m\u001b[39m>\u001b[0m\u001b[1;39m}\u001b[0m\u001b[39m,\u001b[0m\n",
       "\u001b[2;32m│   │   \u001b[0m\u001b[33mtemplate_vars\u001b[0m\u001b[39m=\u001b[0m\u001b[1;39m[\u001b[0m\u001b[32m'context_str'\u001b[0m\u001b[39m, \u001b[0m\u001b[32m'query_str'\u001b[0m\u001b[1;39m]\u001b[0m\u001b[39m,\u001b[0m\n",
       "\u001b[2;32m│   │   \u001b[0m\u001b[33mkwargs\u001b[0m\u001b[39m=\u001b[0m\u001b[1;39m{\u001b[0m\u001b[1;39m}\u001b[0m\u001b[39m,\u001b[0m\n",
       "\u001b[2;32m│   │   \u001b[0m\u001b[33moutput_parser\u001b[0m\u001b[39m=\u001b[0m\u001b[3;35mNone\u001b[0m\u001b[39m,\u001b[0m\n",
       "\u001b[2;32m│   │   \u001b[0m\u001b[33mtemplate_var_mappings\u001b[0m\u001b[39m=\u001b[0m\u001b[3;35mNone\u001b[0m\u001b[39m,\u001b[0m\n",
       "\u001b[2;32m│   │   \u001b[0m\u001b[33mfunction_mappings\u001b[0m\u001b[39m=\u001b[0m\u001b[3;35mNone\u001b[0m\u001b[39m,\u001b[0m\n",
       "\u001b[2;32m│   │   \u001b[0m\u001b[33mtemplate\u001b[0m\u001b[39m=\u001b[0m\u001b[32m'\u001b[0m\u001b[32m[\u001b[0m\u001b[32mINST\u001b[0m\u001b[32m]\u001b[0m\u001b[32m <<SYS>> You contains data in German, thinking everything including query and ansewr in German if possible. Answer the users query_str only taking into account the following context_str. If the user asks for information not found in the below context_str, do not answer.\\n\\n<context_str>\\n\u001b[0m\u001b[32m{\u001b[0m\u001b[32mcontext_str\u001b[0m\u001b[32m}\u001b[0m\u001b[32m\\n</context_str>\\n<</SYS>\u001b[0m\u001b[32m>\u001b[0m\u001b[32m\\n\\n \u001b[0m\u001b[32m{\u001b[0m\u001b[32mquery_str\u001b[0m\u001b[32m}\u001b[0m\u001b[32m \u001b[0m\u001b[32m[\u001b[0m\u001b[32m/INST\u001b[0m\u001b[32m]\u001b[0m\u001b[32m'\u001b[0m\n",
       "\u001b[2;32m│   \u001b[0m\u001b[1m)\u001b[0m\n",
       "\u001b[1m]\u001b[0m\n"
      ]
     },
     "metadata": {},
     "output_type": "display_data"
    }
   ],
   "source": [
    "prompts_dict = vector_query_engine.get_prompts()\n",
    "pp(list(prompts_dict.values()))"
   ]
  },
  {
   "cell_type": "markdown",
   "metadata": {},
   "source": [
    "### Multi-step query"
   ]
  },
  {
   "cell_type": "code",
   "execution_count": 30,
   "metadata": {},
   "outputs": [],
   "source": [
    "from llama_index.core.indices.query.query_transform.base import (\n",
    "    StepDecomposeQueryTransform,\n",
    ")\n",
    "from llama_index.core.query_engine import MultiStepQueryEngine\n",
    "\n",
    "step_decompose_transform = StepDecomposeQueryTransform(verbose=verbose)\n",
    "multi_steps_query_engine = MultiStepQueryEngine(\n",
    "    query_engine=vector_query_engine,\n",
    "    query_transform=step_decompose_transform,\n",
    "    response_synthesizer=synthesizer,\n",
    "    num_steps=num_multi_steps,\n",
    ")"
   ]
  },
  {
   "cell_type": "markdown",
   "metadata": {},
   "source": [
    "### Long context query"
   ]
  },
  {
   "cell_type": "code",
   "execution_count": 31,
   "metadata": {},
   "outputs": [],
   "source": [
    "from llama_index.core.llms.llm import LLM\n",
    "from llama_index.core.query_engine import CustomQueryEngine\n",
    "from typing import Any\n",
    "from langchain import hub\n",
    "from llama_index.core import PromptTemplate\n",
    "\n",
    "\n",
    "class VanillaQueryEngine(CustomQueryEngine):\n",
    "    \"\"\"RAG String Query Engine.\"\"\"\n",
    "\n",
    "    llm: LLM\n",
    "    context: str\n",
    "    prompt_tmpl: PromptTemplate\n",
    "\n",
    "    def __call__(self, *args: Any, **kwds: Any) -> str:\n",
    "        return self.custom_query(*args, **kwds)\n",
    "\n",
    "    def custom_query(self, query_str: str) -> str:\n",
    "        full_query = self.prompt_tmpl.format(\n",
    "            context_str=self.context, query_str=query_str\n",
    "        )\n",
    "        return str(self.llm.complete(full_query))\n",
    "\n",
    "\n",
    "lc_query_engine = VanillaQueryEngine(\n",
    "    response_synthesizer=synthesizer,\n",
    "    llm=Settings.llm,\n",
    "    context=\"\\n\".join([doc.text for doc in documents]),\n",
    "    prompt_tmpl=prompt_tmpl,\n",
    ")"
   ]
  },
  {
   "cell_type": "markdown",
   "metadata": {},
   "source": [
    "## Query with methods"
   ]
  },
  {
   "cell_type": "markdown",
   "metadata": {},
   "source": [
    "### Simple query for try"
   ]
  },
  {
   "cell_type": "code",
   "execution_count": 73,
   "metadata": {},
   "outputs": [],
   "source": [
    "query = \"Tell me the jobs you know at Hermes Group?\""
   ]
  },
  {
   "cell_type": "markdown",
   "metadata": {},
   "source": [
    "### Top K RAG"
   ]
  },
  {
   "cell_type": "code",
   "execution_count": 33,
   "metadata": {},
   "outputs": [
    {
     "name": "stdout",
     "output_type": "stream",
     "text": [
      "Ich habe Daten über die Hermes Gruppe, einem international tätigen Logistikunternehmen. Die Daten umfassen Informationen über die Unternehmenstätigkeit, Dienstleistungen, Karriere, Nachhaltigkeit, Klima- und Umweltschutz, sowie über die verschiedenen Gesellschaften innerhalb der Hermes Gruppe, wie Hermes Germany, Hermes UK, Hermes Logistik Österreich und Hermes Fulfilment. Ich habe auch Daten über die verschiedenen Dienstleistungen, wie Sendungsverfolgung, PaketShop finden, myHermes Business-Portal und click2supplychain.com.\n"
     ]
    }
   ],
   "source": [
    "vc_res = vector_query_engine.query(query)\n",
    "print(vc_res.response)"
   ]
  },
  {
   "cell_type": "markdown",
   "metadata": {},
   "source": [
    "### Multi-step query"
   ]
  },
  {
   "cell_type": "code",
   "execution_count": 34,
   "metadata": {},
   "outputs": [
    {
     "name": "stdout",
     "output_type": "stream",
     "text": [
      "\u001b[1;3;33m> Current query: What data do you have?\n",
      "\u001b[0m\u001b[1;3;38;5;200m> New query: Since there is no context information provided, we cannot extract any relevant information to answer the original question or a subcomponent of it. Therefore, the next question would be the same as the original question, which is:\n",
      "\n",
      "What data do you have?\n",
      "\u001b[0m\u001b[1;3;33m> Current query: What data do you have?\n",
      "\u001b[0m\u001b[1;3;38;5;200m> New query: What information do you have about the Hermes Gruppe?\n",
      "\u001b[0m\u001b[1;3;33m> Current query: What data do you have?\n",
      "\u001b[0m\u001b[1;3;38;5;200m> New query: What information do you have about the Hermes Germany GmbH?\n",
      "\u001b[0m\u001b[1;3;33m> Current query: What data do you have?\n",
      "\u001b[0m\u001b[1;3;38;5;200m> New query: What information do you have about Hermes Fulfilment?\n",
      "\u001b[0mIch habe Daten über die Hermes Gruppe, einem international tätigen Logistikunternehmen. Die Daten umfassen Informationen über die Unternehmenstätigkeit, Dienstleistungen, Karrieremöglichkeiten, Nachhaltigkeit und Umweltschutz. Es gibt auch spezifische Informationen über die verschiedenen Gesellschaften innerhalb der Hermes Gruppe, wie Hermes Germany, Hermes Fulfilment und Hermes Logistik Österreich.\n"
     ]
    }
   ],
   "source": [
    "ms_res = multi_steps_query_engine.query(query)\n",
    "print(ms_res.response)"
   ]
  },
  {
   "cell_type": "code",
   "execution_count": 35,
   "metadata": {},
   "outputs": [
    {
     "data": {
      "text/html": [
       "<pre style=\"white-space:pre;overflow-x:auto;line-height:normal;font-family:Menlo,'DejaVu Sans Mono',consolas,'Courier New',monospace\"><span style=\"font-weight: bold\">[</span>\n",
       "<span style=\"color: #7fbf7f; text-decoration-color: #7fbf7f\">│   </span><span style=\"font-weight: bold\">(</span>\n",
       "<span style=\"color: #7fbf7f; text-decoration-color: #7fbf7f\">│   │   </span><span style=\"color: #008000; text-decoration-color: #008000\">'Since there is no context information provided, we cannot extract any relevant information to answer the original question or a subcomponent of it. Therefore, the next question would be the same as the original question, which is:\\n\\nWhat data do you have?'</span>,\n",
       "<span style=\"color: #7fbf7f; text-decoration-color: #7fbf7f\">│   │   </span><span style=\"color: #008000; text-decoration-color: #008000\">'Ich habe Daten über die Hermes Gruppe, einem international tätigen Logistikunternehmen. Die Daten umfassen Informationen über die Unternehmenstätigkeit, Dienstleistungen, Karrieremöglichkeiten, Nachhaltigkeit und Umweltschutz. Es gibt auch spezifische Informationen über die verschiedenen Gesellschaften innerhalb der Hermes Gruppe, wie Hermes Germany, Hermes Fulfilment und Hermes Logistik Österreich.'</span>\n",
       "<span style=\"color: #7fbf7f; text-decoration-color: #7fbf7f\">│   </span><span style=\"font-weight: bold\">)</span>,\n",
       "<span style=\"color: #7fbf7f; text-decoration-color: #7fbf7f\">│   </span><span style=\"font-weight: bold\">(</span>\n",
       "<span style=\"color: #7fbf7f; text-decoration-color: #7fbf7f\">│   │   </span><span style=\"color: #008000; text-decoration-color: #008000\">'What information do you have about the Hermes Gruppe?'</span>,\n",
       "<span style=\"color: #7fbf7f; text-decoration-color: #7fbf7f\">│   │   </span><span style=\"color: #008000; text-decoration-color: #008000\">'Die Hermes Gruppe ist ein wichtiger Teil der Hermes-Organisation. Hier sind einige Informationen, die ich gefunden habe:\\n\\n* Die Hermes Gruppe umfasst verschiedene Unternehmen, darunter Hermes Einrichtungs Service, Hermes Fulfilment, Hermes Logistik Österreich, Hermes Germany GmbH und Hermes NexTec.\\n* Die Hermes Gruppe bietet eine Vielzahl von Dienstleistungen an, darunter Logistik, Transport, Fulfilment und E-Commerce-Lösungen.\\n* Die Hermes Gruppe hat eine starke Präsenz in Europa und bietet Dienstleistungen in vielen Ländern an, darunter Deutschland, Österreich, das Vereinigte Königreich und andere.\\n* Die Hermes Gruppe legt Wert auf Nachhaltigkeit und Umweltschutz und bietet grüne Zustelllösungen und energieeffiziente Standorte an.\\n* Die Hermes Gruppe unterstützt auch soziale Projekte und engagiert sich für faire Arbeitsbedingungen und die Einhaltung von Sozialstandards.\\n\\nIch hoffe, diese Informationen sind hilfreich!'</span>\n",
       "<span style=\"color: #7fbf7f; text-decoration-color: #7fbf7f\">│   </span><span style=\"font-weight: bold\">)</span>,\n",
       "<span style=\"color: #7fbf7f; text-decoration-color: #7fbf7f\">│   </span><span style=\"font-weight: bold\">(</span>\n",
       "<span style=\"color: #7fbf7f; text-decoration-color: #7fbf7f\">│   │   </span><span style=\"color: #008000; text-decoration-color: #008000\">'What information do you have about the Hermes Germany GmbH?'</span>,\n",
       "<span style=\"color: #7fbf7f; text-decoration-color: #7fbf7f\">│   │   </span><span style=\"color: #008000; text-decoration-color: #008000\">'Ich habe folgende Informationen über die Hermes Germany GmbH:\\n\\n* Hermes Germany GmbH ist Teil der Hermes Logistik Gruppe Deutschland.\\n* Es gibt die Möglichkeit, PaketShop-Partner zu werden.\\n* Es gibt die Möglichkeit, Vertragspartner zu werden.\\n* Es gibt ein Formular, das ausgefüllt werden kann.\\n\\nWenn Sie weitere Informationen benötigen, können Sie auch auf der Website https://www.hermesworld.com/de/ueber-uns/hermes-gruppe/hermes-logistik-gruppe-deutschland/hermes-logistik-gruppe-deutschland/ nachlesen.'</span>\n",
       "<span style=\"color: #7fbf7f; text-decoration-color: #7fbf7f\">│   </span><span style=\"font-weight: bold\">)</span>,\n",
       "<span style=\"color: #7fbf7f; text-decoration-color: #7fbf7f\">│   </span><span style=\"font-weight: bold\">(</span>\n",
       "<span style=\"color: #7fbf7f; text-decoration-color: #7fbf7f\">│   │   </span><span style=\"color: #008000; text-decoration-color: #008000\">'What information do you have about Hermes Fulfilment?'</span>,\n",
       "<span style=\"color: #7fbf7f; text-decoration-color: #7fbf7f\">│   │   </span><span style=\"color: #008000; text-decoration-color: #008000\">'Es tut mir leid, aber ich habe keine Informationen über Hermes Fulfilment in dem bereitgestellten Kontext gefunden.'</span>\n",
       "<span style=\"color: #7fbf7f; text-decoration-color: #7fbf7f\">│   </span><span style=\"font-weight: bold\">)</span>\n",
       "<span style=\"font-weight: bold\">]</span>\n",
       "</pre>\n"
      ],
      "text/plain": [
       "\u001b[1m[\u001b[0m\n",
       "\u001b[2;32m│   \u001b[0m\u001b[1m(\u001b[0m\n",
       "\u001b[2;32m│   │   \u001b[0m\u001b[32m'Since there is no context information provided, we cannot extract any relevant information to answer the original question or a subcomponent of it. Therefore, the next question would be the same as the original question, which is:\\n\\nWhat data do you have?'\u001b[0m,\n",
       "\u001b[2;32m│   │   \u001b[0m\u001b[32m'Ich habe Daten über die Hermes Gruppe, einem international tätigen Logistikunternehmen. Die Daten umfassen Informationen über die Unternehmenstätigkeit, Dienstleistungen, Karrieremöglichkeiten, Nachhaltigkeit und Umweltschutz. Es gibt auch spezifische Informationen über die verschiedenen Gesellschaften innerhalb der Hermes Gruppe, wie Hermes Germany, Hermes Fulfilment und Hermes Logistik Österreich.'\u001b[0m\n",
       "\u001b[2;32m│   \u001b[0m\u001b[1m)\u001b[0m,\n",
       "\u001b[2;32m│   \u001b[0m\u001b[1m(\u001b[0m\n",
       "\u001b[2;32m│   │   \u001b[0m\u001b[32m'What information do you have about the Hermes Gruppe?'\u001b[0m,\n",
       "\u001b[2;32m│   │   \u001b[0m\u001b[32m'Die Hermes Gruppe ist ein wichtiger Teil der Hermes-Organisation. Hier sind einige Informationen, die ich gefunden habe:\\n\\n* Die Hermes Gruppe umfasst verschiedene Unternehmen, darunter Hermes Einrichtungs Service, Hermes Fulfilment, Hermes Logistik Österreich, Hermes Germany GmbH und Hermes NexTec.\\n* Die Hermes Gruppe bietet eine Vielzahl von Dienstleistungen an, darunter Logistik, Transport, Fulfilment und E-Commerce-Lösungen.\\n* Die Hermes Gruppe hat eine starke Präsenz in Europa und bietet Dienstleistungen in vielen Ländern an, darunter Deutschland, Österreich, das Vereinigte Königreich und andere.\\n* Die Hermes Gruppe legt Wert auf Nachhaltigkeit und Umweltschutz und bietet grüne Zustelllösungen und energieeffiziente Standorte an.\\n* Die Hermes Gruppe unterstützt auch soziale Projekte und engagiert sich für faire Arbeitsbedingungen und die Einhaltung von Sozialstandards.\\n\\nIch hoffe, diese Informationen sind hilfreich!'\u001b[0m\n",
       "\u001b[2;32m│   \u001b[0m\u001b[1m)\u001b[0m,\n",
       "\u001b[2;32m│   \u001b[0m\u001b[1m(\u001b[0m\n",
       "\u001b[2;32m│   │   \u001b[0m\u001b[32m'What information do you have about the Hermes Germany GmbH?'\u001b[0m,\n",
       "\u001b[2;32m│   │   \u001b[0m\u001b[32m'Ich habe folgende Informationen über die Hermes Germany GmbH:\\n\\n* Hermes Germany GmbH ist Teil der Hermes Logistik Gruppe Deutschland.\\n* Es gibt die Möglichkeit, PaketShop-Partner zu werden.\\n* Es gibt die Möglichkeit, Vertragspartner zu werden.\\n* Es gibt ein Formular, das ausgefüllt werden kann.\\n\\nWenn Sie weitere Informationen benötigen, können Sie auch auf der Website https://www.hermesworld.com/de/ueber-uns/hermes-gruppe/hermes-logistik-gruppe-deutschland/hermes-logistik-gruppe-deutschland/ nachlesen.'\u001b[0m\n",
       "\u001b[2;32m│   \u001b[0m\u001b[1m)\u001b[0m,\n",
       "\u001b[2;32m│   \u001b[0m\u001b[1m(\u001b[0m\n",
       "\u001b[2;32m│   │   \u001b[0m\u001b[32m'What information do you have about Hermes Fulfilment?'\u001b[0m,\n",
       "\u001b[2;32m│   │   \u001b[0m\u001b[32m'Es tut mir leid, aber ich habe keine Informationen über Hermes Fulfilment in dem bereitgestellten Kontext gefunden.'\u001b[0m\n",
       "\u001b[2;32m│   \u001b[0m\u001b[1m)\u001b[0m\n",
       "\u001b[1m]\u001b[0m\n"
      ]
     },
     "metadata": {},
     "output_type": "display_data"
    }
   ],
   "source": [
    "def show_multi_steps(ms_res):\n",
    "    sub_qa = ms_res.metadata[\"sub_qa\"]\n",
    "    tuples = [(t[0], t[1].response) for t in sub_qa]\n",
    "    pp(tuples)\n",
    "\n",
    "show_multi_steps(ms_res)"
   ]
  },
  {
   "cell_type": "markdown",
   "metadata": {},
   "source": [
    "### Long context query"
   ]
  },
  {
   "cell_type": "code",
   "execution_count": 36,
   "metadata": {},
   "outputs": [
    {
     "name": "stderr",
     "output_type": "stream",
     "text": [
      "ic| lc_res: ('Ich habe Daten über die Hermes Gruppe, einem Logistikunternehmen, das '\n",
      "             'verschiedene Dienstleistungen wie Transport, Logistik, Supply Chain '\n",
      "             'Solutions und E-Commerce anbietet. Die Daten umfassen Informationen über die '\n",
      "             'Unternehmenstätigkeit, die verschiedenen Gesellschaften innerhalb der '\n",
      "             'Gruppe, Karrieremöglichkeiten, News und Pressemitteilungen sowie '\n",
      "             'Kontaktinformationen.\n",
      "            '\n",
      "             '\n",
      "            '\n",
      "             'Einige spezifische Daten, die ich habe, sind:\n",
      "            '\n",
      "             '\n",
      "            '\n",
      "             '* Informationen über die verschiedenen Gesellschaften innerhalb der Hermes '\n",
      "             'Gruppe, wie z.B. Hermes Germany GmbH, Hermes Logistik Österreich, Hermes UK '\n",
      "             'und Hermes BorderGuru\n",
      "            '\n",
      "             '* Karrieremöglichkeiten bei Hermes, einschließlich Jobangeboten, '\n",
      "             'Ausbildungsmöglichkeiten und Informationen über die Unternehmenskultur\n",
      "            '\n",
      "             '* News und Pressemitteilungen über die Hermes Gruppe und ihre Aktivitäten\n",
      "            '\n",
      "             '* Kontaktinformationen für Geschäftskunden, Presse und Privatkunden\n",
      "            '\n",
      "             '* Informationen über die verschiedenen Dienstleistungen, die die Hermes '\n",
      "             'Gruppe anbietet, wie z.B. Sendungsverfolgung, PaketShop-Finder und myHermes '\n",
      "             'Business-Portal\n",
      "            '\n",
      "             '\n",
      "            '\n",
      "             'Wenn du eine spezifische Frage hast, stehe ich gerne zur Verfügung, um dir '\n",
      "             'zu helfen!')\n"
     ]
    },
    {
     "data": {
      "text/plain": [
       "'Ich habe Daten über die Hermes Gruppe, einem Logistikunternehmen, das verschiedene Dienstleistungen wie Transport, Logistik, Supply Chain Solutions und E-Commerce anbietet. Die Daten umfassen Informationen über die Unternehmenstätigkeit, die verschiedenen Gesellschaften innerhalb der Gruppe, Karrieremöglichkeiten, News und Pressemitteilungen sowie Kontaktinformationen.\\n\\nEinige spezifische Daten, die ich habe, sind:\\n\\n* Informationen über die verschiedenen Gesellschaften innerhalb der Hermes Gruppe, wie z.B. Hermes Germany GmbH, Hermes Logistik Österreich, Hermes UK und Hermes BorderGuru\\n* Karrieremöglichkeiten bei Hermes, einschließlich Jobangeboten, Ausbildungsmöglichkeiten und Informationen über die Unternehmenskultur\\n* News und Pressemitteilungen über die Hermes Gruppe und ihre Aktivitäten\\n* Kontaktinformationen für Geschäftskunden, Presse und Privatkunden\\n* Informationen über die verschiedenen Dienstleistungen, die die Hermes Gruppe anbietet, wie z.B. Sendungsverfolgung, PaketShop-Finder und myHermes Business-Portal\\n\\nWenn du eine spezifische Frage hast, stehe ich gerne zur Verfügung, um dir zu helfen!'"
      ]
     },
     "execution_count": 36,
     "metadata": {},
     "output_type": "execute_result"
    }
   ],
   "source": [
    "lc_res = lc_query_engine(query)\n",
    "ic(lc_res)"
   ]
  },
  {
   "cell_type": "markdown",
   "metadata": {},
   "source": [
    "# Replication query router"
   ]
  },
  {
   "cell_type": "markdown",
   "metadata": {},
   "source": [
    "The routing is ochstrated by the complexity of the query and the context. Because of the complexity of the query, the RAG will be failed for some reason. The routing will be used to decompose the query into multiple steps. The long-context query will be used for unanswerable questions."
   ]
  },
  {
   "cell_type": "markdown",
   "metadata": {},
   "source": [
    "## RAG can be failed by 4 reasons\n",
    "\n",
    "Accoriding to the paper, there are four reasons why RAG can be failed.\n",
    "\n",
    "The four reasons include: \n",
    "\n",
    "(A) The query requires multi-step reasoning so the results of previous steps are needed to retrieve information for later steps, e.g. ‘‘What nationality is the performer of song XXX’’. \n",
    "\n",
    "(B) The query is general, e.g. ‘‘What does the group think about XXX’’, which is challenging for the retriever to formulate a good query. \n",
    "\n",
    "(C) The query is long and complex, which is challenging for the retriever to understand. However, answering this kind of questions is arguably, an advantage of LLMs. \n",
    "\n",
    "(D) The query is implicit, demanding a thorough understanding of the entire context. For instance, in a lengthy conversational narrative about a space voyage, a question like ‘‘What caused the shadow behind the spaceship?’’ requires readers to connect the dots and deduce the answer, as there is no explicit mention of the shadow when the cause is revealed.\n",
    "\n",
    "##### Short to say:\n",
    "\n",
    "(A) The query requires multi-step reasoning.\n",
    "\n",
    "(B) The query is general. \n",
    "\n",
    "(C) The query is long and complex, requiring LLMs. \n",
    "\n",
    "(D) The query is implicit, demanding a thorough understanding of the entire context.\n",
    "\n"
   ]
  },
  {
   "cell_type": "markdown",
   "metadata": {},
   "source": [
    "## Setup route query engine"
   ]
  },
  {
   "cell_type": "markdown",
   "metadata": {},
   "source": [
    "### Tools"
   ]
  },
  {
   "cell_type": "code",
   "execution_count": 37,
   "metadata": {},
   "outputs": [],
   "source": [
    "from llama_index.core.tools import QueryEngineTool\n",
    "\n",
    "vector_query_engine_tool = QueryEngineTool.from_defaults(\n",
    "    query_engine=vector_query_engine,\n",
    "    description=\"Useful for simple and answerable questions, the data source is German, please think in German context if possible.\",\n",
    ")\n",
    "\n",
    "multi_steps_query_engine_tool = QueryEngineTool.from_defaults(\n",
    "    query_engine=multi_steps_query_engine,\n",
    "    description=\"Useful for answerable questions that require multiple step reasoning, the data source is German, please think in German context if possible.\",\n",
    ")\n",
    "\n",
    "lc_query_engine_tool = QueryEngineTool.from_defaults(\n",
    "    query_engine=lc_query_engine,\n",
    "    description=\"Useful for the unanswerable, long and complex or implicit questions that require full context to obtain results, the data source is German, please think in German context if possible.\",\n",
    ")\n",
    "\n",
    "query_engine_tools = [\n",
    "    vector_query_engine_tool,\n",
    "    multi_steps_query_engine_tool,\n",
    "    lc_query_engine_tool,\n",
    "]"
   ]
  },
  {
   "cell_type": "markdown",
   "metadata": {},
   "source": [
    "### Router query engine"
   ]
  },
  {
   "cell_type": "code",
   "execution_count": 38,
   "metadata": {},
   "outputs": [],
   "source": [
    "from llama_index.core.query_engine import RouterQueryEngine\n",
    "from llama_index.core.selectors.llm_selectors import LLMSingleSelector\n",
    "from llama_index.core.response_synthesizers import TreeSummarize\n",
    "\n",
    "SINGLE_SELECT_PROMPT_TMPL = (\n",
    "    \"Some choices are given below. It is provided in a numbered list \"\n",
    "    \"(1 to {num_choices}), \"\n",
    "    \"where each item in the list corresponds to a summary.\\n\"\n",
    "    \"---------------------\\n\"\n",
    "    \"{context_list}\"\n",
    "    \"\\n---------------------\\n\"\n",
    "    \"Using only the choices above and not prior knowledge, return \"\n",
    "    \"the choice that is most relevant to the question: '{query_str}'\\n\"\n",
    "    \"notice: the content is in German and the query might be in English, please translate the query into German and think in German if necessary.\"\n",
    ")\n",
    "\n",
    "router_query_engine = RouterQueryEngine(\n",
    "    selector=LLMSingleSelector.from_defaults(\n",
    "        prompt_template_str=SINGLE_SELECT_PROMPT_TMPL\n",
    "    ),\n",
    "    query_engine_tools=query_engine_tools,\n",
    "    summarizer=TreeSummarize(\n",
    "        streaming=streaming,\n",
    "        use_async=True,\n",
    "        verbose=verbose,\n",
    "    ),\n",
    "    verbose=verbose,\n",
    ")"
   ]
  },
  {
   "cell_type": "markdown",
   "metadata": {},
   "source": [
    "#### Simple question"
   ]
  },
  {
   "cell_type": "code",
   "execution_count": 75,
   "metadata": {},
   "outputs": [
    {
     "name": "stdout",
     "output_type": "stream",
     "text": [
      "\u001b[1;3;38;5;200mSelecting query engine 0: The question is simple and answerable, it only requires a list of job titles and descriptions at Hermes Group, which can be obtained from a specific data source..\n",
      "\u001b[0mBei Hermes Group gibt es folgende Jobs:\n",
      "\n",
      "1. **(Junior) Manager (m/w/d) HR Controlling**\n",
      "   - Beschreibung: Du erstellst Auswertungen, Statistiken und Präsentationen für interne Stakeholder wie HR Kolleg*innen oder Fachbereiche sowie für externe Stakeholder wie Behörden. Du begleitest tatkräftig Prozesse (z.B. Gehaltsrunde) sowie HR-Projekte, um datenbasierte Entscheidungen treffen zu können.\n",
      "\n",
      "2. **(Senior-) Product Manager (m/w/d)**\n",
      "   - Beschreibung: Du verantwortest strategisch und operativ einen Teil unseres Produktportfolios (z.B. Retoure) über die gesamte Customer Journey, von der Beauftragung durch den Versender bis zur Zustellung an den Empfänger.\n"
     ]
    }
   ],
   "source": [
    "simply_query = \"Tell me the jobs you know at Hermes Group, only the jobs with title and description?\"\n",
    "route_res = router_query_engine.query(simply_query)\n",
    "print(route_res.response)"
   ]
  },
  {
   "cell_type": "code",
   "execution_count": 76,
   "metadata": {},
   "outputs": [
    {
     "name": "stdout",
     "output_type": "stream",
     "text": [
      "Bei Hermes Group gibt es folgende Jobs:\n",
      "\n",
      "1. **(Junior) Manager (m/w/d) HR Controlling**\n",
      "   - Beschreibung: Du erstellst Auswertungen, Statistiken und Präsentationen für interne Stakeholder wie HR Kolleg*innen oder Fachbereiche sowie für externe Stakeholder wie Behörden. Du begleitest tatkräftig Prozesse (z.B. Gehaltsrunde) sowie HR-Projekte, um datenbasierte Entscheidungen treffen zu können.\n",
      "\n",
      "2. **(Senior-) Product Manager (m/w/d)**\n",
      "   - Beschreibung: Du verantwortest strategisch und operativ einen Teil unseres Produktportfolios (z.B. Retoure) über die gesamte Customer Journey, von der Beauftragung durch den Versender bis zur Zustellung an den Empfänger.\n"
     ]
    }
   ],
   "source": [
    "lc_res = lc_query_engine.query(simply_query)\n",
    "print(route_res.response)"
   ]
  },
  {
   "cell_type": "markdown",
   "metadata": {},
   "source": [
    "#### Mult-step requried question"
   ]
  },
  {
   "cell_type": "code",
   "execution_count": 77,
   "metadata": {},
   "outputs": [
    {
     "name": "stdout",
     "output_type": "stream",
     "text": [
      "\u001b[1;3;38;5;200mSelecting query engine 1: The question requires multiple step reasoning to understand the job roles and their respective tasks, and the data source is in German, so thinking in German context is necessary..\n",
      "\u001b[0m\u001b[1;3;33m> Current query: What is the job (Junior) Manager (m/w/d) HR Controlling and (Senior-) Product Manager (m/w/d) TODO, tasks and so on respectively.\n",
      "\u001b[0m\u001b[1;3;38;5;200m> New query: What are the job descriptions for (Junior) Manager (m/w/d) HR Controlling and (Senior-) Product Manager (m/w/d)?\n",
      "\u001b[0m\u001b[1;3;33m> Current query: What is the job (Junior) Manager (m/w/d) HR Controlling and (Senior-) Product Manager (m/w/d) TODO, tasks and so on respectively.\n",
      "\u001b[0m\u001b[1;3;38;5;200m> New query: What are the main tasks and responsibilities of a (Junior) Manager (m/w/d) HR Controlling and a (Senior-) Product Manager (m/w/d) respectively?\n",
      "\u001b[0m\u001b[1;3;33m> Current query: What is the job (Junior) Manager (m/w/d) HR Controlling and (Senior-) Product Manager (m/w/d) TODO, tasks and so on respectively.\n",
      "\u001b[0m\u001b[1;3;38;5;200m> New query: What are the specific tasks and responsibilities of a (Junior) Manager (m/w/d) HR Controlling and a (Senior-) Product Manager (m/w/d) in terms of data analysis, process management, product development, and team leadership?\n",
      "\u001b[0m\u001b[1;3;33m> Current query: What is the job (Junior) Manager (m/w/d) HR Controlling and (Senior-) Product Manager (m/w/d) TODO, tasks and so on respectively.\n",
      "\u001b[0m\u001b[1;3;38;5;200m> New query: None\n",
      "\u001b[0mDie Stellenbeschreibungen für (Junior) Manager (m/w/d) HR Controlling und (Senior-) Product Manager (m/w/d) sind wie folgt:\n",
      "\n",
      "**Junior) Manager (m/w/d) HR Controlling:**\n",
      "\n",
      "* Du erstellst Auswertungen, Statistiken und Präsentationen für interne Stakeholder wie HR Kolleg*innen oder Fachbereiche sowie für externe Stakeholder wie Behörden\n",
      "* Du begleitest tatkräftig Prozesse (z.B. Gehaltsrunde) sowie HR-Projekte, um datenbasierte Entscheidungen treffen zu können\n",
      "* Du arbeitest aktiv an dem Aufbau einer Qualitätskontrolle zwischen unseren Systemen mit\n",
      "* Neue Ideen und Verbesserungsvorschläge bringst du mit Überzeugungskraft ein\n",
      "\n",
      "**Senior-) Product Manager (m/w/d):**\n",
      "\n",
      "* Du verantwortest strategisch und operativ einen Teil unseres Produktportfolios (z.B. Retoure) über die gesamte Customer Journey, von der Beauftragung durch den Versender bis zur Zustellung an den Empfänger\n",
      "* Du beobachtest und analysierst die Zielgruppen, den Markt und den Wettbewerb, um darauf basierend Produkt-, Preis- und Kommunikationsmaßnahmen zu initiieren und umzusetzen, die den ganzheitlichen Erfolg unseres Produktportfolios über den gesamten Lebenszyklus vorantreiben\n",
      "* Du hast die wesentlichen Produkt-KPIs (wie z.B. Menge, Deckungsbeitrag, Qualität, Kundenzufriedenheit) kontinuierlich im Blick und leitest Optimierungspotenziale ab\n",
      "* Du leitest neue Produktideen unter Berücksichtigung der Unternehmensziele ab und erstellst dafür Marktanalysen, Business Cases und Präsentationen mit klaren Handlungsempfehlungen\n",
      "* Du initiierst Produkt-Launches und koordinierst deren Umsetzung als Initiatives-Owner\n",
      "* Du begleitest die Entwicklung, Durchführung und Auswertung von Marktforschungen und Kundenbefragungen\n",
      "* Du übernimmst als „Product Lead“ die fachliche Leitung eines crossfunktionalen Produktteams mit dedizierten Vertretern relevanter Funktionen wie z.B. Operations, IT, Sales, Controlling oder Legal\n"
     ]
    }
   ],
   "source": [
    "normal_query = \"What is the job (Junior) Manager (m/w/d) HR Controlling and (Senior-) Product Manager (m/w/d) TODO, tasks and so on respectively.\"\n",
    "route_res = router_query_engine.query(normal_query)\n",
    "print(route_res.response)"
   ]
  },
  {
   "cell_type": "code",
   "execution_count": 78,
   "metadata": {},
   "outputs": [
    {
     "name": "stdout",
     "output_type": "stream",
     "text": [
      "Die Stellenbeschreibungen für (Junior) Manager (m/w/d) HR Controlling und (Senior-) Product Manager (m/w/d) sind wie folgt:\n",
      "\n",
      "**Junior) Manager (m/w/d) HR Controlling:**\n",
      "\n",
      "* Du erstellst Auswertungen, Statistiken und Präsentationen für interne Stakeholder wie HR Kolleg*innen oder Fachbereiche sowie für externe Stakeholder wie Behörden\n",
      "* Du begleitest tatkräftig Prozesse (z.B. Gehaltsrunde) sowie HR-Projekte, um datenbasierte Entscheidungen treffen zu können\n",
      "* Du arbeitest aktiv an dem Aufbau einer Qualitätskontrolle zwischen unseren Systemen mit\n",
      "* Neue Ideen und Verbesserungsvorschläge bringst du mit Überzeugungskraft ein\n",
      "\n",
      "**Senior-) Product Manager (m/w/d):**\n",
      "\n",
      "* Du verantwortest strategisch und operativ einen Teil unseres Produktportfolios (z.B. Retoure) über die gesamte Customer Journey, von der Beauftragung durch den Versender bis zur Zustellung an den Empfänger\n",
      "* Du beobachtest und analysierst die Zielgruppen, den Markt und den Wettbewerb, um darauf basierend Produkt-, Preis- und Kommunikationsmaßnahmen zu initiieren und umzusetzen, die den ganzheitlichen Erfolg unseres Produktportfolios über den gesamten Lebenszyklus vorantreiben\n",
      "* Du hast die wesentlichen Produkt-KPIs (wie z.B. Menge, Deckungsbeitrag, Qualität, Kundenzufriedenheit) kontinuierlich im Blick und leitest Optimierungspotenziale ab\n",
      "* Du leitest neue Produktideen unter Berücksichtigung der Unternehmensziele ab und erstellst dafür Marktanalysen, Business Cases und Präsentationen mit klaren Handlungsempfehlungen\n",
      "* Du initiierst Produkt-Launches und koordinierst deren Umsetzung als Initiatives-Owner\n",
      "* Du begleitest die Entwicklung, Durchführung und Auswertung von Marktforschungen und Kundenbefragungen\n",
      "* Du übernimmst als „Product Lead“ die fachliche Leitung eines crossfunktionalen Produktteams mit dedizierten Vertretern relevanter Funktionen wie z.B. Operations, IT, Sales, Controlling oder Legal\n"
     ]
    }
   ],
   "source": [
    "lc_res = lc_query_engine.query(normal_query)\n",
    "print(route_res.response)"
   ]
  },
  {
   "cell_type": "markdown",
   "metadata": {},
   "source": [
    "#### Long and complex question"
   ]
  },
  {
   "cell_type": "code",
   "execution_count": 88,
   "metadata": {},
   "outputs": [
    {
     "name": "stdout",
     "output_type": "stream",
     "text": [
      "\u001b[1;3;38;5;200mSelecting query engine 2: The question is asking for a broad range of information about jobs within the Hermes Group, including TODO and benefits, which suggests that it requires full context to obtain results. Additionally, the question is somewhat open-ended and implicit, as it doesn't specify what kind of information is being sought. Therefore, choice 3 is the most relevant..\n",
      "\u001b[0m"
     ]
    },
    {
     "data": {
      "text/markdown": [
       "Wir haben verschiedene Jobangebote in unserer Datenbank. Hier sind einige Beispiele:\n",
       "\n",
       "1. (Junior) Manager (m/w/d) HR Controlling:\n",
       "\t* Unternehmen: Hermes Germany GmbH\n",
       "\t* Standort: Hamburg\n",
       "\t* Berufserfahrung: Junior Level\n",
       "\t* Aufgaben: Erstellung von Auswertungen, Statistiken und Präsentationen für interne und externe Stakeholder, Begleitung von Prozessen und HR-Projekten, Aufbau einer Qualitätskontrolle zwischen Systemen\n",
       "\t* Anforderungen: Studium in Wirtschafts-, Sozialwissenschaften oder Personalmanagement, erste Berufserfahrung, Spaß am Umgang mit Daten und großen Zahlenmengen\n",
       "\t* Benefits: Einsatz führender Technologien und agiler Prozesse, flexible Arbeitszeiten, umfangreiches Weiterbildungsangebot, 15% Rabatt auf otto.de und anderen Shops\n",
       "2. (Senior-) Product Manager (m/w/d):\n",
       "\t* Unternehmen: Hermes Germany GmbH\n",
       "\t* Standort: Hamburg\n",
       "\t* Berufserfahrung: Mehrjährige Berufserfahrung im Produkt- oder Brand Management\n",
       "\t* Aufgaben: Verantwortung für ein Teil des Produktportfolios, Analyse von Zielgruppen, Markt und Wettbewerb, Initiierung von Produktideen und -launches\n",
       "\t* Anforderungen: Studium mit Schwerpunkt Produktmanagement, mehrjährige Berufserfahrung im Produkt- oder Brand Management, hohe analytische Kompetenz, ausgeprägte Kundenorientierung\n",
       "\t* Benefits: Einsatz führender Technologien und agiler Prozesse, flexible Arbeitszeiten, umfangreiches Weiterbildungsangebot, 15% Rabatt auf otto.de und anderen Shops\n",
       "\n",
       "Die Hermes Gruppe bietet vielseitige Arbeitsplätze mit langfristigen Perspektiven und täglich wechselnden Herausforderungen in einer sicheren und zukunftsorientierten Branche. Unsere Wertschätzung gilt allen Menschen gleichermaßen - unabhängig von Geschlecht, Nationalität, ethnischer Herkunft, Religion, Behinderung oder sexueller Orientierung.\n",
       "\n",
       "Wir bieten eine Vielzahl von Benefits, darunter:\n",
       "\n",
       "* Einsatz führender Technologien und agiler Prozesse\n",
       "* Flexible Arbeitszeiten, nach Absprache ist auch mobiles Arbeiten möglich\n",
       "* Umfangreiches Weiterbildungsangebot\n",
       "* 15% Rabatt auf otto.de und anderen Shops\n",
       "* Bezuschussung des Deutschlandtickets, Altersvorsorge, JobRad, verschiedene Sport- und Freizeitangebote uvm.\n",
       "* Vergünstigte und vielfältige Speiseauswahl in unserer modernen Kantine\n",
       "\n",
       "Wir hoffen, diese Informationen helfen dir bei deiner Jobsuche!"
      ],
      "text/plain": [
       "<IPython.core.display.Markdown object>"
      ]
     },
     "execution_count": 88,
     "metadata": {},
     "output_type": "execute_result"
    }
   ],
   "source": [
    "long_complex_query=\"Tell me the information of the jobs within your knowledge base, including TODO and the benifits for working in the Hermes Group.\"\n",
    "route_res = router_query_engine.query(long_complex_query)\n",
    "Markdown(route_res.response)"
   ]
  }
 ],
 "metadata": {
  "language_info": {
   "name": "python"
  }
 },
 "nbformat": 4,
 "nbformat_minor": 2
}
