{
 "cells": [
  {
   "cell_type": "markdown",
   "metadata": {},
   "source": [
    "LLM application through query routing and long-context, a type of reflection flow based on the user query\n",
    "===\n",
    "\n",
    "RAG routing is based on the complexity of the query and the context. The routing follows these rules:\n",
    "\n",
    "1. Simple query, direct answer, no routing.\n",
    "2. Answerable question, but complex query, then routing for query decomposition.\n",
    "3. Route to long-context query for unanswerable questions.\n",
    "\n",
    "Origin paper: [Retrieval Augmented Generation or Long-Context LLMs? A Comprehensive Study and Hybrid Approach](https://arxiv.org/abs/2407.16833)\n",
    "\n",
    "Implementation: LLama-Index\n"
   ]
  },
  {
   "cell_type": "code",
   "execution_count": 100,
   "metadata": {},
   "outputs": [],
   "source": [
    "from rich.pretty import pprint as pp\n",
    "from icecream import ic\n",
    "import nest_asyncio\n",
    "nest_asyncio.apply()"
   ]
  },
  {
   "cell_type": "code",
   "execution_count": 101,
   "metadata": {},
   "outputs": [],
   "source": [
    "llm=\"models/gemini-1.5-flash\"\n",
    "embeds=\"models/text-embedding-004\"\n",
    "chunk_size=1024\n",
    "data_url=\"https://hermesworld.com/de/karriere/jobs/Junior-Manager-mwd-HR-Controlling-de-j4364.html\"\n",
    "rerank_top_k=5\n",
    "similarity_top_k=5\n",
    "num_multi_steps=4\n",
    "verbose=True\n",
    "streaming=False"
   ]
  },
  {
   "cell_type": "markdown",
   "metadata": {},
   "source": [
    "## Token counting"
   ]
  },
  {
   "cell_type": "code",
   "execution_count": 103,
   "metadata": {},
   "outputs": [],
   "source": [
    "from llama_index.core.callbacks import TokenCountingHandler\n",
    "import tiktoken\n",
    "\n",
    "token_counter = TokenCountingHandler(\n",
    "    tokenizer=tiktoken.encoding_for_model(\"gpt-3.5-turbo\").encode\n",
    ")"
   ]
  },
  {
   "cell_type": "code",
   "execution_count": 104,
   "metadata": {},
   "outputs": [
    {
     "data": {
      "text/html": [
       "<pre style=\"white-space:pre;overflow-x:auto;line-height:normal;font-family:Menlo,'DejaVu Sans Mono',consolas,'Courier New',monospace\"><span style=\"font-weight: bold\">(</span><span style=\"color: #008000; text-decoration-color: #008000\">'Embedding Tokens: '</span>, <span style=\"color: #008080; text-decoration-color: #008080; font-weight: bold\">0</span>, <span style=\"color: #008000; text-decoration-color: #008000\">'LLM Prompt Tokens: '</span>, <span style=\"color: #008080; text-decoration-color: #008080; font-weight: bold\">0</span>, <span style=\"color: #008000; text-decoration-color: #008000\">'LLM Completion Tokens: '</span>, <span style=\"color: #008080; text-decoration-color: #008080; font-weight: bold\">0</span>, <span style=\"color: #008000; text-decoration-color: #008000\">'Total LLM Token Count: '</span>, <span style=\"color: #008080; text-decoration-color: #008080; font-weight: bold\">0</span><span style=\"font-weight: bold\">)</span>\n",
       "</pre>\n"
      ],
      "text/plain": [
       "\u001b[1m(\u001b[0m\u001b[32m'Embedding Tokens: '\u001b[0m, \u001b[1;36m0\u001b[0m, \u001b[32m'LLM Prompt Tokens: '\u001b[0m, \u001b[1;36m0\u001b[0m, \u001b[32m'LLM Completion Tokens: '\u001b[0m, \u001b[1;36m0\u001b[0m, \u001b[32m'Total LLM Token Count: '\u001b[0m, \u001b[1;36m0\u001b[0m\u001b[1m)\u001b[0m\n"
      ]
     },
     "metadata": {},
     "output_type": "display_data"
    }
   ],
   "source": [
    "def print_token_counter(counter: TokenCountingHandler):\n",
    "    pp(\n",
    "        (\n",
    "            \"Embedding Tokens: \",\n",
    "            counter.total_embedding_token_count,\n",
    "            \"LLM Prompt Tokens: \",\n",
    "            counter.prompt_llm_token_count,\n",
    "            \"LLM Completion Tokens: \",\n",
    "            counter.completion_llm_token_count,\n",
    "            \"Total LLM Token Count: \",\n",
    "            counter.total_llm_token_count,\n",
    "        )\n",
    "    )\n",
    "\n",
    "    counter.reset_counts()\n",
    "\n",
    "\n",
    "print_token_counter(token_counter)"
   ]
  },
  {
   "cell_type": "markdown",
   "metadata": {},
   "source": [
    "## LLama-Index setting"
   ]
  },
  {
   "cell_type": "code",
   "execution_count": 105,
   "metadata": {},
   "outputs": [],
   "source": [
    "from llama_index.core import Settings\n",
    "from llama_index.embeddings.gemini import GeminiEmbedding\n",
    "from llama_index.llms.gemini import Gemini\n",
    "from llama_index.core.callbacks import CallbackManager\n",
    "\n",
    "Settings.llm = Gemini(model=llm, temperature=0)\n",
    "Settings.embed_model = GeminiEmbedding(model_name=embeds)\n",
    "Settings.callbacks = CallbackManager([token_counter])"
   ]
  },
  {
   "cell_type": "code",
   "execution_count": 106,
   "metadata": {},
   "outputs": [
    {
     "data": {
      "text/html": [
       "<pre style=\"white-space:pre;overflow-x:auto;line-height:normal;font-family:Menlo,'DejaVu Sans Mono',consolas,'Courier New',monospace\"><span style=\"font-weight: bold\">[</span>\n",
       "<span style=\"color: #7fbf7f; text-decoration-color: #7fbf7f\">│   </span><span style=\"color: #800080; text-decoration-color: #800080; font-weight: bold\">Document</span><span style=\"font-weight: bold\">(</span>\n",
       "<span style=\"color: #7fbf7f; text-decoration-color: #7fbf7f\">│   │   </span><span style=\"color: #808000; text-decoration-color: #808000\">id_</span>=<span style=\"color: #008000; text-decoration-color: #008000\">'https://hermesworld.com/de/karriere/jobs/Junior-Manager-mwd-HR-Controlling-de-j4364.html'</span>,\n",
       "<span style=\"color: #7fbf7f; text-decoration-color: #7fbf7f\">│   │   </span><span style=\"color: #808000; text-decoration-color: #808000\">embedding</span>=<span style=\"color: #800080; text-decoration-color: #800080; font-style: italic\">None</span>,\n",
       "<span style=\"color: #7fbf7f; text-decoration-color: #7fbf7f\">│   │   </span><span style=\"color: #808000; text-decoration-color: #808000\">metadata</span>=<span style=\"font-weight: bold\">{}</span>,\n",
       "<span style=\"color: #7fbf7f; text-decoration-color: #7fbf7f\">│   │   </span><span style=\"color: #808000; text-decoration-color: #808000\">excluded_embed_metadata_keys</span>=<span style=\"font-weight: bold\">[]</span>,\n",
       "<span style=\"color: #7fbf7f; text-decoration-color: #7fbf7f\">│   │   </span><span style=\"color: #808000; text-decoration-color: #808000\">excluded_llm_metadata_keys</span>=<span style=\"font-weight: bold\">[]</span>,\n",
       "<span style=\"color: #7fbf7f; text-decoration-color: #7fbf7f\">│   │   </span><span style=\"color: #808000; text-decoration-color: #808000\">relationships</span>=<span style=\"font-weight: bold\">{}</span>,\n",
       "<span style=\"color: #7fbf7f; text-decoration-color: #7fbf7f\">│   │   </span><span style=\"color: #808000; text-decoration-color: #808000\">text</span>=<span style=\"color: #008000; text-decoration-color: #008000\">'[ Privatkunden ](https://www.myhermes.de)\\n\\nÖsterreich China Deutschland Vereinigtes Königreich International USA\\n\\nMenu AT CN DE EN INT US [Hermes](https://www.hermesworld.com/de/)\\n\\n  * navigation.search\\n\\n  * [Start](https://www.hermesworld.com/de/)\\n  * [Unsere Dienstleistungen](https://www.hermesworld.com/de/unsere-dienstleistungen/)\\n\\n    * [Transport Logistics](https://www.hermesworld.com/de/unsere-dienstleistungen/transport-logistics/)\\n      * [Supply Chain Solutions](https://www.hermesworld.com/de/unsere-dienstleistungen/transport-logistics/supply-chain-solutions/unsere-fokusbranchen/)\\n        * [Unsere Fokusbranchen](https://www.hermesworld.com/de/unsere-dienstleistungen/transport-logistics/supply-chain-solutions/unsere-fokusbranchen/)\\n        * [Supply Chain Services](https://www.hermesworld.com/de/unsere-dienstleistungen/transport-logistics/supply-chain-solutions/supply-chain-services/)\\n        * [E-Services](https://www.hermesworld.com/de/unsere-dienstleistungen/transport-logistics/supply-chain-solutions/e-services/)\\n        * [Zoll Services](https://www.hermesworld.com/de/unsere-dienstleistungen/transport-logistics/supply-chain-solutions/hermes-scan/)\\n        * [Nachhaltigkeit](https://www.hermesworld.com/de/unsere-dienstleistungen/transport-logistics/supply-chain-solutions/massgeschneiderte-logistikloesungen/)\\n        * [Unser Partnernetzwerk](https://www.hermesworld.com/de/unsere-dienstleistungen/transport-logistics/supply-chain-solutions/zusatzdienstleistungen/)\\n          * [FML](https://www.hermesworld.com/de/unsere-dienstleistungen/transport-logistics/supply-chain-solutions/unser-partnernetzwerk/fml/)\\n          * [Jeena](https://www.hermesworld.com/de/unsere-dienstleistungen/transport-logistics/supply-chain-solutions/unsere-globalen-partner/jeena/)\\n          * [SEKO](https://www.hermesworld.com/de/unsere-dienstleistungen/transport-logistics/supply-chain-solutions/unser-partnernetzwerk/seko/)\\n          * [WWG](https://www.hermesworld.com/de/unsere-dienstleistungen/transport-logistics/supply-chain-solutions/unser-partnernetzwerk/wwg/)\\n    * [Global E-Commerce](https://www.hermesworld.com/de/unsere-dienstleistungen/global-e-commerce/)\\n      * [Global E-Commerce](https://www.hermesworld.com/de/unsere-dienstleistungen/global-e-commerce/global-e-commerce/)\\n    * [Distribution](https://www.hermesworld.com/de/unsere-dienstleistungen/distribution/)\\n      * [Paketversand](https://www.hermesworld.com/de/unsere-dienstleistungen/distribution/paketversand/paketversand/)\\n        * [Paketversand](https://www.hermesworld.com/de/unsere-dienstleistungen/distribution/paketversand/paketversand/)\\n      * [2-Mann-Handling](https://www.hermesworld.com/de/unsere-dienstleistungen/distribution/2-mann-handling/2-mann-handling/)\\n        * [2-Mann-Handling](https://www.hermesworld.com/de/unsere-dienstleistungen/distribution/2-mann-handling/2-mann-handling/)\\n        * [Individuelle Versandlösungen](https://www.hermesworld.com/de/unsere-dienstleistungen/distribution/2-mann-handling/individuelle-versandloesungen/)\\n        * [Zusammenarbeit](https://www.hermesworld.com/de/unsere-dienstleistungen/distribution/2-mann-handling/zusammenarbeit/)\\n        * [Dropshipping](https://www.hermesworld.com/de/unsere-dienstleistungen/distribution/2-mann-handling/dropshipping/)\\n        * [Unser Service für Versender](https://www.hermesworld.com/de/unsere-dienstleistungen/distribution/2-mann-handling/unser-service-fuer-versender/)\\n        * [Unser Service für Endkunden](https://www.hermesworld.com/de/unsere-dienstleistungen/distribution/2-mann-handling/unser-service-fuer-endkunden/)\\n        * [CO2-neutraler Versand](https://www.hermesworld.com/de/unsere-dienstleistungen/distribution/2-mann-handling/klimaneutraler-versand/)\\n        * [HES Pay](https://www.hermesworld.com/de/unsere-dienstleistungen/distribution/2-mann-handling/hes-pay/)\\n      * [Distribution in Europa](https://www.hermesworld.com/de/unsere-dienstleistungen/distribution/distribution-in-europa/)\\n\\n  * [Über uns](https://www.hermesworld.com/de/ueber-uns/)\\n\\n    * [Auf einen Blick](https://www.hermesworld.com/de/ueber-uns/auf-einen-blick/hermes-auf-einen-blick/)\\n      * [Hermes auf einen Blick](https://www.hermesworld.com/de/ueber-uns/auf-einen-blick/hermes-auf-einen-blick/)\\n    * [Hermes Gruppe](https://www.hermesworld.com/de/ueber-uns/hermes-gruppe/)\\n      * [Hermes Einrichtungs Service](https://www.hermesworld.com/de/ueber-uns/hermes-gruppe/hermes-einrichtungs-service/)\\n        * [Hermes Einrichtungs Service](https://www.hermesworld.com/de/ueber-uns/hermes-gruppe/hermes-einrichtungs-service/)\\n        * [Logistikzentren](https://www.hermesworld.com/de/ueber-uns/hermes-gruppe/hermes-einrichtungs-service/logistikzentren/)\\n        * [Auslieferdepots](https://www.hermesworld.com/de/ueber-uns/hermes-gruppe/hermes-einrichtungs-service/auslieferdepots/)\\n      * [Hermes Fulfilment](https://www.hermesworld.com/de/ueber-uns/hermes-gruppe/hermes-fulfilment/hermes-fulfilment/)\\n        * [Hermes Fulfilment](https://www.hermesworld.com/de/ueber-uns/hermes-gruppe/hermes-fulfilment/hermes-fulfilment/)\\n        * [Daten &amp; Fakten](https://www.hermesworld.com/de/ueber-uns/hermes-gruppe/hermes-fulfilment/daten-fakten/)\\n        * [Einblicke](https://www.hermesworld.com/de/ueber-uns/hermes-gruppe/hermes-fulfilment/einblicke/)\\n        * [Nachhaltigkeit](https://www.hermesworld.com/de/ueber-uns/hermes-gruppe/hermes-fulfilment/nachhaltigkeit/)\\n      * [Hermes Logistik Österreich](https://www.hermesworld.com/de/ueber-uns/hermes-gruppe/hermes-logistik-at/hermes-logistik-oesterreich/)\\n        * [Hermes Logistik Österreich](https://www.hermesworld.com/de/ueber-uns/hermes-gruppe/hermes-logistik-at/hermes-logistik-oesterreich/)\\n        * [PaketShop Partner](https://www.hermesworld.com/de/ueber-uns/hermes-gruppe/hermes-logistik-at/paketshop-partner/)\\n      * [Hermes Germany GmbH](https://www.hermesworld.com/de/ueber-uns/hermes-gruppe/hermes-logistik-gruppe-deutschland/hermes-logistik-gruppe-deutschland/)\\n        * [Hermes Germany GmbH](https://www.hermesworld.com/de/ueber-uns/hermes-gruppe/hermes-logistik-gruppe-deutschland/hermes-logistik-gruppe-deutschland/)\\n        * [PaketShop-Partner werden](https://www.hermesworld.com/de/ueber-uns/hermes-gruppe/hermes-logistik-gruppe-deutschland/paketshop-partner/)\\n        * [Vertragspartner werden](https://www.hermesworld.com/de/ueber-uns/hermes-gruppe/hermes-logistik-gruppe-deutschland/vertragspartner-werden/)\\n          * [Formular](https://www.hermesworld.com/de/ueber-uns/hermes-gruppe/hermes-logistik-gruppe-deutschland/vertragspartner-werden/formular/)\\n      * [Hermes NexTec](https://www.hermesworld.com/de/ueber-uns/hermes-gruppe/hermes-nextec/)\\n      * [Hermes Germany](https://www.hermesworld.com/de/ueber-uns/hermes-gruppe/hermes-transport-logistics/hermes-transport-logistics/)\\n        * [Hermes Germany](https://www.hermesworld.com/de/ueber-uns/hermes-gruppe/hermes-transport-logistics/hermes-transport-logistics/)\\n        * [Downloads](https://www.hermesworld.com/de/ueber-uns/hermes-gruppe/hermes-transport-logistics/downloads/)\\n      * [Hermes UK](https://www.hermesworld.com/de/ueber-uns/hermes-gruppe/hermes-uk/hermes-uk/)\\n        * [Hermes UK](https://www.hermesworld.com/de/ueber-uns/hermes-gruppe/hermes-uk/hermes-uk/)\\n        * [Kundenstimmen](https://www.hermesworld.com/de/ueber-uns/hermes-gruppe/hermes-uk/kundenstimmen/)\\n      * [Hermes BorderGuru](https://www.hermesworld.com/de/ueber-uns/hermes-gruppe/borderguru/)\\n    * [Management](https://www.hermesworld.com/de/ueber-uns/management/)\\n    * [Klima- und Umweltschutz](https://www.hermesworld.com/de/ueber-uns/klima-und-umweltschutz/klima-und-umweltschutz/)\\n      * [Klima- und Umweltschutz](https://www.hermesworld.com/de/ueber-uns/klima-und-umweltschutz/klima-und-umweltschutz/)\\n      * [Grüne Zustellung](https://www.hermesworld.com/de/ueber-uns/klima-und-umweltschutz/gruene-zustellung/)\\n      * [Energieeffiziente Standorte](https://www.hermesworld.com/de/ueber-uns/klima-und-umweltschutz/energieeffiziente-standorte/)\\n      * [Unterstützung von Klimaschutzprojekten](https://www.hermesworld.com/de/ueber-uns/klima-und-umweltschutz/unterstuetzung-von-klimaschutzprojekten/)\\n    * [Soziale Verantwortung](https://www.hermesworld.com/de/ueber-uns/soziale-verantwortung/faire-zusammenarbeit/)\\n      * [Faire Zusammenarbeit](https://www.hermesworld.com/de/ueber-uns/soziale-verantwortung/faire-zusammenarbeit/)\\n      * [Einhaltung von Sozialstandards](https://www.hermesworld.com/de/ueber-uns/soziale-verantwortung/einhaltung-von-sozialstandards/)\\n      * [Gesellschaftliches Engagement](https://www.hermesworld.com/de/ueber-uns/soziale-verantwortung/gesellschaftliches-engagement/)\\n    * [Downloads](https://www.hermesworld.com/de/ueber-uns/downloads/)\\n      * [Plattformen &amp; Bezahlfunktionen China](https://www.hermesworld.com/de/ueber-uns/downloads/plattformen-bezahlfunktionen-china/)\\n      * [Export nach China](https://www.hermesworld.com/de/ueber-uns/downloads/export-nach-china/)\\n    * [Messen](https://www.hermesworld.com/de/ueber-uns/messen/)\\n    * [Historie](https://www.hermesworld.com/de/ueber-uns/historie/2010er-jahre/)\\n      * [2010er Jahre](https://www.hermesworld.com/de/ueber-uns/historie/2010er-jahre/)\\n      * [2000er Jahre](https://www.hermesworld.com/de/ueber-uns/historie/2000er-jahre/)\\n      * [1990er Jahre](https://www.hermesworld.com/de/ueber-uns/historie/1990er-jahre/)\\n      * [1980er Jahre](https://www.hermesworld.com/de/ueber-uns/historie/1980er-jahre/)\\n      * [1970er Jahre](https://www.hermesworld.com/de/ueber-uns/historie/1970er-jahre/)\\n\\n  * [Karriere](https://www.hermesworld.com/de/karriere/karriere-uebersicht/)\\n\\n    * [Karriere Übersicht](https://www.hermesworld.com/de/karriere/karriere-uebersicht/)\\n    * [Jobs bei Hermes Germany](https://www.hermesworld.com/de/karriere/jobs/)\\n    * [Jobbörse der Hermes-Gruppe](https://www.hermesworld.com/de/karriere/jobboerse/)\\n    * [Unsere Gesellschaften](https://www.hermesworld.com/de/karriere/unsere-gesellschaften/)\\n      * [Hermes Fulfilment](https://www.hermesworld.com/de/karriere/unsere-gesellschaften/hermes-fulfilment/hermes-fulfilment/)\\n        * [Hermes Fulfilment](https://www.hermesworld.com/de/karriere/unsere-gesellschaften/hermes-fulfilment/hermes-fulfilment/)\\n        * [Was uns auszeichnet](https://www.hermesworld.com/de/karriere/unsere-gesellschaften/hermes-fulfilment/was-uns-auszeichnet/)\\n        * [Ausbildung](https://www.hermesworld.com/de/karriere/unsere-gesellschaften/hermes-fulfilment/ausbildung-duales-studium/)\\n        * [Studierende &amp; Absolventen](https://www.hermesworld.com/de/karriere/unsere-gesellschaften/hermes-fulfilment/studierende-absolventen/)\\n        * [Deine Bewerbung](https://www.hermesworld.com/de/karriere/unsere-gesellschaften/hermes-fulfilment/ihre-bewerbung/)\\n      * [Hermes Germany](https://www.hermesworld.com/de/karriere/unsere-gesellschaften/hermes-germany/hermes-germany/)\\n        * [Hermes Germany](https://www.hermesworld.com/de/karriere/unsere-gesellschaften/hermes-germany/hermes-germany/)\\n        * [Ausbildung &amp; Duales Studium](https://www.hermesworld.com/de/karriere/unsere-gesellschaften/hermes-germany/ausbildung-duales-studium/)\\n        * [Studierende &amp; Absolventen](https://www.hermesworld.com/de/karriere/unsere-gesellschaften/hermes-germany/studierende-absolventen/)\\n        * [Berufserfahrene](https://www.hermesworld.com/de/karriere/unsere-gesellschaften/hermes-germany/berufserfahrene/)\\n        * [Tech](https://www.hermesworld.com/de/karriere/unsere-gesellschaften/hermes-germany/tech/)\\n          * [ Architecture &amp; Information Security ](https://www.hermesworld.com/de/karriere/unsere-gesellschaften/hermes-germany/tech/architecture-integration-security/)\\n          * [ANS](https://www.hermesworld.com/de/karriere/unsere-gesellschaften/hermes-germany/tech/ans/)\\n          * [Cloud &amp; Application Infrastructure](https://www.hermesworld.com/de/karriere/unsere-gesellschaften/hermes-germany/tech/cloud-application-infrastructure/)\\n          * [IT-Finance und IT-Licensemanagement](https://www.hermesworld.com/de/karriere/unsere-gesellschaften/hermes-germany/tech/it-finance-and-it-licensemanagement/)\\n          * [BlueOps](https://www.hermesworld.com/de/karriere/unsere-gesellschaften/hermes-germany/tech/blueops/)\\n          * [European Network](https://www.hermesworld.com/de/karriere/unsere-gesellschaften/hermes-germany/tech/european-network/)\\n          * [Black OPs](https://www.hermesworld.com/de/karriere/unsere-gesellschaften/hermes-germany/tech/black-ops/)\\n          * [Business Analytics](https://www.hermesworld.com/de/karriere/unsere-gesellschaften/hermes-germany/tech/business-analytics/)\\n          * [Support Solutions](https://www.hermesworld.com/de/karriere/unsere-gesellschaften/hermes-germany/tech/support-solutions/)\\n          * [Servicedesk](https://www.hermesworld.com/de/karriere/unsere-gesellschaften/hermes-germany/tech/servicedesk/)\\n          * [Supply Chain Solutions](https://www.hermesworld.com/de/karriere/unsere-gesellschaften/hermes-germany/tech/supply-chain-solutions/)\\n        * [Logistik &amp; gewerbliche Jobs](https://www.hermesworld.com/de/karriere/unsere-gesellschaften/hermes-germany/logistik-gewerbliche-jobs/)\\n      * [Hermes Europe](https://www.hermesworld.com/de/karriere/unsere-gesellschaften/hermes-europe/)\\n      * [Hermes Einrichtungs Service](https://www.hermesworld.com/de/karriere/unsere-gesellschaften/hermes-einrichtungs-service/jobs-beim-hes-in-ansbach/)\\n        * [Hermes Einrichtungs Service](https://www.hermesworld.com/de/karriere/unsere-gesellschaften/hermes-einrichtungs-service/hermes-einrichtungs-service/)\\n        * [Was wir dir bei HES bieten](https://www.hermesworld.com/de/karriere/unsere-gesellschaften/hermes-einrichtungs-service/was-wir-ihnen-bei-hes-bieten/)\\n        * [Jobs beim HES](https://www.hermesworld.com/de/karriere/unsere-gesellschaften/hermes-einrichtungs-service/jobs-beim-hes/)\\n        * [Jobs beim HES in Ansbach](https://www.hermesworld.com/de/karriere/unsere-gesellschaften/hermes-einrichtungs-service/jobs-beim-hes-in-ansbach/)\\n        * [Jobs in unseren Depots](https://www.hermesworld.com/de/karriere/unsere-gesellschaften/hermes-einrichtungs-service/jobs-in-unseren-depots/)\\n    * [Karrieremessen](https://www.hermesworld.com/de/karriere/karrieremessen/)\\n\\n  * [Newsroom](https://newsroom.hermesworld.com)\\n\\n    * [Presse](https://newsroom.hermesworld.com/presse/)\\n    * [Mediathek](https://newsroom.hermesworld.com/?s=&amp;fwp_posttype=pressematerial&amp;fwp_pressematerial_type=foto&amp;fwp_paged=2)\\n    * [Pressekontakt](https://newsroom.hermesworld.com/kontakt/)\\n\\n  * [Kontakt](https://www.hermesworld.com/de/kontakt/)\\n\\n  * [ Start](https://www.hermesworld.com/de/)\\n  * [Karriere](https://www.hermesworld.com/de/karriere/karriere-uebersicht/)\\n  * [Jobs bei Hermes Germany](https://www.hermesworld.com/de/karriere/jobs/)\\n\\n# (Junior) Manager (m/w/d) HR Controlling\\n\\n  *  __Hermes Germany GmbH\\n  *  __Hermes Zentrale Hamburg\\n  *  __Berufserfahrung (Junior Level)\\n  * __Berufserfahrung\\n\\n  *  __Finanzen, Controlling\\n  * __Personalwesen, HR\\n  *  __Vollzeit\\n\\n![scheme\\nimage](https://hermesworld.com/de/karriere/jobs/inc/display_image.php?id=4364-HO-1-DE&amp;type=tmp)\\n\\nBei uns stimmt die Balance zwischen Arbeits- und Privatleben. Mit dieser\\nVoraussetzung sorgen wir dafür, dass du deinen beruflichen Erfolg mit Freude,\\nTeamwork und Eigenverantwortung gestalten kannst. Werde ein Teil von uns und\\nsorge mit neuester Technik und über 6.000 Kolleg*innen dafür, dass jeden Tag\\nmehrere Millionen Pakete genau dort ankommen, wo sie bereits erwartet werden.\\nAls Teil der Division Strategy, People &amp; Organization beschäftigt sich das\\nTeam People Analytics and Compensation mit Zahlen und Daten rund um die\\nMitarbeitenden von Hermes Germany. In unseren Auswertungen und Analysen\\nbeschäftigen wir uns mit Fragestellungen wie „Wie hoch ist die Frauenquote auf\\nden Führungsebenen von Hermes?“ oder „Wie verändert sich der Krankenstand über\\ndas Geschäftsjahr hinweg?“. Außerdem begleiten wir zahlreiche Projekte mit\\nunseren Analysen und Erkenntnissen.\\n\\n## Was dich erwartet:\\n\\n  * Du erstellst Auswertungen, Statistiken und Präsentationen für interne Stakeholder wie HR Kolleg*innen oder Fachbereiche sowie für externe Stakeholder wie Behörden\\n  * Du begleitest tatkräftig Prozesse (z.B. Gehaltsrunde) sowie HR-Projekte, um datenbasierte Entscheidungen treffen zu können\\n  * Du arbeitest aktiv an dem Aufbau einer Qualitätskontrolle zwischen unseren Systemen mit\\n  * Neue Ideen und Verbesserungsvorschläge bringst du mit Überzeugungskraft ein\\n  * Unser Team besteht aus zwei HR Controllern und einer Teamleiterin. Wir zeichnen uns durch viel Leidenschaft an den Themen und Spaß an der Arbeit aus \\n\\n## Was du mitbringen solltest:\\n\\n  * Du hast dein Studium z.B. in den Studiengängen Wirtschafts-, Sozialwissenschaften oder Personalmanagement abgeschlossen\\n  * Erste Berufserfahrung in Form von Praktika, Werkstudententätigkeiten oder Nebenjobs konntest du bereits sammeln\\n  * Du hast Spaß am Umgang mit Daten und großen Zahlenmengen\\n  * Du interessierst dich für Fragestellungen rund um moderne Personalarbeit\\n  * Problemlösefähigkeit, Selbstorganisation und Zielorientierung zählen zu deinen Stärken\\n  * Sichere Anwendung der gängigen MS-Office Programme (insbesondere Excel und Power Point) ist von Vorteil\\n\\n## Was wir dir bieten:\\n\\n  * Einsatz führender Technologien und agiler Prozesse\\n  * Du arbeitest für einen mehrfach ausgezeichneten Arbeitgeber, dessen Unternehmenskultur geprägt ist durch ein offenes und kooperatives Miteinander\\n  * Flexible Arbeitszeiten, nach Absprache ist auch mobiles Arbeiten möglich\\n  * Umfangreiches Weiterbildungsangebot\\n  * 15% Rabatt auf otto.de und anderen Shops\\n  * Bezuschussung des Deutschlandtickets, Altersvorsorge, JobRad, verschiedene Sport- und Freizeitangebote uvm.\\n  * Vergünstigte und vielfältige Speiseauswahl in unserer modernen Kantine\\n\\nDie Hermes Gruppe bietet vielseitige Arbeitsplätze mit langfristigen\\nPerspektiven und täglich wechselnden Herausforderungen in einer sicheren und\\nzukunftsorientierten Branche. Unser Arbeitsfeld bewegt sich über die\\nLandesgrenzen hinaus: Wir sind ein international tätiges Unternehmen und leben\\neine multikulturelle Arbeitsatmosphäre. Unsere Wertschätzung gilt allen\\nMenschen gleichermaßen - unabhängig von Geschlecht, Nationalität, ethnischer\\nHerkunft, Religion, Behinderung oder sexueller Orientierung. Logistik bewegt\\ndie Welt - beweg dich mit!\\n\\nHaben wir dein Interesse geweckt? Dann mache jetzt den ersten Schritt und\\nbewirb dich gleich online bei uns oder informiere dich auf unserer Homepage.\\n\\n  * Lisa Schille\\n  * Junior HR Manager Recruiting\\n\\n  * Viktoria Gratenau\\n  * Teamlead HR Controlling\\n\\n[Zurück](https://hermesworld.com/de/karriere/jobs/)\\n\\n[Jetzt bewerben!](https://hermesworld.com/de/karriere/jobs/Junior-Manager-mwd-\\nHR-Controlling-de-f4364.html)\\n\\n[ ![rexx systems - software for\\nsuccess](https://hermesworld.com/de/karriere/jobs/bilder/rexx_systems_logo.svg)\\n](https://www.rexx-systems.com \"rexx systems - software for success\")\\n\\n\\n\\n###### Tools &amp; Services\\n\\n  * [ Sendungsverfolgung ](https://www.myhermes.de/empfangen/sendungsverfolgung/)\\n  * [ PaketShop finden ](https://www.myhermes.de/paketshop/)\\n  * [ myHermes Business-Portal ](https://business.myhermes.de/konto/)\\n  * [ click2supplychain.com ](https://www.hermesworld.com/de/unsere-dienstleistungen/transport-logistics/supply-chain-solutions/e-services/)\\n  * [ Hermes PORT ](https://www.hermes-port.de/port/)\\n\\n###### Über uns\\n\\n  * [ Hermes Gruppe ](https://www.hermesworld.com/de/ueber-uns/hermes-gruppe/)\\n  * [ Jobs &amp; Karriere ](https://www.hermesworld.com/de/karriere/karriere-uebersicht/)\\n  * [ Newsroom ](https://newsroom.hermesworld.com)\\n  * [ Hermes Blog ](https://blog.myhermes.de/)\\n\\n###### Kontakt\\n\\n  * [ Geschäftskunden Kontakt ](https://www.hermesworld.com/de/kontakt/geschaeftskunden/)\\n  * [ Presse Kontakt ](https://newsroom.hermesworld.com/allgemeiner-kontakt)\\n  * [ Privatkunden Kontakt ](https://www.myhermes.de/service/kontakt/)\\n  * [ Lieferanten Kontakt ](https://www.hermesworld.com/de/kontakt/lieferanten/)\\n  * [ Unternehmer werden ](https://www.hermesworld.com/de/ueber-uns/hermes-gruppe/hermes-logistik-gruppe-deutschland/vertragspartner-werden/)\\n  * [ PaketShop-Partner werden ](https://www.hermesworld.com/de/ueber-uns/hermes-gruppe/hermes-logistik-gruppe-deutschland/paketshop-partner/)\\n\\n###### Länderversion\\n\\nÖsterreich China Deutschland Vereinigtes Königreich International USA\\n\\n  * Cookies \\n  * [ Impressum ](https://www.hermesworld.com/de/impressum/)\\n  * [ Datenschutz ](https://www.hermesworld.com/de/datenschutz/)\\n  * [ Sicherheitshinweise ](https://www.hermesworld.com/de/sicherheitshinweise/)\\n  * [ Sitemap ](https://www.hermesworld.com/de/sitemap/)\\n\\n© 2023 Hermes Europe GmbH\\n\\n![](//analytics.hermesworld.com/195245818237640/wt.pl?p=324,0)\\n\\n'</span>,\n",
       "<span style=\"color: #7fbf7f; text-decoration-color: #7fbf7f\">│   │   </span><span style=\"color: #808000; text-decoration-color: #808000\">mimetype</span>=<span style=\"color: #008000; text-decoration-color: #008000\">'text/plain'</span>,\n",
       "<span style=\"color: #7fbf7f; text-decoration-color: #7fbf7f\">│   │   </span><span style=\"color: #808000; text-decoration-color: #808000\">start_char_idx</span>=<span style=\"color: #800080; text-decoration-color: #800080; font-style: italic\">None</span>,\n",
       "<span style=\"color: #7fbf7f; text-decoration-color: #7fbf7f\">│   │   </span><span style=\"color: #808000; text-decoration-color: #808000\">end_char_idx</span>=<span style=\"color: #800080; text-decoration-color: #800080; font-style: italic\">None</span>,\n",
       "<span style=\"color: #7fbf7f; text-decoration-color: #7fbf7f\">│   │   </span><span style=\"color: #808000; text-decoration-color: #808000\">text_template</span>=<span style=\"color: #008000; text-decoration-color: #008000\">'{metadata_str}\\n\\n{content}'</span>,\n",
       "<span style=\"color: #7fbf7f; text-decoration-color: #7fbf7f\">│   │   </span><span style=\"color: #808000; text-decoration-color: #808000\">metadata_template</span>=<span style=\"color: #008000; text-decoration-color: #008000\">'{key}: {value}'</span>,\n",
       "<span style=\"color: #7fbf7f; text-decoration-color: #7fbf7f\">│   │   </span><span style=\"color: #808000; text-decoration-color: #808000\">metadata_seperator</span>=<span style=\"color: #008000; text-decoration-color: #008000\">'\\n'</span>\n",
       "<span style=\"color: #7fbf7f; text-decoration-color: #7fbf7f\">│   </span><span style=\"font-weight: bold\">)</span>\n",
       "<span style=\"font-weight: bold\">]</span>\n",
       "</pre>\n"
      ],
      "text/plain": [
       "\u001b[1m[\u001b[0m\n",
       "\u001b[2;32m│   \u001b[0m\u001b[1;35mDocument\u001b[0m\u001b[1m(\u001b[0m\n",
       "\u001b[2;32m│   │   \u001b[0m\u001b[33mid_\u001b[0m=\u001b[32m'https://hermesworld.com/de/karriere/jobs/Junior-Manager-mwd-HR-Controlling-de-j4364.html'\u001b[0m,\n",
       "\u001b[2;32m│   │   \u001b[0m\u001b[33membedding\u001b[0m=\u001b[3;35mNone\u001b[0m,\n",
       "\u001b[2;32m│   │   \u001b[0m\u001b[33mmetadata\u001b[0m=\u001b[1m{\u001b[0m\u001b[1m}\u001b[0m,\n",
       "\u001b[2;32m│   │   \u001b[0m\u001b[33mexcluded_embed_metadata_keys\u001b[0m=\u001b[1m[\u001b[0m\u001b[1m]\u001b[0m,\n",
       "\u001b[2;32m│   │   \u001b[0m\u001b[33mexcluded_llm_metadata_keys\u001b[0m=\u001b[1m[\u001b[0m\u001b[1m]\u001b[0m,\n",
       "\u001b[2;32m│   │   \u001b[0m\u001b[33mrelationships\u001b[0m=\u001b[1m{\u001b[0m\u001b[1m}\u001b[0m,\n",
       "\u001b[2;32m│   │   \u001b[0m\u001b[33mtext\u001b[0m=\u001b[32m'\u001b[0m\u001b[32m[\u001b[0m\u001b[32m Privatkunden \u001b[0m\u001b[32m]\u001b[0m\u001b[32m(\u001b[0m\u001b[32mhttps://www.myhermes.de\u001b[0m\u001b[32m)\u001b[0m\u001b[32m\\n\\nÖsterreich China Deutschland Vereinigtes Königreich International USA\\n\\nMenu AT CN DE EN INT US \u001b[0m\u001b[32m[\u001b[0m\u001b[32mHermes\u001b[0m\u001b[32m]\u001b[0m\u001b[32m(\u001b[0m\u001b[32mhttps://www.hermesworld.com/de/\u001b[0m\u001b[32m)\u001b[0m\u001b[32m\\n\\n  * navigation.search\\n\\n  * \u001b[0m\u001b[32m[\u001b[0m\u001b[32mStart\u001b[0m\u001b[32m]\u001b[0m\u001b[32m(\u001b[0m\u001b[32mhttps://www.hermesworld.com/de/\u001b[0m\u001b[32m)\u001b[0m\u001b[32m\\n  * \u001b[0m\u001b[32m[\u001b[0m\u001b[32mUnsere Dienstleistungen\u001b[0m\u001b[32m]\u001b[0m\u001b[32m(\u001b[0m\u001b[32mhttps://www.hermesworld.com/de/unsere-dienstleistungen/\u001b[0m\u001b[32m)\u001b[0m\u001b[32m\\n\\n    * \u001b[0m\u001b[32m[\u001b[0m\u001b[32mTransport Logistics\u001b[0m\u001b[32m]\u001b[0m\u001b[32m(\u001b[0m\u001b[32mhttps://www.hermesworld.com/de/unsere-dienstleistungen/transport-logistics/\u001b[0m\u001b[32m)\u001b[0m\u001b[32m\\n      * \u001b[0m\u001b[32m[\u001b[0m\u001b[32mSupply Chain Solutions\u001b[0m\u001b[32m]\u001b[0m\u001b[32m(\u001b[0m\u001b[32mhttps://www.hermesworld.com/de/unsere-dienstleistungen/transport-logistics/supply-chain-solutions/unsere-fokusbranchen/\u001b[0m\u001b[32m)\u001b[0m\u001b[32m\\n        * \u001b[0m\u001b[32m[\u001b[0m\u001b[32mUnsere Fokusbranchen\u001b[0m\u001b[32m]\u001b[0m\u001b[32m(\u001b[0m\u001b[32mhttps://www.hermesworld.com/de/unsere-dienstleistungen/transport-logistics/supply-chain-solutions/unsere-fokusbranchen/\u001b[0m\u001b[32m)\u001b[0m\u001b[32m\\n        * \u001b[0m\u001b[32m[\u001b[0m\u001b[32mSupply Chain Services\u001b[0m\u001b[32m]\u001b[0m\u001b[32m(\u001b[0m\u001b[32mhttps://www.hermesworld.com/de/unsere-dienstleistungen/transport-logistics/supply-chain-solutions/supply-chain-services/\u001b[0m\u001b[32m)\u001b[0m\u001b[32m\\n        * \u001b[0m\u001b[32m[\u001b[0m\u001b[32mE-Services\u001b[0m\u001b[32m]\u001b[0m\u001b[32m(\u001b[0m\u001b[32mhttps://www.hermesworld.com/de/unsere-dienstleistungen/transport-logistics/supply-chain-solutions/e-services/\u001b[0m\u001b[32m)\u001b[0m\u001b[32m\\n        * \u001b[0m\u001b[32m[\u001b[0m\u001b[32mZoll Services\u001b[0m\u001b[32m]\u001b[0m\u001b[32m(\u001b[0m\u001b[32mhttps://www.hermesworld.com/de/unsere-dienstleistungen/transport-logistics/supply-chain-solutions/hermes-scan/\u001b[0m\u001b[32m)\u001b[0m\u001b[32m\\n        * \u001b[0m\u001b[32m[\u001b[0m\u001b[32mNachhaltigkeit\u001b[0m\u001b[32m]\u001b[0m\u001b[32m(\u001b[0m\u001b[32mhttps://www.hermesworld.com/de/unsere-dienstleistungen/transport-logistics/supply-chain-solutions/massgeschneiderte-logistikloesungen/\u001b[0m\u001b[32m)\u001b[0m\u001b[32m\\n        * \u001b[0m\u001b[32m[\u001b[0m\u001b[32mUnser Partnernetzwerk\u001b[0m\u001b[32m]\u001b[0m\u001b[32m(\u001b[0m\u001b[32mhttps://www.hermesworld.com/de/unsere-dienstleistungen/transport-logistics/supply-chain-solutions/zusatzdienstleistungen/\u001b[0m\u001b[32m)\u001b[0m\u001b[32m\\n          * \u001b[0m\u001b[32m[\u001b[0m\u001b[32mFML\u001b[0m\u001b[32m]\u001b[0m\u001b[32m(\u001b[0m\u001b[32mhttps://www.hermesworld.com/de/unsere-dienstleistungen/transport-logistics/supply-chain-solutions/unser-partnernetzwerk/fml/\u001b[0m\u001b[32m)\u001b[0m\u001b[32m\\n          * \u001b[0m\u001b[32m[\u001b[0m\u001b[32mJeena\u001b[0m\u001b[32m]\u001b[0m\u001b[32m(\u001b[0m\u001b[32mhttps://www.hermesworld.com/de/unsere-dienstleistungen/transport-logistics/supply-chain-solutions/unsere-globalen-partner/jeena/\u001b[0m\u001b[32m)\u001b[0m\u001b[32m\\n          * \u001b[0m\u001b[32m[\u001b[0m\u001b[32mSEKO\u001b[0m\u001b[32m]\u001b[0m\u001b[32m(\u001b[0m\u001b[32mhttps://www.hermesworld.com/de/unsere-dienstleistungen/transport-logistics/supply-chain-solutions/unser-partnernetzwerk/seko/\u001b[0m\u001b[32m)\u001b[0m\u001b[32m\\n          * \u001b[0m\u001b[32m[\u001b[0m\u001b[32mWWG\u001b[0m\u001b[32m]\u001b[0m\u001b[32m(\u001b[0m\u001b[32mhttps://www.hermesworld.com/de/unsere-dienstleistungen/transport-logistics/supply-chain-solutions/unser-partnernetzwerk/wwg/\u001b[0m\u001b[32m)\u001b[0m\u001b[32m\\n    * \u001b[0m\u001b[32m[\u001b[0m\u001b[32mGlobal E-Commerce\u001b[0m\u001b[32m]\u001b[0m\u001b[32m(\u001b[0m\u001b[32mhttps://www.hermesworld.com/de/unsere-dienstleistungen/global-e-commerce/\u001b[0m\u001b[32m)\u001b[0m\u001b[32m\\n      * \u001b[0m\u001b[32m[\u001b[0m\u001b[32mGlobal E-Commerce\u001b[0m\u001b[32m]\u001b[0m\u001b[32m(\u001b[0m\u001b[32mhttps://www.hermesworld.com/de/unsere-dienstleistungen/global-e-commerce/global-e-commerce/\u001b[0m\u001b[32m)\u001b[0m\u001b[32m\\n    * \u001b[0m\u001b[32m[\u001b[0m\u001b[32mDistribution\u001b[0m\u001b[32m]\u001b[0m\u001b[32m(\u001b[0m\u001b[32mhttps://www.hermesworld.com/de/unsere-dienstleistungen/distribution/\u001b[0m\u001b[32m)\u001b[0m\u001b[32m\\n      * \u001b[0m\u001b[32m[\u001b[0m\u001b[32mPaketversand\u001b[0m\u001b[32m]\u001b[0m\u001b[32m(\u001b[0m\u001b[32mhttps://www.hermesworld.com/de/unsere-dienstleistungen/distribution/paketversand/paketversand/\u001b[0m\u001b[32m)\u001b[0m\u001b[32m\\n        * \u001b[0m\u001b[32m[\u001b[0m\u001b[32mPaketversand\u001b[0m\u001b[32m]\u001b[0m\u001b[32m(\u001b[0m\u001b[32mhttps://www.hermesworld.com/de/unsere-dienstleistungen/distribution/paketversand/paketversand/\u001b[0m\u001b[32m)\u001b[0m\u001b[32m\\n      * \u001b[0m\u001b[32m[\u001b[0m\u001b[32m2-Mann-Handling\u001b[0m\u001b[32m]\u001b[0m\u001b[32m(\u001b[0m\u001b[32mhttps://www.hermesworld.com/de/unsere-dienstleistungen/distribution/2-mann-handling/2-mann-handling/\u001b[0m\u001b[32m)\u001b[0m\u001b[32m\\n        * \u001b[0m\u001b[32m[\u001b[0m\u001b[32m2-Mann-Handling\u001b[0m\u001b[32m]\u001b[0m\u001b[32m(\u001b[0m\u001b[32mhttps://www.hermesworld.com/de/unsere-dienstleistungen/distribution/2-mann-handling/2-mann-handling/\u001b[0m\u001b[32m)\u001b[0m\u001b[32m\\n        * \u001b[0m\u001b[32m[\u001b[0m\u001b[32mIndividuelle Versandlösungen\u001b[0m\u001b[32m]\u001b[0m\u001b[32m(\u001b[0m\u001b[32mhttps://www.hermesworld.com/de/unsere-dienstleistungen/distribution/2-mann-handling/individuelle-versandloesungen/\u001b[0m\u001b[32m)\u001b[0m\u001b[32m\\n        * \u001b[0m\u001b[32m[\u001b[0m\u001b[32mZusammenarbeit\u001b[0m\u001b[32m]\u001b[0m\u001b[32m(\u001b[0m\u001b[32mhttps://www.hermesworld.com/de/unsere-dienstleistungen/distribution/2-mann-handling/zusammenarbeit/\u001b[0m\u001b[32m)\u001b[0m\u001b[32m\\n        * \u001b[0m\u001b[32m[\u001b[0m\u001b[32mDropshipping\u001b[0m\u001b[32m]\u001b[0m\u001b[32m(\u001b[0m\u001b[32mhttps://www.hermesworld.com/de/unsere-dienstleistungen/distribution/2-mann-handling/dropshipping/\u001b[0m\u001b[32m)\u001b[0m\u001b[32m\\n        * \u001b[0m\u001b[32m[\u001b[0m\u001b[32mUnser Service für Versender\u001b[0m\u001b[32m]\u001b[0m\u001b[32m(\u001b[0m\u001b[32mhttps://www.hermesworld.com/de/unsere-dienstleistungen/distribution/2-mann-handling/unser-service-fuer-versender/\u001b[0m\u001b[32m)\u001b[0m\u001b[32m\\n        * \u001b[0m\u001b[32m[\u001b[0m\u001b[32mUnser Service für Endkunden\u001b[0m\u001b[32m]\u001b[0m\u001b[32m(\u001b[0m\u001b[32mhttps://www.hermesworld.com/de/unsere-dienstleistungen/distribution/2-mann-handling/unser-service-fuer-endkunden/\u001b[0m\u001b[32m)\u001b[0m\u001b[32m\\n        * \u001b[0m\u001b[32m[\u001b[0m\u001b[32mCO2-neutraler Versand\u001b[0m\u001b[32m]\u001b[0m\u001b[32m(\u001b[0m\u001b[32mhttps://www.hermesworld.com/de/unsere-dienstleistungen/distribution/2-mann-handling/klimaneutraler-versand/\u001b[0m\u001b[32m)\u001b[0m\u001b[32m\\n        * \u001b[0m\u001b[32m[\u001b[0m\u001b[32mHES Pay\u001b[0m\u001b[32m]\u001b[0m\u001b[32m(\u001b[0m\u001b[32mhttps://www.hermesworld.com/de/unsere-dienstleistungen/distribution/2-mann-handling/hes-pay/\u001b[0m\u001b[32m)\u001b[0m\u001b[32m\\n      * \u001b[0m\u001b[32m[\u001b[0m\u001b[32mDistribution in Europa\u001b[0m\u001b[32m]\u001b[0m\u001b[32m(\u001b[0m\u001b[32mhttps://www.hermesworld.com/de/unsere-dienstleistungen/distribution/distribution-in-europa/\u001b[0m\u001b[32m)\u001b[0m\u001b[32m\\n\\n  * \u001b[0m\u001b[32m[\u001b[0m\u001b[32mÜber uns\u001b[0m\u001b[32m]\u001b[0m\u001b[32m(\u001b[0m\u001b[32mhttps://www.hermesworld.com/de/ueber-uns/\u001b[0m\u001b[32m)\u001b[0m\u001b[32m\\n\\n    * \u001b[0m\u001b[32m[\u001b[0m\u001b[32mAuf einen Blick\u001b[0m\u001b[32m]\u001b[0m\u001b[32m(\u001b[0m\u001b[32mhttps://www.hermesworld.com/de/ueber-uns/auf-einen-blick/hermes-auf-einen-blick/\u001b[0m\u001b[32m)\u001b[0m\u001b[32m\\n      * \u001b[0m\u001b[32m[\u001b[0m\u001b[32mHermes auf einen Blick\u001b[0m\u001b[32m]\u001b[0m\u001b[32m(\u001b[0m\u001b[32mhttps://www.hermesworld.com/de/ueber-uns/auf-einen-blick/hermes-auf-einen-blick/\u001b[0m\u001b[32m)\u001b[0m\u001b[32m\\n    * \u001b[0m\u001b[32m[\u001b[0m\u001b[32mHermes Gruppe\u001b[0m\u001b[32m]\u001b[0m\u001b[32m(\u001b[0m\u001b[32mhttps://www.hermesworld.com/de/ueber-uns/hermes-gruppe/\u001b[0m\u001b[32m)\u001b[0m\u001b[32m\\n      * \u001b[0m\u001b[32m[\u001b[0m\u001b[32mHermes Einrichtungs Service\u001b[0m\u001b[32m]\u001b[0m\u001b[32m(\u001b[0m\u001b[32mhttps://www.hermesworld.com/de/ueber-uns/hermes-gruppe/hermes-einrichtungs-service/\u001b[0m\u001b[32m)\u001b[0m\u001b[32m\\n        * \u001b[0m\u001b[32m[\u001b[0m\u001b[32mHermes Einrichtungs Service\u001b[0m\u001b[32m]\u001b[0m\u001b[32m(\u001b[0m\u001b[32mhttps://www.hermesworld.com/de/ueber-uns/hermes-gruppe/hermes-einrichtungs-service/\u001b[0m\u001b[32m)\u001b[0m\u001b[32m\\n        * \u001b[0m\u001b[32m[\u001b[0m\u001b[32mLogistikzentren\u001b[0m\u001b[32m]\u001b[0m\u001b[32m(\u001b[0m\u001b[32mhttps://www.hermesworld.com/de/ueber-uns/hermes-gruppe/hermes-einrichtungs-service/logistikzentren/\u001b[0m\u001b[32m)\u001b[0m\u001b[32m\\n        * \u001b[0m\u001b[32m[\u001b[0m\u001b[32mAuslieferdepots\u001b[0m\u001b[32m]\u001b[0m\u001b[32m(\u001b[0m\u001b[32mhttps://www.hermesworld.com/de/ueber-uns/hermes-gruppe/hermes-einrichtungs-service/auslieferdepots/\u001b[0m\u001b[32m)\u001b[0m\u001b[32m\\n      * \u001b[0m\u001b[32m[\u001b[0m\u001b[32mHermes Fulfilment\u001b[0m\u001b[32m]\u001b[0m\u001b[32m(\u001b[0m\u001b[32mhttps://www.hermesworld.com/de/ueber-uns/hermes-gruppe/hermes-fulfilment/hermes-fulfilment/\u001b[0m\u001b[32m)\u001b[0m\u001b[32m\\n        * \u001b[0m\u001b[32m[\u001b[0m\u001b[32mHermes Fulfilment\u001b[0m\u001b[32m]\u001b[0m\u001b[32m(\u001b[0m\u001b[32mhttps://www.hermesworld.com/de/ueber-uns/hermes-gruppe/hermes-fulfilment/hermes-fulfilment/\u001b[0m\u001b[32m)\u001b[0m\u001b[32m\\n        * \u001b[0m\u001b[32m[\u001b[0m\u001b[32mDaten & Fakten\u001b[0m\u001b[32m]\u001b[0m\u001b[32m(\u001b[0m\u001b[32mhttps://www.hermesworld.com/de/ueber-uns/hermes-gruppe/hermes-fulfilment/daten-fakten/\u001b[0m\u001b[32m)\u001b[0m\u001b[32m\\n        * \u001b[0m\u001b[32m[\u001b[0m\u001b[32mEinblicke\u001b[0m\u001b[32m]\u001b[0m\u001b[32m(\u001b[0m\u001b[32mhttps://www.hermesworld.com/de/ueber-uns/hermes-gruppe/hermes-fulfilment/einblicke/\u001b[0m\u001b[32m)\u001b[0m\u001b[32m\\n        * \u001b[0m\u001b[32m[\u001b[0m\u001b[32mNachhaltigkeit\u001b[0m\u001b[32m]\u001b[0m\u001b[32m(\u001b[0m\u001b[32mhttps://www.hermesworld.com/de/ueber-uns/hermes-gruppe/hermes-fulfilment/nachhaltigkeit/\u001b[0m\u001b[32m)\u001b[0m\u001b[32m\\n      * \u001b[0m\u001b[32m[\u001b[0m\u001b[32mHermes Logistik Österreich\u001b[0m\u001b[32m]\u001b[0m\u001b[32m(\u001b[0m\u001b[32mhttps://www.hermesworld.com/de/ueber-uns/hermes-gruppe/hermes-logistik-at/hermes-logistik-oesterreich/\u001b[0m\u001b[32m)\u001b[0m\u001b[32m\\n        * \u001b[0m\u001b[32m[\u001b[0m\u001b[32mHermes Logistik Österreich\u001b[0m\u001b[32m]\u001b[0m\u001b[32m(\u001b[0m\u001b[32mhttps://www.hermesworld.com/de/ueber-uns/hermes-gruppe/hermes-logistik-at/hermes-logistik-oesterreich/\u001b[0m\u001b[32m)\u001b[0m\u001b[32m\\n        * \u001b[0m\u001b[32m[\u001b[0m\u001b[32mPaketShop Partner\u001b[0m\u001b[32m]\u001b[0m\u001b[32m(\u001b[0m\u001b[32mhttps://www.hermesworld.com/de/ueber-uns/hermes-gruppe/hermes-logistik-at/paketshop-partner/\u001b[0m\u001b[32m)\u001b[0m\u001b[32m\\n      * \u001b[0m\u001b[32m[\u001b[0m\u001b[32mHermes Germany GmbH\u001b[0m\u001b[32m]\u001b[0m\u001b[32m(\u001b[0m\u001b[32mhttps://www.hermesworld.com/de/ueber-uns/hermes-gruppe/hermes-logistik-gruppe-deutschland/hermes-logistik-gruppe-deutschland/\u001b[0m\u001b[32m)\u001b[0m\u001b[32m\\n        * \u001b[0m\u001b[32m[\u001b[0m\u001b[32mHermes Germany GmbH\u001b[0m\u001b[32m]\u001b[0m\u001b[32m(\u001b[0m\u001b[32mhttps://www.hermesworld.com/de/ueber-uns/hermes-gruppe/hermes-logistik-gruppe-deutschland/hermes-logistik-gruppe-deutschland/\u001b[0m\u001b[32m)\u001b[0m\u001b[32m\\n        * \u001b[0m\u001b[32m[\u001b[0m\u001b[32mPaketShop-Partner werden\u001b[0m\u001b[32m]\u001b[0m\u001b[32m(\u001b[0m\u001b[32mhttps://www.hermesworld.com/de/ueber-uns/hermes-gruppe/hermes-logistik-gruppe-deutschland/paketshop-partner/\u001b[0m\u001b[32m)\u001b[0m\u001b[32m\\n        * \u001b[0m\u001b[32m[\u001b[0m\u001b[32mVertragspartner werden\u001b[0m\u001b[32m]\u001b[0m\u001b[32m(\u001b[0m\u001b[32mhttps://www.hermesworld.com/de/ueber-uns/hermes-gruppe/hermes-logistik-gruppe-deutschland/vertragspartner-werden/\u001b[0m\u001b[32m)\u001b[0m\u001b[32m\\n          * \u001b[0m\u001b[32m[\u001b[0m\u001b[32mFormular\u001b[0m\u001b[32m]\u001b[0m\u001b[32m(\u001b[0m\u001b[32mhttps://www.hermesworld.com/de/ueber-uns/hermes-gruppe/hermes-logistik-gruppe-deutschland/vertragspartner-werden/formular/\u001b[0m\u001b[32m)\u001b[0m\u001b[32m\\n      * \u001b[0m\u001b[32m[\u001b[0m\u001b[32mHermes NexTec\u001b[0m\u001b[32m]\u001b[0m\u001b[32m(\u001b[0m\u001b[32mhttps://www.hermesworld.com/de/ueber-uns/hermes-gruppe/hermes-nextec/\u001b[0m\u001b[32m)\u001b[0m\u001b[32m\\n      * \u001b[0m\u001b[32m[\u001b[0m\u001b[32mHermes Germany\u001b[0m\u001b[32m]\u001b[0m\u001b[32m(\u001b[0m\u001b[32mhttps://www.hermesworld.com/de/ueber-uns/hermes-gruppe/hermes-transport-logistics/hermes-transport-logistics/\u001b[0m\u001b[32m)\u001b[0m\u001b[32m\\n        * \u001b[0m\u001b[32m[\u001b[0m\u001b[32mHermes Germany\u001b[0m\u001b[32m]\u001b[0m\u001b[32m(\u001b[0m\u001b[32mhttps://www.hermesworld.com/de/ueber-uns/hermes-gruppe/hermes-transport-logistics/hermes-transport-logistics/\u001b[0m\u001b[32m)\u001b[0m\u001b[32m\\n        * \u001b[0m\u001b[32m[\u001b[0m\u001b[32mDownloads\u001b[0m\u001b[32m]\u001b[0m\u001b[32m(\u001b[0m\u001b[32mhttps://www.hermesworld.com/de/ueber-uns/hermes-gruppe/hermes-transport-logistics/downloads/\u001b[0m\u001b[32m)\u001b[0m\u001b[32m\\n      * \u001b[0m\u001b[32m[\u001b[0m\u001b[32mHermes UK\u001b[0m\u001b[32m]\u001b[0m\u001b[32m(\u001b[0m\u001b[32mhttps://www.hermesworld.com/de/ueber-uns/hermes-gruppe/hermes-uk/hermes-uk/\u001b[0m\u001b[32m)\u001b[0m\u001b[32m\\n        * \u001b[0m\u001b[32m[\u001b[0m\u001b[32mHermes UK\u001b[0m\u001b[32m]\u001b[0m\u001b[32m(\u001b[0m\u001b[32mhttps://www.hermesworld.com/de/ueber-uns/hermes-gruppe/hermes-uk/hermes-uk/\u001b[0m\u001b[32m)\u001b[0m\u001b[32m\\n        * \u001b[0m\u001b[32m[\u001b[0m\u001b[32mKundenstimmen\u001b[0m\u001b[32m]\u001b[0m\u001b[32m(\u001b[0m\u001b[32mhttps://www.hermesworld.com/de/ueber-uns/hermes-gruppe/hermes-uk/kundenstimmen/\u001b[0m\u001b[32m)\u001b[0m\u001b[32m\\n      * \u001b[0m\u001b[32m[\u001b[0m\u001b[32mHermes BorderGuru\u001b[0m\u001b[32m]\u001b[0m\u001b[32m(\u001b[0m\u001b[32mhttps://www.hermesworld.com/de/ueber-uns/hermes-gruppe/borderguru/\u001b[0m\u001b[32m)\u001b[0m\u001b[32m\\n    * \u001b[0m\u001b[32m[\u001b[0m\u001b[32mManagement\u001b[0m\u001b[32m]\u001b[0m\u001b[32m(\u001b[0m\u001b[32mhttps://www.hermesworld.com/de/ueber-uns/management/\u001b[0m\u001b[32m)\u001b[0m\u001b[32m\\n    * \u001b[0m\u001b[32m[\u001b[0m\u001b[32mKlima- und Umweltschutz\u001b[0m\u001b[32m]\u001b[0m\u001b[32m(\u001b[0m\u001b[32mhttps://www.hermesworld.com/de/ueber-uns/klima-und-umweltschutz/klima-und-umweltschutz/\u001b[0m\u001b[32m)\u001b[0m\u001b[32m\\n      * \u001b[0m\u001b[32m[\u001b[0m\u001b[32mKlima- und Umweltschutz\u001b[0m\u001b[32m]\u001b[0m\u001b[32m(\u001b[0m\u001b[32mhttps://www.hermesworld.com/de/ueber-uns/klima-und-umweltschutz/klima-und-umweltschutz/\u001b[0m\u001b[32m)\u001b[0m\u001b[32m\\n      * \u001b[0m\u001b[32m[\u001b[0m\u001b[32mGrüne Zustellung\u001b[0m\u001b[32m]\u001b[0m\u001b[32m(\u001b[0m\u001b[32mhttps://www.hermesworld.com/de/ueber-uns/klima-und-umweltschutz/gruene-zustellung/\u001b[0m\u001b[32m)\u001b[0m\u001b[32m\\n      * \u001b[0m\u001b[32m[\u001b[0m\u001b[32mEnergieeffiziente Standorte\u001b[0m\u001b[32m]\u001b[0m\u001b[32m(\u001b[0m\u001b[32mhttps://www.hermesworld.com/de/ueber-uns/klima-und-umweltschutz/energieeffiziente-standorte/\u001b[0m\u001b[32m)\u001b[0m\u001b[32m\\n      * \u001b[0m\u001b[32m[\u001b[0m\u001b[32mUnterstützung von Klimaschutzprojekten\u001b[0m\u001b[32m]\u001b[0m\u001b[32m(\u001b[0m\u001b[32mhttps://www.hermesworld.com/de/ueber-uns/klima-und-umweltschutz/unterstuetzung-von-klimaschutzprojekten/\u001b[0m\u001b[32m)\u001b[0m\u001b[32m\\n    * \u001b[0m\u001b[32m[\u001b[0m\u001b[32mSoziale Verantwortung\u001b[0m\u001b[32m]\u001b[0m\u001b[32m(\u001b[0m\u001b[32mhttps://www.hermesworld.com/de/ueber-uns/soziale-verantwortung/faire-zusammenarbeit/\u001b[0m\u001b[32m)\u001b[0m\u001b[32m\\n      * \u001b[0m\u001b[32m[\u001b[0m\u001b[32mFaire Zusammenarbeit\u001b[0m\u001b[32m]\u001b[0m\u001b[32m(\u001b[0m\u001b[32mhttps://www.hermesworld.com/de/ueber-uns/soziale-verantwortung/faire-zusammenarbeit/\u001b[0m\u001b[32m)\u001b[0m\u001b[32m\\n      * \u001b[0m\u001b[32m[\u001b[0m\u001b[32mEinhaltung von Sozialstandards\u001b[0m\u001b[32m]\u001b[0m\u001b[32m(\u001b[0m\u001b[32mhttps://www.hermesworld.com/de/ueber-uns/soziale-verantwortung/einhaltung-von-sozialstandards/\u001b[0m\u001b[32m)\u001b[0m\u001b[32m\\n      * \u001b[0m\u001b[32m[\u001b[0m\u001b[32mGesellschaftliches Engagement\u001b[0m\u001b[32m]\u001b[0m\u001b[32m(\u001b[0m\u001b[32mhttps://www.hermesworld.com/de/ueber-uns/soziale-verantwortung/gesellschaftliches-engagement/\u001b[0m\u001b[32m)\u001b[0m\u001b[32m\\n    * \u001b[0m\u001b[32m[\u001b[0m\u001b[32mDownloads\u001b[0m\u001b[32m]\u001b[0m\u001b[32m(\u001b[0m\u001b[32mhttps://www.hermesworld.com/de/ueber-uns/downloads/\u001b[0m\u001b[32m)\u001b[0m\u001b[32m\\n      * \u001b[0m\u001b[32m[\u001b[0m\u001b[32mPlattformen & Bezahlfunktionen China\u001b[0m\u001b[32m]\u001b[0m\u001b[32m(\u001b[0m\u001b[32mhttps://www.hermesworld.com/de/ueber-uns/downloads/plattformen-bezahlfunktionen-china/\u001b[0m\u001b[32m)\u001b[0m\u001b[32m\\n      * \u001b[0m\u001b[32m[\u001b[0m\u001b[32mExport nach China\u001b[0m\u001b[32m]\u001b[0m\u001b[32m(\u001b[0m\u001b[32mhttps://www.hermesworld.com/de/ueber-uns/downloads/export-nach-china/\u001b[0m\u001b[32m)\u001b[0m\u001b[32m\\n    * \u001b[0m\u001b[32m[\u001b[0m\u001b[32mMessen\u001b[0m\u001b[32m]\u001b[0m\u001b[32m(\u001b[0m\u001b[32mhttps://www.hermesworld.com/de/ueber-uns/messen/\u001b[0m\u001b[32m)\u001b[0m\u001b[32m\\n    * \u001b[0m\u001b[32m[\u001b[0m\u001b[32mHistorie\u001b[0m\u001b[32m]\u001b[0m\u001b[32m(\u001b[0m\u001b[32mhttps://www.hermesworld.com/de/ueber-uns/historie/2010er-jahre/\u001b[0m\u001b[32m)\u001b[0m\u001b[32m\\n      * \u001b[0m\u001b[32m[\u001b[0m\u001b[32m2010er Jahre\u001b[0m\u001b[32m]\u001b[0m\u001b[32m(\u001b[0m\u001b[32mhttps://www.hermesworld.com/de/ueber-uns/historie/2010er-jahre/\u001b[0m\u001b[32m)\u001b[0m\u001b[32m\\n      * \u001b[0m\u001b[32m[\u001b[0m\u001b[32m2000er Jahre\u001b[0m\u001b[32m]\u001b[0m\u001b[32m(\u001b[0m\u001b[32mhttps://www.hermesworld.com/de/ueber-uns/historie/2000er-jahre/\u001b[0m\u001b[32m)\u001b[0m\u001b[32m\\n      * \u001b[0m\u001b[32m[\u001b[0m\u001b[32m1990er Jahre\u001b[0m\u001b[32m]\u001b[0m\u001b[32m(\u001b[0m\u001b[32mhttps://www.hermesworld.com/de/ueber-uns/historie/1990er-jahre/\u001b[0m\u001b[32m)\u001b[0m\u001b[32m\\n      * \u001b[0m\u001b[32m[\u001b[0m\u001b[32m1980er Jahre\u001b[0m\u001b[32m]\u001b[0m\u001b[32m(\u001b[0m\u001b[32mhttps://www.hermesworld.com/de/ueber-uns/historie/1980er-jahre/\u001b[0m\u001b[32m)\u001b[0m\u001b[32m\\n      * \u001b[0m\u001b[32m[\u001b[0m\u001b[32m1970er Jahre\u001b[0m\u001b[32m]\u001b[0m\u001b[32m(\u001b[0m\u001b[32mhttps://www.hermesworld.com/de/ueber-uns/historie/1970er-jahre/\u001b[0m\u001b[32m)\u001b[0m\u001b[32m\\n\\n  * \u001b[0m\u001b[32m[\u001b[0m\u001b[32mKarriere\u001b[0m\u001b[32m]\u001b[0m\u001b[32m(\u001b[0m\u001b[32mhttps://www.hermesworld.com/de/karriere/karriere-uebersicht/\u001b[0m\u001b[32m)\u001b[0m\u001b[32m\\n\\n    * \u001b[0m\u001b[32m[\u001b[0m\u001b[32mKarriere Übersicht\u001b[0m\u001b[32m]\u001b[0m\u001b[32m(\u001b[0m\u001b[32mhttps://www.hermesworld.com/de/karriere/karriere-uebersicht/\u001b[0m\u001b[32m)\u001b[0m\u001b[32m\\n    * \u001b[0m\u001b[32m[\u001b[0m\u001b[32mJobs bei Hermes Germany\u001b[0m\u001b[32m]\u001b[0m\u001b[32m(\u001b[0m\u001b[32mhttps://www.hermesworld.com/de/karriere/jobs/\u001b[0m\u001b[32m)\u001b[0m\u001b[32m\\n    * \u001b[0m\u001b[32m[\u001b[0m\u001b[32mJobbörse der Hermes-Gruppe\u001b[0m\u001b[32m]\u001b[0m\u001b[32m(\u001b[0m\u001b[32mhttps://www.hermesworld.com/de/karriere/jobboerse/\u001b[0m\u001b[32m)\u001b[0m\u001b[32m\\n    * \u001b[0m\u001b[32m[\u001b[0m\u001b[32mUnsere Gesellschaften\u001b[0m\u001b[32m]\u001b[0m\u001b[32m(\u001b[0m\u001b[32mhttps://www.hermesworld.com/de/karriere/unsere-gesellschaften/\u001b[0m\u001b[32m)\u001b[0m\u001b[32m\\n      * \u001b[0m\u001b[32m[\u001b[0m\u001b[32mHermes Fulfilment\u001b[0m\u001b[32m]\u001b[0m\u001b[32m(\u001b[0m\u001b[32mhttps://www.hermesworld.com/de/karriere/unsere-gesellschaften/hermes-fulfilment/hermes-fulfilment/\u001b[0m\u001b[32m)\u001b[0m\u001b[32m\\n        * \u001b[0m\u001b[32m[\u001b[0m\u001b[32mHermes Fulfilment\u001b[0m\u001b[32m]\u001b[0m\u001b[32m(\u001b[0m\u001b[32mhttps://www.hermesworld.com/de/karriere/unsere-gesellschaften/hermes-fulfilment/hermes-fulfilment/\u001b[0m\u001b[32m)\u001b[0m\u001b[32m\\n        * \u001b[0m\u001b[32m[\u001b[0m\u001b[32mWas uns auszeichnet\u001b[0m\u001b[32m]\u001b[0m\u001b[32m(\u001b[0m\u001b[32mhttps://www.hermesworld.com/de/karriere/unsere-gesellschaften/hermes-fulfilment/was-uns-auszeichnet/\u001b[0m\u001b[32m)\u001b[0m\u001b[32m\\n        * \u001b[0m\u001b[32m[\u001b[0m\u001b[32mAusbildung\u001b[0m\u001b[32m]\u001b[0m\u001b[32m(\u001b[0m\u001b[32mhttps://www.hermesworld.com/de/karriere/unsere-gesellschaften/hermes-fulfilment/ausbildung-duales-studium/\u001b[0m\u001b[32m)\u001b[0m\u001b[32m\\n        * \u001b[0m\u001b[32m[\u001b[0m\u001b[32mStudierende & Absolventen\u001b[0m\u001b[32m]\u001b[0m\u001b[32m(\u001b[0m\u001b[32mhttps://www.hermesworld.com/de/karriere/unsere-gesellschaften/hermes-fulfilment/studierende-absolventen/\u001b[0m\u001b[32m)\u001b[0m\u001b[32m\\n        * \u001b[0m\u001b[32m[\u001b[0m\u001b[32mDeine Bewerbung\u001b[0m\u001b[32m]\u001b[0m\u001b[32m(\u001b[0m\u001b[32mhttps://www.hermesworld.com/de/karriere/unsere-gesellschaften/hermes-fulfilment/ihre-bewerbung/\u001b[0m\u001b[32m)\u001b[0m\u001b[32m\\n      * \u001b[0m\u001b[32m[\u001b[0m\u001b[32mHermes Germany\u001b[0m\u001b[32m]\u001b[0m\u001b[32m(\u001b[0m\u001b[32mhttps://www.hermesworld.com/de/karriere/unsere-gesellschaften/hermes-germany/hermes-germany/\u001b[0m\u001b[32m)\u001b[0m\u001b[32m\\n        * \u001b[0m\u001b[32m[\u001b[0m\u001b[32mHermes Germany\u001b[0m\u001b[32m]\u001b[0m\u001b[32m(\u001b[0m\u001b[32mhttps://www.hermesworld.com/de/karriere/unsere-gesellschaften/hermes-germany/hermes-germany/\u001b[0m\u001b[32m)\u001b[0m\u001b[32m\\n        * \u001b[0m\u001b[32m[\u001b[0m\u001b[32mAusbildung & Duales Studium\u001b[0m\u001b[32m]\u001b[0m\u001b[32m(\u001b[0m\u001b[32mhttps://www.hermesworld.com/de/karriere/unsere-gesellschaften/hermes-germany/ausbildung-duales-studium/\u001b[0m\u001b[32m)\u001b[0m\u001b[32m\\n        * \u001b[0m\u001b[32m[\u001b[0m\u001b[32mStudierende & Absolventen\u001b[0m\u001b[32m]\u001b[0m\u001b[32m(\u001b[0m\u001b[32mhttps://www.hermesworld.com/de/karriere/unsere-gesellschaften/hermes-germany/studierende-absolventen/\u001b[0m\u001b[32m)\u001b[0m\u001b[32m\\n        * \u001b[0m\u001b[32m[\u001b[0m\u001b[32mBerufserfahrene\u001b[0m\u001b[32m]\u001b[0m\u001b[32m(\u001b[0m\u001b[32mhttps://www.hermesworld.com/de/karriere/unsere-gesellschaften/hermes-germany/berufserfahrene/\u001b[0m\u001b[32m)\u001b[0m\u001b[32m\\n        * \u001b[0m\u001b[32m[\u001b[0m\u001b[32mTech\u001b[0m\u001b[32m]\u001b[0m\u001b[32m(\u001b[0m\u001b[32mhttps://www.hermesworld.com/de/karriere/unsere-gesellschaften/hermes-germany/tech/\u001b[0m\u001b[32m)\u001b[0m\u001b[32m\\n          * \u001b[0m\u001b[32m[\u001b[0m\u001b[32m Architecture & Information Security \u001b[0m\u001b[32m]\u001b[0m\u001b[32m(\u001b[0m\u001b[32mhttps://www.hermesworld.com/de/karriere/unsere-gesellschaften/hermes-germany/tech/architecture-integration-security/\u001b[0m\u001b[32m)\u001b[0m\u001b[32m\\n          * \u001b[0m\u001b[32m[\u001b[0m\u001b[32mANS\u001b[0m\u001b[32m]\u001b[0m\u001b[32m(\u001b[0m\u001b[32mhttps://www.hermesworld.com/de/karriere/unsere-gesellschaften/hermes-germany/tech/ans/\u001b[0m\u001b[32m)\u001b[0m\u001b[32m\\n          * \u001b[0m\u001b[32m[\u001b[0m\u001b[32mCloud & Application Infrastructure\u001b[0m\u001b[32m]\u001b[0m\u001b[32m(\u001b[0m\u001b[32mhttps://www.hermesworld.com/de/karriere/unsere-gesellschaften/hermes-germany/tech/cloud-application-infrastructure/\u001b[0m\u001b[32m)\u001b[0m\u001b[32m\\n          * \u001b[0m\u001b[32m[\u001b[0m\u001b[32mIT-Finance und IT-Licensemanagement\u001b[0m\u001b[32m]\u001b[0m\u001b[32m(\u001b[0m\u001b[32mhttps://www.hermesworld.com/de/karriere/unsere-gesellschaften/hermes-germany/tech/it-finance-and-it-licensemanagement/\u001b[0m\u001b[32m)\u001b[0m\u001b[32m\\n          * \u001b[0m\u001b[32m[\u001b[0m\u001b[32mBlueOps\u001b[0m\u001b[32m]\u001b[0m\u001b[32m(\u001b[0m\u001b[32mhttps://www.hermesworld.com/de/karriere/unsere-gesellschaften/hermes-germany/tech/blueops/\u001b[0m\u001b[32m)\u001b[0m\u001b[32m\\n          * \u001b[0m\u001b[32m[\u001b[0m\u001b[32mEuropean Network\u001b[0m\u001b[32m]\u001b[0m\u001b[32m(\u001b[0m\u001b[32mhttps://www.hermesworld.com/de/karriere/unsere-gesellschaften/hermes-germany/tech/european-network/\u001b[0m\u001b[32m)\u001b[0m\u001b[32m\\n          * \u001b[0m\u001b[32m[\u001b[0m\u001b[32mBlack OPs\u001b[0m\u001b[32m]\u001b[0m\u001b[32m(\u001b[0m\u001b[32mhttps://www.hermesworld.com/de/karriere/unsere-gesellschaften/hermes-germany/tech/black-ops/\u001b[0m\u001b[32m)\u001b[0m\u001b[32m\\n          * \u001b[0m\u001b[32m[\u001b[0m\u001b[32mBusiness Analytics\u001b[0m\u001b[32m]\u001b[0m\u001b[32m(\u001b[0m\u001b[32mhttps://www.hermesworld.com/de/karriere/unsere-gesellschaften/hermes-germany/tech/business-analytics/\u001b[0m\u001b[32m)\u001b[0m\u001b[32m\\n          * \u001b[0m\u001b[32m[\u001b[0m\u001b[32mSupport Solutions\u001b[0m\u001b[32m]\u001b[0m\u001b[32m(\u001b[0m\u001b[32mhttps://www.hermesworld.com/de/karriere/unsere-gesellschaften/hermes-germany/tech/support-solutions/\u001b[0m\u001b[32m)\u001b[0m\u001b[32m\\n          * \u001b[0m\u001b[32m[\u001b[0m\u001b[32mServicedesk\u001b[0m\u001b[32m]\u001b[0m\u001b[32m(\u001b[0m\u001b[32mhttps://www.hermesworld.com/de/karriere/unsere-gesellschaften/hermes-germany/tech/servicedesk/\u001b[0m\u001b[32m)\u001b[0m\u001b[32m\\n          * \u001b[0m\u001b[32m[\u001b[0m\u001b[32mSupply Chain Solutions\u001b[0m\u001b[32m]\u001b[0m\u001b[32m(\u001b[0m\u001b[32mhttps://www.hermesworld.com/de/karriere/unsere-gesellschaften/hermes-germany/tech/supply-chain-solutions/\u001b[0m\u001b[32m)\u001b[0m\u001b[32m\\n        * \u001b[0m\u001b[32m[\u001b[0m\u001b[32mLogistik & gewerbliche Jobs\u001b[0m\u001b[32m]\u001b[0m\u001b[32m(\u001b[0m\u001b[32mhttps://www.hermesworld.com/de/karriere/unsere-gesellschaften/hermes-germany/logistik-gewerbliche-jobs/\u001b[0m\u001b[32m)\u001b[0m\u001b[32m\\n      * \u001b[0m\u001b[32m[\u001b[0m\u001b[32mHermes Europe\u001b[0m\u001b[32m]\u001b[0m\u001b[32m(\u001b[0m\u001b[32mhttps://www.hermesworld.com/de/karriere/unsere-gesellschaften/hermes-europe/\u001b[0m\u001b[32m)\u001b[0m\u001b[32m\\n      * \u001b[0m\u001b[32m[\u001b[0m\u001b[32mHermes Einrichtungs Service\u001b[0m\u001b[32m]\u001b[0m\u001b[32m(\u001b[0m\u001b[32mhttps://www.hermesworld.com/de/karriere/unsere-gesellschaften/hermes-einrichtungs-service/jobs-beim-hes-in-ansbach/\u001b[0m\u001b[32m)\u001b[0m\u001b[32m\\n        * \u001b[0m\u001b[32m[\u001b[0m\u001b[32mHermes Einrichtungs Service\u001b[0m\u001b[32m]\u001b[0m\u001b[32m(\u001b[0m\u001b[32mhttps://www.hermesworld.com/de/karriere/unsere-gesellschaften/hermes-einrichtungs-service/hermes-einrichtungs-service/\u001b[0m\u001b[32m)\u001b[0m\u001b[32m\\n        * \u001b[0m\u001b[32m[\u001b[0m\u001b[32mWas wir dir bei HES bieten\u001b[0m\u001b[32m]\u001b[0m\u001b[32m(\u001b[0m\u001b[32mhttps://www.hermesworld.com/de/karriere/unsere-gesellschaften/hermes-einrichtungs-service/was-wir-ihnen-bei-hes-bieten/\u001b[0m\u001b[32m)\u001b[0m\u001b[32m\\n        * \u001b[0m\u001b[32m[\u001b[0m\u001b[32mJobs beim HES\u001b[0m\u001b[32m]\u001b[0m\u001b[32m(\u001b[0m\u001b[32mhttps://www.hermesworld.com/de/karriere/unsere-gesellschaften/hermes-einrichtungs-service/jobs-beim-hes/\u001b[0m\u001b[32m)\u001b[0m\u001b[32m\\n        * \u001b[0m\u001b[32m[\u001b[0m\u001b[32mJobs beim HES in Ansbach\u001b[0m\u001b[32m]\u001b[0m\u001b[32m(\u001b[0m\u001b[32mhttps://www.hermesworld.com/de/karriere/unsere-gesellschaften/hermes-einrichtungs-service/jobs-beim-hes-in-ansbach/\u001b[0m\u001b[32m)\u001b[0m\u001b[32m\\n        * \u001b[0m\u001b[32m[\u001b[0m\u001b[32mJobs in unseren Depots\u001b[0m\u001b[32m]\u001b[0m\u001b[32m(\u001b[0m\u001b[32mhttps://www.hermesworld.com/de/karriere/unsere-gesellschaften/hermes-einrichtungs-service/jobs-in-unseren-depots/\u001b[0m\u001b[32m)\u001b[0m\u001b[32m\\n    * \u001b[0m\u001b[32m[\u001b[0m\u001b[32mKarrieremessen\u001b[0m\u001b[32m]\u001b[0m\u001b[32m(\u001b[0m\u001b[32mhttps://www.hermesworld.com/de/karriere/karrieremessen/\u001b[0m\u001b[32m)\u001b[0m\u001b[32m\\n\\n  * \u001b[0m\u001b[32m[\u001b[0m\u001b[32mNewsroom\u001b[0m\u001b[32m]\u001b[0m\u001b[32m(\u001b[0m\u001b[32mhttps://newsroom.hermesworld.com\u001b[0m\u001b[32m)\u001b[0m\u001b[32m\\n\\n    * \u001b[0m\u001b[32m[\u001b[0m\u001b[32mPresse\u001b[0m\u001b[32m]\u001b[0m\u001b[32m(\u001b[0m\u001b[32mhttps://newsroom.hermesworld.com/presse/\u001b[0m\u001b[32m)\u001b[0m\u001b[32m\\n    * \u001b[0m\u001b[32m[\u001b[0m\u001b[32mMediathek\u001b[0m\u001b[32m]\u001b[0m\u001b[32m(\u001b[0m\u001b[32mhttps://newsroom.hermesworld.com/?\u001b[0m\u001b[32ms\u001b[0m\u001b[32m=&\u001b[0m\u001b[32mfwp_posttype\u001b[0m\u001b[32m=\u001b[0m\u001b[32mpressematerial\u001b[0m\u001b[32m&\u001b[0m\u001b[32mfwp_pressematerial_type\u001b[0m\u001b[32m=\u001b[0m\u001b[32mfoto\u001b[0m\u001b[32m&\u001b[0m\u001b[32mfwp_paged\u001b[0m\u001b[32m=\u001b[0m\u001b[32m2\u001b[0m\u001b[32m)\u001b[0m\u001b[32m\\n    * \u001b[0m\u001b[32m[\u001b[0m\u001b[32mPressekontakt\u001b[0m\u001b[32m]\u001b[0m\u001b[32m(\u001b[0m\u001b[32mhttps://newsroom.hermesworld.com/kontakt/\u001b[0m\u001b[32m)\u001b[0m\u001b[32m\\n\\n  * \u001b[0m\u001b[32m[\u001b[0m\u001b[32mKontakt\u001b[0m\u001b[32m]\u001b[0m\u001b[32m(\u001b[0m\u001b[32mhttps://www.hermesworld.com/de/kontakt/\u001b[0m\u001b[32m)\u001b[0m\u001b[32m\\n\\n  * \u001b[0m\u001b[32m[\u001b[0m\u001b[32m Start\u001b[0m\u001b[32m]\u001b[0m\u001b[32m(\u001b[0m\u001b[32mhttps://www.hermesworld.com/de/\u001b[0m\u001b[32m)\u001b[0m\u001b[32m\\n  * \u001b[0m\u001b[32m[\u001b[0m\u001b[32mKarriere\u001b[0m\u001b[32m]\u001b[0m\u001b[32m(\u001b[0m\u001b[32mhttps://www.hermesworld.com/de/karriere/karriere-uebersicht/\u001b[0m\u001b[32m)\u001b[0m\u001b[32m\\n  * \u001b[0m\u001b[32m[\u001b[0m\u001b[32mJobs bei Hermes Germany\u001b[0m\u001b[32m]\u001b[0m\u001b[32m(\u001b[0m\u001b[32mhttps://www.hermesworld.com/de/karriere/jobs/\u001b[0m\u001b[32m)\u001b[0m\u001b[32m\\n\\n# \u001b[0m\u001b[32m(\u001b[0m\u001b[32mJunior\u001b[0m\u001b[32m)\u001b[0m\u001b[32m Manager \u001b[0m\u001b[32m(\u001b[0m\u001b[32mm/w/d\u001b[0m\u001b[32m)\u001b[0m\u001b[32m HR Controlling\\n\\n  *  __Hermes Germany GmbH\\n  *  __Hermes Zentrale Hamburg\\n  *  __Berufserfahrung \u001b[0m\u001b[32m(\u001b[0m\u001b[32mJunior Level\u001b[0m\u001b[32m)\u001b[0m\u001b[32m\\n  * __Berufserfahrung\\n\\n  *  __Finanzen, Controlling\\n  * __Personalwesen, HR\\n  *  __Vollzeit\\n\\n!\u001b[0m\u001b[32m[\u001b[0m\u001b[32mscheme\\nimage\u001b[0m\u001b[32m]\u001b[0m\u001b[32m(\u001b[0m\u001b[32mhttps://hermesworld.com/de/karriere/jobs/inc/display_image.php?\u001b[0m\u001b[32mid\u001b[0m\u001b[32m=\u001b[0m\u001b[32m4364\u001b[0m\u001b[32m-HO-1-DE&\u001b[0m\u001b[32mtype\u001b[0m\u001b[32m=\u001b[0m\u001b[32mtmp\u001b[0m\u001b[32m)\u001b[0m\u001b[32m\\n\\nBei uns stimmt die Balance zwischen Arbeits- und Privatleben. Mit dieser\\nVoraussetzung sorgen wir dafür, dass du deinen beruflichen Erfolg mit Freude,\\nTeamwork und Eigenverantwortung gestalten kannst. Werde ein Teil von uns und\\nsorge mit neuester Technik und über 6.000 Kolleg*innen dafür, dass jeden Tag\\nmehrere Millionen Pakete genau dort ankommen, wo sie bereits erwartet werden.\\nAls Teil der Division Strategy, People & Organization beschäftigt sich das\\nTeam People Analytics and Compensation mit Zahlen und Daten rund um die\\nMitarbeitenden von Hermes Germany. In unseren Auswertungen und Analysen\\nbeschäftigen wir uns mit Fragestellungen wie „Wie hoch ist die Frauenquote auf\\nden Führungsebenen von Hermes?“ oder „Wie verändert sich der Krankenstand über\\ndas Geschäftsjahr hinweg?“. Außerdem begleiten wir zahlreiche Projekte mit\\nunseren Analysen und Erkenntnissen.\\n\\n## Was dich erwartet:\\n\\n  * Du erstellst Auswertungen, Statistiken und Präsentationen für interne Stakeholder wie HR Kolleg*innen oder Fachbereiche sowie für externe Stakeholder wie Behörden\\n  * Du begleitest tatkräftig Prozesse \u001b[0m\u001b[32m(\u001b[0m\u001b[32mz.B. Gehaltsrunde\u001b[0m\u001b[32m)\u001b[0m\u001b[32m sowie HR-Projekte, um datenbasierte Entscheidungen treffen zu können\\n  * Du arbeitest aktiv an dem Aufbau einer Qualitätskontrolle zwischen unseren Systemen mit\\n  * Neue Ideen und Verbesserungsvorschläge bringst du mit Überzeugungskraft ein\\n  * Unser Team besteht aus zwei HR Controllern und einer Teamleiterin. Wir zeichnen uns durch viel Leidenschaft an den Themen und Spaß an der Arbeit aus \\n\\n## Was du mitbringen solltest:\\n\\n  * Du hast dein Studium z.B. in den Studiengängen Wirtschafts-, Sozialwissenschaften oder Personalmanagement abgeschlossen\\n  * Erste Berufserfahrung in Form von Praktika, Werkstudententätigkeiten oder Nebenjobs konntest du bereits sammeln\\n  * Du hast Spaß am Umgang mit Daten und großen Zahlenmengen\\n  * Du interessierst dich für Fragestellungen rund um moderne Personalarbeit\\n  * Problemlösefähigkeit, Selbstorganisation und Zielorientierung zählen zu deinen Stärken\\n  * Sichere Anwendung der gängigen MS-Office Programme \u001b[0m\u001b[32m(\u001b[0m\u001b[32minsbesondere Excel und Power Point\u001b[0m\u001b[32m)\u001b[0m\u001b[32m ist von Vorteil\\n\\n## Was wir dir bieten:\\n\\n  * Einsatz führender Technologien und agiler Prozesse\\n  * Du arbeitest für einen mehrfach ausgezeichneten Arbeitgeber, dessen Unternehmenskultur geprägt ist durch ein offenes und kooperatives Miteinander\\n  * Flexible Arbeitszeiten, nach Absprache ist auch mobiles Arbeiten möglich\\n  * Umfangreiches Weiterbildungsangebot\\n  * 15% Rabatt auf otto.de und anderen Shops\\n  * Bezuschussung des Deutschlandtickets, Altersvorsorge, JobRad, verschiedene Sport- und Freizeitangebote uvm.\\n  * Vergünstigte und vielfältige Speiseauswahl in unserer modernen Kantine\\n\\nDie Hermes Gruppe bietet vielseitige Arbeitsplätze mit langfristigen\\nPerspektiven und täglich wechselnden Herausforderungen in einer sicheren und\\nzukunftsorientierten Branche. Unser Arbeitsfeld bewegt sich über die\\nLandesgrenzen hinaus: Wir sind ein international tätiges Unternehmen und leben\\neine multikulturelle Arbeitsatmosphäre. Unsere Wertschätzung gilt allen\\nMenschen gleichermaßen - unabhängig von Geschlecht, Nationalität, ethnischer\\nHerkunft, Religion, Behinderung oder sexueller Orientierung. Logistik bewegt\\ndie Welt - beweg dich mit!\\n\\nHaben wir dein Interesse geweckt? Dann mache jetzt den ersten Schritt und\\nbewirb dich gleich online bei uns oder informiere dich auf unserer Homepage.\\n\\n  * Lisa Schille\\n  * Junior HR Manager Recruiting\\n\\n  * Viktoria Gratenau\\n  * Teamlead HR Controlling\\n\\n\u001b[0m\u001b[32m[\u001b[0m\u001b[32mZurück\u001b[0m\u001b[32m]\u001b[0m\u001b[32m(\u001b[0m\u001b[32mhttps://hermesworld.com/de/karriere/jobs/\u001b[0m\u001b[32m)\u001b[0m\u001b[32m\\n\\n\u001b[0m\u001b[32m[\u001b[0m\u001b[32mJetzt bewerben!\u001b[0m\u001b[32m]\u001b[0m\u001b[32m(\u001b[0m\u001b[32mhttps://hermesworld.com/de/karriere/jobs/Junior-Manager-mwd-\\nHR-Controlling-de-f4364.html\u001b[0m\u001b[32m)\u001b[0m\u001b[32m\\n\\n\u001b[0m\u001b[32m[\u001b[0m\u001b[32m !\u001b[0m\u001b[32m[\u001b[0m\u001b[32mrexx systems - software for\\nsuccess\u001b[0m\u001b[32m]\u001b[0m\u001b[32m(\u001b[0m\u001b[32mhttps://hermesworld.com/de/karriere/jobs/bilder/rexx_systems_logo.svg\u001b[0m\u001b[32m)\u001b[0m\u001b[32m\\n\u001b[0m\u001b[32m]\u001b[0m\u001b[32m(\u001b[0m\u001b[32mhttps://www.rexx-systems.com \"rexx systems - software for success\"\u001b[0m\u001b[32m)\u001b[0m\u001b[32m\\n\\n\\n\\n###### Tools & Services\\n\\n  * \u001b[0m\u001b[32m[\u001b[0m\u001b[32m Sendungsverfolgung \u001b[0m\u001b[32m]\u001b[0m\u001b[32m(\u001b[0m\u001b[32mhttps://www.myhermes.de/empfangen/sendungsverfolgung/\u001b[0m\u001b[32m)\u001b[0m\u001b[32m\\n  * \u001b[0m\u001b[32m[\u001b[0m\u001b[32m PaketShop finden \u001b[0m\u001b[32m]\u001b[0m\u001b[32m(\u001b[0m\u001b[32mhttps://www.myhermes.de/paketshop/\u001b[0m\u001b[32m)\u001b[0m\u001b[32m\\n  * \u001b[0m\u001b[32m[\u001b[0m\u001b[32m myHermes Business-Portal \u001b[0m\u001b[32m]\u001b[0m\u001b[32m(\u001b[0m\u001b[32mhttps://business.myhermes.de/konto/\u001b[0m\u001b[32m)\u001b[0m\u001b[32m\\n  * \u001b[0m\u001b[32m[\u001b[0m\u001b[32m click2supplychain.com \u001b[0m\u001b[32m]\u001b[0m\u001b[32m(\u001b[0m\u001b[32mhttps://www.hermesworld.com/de/unsere-dienstleistungen/transport-logistics/supply-chain-solutions/e-services/\u001b[0m\u001b[32m)\u001b[0m\u001b[32m\\n  * \u001b[0m\u001b[32m[\u001b[0m\u001b[32m Hermes PORT \u001b[0m\u001b[32m]\u001b[0m\u001b[32m(\u001b[0m\u001b[32mhttps://www.hermes-port.de/port/\u001b[0m\u001b[32m)\u001b[0m\u001b[32m\\n\\n###### Über uns\\n\\n  * \u001b[0m\u001b[32m[\u001b[0m\u001b[32m Hermes Gruppe \u001b[0m\u001b[32m]\u001b[0m\u001b[32m(\u001b[0m\u001b[32mhttps://www.hermesworld.com/de/ueber-uns/hermes-gruppe/\u001b[0m\u001b[32m)\u001b[0m\u001b[32m\\n  * \u001b[0m\u001b[32m[\u001b[0m\u001b[32m Jobs & Karriere \u001b[0m\u001b[32m]\u001b[0m\u001b[32m(\u001b[0m\u001b[32mhttps://www.hermesworld.com/de/karriere/karriere-uebersicht/\u001b[0m\u001b[32m)\u001b[0m\u001b[32m\\n  * \u001b[0m\u001b[32m[\u001b[0m\u001b[32m Newsroom \u001b[0m\u001b[32m]\u001b[0m\u001b[32m(\u001b[0m\u001b[32mhttps://newsroom.hermesworld.com\u001b[0m\u001b[32m)\u001b[0m\u001b[32m\\n  * \u001b[0m\u001b[32m[\u001b[0m\u001b[32m Hermes Blog \u001b[0m\u001b[32m]\u001b[0m\u001b[32m(\u001b[0m\u001b[32mhttps://blog.myhermes.de/\u001b[0m\u001b[32m)\u001b[0m\u001b[32m\\n\\n###### Kontakt\\n\\n  * \u001b[0m\u001b[32m[\u001b[0m\u001b[32m Geschäftskunden Kontakt \u001b[0m\u001b[32m]\u001b[0m\u001b[32m(\u001b[0m\u001b[32mhttps://www.hermesworld.com/de/kontakt/geschaeftskunden/\u001b[0m\u001b[32m)\u001b[0m\u001b[32m\\n  * \u001b[0m\u001b[32m[\u001b[0m\u001b[32m Presse Kontakt \u001b[0m\u001b[32m]\u001b[0m\u001b[32m(\u001b[0m\u001b[32mhttps://newsroom.hermesworld.com/allgemeiner-kontakt\u001b[0m\u001b[32m)\u001b[0m\u001b[32m\\n  * \u001b[0m\u001b[32m[\u001b[0m\u001b[32m Privatkunden Kontakt \u001b[0m\u001b[32m]\u001b[0m\u001b[32m(\u001b[0m\u001b[32mhttps://www.myhermes.de/service/kontakt/\u001b[0m\u001b[32m)\u001b[0m\u001b[32m\\n  * \u001b[0m\u001b[32m[\u001b[0m\u001b[32m Lieferanten Kontakt \u001b[0m\u001b[32m]\u001b[0m\u001b[32m(\u001b[0m\u001b[32mhttps://www.hermesworld.com/de/kontakt/lieferanten/\u001b[0m\u001b[32m)\u001b[0m\u001b[32m\\n  * \u001b[0m\u001b[32m[\u001b[0m\u001b[32m Unternehmer werden \u001b[0m\u001b[32m]\u001b[0m\u001b[32m(\u001b[0m\u001b[32mhttps://www.hermesworld.com/de/ueber-uns/hermes-gruppe/hermes-logistik-gruppe-deutschland/vertragspartner-werden/\u001b[0m\u001b[32m)\u001b[0m\u001b[32m\\n  * \u001b[0m\u001b[32m[\u001b[0m\u001b[32m PaketShop-Partner werden \u001b[0m\u001b[32m]\u001b[0m\u001b[32m(\u001b[0m\u001b[32mhttps://www.hermesworld.com/de/ueber-uns/hermes-gruppe/hermes-logistik-gruppe-deutschland/paketshop-partner/\u001b[0m\u001b[32m)\u001b[0m\u001b[32m\\n\\n###### Länderversion\\n\\nÖsterreich China Deutschland Vereinigtes Königreich International USA\\n\\n  * Cookies \\n  * \u001b[0m\u001b[32m[\u001b[0m\u001b[32m Impressum \u001b[0m\u001b[32m]\u001b[0m\u001b[32m(\u001b[0m\u001b[32mhttps://www.hermesworld.com/de/impressum/\u001b[0m\u001b[32m)\u001b[0m\u001b[32m\\n  * \u001b[0m\u001b[32m[\u001b[0m\u001b[32m Datenschutz \u001b[0m\u001b[32m]\u001b[0m\u001b[32m(\u001b[0m\u001b[32mhttps://www.hermesworld.com/de/datenschutz/\u001b[0m\u001b[32m)\u001b[0m\u001b[32m\\n  * \u001b[0m\u001b[32m[\u001b[0m\u001b[32m Sicherheitshinweise \u001b[0m\u001b[32m]\u001b[0m\u001b[32m(\u001b[0m\u001b[32mhttps://www.hermesworld.com/de/sicherheitshinweise/\u001b[0m\u001b[32m)\u001b[0m\u001b[32m\\n  * \u001b[0m\u001b[32m[\u001b[0m\u001b[32m Sitemap \u001b[0m\u001b[32m]\u001b[0m\u001b[32m(\u001b[0m\u001b[32mhttps://www.hermesworld.com/de/sitemap/\u001b[0m\u001b[32m)\u001b[0m\u001b[32m\\n\\n© 2023 Hermes Europe GmbH\\n\\n!\u001b[0m\u001b[32m[\u001b[0m\u001b[32m]\u001b[0m\u001b[32m(\u001b[0m\u001b[32m//analytics.hermesworld.com/195245818237640/wt.pl?\u001b[0m\u001b[32mp\u001b[0m\u001b[32m=\u001b[0m\u001b[32m324\u001b[0m\u001b[32m,0\u001b[0m\u001b[32m)\u001b[0m\u001b[32m\\n\\n'\u001b[0m,\n",
       "\u001b[2;32m│   │   \u001b[0m\u001b[33mmimetype\u001b[0m=\u001b[32m'text/plain'\u001b[0m,\n",
       "\u001b[2;32m│   │   \u001b[0m\u001b[33mstart_char_idx\u001b[0m=\u001b[3;35mNone\u001b[0m,\n",
       "\u001b[2;32m│   │   \u001b[0m\u001b[33mend_char_idx\u001b[0m=\u001b[3;35mNone\u001b[0m,\n",
       "\u001b[2;32m│   │   \u001b[0m\u001b[33mtext_template\u001b[0m=\u001b[32m'\u001b[0m\u001b[32m{\u001b[0m\u001b[32mmetadata_str\u001b[0m\u001b[32m}\u001b[0m\u001b[32m\\n\\n\u001b[0m\u001b[32m{\u001b[0m\u001b[32mcontent\u001b[0m\u001b[32m}\u001b[0m\u001b[32m'\u001b[0m,\n",
       "\u001b[2;32m│   │   \u001b[0m\u001b[33mmetadata_template\u001b[0m=\u001b[32m'\u001b[0m\u001b[32m{\u001b[0m\u001b[32mkey\u001b[0m\u001b[32m}\u001b[0m\u001b[32m: \u001b[0m\u001b[32m{\u001b[0m\u001b[32mvalue\u001b[0m\u001b[32m}\u001b[0m\u001b[32m'\u001b[0m,\n",
       "\u001b[2;32m│   │   \u001b[0m\u001b[33mmetadata_seperator\u001b[0m=\u001b[32m'\\n'\u001b[0m\n",
       "\u001b[2;32m│   \u001b[0m\u001b[1m)\u001b[0m\n",
       "\u001b[1m]\u001b[0m\n"
      ]
     },
     "metadata": {},
     "output_type": "display_data"
    }
   ],
   "source": [
    "from llama_index.readers.web import SimpleWebPageReader\n",
    "\n",
    "documents = SimpleWebPageReader(html_to_text=True).load_data([data_url])\n",
    "pp(documents)"
   ]
  },
  {
   "cell_type": "markdown",
   "metadata": {},
   "source": [
    "## Setup step methods"
   ]
  },
  {
   "cell_type": "markdown",
   "metadata": {},
   "source": [
    "### Top K RAG"
   ]
  },
  {
   "cell_type": "code",
   "execution_count": 107,
   "metadata": {},
   "outputs": [],
   "source": [
    "from llama_index.core import VectorStoreIndex\n",
    "from llama_index.core.node_parser import SentenceSplitter\n",
    "from llama_index.core.postprocessor import SentenceTransformerRerank\n",
    "\n",
    "splitter = SentenceSplitter(chunk_size=chunk_size)\n",
    "vector_index = VectorStoreIndex.from_documents(documents, transformations=[splitter])\n",
    "# Background of retrieval: First is the indexing to create origin nodes scored (NodeWithScore), contents of nodes will be transformed into smaller chunks(scored nodes).\n",
    "vector_query_engine = vector_index.as_query_engine(\n",
    "    similarity_top_k=similarity_top_k,\n",
    "    node_postprocessors=[\n",
    "        SentenceTransformerRerank(top_n=rerank_top_k, model=\"BAAI/bge-reranker-base\")\n",
    "    ],\n",
    ")"
   ]
  },
  {
   "cell_type": "markdown",
   "metadata": {},
   "source": [
    "### Multi-step query"
   ]
  },
  {
   "cell_type": "code",
   "execution_count": 108,
   "metadata": {},
   "outputs": [],
   "source": [
    "from llama_index.core.indices.query.query_transform.base import (\n",
    "    StepDecomposeQueryTransform,\n",
    ")\n",
    "from llama_index.core.query_engine import MultiStepQueryEngine\n",
    "from llama_index.core import get_response_synthesizer\n",
    "\n",
    "synthesizer = get_response_synthesizer(\n",
    "    response_mode=\"tree_summarize\", streaming=streaming\n",
    ")\n",
    "step_decompose_transform = StepDecomposeQueryTransform(verbose=verbose)\n",
    "multi_steps_query_engine = MultiStepQueryEngine(\n",
    "    query_engine=vector_query_engine,\n",
    "    query_transform=step_decompose_transform,\n",
    "    response_synthesizer=synthesizer,\n",
    "    num_steps=num_multi_steps,\n",
    ")"
   ]
  },
  {
   "cell_type": "markdown",
   "metadata": {},
   "source": [
    "### Long context query"
   ]
  },
  {
   "cell_type": "code",
   "execution_count": 109,
   "metadata": {},
   "outputs": [],
   "source": [
    "from llama_index.core.llms.llm import LLM\n",
    "from llama_index.core.query_engine import CustomQueryEngine\n",
    "from typing import Any\n",
    "from langchain import hub\n",
    "from llama_index.core import PromptTemplate\n",
    "from llama_index.core import get_response_synthesizer\n",
    "\n",
    "prompt = PromptTemplate(hub.pull(\"hwchase17/llama-rag\").template)\n",
    "\n",
    "\n",
    "class VanillaQueryEngine(CustomQueryEngine):\n",
    "    \"\"\"RAG String Query Engine.\"\"\"\n",
    "\n",
    "    llm: LLM\n",
    "    context:str\n",
    "\n",
    "    def __call__(self, *args: Any, **kwds: Any) -> str:\n",
    "        return self.custom_query(*args, **kwds)\n",
    "\n",
    "    def custom_query(self, query_str: str) -> str:\n",
    "        full_query = prompt.format(context=self.context, question=query_str)\n",
    "        return str(self.llm.complete(full_query))\n",
    "\n",
    "\n",
    "synthesizer = get_response_synthesizer(\n",
    "    response_mode=\"tree_summarize\", streaming=streaming\n",
    ")\n",
    "lc_query_engine = VanillaQueryEngine(response_synthesizer=synthesizer, llm=Settings.llm, context=documents[0].text)"
   ]
  },
  {
   "cell_type": "markdown",
   "metadata": {},
   "source": [
    "## Query with methods"
   ]
  },
  {
   "cell_type": "markdown",
   "metadata": {},
   "source": [
    "### Simple query for try"
   ]
  },
  {
   "cell_type": "code",
   "execution_count": 110,
   "metadata": {},
   "outputs": [],
   "source": [
    "query = \"Give a briefing of the job description and company information.\""
   ]
  },
  {
   "cell_type": "markdown",
   "metadata": {},
   "source": [
    "### Top K RAG"
   ]
  },
  {
   "cell_type": "code",
   "execution_count": 111,
   "metadata": {},
   "outputs": [
    {
     "name": "stderr",
     "output_type": "stream",
     "text": [
      "ic| vc_res.response: ('The job description is for a (Junior) Manager (m/w/d) HR Controlling '\n",
      "                      'position at Hermes Germany GmbH in Hamburg. The role involves creating '\n",
      "                      'reports and presentations for internal and external stakeholders, supporting '\n",
      "                      'HR projects, and contributing to the development of quality control '\n",
      "                      'processes. The ideal candidate will have a degree in business, social '\n",
      "                      'sciences, or human resource management, as well as experience in '\n",
      "                      'internships, work-study programs, or part-time jobs. They should also be '\n",
      "                      'comfortable working with data and have a strong interest in modern HR '\n",
      "                      'practices. Hermes Germany is a leading logistics company that offers a '\n",
      "                      'variety of benefits, including flexible work hours, a comprehensive training '\n",
      "                      'program, and discounts on various products and services. \n",
      "                     ')\n"
     ]
    },
    {
     "data": {
      "text/plain": [
       "'The job description is for a (Junior) Manager (m/w/d) HR Controlling position at Hermes Germany GmbH in Hamburg. The role involves creating reports and presentations for internal and external stakeholders, supporting HR projects, and contributing to the development of quality control processes. The ideal candidate will have a degree in business, social sciences, or human resource management, as well as experience in internships, work-study programs, or part-time jobs. They should also be comfortable working with data and have a strong interest in modern HR practices. Hermes Germany is a leading logistics company that offers a variety of benefits, including flexible work hours, a comprehensive training program, and discounts on various products and services. \\n'"
      ]
     },
     "execution_count": 111,
     "metadata": {},
     "output_type": "execute_result"
    }
   ],
   "source": [
    "vc_res = vector_query_engine.query(query)\n",
    "ic(vc_res.response)"
   ]
  },
  {
   "cell_type": "code",
   "execution_count": 112,
   "metadata": {},
   "outputs": [
    {
     "data": {
      "text/html": [
       "<pre style=\"white-space:pre;overflow-x:auto;line-height:normal;font-family:Menlo,'DejaVu Sans Mono',consolas,'Courier New',monospace\"><span style=\"font-weight: bold\">(</span><span style=\"color: #008000; text-decoration-color: #008000\">'Embedding Tokens: '</span>, <span style=\"color: #008080; text-decoration-color: #008080; font-weight: bold\">0</span>, <span style=\"color: #008000; text-decoration-color: #008000\">'LLM Prompt Tokens: '</span>, <span style=\"color: #008080; text-decoration-color: #008080; font-weight: bold\">0</span>, <span style=\"color: #008000; text-decoration-color: #008000\">'LLM Completion Tokens: '</span>, <span style=\"color: #008080; text-decoration-color: #008080; font-weight: bold\">0</span>, <span style=\"color: #008000; text-decoration-color: #008000\">'Total LLM Token Count: '</span>, <span style=\"color: #008080; text-decoration-color: #008080; font-weight: bold\">0</span><span style=\"font-weight: bold\">)</span>\n",
       "</pre>\n"
      ],
      "text/plain": [
       "\u001b[1m(\u001b[0m\u001b[32m'Embedding Tokens: '\u001b[0m, \u001b[1;36m0\u001b[0m, \u001b[32m'LLM Prompt Tokens: '\u001b[0m, \u001b[1;36m0\u001b[0m, \u001b[32m'LLM Completion Tokens: '\u001b[0m, \u001b[1;36m0\u001b[0m, \u001b[32m'Total LLM Token Count: '\u001b[0m, \u001b[1;36m0\u001b[0m\u001b[1m)\u001b[0m\n"
      ]
     },
     "metadata": {},
     "output_type": "display_data"
    }
   ],
   "source": [
    "print_token_counter(token_counter)"
   ]
  },
  {
   "cell_type": "markdown",
   "metadata": {},
   "source": [
    "### Multi-step query"
   ]
  },
  {
   "cell_type": "code",
   "execution_count": 113,
   "metadata": {},
   "outputs": [
    {
     "name": "stdout",
     "output_type": "stream",
     "text": [
      "\u001b[1;3;33m> Current query: Give a briefing of the job description and company information.\n",
      "\u001b[0m\u001b[1;3;38;5;200m> New query: New question: **What is the job description and company information?** \n",
      "\n",
      "\u001b[0m"
     ]
    },
    {
     "name": "stdout",
     "output_type": "stream",
     "text": [
      "\u001b[1;3;33m> Current query: Give a briefing of the job description and company information.\n",
      "\u001b[0m\u001b[1;3;38;5;200m> New query: New question: **What is the company information for Hermes Germany GmbH?** \n",
      "\n",
      "\u001b[0m\u001b[1;3;33m> Current query: Give a briefing of the job description and company information.\n",
      "\u001b[0m\u001b[1;3;38;5;200m> New query: None \n",
      "\n",
      "\u001b[0m"
     ]
    },
    {
     "name": "stderr",
     "output_type": "stream",
     "text": [
      "ic| ms_res.response: ('The job is for a management position in human resources controlling at a '\n",
      "                      'subsidiary of the Hermes Group. The position requires experience in finance, '\n",
      "                      'controlling, and human resources. The team focuses on data and analytics '\n",
      "                      'related to employees. The company offers a variety of services, including '\n",
      "                      'package shop partnerships and becoming a contract partner. \n",
      "                     ')\n"
     ]
    },
    {
     "data": {
      "text/plain": [
       "'The job is for a management position in human resources controlling at a subsidiary of the Hermes Group. The position requires experience in finance, controlling, and human resources. The team focuses on data and analytics related to employees. The company offers a variety of services, including package shop partnerships and becoming a contract partner. \\n'"
      ]
     },
     "execution_count": 113,
     "metadata": {},
     "output_type": "execute_result"
    }
   ],
   "source": [
    "ms_res = multi_steps_query_engine.query(query)\n",
    "ic(ms_res.response)"
   ]
  },
  {
   "cell_type": "code",
   "execution_count": 114,
   "metadata": {},
   "outputs": [
    {
     "data": {
      "text/html": [
       "<pre style=\"white-space:pre;overflow-x:auto;line-height:normal;font-family:Menlo,'DejaVu Sans Mono',consolas,'Courier New',monospace\"><span style=\"font-weight: bold\">[</span>\n",
       "<span style=\"color: #7fbf7f; text-decoration-color: #7fbf7f\">│   </span><span style=\"font-weight: bold\">(</span>\n",
       "<span style=\"color: #7fbf7f; text-decoration-color: #7fbf7f\">│   │   </span><span style=\"color: #008000; text-decoration-color: #008000\">'New question: **What is the job description and company information?** \\n'</span>,\n",
       "<span style=\"color: #7fbf7f; text-decoration-color: #7fbf7f\">│   │   </span><span style=\"color: #008000; text-decoration-color: #008000\">'The job is for a (Junior) Manager (m/w/d) HR Controlling at Hermes Germany GmbH in Hamburg. The position is full-time and requires experience in finance, controlling, and human resources. The team focuses on data and analytics related to employees, including questions like \"How high is the proportion of women in management positions at Hermes?\" or \"How does the sick leave rate change over the fiscal year?\". \\n'</span>\n",
       "<span style=\"color: #7fbf7f; text-decoration-color: #7fbf7f\">│   </span><span style=\"font-weight: bold\">)</span>,\n",
       "<span style=\"color: #7fbf7f; text-decoration-color: #7fbf7f\">│   </span><span style=\"font-weight: bold\">(</span>\n",
       "<span style=\"color: #7fbf7f; text-decoration-color: #7fbf7f\">│   │   </span><span style=\"color: #008000; text-decoration-color: #008000\">'New question: **What is the company information for Hermes Germany GmbH?** \\n'</span>,\n",
       "<span style=\"color: #7fbf7f; text-decoration-color: #7fbf7f\">│   │   </span><span style=\"color: #008000; text-decoration-color: #008000\">'Hermes Germany GmbH is a subsidiary of the Hermes Group. They offer a variety of services, including package shop partnerships, becoming a contract partner, and a form for contract partners. \\n'</span>\n",
       "<span style=\"color: #7fbf7f; text-decoration-color: #7fbf7f\">│   </span><span style=\"font-weight: bold\">)</span>\n",
       "<span style=\"font-weight: bold\">]</span>\n",
       "</pre>\n"
      ],
      "text/plain": [
       "\u001b[1m[\u001b[0m\n",
       "\u001b[2;32m│   \u001b[0m\u001b[1m(\u001b[0m\n",
       "\u001b[2;32m│   │   \u001b[0m\u001b[32m'New question: **What is the job description and company information?** \\n'\u001b[0m,\n",
       "\u001b[2;32m│   │   \u001b[0m\u001b[32m'The job is for a \u001b[0m\u001b[32m(\u001b[0m\u001b[32mJunior\u001b[0m\u001b[32m)\u001b[0m\u001b[32m Manager \u001b[0m\u001b[32m(\u001b[0m\u001b[32mm/w/d\u001b[0m\u001b[32m)\u001b[0m\u001b[32m HR Controlling at Hermes Germany GmbH in Hamburg. The position is full-time and requires experience in finance, controlling, and human resources. The team focuses on data and analytics related to employees, including questions like \"How high is the proportion of women in management positions at Hermes?\" or \"How does the sick leave rate change over the fiscal year?\". \\n'\u001b[0m\n",
       "\u001b[2;32m│   \u001b[0m\u001b[1m)\u001b[0m,\n",
       "\u001b[2;32m│   \u001b[0m\u001b[1m(\u001b[0m\n",
       "\u001b[2;32m│   │   \u001b[0m\u001b[32m'New question: **What is the company information for Hermes Germany GmbH?** \\n'\u001b[0m,\n",
       "\u001b[2;32m│   │   \u001b[0m\u001b[32m'Hermes Germany GmbH is a subsidiary of the Hermes Group. They offer a variety of services, including package shop partnerships, becoming a contract partner, and a form for contract partners. \\n'\u001b[0m\n",
       "\u001b[2;32m│   \u001b[0m\u001b[1m)\u001b[0m\n",
       "\u001b[1m]\u001b[0m\n"
      ]
     },
     "metadata": {},
     "output_type": "display_data"
    }
   ],
   "source": [
    "def show_multi_steps(ms_res):\n",
    "    sub_qa = ms_res.metadata[\"sub_qa\"]\n",
    "    tuples = [(t[0], t[1].response) for t in sub_qa]\n",
    "    pp(tuples)\n",
    "\n",
    "show_multi_steps(ms_res)"
   ]
  },
  {
   "cell_type": "markdown",
   "metadata": {},
   "source": [
    "### Long context query"
   ]
  },
  {
   "cell_type": "code",
   "execution_count": 115,
   "metadata": {},
   "outputs": [
    {
     "name": "stderr",
     "output_type": "stream",
     "text": [
      "ic| lc_res: ('Hermes Germany GmbH is looking for a (Junior) Manager (m/w/d) HR Controlling '\n",
      "             'to join their team in Hamburg. The role involves creating reports and '\n",
      "             'presentations for internal and external stakeholders, supporting HR '\n",
      "             'processes and projects, and contributing new ideas and improvements. The '\n",
      "             'ideal candidate will have a degree in business, social sciences, or human '\n",
      "             'resource management, as well as some experience in internships, work-study '\n",
      "             'programs, or part-time jobs. They should also be comfortable working with '\n",
      "             'data and large numbers, have an interest in modern HR practices, and be '\n",
      "             'strong in problem-solving, self-organization, and goal-orientation. Hermes '\n",
      "             'offers a variety of benefits, including leading technologies, flexible work '\n",
      "             'hours, a comprehensive training program, and discounts on otto.de and other '\n",
      "             'shops. \n",
      "            ')\n"
     ]
    },
    {
     "data": {
      "text/plain": [
       "'Hermes Germany GmbH is looking for a (Junior) Manager (m/w/d) HR Controlling to join their team in Hamburg. The role involves creating reports and presentations for internal and external stakeholders, supporting HR processes and projects, and contributing new ideas and improvements. The ideal candidate will have a degree in business, social sciences, or human resource management, as well as some experience in internships, work-study programs, or part-time jobs. They should also be comfortable working with data and large numbers, have an interest in modern HR practices, and be strong in problem-solving, self-organization, and goal-orientation. Hermes offers a variety of benefits, including leading technologies, flexible work hours, a comprehensive training program, and discounts on otto.de and other shops. \\n'"
      ]
     },
     "execution_count": 115,
     "metadata": {},
     "output_type": "execute_result"
    }
   ],
   "source": [
    "lc_res = lc_query_engine(query)\n",
    "ic(lc_res)"
   ]
  },
  {
   "cell_type": "markdown",
   "metadata": {},
   "source": [
    "## Setup route query engine"
   ]
  },
  {
   "cell_type": "markdown",
   "metadata": {},
   "source": [
    "### Tools"
   ]
  },
  {
   "cell_type": "code",
   "execution_count": 116,
   "metadata": {},
   "outputs": [],
   "source": [
    "from llama_index.core.tools import QueryEngineTool\n",
    "\n",
    "vector_query_engine_tool = QueryEngineTool.from_defaults(\n",
    "    query_engine=vector_query_engine,\n",
    "    description=\"Useful for questions that can be easily answered.\",\n",
    ")\n",
    "\n",
    "multi_steps_query_engine_tool = QueryEngineTool.from_defaults(\n",
    "    query_engine=multi_steps_query_engine,\n",
    "    description=\"Useful for answerable but difficult questions that can be addressed by breaking down the question into multiple steps.\",\n",
    ")\n",
    "\n",
    "lc_query_engine_tool = QueryEngineTool.from_defaults(\n",
    "    query_engine=lc_query_engine,\n",
    "    description=\"Useful for the unanswerable questions that require full context to obtain results.\",\n",
    ")\n",
    "\n",
    "query_engine_tools = [\n",
    "    vector_query_engine_tool,\n",
    "    multi_steps_query_engine_tool,\n",
    "    lc_query_engine_tool,\n",
    "]"
   ]
  },
  {
   "cell_type": "markdown",
   "metadata": {},
   "source": [
    "### Final route query engine"
   ]
  },
  {
   "cell_type": "code",
   "execution_count": 117,
   "metadata": {},
   "outputs": [],
   "source": [
    "from llama_index.core.query_engine import RouterQueryEngine\n",
    "from llama_index.core.selectors.llm_selectors import LLMSingleSelector\n",
    "from llama_index.core.response_synthesizers import TreeSummarize\n",
    "\n",
    "router_query_engine = RouterQueryEngine(\n",
    "    selector=LLMSingleSelector.from_defaults(),\n",
    "    query_engine_tools=query_engine_tools,\n",
    "    summarizer=TreeSummarize(\n",
    "        streaming=streaming,\n",
    "        use_async=True,\n",
    "        verbose=verbose,\n",
    "    ),\n",
    "    verbose=verbose,\n",
    ")"
   ]
  },
  {
   "cell_type": "markdown",
   "metadata": {},
   "source": [
    "#### Simple question"
   ]
  },
  {
   "cell_type": "code",
   "execution_count": 118,
   "metadata": {},
   "outputs": [],
   "source": [
    "simply_query = \"What kind of content do you have?\""
   ]
  },
  {
   "cell_type": "code",
   "execution_count": 119,
   "metadata": {},
   "outputs": [
    {
     "name": "stdout",
     "output_type": "stream",
     "text": [
      "\u001b[1;3;38;5;200mSelecting query engine 0: The question 'What kind of content do you have?' can be answered directly with a list of content types..\n",
      "\u001b[0m"
     ]
    },
    {
     "name": "stderr",
     "output_type": "stream",
     "text": [
      "ic| route_res.response: ('The content includes information about services, career opportunities, the '\n",
      "                         'company, and sustainability. \n",
      "                        ')\n"
     ]
    },
    {
     "data": {
      "text/plain": [
       "'The content includes information about services, career opportunities, the company, and sustainability. \\n'"
      ]
     },
     "execution_count": 119,
     "metadata": {},
     "output_type": "execute_result"
    }
   ],
   "source": [
    "route_res = router_query_engine.query(simply_query)\n",
    "ic(route_res.response)"
   ]
  },
  {
   "cell_type": "code",
   "execution_count": 120,
   "metadata": {},
   "outputs": [
    {
     "name": "stderr",
     "output_type": "stream",
     "text": [
      "ic| lc_res: Response(response='The content is about a job opening for a (Junior) Manager '\n",
      "                              '(m/w/d) HR Controlling at Hermes Germany GmbH. \n",
      "            ',\n",
      "                     source_nodes=[],\n",
      "                     metadata=None)\n"
     ]
    },
    {
     "data": {
      "text/plain": [
       "Response(response='The content is about a job opening for a (Junior) Manager (m/w/d) HR Controlling at Hermes Germany GmbH. \\n', source_nodes=[], metadata=None)"
      ]
     },
     "execution_count": 120,
     "metadata": {},
     "output_type": "execute_result"
    }
   ],
   "source": [
    "lc_res = lc_query_engine.query(simply_query)\n",
    "ic(lc_res)"
   ]
  },
  {
   "cell_type": "markdown",
   "metadata": {},
   "source": [
    "#### Normal question"
   ]
  },
  {
   "cell_type": "code",
   "execution_count": 121,
   "metadata": {},
   "outputs": [],
   "source": [
    "normal_query = \"Give a briefing of the job description and the company information.\""
   ]
  },
  {
   "cell_type": "code",
   "execution_count": 122,
   "metadata": {},
   "outputs": [
    {
     "name": "stdout",
     "output_type": "stream",
     "text": [
      "\u001b[1;3;38;5;200mSelecting query engine 1: The question requires breaking down into two parts: job description and company information. While both are answerable, they might require some research or effort..\n",
      "\u001b[0m\u001b[1;3;33m> Current query: Give a briefing of the job description and the company information.\n",
      "\u001b[0m\u001b[1;3;38;5;200m> New query: New question: **What is the job description and company information?** \n",
      "\n",
      "\u001b[0m\u001b[1;3;33m> Current query: Give a briefing of the job description and the company information.\n",
      "\u001b[0m\u001b[1;3;38;5;200m> New query: New question: **What are the responsibilities of the (Junior) Manager (m/w/d) HR Controlling position at Hermes Germany GmbH?** \n",
      "\n",
      "\u001b[0m\u001b[1;3;33m> Current query: Give a briefing of the job description and the company information.\n",
      "\u001b[0m\u001b[1;3;38;5;200m> New query: New question: **What are the requirements for the (Junior) Manager (m/w/d) HR Controlling position at Hermes Germany GmbH?** \n",
      "\n",
      "\u001b[0m\u001b[1;3;33m> Current query: Give a briefing of the job description and the company information.\n",
      "\u001b[0m\u001b[1;3;38;5;200m> New query: New question: **What are the benefits of working at Hermes Germany GmbH?** \n",
      "\n",
      "\u001b[0m"
     ]
    }
   ],
   "source": [
    "route_res = router_query_engine.query(normal_query)\n",
    "ic(route_res.response)"
   ]
  },
  {
   "cell_type": "code",
   "execution_count": null,
   "metadata": {},
   "outputs": [
    {
     "name": "stderr",
     "output_type": "stream",
     "text": [
      "ic| lc_res: Response(response='Hermes Germany GmbH is looking for a (Junior) Manager '\n",
      "                              '(m/w/d) HR Controlling to join their team in Hamburg. The '\n",
      "                              'role involves creating reports and presentations for '\n",
      "                              'internal and external stakeholders, supporting HR processes '\n",
      "                              'and projects, and contributing new ideas. The ideal '\n",
      "                              'candidate will have a degree in business, social sciences, '\n",
      "                              'or human resource management, as well as some work '\n",
      "                              'experience. Hermes offers a variety of benefits, including '\n",
      "                              'flexible work hours, a comprehensive training program, and '\n",
      "                              'discounts on otto.de and other shops. \n",
      "            ',\n",
      "                     source_nodes=[],\n",
      "                     metadata=None)\n"
     ]
    },
    {
     "data": {
      "text/plain": [
       "Response(response='Hermes Germany GmbH is looking for a (Junior) Manager (m/w/d) HR Controlling to join their team in Hamburg. The role involves creating reports and presentations for internal and external stakeholders, supporting HR processes and projects, and contributing new ideas. The ideal candidate will have a degree in business, social sciences, or human resource management, as well as some work experience. Hermes offers a variety of benefits, including flexible work hours, a comprehensive training program, and discounts on otto.de and other shops. \\n', source_nodes=[], metadata=None)"
      ]
     },
     "execution_count": 95,
     "metadata": {},
     "output_type": "execute_result"
    }
   ],
   "source": [
    "lc_res = lc_query_engine.query(normal_query)\n",
    "ic(lc_res)"
   ]
  },
  {
   "cell_type": "markdown",
   "metadata": {},
   "source": [
    "#### Long and complex question"
   ]
  },
  {
   "cell_type": "code",
   "execution_count": null,
   "metadata": {},
   "outputs": [],
   "source": [
    "long_complex_query='What do you know? Please give me a briefing based on your knowledge, avoiding prior information, provide details as much as possible.'"
   ]
  },
  {
   "cell_type": "code",
   "execution_count": null,
   "metadata": {},
   "outputs": [
    {
     "name": "stdout",
     "output_type": "stream",
     "text": [
      "\u001b[1;3;38;5;200mSelecting query engine 2: The question asks for a briefing based on knowledge, avoiding prior information, and providing details. This suggests a need for a comprehensive understanding of the context, which aligns with choice 3..\n",
      "\u001b[0m"
     ]
    },
    {
     "name": "stderr",
     "output_type": "stream",
     "text": [
      "ic| route_res.response: ('Hermes Germany GmbH is looking for a (Junior) Manager (m/w/d) HR Controlling '\n",
      "                         'to join their team in Hamburg. The position is full-time and requires '\n",
      "                         'experience in Finance, Controlling, and Human Resources. The team focuses on '\n",
      "                         'data and analytics related to employees, such as analyzing the gender quota '\n",
      "                         'in leadership positions and tracking sick leave trends. The role involves '\n",
      "                         'creating reports, presentations, and supporting HR projects. The ideal '\n",
      "                         'candidate has a degree in business, social sciences, or human resource '\n",
      "                         'management, and prior experience in internships, work-study programs, or '\n",
      "                         'part-time jobs. They should be comfortable working with data, interested in '\n",
      "                         'modern HR practices, and possess strong problem-solving, self-organization, '\n",
      "                         'and goal-oriented skills. Hermes offers a variety of benefits, including '\n",
      "                         'leading technologies, flexible work hours, a comprehensive training program, '\n",
      "                         'discounts on otto.de and other shops, and subsidized public '\n",
      "                         'transportation. \n",
      "                        ')\n"
     ]
    },
    {
     "data": {
      "text/plain": [
       "'Hermes Germany GmbH is looking for a (Junior) Manager (m/w/d) HR Controlling to join their team in Hamburg. The position is full-time and requires experience in Finance, Controlling, and Human Resources. The team focuses on data and analytics related to employees, such as analyzing the gender quota in leadership positions and tracking sick leave trends. The role involves creating reports, presentations, and supporting HR projects. The ideal candidate has a degree in business, social sciences, or human resource management, and prior experience in internships, work-study programs, or part-time jobs. They should be comfortable working with data, interested in modern HR practices, and possess strong problem-solving, self-organization, and goal-oriented skills. Hermes offers a variety of benefits, including leading technologies, flexible work hours, a comprehensive training program, discounts on otto.de and other shops, and subsidized public transportation. \\n'"
      ]
     },
     "execution_count": 97,
     "metadata": {},
     "output_type": "execute_result"
    }
   ],
   "source": [
    "route_res = router_query_engine.query(long_complex_query)\n",
    "ic(route_res.response)"
   ]
  },
  {
   "cell_type": "code",
   "execution_count": null,
   "metadata": {},
   "outputs": [
    {
     "name": "stderr",
     "output_type": "stream",
     "text": [
      "ic| lc_res: Response(response='Hermes Germany GmbH is looking for a (Junior) Manager '\n",
      "                              '(m/w/d) HR Controlling to join their team in Hamburg. The '\n",
      "                              'position is full-time and requires experience in Finance, '\n",
      "                              'Controlling, and Human Resources. The team focuses on data '\n",
      "                              'and analytics related to employees, such as analyzing the '\n",
      "                              'gender quota in leadership positions and tracking sick '\n",
      "                              'leave trends. The role involves creating reports, '\n",
      "                              'presentations, and supporting HR projects. The ideal '\n",
      "                              'candidate has a degree in business, social sciences, or '\n",
      "                              'human resource management, and prior experience in '\n",
      "                              'internships, work-study programs, or part-time jobs. They '\n",
      "                              'should be comfortable working with data, interested in '\n",
      "                              'modern HR practices, and possess strong problem-solving, '\n",
      "                              'self-organization, and goal-oriented skills. Hermes offers '\n",
      "                              'a variety of benefits, including leading technologies, '\n",
      "                              'flexible work hours, a comprehensive training program, '\n",
      "                              'discounts on otto.de and other shops, and subsidized public '\n",
      "                              'transportation. \n",
      "            ',\n",
      "                     source_nodes=[],\n",
      "                     metadata=None)\n"
     ]
    },
    {
     "data": {
      "text/plain": [
       "Response(response='Hermes Germany GmbH is looking for a (Junior) Manager (m/w/d) HR Controlling to join their team in Hamburg. The position is full-time and requires experience in Finance, Controlling, and Human Resources. The team focuses on data and analytics related to employees, such as analyzing the gender quota in leadership positions and tracking sick leave trends. The role involves creating reports, presentations, and supporting HR projects. The ideal candidate has a degree in business, social sciences, or human resource management, and prior experience in internships, work-study programs, or part-time jobs. They should be comfortable working with data, interested in modern HR practices, and possess strong problem-solving, self-organization, and goal-oriented skills. Hermes offers a variety of benefits, including leading technologies, flexible work hours, a comprehensive training program, discounts on otto.de and other shops, and subsidized public transportation. \\n', source_nodes=[], metadata=None)"
      ]
     },
     "execution_count": 98,
     "metadata": {},
     "output_type": "execute_result"
    }
   ],
   "source": [
    "lc_res = lc_query_engine.query(long_complex_query)\n",
    "ic(lc_res)"
   ]
  }
 ],
 "metadata": {
  "language_info": {
   "name": "python"
  }
 },
 "nbformat": 4,
 "nbformat_minor": 2
}
