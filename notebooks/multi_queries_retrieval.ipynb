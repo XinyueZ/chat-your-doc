{
  "nbformat": 4,
  "nbformat_minor": 0,
  "metadata": {
    "colab": {
      "provenance": [],
      "toc_visible": true,
      "machine_shape": "hm"
    },
    "kernelspec": {
      "name": "python3",
      "display_name": "Python 3"
    },
    "language_info": {
      "name": "python"
    },
    "widgets": {
      "application/vnd.jupyter.widget-state+json": {
        "8671c26834554e1baf5294663be845f6": {
          "model_module": "@jupyter-widgets/controls",
          "model_name": "HBoxModel",
          "model_module_version": "1.5.0",
          "state": {
            "_dom_classes": [],
            "_model_module": "@jupyter-widgets/controls",
            "_model_module_version": "1.5.0",
            "_model_name": "HBoxModel",
            "_view_count": null,
            "_view_module": "@jupyter-widgets/controls",
            "_view_module_version": "1.5.0",
            "_view_name": "HBoxView",
            "box_style": "",
            "children": [
              "IPY_MODEL_dba82c3571124e63aba7837f35c84d02",
              "IPY_MODEL_a415a9024bf54818a976804dd9fb8187",
              "IPY_MODEL_431150cfbcbd4ca5947be0309ed11bb9"
            ],
            "layout": "IPY_MODEL_fe2f7a234e9d40099f36f50b09fb98ef"
          }
        },
        "dba82c3571124e63aba7837f35c84d02": {
          "model_module": "@jupyter-widgets/controls",
          "model_name": "HTMLModel",
          "model_module_version": "1.5.0",
          "state": {
            "_dom_classes": [],
            "_model_module": "@jupyter-widgets/controls",
            "_model_module_version": "1.5.0",
            "_model_name": "HTMLModel",
            "_view_count": null,
            "_view_module": "@jupyter-widgets/controls",
            "_view_module_version": "1.5.0",
            "_view_name": "HTMLView",
            "description": "",
            "description_tooltip": null,
            "layout": "IPY_MODEL_3840cf250c6b40bbb67a6b5144d8cc83",
            "placeholder": "​",
            "style": "IPY_MODEL_f954ab26b4b147de89479033ee96d5a8",
            "value": "Parsing nodes: 100%"
          }
        },
        "a415a9024bf54818a976804dd9fb8187": {
          "model_module": "@jupyter-widgets/controls",
          "model_name": "FloatProgressModel",
          "model_module_version": "1.5.0",
          "state": {
            "_dom_classes": [],
            "_model_module": "@jupyter-widgets/controls",
            "_model_module_version": "1.5.0",
            "_model_name": "FloatProgressModel",
            "_view_count": null,
            "_view_module": "@jupyter-widgets/controls",
            "_view_module_version": "1.5.0",
            "_view_name": "ProgressView",
            "bar_style": "success",
            "description": "",
            "description_tooltip": null,
            "layout": "IPY_MODEL_a66f1cb455b944dda34f9712bc1ab455",
            "max": 10,
            "min": 0,
            "orientation": "horizontal",
            "style": "IPY_MODEL_85ae57cca3174d3eaf909bdef49f664d",
            "value": 10
          }
        },
        "431150cfbcbd4ca5947be0309ed11bb9": {
          "model_module": "@jupyter-widgets/controls",
          "model_name": "HTMLModel",
          "model_module_version": "1.5.0",
          "state": {
            "_dom_classes": [],
            "_model_module": "@jupyter-widgets/controls",
            "_model_module_version": "1.5.0",
            "_model_name": "HTMLModel",
            "_view_count": null,
            "_view_module": "@jupyter-widgets/controls",
            "_view_module_version": "1.5.0",
            "_view_name": "HTMLView",
            "description": "",
            "description_tooltip": null,
            "layout": "IPY_MODEL_4242146f1f2b41338b423ec5841995a1",
            "placeholder": "​",
            "style": "IPY_MODEL_893f236e02884661981bd5254e4d165d",
            "value": " 10/10 [00:00&lt;00:00, 268.56it/s]"
          }
        },
        "fe2f7a234e9d40099f36f50b09fb98ef": {
          "model_module": "@jupyter-widgets/base",
          "model_name": "LayoutModel",
          "model_module_version": "1.2.0",
          "state": {
            "_model_module": "@jupyter-widgets/base",
            "_model_module_version": "1.2.0",
            "_model_name": "LayoutModel",
            "_view_count": null,
            "_view_module": "@jupyter-widgets/base",
            "_view_module_version": "1.2.0",
            "_view_name": "LayoutView",
            "align_content": null,
            "align_items": null,
            "align_self": null,
            "border": null,
            "bottom": null,
            "display": null,
            "flex": null,
            "flex_flow": null,
            "grid_area": null,
            "grid_auto_columns": null,
            "grid_auto_flow": null,
            "grid_auto_rows": null,
            "grid_column": null,
            "grid_gap": null,
            "grid_row": null,
            "grid_template_areas": null,
            "grid_template_columns": null,
            "grid_template_rows": null,
            "height": null,
            "justify_content": null,
            "justify_items": null,
            "left": null,
            "margin": null,
            "max_height": null,
            "max_width": null,
            "min_height": null,
            "min_width": null,
            "object_fit": null,
            "object_position": null,
            "order": null,
            "overflow": null,
            "overflow_x": null,
            "overflow_y": null,
            "padding": null,
            "right": null,
            "top": null,
            "visibility": null,
            "width": null
          }
        },
        "3840cf250c6b40bbb67a6b5144d8cc83": {
          "model_module": "@jupyter-widgets/base",
          "model_name": "LayoutModel",
          "model_module_version": "1.2.0",
          "state": {
            "_model_module": "@jupyter-widgets/base",
            "_model_module_version": "1.2.0",
            "_model_name": "LayoutModel",
            "_view_count": null,
            "_view_module": "@jupyter-widgets/base",
            "_view_module_version": "1.2.0",
            "_view_name": "LayoutView",
            "align_content": null,
            "align_items": null,
            "align_self": null,
            "border": null,
            "bottom": null,
            "display": null,
            "flex": null,
            "flex_flow": null,
            "grid_area": null,
            "grid_auto_columns": null,
            "grid_auto_flow": null,
            "grid_auto_rows": null,
            "grid_column": null,
            "grid_gap": null,
            "grid_row": null,
            "grid_template_areas": null,
            "grid_template_columns": null,
            "grid_template_rows": null,
            "height": null,
            "justify_content": null,
            "justify_items": null,
            "left": null,
            "margin": null,
            "max_height": null,
            "max_width": null,
            "min_height": null,
            "min_width": null,
            "object_fit": null,
            "object_position": null,
            "order": null,
            "overflow": null,
            "overflow_x": null,
            "overflow_y": null,
            "padding": null,
            "right": null,
            "top": null,
            "visibility": null,
            "width": null
          }
        },
        "f954ab26b4b147de89479033ee96d5a8": {
          "model_module": "@jupyter-widgets/controls",
          "model_name": "DescriptionStyleModel",
          "model_module_version": "1.5.0",
          "state": {
            "_model_module": "@jupyter-widgets/controls",
            "_model_module_version": "1.5.0",
            "_model_name": "DescriptionStyleModel",
            "_view_count": null,
            "_view_module": "@jupyter-widgets/base",
            "_view_module_version": "1.2.0",
            "_view_name": "StyleView",
            "description_width": ""
          }
        },
        "a66f1cb455b944dda34f9712bc1ab455": {
          "model_module": "@jupyter-widgets/base",
          "model_name": "LayoutModel",
          "model_module_version": "1.2.0",
          "state": {
            "_model_module": "@jupyter-widgets/base",
            "_model_module_version": "1.2.0",
            "_model_name": "LayoutModel",
            "_view_count": null,
            "_view_module": "@jupyter-widgets/base",
            "_view_module_version": "1.2.0",
            "_view_name": "LayoutView",
            "align_content": null,
            "align_items": null,
            "align_self": null,
            "border": null,
            "bottom": null,
            "display": null,
            "flex": null,
            "flex_flow": null,
            "grid_area": null,
            "grid_auto_columns": null,
            "grid_auto_flow": null,
            "grid_auto_rows": null,
            "grid_column": null,
            "grid_gap": null,
            "grid_row": null,
            "grid_template_areas": null,
            "grid_template_columns": null,
            "grid_template_rows": null,
            "height": null,
            "justify_content": null,
            "justify_items": null,
            "left": null,
            "margin": null,
            "max_height": null,
            "max_width": null,
            "min_height": null,
            "min_width": null,
            "object_fit": null,
            "object_position": null,
            "order": null,
            "overflow": null,
            "overflow_x": null,
            "overflow_y": null,
            "padding": null,
            "right": null,
            "top": null,
            "visibility": null,
            "width": null
          }
        },
        "85ae57cca3174d3eaf909bdef49f664d": {
          "model_module": "@jupyter-widgets/controls",
          "model_name": "ProgressStyleModel",
          "model_module_version": "1.5.0",
          "state": {
            "_model_module": "@jupyter-widgets/controls",
            "_model_module_version": "1.5.0",
            "_model_name": "ProgressStyleModel",
            "_view_count": null,
            "_view_module": "@jupyter-widgets/base",
            "_view_module_version": "1.2.0",
            "_view_name": "StyleView",
            "bar_color": null,
            "description_width": ""
          }
        },
        "4242146f1f2b41338b423ec5841995a1": {
          "model_module": "@jupyter-widgets/base",
          "model_name": "LayoutModel",
          "model_module_version": "1.2.0",
          "state": {
            "_model_module": "@jupyter-widgets/base",
            "_model_module_version": "1.2.0",
            "_model_name": "LayoutModel",
            "_view_count": null,
            "_view_module": "@jupyter-widgets/base",
            "_view_module_version": "1.2.0",
            "_view_name": "LayoutView",
            "align_content": null,
            "align_items": null,
            "align_self": null,
            "border": null,
            "bottom": null,
            "display": null,
            "flex": null,
            "flex_flow": null,
            "grid_area": null,
            "grid_auto_columns": null,
            "grid_auto_flow": null,
            "grid_auto_rows": null,
            "grid_column": null,
            "grid_gap": null,
            "grid_row": null,
            "grid_template_areas": null,
            "grid_template_columns": null,
            "grid_template_rows": null,
            "height": null,
            "justify_content": null,
            "justify_items": null,
            "left": null,
            "margin": null,
            "max_height": null,
            "max_width": null,
            "min_height": null,
            "min_width": null,
            "object_fit": null,
            "object_position": null,
            "order": null,
            "overflow": null,
            "overflow_x": null,
            "overflow_y": null,
            "padding": null,
            "right": null,
            "top": null,
            "visibility": null,
            "width": null
          }
        },
        "893f236e02884661981bd5254e4d165d": {
          "model_module": "@jupyter-widgets/controls",
          "model_name": "DescriptionStyleModel",
          "model_module_version": "1.5.0",
          "state": {
            "_model_module": "@jupyter-widgets/controls",
            "_model_module_version": "1.5.0",
            "_model_name": "DescriptionStyleModel",
            "_view_count": null,
            "_view_module": "@jupyter-widgets/base",
            "_view_module_version": "1.2.0",
            "_view_name": "StyleView",
            "description_width": ""
          }
        },
        "497ecbc0df594ec58ff9c00964489ec6": {
          "model_module": "@jupyter-widgets/controls",
          "model_name": "HBoxModel",
          "model_module_version": "1.5.0",
          "state": {
            "_dom_classes": [],
            "_model_module": "@jupyter-widgets/controls",
            "_model_module_version": "1.5.0",
            "_model_name": "HBoxModel",
            "_view_count": null,
            "_view_module": "@jupyter-widgets/controls",
            "_view_module_version": "1.5.0",
            "_view_name": "HBoxView",
            "box_style": "",
            "children": [
              "IPY_MODEL_362d5f803df64b8fb30a86cb063a67fb",
              "IPY_MODEL_e56af80533a94038b5ece13d17945f9f",
              "IPY_MODEL_5c82eadf398f4d02959cf092a87dda7b"
            ],
            "layout": "IPY_MODEL_3b7aada5cc6e4f5dbe44253e01c2035e"
          }
        },
        "362d5f803df64b8fb30a86cb063a67fb": {
          "model_module": "@jupyter-widgets/controls",
          "model_name": "HTMLModel",
          "model_module_version": "1.5.0",
          "state": {
            "_dom_classes": [],
            "_model_module": "@jupyter-widgets/controls",
            "_model_module_version": "1.5.0",
            "_model_name": "HTMLModel",
            "_view_count": null,
            "_view_module": "@jupyter-widgets/controls",
            "_view_module_version": "1.5.0",
            "_view_name": "HTMLView",
            "description": "",
            "description_tooltip": null,
            "layout": "IPY_MODEL_82120c65b5634f4ca4a7427968478b8f",
            "placeholder": "​",
            "style": "IPY_MODEL_78ddc37dec4547e69a4be650b7d51b14",
            "value": "Generating embeddings: 100%"
          }
        },
        "e56af80533a94038b5ece13d17945f9f": {
          "model_module": "@jupyter-widgets/controls",
          "model_name": "FloatProgressModel",
          "model_module_version": "1.5.0",
          "state": {
            "_dom_classes": [],
            "_model_module": "@jupyter-widgets/controls",
            "_model_module_version": "1.5.0",
            "_model_name": "FloatProgressModel",
            "_view_count": null,
            "_view_module": "@jupyter-widgets/controls",
            "_view_module_version": "1.5.0",
            "_view_name": "ProgressView",
            "bar_style": "success",
            "description": "",
            "description_tooltip": null,
            "layout": "IPY_MODEL_514d2596f1c6471d9e4282138f7d8e54",
            "max": 160,
            "min": 0,
            "orientation": "horizontal",
            "style": "IPY_MODEL_7be5e55c998e44c199d7834e9cc29a1b",
            "value": 160
          }
        },
        "5c82eadf398f4d02959cf092a87dda7b": {
          "model_module": "@jupyter-widgets/controls",
          "model_name": "HTMLModel",
          "model_module_version": "1.5.0",
          "state": {
            "_dom_classes": [],
            "_model_module": "@jupyter-widgets/controls",
            "_model_module_version": "1.5.0",
            "_model_name": "HTMLModel",
            "_view_count": null,
            "_view_module": "@jupyter-widgets/controls",
            "_view_module_version": "1.5.0",
            "_view_name": "HTMLView",
            "description": "",
            "description_tooltip": null,
            "layout": "IPY_MODEL_c128dd6f58974e869bfacd2b305a20b1",
            "placeholder": "​",
            "style": "IPY_MODEL_c158dd96890c4020b09bcd7f0cf310f0",
            "value": " 160/160 [00:04&lt;00:00, 40.16it/s]"
          }
        },
        "3b7aada5cc6e4f5dbe44253e01c2035e": {
          "model_module": "@jupyter-widgets/base",
          "model_name": "LayoutModel",
          "model_module_version": "1.2.0",
          "state": {
            "_model_module": "@jupyter-widgets/base",
            "_model_module_version": "1.2.0",
            "_model_name": "LayoutModel",
            "_view_count": null,
            "_view_module": "@jupyter-widgets/base",
            "_view_module_version": "1.2.0",
            "_view_name": "LayoutView",
            "align_content": null,
            "align_items": null,
            "align_self": null,
            "border": null,
            "bottom": null,
            "display": null,
            "flex": null,
            "flex_flow": null,
            "grid_area": null,
            "grid_auto_columns": null,
            "grid_auto_flow": null,
            "grid_auto_rows": null,
            "grid_column": null,
            "grid_gap": null,
            "grid_row": null,
            "grid_template_areas": null,
            "grid_template_columns": null,
            "grid_template_rows": null,
            "height": null,
            "justify_content": null,
            "justify_items": null,
            "left": null,
            "margin": null,
            "max_height": null,
            "max_width": null,
            "min_height": null,
            "min_width": null,
            "object_fit": null,
            "object_position": null,
            "order": null,
            "overflow": null,
            "overflow_x": null,
            "overflow_y": null,
            "padding": null,
            "right": null,
            "top": null,
            "visibility": null,
            "width": null
          }
        },
        "82120c65b5634f4ca4a7427968478b8f": {
          "model_module": "@jupyter-widgets/base",
          "model_name": "LayoutModel",
          "model_module_version": "1.2.0",
          "state": {
            "_model_module": "@jupyter-widgets/base",
            "_model_module_version": "1.2.0",
            "_model_name": "LayoutModel",
            "_view_count": null,
            "_view_module": "@jupyter-widgets/base",
            "_view_module_version": "1.2.0",
            "_view_name": "LayoutView",
            "align_content": null,
            "align_items": null,
            "align_self": null,
            "border": null,
            "bottom": null,
            "display": null,
            "flex": null,
            "flex_flow": null,
            "grid_area": null,
            "grid_auto_columns": null,
            "grid_auto_flow": null,
            "grid_auto_rows": null,
            "grid_column": null,
            "grid_gap": null,
            "grid_row": null,
            "grid_template_areas": null,
            "grid_template_columns": null,
            "grid_template_rows": null,
            "height": null,
            "justify_content": null,
            "justify_items": null,
            "left": null,
            "margin": null,
            "max_height": null,
            "max_width": null,
            "min_height": null,
            "min_width": null,
            "object_fit": null,
            "object_position": null,
            "order": null,
            "overflow": null,
            "overflow_x": null,
            "overflow_y": null,
            "padding": null,
            "right": null,
            "top": null,
            "visibility": null,
            "width": null
          }
        },
        "78ddc37dec4547e69a4be650b7d51b14": {
          "model_module": "@jupyter-widgets/controls",
          "model_name": "DescriptionStyleModel",
          "model_module_version": "1.5.0",
          "state": {
            "_model_module": "@jupyter-widgets/controls",
            "_model_module_version": "1.5.0",
            "_model_name": "DescriptionStyleModel",
            "_view_count": null,
            "_view_module": "@jupyter-widgets/base",
            "_view_module_version": "1.2.0",
            "_view_name": "StyleView",
            "description_width": ""
          }
        },
        "514d2596f1c6471d9e4282138f7d8e54": {
          "model_module": "@jupyter-widgets/base",
          "model_name": "LayoutModel",
          "model_module_version": "1.2.0",
          "state": {
            "_model_module": "@jupyter-widgets/base",
            "_model_module_version": "1.2.0",
            "_model_name": "LayoutModel",
            "_view_count": null,
            "_view_module": "@jupyter-widgets/base",
            "_view_module_version": "1.2.0",
            "_view_name": "LayoutView",
            "align_content": null,
            "align_items": null,
            "align_self": null,
            "border": null,
            "bottom": null,
            "display": null,
            "flex": null,
            "flex_flow": null,
            "grid_area": null,
            "grid_auto_columns": null,
            "grid_auto_flow": null,
            "grid_auto_rows": null,
            "grid_column": null,
            "grid_gap": null,
            "grid_row": null,
            "grid_template_areas": null,
            "grid_template_columns": null,
            "grid_template_rows": null,
            "height": null,
            "justify_content": null,
            "justify_items": null,
            "left": null,
            "margin": null,
            "max_height": null,
            "max_width": null,
            "min_height": null,
            "min_width": null,
            "object_fit": null,
            "object_position": null,
            "order": null,
            "overflow": null,
            "overflow_x": null,
            "overflow_y": null,
            "padding": null,
            "right": null,
            "top": null,
            "visibility": null,
            "width": null
          }
        },
        "7be5e55c998e44c199d7834e9cc29a1b": {
          "model_module": "@jupyter-widgets/controls",
          "model_name": "ProgressStyleModel",
          "model_module_version": "1.5.0",
          "state": {
            "_model_module": "@jupyter-widgets/controls",
            "_model_module_version": "1.5.0",
            "_model_name": "ProgressStyleModel",
            "_view_count": null,
            "_view_module": "@jupyter-widgets/base",
            "_view_module_version": "1.2.0",
            "_view_name": "StyleView",
            "bar_color": null,
            "description_width": ""
          }
        },
        "c128dd6f58974e869bfacd2b305a20b1": {
          "model_module": "@jupyter-widgets/base",
          "model_name": "LayoutModel",
          "model_module_version": "1.2.0",
          "state": {
            "_model_module": "@jupyter-widgets/base",
            "_model_module_version": "1.2.0",
            "_model_name": "LayoutModel",
            "_view_count": null,
            "_view_module": "@jupyter-widgets/base",
            "_view_module_version": "1.2.0",
            "_view_name": "LayoutView",
            "align_content": null,
            "align_items": null,
            "align_self": null,
            "border": null,
            "bottom": null,
            "display": null,
            "flex": null,
            "flex_flow": null,
            "grid_area": null,
            "grid_auto_columns": null,
            "grid_auto_flow": null,
            "grid_auto_rows": null,
            "grid_column": null,
            "grid_gap": null,
            "grid_row": null,
            "grid_template_areas": null,
            "grid_template_columns": null,
            "grid_template_rows": null,
            "height": null,
            "justify_content": null,
            "justify_items": null,
            "left": null,
            "margin": null,
            "max_height": null,
            "max_width": null,
            "min_height": null,
            "min_width": null,
            "object_fit": null,
            "object_position": null,
            "order": null,
            "overflow": null,
            "overflow_x": null,
            "overflow_y": null,
            "padding": null,
            "right": null,
            "top": null,
            "visibility": null,
            "width": null
          }
        },
        "c158dd96890c4020b09bcd7f0cf310f0": {
          "model_module": "@jupyter-widgets/controls",
          "model_name": "DescriptionStyleModel",
          "model_module_version": "1.5.0",
          "state": {
            "_model_module": "@jupyter-widgets/controls",
            "_model_module_version": "1.5.0",
            "_model_name": "DescriptionStyleModel",
            "_view_count": null,
            "_view_module": "@jupyter-widgets/base",
            "_view_module_version": "1.2.0",
            "_view_name": "StyleView",
            "description_width": ""
          }
        }
      }
    }
  },
  "cells": [
    {
      "cell_type": "code",
      "execution_count": 215,
      "metadata": {
        "colab": {
          "base_uri": "https://localhost:8080/"
        },
        "id": "ZOEicaShh-1j",
        "outputId": "471d5486-6a9c-4a98-c170-68ff8b7f8016"
      },
      "outputs": [
        {
          "output_type": "stream",
          "name": "stdout",
          "text": [
            "\u001b[31mERROR: pip's dependency resolver does not currently take into account all the packages that are installed. This behaviour is the source of the following dependency conflicts.\n",
            "torchaudio 2.1.0+cu121 requires torch==2.1.0, but you have torch 2.2.0 which is incompatible.\n",
            "torchdata 0.7.0 requires torch==2.1.0, but you have torch 2.2.0 which is incompatible.\n",
            "torchtext 0.16.0 requires torch==2.1.0, but you have torch 2.2.0 which is incompatible.\n",
            "torchvision 0.16.0+cu121 requires torch==2.1.0, but you have torch 2.2.0 which is incompatible.\u001b[0m\u001b[31m\n",
            "\u001b[0m\u001b[31mERROR: pip's dependency resolver does not currently take into account all the packages that are installed. This behaviour is the source of the following dependency conflicts.\n",
            "llama-index-embeddings-huggingface 0.1.1 requires torch<3.0.0,>=2.1.2, but you have torch 2.1.0 which is incompatible.\u001b[0m\u001b[31m\n",
            "\u001b[0m"
          ]
        }
      ],
      "source": [
        "import locale\n",
        "locale.getpreferredencoding = lambda: \"UTF-8\"\n",
        "\n",
        "%pip install -q transformers\n",
        "%pip install -q loguru\n",
        "%pip install -q openai langchain langchain[docarray] tiktoken unstructured\n",
        "%pip install -q llama-index==0.10.4 chromadb loguru pypdf  sentence_transformers llama-index-embeddings-huggingface\n",
        "%pip install -q pdf2image  pdfminer.six\n",
        "%pip install -q pillow-heif\n",
        "%pip install -q unstructured-inference\n",
        "%pip install -q pikepdf"
      ]
    },
    {
      "cell_type": "code",
      "source": [
        "import openai\n",
        "\n",
        "from google.colab import userdata\n",
        "openai.api_key = userdata.get('OPENAI_API_KEY')"
      ],
      "metadata": {
        "id": "Z-fy2Iy9if0M"
      },
      "execution_count": 216,
      "outputs": []
    },
    {
      "cell_type": "code",
      "source": [
        "!wget -O Baidu-Inc-Code-of-Business-Conduct-and-Ethics.pdf https://dl.dropbox.com/scl/fi/boxb3mvc0mv7d7tndmy0j/BAIDU-INC.-CODE-OF-BUSINESS-CONDUCT-AND-ETHICS.pdf?rlkey=gs378jtvi6gwzy0ncn0jx0876\n",
        "FILE_NAME = \"./Baidu-Inc-Code-of-Business-Conduct-and-Ethics.pdf\""
      ],
      "metadata": {
        "colab": {
          "base_uri": "https://localhost:8080/"
        },
        "id": "nEWAFwCKiiYA",
        "outputId": "dd51b7d0-3efa-4361-ec24-b8d6da96d925"
      },
      "execution_count": 217,
      "outputs": [
        {
          "output_type": "stream",
          "name": "stdout",
          "text": [
            "--2024-02-14 16:21:27--  https://dl.dropbox.com/scl/fi/boxb3mvc0mv7d7tndmy0j/BAIDU-INC.-CODE-OF-BUSINESS-CONDUCT-AND-ETHICS.pdf?rlkey=gs378jtvi6gwzy0ncn0jx0876\n",
            "Resolving dl.dropbox.com (dl.dropbox.com)... 162.125.71.15, 2620:100:6021:15::a27d:410f\n",
            "Connecting to dl.dropbox.com (dl.dropbox.com)|162.125.71.15|:443... connected.\n",
            "HTTP request sent, awaiting response... 302 Found\n",
            "Location: https://dl.dropboxusercontent.com/scl/fi/boxb3mvc0mv7d7tndmy0j/BAIDU-INC.-CODE-OF-BUSINESS-CONDUCT-AND-ETHICS.pdf?rlkey=gs378jtvi6gwzy0ncn0jx0876 [following]\n",
            "--2024-02-14 16:21:28--  https://dl.dropboxusercontent.com/scl/fi/boxb3mvc0mv7d7tndmy0j/BAIDU-INC.-CODE-OF-BUSINESS-CONDUCT-AND-ETHICS.pdf?rlkey=gs378jtvi6gwzy0ncn0jx0876\n",
            "Resolving dl.dropboxusercontent.com (dl.dropboxusercontent.com)... 162.125.70.15, 2620:100:6021:15::a27d:410f\n",
            "Connecting to dl.dropboxusercontent.com (dl.dropboxusercontent.com)|162.125.70.15|:443... connected.\n",
            "HTTP request sent, awaiting response... 200 OK\n",
            "Length: 221928 (217K) [application/pdf]\n",
            "Saving to: ‘Baidu-Inc-Code-of-Business-Conduct-and-Ethics.pdf’\n",
            "\n",
            "Baidu-Inc-Code-of-B 100%[===================>] 216.73K   517KB/s    in 0.4s    \n",
            "\n",
            "2024-02-14 16:21:30 (517 KB/s) - ‘Baidu-Inc-Code-of-Business-Conduct-and-Ethics.pdf’ saved [221928/221928]\n",
            "\n"
          ]
        }
      ]
    },
    {
      "cell_type": "markdown",
      "source": [
        "## Similarity K"
      ],
      "metadata": {
        "id": "XaFs7K5fRh17"
      }
    },
    {
      "cell_type": "code",
      "source": [
        "K = 5"
      ],
      "metadata": {
        "id": "pVA9_OfQqFjO"
      },
      "execution_count": 218,
      "outputs": []
    },
    {
      "cell_type": "markdown",
      "source": [
        "## LangChain"
      ],
      "metadata": {
        "id": "iO3-yl9QjEHC"
      }
    },
    {
      "cell_type": "code",
      "source": [
        "from langchain.vectorstores import Chroma\n",
        "from langchain.chat_models import ChatOpenAI\n",
        "from langchain.prompts import ChatPromptTemplate\n",
        "from langchain.embeddings import OpenAIEmbeddings\n",
        "from langchain.schema.runnable import RunnablePassthrough\n",
        "from langchain.schema.output_parser import StrOutputParser\n",
        "from langchain.retrievers.multi_query import MultiQueryRetriever\n",
        "from langchain.text_splitter import SentenceTransformersTokenTextSplitter\n",
        "from langchain.document_loaders import PyPDFLoader, UnstructuredPDFLoader\n",
        "\n",
        "from typing import Any, List\n",
        "from rich.pretty import pprint\n",
        "\n",
        "def pretty_print(title: str=None, content: Any=None):\n",
        "    if title is None:\n",
        "        print(content)\n",
        "        return\n",
        "    print(title)\n",
        "    pprint(content)\n",
        "\n",
        "from IPython.display import display, HTML"
      ],
      "metadata": {
        "id": "3xJeDlTQjDF9"
      },
      "execution_count": 219,
      "outputs": []
    },
    {
      "cell_type": "code",
      "source": [
        "import logging\n",
        "logging.basicConfig()\n",
        "logging.getLogger(\"langchain.retrievers.multi_query\").setLevel(logging.INFO)"
      ],
      "metadata": {
        "id": "Q_dD6hKLt_wv"
      },
      "execution_count": 184,
      "outputs": []
    },
    {
      "cell_type": "code",
      "source": [
        "#@title load data { vertical-output: true}\n",
        "loader = UnstructuredPDFLoader(FILE_NAME)\n",
        "docs = loader.load()"
      ],
      "metadata": {
        "id": "b-Ggt8a3kcGb"
      },
      "execution_count": 185,
      "outputs": []
    },
    {
      "cell_type": "code",
      "source": [
        "#@title splitting { vertical-output: true}\n",
        "text_splitter = SentenceTransformersTokenTextSplitter()\n",
        "texts = text_splitter.split_documents(docs)"
      ],
      "metadata": {
        "id": "vmaxcYXalOxJ"
      },
      "execution_count": 186,
      "outputs": []
    },
    {
      "cell_type": "code",
      "source": [
        "#@title indexing { vertical-output: true}\n",
        "emb = OpenAIEmbeddings(openai_api_key=openai.api_key)\n",
        "vec_db = Chroma.from_documents(documents=texts, embedding=emb)"
      ],
      "metadata": {
        "id": "hs7j9wAelJuL"
      },
      "execution_count": 187,
      "outputs": []
    },
    {
      "cell_type": "code",
      "source": [
        "#@title LLM { vertical-output: true}\n",
        "lc_model = ChatOpenAI(openai_api_key=openai.api_key, temperature=1.5)"
      ],
      "metadata": {
        "id": "3nYzPF7VqTB8"
      },
      "execution_count": 223,
      "outputs": []
    },
    {
      "cell_type": "code",
      "source": [
        "#@title base-retriever { vertical-output: true}\n",
        "base_retriever = vec_db.as_retriever(k=K)"
      ],
      "metadata": {
        "id": "TZ_zh-LNpLkY"
      },
      "execution_count": 224,
      "outputs": []
    },
    {
      "cell_type": "code",
      "source": [
        "#@title MultiQueryRetriever { vertical-output: true}\n",
        "final_retriever = MultiQueryRetriever.from_llm(base_retriever, lc_model)"
      ],
      "metadata": {
        "id": "-OhjHJolqi-q"
      },
      "execution_count": 225,
      "outputs": []
    },
    {
      "cell_type": "code",
      "source": [
        "#@title QA chain { vertical-output: true}\n",
        "tmpl = \"\"\"\n",
        "You are an assistant to answer a question from user with a context.\n",
        "\n",
        "Context:\n",
        "{context}\n",
        "\n",
        "Question:\n",
        "{question}\n",
        "\n",
        "The response should be presented as a list of key points, after creating the title of the content,\n",
        "    formatted in HTML with appropriate markup for clarity and organization.\n",
        "\"\"\"\n",
        "prompt = ChatPromptTemplate.from_template(tmpl)\n",
        "chain = {\"question\": RunnablePassthrough(), \"context\": final_retriever} \\\n",
        "        | prompt \\\n",
        "        | lc_model \\\n",
        "        | StrOutputParser() \\\n",
        "\n",
        "result = chain.invoke(\"Waht is the doc talking about?\")\n",
        "\n",
        "display(HTML(result))"
      ],
      "metadata": {
        "colab": {
          "base_uri": "https://localhost:8080/",
          "height": 438
        },
        "id": "fPGGAzezq4nK",
        "outputId": "b1d7bded-be63-414a-ff3f-a27746336160"
      },
      "execution_count": 226,
      "outputs": [
        {
          "output_type": "stream",
          "name": "stderr",
          "text": [
            "INFO:langchain.retrievers.multi_query:Generated queries: ['1. What is the main topic discussed in the document?', '2. Could you provide a brief summary of the subject matter of the document?', '3. What does the document primarily cover and discuss?']\n"
          ]
        },
        {
          "output_type": "display_data",
          "data": {
            "text/plain": [
              "<IPython.core.display.HTML object>"
            ],
            "text/html": [
              "<h2>Title: Baidu Inc. Code of Business Conduct and Ethics</h2>\n",
              "\n",
              "<ol>\n",
              "<li>Dereliction of duties, failure to discharge responsibility, duty, and obligation</li>\n",
              "<li>Disparagement of the company and others without legitimate grounds</li>\n",
              "<li>Misrepresentations regarding personal experience, physical, and medical conditions</li>\n",
              "<li>Deception and violations of rules regarding deceptive acts</li>\n",
              "<li>Avoiding conflicts of interest and protecting undisclosed information</li>\n",
              "<li>Commitment to free and open competition</li>\n",
              "<li>Avoidance of actions contrary to laws governing competitive practices</li>\n",
              "<li>Avoidance of illegal or improper payments; emphasis on fair transactions and proper reporting of discounts</li>\n",
              "<li>Complete, accurate, and timely disclosure of financial information</li>\n",
              "<li>Compliance with regulations on accounting procedures and book entries</li>\n",
              "<li>Importance of public communication, credibility, and reputation</li>\n",
              "<li>Compliance with Regulation FD for fair disclosure and communication with the investment community</li>\n",
              "<li>Compliance with outside agreement requirements and prohibition of attempts to corrupt it making outside universwersl monetary advances Alger government officials'></li>\n",
              "<li>Compliance with other policies and rules related to business partners, suppliers, and clients</li>\n",
              "<li>Confidentiality and protection of company information and assets</li>\n",
              "<li>Proper use and disclosure of company information</li>\n",
              "<li>Protection of company assets against damage, theft, and misuse</li>\n",
              "</ol>"
            ]
          },
          "metadata": {}
        }
      ]
    },
    {
      "cell_type": "markdown",
      "source": [
        "## Llama-Index"
      ],
      "metadata": {
        "id": "HKLH_W5YtosC"
      }
    },
    {
      "cell_type": "code",
      "source": [
        "TEMPERATURE = 0.0\n",
        "SIM_TOP_K = 3\n",
        "RERANK_TOP_K = 3\n",
        "WIN_SZ = 1024"
      ],
      "metadata": {
        "id": "ba4INRSivKo9"
      },
      "execution_count": 205,
      "outputs": []
    },
    {
      "cell_type": "code",
      "source": [
        "import asyncio\n",
        "from tqdm.asyncio import tqdm\n",
        "\n",
        "import chromadb\n",
        "from chromadb.api.models.Collection import Collection\n",
        "\n",
        "from llama_index.core import (\n",
        "    ServiceContext,\n",
        "    SimpleDirectoryReader,\n",
        "    StorageContext,\n",
        "    VectorStoreIndex,\n",
        "    get_response_synthesizer,\n",
        ")\n",
        "from llama_index.core import QueryBundle\n",
        "from llama_index.llms.openai import OpenAI\n",
        "from llama_index.core import PromptTemplate\n",
        "from llama_index.core.llms.utils import LLMType\n",
        "from llama_index.core.schema import NodeWithScore\n",
        "from llama_index.core.indices.base import BaseIndex\n",
        "from llama_index.core.retrievers import BaseRetriever\n",
        "from llama_index.core.embeddings.utils import EmbedType\n",
        "from llama_index.core.node_parser import SentenceSplitter\n",
        "from llama_index.core.query_engine import RetrieverQueryEngine\n",
        "from llama_index.legacy.vector_stores import ChromaVectorStore\n",
        "from llama_index.core.node_parser import SentenceWindowNodeParser"
      ],
      "metadata": {
        "id": "oJPQLWM1vY6F"
      },
      "execution_count": 220,
      "outputs": []
    },
    {
      "cell_type": "code",
      "source": [
        "def create_service_context(llm: LLMType, embs: EmbedType) -> ServiceContext:\n",
        "    node_parser = SentenceWindowNodeParser.from_defaults(\n",
        "        window_size=WIN_SZ,\n",
        "        window_metadata_key=\"window\",\n",
        "        original_text_metadata_key=\"original_text\",\n",
        "    )\n",
        "\n",
        "    return ServiceContext.from_defaults(\n",
        "        node_parser=node_parser,\n",
        "        llm=llm,\n",
        "        embed_model=embs,\n",
        "    )\n",
        "\n",
        "def create_vectors(path: str, collection_name=\"tmp_collection\") -> Collection:\n",
        "    chroma_client = chromadb.PersistentClient(path)\n",
        "    # https://github.com/run-llama/llama_index/issues/6528\n",
        "    return chroma_client.get_or_create_collection(collection_name)\n",
        "\n",
        "def create_storage_context() -> StorageContext:\n",
        "    path: str = \"./db/LlamaIndexMultiVectorSummaryAgent\"\n",
        "    return StorageContext.from_defaults(\n",
        "        vector_store=ChromaVectorStore(create_vectors(path=path))\n",
        "    )\n"
      ],
      "metadata": {
        "id": "IcvpNSyCvSLM"
      },
      "execution_count": 207,
      "outputs": []
    },
    {
      "cell_type": "code",
      "source": [
        "#@title load data { vertical-output: true}\n",
        "input_files: List[str] = [FILE_NAME]\n",
        "docs: SimpleDirectoryReader = SimpleDirectoryReader( input_files=input_files).load_data()"
      ],
      "metadata": {
        "id": "beZdBuHQx7cb"
      },
      "execution_count": 208,
      "outputs": []
    },
    {
      "cell_type": "code",
      "source": [
        "#@title LLM { vertical-output: true}\n",
        "li_model = OpenAI(model=\"gpt-4-1106-preview\", temperature=TEMPERATURE)"
      ],
      "metadata": {
        "id": "9m-UNs3RPEZX"
      },
      "execution_count": 209,
      "outputs": []
    },
    {
      "cell_type": "code",
      "source": [
        "#@title splitting and indexing { vertical-output: true}\n",
        "embs = \"local:BAAI/bge-small-en-v1.5\"\n",
        "\n",
        "service_context: ServiceContext = (\n",
        "    create_service_context(li_model, embs)\n",
        ")\n",
        "\n",
        "storage_context: StorageContext = (\n",
        "    create_storage_context()\n",
        ")\n",
        "\n",
        "vector_index: BaseIndex = VectorStoreIndex.from_documents(\n",
        "    docs,\n",
        "    service_context=service_context,\n",
        "    #storage_context=storage_context,\n",
        "    show_progress=True,\n",
        ")"
      ],
      "metadata": {
        "colab": {
          "base_uri": "https://localhost:8080/",
          "height": 136,
          "referenced_widgets": [
            "8671c26834554e1baf5294663be845f6",
            "dba82c3571124e63aba7837f35c84d02",
            "a415a9024bf54818a976804dd9fb8187",
            "431150cfbcbd4ca5947be0309ed11bb9",
            "fe2f7a234e9d40099f36f50b09fb98ef",
            "3840cf250c6b40bbb67a6b5144d8cc83",
            "f954ab26b4b147de89479033ee96d5a8",
            "a66f1cb455b944dda34f9712bc1ab455",
            "85ae57cca3174d3eaf909bdef49f664d",
            "4242146f1f2b41338b423ec5841995a1",
            "893f236e02884661981bd5254e4d165d",
            "497ecbc0df594ec58ff9c00964489ec6",
            "362d5f803df64b8fb30a86cb063a67fb",
            "e56af80533a94038b5ece13d17945f9f",
            "5c82eadf398f4d02959cf092a87dda7b",
            "3b7aada5cc6e4f5dbe44253e01c2035e",
            "82120c65b5634f4ca4a7427968478b8f",
            "78ddc37dec4547e69a4be650b7d51b14",
            "514d2596f1c6471d9e4282138f7d8e54",
            "7be5e55c998e44c199d7834e9cc29a1b",
            "c128dd6f58974e869bfacd2b305a20b1",
            "c158dd96890c4020b09bcd7f0cf310f0"
          ]
        },
        "id": "TBsCXvjOyY8Q",
        "outputId": "c57bf17d-fe0b-40c8-d2e9-223b1615137d"
      },
      "execution_count": 210,
      "outputs": [
        {
          "output_type": "stream",
          "name": "stderr",
          "text": [
            "<ipython-input-207-0e0cc94f5ebb>:8: DeprecationWarning: Call to deprecated class method from_defaults. (ServiceContext is deprecated, please use `llama_index.settings.Settings` instead.) -- Deprecated since version 0.10.0.\n",
            "  return ServiceContext.from_defaults(\n"
          ]
        },
        {
          "output_type": "display_data",
          "data": {
            "text/plain": [
              "Parsing nodes:   0%|          | 0/10 [00:00<?, ?it/s]"
            ],
            "application/vnd.jupyter.widget-view+json": {
              "version_major": 2,
              "version_minor": 0,
              "model_id": "8671c26834554e1baf5294663be845f6"
            }
          },
          "metadata": {}
        },
        {
          "output_type": "display_data",
          "data": {
            "text/plain": [
              "Generating embeddings:   0%|          | 0/160 [00:00<?, ?it/s]"
            ],
            "application/vnd.jupyter.widget-view+json": {
              "version_major": 2,
              "version_minor": 0,
              "model_id": "497ecbc0df594ec58ff9c00964489ec6"
            }
          },
          "metadata": {}
        }
      ]
    },
    {
      "cell_type": "code",
      "source": [
        "#@title base-retriever { vertical-output: true}\n",
        "base_retriever = vector_index.as_retriever(similarity_top_k=K)"
      ],
      "metadata": {
        "id": "XtEzLaWMR0TJ"
      },
      "execution_count": 211,
      "outputs": []
    },
    {
      "cell_type": "code",
      "source": [
        "#@title MultiQueriesRetriever { vertical-output: true}\n",
        "class MultiQueriesRetriever(BaseRetriever):\n",
        "    def __init__(self, base_retriever: BaseRetriever, model:OpenAI):\n",
        "        self.template = PromptTemplate(\"\"\"You are an AI language model assistant. Your task is to generate Five\n",
        "    different versions of the given user question to retrieve relevant documents from a vector\n",
        "    database. By generating multiple perspectives on the user question, your goal is to help\n",
        "    the user overcome some of the limitations of the distance-based similarity search.\n",
        "    Provide these alternative questions seperated by newlines.\n",
        "    Original question: {question}\"\"\")\n",
        "        self._retrievers = [base_retriever]\n",
        "        self.base_retriever = base_retriever\n",
        "        self.model = model\n",
        "\n",
        "    def gen_queries(self, query) -> List[str]:\n",
        "        gen_queries_model = OpenAI(model=\"gpt-3-turbo\", temperature=1.5)\n",
        "        prompt = self.template.format(question=query)\n",
        "        res = self.model.complete(prompt)\n",
        "        return res.text.split(\"\\n\")\n",
        "\n",
        "    async def run_gen_queries(self,generated_queries: List[str]) -> List[NodeWithScore]:\n",
        "        tasks = list(map(lambda q: self.base_retriever.aretrieve(q), generated_queries))\n",
        "        res = await tqdm.gather(*tasks)\n",
        "        return res[0]\n",
        "\n",
        "    def _retrieve(self, query_bundle: QueryBundle) -> List[NodeWithScore]:\n",
        "        return list()\n",
        "\n",
        "    async def _aretrieve(self, query_bundle: QueryBundle) -> List[NodeWithScore]:\n",
        "        query = query_bundle.query_str\n",
        "        generated_queries = self.gen_queries(query)\n",
        "        query_res = await self.run_gen_queries(generated_queries)\n",
        "        return query_res\n",
        "\n",
        "\n",
        "\n",
        "mr = MultiQueriesRetriever(base_retriever, li_model)\n",
        "\n",
        "\n",
        "#ls = mr.gen_queries(\"Who is Bill Gates?\")\n",
        "#pretty_print(\"ls\", ls)\n",
        "#rls = await mr.run_gen_queries(ls)\n",
        "#pretty_print(\"rls\", rls)"
      ],
      "metadata": {
        "id": "lDNyYFAvSZNs"
      },
      "execution_count": 221,
      "outputs": []
    },
    {
      "cell_type": "code",
      "source": [
        "#@title QA query { vertical-output: true}\n",
        "query_text = \"\"\"What is the topic of content?\n",
        "\n",
        "    The response should be presented as a list of key points, after creating the title of the content,\n",
        "    formatted in HTML with appropriate markup for clarity and organization.\n",
        "    \"\"\"\n",
        "final_res = await RetrieverQueryEngine(mr).aquery(query_text)\n",
        "display(HTML(final_res.response))"
      ],
      "metadata": {
        "colab": {
          "base_uri": "https://localhost:8080/",
          "height": 211
        },
        "id": "wRU-lM66SyzV",
        "outputId": "fc7fb082-5471-4edd-8605-31b41ac97bfc"
      },
      "execution_count": 222,
      "outputs": [
        {
          "output_type": "stream",
          "name": "stderr",
          "text": [
            "\n",
            "  0%|          | 0/5 [00:00<?, ?it/s]\u001b[A\n",
            "100%|██████████| 5/5 [00:00<00:00, 28.36it/s]\n"
          ]
        },
        {
          "output_type": "display_data",
          "data": {
            "text/plain": [
              "<IPython.core.display.HTML object>"
            ],
            "text/html": [
              "<h2>Content Topic: Baidu Inc. Code of Business Conduct and Ethics</h2>\n",
              "<ul>\n",
              "<li>Employee's responsibility to coordinate response to requests for information from securities market professionals or shareholders</li>\n",
              "<li>Summary of the company's employment practices</li>\n",
              "<li>Employee's responsibility to refer media inquiries or requests to the Investor Relations Manager</li>\n",
              "<li>Company's policy to provide timely, accurate, and complete information in response to public requests</li>\n",
              "<li>Impact of news media and investment community on the company's reputation</li>\n",
              "</ul>"
            ]
          },
          "metadata": {}
        }
      ]
    }
  ]
}