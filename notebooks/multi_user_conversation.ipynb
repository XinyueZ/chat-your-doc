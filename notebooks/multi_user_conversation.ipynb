{
 "cells": [
  {
   "cell_type": "code",
   "execution_count": 78,
   "metadata": {},
   "outputs": [],
   "source": [
    "from typing import Any, Dict, List\n",
    "\n",
    "import nest_asyncio\n",
    "from langchain.chains import ConversationChain\n",
    "from langchain.memory import ConversationBufferMemory\n",
    "from langchain.prompts import (HumanMessagePromptTemplate, MessagesPlaceholder)\n",
    "from langchain.schema.output_parser import StrOutputParser\n",
    "\n",
    "from langchain_core.language_models.chat_models import BaseChatModel\n",
    "from langchain_core.messages import AIMessage, HumanMessage, SystemMessage\n",
    "from langchain_core.prompts import ChatPromptTemplate\n",
    "from langchain_core.prompts.chat import ChatPromptTemplate\n",
    "\n",
    "\n",
    "from langchain_core.runnables.base import RunnableSerializable\n",
    "\n",
    "from langchain_openai import ChatOpenAI\n",
    "\n",
    "from langchain_groq import ChatGroq\n",
    "from rich.pretty import pprint\n",
    "\n",
    "nest_asyncio.apply()\n",
    "\n",
    "\n",
    "def pretty_print(title: str = None, content: Any = None) -> None:\n",
    "    if title is None:\n",
    "        print(content)\n",
    "        return\n",
    "    print(title)\n",
    "    pprint(content)"
   ]
  },
  {
   "cell_type": "code",
   "execution_count": 79,
   "metadata": {},
   "outputs": [],
   "source": [
    "import os\n",
    "os.environ[\"LANGCHAIN_PROJECT\"] = \"langchain_grah\" # Monitored by LangSmith"
   ]
  },
  {
   "cell_type": "code",
   "execution_count": 80,
   "metadata": {},
   "outputs": [],
   "source": [
    "llm: BaseChatModel = ChatOpenAI(model=\"gpt-4-turbo-preview\", temperature=0)  "
   ]
  },
  {
   "cell_type": "markdown",
   "metadata": {},
   "source": [
    "#### Warm-up: Single-user conversation\n",
    "\n",
    "We use `ConversationBufferMemory` and `ConversationChain` to build classical LangChain chatbot."
   ]
  },
  {
   "cell_type": "code",
   "execution_count": null,
   "metadata": {},
   "outputs": [],
   "source": [
    "memory = ConversationBufferMemory(return_messages=True)\n",
    "mem_vars = memory.load_memory_variables({})\n",
    "pretty_print(\"Memory Variables init\", mem_vars)\n",
    "pretty_print(\"Memory Variables in str list (buffer_as_str) init\", memory.buffer_as_str)\n",
    "\n",
    "memory.buffer.append(HumanMessage(content=\"Hello\", id=\"user1\"))\n",
    "memory.buffer.append(HumanMessage(content=\"oha?\", id=\"user1\"))\n",
    "memory.buffer.append(HumanMessage(content=\"lol\" , id=\"user1\"))\n",
    "memory.buffer.append(HumanMessage(content=\"happy\" , id=\"user1\"))\n",
    "mem_vars = memory.load_memory_variables({})\n",
    "pretty_print(\"Memory Variables\", mem_vars)\n",
    "pretty_print(\"Memory Variables in str list (buffer_as_str)\", memory.buffer_as_str)\n",
    "\n",
    "model = llm\n",
    "conversation = ConversationChain(llm=model, memory=memory)\n",
    "conv_chain_out = conversation.invoke(input = \"\"\"How many users are involved in this conversation?\n",
    "                     Notice: Give me a simple result with the only number of users, ie. 1 or 2 or 3....\"\"\")\n",
    "pretty_print(\"Conversation Chain Output\", conv_chain_out)\n",
    "\n",
    "conv_chain_out = conversation.invoke(\n",
    "    input=\"\"\"Give the list of all the messages from \"user1\" \n",
    "and put them in a \"[]\" without any instruction text, newlines or additional information.\n",
    "\"\"\",\n",
    ")\n",
    "pretty_print(\"user1 conv_chain_out\", conv_chain_out)"
   ]
  },
  {
   "cell_type": "markdown",
   "metadata": {},
   "source": [
    "#### Multi-user conversation\n",
    "\n",
    "We use `ConversationBufferMemory` and `ConversationChain` to build classical LangChain chatbot.\n",
    "\n",
    "We logically use the id of `HumanMessage` to identify different users.\n",
    "\n",
    "The data in `ConversationBufferMemory` expands with each invocation so that the memory grows automatically."
   ]
  },
  {
   "cell_type": "code",
   "execution_count": null,
   "metadata": {},
   "outputs": [],
   "source": [
    "memory = ConversationBufferMemory(return_messages=True)\n",
    "mem_vars = memory.load_memory_variables({})\n",
    "pretty_print(\"Memory Variables init\", mem_vars)\n",
    "pretty_print(\"Memory Variables in str list (buffer_as_str) init\", memory.buffer_as_str)\n",
    "\n",
    "memory.buffer.append(AIMessage(content=\"This is a Gaming Place\"))\n",
    "mem_vars = memory.load_memory_variables({})\n",
    "pretty_print(\"Memory Variables seeded\", mem_vars)\n",
    "pretty_print(\n",
    "    \"Memory Variables in str list (buffer_as_str), seeded\", memory.buffer_as_str\n",
    ")\n",
    "\n",
    "memory.buffer.append(HumanMessage(content=\"Hello dudes\", id=\"user_1\"))\n",
    "memory.buffer.append(HumanMessage(content=\"hi\", id=\"user_2\"))\n",
    "memory.buffer.append(HumanMessage(content=\"yo yo\", id=\"user_3\"))\n",
    "memory.buffer.append(HumanMessage(content=\"nice to see you\", id=\"user_4\"))\n",
    "memory.buffer.append(HumanMessage(content=\"glad to see you\", id=\"user_5\"))\n",
    "memory.buffer.append(HumanMessage(content=\"good luck dudes\", id=\"user_5\"))\n",
    "memory.buffer.append(HumanMessage(content=\"I'm a great user\", id=\"user_5\"))\n",
    "memory.buffer.append(HumanMessage(content=\"great to see you\", id=\"user_6\"))\n",
    "# memory.buffer.append(HumanMessage(content=\"Merci\", id=\"user_7\"))\n",
    "# memory.buffer.append(HumanMessage(content=\"Danke sehr\", id=\"user_8\"))\n",
    "memory.buffer.append(HumanMessage(content=\"Merci\", id=\"user_XL\"))\n",
    "memory.buffer.append(HumanMessage(content=\"Danke sehr\", id=\"user_XXL\"))\n",
    "mem_vars = memory.load_memory_variables({})\n",
    "pretty_print(\"Memory Variables\", mem_vars)\n",
    "pretty_print(\"Memory Variables in str list (buffer_as_str)\", memory.buffer_as_str)\n",
    "\n",
    "model = llm\n",
    "conversation = ConversationChain(llm=model, memory=memory)\n",
    "conv_chain_out = conversation.invoke(\n",
    "    input=\"\"\"How many users are involved in this conversation?\n",
    "Also provide the list of user ids. The user ids can be any format unique to each user.\n",
    "Use 'id' as unique identifier for each user.\n",
    "\n",
    "Notice: \n",
    "\n",
    "Give me a simple result with the only number of users without any instruction text or additional information,ie. 1,2 or 3....\n",
    "Output format: \n",
    "user_count=x, x is number of users\n",
    "\n",
    "The user ids will be saved inside \"[]\".\n",
    "Output format: \n",
    "user_ids=[user_1,.......]\"\"\"\n",
    ")\n",
    "pretty_print(\"conv_chain_out\", conv_chain_out)\n",
    "\n",
    "\n",
    "conv_chain_out = conversation.invoke(\n",
    "    input=\"\"\"Give the list of all the messages from \"user_5\" and put them in a \"[]\" without any instruction text, newlines or additional information.\n",
    "\"\"\",\n",
    ")\n",
    "pretty_print(\"user_5 conv_chain_out\", conv_chain_out)\n",
    "\n",
    "\n",
    "# def build_chain_without_parsing(\n",
    "#     model: BaseChatModel,\n",
    "# ) -> RunnableSerializable[Dict, str]:\n",
    "#     prompt = ChatPromptTemplate.from_messages(\n",
    "#         [\n",
    "#             SystemMessage(\n",
    "#                 content=(\"You are an AI assistant.\" \"You can handle the query of user.\")\n",
    "#             ),\n",
    "#             MessagesPlaceholder(variable_name=\"history\"),\n",
    "#             HumanMessagePromptTemplate.from_template(\"{query}\"),\n",
    "#         ]\n",
    "#     )\n",
    "#     return prompt | model\n",
    "\n",
    "\n",
    "# conv_chain_history = conv_chain_out[\"history\"]\n",
    "# pretty_print(\"conv_chain_history\", conv_chain_history)\n",
    "\n",
    "\n",
    "# res = (build_chain_without_parsing(model) | StrOutputParser()).invoke(\n",
    "#     {\n",
    "#         \"history\": conv_chain_history,\n",
    "#         \"query\": \"\"\"Give the list of all the messages from \"user_5\" and put them in a \"[]\" without any instruction text or additional information.\n",
    "# \"\"\",\n",
    "#     }\n",
    "# )\n",
    "# pretty_print(\"Result\", res)"
   ]
  },
  {
   "cell_type": "markdown",
   "metadata": {},
   "source": [
    "### Multi-user conversation with LCEL "
   ]
  },
  {
   "cell_type": "markdown",
   "metadata": {},
   "source": [
    "#### Failed approach: Directly use the history of `ConversationBufferMemory`: `cxt_history`\n",
    "\n",
    "**This approach won't work**.\n",
    "\n",
    "Assign the `ConversationBufferMemory` history to `MessagesPlaceholder(variable_name=\"history\")` in the chain. \n",
    "\n",
    "However, this will not work as the model input cannot access any user-ids. \n",
    "\n",
    "Verify with LangSmith."
   ]
  },
  {
   "cell_type": "code",
   "execution_count": null,
   "metadata": {},
   "outputs": [],
   "source": [
    "memory = ConversationBufferMemory(return_messages=True)\n",
    "mem_vars = memory.load_memory_variables({})\n",
    "pretty_print(\"Memory Variables init\", mem_vars)\n",
    "pretty_print(\"Memory Variables in str list (buffer_as_str) init\", memory.buffer_as_str)\n",
    "\n",
    "memory.buffer.append(AIMessage(content=\"This is a Gaming Place\"))\n",
    "mem_vars = memory.load_memory_variables({})\n",
    "pretty_print(\"Memory Variables seeded\", mem_vars)\n",
    "pretty_print(\n",
    "    \"Memory Variables in str list (buffer_as_str), seeded\", memory.buffer_as_str\n",
    ")\n",
    "\n",
    "memory.buffer.append(HumanMessage(content=\"Hello dudes\", id=\"user-1\"))\n",
    "memory.buffer.append(HumanMessage(content=\"hi\", id=\"user-2\"))\n",
    "memory.buffer.append(HumanMessage(content=\"yo yo\", id=\"user-3\"))\n",
    "memory.buffer.append(HumanMessage(content=\"nice to see you\", id=\"user-4\"))\n",
    "memory.buffer.append(HumanMessage(content=\"hoho dude\", id=\"user-5\"))\n",
    "memory.buffer.append(HumanMessage(content=\"o lalala\", id=\"user-L\"))\n",
    "memory.buffer.append(HumanMessage(content=\"guten tag\", id=\"user-XXXXL\"))\n",
    "memory.buffer.append(HumanMessage(content=\"Let's get started, ok?\", id=\"user-1\"))\n",
    "memory.buffer.append(HumanMessage(content=\"YES\", id=\"user-2\"))\n",
    "memory.buffer.append(HumanMessage(content=\"YEAH....\", id=\"user-3\"))\n",
    "memory.buffer.append(HumanMessage(content=\"Cool..\", id=\"user-4\"))\n",
    "memory.buffer.append(HumanMessage(content=\"yup.\", id=\"user-5\"))\n",
    "memory.buffer.append(HumanMessage(content=\"Great.....\", id=\"user-L\"))\n",
    "# memory.buffer.append(HumanMessage(content=\"Merci\", id=\"user_7\"))\n",
    "# memory.buffer.append(HumanMessage(content=\"Danke sehr\", id=\"user_8\"))\n",
    "memory.buffer.append(HumanMessage(content=\"Merci\", id=\"user_XL\"))\n",
    "memory.buffer.append(HumanMessage(content=\"Danke sehr\", id=\"user_XXL\"))\n",
    "mem_vars = memory.load_memory_variables({})\n",
    "pretty_print(\"Memory Variables\", mem_vars)\n",
    "pretty_print(\"Memory Variables in str list (buffer_as_str)\", memory.buffer_as_str)\n",
    "\n",
    "\n",
    "cxt_history = memory.load_memory_variables({})[\"history\"]\n",
    "pretty_print(\"cxt_history\", cxt_history)\n",
    "\n",
    "\n",
    "def build_chain_without_parsing(\n",
    "    model: BaseChatModel,\n",
    ") -> RunnableSerializable[Dict, str]:\n",
    "    prompt = ChatPromptTemplate.from_messages(\n",
    "        [\n",
    "            SystemMessage(\n",
    "                content=(\"You are an AI assistant.\" \"You can handle the query of user.\")\n",
    "            ),\n",
    "            MessagesPlaceholder(variable_name=\"history\"),\n",
    "            HumanMessagePromptTemplate.from_template(\"{query}\"),\n",
    "        ]\n",
    "    )\n",
    "    return (\n",
    "        prompt | model\n",
    "    )  # comment model, you can see the filled template after invoking the chain.\n",
    "\n",
    "\n",
    "model = llm\n",
    "\n",
    "human_query = HumanMessage(\n",
    "    content=\"\"\"Calculate the unique count of 'id'.\"\"\",\n",
    "    id=\"user-X\",\n",
    ")\n",
    "\n",
    "res = build_chain_without_parsing(model).invoke(\n",
    "    {\n",
    "        \"history\": cxt_history,\n",
    "        \"query\": human_query.content,\n",
    "    }\n",
    ")\n",
    "pretty_print(\"Result\", res)\n",
    "\n",
    "# Update memory\n",
    "memory.buffer.append(human_query)\n",
    "memory.buffer.append(res)\n",
    "cxt_history = memory.load_memory_variables({})[\"history\"]\n",
    "pretty_print(\"cxt_history\", cxt_history)\n",
    "\n",
    "\n",
    "res = (build_chain_without_parsing(model) | StrOutputParser()).invoke(\n",
    "    {\n",
    "        \"history\": cxt_history,\n",
    "        \"query\": \"\"\"What did \"user-5\" speak? When he spoke more than once,\n",
    "give me the list of messages of \"user-5\" and put all messages of \"user-5\" in '[]' without any instruction text, newlines or additional information.\n",
    "\"\"\",\n",
    "    }\n",
    ")\n",
    "pretty_print(\"Result\", res)"
   ]
  },
  {
   "cell_type": "markdown",
   "metadata": {},
   "source": [
    "#### Convert all history into a single string: `cxt_string`\n",
    "\n",
    "We can compress all history messages, including system and AI messages, into a single string and provide it to the model as history.\n",
    "\n",
    "All historical information messages are combined into a single string, including the user's role, user ID, and message content, a limitation of the LangSmith overview, ie:\n",
    "\n",
    "```python\n",
    "ChatPromptValue(\n",
    "│   messages=[\n",
    "│   │   SystemMessage(content='You are an AI assistant.You can handle the query of user.'),\n",
    "│   │   HumanMessage(\n",
    "│   │   │   content='The following is a friendly conversation between a human and an AI. The AI is talkative and provides lots of specific details from its context. \\nIf the AI does not know the answer to a question, it truthfully says it does not know.\\n\\nNotice: The \\'uid\\' is user id, \\'role\\' is user role for human or ai, \\'content\\' is the message content.\\n{\\n{\\n\"uid\":\"\",\\n\"role\":\"ai\",\\n\"content\": \"This is a Gaming Place\"\\n},\\n{\\n\"uid\":\"user-1\",\\n\"role\":\"human\",\\n\"content\": \"Hello dudes\"\\n},\\n{\\n\"uid\":\"user-2\",\\n\"role\":\"human\",\\n\"content\": \"hi\"\\n},\\n{\\n\"uid\":\"user-3\",\\n\"role\":\"human\",\\n\"content\": \"yo yo\"\\n},\\n{\\n\"uid\":\"user-4\",\\n\"role\":\"human\",\\n\"content\": \"nice to see you\"\\n},\\n{\\n\"uid\":\"user-5\",\\n\"role\":\"human\",\\n\"content\": \"hoho dude\"\\n},\\n{\\n\"uid\":\"user-L\",\\n\"role\":\"human\",\\n\"content\": \"o lalala\"\\n},\\n{\\n\"uid\":\"user-XXXXL\",\\n\"role\":\"human\",\\n\"content\": \"guten tag\"\\n},\\n{\\n\"uid\":\"user-1\",\\n\"role\":\"human\",\\n\"content\": \"Let\\'s get started, ok?\"\\n},\\n{\\n\"uid\":\"user-2\",\\n\"role\":\"human\",\\n\"content\": \"YES\"\\n},\\n{\\n\"uid\":\"user-3\",\\n\"role\":\"human\",\\n\"content\": \"YEAH....\"\\n},\\n{\\n\"uid\":\"user-4\",\\n\"role\":\"human\",\\n\"content\": \"Cool..\"\\n},\\n{\\n\"uid\":\"user-5\",\\n\"role\":\"human\",\\n\"content\": \"yup.\"\\n},\\n{\\n\"uid\":\"user-L\",\\n\"role\":\"human\",\\n\"content\": \"Great.....\"\\n},\\n{\\n\"uid\":\"user-XXXXL\",\\n\"role\":\"human\",\\n\"content\": \"alles klar\"\\n},\\n{\\n\"uid\":\"user-5\",\\n\"role\":\"human\",\\n\"content\": \"I am the winner\"\\n}\\n}'\n",
    "│   │   ),\n",
    "│   │   HumanMessage(\n",
    "│   │   │   content='content=\\'How many users are involved in this conversation exclude the AI or System messages?\\\\nAlso provide the list of user ids. The user ids can be any format unique to each user.\\\\n\\\\nNotice: \\\\n\\\\nGive me a simple result with the only number of users without any instruction text or additional information,\\\\nkeep the result as simple as possible,ie. 1,2 or 3....\\\\nOutput format: \\\\nuser_count=x, x is number of users\\\\n\\\\nThe user ids will be saved inside \"[]\".\\\\nOutput format: \\\\nuser_ids=[user_1,.......]\\' id=\\'user-X\\''\n",
    "│   │   )\n",
    "│   ]\n",
    ")\n",
    "```\n",
    "\n",
    "Check `convert_memory_to_str()` for more details.\n",
    "\n",
    "Different from  `ConversationBufferMemory` and `ConversationChain` , the memory will not grow with each invocation,\n",
    "\n",
    "we need to code the logic to update the memory.\n"
   ]
  },
  {
   "cell_type": "code",
   "execution_count": 130,
   "metadata": {},
   "outputs": [
    {
     "name": "stdout",
     "output_type": "stream",
     "text": [
      "Memory Variables init\n"
     ]
    },
    {
     "data": {
      "text/html": [
       "<pre style=\"white-space:pre;overflow-x:auto;line-height:normal;font-family:Menlo,'DejaVu Sans Mono',consolas,'Courier New',monospace\"><span style=\"font-weight: bold\">{</span><span style=\"color: #008000; text-decoration-color: #008000\">'history'</span>: <span style=\"font-weight: bold\">[]}</span>\n",
       "</pre>\n"
      ],
      "text/plain": [
       "\u001b[1m{\u001b[0m\u001b[32m'history'\u001b[0m: \u001b[1m[\u001b[0m\u001b[1m]\u001b[0m\u001b[1m}\u001b[0m\n"
      ]
     },
     "metadata": {},
     "output_type": "display_data"
    },
    {
     "name": "stdout",
     "output_type": "stream",
     "text": [
      "Memory Variables in str list (buffer_as_str) init\n"
     ]
    },
    {
     "data": {
      "text/html": [
       "<pre style=\"white-space:pre;overflow-x:auto;line-height:normal;font-family:Menlo,'DejaVu Sans Mono',consolas,'Courier New',monospace\"><span style=\"color: #008000; text-decoration-color: #008000\">''</span>\n",
       "</pre>\n"
      ],
      "text/plain": [
       "\u001b[32m''\u001b[0m\n"
      ]
     },
     "metadata": {},
     "output_type": "display_data"
    },
    {
     "name": "stdout",
     "output_type": "stream",
     "text": [
      "Memory Variables seeded\n"
     ]
    },
    {
     "data": {
      "text/html": [
       "<pre style=\"white-space:pre;overflow-x:auto;line-height:normal;font-family:Menlo,'DejaVu Sans Mono',consolas,'Courier New',monospace\"><span style=\"font-weight: bold\">{</span><span style=\"color: #008000; text-decoration-color: #008000\">'history'</span>: <span style=\"font-weight: bold\">[</span><span style=\"color: #800080; text-decoration-color: #800080; font-weight: bold\">AIMessage</span><span style=\"font-weight: bold\">(</span><span style=\"color: #808000; text-decoration-color: #808000\">content</span>=<span style=\"color: #008000; text-decoration-color: #008000\">'This is a Gaming Place'</span><span style=\"font-weight: bold\">)]}</span>\n",
       "</pre>\n"
      ],
      "text/plain": [
       "\u001b[1m{\u001b[0m\u001b[32m'history'\u001b[0m: \u001b[1m[\u001b[0m\u001b[1;35mAIMessage\u001b[0m\u001b[1m(\u001b[0m\u001b[33mcontent\u001b[0m=\u001b[32m'This is a Gaming Place'\u001b[0m\u001b[1m)\u001b[0m\u001b[1m]\u001b[0m\u001b[1m}\u001b[0m\n"
      ]
     },
     "metadata": {},
     "output_type": "display_data"
    },
    {
     "name": "stdout",
     "output_type": "stream",
     "text": [
      "Memory Variables in str list (buffer_as_str), seeded\n"
     ]
    },
    {
     "data": {
      "text/html": [
       "<pre style=\"white-space:pre;overflow-x:auto;line-height:normal;font-family:Menlo,'DejaVu Sans Mono',consolas,'Courier New',monospace\"><span style=\"color: #008000; text-decoration-color: #008000\">'AI: This is a Gaming Place'</span>\n",
       "</pre>\n"
      ],
      "text/plain": [
       "\u001b[32m'AI: This is a Gaming Place'\u001b[0m\n"
      ]
     },
     "metadata": {},
     "output_type": "display_data"
    },
    {
     "name": "stdout",
     "output_type": "stream",
     "text": [
      "Memory Variables\n"
     ]
    },
    {
     "data": {
      "text/html": [
       "<pre style=\"white-space:pre;overflow-x:auto;line-height:normal;font-family:Menlo,'DejaVu Sans Mono',consolas,'Courier New',monospace\"><span style=\"font-weight: bold\">{</span>\n",
       "<span style=\"color: #7fbf7f; text-decoration-color: #7fbf7f\">│   </span><span style=\"color: #008000; text-decoration-color: #008000\">'history'</span>: <span style=\"font-weight: bold\">[</span>\n",
       "<span style=\"color: #7fbf7f; text-decoration-color: #7fbf7f\">│   │   </span><span style=\"color: #800080; text-decoration-color: #800080; font-weight: bold\">AIMessage</span><span style=\"font-weight: bold\">(</span><span style=\"color: #808000; text-decoration-color: #808000\">content</span>=<span style=\"color: #008000; text-decoration-color: #008000\">'This is a Gaming Place'</span><span style=\"font-weight: bold\">)</span>,\n",
       "<span style=\"color: #7fbf7f; text-decoration-color: #7fbf7f\">│   │   </span><span style=\"color: #800080; text-decoration-color: #800080; font-weight: bold\">HumanMessage</span><span style=\"font-weight: bold\">(</span><span style=\"color: #808000; text-decoration-color: #808000\">content</span>=<span style=\"color: #008000; text-decoration-color: #008000\">'Hello dudes'</span>, <span style=\"color: #808000; text-decoration-color: #808000\">id</span>=<span style=\"color: #008000; text-decoration-color: #008000\">'user-1'</span><span style=\"font-weight: bold\">)</span>,\n",
       "<span style=\"color: #7fbf7f; text-decoration-color: #7fbf7f\">│   │   </span><span style=\"color: #800080; text-decoration-color: #800080; font-weight: bold\">HumanMessage</span><span style=\"font-weight: bold\">(</span><span style=\"color: #808000; text-decoration-color: #808000\">content</span>=<span style=\"color: #008000; text-decoration-color: #008000\">'hi'</span>, <span style=\"color: #808000; text-decoration-color: #808000\">id</span>=<span style=\"color: #008000; text-decoration-color: #008000\">'user-2'</span><span style=\"font-weight: bold\">)</span>,\n",
       "<span style=\"color: #7fbf7f; text-decoration-color: #7fbf7f\">│   │   </span><span style=\"color: #800080; text-decoration-color: #800080; font-weight: bold\">HumanMessage</span><span style=\"font-weight: bold\">(</span><span style=\"color: #808000; text-decoration-color: #808000\">content</span>=<span style=\"color: #008000; text-decoration-color: #008000\">'yo yo'</span>, <span style=\"color: #808000; text-decoration-color: #808000\">id</span>=<span style=\"color: #008000; text-decoration-color: #008000\">'user-3'</span><span style=\"font-weight: bold\">)</span>,\n",
       "<span style=\"color: #7fbf7f; text-decoration-color: #7fbf7f\">│   │   </span><span style=\"color: #800080; text-decoration-color: #800080; font-weight: bold\">HumanMessage</span><span style=\"font-weight: bold\">(</span><span style=\"color: #808000; text-decoration-color: #808000\">content</span>=<span style=\"color: #008000; text-decoration-color: #008000\">'nice to see you'</span>, <span style=\"color: #808000; text-decoration-color: #808000\">id</span>=<span style=\"color: #008000; text-decoration-color: #008000\">'user-4'</span><span style=\"font-weight: bold\">)</span>,\n",
       "<span style=\"color: #7fbf7f; text-decoration-color: #7fbf7f\">│   │   </span><span style=\"color: #800080; text-decoration-color: #800080; font-weight: bold\">HumanMessage</span><span style=\"font-weight: bold\">(</span><span style=\"color: #808000; text-decoration-color: #808000\">content</span>=<span style=\"color: #008000; text-decoration-color: #008000\">'hoho dude'</span>, <span style=\"color: #808000; text-decoration-color: #808000\">id</span>=<span style=\"color: #008000; text-decoration-color: #008000\">'user-5'</span><span style=\"font-weight: bold\">)</span>,\n",
       "<span style=\"color: #7fbf7f; text-decoration-color: #7fbf7f\">│   │   </span><span style=\"color: #800080; text-decoration-color: #800080; font-weight: bold\">HumanMessage</span><span style=\"font-weight: bold\">(</span><span style=\"color: #808000; text-decoration-color: #808000\">content</span>=<span style=\"color: #008000; text-decoration-color: #008000\">'o lalala'</span>, <span style=\"color: #808000; text-decoration-color: #808000\">id</span>=<span style=\"color: #008000; text-decoration-color: #008000\">'user-L'</span><span style=\"font-weight: bold\">)</span>,\n",
       "<span style=\"color: #7fbf7f; text-decoration-color: #7fbf7f\">│   │   </span><span style=\"color: #800080; text-decoration-color: #800080; font-weight: bold\">HumanMessage</span><span style=\"font-weight: bold\">(</span><span style=\"color: #808000; text-decoration-color: #808000\">content</span>=<span style=\"color: #008000; text-decoration-color: #008000\">'guten tag'</span>, <span style=\"color: #808000; text-decoration-color: #808000\">id</span>=<span style=\"color: #008000; text-decoration-color: #008000\">'user-XXXXL'</span><span style=\"font-weight: bold\">)</span>,\n",
       "<span style=\"color: #7fbf7f; text-decoration-color: #7fbf7f\">│   │   </span><span style=\"color: #800080; text-decoration-color: #800080; font-weight: bold\">HumanMessage</span><span style=\"font-weight: bold\">(</span><span style=\"color: #808000; text-decoration-color: #808000\">content</span>=<span style=\"color: #008000; text-decoration-color: #008000\">\"Let's get started, ok?\"</span>, <span style=\"color: #808000; text-decoration-color: #808000\">id</span>=<span style=\"color: #008000; text-decoration-color: #008000\">'user-1'</span><span style=\"font-weight: bold\">)</span>,\n",
       "<span style=\"color: #7fbf7f; text-decoration-color: #7fbf7f\">│   │   </span><span style=\"color: #800080; text-decoration-color: #800080; font-weight: bold\">HumanMessage</span><span style=\"font-weight: bold\">(</span><span style=\"color: #808000; text-decoration-color: #808000\">content</span>=<span style=\"color: #008000; text-decoration-color: #008000\">'YES'</span>, <span style=\"color: #808000; text-decoration-color: #808000\">id</span>=<span style=\"color: #008000; text-decoration-color: #008000\">'user-2'</span><span style=\"font-weight: bold\">)</span>,\n",
       "<span style=\"color: #7fbf7f; text-decoration-color: #7fbf7f\">│   │   </span><span style=\"color: #800080; text-decoration-color: #800080; font-weight: bold\">HumanMessage</span><span style=\"font-weight: bold\">(</span><span style=\"color: #808000; text-decoration-color: #808000\">content</span>=<span style=\"color: #008000; text-decoration-color: #008000\">'YEAH....'</span>, <span style=\"color: #808000; text-decoration-color: #808000\">id</span>=<span style=\"color: #008000; text-decoration-color: #008000\">'user-3'</span><span style=\"font-weight: bold\">)</span>,\n",
       "<span style=\"color: #7fbf7f; text-decoration-color: #7fbf7f\">│   │   </span><span style=\"color: #800080; text-decoration-color: #800080; font-weight: bold\">HumanMessage</span><span style=\"font-weight: bold\">(</span><span style=\"color: #808000; text-decoration-color: #808000\">content</span>=<span style=\"color: #008000; text-decoration-color: #008000\">'Cool..'</span>, <span style=\"color: #808000; text-decoration-color: #808000\">id</span>=<span style=\"color: #008000; text-decoration-color: #008000\">'user-4'</span><span style=\"font-weight: bold\">)</span>,\n",
       "<span style=\"color: #7fbf7f; text-decoration-color: #7fbf7f\">│   │   </span><span style=\"color: #800080; text-decoration-color: #800080; font-weight: bold\">HumanMessage</span><span style=\"font-weight: bold\">(</span><span style=\"color: #808000; text-decoration-color: #808000\">content</span>=<span style=\"color: #008000; text-decoration-color: #008000\">'yup.'</span>, <span style=\"color: #808000; text-decoration-color: #808000\">id</span>=<span style=\"color: #008000; text-decoration-color: #008000\">'user-5'</span><span style=\"font-weight: bold\">)</span>,\n",
       "<span style=\"color: #7fbf7f; text-decoration-color: #7fbf7f\">│   │   </span><span style=\"color: #800080; text-decoration-color: #800080; font-weight: bold\">HumanMessage</span><span style=\"font-weight: bold\">(</span><span style=\"color: #808000; text-decoration-color: #808000\">content</span>=<span style=\"color: #008000; text-decoration-color: #008000\">'Great.....'</span>, <span style=\"color: #808000; text-decoration-color: #808000\">id</span>=<span style=\"color: #008000; text-decoration-color: #008000\">'user-L'</span><span style=\"font-weight: bold\">)</span>,\n",
       "<span style=\"color: #7fbf7f; text-decoration-color: #7fbf7f\">│   │   </span><span style=\"color: #800080; text-decoration-color: #800080; font-weight: bold\">HumanMessage</span><span style=\"font-weight: bold\">(</span><span style=\"color: #808000; text-decoration-color: #808000\">content</span>=<span style=\"color: #008000; text-decoration-color: #008000\">'alles klar'</span>, <span style=\"color: #808000; text-decoration-color: #808000\">id</span>=<span style=\"color: #008000; text-decoration-color: #008000\">'user-XXXXL'</span><span style=\"font-weight: bold\">)</span>,\n",
       "<span style=\"color: #7fbf7f; text-decoration-color: #7fbf7f\">│   │   </span><span style=\"color: #800080; text-decoration-color: #800080; font-weight: bold\">HumanMessage</span><span style=\"font-weight: bold\">(</span><span style=\"color: #808000; text-decoration-color: #808000\">content</span>=<span style=\"color: #008000; text-decoration-color: #008000\">'I am the winner'</span>, <span style=\"color: #808000; text-decoration-color: #808000\">id</span>=<span style=\"color: #008000; text-decoration-color: #008000\">'user-5'</span><span style=\"font-weight: bold\">)</span>\n",
       "<span style=\"color: #7fbf7f; text-decoration-color: #7fbf7f\">│   </span><span style=\"font-weight: bold\">]</span>\n",
       "<span style=\"font-weight: bold\">}</span>\n",
       "</pre>\n"
      ],
      "text/plain": [
       "\u001b[1m{\u001b[0m\n",
       "\u001b[2;32m│   \u001b[0m\u001b[32m'history'\u001b[0m: \u001b[1m[\u001b[0m\n",
       "\u001b[2;32m│   │   \u001b[0m\u001b[1;35mAIMessage\u001b[0m\u001b[1m(\u001b[0m\u001b[33mcontent\u001b[0m=\u001b[32m'This is a Gaming Place'\u001b[0m\u001b[1m)\u001b[0m,\n",
       "\u001b[2;32m│   │   \u001b[0m\u001b[1;35mHumanMessage\u001b[0m\u001b[1m(\u001b[0m\u001b[33mcontent\u001b[0m=\u001b[32m'Hello dudes'\u001b[0m, \u001b[33mid\u001b[0m=\u001b[32m'user-1'\u001b[0m\u001b[1m)\u001b[0m,\n",
       "\u001b[2;32m│   │   \u001b[0m\u001b[1;35mHumanMessage\u001b[0m\u001b[1m(\u001b[0m\u001b[33mcontent\u001b[0m=\u001b[32m'hi'\u001b[0m, \u001b[33mid\u001b[0m=\u001b[32m'user-2'\u001b[0m\u001b[1m)\u001b[0m,\n",
       "\u001b[2;32m│   │   \u001b[0m\u001b[1;35mHumanMessage\u001b[0m\u001b[1m(\u001b[0m\u001b[33mcontent\u001b[0m=\u001b[32m'yo yo'\u001b[0m, \u001b[33mid\u001b[0m=\u001b[32m'user-3'\u001b[0m\u001b[1m)\u001b[0m,\n",
       "\u001b[2;32m│   │   \u001b[0m\u001b[1;35mHumanMessage\u001b[0m\u001b[1m(\u001b[0m\u001b[33mcontent\u001b[0m=\u001b[32m'nice to see you'\u001b[0m, \u001b[33mid\u001b[0m=\u001b[32m'user-4'\u001b[0m\u001b[1m)\u001b[0m,\n",
       "\u001b[2;32m│   │   \u001b[0m\u001b[1;35mHumanMessage\u001b[0m\u001b[1m(\u001b[0m\u001b[33mcontent\u001b[0m=\u001b[32m'hoho dude'\u001b[0m, \u001b[33mid\u001b[0m=\u001b[32m'user-5'\u001b[0m\u001b[1m)\u001b[0m,\n",
       "\u001b[2;32m│   │   \u001b[0m\u001b[1;35mHumanMessage\u001b[0m\u001b[1m(\u001b[0m\u001b[33mcontent\u001b[0m=\u001b[32m'o lalala'\u001b[0m, \u001b[33mid\u001b[0m=\u001b[32m'user-L'\u001b[0m\u001b[1m)\u001b[0m,\n",
       "\u001b[2;32m│   │   \u001b[0m\u001b[1;35mHumanMessage\u001b[0m\u001b[1m(\u001b[0m\u001b[33mcontent\u001b[0m=\u001b[32m'guten tag'\u001b[0m, \u001b[33mid\u001b[0m=\u001b[32m'user-XXXXL'\u001b[0m\u001b[1m)\u001b[0m,\n",
       "\u001b[2;32m│   │   \u001b[0m\u001b[1;35mHumanMessage\u001b[0m\u001b[1m(\u001b[0m\u001b[33mcontent\u001b[0m=\u001b[32m\"Let\u001b[0m\u001b[32m's get started, ok?\"\u001b[0m, \u001b[33mid\u001b[0m=\u001b[32m'user-1'\u001b[0m\u001b[1m)\u001b[0m,\n",
       "\u001b[2;32m│   │   \u001b[0m\u001b[1;35mHumanMessage\u001b[0m\u001b[1m(\u001b[0m\u001b[33mcontent\u001b[0m=\u001b[32m'YES'\u001b[0m, \u001b[33mid\u001b[0m=\u001b[32m'user-2'\u001b[0m\u001b[1m)\u001b[0m,\n",
       "\u001b[2;32m│   │   \u001b[0m\u001b[1;35mHumanMessage\u001b[0m\u001b[1m(\u001b[0m\u001b[33mcontent\u001b[0m=\u001b[32m'YEAH....'\u001b[0m, \u001b[33mid\u001b[0m=\u001b[32m'user-3'\u001b[0m\u001b[1m)\u001b[0m,\n",
       "\u001b[2;32m│   │   \u001b[0m\u001b[1;35mHumanMessage\u001b[0m\u001b[1m(\u001b[0m\u001b[33mcontent\u001b[0m=\u001b[32m'Cool..'\u001b[0m, \u001b[33mid\u001b[0m=\u001b[32m'user-4'\u001b[0m\u001b[1m)\u001b[0m,\n",
       "\u001b[2;32m│   │   \u001b[0m\u001b[1;35mHumanMessage\u001b[0m\u001b[1m(\u001b[0m\u001b[33mcontent\u001b[0m=\u001b[32m'yup.'\u001b[0m, \u001b[33mid\u001b[0m=\u001b[32m'user-5'\u001b[0m\u001b[1m)\u001b[0m,\n",
       "\u001b[2;32m│   │   \u001b[0m\u001b[1;35mHumanMessage\u001b[0m\u001b[1m(\u001b[0m\u001b[33mcontent\u001b[0m=\u001b[32m'Great.....'\u001b[0m, \u001b[33mid\u001b[0m=\u001b[32m'user-L'\u001b[0m\u001b[1m)\u001b[0m,\n",
       "\u001b[2;32m│   │   \u001b[0m\u001b[1;35mHumanMessage\u001b[0m\u001b[1m(\u001b[0m\u001b[33mcontent\u001b[0m=\u001b[32m'alles klar'\u001b[0m, \u001b[33mid\u001b[0m=\u001b[32m'user-XXXXL'\u001b[0m\u001b[1m)\u001b[0m,\n",
       "\u001b[2;32m│   │   \u001b[0m\u001b[1;35mHumanMessage\u001b[0m\u001b[1m(\u001b[0m\u001b[33mcontent\u001b[0m=\u001b[32m'I am the winner'\u001b[0m, \u001b[33mid\u001b[0m=\u001b[32m'user-5'\u001b[0m\u001b[1m)\u001b[0m\n",
       "\u001b[2;32m│   \u001b[0m\u001b[1m]\u001b[0m\n",
       "\u001b[1m}\u001b[0m\n"
      ]
     },
     "metadata": {},
     "output_type": "display_data"
    },
    {
     "name": "stdout",
     "output_type": "stream",
     "text": [
      "Memory Variables in str list (buffer_as_str)\n"
     ]
    },
    {
     "data": {
      "text/html": [
       "<pre style=\"white-space:pre;overflow-x:auto;line-height:normal;font-family:Menlo,'DejaVu Sans Mono',consolas,'Courier New',monospace\"><span style=\"color: #008000; text-decoration-color: #008000\">\"AI: This is a Gaming Place\\nHuman: Hello dudes\\nHuman: hi\\nHuman: yo yo\\nHuman: nice to see you\\nHuman: hoho dude\\nHuman: o lalala\\nHuman: guten tag\\nHuman: Let's get started, ok?\\nHuman: YES\\nHuman: YEAH....\\nHuman: Cool..\\nHuman: yup.\\nHuman: Great.....\\nHuman: alles klar\\nHuman: I am the winner\"</span>\n",
       "</pre>\n"
      ],
      "text/plain": [
       "\u001b[32m\"AI: This is a Gaming Place\\nHuman: Hello dudes\\nHuman: hi\\nHuman: yo yo\\nHuman: nice to see you\\nHuman: hoho dude\\nHuman: o lalala\\nHuman: guten tag\\nHuman: Let's get started, ok?\\nHuman: YES\\nHuman: YEAH....\\nHuman: Cool..\\nHuman: yup.\\nHuman: Great.....\\nHuman: alles klar\\nHuman: I am the winner\"\u001b[0m\n"
      ]
     },
     "metadata": {},
     "output_type": "display_data"
    },
    {
     "name": "stdout",
     "output_type": "stream",
     "text": [
      "cxt_str\n"
     ]
    },
    {
     "data": {
      "text/html": [
       "<pre style=\"white-space:pre;overflow-x:auto;line-height:normal;font-family:Menlo,'DejaVu Sans Mono',consolas,'Courier New',monospace\"><span style=\"font-weight: bold\">[</span>\n",
       "<span style=\"color: #7fbf7f; text-decoration-color: #7fbf7f\">│   </span><span style=\"color: #008000; text-decoration-color: #008000\">'The following is a friendly conversation between a human and an AI. The AI is talkative and provides lots of specific details from its context. \\nIf the AI does not know the answer to a question, it truthfully says it does not know.\\n\\nNotice: The \\'uid\\' is user id, \\'role\\' is user role for human or ai, \\'content\\' is the message content.\\n{\\n{\\n\"uid\":\"\",\\n\"role\":\"ai\",\\n\"content\": \"This is a Gaming Place\"\\n},\\n{\\n\"uid\":\"user-1\",\\n\"role\":\"human\",\\n\"content\": \"Hello dudes\"\\n},\\n{\\n\"uid\":\"user-2\",\\n\"role\":\"human\",\\n\"content\": \"hi\"\\n},\\n{\\n\"uid\":\"user-3\",\\n\"role\":\"human\",\\n\"content\": \"yo yo\"\\n},\\n{\\n\"uid\":\"user-4\",\\n\"role\":\"human\",\\n\"content\": \"nice to see you\"\\n},\\n{\\n\"uid\":\"user-5\",\\n\"role\":\"human\",\\n\"content\": \"hoho dude\"\\n},\\n{\\n\"uid\":\"user-L\",\\n\"role\":\"human\",\\n\"content\": \"o lalala\"\\n},\\n{\\n\"uid\":\"user-XXXXL\",\\n\"role\":\"human\",\\n\"content\": \"guten tag\"\\n},\\n{\\n\"uid\":\"user-1\",\\n\"role\":\"human\",\\n\"content\": \"Let\\'s get started, ok?\"\\n},\\n{\\n\"uid\":\"user-2\",\\n\"role\":\"human\",\\n\"content\": \"YES\"\\n},\\n{\\n\"uid\":\"user-3\",\\n\"role\":\"human\",\\n\"content\": \"YEAH....\"\\n},\\n{\\n\"uid\":\"user-4\",\\n\"role\":\"human\",\\n\"content\": \"Cool..\"\\n},\\n{\\n\"uid\":\"user-5\",\\n\"role\":\"human\",\\n\"content\": \"yup.\"\\n},\\n{\\n\"uid\":\"user-L\",\\n\"role\":\"human\",\\n\"content\": \"Great.....\"\\n},\\n{\\n\"uid\":\"user-XXXXL\",\\n\"role\":\"human\",\\n\"content\": \"alles klar\"\\n},\\n{\\n\"uid\":\"user-5\",\\n\"role\":\"human\",\\n\"content\": \"I am the winner\"\\n}\\n}'</span>\n",
       "<span style=\"font-weight: bold\">]</span>\n",
       "</pre>\n"
      ],
      "text/plain": [
       "\u001b[1m[\u001b[0m\n",
       "\u001b[2;32m│   \u001b[0m\u001b[32m'The following is a friendly conversation between a human and an AI. The AI is talkative and provides lots of specific details from its context. \\nIf the AI does not know the answer to a question, it truthfully says it does not know.\\n\\nNotice: The \\'uid\\' is user id, \\'role\\' is user role for human or ai, \\'content\\' is the message content.\\n\u001b[0m\u001b[32m{\u001b[0m\u001b[32m\\n\u001b[0m\u001b[32m{\u001b[0m\u001b[32m\\n\"uid\":\"\",\\n\"role\":\"ai\",\\n\"content\": \"This is a Gaming Place\"\\n\u001b[0m\u001b[32m}\u001b[0m\u001b[32m,\\n\u001b[0m\u001b[32m{\u001b[0m\u001b[32m\\n\"uid\":\"user-1\",\\n\"role\":\"human\",\\n\"content\": \"Hello dudes\"\\n\u001b[0m\u001b[32m}\u001b[0m\u001b[32m,\\n\u001b[0m\u001b[32m{\u001b[0m\u001b[32m\\n\"uid\":\"user-2\",\\n\"role\":\"human\",\\n\"content\": \"hi\"\\n\u001b[0m\u001b[32m}\u001b[0m\u001b[32m,\\n\u001b[0m\u001b[32m{\u001b[0m\u001b[32m\\n\"uid\":\"user-3\",\\n\"role\":\"human\",\\n\"content\": \"yo yo\"\\n\u001b[0m\u001b[32m}\u001b[0m\u001b[32m,\\n\u001b[0m\u001b[32m{\u001b[0m\u001b[32m\\n\"uid\":\"user-4\",\\n\"role\":\"human\",\\n\"content\": \"nice to see you\"\\n\u001b[0m\u001b[32m}\u001b[0m\u001b[32m,\\n\u001b[0m\u001b[32m{\u001b[0m\u001b[32m\\n\"uid\":\"user-5\",\\n\"role\":\"human\",\\n\"content\": \"hoho dude\"\\n\u001b[0m\u001b[32m}\u001b[0m\u001b[32m,\\n\u001b[0m\u001b[32m{\u001b[0m\u001b[32m\\n\"uid\":\"user-L\",\\n\"role\":\"human\",\\n\"content\": \"o lalala\"\\n\u001b[0m\u001b[32m}\u001b[0m\u001b[32m,\\n\u001b[0m\u001b[32m{\u001b[0m\u001b[32m\\n\"uid\":\"user-XXXXL\",\\n\"role\":\"human\",\\n\"content\": \"guten tag\"\\n\u001b[0m\u001b[32m}\u001b[0m\u001b[32m,\\n\u001b[0m\u001b[32m{\u001b[0m\u001b[32m\\n\"uid\":\"user-1\",\\n\"role\":\"human\",\\n\"content\": \"Let\\'s get started, ok?\"\\n\u001b[0m\u001b[32m}\u001b[0m\u001b[32m,\\n\u001b[0m\u001b[32m{\u001b[0m\u001b[32m\\n\"uid\":\"user-2\",\\n\"role\":\"human\",\\n\"content\": \"YES\"\\n\u001b[0m\u001b[32m}\u001b[0m\u001b[32m,\\n\u001b[0m\u001b[32m{\u001b[0m\u001b[32m\\n\"uid\":\"user-3\",\\n\"role\":\"human\",\\n\"content\": \"YEAH....\"\\n\u001b[0m\u001b[32m}\u001b[0m\u001b[32m,\\n\u001b[0m\u001b[32m{\u001b[0m\u001b[32m\\n\"uid\":\"user-4\",\\n\"role\":\"human\",\\n\"content\": \"Cool..\"\\n\u001b[0m\u001b[32m}\u001b[0m\u001b[32m,\\n\u001b[0m\u001b[32m{\u001b[0m\u001b[32m\\n\"uid\":\"user-5\",\\n\"role\":\"human\",\\n\"content\": \"yup.\"\\n\u001b[0m\u001b[32m}\u001b[0m\u001b[32m,\\n\u001b[0m\u001b[32m{\u001b[0m\u001b[32m\\n\"uid\":\"user-L\",\\n\"role\":\"human\",\\n\"content\": \"Great.....\"\\n\u001b[0m\u001b[32m}\u001b[0m\u001b[32m,\\n\u001b[0m\u001b[32m{\u001b[0m\u001b[32m\\n\"uid\":\"user-XXXXL\",\\n\"role\":\"human\",\\n\"content\": \"alles klar\"\\n\u001b[0m\u001b[32m}\u001b[0m\u001b[32m,\\n\u001b[0m\u001b[32m{\u001b[0m\u001b[32m\\n\"uid\":\"user-5\",\\n\"role\":\"human\",\\n\"content\": \"I am the winner\"\\n\u001b[0m\u001b[32m}\u001b[0m\u001b[32m\\n\u001b[0m\u001b[32m}\u001b[0m\u001b[32m'\u001b[0m\n",
       "\u001b[1m]\u001b[0m\n"
      ]
     },
     "metadata": {},
     "output_type": "display_data"
    },
    {
     "name": "stdout",
     "output_type": "stream",
     "text": [
      "Result\n"
     ]
    },
    {
     "data": {
      "text/html": [
       "<pre style=\"white-space:pre;overflow-x:auto;line-height:normal;font-family:Menlo,'DejaVu Sans Mono',consolas,'Courier New',monospace\"><span style=\"color: #800080; text-decoration-color: #800080; font-weight: bold\">AIMessage</span><span style=\"font-weight: bold\">(</span><span style=\"color: #808000; text-decoration-color: #808000\">content</span>=<span style=\"color: #008000; text-decoration-color: #008000\">'user_count=7\\nuser_ids=[user-1, user-2, user-3, user-4, user-5, user-L, user-XXXXL]'</span><span style=\"font-weight: bold\">)</span>\n",
       "</pre>\n"
      ],
      "text/plain": [
       "\u001b[1;35mAIMessage\u001b[0m\u001b[1m(\u001b[0m\u001b[33mcontent\u001b[0m=\u001b[32m'\u001b[0m\u001b[32muser_count\u001b[0m\u001b[32m=\u001b[0m\u001b[32m7\u001b[0m\u001b[32m\\\u001b[0m\u001b[32mnuser_ids\u001b[0m\u001b[32m=\u001b[0m\u001b[32m[\u001b[0m\u001b[32muser-1, user-2, user-3, user-4, user-5, user-L, user-XXXXL\u001b[0m\u001b[32m]\u001b[0m\u001b[32m'\u001b[0m\u001b[1m)\u001b[0m\n"
      ]
     },
     "metadata": {},
     "output_type": "display_data"
    },
    {
     "name": "stdout",
     "output_type": "stream",
     "text": [
      "cxt_str\n"
     ]
    },
    {
     "data": {
      "text/html": [
       "<pre style=\"white-space:pre;overflow-x:auto;line-height:normal;font-family:Menlo,'DejaVu Sans Mono',consolas,'Courier New',monospace\"><span style=\"font-weight: bold\">[</span>\n",
       "<span style=\"color: #7fbf7f; text-decoration-color: #7fbf7f\">│   </span><span style=\"color: #008000; text-decoration-color: #008000\">'The following is a friendly conversation between a human and an AI. The AI is talkative and provides lots of specific details from its context. \\nIf the AI does not know the answer to a question, it truthfully says it does not know.\\n\\nNotice: The \\'uid\\' is user id, \\'role\\' is user role for human or ai, \\'content\\' is the message content.\\n{\\n{\\n\"uid\":\"\",\\n\"role\":\"ai\",\\n\"content\": \"This is a Gaming Place\"\\n},\\n{\\n\"uid\":\"user-1\",\\n\"role\":\"human\",\\n\"content\": \"Hello dudes\"\\n},\\n{\\n\"uid\":\"user-2\",\\n\"role\":\"human\",\\n\"content\": \"hi\"\\n},\\n{\\n\"uid\":\"user-3\",\\n\"role\":\"human\",\\n\"content\": \"yo yo\"\\n},\\n{\\n\"uid\":\"user-4\",\\n\"role\":\"human\",\\n\"content\": \"nice to see you\"\\n},\\n{\\n\"uid\":\"user-5\",\\n\"role\":\"human\",\\n\"content\": \"hoho dude\"\\n},\\n{\\n\"uid\":\"user-L\",\\n\"role\":\"human\",\\n\"content\": \"o lalala\"\\n},\\n{\\n\"uid\":\"user-XXXXL\",\\n\"role\":\"human\",\\n\"content\": \"guten tag\"\\n},\\n{\\n\"uid\":\"user-1\",\\n\"role\":\"human\",\\n\"content\": \"Let\\'s get started, ok?\"\\n},\\n{\\n\"uid\":\"user-2\",\\n\"role\":\"human\",\\n\"content\": \"YES\"\\n},\\n{\\n\"uid\":\"user-3\",\\n\"role\":\"human\",\\n\"content\": \"YEAH....\"\\n},\\n{\\n\"uid\":\"user-4\",\\n\"role\":\"human\",\\n\"content\": \"Cool..\"\\n},\\n{\\n\"uid\":\"user-5\",\\n\"role\":\"human\",\\n\"content\": \"yup.\"\\n},\\n{\\n\"uid\":\"user-L\",\\n\"role\":\"human\",\\n\"content\": \"Great.....\"\\n},\\n{\\n\"uid\":\"user-XXXXL\",\\n\"role\":\"human\",\\n\"content\": \"alles klar\"\\n},\\n{\\n\"uid\":\"user-5\",\\n\"role\":\"human\",\\n\"content\": \"I am the winner\"\\n},\\n{\\n\"uid\":\"user-X\",\\n\"role\":\"human\",\\n\"content\": \"How many users are involved in this conversation exclude the AI or System messages?\\nAlso provide the list of user ids. The user ids can be any format unique to each user.\\n\\nNotice: \\n\\nGive me a simple result with the only number of users without any instruction text or additional information,\\nkeep the result as simple as possible,ie. 1,2 or 3....\\nOutput format: \\nuser_count=x, x is number of users\\n\\nThe user ids will be saved inside \"[]\".\\nOutput format: \\nuser_ids=[user_1,.......]\"\\n},\\n{\\n\"uid\":\"\",\\n\"role\":\"ai\",\\n\"content\": \"user_count=7\\nuser_ids=[user-1, user-2, user-3, user-4, user-5, user-L, user-XXXXL]\"\\n}\\n}'</span>\n",
       "<span style=\"font-weight: bold\">]</span>\n",
       "</pre>\n"
      ],
      "text/plain": [
       "\u001b[1m[\u001b[0m\n",
       "\u001b[2;32m│   \u001b[0m\u001b[32m'The following is a friendly conversation between a human and an AI. The AI is talkative and provides lots of specific details from its context. \\nIf the AI does not know the answer to a question, it truthfully says it does not know.\\n\\nNotice: The \\'uid\\' is user id, \\'role\\' is user role for human or ai, \\'content\\' is the message content.\\n\u001b[0m\u001b[32m{\u001b[0m\u001b[32m\\n\u001b[0m\u001b[32m{\u001b[0m\u001b[32m\\n\"uid\":\"\",\\n\"role\":\"ai\",\\n\"content\": \"This is a Gaming Place\"\\n\u001b[0m\u001b[32m}\u001b[0m\u001b[32m,\\n\u001b[0m\u001b[32m{\u001b[0m\u001b[32m\\n\"uid\":\"user-1\",\\n\"role\":\"human\",\\n\"content\": \"Hello dudes\"\\n\u001b[0m\u001b[32m}\u001b[0m\u001b[32m,\\n\u001b[0m\u001b[32m{\u001b[0m\u001b[32m\\n\"uid\":\"user-2\",\\n\"role\":\"human\",\\n\"content\": \"hi\"\\n\u001b[0m\u001b[32m}\u001b[0m\u001b[32m,\\n\u001b[0m\u001b[32m{\u001b[0m\u001b[32m\\n\"uid\":\"user-3\",\\n\"role\":\"human\",\\n\"content\": \"yo yo\"\\n\u001b[0m\u001b[32m}\u001b[0m\u001b[32m,\\n\u001b[0m\u001b[32m{\u001b[0m\u001b[32m\\n\"uid\":\"user-4\",\\n\"role\":\"human\",\\n\"content\": \"nice to see you\"\\n\u001b[0m\u001b[32m}\u001b[0m\u001b[32m,\\n\u001b[0m\u001b[32m{\u001b[0m\u001b[32m\\n\"uid\":\"user-5\",\\n\"role\":\"human\",\\n\"content\": \"hoho dude\"\\n\u001b[0m\u001b[32m}\u001b[0m\u001b[32m,\\n\u001b[0m\u001b[32m{\u001b[0m\u001b[32m\\n\"uid\":\"user-L\",\\n\"role\":\"human\",\\n\"content\": \"o lalala\"\\n\u001b[0m\u001b[32m}\u001b[0m\u001b[32m,\\n\u001b[0m\u001b[32m{\u001b[0m\u001b[32m\\n\"uid\":\"user-XXXXL\",\\n\"role\":\"human\",\\n\"content\": \"guten tag\"\\n\u001b[0m\u001b[32m}\u001b[0m\u001b[32m,\\n\u001b[0m\u001b[32m{\u001b[0m\u001b[32m\\n\"uid\":\"user-1\",\\n\"role\":\"human\",\\n\"content\": \"Let\\'s get started, ok?\"\\n\u001b[0m\u001b[32m}\u001b[0m\u001b[32m,\\n\u001b[0m\u001b[32m{\u001b[0m\u001b[32m\\n\"uid\":\"user-2\",\\n\"role\":\"human\",\\n\"content\": \"YES\"\\n\u001b[0m\u001b[32m}\u001b[0m\u001b[32m,\\n\u001b[0m\u001b[32m{\u001b[0m\u001b[32m\\n\"uid\":\"user-3\",\\n\"role\":\"human\",\\n\"content\": \"YEAH....\"\\n\u001b[0m\u001b[32m}\u001b[0m\u001b[32m,\\n\u001b[0m\u001b[32m{\u001b[0m\u001b[32m\\n\"uid\":\"user-4\",\\n\"role\":\"human\",\\n\"content\": \"Cool..\"\\n\u001b[0m\u001b[32m}\u001b[0m\u001b[32m,\\n\u001b[0m\u001b[32m{\u001b[0m\u001b[32m\\n\"uid\":\"user-5\",\\n\"role\":\"human\",\\n\"content\": \"yup.\"\\n\u001b[0m\u001b[32m}\u001b[0m\u001b[32m,\\n\u001b[0m\u001b[32m{\u001b[0m\u001b[32m\\n\"uid\":\"user-L\",\\n\"role\":\"human\",\\n\"content\": \"Great.....\"\\n\u001b[0m\u001b[32m}\u001b[0m\u001b[32m,\\n\u001b[0m\u001b[32m{\u001b[0m\u001b[32m\\n\"uid\":\"user-XXXXL\",\\n\"role\":\"human\",\\n\"content\": \"alles klar\"\\n\u001b[0m\u001b[32m}\u001b[0m\u001b[32m,\\n\u001b[0m\u001b[32m{\u001b[0m\u001b[32m\\n\"uid\":\"user-5\",\\n\"role\":\"human\",\\n\"content\": \"I am the winner\"\\n\u001b[0m\u001b[32m}\u001b[0m\u001b[32m,\\n\u001b[0m\u001b[32m{\u001b[0m\u001b[32m\\n\"uid\":\"user-X\",\\n\"role\":\"human\",\\n\"content\": \"How many users are involved in this conversation exclude the AI or System messages?\\nAlso provide the list of user ids. The user ids can be any format unique to each user.\\n\\nNotice: \\n\\nGive me a simple result with the only number of users without any instruction text or additional information,\\nkeep the result as simple as possible,ie. 1,2 or 3....\\nOutput format: \\\u001b[0m\u001b[32mnuser_count\u001b[0m\u001b[32m=\u001b[0m\u001b[32mx\u001b[0m\u001b[32m, x is number of users\\n\\nThe user ids will be saved inside \"\u001b[0m\u001b[32m[\u001b[0m\u001b[32m]\u001b[0m\u001b[32m\".\\nOutput format: \\\u001b[0m\u001b[32mnuser_ids\u001b[0m\u001b[32m=\u001b[0m\u001b[32m[\u001b[0m\u001b[32muser_1,.......\u001b[0m\u001b[32m]\u001b[0m\u001b[32m\"\\n\u001b[0m\u001b[32m}\u001b[0m\u001b[32m,\\n\u001b[0m\u001b[32m{\u001b[0m\u001b[32m\\n\"uid\":\"\",\\n\"role\":\"ai\",\\n\"content\": \"\u001b[0m\u001b[32muser_count\u001b[0m\u001b[32m=\u001b[0m\u001b[32m7\u001b[0m\u001b[32m\\\u001b[0m\u001b[32mnuser_ids\u001b[0m\u001b[32m=\u001b[0m\u001b[32m[\u001b[0m\u001b[32muser-1, user-2, user-3, user-4, user-5, user-L, user-XXXXL\u001b[0m\u001b[32m]\u001b[0m\u001b[32m\"\\n\u001b[0m\u001b[32m}\u001b[0m\u001b[32m\\n\u001b[0m\u001b[32m}\u001b[0m\u001b[32m'\u001b[0m\n",
       "\u001b[1m]\u001b[0m\n"
      ]
     },
     "metadata": {},
     "output_type": "display_data"
    },
    {
     "name": "stdout",
     "output_type": "stream",
     "text": [
      "user-5 result\n"
     ]
    },
    {
     "data": {
      "text/html": [
       "<pre style=\"white-space:pre;overflow-x:auto;line-height:normal;font-family:Menlo,'DejaVu Sans Mono',consolas,'Courier New',monospace\"><span style=\"color: #008000; text-decoration-color: #008000\">'[\"hoho dude\", \"yup.\", \"I am the winner\"]'</span>\n",
       "</pre>\n"
      ],
      "text/plain": [
       "\u001b[32m'\u001b[0m\u001b[32m[\u001b[0m\u001b[32m\"hoho dude\", \"yup.\", \"I am the winner\"\u001b[0m\u001b[32m]\u001b[0m\u001b[32m'\u001b[0m\n"
      ]
     },
     "metadata": {},
     "output_type": "display_data"
    }
   ],
   "source": [
    "memory = ConversationBufferMemory(return_messages=True)\n",
    "mem_vars = memory.load_memory_variables({})\n",
    "pretty_print(\"Memory Variables init\", mem_vars)\n",
    "pretty_print(\"Memory Variables in str list (buffer_as_str) init\", memory.buffer_as_str)\n",
    "\n",
    "memory.buffer.append(AIMessage(content=\"This is a Gaming Place\"))\n",
    "mem_vars = memory.load_memory_variables({})\n",
    "pretty_print(\"Memory Variables seeded\", mem_vars)\n",
    "pretty_print(\n",
    "    \"Memory Variables in str list (buffer_as_str), seeded\", memory.buffer_as_str\n",
    ")\n",
    "\n",
    "memory.buffer.append(HumanMessage(content=\"Hello dudes\", id=\"user-1\"))\n",
    "memory.buffer.append(HumanMessage(content=\"hi\", id=\"user-2\"))\n",
    "memory.buffer.append(HumanMessage(content=\"yo yo\", id=\"user-3\"))\n",
    "memory.buffer.append(HumanMessage(content=\"nice to see you\", id=\"user-4\"))\n",
    "memory.buffer.append(HumanMessage(content=\"hoho dude\", id=\"user-5\"))\n",
    "memory.buffer.append(HumanMessage(content=\"o lalala\", id=\"user-L\"))\n",
    "memory.buffer.append(HumanMessage(content=\"guten tag\", id=\"user-XXXXL\"))\n",
    "memory.buffer.append(HumanMessage(content=\"Let's get started, ok?\", id=\"user-1\"))\n",
    "memory.buffer.append(HumanMessage(content=\"YES\", id=\"user-2\"))\n",
    "memory.buffer.append(HumanMessage(content=\"YEAH....\", id=\"user-3\"))\n",
    "memory.buffer.append(HumanMessage(content=\"Cool..\", id=\"user-4\"))\n",
    "memory.buffer.append(HumanMessage(content=\"yup.\", id=\"user-5\"))\n",
    "memory.buffer.append(HumanMessage(content=\"Great.....\", id=\"user-L\"))\n",
    "memory.buffer.append(HumanMessage(content=\"alles klar\", id=\"user-XXXXL\"))\n",
    "memory.buffer.append(HumanMessage(content=\"I am the winner\", id=\"user-5\"))\n",
    "mem_vars = memory.load_memory_variables({})\n",
    "pretty_print(\"Memory Variables\", mem_vars)\n",
    "pretty_print(\"Memory Variables in str list (buffer_as_str)\", memory.buffer_as_str)\n",
    "\n",
    "\n",
    "def convert_memory_to_str(memory: ConversationBufferMemory) -> str:\n",
    "    \"\"\"Convert the memory to str\"\"\"\n",
    "    res = \"\"\"The following is a friendly conversation between a human and an AI. The AI is talkative and provides lots of specific details from its context. \n",
    "If the AI does not know the answer to a question, it truthfully says it does not know.\n",
    "\n",
    "Notice: The 'uid' is user id, 'role' is user role for human or ai, 'content' is the message content.\n",
    "{\n",
    "\"\"\"\n",
    "    history = memory.load_memory_variables({})[\"history\"]\n",
    "    for hist_item in history:\n",
    "        role = \"human\" if isinstance(hist_item, HumanMessage) else \"ai\"\n",
    "        res += f\"\"\"{{\n",
    "\"uid\":\"{hist_item.id if role =='human' else ''}\",\n",
    "\"role\":\"{role}\",\n",
    "\"content\": \"{hist_item.content}\"\n",
    "}},\n",
    "\"\"\"\n",
    "    # remove the last comma\n",
    "    res = res[:-2]\n",
    "    res += \"\"\"\n",
    "}\"\"\"\n",
    "    return res\n",
    "\n",
    "\n",
    "cxt_str = [convert_memory_to_str(memory)]\n",
    "pretty_print(\"cxt_str\", cxt_str)\n",
    "\n",
    "\n",
    "def build_chain_without_parsing(\n",
    "    model: BaseChatModel,\n",
    ") -> RunnableSerializable[Dict, str]:\n",
    "    prompt = ChatPromptTemplate.from_messages(\n",
    "        [\n",
    "            SystemMessage(\n",
    "                content=(\"You are an AI assistant.\" \"You can handle the query of user.\")\n",
    "            ),\n",
    "            MessagesPlaceholder(variable_name=\"history\"),\n",
    "            HumanMessagePromptTemplate.from_template(\"{query}\"),\n",
    "        ]\n",
    "    )\n",
    "    return (\n",
    "        prompt | model\n",
    "    )  # comment model, you can see the filled template after invoking the chain.\n",
    "\n",
    "\n",
    "model = llm\n",
    "\n",
    "human_query = HumanMessage(\n",
    "    content=\"\"\"How many users are involved in this conversation exclude the AI or System messages?\n",
    "Also provide the list of user ids. The user ids can be any format unique to each user.\n",
    "\n",
    "Notice: \n",
    "\n",
    "Give me a simple result with the only number of users without any instruction text or additional information,\n",
    "keep the result as simple as possible,ie. 1,2 or 3....\n",
    "Output format: \n",
    "user_count=x, x is number of users\n",
    "\n",
    "The user ids will be saved inside \"[]\".\n",
    "Output format: \n",
    "user_ids=[user_1,.......]\"\"\",\n",
    "    id=\"user-X\",\n",
    ")\n",
    "res = build_chain_without_parsing(model).invoke(\n",
    "    {\n",
    "        \"history\": cxt_str,\n",
    "        \"query\": human_query.content,\n",
    "    }\n",
    ")\n",
    "pretty_print(\"Result\", res)\n",
    "\n",
    "# Update memory\n",
    "memory.buffer.append(human_query)\n",
    "memory.buffer.append(res)\n",
    "cxt_str = [convert_memory_to_str(memory)]\n",
    "pretty_print(\"cxt_str\", cxt_str)\n",
    "\n",
    "res = (build_chain_without_parsing(model) | StrOutputParser()).invoke(\n",
    "    {\n",
    "        \"history\": cxt_str,\n",
    "        \"query\": \"\"\"Give the list of all the messages from \"user-5\" and put them in a \"[]\" without any instruction text, newlines or additional information.\n",
    "Notice: Only need content and plan-text.\n",
    "\"\"\",\n",
    "    }\n",
    ")\n",
    "pretty_print(\"user-5 result\", res)"
   ]
  },
  {
   "cell_type": "markdown",
   "metadata": {},
   "source": [
    "#### Convert all history into a list of dictionaries: `cxt_dict`\n",
    "\n",
    "We can compress all historical messages, including system and AI messages, into a list of dictionaries and feed it to the model as history.\n",
    "\n",
    "The content of each block (dictionary) are the role of `user`, `user-id`, and the `message content`.\n",
    "\n",
    "Refer to `convert_memory_to_dict()` for additional information.\n",
    "\n",
    "Also the memory will not grow with each invocation, we need to code the logic to update the memory.\n",
    "\n",
    "**Great advantages:**\n",
    "\n",
    "- Clean overview in the LangSmith interface due to a well-filled prompt, see below.\n",
    "    - For the input of LLM. \n",
    "\n",
    "- Each block of history can be converted to  AIMessage and HumanMessage for the filled prompt:\n",
    "\n",
    "```python\n",
    "ChatPromptValue(\n",
    "│   messages=[\n",
    "│   │   SystemMessage(content='You are an AI assistant.You can handle the query of user.'),\n",
    "│   │   HumanMessage(\n",
    "│   │   │   content=\"The following is a friendly conversation between a human and an AI. The AI is talkative and provides lots of specific details from its context. \\nIf the AI does not know the answer to a question, it truthfully says it does not know.\\n\\nNotice: The 'uid' is user id, 'role' is user role for human or ai, 'content' is the message content.\\n\\n\"\n",
    "│   │   ),\n",
    "│   │   AIMessage(content='{\\nuid:\"\"\\nrole:\"ai\"\\ncontent:\"This is a Gaming Place\"\\n}\\n'),\n",
    "│   │   HumanMessage(content='{\\nuid:\"user-1\"\\nrole:\"human\"\\ncontent:\"Hello dudes\"\\n}\\n'),\n",
    "│   │   HumanMessage(content='{\\nuid:\"user-2\"\\nrole:\"human\"\\ncontent:\"hi\"\\n}\\n'),\n",
    "│   │   HumanMessage(content='{\\nuid:\"user-3\"\\nrole:\"human\"\\ncontent:\"yo yo\"\\n}\\n'),\n",
    "│   │   HumanMessage(content='{\\nuid:\"user-4\"\\nrole:\"human\"\\ncontent:\"nice to see you\"\\n}\\n'),\n",
    "│   │   HumanMessage(content='{\\nuid:\"user-5\"\\nrole:\"human\"\\ncontent:\"hoho dude\"\\n}\\n'),\n",
    "│   │   HumanMessage(content='{\\nuid:\"user-L\"\\nrole:\"human\"\\ncontent:\"o lalala\"\\n}\\n'),\n",
    "│   │   HumanMessage(content='{\\nuid:\"user-XXXXL\"\\nrole:\"human\"\\ncontent:\"guten tag\"\\n}\\n'),\n",
    "│   │   HumanMessage(content='{\\nuid:\"user-1\"\\nrole:\"human\"\\ncontent:\"Let\\'s get started, ok?\"\\n}\\n'),\n",
    "│   │   HumanMessage(content='{\\nuid:\"user-2\"\\nrole:\"human\"\\ncontent:\"YES\"\\n}\\n'),\n",
    "│   │   HumanMessage(content='{\\nuid:\"user-3\"\\nrole:\"human\"\\ncontent:\"YEAH....\"\\n}\\n'),\n",
    "│   │   HumanMessage(content='{\\nuid:\"user-4\"\\nrole:\"human\"\\ncontent:\"Cool..\"\\n}\\n'),\n",
    "│   │   HumanMessage(content='{\\nuid:\"user-5\"\\nrole:\"human\"\\ncontent:\"yup.\"\\n}\\n'),\n",
    "│   │   HumanMessage(content='{\\nuid:\"user-L\"\\nrole:\"human\"\\ncontent:\"Great.....\"\\n}\\n'),\n",
    "│   │   HumanMessage(content='{\\nuid:\"user-XXXXL\"\\nrole:\"human\"\\ncontent:\"alles klar\"\\n}\\n'),\n",
    "│   │   HumanMessage(content='{\\nuid:\"user-5\"\\nrole:\"human\"\\ncontent:\"I\\'m good and the best.\"\\n}\\n'),\n",
    "│   │   HumanMessage(\n",
    "│   │   │   content='content=\\'How many users are involved in this conversation exclude the AI or System messages?\\\\nAlso provide the list of user ids. The user ids can be any format unique to each user.\\\\n\\\\nNotice: \\\\n\\\\nGive me a simple result with the only number of users without any instruction text or additional information,\\\\nkeep the result as simple as possible,ie. 1,2 or 3....\\\\nOutput format: \\\\nuser_count=x, x is number of users\\\\n\\\\nThe user ids will be saved inside \"[]\".\\\\nOutput format: \\\\nuser_ids=[user_1,.......]\\' id=\\'user-X\\''\n",
    "│   │   )\n",
    "│   ]\n",
    ")\n",
    "```\n"
   ]
  },
  {
   "cell_type": "code",
   "execution_count": 154,
   "metadata": {},
   "outputs": [
    {
     "name": "stdout",
     "output_type": "stream",
     "text": [
      "Memory Variables init\n"
     ]
    },
    {
     "data": {
      "text/html": [
       "<pre style=\"white-space:pre;overflow-x:auto;line-height:normal;font-family:Menlo,'DejaVu Sans Mono',consolas,'Courier New',monospace\"><span style=\"font-weight: bold\">{</span><span style=\"color: #008000; text-decoration-color: #008000\">'history'</span>: <span style=\"font-weight: bold\">[]}</span>\n",
       "</pre>\n"
      ],
      "text/plain": [
       "\u001b[1m{\u001b[0m\u001b[32m'history'\u001b[0m: \u001b[1m[\u001b[0m\u001b[1m]\u001b[0m\u001b[1m}\u001b[0m\n"
      ]
     },
     "metadata": {},
     "output_type": "display_data"
    },
    {
     "name": "stdout",
     "output_type": "stream",
     "text": [
      "Memory Variables in str list (buffer_as_str) init\n"
     ]
    },
    {
     "data": {
      "text/html": [
       "<pre style=\"white-space:pre;overflow-x:auto;line-height:normal;font-family:Menlo,'DejaVu Sans Mono',consolas,'Courier New',monospace\"><span style=\"color: #008000; text-decoration-color: #008000\">''</span>\n",
       "</pre>\n"
      ],
      "text/plain": [
       "\u001b[32m''\u001b[0m\n"
      ]
     },
     "metadata": {},
     "output_type": "display_data"
    },
    {
     "name": "stdout",
     "output_type": "stream",
     "text": [
      "Memory Variables seeded\n"
     ]
    },
    {
     "data": {
      "text/html": [
       "<pre style=\"white-space:pre;overflow-x:auto;line-height:normal;font-family:Menlo,'DejaVu Sans Mono',consolas,'Courier New',monospace\"><span style=\"font-weight: bold\">{</span><span style=\"color: #008000; text-decoration-color: #008000\">'history'</span>: <span style=\"font-weight: bold\">[</span><span style=\"color: #800080; text-decoration-color: #800080; font-weight: bold\">AIMessage</span><span style=\"font-weight: bold\">(</span><span style=\"color: #808000; text-decoration-color: #808000\">content</span>=<span style=\"color: #008000; text-decoration-color: #008000\">'This is a Gaming Place'</span><span style=\"font-weight: bold\">)]}</span>\n",
       "</pre>\n"
      ],
      "text/plain": [
       "\u001b[1m{\u001b[0m\u001b[32m'history'\u001b[0m: \u001b[1m[\u001b[0m\u001b[1;35mAIMessage\u001b[0m\u001b[1m(\u001b[0m\u001b[33mcontent\u001b[0m=\u001b[32m'This is a Gaming Place'\u001b[0m\u001b[1m)\u001b[0m\u001b[1m]\u001b[0m\u001b[1m}\u001b[0m\n"
      ]
     },
     "metadata": {},
     "output_type": "display_data"
    },
    {
     "name": "stdout",
     "output_type": "stream",
     "text": [
      "Memory Variables in str list (buffer_as_str), seeded\n"
     ]
    },
    {
     "data": {
      "text/html": [
       "<pre style=\"white-space:pre;overflow-x:auto;line-height:normal;font-family:Menlo,'DejaVu Sans Mono',consolas,'Courier New',monospace\"><span style=\"color: #008000; text-decoration-color: #008000\">'AI: This is a Gaming Place'</span>\n",
       "</pre>\n"
      ],
      "text/plain": [
       "\u001b[32m'AI: This is a Gaming Place'\u001b[0m\n"
      ]
     },
     "metadata": {},
     "output_type": "display_data"
    },
    {
     "name": "stdout",
     "output_type": "stream",
     "text": [
      "Memory Variables\n"
     ]
    },
    {
     "data": {
      "text/html": [
       "<pre style=\"white-space:pre;overflow-x:auto;line-height:normal;font-family:Menlo,'DejaVu Sans Mono',consolas,'Courier New',monospace\"><span style=\"font-weight: bold\">{</span>\n",
       "<span style=\"color: #7fbf7f; text-decoration-color: #7fbf7f\">│   </span><span style=\"color: #008000; text-decoration-color: #008000\">'history'</span>: <span style=\"font-weight: bold\">[</span>\n",
       "<span style=\"color: #7fbf7f; text-decoration-color: #7fbf7f\">│   │   </span><span style=\"color: #800080; text-decoration-color: #800080; font-weight: bold\">AIMessage</span><span style=\"font-weight: bold\">(</span><span style=\"color: #808000; text-decoration-color: #808000\">content</span>=<span style=\"color: #008000; text-decoration-color: #008000\">'This is a Gaming Place'</span><span style=\"font-weight: bold\">)</span>,\n",
       "<span style=\"color: #7fbf7f; text-decoration-color: #7fbf7f\">│   │   </span><span style=\"color: #800080; text-decoration-color: #800080; font-weight: bold\">HumanMessage</span><span style=\"font-weight: bold\">(</span><span style=\"color: #808000; text-decoration-color: #808000\">content</span>=<span style=\"color: #008000; text-decoration-color: #008000\">'Hello dudes'</span>, <span style=\"color: #808000; text-decoration-color: #808000\">id</span>=<span style=\"color: #008000; text-decoration-color: #008000\">'user-1'</span><span style=\"font-weight: bold\">)</span>,\n",
       "<span style=\"color: #7fbf7f; text-decoration-color: #7fbf7f\">│   │   </span><span style=\"color: #800080; text-decoration-color: #800080; font-weight: bold\">HumanMessage</span><span style=\"font-weight: bold\">(</span><span style=\"color: #808000; text-decoration-color: #808000\">content</span>=<span style=\"color: #008000; text-decoration-color: #008000\">'hi'</span>, <span style=\"color: #808000; text-decoration-color: #808000\">id</span>=<span style=\"color: #008000; text-decoration-color: #008000\">'user-2'</span><span style=\"font-weight: bold\">)</span>,\n",
       "<span style=\"color: #7fbf7f; text-decoration-color: #7fbf7f\">│   │   </span><span style=\"color: #800080; text-decoration-color: #800080; font-weight: bold\">HumanMessage</span><span style=\"font-weight: bold\">(</span><span style=\"color: #808000; text-decoration-color: #808000\">content</span>=<span style=\"color: #008000; text-decoration-color: #008000\">'yo yo'</span>, <span style=\"color: #808000; text-decoration-color: #808000\">id</span>=<span style=\"color: #008000; text-decoration-color: #008000\">'user-3'</span><span style=\"font-weight: bold\">)</span>,\n",
       "<span style=\"color: #7fbf7f; text-decoration-color: #7fbf7f\">│   │   </span><span style=\"color: #800080; text-decoration-color: #800080; font-weight: bold\">HumanMessage</span><span style=\"font-weight: bold\">(</span><span style=\"color: #808000; text-decoration-color: #808000\">content</span>=<span style=\"color: #008000; text-decoration-color: #008000\">'nice to see you'</span>, <span style=\"color: #808000; text-decoration-color: #808000\">id</span>=<span style=\"color: #008000; text-decoration-color: #008000\">'user-4'</span><span style=\"font-weight: bold\">)</span>,\n",
       "<span style=\"color: #7fbf7f; text-decoration-color: #7fbf7f\">│   │   </span><span style=\"color: #800080; text-decoration-color: #800080; font-weight: bold\">HumanMessage</span><span style=\"font-weight: bold\">(</span><span style=\"color: #808000; text-decoration-color: #808000\">content</span>=<span style=\"color: #008000; text-decoration-color: #008000\">'hoho dude'</span>, <span style=\"color: #808000; text-decoration-color: #808000\">id</span>=<span style=\"color: #008000; text-decoration-color: #008000\">'user-5'</span><span style=\"font-weight: bold\">)</span>,\n",
       "<span style=\"color: #7fbf7f; text-decoration-color: #7fbf7f\">│   │   </span><span style=\"color: #800080; text-decoration-color: #800080; font-weight: bold\">HumanMessage</span><span style=\"font-weight: bold\">(</span><span style=\"color: #808000; text-decoration-color: #808000\">content</span>=<span style=\"color: #008000; text-decoration-color: #008000\">'o lalala'</span>, <span style=\"color: #808000; text-decoration-color: #808000\">id</span>=<span style=\"color: #008000; text-decoration-color: #008000\">'user-L'</span><span style=\"font-weight: bold\">)</span>,\n",
       "<span style=\"color: #7fbf7f; text-decoration-color: #7fbf7f\">│   │   </span><span style=\"color: #800080; text-decoration-color: #800080; font-weight: bold\">HumanMessage</span><span style=\"font-weight: bold\">(</span><span style=\"color: #808000; text-decoration-color: #808000\">content</span>=<span style=\"color: #008000; text-decoration-color: #008000\">'guten tag'</span>, <span style=\"color: #808000; text-decoration-color: #808000\">id</span>=<span style=\"color: #008000; text-decoration-color: #008000\">'user-XXXXL'</span><span style=\"font-weight: bold\">)</span>,\n",
       "<span style=\"color: #7fbf7f; text-decoration-color: #7fbf7f\">│   │   </span><span style=\"color: #800080; text-decoration-color: #800080; font-weight: bold\">HumanMessage</span><span style=\"font-weight: bold\">(</span><span style=\"color: #808000; text-decoration-color: #808000\">content</span>=<span style=\"color: #008000; text-decoration-color: #008000\">\"Let's get started, ok?\"</span>, <span style=\"color: #808000; text-decoration-color: #808000\">id</span>=<span style=\"color: #008000; text-decoration-color: #008000\">'user-1'</span><span style=\"font-weight: bold\">)</span>,\n",
       "<span style=\"color: #7fbf7f; text-decoration-color: #7fbf7f\">│   │   </span><span style=\"color: #800080; text-decoration-color: #800080; font-weight: bold\">HumanMessage</span><span style=\"font-weight: bold\">(</span><span style=\"color: #808000; text-decoration-color: #808000\">content</span>=<span style=\"color: #008000; text-decoration-color: #008000\">'YES'</span>, <span style=\"color: #808000; text-decoration-color: #808000\">id</span>=<span style=\"color: #008000; text-decoration-color: #008000\">'user-2'</span><span style=\"font-weight: bold\">)</span>,\n",
       "<span style=\"color: #7fbf7f; text-decoration-color: #7fbf7f\">│   │   </span><span style=\"color: #800080; text-decoration-color: #800080; font-weight: bold\">HumanMessage</span><span style=\"font-weight: bold\">(</span><span style=\"color: #808000; text-decoration-color: #808000\">content</span>=<span style=\"color: #008000; text-decoration-color: #008000\">'YEAH....'</span>, <span style=\"color: #808000; text-decoration-color: #808000\">id</span>=<span style=\"color: #008000; text-decoration-color: #008000\">'user-3'</span><span style=\"font-weight: bold\">)</span>,\n",
       "<span style=\"color: #7fbf7f; text-decoration-color: #7fbf7f\">│   │   </span><span style=\"color: #800080; text-decoration-color: #800080; font-weight: bold\">HumanMessage</span><span style=\"font-weight: bold\">(</span><span style=\"color: #808000; text-decoration-color: #808000\">content</span>=<span style=\"color: #008000; text-decoration-color: #008000\">'Cool..'</span>, <span style=\"color: #808000; text-decoration-color: #808000\">id</span>=<span style=\"color: #008000; text-decoration-color: #008000\">'user-4'</span><span style=\"font-weight: bold\">)</span>,\n",
       "<span style=\"color: #7fbf7f; text-decoration-color: #7fbf7f\">│   │   </span><span style=\"color: #800080; text-decoration-color: #800080; font-weight: bold\">HumanMessage</span><span style=\"font-weight: bold\">(</span><span style=\"color: #808000; text-decoration-color: #808000\">content</span>=<span style=\"color: #008000; text-decoration-color: #008000\">'yup.'</span>, <span style=\"color: #808000; text-decoration-color: #808000\">id</span>=<span style=\"color: #008000; text-decoration-color: #008000\">'user-5'</span><span style=\"font-weight: bold\">)</span>,\n",
       "<span style=\"color: #7fbf7f; text-decoration-color: #7fbf7f\">│   │   </span><span style=\"color: #800080; text-decoration-color: #800080; font-weight: bold\">HumanMessage</span><span style=\"font-weight: bold\">(</span><span style=\"color: #808000; text-decoration-color: #808000\">content</span>=<span style=\"color: #008000; text-decoration-color: #008000\">'Great.....'</span>, <span style=\"color: #808000; text-decoration-color: #808000\">id</span>=<span style=\"color: #008000; text-decoration-color: #008000\">'user-L'</span><span style=\"font-weight: bold\">)</span>,\n",
       "<span style=\"color: #7fbf7f; text-decoration-color: #7fbf7f\">│   │   </span><span style=\"color: #800080; text-decoration-color: #800080; font-weight: bold\">HumanMessage</span><span style=\"font-weight: bold\">(</span><span style=\"color: #808000; text-decoration-color: #808000\">content</span>=<span style=\"color: #008000; text-decoration-color: #008000\">'alles klar'</span>, <span style=\"color: #808000; text-decoration-color: #808000\">id</span>=<span style=\"color: #008000; text-decoration-color: #008000\">'user-XXXXL'</span><span style=\"font-weight: bold\">)</span>,\n",
       "<span style=\"color: #7fbf7f; text-decoration-color: #7fbf7f\">│   │   </span><span style=\"color: #800080; text-decoration-color: #800080; font-weight: bold\">HumanMessage</span><span style=\"font-weight: bold\">(</span><span style=\"color: #808000; text-decoration-color: #808000\">content</span>=<span style=\"color: #008000; text-decoration-color: #008000\">\"I'm good and the best.\"</span>, <span style=\"color: #808000; text-decoration-color: #808000\">id</span>=<span style=\"color: #008000; text-decoration-color: #008000\">'user-5'</span><span style=\"font-weight: bold\">)</span>\n",
       "<span style=\"color: #7fbf7f; text-decoration-color: #7fbf7f\">│   </span><span style=\"font-weight: bold\">]</span>\n",
       "<span style=\"font-weight: bold\">}</span>\n",
       "</pre>\n"
      ],
      "text/plain": [
       "\u001b[1m{\u001b[0m\n",
       "\u001b[2;32m│   \u001b[0m\u001b[32m'history'\u001b[0m: \u001b[1m[\u001b[0m\n",
       "\u001b[2;32m│   │   \u001b[0m\u001b[1;35mAIMessage\u001b[0m\u001b[1m(\u001b[0m\u001b[33mcontent\u001b[0m=\u001b[32m'This is a Gaming Place'\u001b[0m\u001b[1m)\u001b[0m,\n",
       "\u001b[2;32m│   │   \u001b[0m\u001b[1;35mHumanMessage\u001b[0m\u001b[1m(\u001b[0m\u001b[33mcontent\u001b[0m=\u001b[32m'Hello dudes'\u001b[0m, \u001b[33mid\u001b[0m=\u001b[32m'user-1'\u001b[0m\u001b[1m)\u001b[0m,\n",
       "\u001b[2;32m│   │   \u001b[0m\u001b[1;35mHumanMessage\u001b[0m\u001b[1m(\u001b[0m\u001b[33mcontent\u001b[0m=\u001b[32m'hi'\u001b[0m, \u001b[33mid\u001b[0m=\u001b[32m'user-2'\u001b[0m\u001b[1m)\u001b[0m,\n",
       "\u001b[2;32m│   │   \u001b[0m\u001b[1;35mHumanMessage\u001b[0m\u001b[1m(\u001b[0m\u001b[33mcontent\u001b[0m=\u001b[32m'yo yo'\u001b[0m, \u001b[33mid\u001b[0m=\u001b[32m'user-3'\u001b[0m\u001b[1m)\u001b[0m,\n",
       "\u001b[2;32m│   │   \u001b[0m\u001b[1;35mHumanMessage\u001b[0m\u001b[1m(\u001b[0m\u001b[33mcontent\u001b[0m=\u001b[32m'nice to see you'\u001b[0m, \u001b[33mid\u001b[0m=\u001b[32m'user-4'\u001b[0m\u001b[1m)\u001b[0m,\n",
       "\u001b[2;32m│   │   \u001b[0m\u001b[1;35mHumanMessage\u001b[0m\u001b[1m(\u001b[0m\u001b[33mcontent\u001b[0m=\u001b[32m'hoho dude'\u001b[0m, \u001b[33mid\u001b[0m=\u001b[32m'user-5'\u001b[0m\u001b[1m)\u001b[0m,\n",
       "\u001b[2;32m│   │   \u001b[0m\u001b[1;35mHumanMessage\u001b[0m\u001b[1m(\u001b[0m\u001b[33mcontent\u001b[0m=\u001b[32m'o lalala'\u001b[0m, \u001b[33mid\u001b[0m=\u001b[32m'user-L'\u001b[0m\u001b[1m)\u001b[0m,\n",
       "\u001b[2;32m│   │   \u001b[0m\u001b[1;35mHumanMessage\u001b[0m\u001b[1m(\u001b[0m\u001b[33mcontent\u001b[0m=\u001b[32m'guten tag'\u001b[0m, \u001b[33mid\u001b[0m=\u001b[32m'user-XXXXL'\u001b[0m\u001b[1m)\u001b[0m,\n",
       "\u001b[2;32m│   │   \u001b[0m\u001b[1;35mHumanMessage\u001b[0m\u001b[1m(\u001b[0m\u001b[33mcontent\u001b[0m=\u001b[32m\"Let\u001b[0m\u001b[32m's get started, ok?\"\u001b[0m, \u001b[33mid\u001b[0m=\u001b[32m'user-1'\u001b[0m\u001b[1m)\u001b[0m,\n",
       "\u001b[2;32m│   │   \u001b[0m\u001b[1;35mHumanMessage\u001b[0m\u001b[1m(\u001b[0m\u001b[33mcontent\u001b[0m=\u001b[32m'YES'\u001b[0m, \u001b[33mid\u001b[0m=\u001b[32m'user-2'\u001b[0m\u001b[1m)\u001b[0m,\n",
       "\u001b[2;32m│   │   \u001b[0m\u001b[1;35mHumanMessage\u001b[0m\u001b[1m(\u001b[0m\u001b[33mcontent\u001b[0m=\u001b[32m'YEAH....'\u001b[0m, \u001b[33mid\u001b[0m=\u001b[32m'user-3'\u001b[0m\u001b[1m)\u001b[0m,\n",
       "\u001b[2;32m│   │   \u001b[0m\u001b[1;35mHumanMessage\u001b[0m\u001b[1m(\u001b[0m\u001b[33mcontent\u001b[0m=\u001b[32m'Cool..'\u001b[0m, \u001b[33mid\u001b[0m=\u001b[32m'user-4'\u001b[0m\u001b[1m)\u001b[0m,\n",
       "\u001b[2;32m│   │   \u001b[0m\u001b[1;35mHumanMessage\u001b[0m\u001b[1m(\u001b[0m\u001b[33mcontent\u001b[0m=\u001b[32m'yup.'\u001b[0m, \u001b[33mid\u001b[0m=\u001b[32m'user-5'\u001b[0m\u001b[1m)\u001b[0m,\n",
       "\u001b[2;32m│   │   \u001b[0m\u001b[1;35mHumanMessage\u001b[0m\u001b[1m(\u001b[0m\u001b[33mcontent\u001b[0m=\u001b[32m'Great.....'\u001b[0m, \u001b[33mid\u001b[0m=\u001b[32m'user-L'\u001b[0m\u001b[1m)\u001b[0m,\n",
       "\u001b[2;32m│   │   \u001b[0m\u001b[1;35mHumanMessage\u001b[0m\u001b[1m(\u001b[0m\u001b[33mcontent\u001b[0m=\u001b[32m'alles klar'\u001b[0m, \u001b[33mid\u001b[0m=\u001b[32m'user-XXXXL'\u001b[0m\u001b[1m)\u001b[0m,\n",
       "\u001b[2;32m│   │   \u001b[0m\u001b[1;35mHumanMessage\u001b[0m\u001b[1m(\u001b[0m\u001b[33mcontent\u001b[0m=\u001b[32m\"I\u001b[0m\u001b[32m'm good and the best.\"\u001b[0m, \u001b[33mid\u001b[0m=\u001b[32m'user-5'\u001b[0m\u001b[1m)\u001b[0m\n",
       "\u001b[2;32m│   \u001b[0m\u001b[1m]\u001b[0m\n",
       "\u001b[1m}\u001b[0m\n"
      ]
     },
     "metadata": {},
     "output_type": "display_data"
    },
    {
     "name": "stdout",
     "output_type": "stream",
     "text": [
      "Memory Variables in str list (buffer_as_str)\n"
     ]
    },
    {
     "data": {
      "text/html": [
       "<pre style=\"white-space:pre;overflow-x:auto;line-height:normal;font-family:Menlo,'DejaVu Sans Mono',consolas,'Courier New',monospace\"><span style=\"color: #008000; text-decoration-color: #008000\">\"AI: This is a Gaming Place\\nHuman: Hello dudes\\nHuman: hi\\nHuman: yo yo\\nHuman: nice to see you\\nHuman: hoho dude\\nHuman: o lalala\\nHuman: guten tag\\nHuman: Let's get started, ok?\\nHuman: YES\\nHuman: YEAH....\\nHuman: Cool..\\nHuman: yup.\\nHuman: Great.....\\nHuman: alles klar\\nHuman: I'm good and the best.\"</span>\n",
       "</pre>\n"
      ],
      "text/plain": [
       "\u001b[32m\"AI: This is a Gaming Place\\nHuman: Hello dudes\\nHuman: hi\\nHuman: yo yo\\nHuman: nice to see you\\nHuman: hoho dude\\nHuman: o lalala\\nHuman: guten tag\\nHuman: Let's get started, ok?\\nHuman: YES\\nHuman: YEAH....\\nHuman: Cool..\\nHuman: yup.\\nHuman: Great.....\\nHuman: alles klar\\nHuman: I'm good and the best.\"\u001b[0m\n"
      ]
     },
     "metadata": {},
     "output_type": "display_data"
    },
    {
     "name": "stdout",
     "output_type": "stream",
     "text": [
      "cxt_dict\n"
     ]
    },
    {
     "data": {
      "text/html": [
       "<pre style=\"white-space:pre;overflow-x:auto;line-height:normal;font-family:Menlo,'DejaVu Sans Mono',consolas,'Courier New',monospace\"><span style=\"font-weight: bold\">[</span>\n",
       "<span style=\"color: #7fbf7f; text-decoration-color: #7fbf7f\">│   </span><span style=\"color: #008000; text-decoration-color: #008000\">\"The following is a friendly conversation between a human and an AI. The AI is talkative and provides lots of specific details from its context. \\nIf the AI does not know the answer to a question, it truthfully says it does not know.\\n\\nNotice: The 'uid' is user id, 'role' is user role for human or ai, 'content' is the message content.\\n\\n\"</span>,\n",
       "<span style=\"color: #7fbf7f; text-decoration-color: #7fbf7f\">│   </span><span style=\"font-weight: bold\">{</span><span style=\"color: #008000; text-decoration-color: #008000\">'role'</span>: <span style=\"color: #008000; text-decoration-color: #008000\">'ai'</span>, <span style=\"color: #008000; text-decoration-color: #008000\">'content'</span>: <span style=\"color: #008000; text-decoration-color: #008000\">'{\\nuid:\"\"\\nrole:\"ai\"\\ncontent:\"This is a Gaming Place\"\\n}\\n'</span><span style=\"font-weight: bold\">}</span>,\n",
       "<span style=\"color: #7fbf7f; text-decoration-color: #7fbf7f\">│   </span><span style=\"font-weight: bold\">{</span><span style=\"color: #008000; text-decoration-color: #008000\">'role'</span>: <span style=\"color: #008000; text-decoration-color: #008000\">'human'</span>, <span style=\"color: #008000; text-decoration-color: #008000\">'content'</span>: <span style=\"color: #008000; text-decoration-color: #008000\">'{\\nuid:\"user-1\"\\nrole:\"human\"\\ncontent:\"Hello dudes\"\\n}\\n'</span><span style=\"font-weight: bold\">}</span>,\n",
       "<span style=\"color: #7fbf7f; text-decoration-color: #7fbf7f\">│   </span><span style=\"font-weight: bold\">{</span><span style=\"color: #008000; text-decoration-color: #008000\">'role'</span>: <span style=\"color: #008000; text-decoration-color: #008000\">'human'</span>, <span style=\"color: #008000; text-decoration-color: #008000\">'content'</span>: <span style=\"color: #008000; text-decoration-color: #008000\">'{\\nuid:\"user-2\"\\nrole:\"human\"\\ncontent:\"hi\"\\n}\\n'</span><span style=\"font-weight: bold\">}</span>,\n",
       "<span style=\"color: #7fbf7f; text-decoration-color: #7fbf7f\">│   </span><span style=\"font-weight: bold\">{</span><span style=\"color: #008000; text-decoration-color: #008000\">'role'</span>: <span style=\"color: #008000; text-decoration-color: #008000\">'human'</span>, <span style=\"color: #008000; text-decoration-color: #008000\">'content'</span>: <span style=\"color: #008000; text-decoration-color: #008000\">'{\\nuid:\"user-3\"\\nrole:\"human\"\\ncontent:\"yo yo\"\\n}\\n'</span><span style=\"font-weight: bold\">}</span>,\n",
       "<span style=\"color: #7fbf7f; text-decoration-color: #7fbf7f\">│   </span><span style=\"font-weight: bold\">{</span><span style=\"color: #008000; text-decoration-color: #008000\">'role'</span>: <span style=\"color: #008000; text-decoration-color: #008000\">'human'</span>, <span style=\"color: #008000; text-decoration-color: #008000\">'content'</span>: <span style=\"color: #008000; text-decoration-color: #008000\">'{\\nuid:\"user-4\"\\nrole:\"human\"\\ncontent:\"nice to see you\"\\n}\\n'</span><span style=\"font-weight: bold\">}</span>,\n",
       "<span style=\"color: #7fbf7f; text-decoration-color: #7fbf7f\">│   </span><span style=\"font-weight: bold\">{</span><span style=\"color: #008000; text-decoration-color: #008000\">'role'</span>: <span style=\"color: #008000; text-decoration-color: #008000\">'human'</span>, <span style=\"color: #008000; text-decoration-color: #008000\">'content'</span>: <span style=\"color: #008000; text-decoration-color: #008000\">'{\\nuid:\"user-5\"\\nrole:\"human\"\\ncontent:\"hoho dude\"\\n}\\n'</span><span style=\"font-weight: bold\">}</span>,\n",
       "<span style=\"color: #7fbf7f; text-decoration-color: #7fbf7f\">│   </span><span style=\"font-weight: bold\">{</span><span style=\"color: #008000; text-decoration-color: #008000\">'role'</span>: <span style=\"color: #008000; text-decoration-color: #008000\">'human'</span>, <span style=\"color: #008000; text-decoration-color: #008000\">'content'</span>: <span style=\"color: #008000; text-decoration-color: #008000\">'{\\nuid:\"user-L\"\\nrole:\"human\"\\ncontent:\"o lalala\"\\n}\\n'</span><span style=\"font-weight: bold\">}</span>,\n",
       "<span style=\"color: #7fbf7f; text-decoration-color: #7fbf7f\">│   </span><span style=\"font-weight: bold\">{</span><span style=\"color: #008000; text-decoration-color: #008000\">'role'</span>: <span style=\"color: #008000; text-decoration-color: #008000\">'human'</span>, <span style=\"color: #008000; text-decoration-color: #008000\">'content'</span>: <span style=\"color: #008000; text-decoration-color: #008000\">'{\\nuid:\"user-XXXXL\"\\nrole:\"human\"\\ncontent:\"guten tag\"\\n}\\n'</span><span style=\"font-weight: bold\">}</span>,\n",
       "<span style=\"color: #7fbf7f; text-decoration-color: #7fbf7f\">│   </span><span style=\"font-weight: bold\">{</span><span style=\"color: #008000; text-decoration-color: #008000\">'role'</span>: <span style=\"color: #008000; text-decoration-color: #008000\">'human'</span>, <span style=\"color: #008000; text-decoration-color: #008000\">'content'</span>: <span style=\"color: #008000; text-decoration-color: #008000\">'{\\nuid:\"user-1\"\\nrole:\"human\"\\ncontent:\"Let\\'s get started, ok?\"\\n}\\n'</span><span style=\"font-weight: bold\">}</span>,\n",
       "<span style=\"color: #7fbf7f; text-decoration-color: #7fbf7f\">│   </span><span style=\"font-weight: bold\">{</span><span style=\"color: #008000; text-decoration-color: #008000\">'role'</span>: <span style=\"color: #008000; text-decoration-color: #008000\">'human'</span>, <span style=\"color: #008000; text-decoration-color: #008000\">'content'</span>: <span style=\"color: #008000; text-decoration-color: #008000\">'{\\nuid:\"user-2\"\\nrole:\"human\"\\ncontent:\"YES\"\\n}\\n'</span><span style=\"font-weight: bold\">}</span>,\n",
       "<span style=\"color: #7fbf7f; text-decoration-color: #7fbf7f\">│   </span><span style=\"font-weight: bold\">{</span><span style=\"color: #008000; text-decoration-color: #008000\">'role'</span>: <span style=\"color: #008000; text-decoration-color: #008000\">'human'</span>, <span style=\"color: #008000; text-decoration-color: #008000\">'content'</span>: <span style=\"color: #008000; text-decoration-color: #008000\">'{\\nuid:\"user-3\"\\nrole:\"human\"\\ncontent:\"YEAH....\"\\n}\\n'</span><span style=\"font-weight: bold\">}</span>,\n",
       "<span style=\"color: #7fbf7f; text-decoration-color: #7fbf7f\">│   </span><span style=\"font-weight: bold\">{</span><span style=\"color: #008000; text-decoration-color: #008000\">'role'</span>: <span style=\"color: #008000; text-decoration-color: #008000\">'human'</span>, <span style=\"color: #008000; text-decoration-color: #008000\">'content'</span>: <span style=\"color: #008000; text-decoration-color: #008000\">'{\\nuid:\"user-4\"\\nrole:\"human\"\\ncontent:\"Cool..\"\\n}\\n'</span><span style=\"font-weight: bold\">}</span>,\n",
       "<span style=\"color: #7fbf7f; text-decoration-color: #7fbf7f\">│   </span><span style=\"font-weight: bold\">{</span><span style=\"color: #008000; text-decoration-color: #008000\">'role'</span>: <span style=\"color: #008000; text-decoration-color: #008000\">'human'</span>, <span style=\"color: #008000; text-decoration-color: #008000\">'content'</span>: <span style=\"color: #008000; text-decoration-color: #008000\">'{\\nuid:\"user-5\"\\nrole:\"human\"\\ncontent:\"yup.\"\\n}\\n'</span><span style=\"font-weight: bold\">}</span>,\n",
       "<span style=\"color: #7fbf7f; text-decoration-color: #7fbf7f\">│   </span><span style=\"font-weight: bold\">{</span><span style=\"color: #008000; text-decoration-color: #008000\">'role'</span>: <span style=\"color: #008000; text-decoration-color: #008000\">'human'</span>, <span style=\"color: #008000; text-decoration-color: #008000\">'content'</span>: <span style=\"color: #008000; text-decoration-color: #008000\">'{\\nuid:\"user-L\"\\nrole:\"human\"\\ncontent:\"Great.....\"\\n}\\n'</span><span style=\"font-weight: bold\">}</span>,\n",
       "<span style=\"color: #7fbf7f; text-decoration-color: #7fbf7f\">│   </span><span style=\"font-weight: bold\">{</span><span style=\"color: #008000; text-decoration-color: #008000\">'role'</span>: <span style=\"color: #008000; text-decoration-color: #008000\">'human'</span>, <span style=\"color: #008000; text-decoration-color: #008000\">'content'</span>: <span style=\"color: #008000; text-decoration-color: #008000\">'{\\nuid:\"user-XXXXL\"\\nrole:\"human\"\\ncontent:\"alles klar\"\\n}\\n'</span><span style=\"font-weight: bold\">}</span>,\n",
       "<span style=\"color: #7fbf7f; text-decoration-color: #7fbf7f\">│   </span><span style=\"font-weight: bold\">{</span><span style=\"color: #008000; text-decoration-color: #008000\">'role'</span>: <span style=\"color: #008000; text-decoration-color: #008000\">'human'</span>, <span style=\"color: #008000; text-decoration-color: #008000\">'content'</span>: <span style=\"color: #008000; text-decoration-color: #008000\">'{\\nuid:\"user-5\"\\nrole:\"human\"\\ncontent:\"I\\'m good and the best.\"\\n}\\n'</span><span style=\"font-weight: bold\">}</span>\n",
       "<span style=\"font-weight: bold\">]</span>\n",
       "</pre>\n"
      ],
      "text/plain": [
       "\u001b[1m[\u001b[0m\n",
       "\u001b[2;32m│   \u001b[0m\u001b[32m\"The following is a friendly conversation between a human and an AI. The AI is talkative and provides lots of specific details from its context. \\nIf the AI does not know the answer to a question, it truthfully says it does not know.\\n\\nNotice: The 'uid' is user id, 'role' is user role for human or ai, 'content' is the message content.\\n\\n\"\u001b[0m,\n",
       "\u001b[2;32m│   \u001b[0m\u001b[1m{\u001b[0m\u001b[32m'role'\u001b[0m: \u001b[32m'ai'\u001b[0m, \u001b[32m'content'\u001b[0m: \u001b[32m'\u001b[0m\u001b[32m{\u001b[0m\u001b[32m\\nuid:\"\"\\nrole:\"ai\"\\ncontent:\"This is a Gaming Place\"\\n\u001b[0m\u001b[32m}\u001b[0m\u001b[32m\\n'\u001b[0m\u001b[1m}\u001b[0m,\n",
       "\u001b[2;32m│   \u001b[0m\u001b[1m{\u001b[0m\u001b[32m'role'\u001b[0m: \u001b[32m'human'\u001b[0m, \u001b[32m'content'\u001b[0m: \u001b[32m'\u001b[0m\u001b[32m{\u001b[0m\u001b[32m\\nuid:\"user-1\"\\nrole:\"human\"\\ncontent:\"Hello dudes\"\\n\u001b[0m\u001b[32m}\u001b[0m\u001b[32m\\n'\u001b[0m\u001b[1m}\u001b[0m,\n",
       "\u001b[2;32m│   \u001b[0m\u001b[1m{\u001b[0m\u001b[32m'role'\u001b[0m: \u001b[32m'human'\u001b[0m, \u001b[32m'content'\u001b[0m: \u001b[32m'\u001b[0m\u001b[32m{\u001b[0m\u001b[32m\\nuid:\"user-2\"\\nrole:\"human\"\\ncontent:\"hi\"\\n\u001b[0m\u001b[32m}\u001b[0m\u001b[32m\\n'\u001b[0m\u001b[1m}\u001b[0m,\n",
       "\u001b[2;32m│   \u001b[0m\u001b[1m{\u001b[0m\u001b[32m'role'\u001b[0m: \u001b[32m'human'\u001b[0m, \u001b[32m'content'\u001b[0m: \u001b[32m'\u001b[0m\u001b[32m{\u001b[0m\u001b[32m\\nuid:\"user-3\"\\nrole:\"human\"\\ncontent:\"yo yo\"\\n\u001b[0m\u001b[32m}\u001b[0m\u001b[32m\\n'\u001b[0m\u001b[1m}\u001b[0m,\n",
       "\u001b[2;32m│   \u001b[0m\u001b[1m{\u001b[0m\u001b[32m'role'\u001b[0m: \u001b[32m'human'\u001b[0m, \u001b[32m'content'\u001b[0m: \u001b[32m'\u001b[0m\u001b[32m{\u001b[0m\u001b[32m\\nuid:\"user-4\"\\nrole:\"human\"\\ncontent:\"nice to see you\"\\n\u001b[0m\u001b[32m}\u001b[0m\u001b[32m\\n'\u001b[0m\u001b[1m}\u001b[0m,\n",
       "\u001b[2;32m│   \u001b[0m\u001b[1m{\u001b[0m\u001b[32m'role'\u001b[0m: \u001b[32m'human'\u001b[0m, \u001b[32m'content'\u001b[0m: \u001b[32m'\u001b[0m\u001b[32m{\u001b[0m\u001b[32m\\nuid:\"user-5\"\\nrole:\"human\"\\ncontent:\"hoho dude\"\\n\u001b[0m\u001b[32m}\u001b[0m\u001b[32m\\n'\u001b[0m\u001b[1m}\u001b[0m,\n",
       "\u001b[2;32m│   \u001b[0m\u001b[1m{\u001b[0m\u001b[32m'role'\u001b[0m: \u001b[32m'human'\u001b[0m, \u001b[32m'content'\u001b[0m: \u001b[32m'\u001b[0m\u001b[32m{\u001b[0m\u001b[32m\\nuid:\"user-L\"\\nrole:\"human\"\\ncontent:\"o lalala\"\\n\u001b[0m\u001b[32m}\u001b[0m\u001b[32m\\n'\u001b[0m\u001b[1m}\u001b[0m,\n",
       "\u001b[2;32m│   \u001b[0m\u001b[1m{\u001b[0m\u001b[32m'role'\u001b[0m: \u001b[32m'human'\u001b[0m, \u001b[32m'content'\u001b[0m: \u001b[32m'\u001b[0m\u001b[32m{\u001b[0m\u001b[32m\\nuid:\"user-XXXXL\"\\nrole:\"human\"\\ncontent:\"guten tag\"\\n\u001b[0m\u001b[32m}\u001b[0m\u001b[32m\\n'\u001b[0m\u001b[1m}\u001b[0m,\n",
       "\u001b[2;32m│   \u001b[0m\u001b[1m{\u001b[0m\u001b[32m'role'\u001b[0m: \u001b[32m'human'\u001b[0m, \u001b[32m'content'\u001b[0m: \u001b[32m'\u001b[0m\u001b[32m{\u001b[0m\u001b[32m\\nuid:\"user-1\"\\nrole:\"human\"\\ncontent:\"Let\\'s get started, ok?\"\\n\u001b[0m\u001b[32m}\u001b[0m\u001b[32m\\n'\u001b[0m\u001b[1m}\u001b[0m,\n",
       "\u001b[2;32m│   \u001b[0m\u001b[1m{\u001b[0m\u001b[32m'role'\u001b[0m: \u001b[32m'human'\u001b[0m, \u001b[32m'content'\u001b[0m: \u001b[32m'\u001b[0m\u001b[32m{\u001b[0m\u001b[32m\\nuid:\"user-2\"\\nrole:\"human\"\\ncontent:\"YES\"\\n\u001b[0m\u001b[32m}\u001b[0m\u001b[32m\\n'\u001b[0m\u001b[1m}\u001b[0m,\n",
       "\u001b[2;32m│   \u001b[0m\u001b[1m{\u001b[0m\u001b[32m'role'\u001b[0m: \u001b[32m'human'\u001b[0m, \u001b[32m'content'\u001b[0m: \u001b[32m'\u001b[0m\u001b[32m{\u001b[0m\u001b[32m\\nuid:\"user-3\"\\nrole:\"human\"\\ncontent:\"YEAH....\"\\n\u001b[0m\u001b[32m}\u001b[0m\u001b[32m\\n'\u001b[0m\u001b[1m}\u001b[0m,\n",
       "\u001b[2;32m│   \u001b[0m\u001b[1m{\u001b[0m\u001b[32m'role'\u001b[0m: \u001b[32m'human'\u001b[0m, \u001b[32m'content'\u001b[0m: \u001b[32m'\u001b[0m\u001b[32m{\u001b[0m\u001b[32m\\nuid:\"user-4\"\\nrole:\"human\"\\ncontent:\"Cool..\"\\n\u001b[0m\u001b[32m}\u001b[0m\u001b[32m\\n'\u001b[0m\u001b[1m}\u001b[0m,\n",
       "\u001b[2;32m│   \u001b[0m\u001b[1m{\u001b[0m\u001b[32m'role'\u001b[0m: \u001b[32m'human'\u001b[0m, \u001b[32m'content'\u001b[0m: \u001b[32m'\u001b[0m\u001b[32m{\u001b[0m\u001b[32m\\nuid:\"user-5\"\\nrole:\"human\"\\ncontent:\"yup.\"\\n\u001b[0m\u001b[32m}\u001b[0m\u001b[32m\\n'\u001b[0m\u001b[1m}\u001b[0m,\n",
       "\u001b[2;32m│   \u001b[0m\u001b[1m{\u001b[0m\u001b[32m'role'\u001b[0m: \u001b[32m'human'\u001b[0m, \u001b[32m'content'\u001b[0m: \u001b[32m'\u001b[0m\u001b[32m{\u001b[0m\u001b[32m\\nuid:\"user-L\"\\nrole:\"human\"\\ncontent:\"Great.....\"\\n\u001b[0m\u001b[32m}\u001b[0m\u001b[32m\\n'\u001b[0m\u001b[1m}\u001b[0m,\n",
       "\u001b[2;32m│   \u001b[0m\u001b[1m{\u001b[0m\u001b[32m'role'\u001b[0m: \u001b[32m'human'\u001b[0m, \u001b[32m'content'\u001b[0m: \u001b[32m'\u001b[0m\u001b[32m{\u001b[0m\u001b[32m\\nuid:\"user-XXXXL\"\\nrole:\"human\"\\ncontent:\"alles klar\"\\n\u001b[0m\u001b[32m}\u001b[0m\u001b[32m\\n'\u001b[0m\u001b[1m}\u001b[0m,\n",
       "\u001b[2;32m│   \u001b[0m\u001b[1m{\u001b[0m\u001b[32m'role'\u001b[0m: \u001b[32m'human'\u001b[0m, \u001b[32m'content'\u001b[0m: \u001b[32m'\u001b[0m\u001b[32m{\u001b[0m\u001b[32m\\nuid:\"user-5\"\\nrole:\"human\"\\ncontent:\"I\\'m good and the best.\"\\n\u001b[0m\u001b[32m}\u001b[0m\u001b[32m\\n'\u001b[0m\u001b[1m}\u001b[0m\n",
       "\u001b[1m]\u001b[0m\n"
      ]
     },
     "metadata": {},
     "output_type": "display_data"
    },
    {
     "name": "stdout",
     "output_type": "stream",
     "text": [
      "Result\n"
     ]
    },
    {
     "data": {
      "text/html": [
       "<pre style=\"white-space:pre;overflow-x:auto;line-height:normal;font-family:Menlo,'DejaVu Sans Mono',consolas,'Courier New',monospace\"><span style=\"color: #800080; text-decoration-color: #800080; font-weight: bold\">AIMessage</span><span style=\"font-weight: bold\">(</span><span style=\"color: #808000; text-decoration-color: #808000\">content</span>=<span style=\"color: #008000; text-decoration-color: #008000\">'[\"user-1\", \"user-2\", \"user-3\", \"user-4\", \"user-5\", \"user-L\", \"user-XXXXL\"]'</span><span style=\"font-weight: bold\">)</span>\n",
       "</pre>\n"
      ],
      "text/plain": [
       "\u001b[1;35mAIMessage\u001b[0m\u001b[1m(\u001b[0m\u001b[33mcontent\u001b[0m=\u001b[32m'\u001b[0m\u001b[32m[\u001b[0m\u001b[32m\"user-1\", \"user-2\", \"user-3\", \"user-4\", \"user-5\", \"user-L\", \"user-XXXXL\"\u001b[0m\u001b[32m]\u001b[0m\u001b[32m'\u001b[0m\u001b[1m)\u001b[0m\n"
      ]
     },
     "metadata": {},
     "output_type": "display_data"
    },
    {
     "name": "stdout",
     "output_type": "stream",
     "text": [
      "cxt_dict\n"
     ]
    },
    {
     "data": {
      "text/html": [
       "<pre style=\"white-space:pre;overflow-x:auto;line-height:normal;font-family:Menlo,'DejaVu Sans Mono',consolas,'Courier New',monospace\"><span style=\"font-weight: bold\">[</span>\n",
       "<span style=\"color: #7fbf7f; text-decoration-color: #7fbf7f\">│   </span><span style=\"color: #008000; text-decoration-color: #008000\">\"The following is a friendly conversation between a human and an AI. The AI is talkative and provides lots of specific details from its context. \\nIf the AI does not know the answer to a question, it truthfully says it does not know.\\n\\nNotice: The 'uid' is user id, 'role' is user role for human or ai, 'content' is the message content.\\n\\n\"</span>,\n",
       "<span style=\"color: #7fbf7f; text-decoration-color: #7fbf7f\">│   </span><span style=\"font-weight: bold\">{</span><span style=\"color: #008000; text-decoration-color: #008000\">'role'</span>: <span style=\"color: #008000; text-decoration-color: #008000\">'ai'</span>, <span style=\"color: #008000; text-decoration-color: #008000\">'content'</span>: <span style=\"color: #008000; text-decoration-color: #008000\">'{\\nuid:\"\"\\nrole:\"ai\"\\ncontent:\"This is a Gaming Place\"\\n}\\n'</span><span style=\"font-weight: bold\">}</span>,\n",
       "<span style=\"color: #7fbf7f; text-decoration-color: #7fbf7f\">│   </span><span style=\"font-weight: bold\">{</span><span style=\"color: #008000; text-decoration-color: #008000\">'role'</span>: <span style=\"color: #008000; text-decoration-color: #008000\">'human'</span>, <span style=\"color: #008000; text-decoration-color: #008000\">'content'</span>: <span style=\"color: #008000; text-decoration-color: #008000\">'{\\nuid:\"user-1\"\\nrole:\"human\"\\ncontent:\"Hello dudes\"\\n}\\n'</span><span style=\"font-weight: bold\">}</span>,\n",
       "<span style=\"color: #7fbf7f; text-decoration-color: #7fbf7f\">│   </span><span style=\"font-weight: bold\">{</span><span style=\"color: #008000; text-decoration-color: #008000\">'role'</span>: <span style=\"color: #008000; text-decoration-color: #008000\">'human'</span>, <span style=\"color: #008000; text-decoration-color: #008000\">'content'</span>: <span style=\"color: #008000; text-decoration-color: #008000\">'{\\nuid:\"user-2\"\\nrole:\"human\"\\ncontent:\"hi\"\\n}\\n'</span><span style=\"font-weight: bold\">}</span>,\n",
       "<span style=\"color: #7fbf7f; text-decoration-color: #7fbf7f\">│   </span><span style=\"font-weight: bold\">{</span><span style=\"color: #008000; text-decoration-color: #008000\">'role'</span>: <span style=\"color: #008000; text-decoration-color: #008000\">'human'</span>, <span style=\"color: #008000; text-decoration-color: #008000\">'content'</span>: <span style=\"color: #008000; text-decoration-color: #008000\">'{\\nuid:\"user-3\"\\nrole:\"human\"\\ncontent:\"yo yo\"\\n}\\n'</span><span style=\"font-weight: bold\">}</span>,\n",
       "<span style=\"color: #7fbf7f; text-decoration-color: #7fbf7f\">│   </span><span style=\"font-weight: bold\">{</span><span style=\"color: #008000; text-decoration-color: #008000\">'role'</span>: <span style=\"color: #008000; text-decoration-color: #008000\">'human'</span>, <span style=\"color: #008000; text-decoration-color: #008000\">'content'</span>: <span style=\"color: #008000; text-decoration-color: #008000\">'{\\nuid:\"user-4\"\\nrole:\"human\"\\ncontent:\"nice to see you\"\\n}\\n'</span><span style=\"font-weight: bold\">}</span>,\n",
       "<span style=\"color: #7fbf7f; text-decoration-color: #7fbf7f\">│   </span><span style=\"font-weight: bold\">{</span><span style=\"color: #008000; text-decoration-color: #008000\">'role'</span>: <span style=\"color: #008000; text-decoration-color: #008000\">'human'</span>, <span style=\"color: #008000; text-decoration-color: #008000\">'content'</span>: <span style=\"color: #008000; text-decoration-color: #008000\">'{\\nuid:\"user-5\"\\nrole:\"human\"\\ncontent:\"hoho dude\"\\n}\\n'</span><span style=\"font-weight: bold\">}</span>,\n",
       "<span style=\"color: #7fbf7f; text-decoration-color: #7fbf7f\">│   </span><span style=\"font-weight: bold\">{</span><span style=\"color: #008000; text-decoration-color: #008000\">'role'</span>: <span style=\"color: #008000; text-decoration-color: #008000\">'human'</span>, <span style=\"color: #008000; text-decoration-color: #008000\">'content'</span>: <span style=\"color: #008000; text-decoration-color: #008000\">'{\\nuid:\"user-L\"\\nrole:\"human\"\\ncontent:\"o lalala\"\\n}\\n'</span><span style=\"font-weight: bold\">}</span>,\n",
       "<span style=\"color: #7fbf7f; text-decoration-color: #7fbf7f\">│   </span><span style=\"font-weight: bold\">{</span><span style=\"color: #008000; text-decoration-color: #008000\">'role'</span>: <span style=\"color: #008000; text-decoration-color: #008000\">'human'</span>, <span style=\"color: #008000; text-decoration-color: #008000\">'content'</span>: <span style=\"color: #008000; text-decoration-color: #008000\">'{\\nuid:\"user-XXXXL\"\\nrole:\"human\"\\ncontent:\"guten tag\"\\n}\\n'</span><span style=\"font-weight: bold\">}</span>,\n",
       "<span style=\"color: #7fbf7f; text-decoration-color: #7fbf7f\">│   </span><span style=\"font-weight: bold\">{</span><span style=\"color: #008000; text-decoration-color: #008000\">'role'</span>: <span style=\"color: #008000; text-decoration-color: #008000\">'human'</span>, <span style=\"color: #008000; text-decoration-color: #008000\">'content'</span>: <span style=\"color: #008000; text-decoration-color: #008000\">'{\\nuid:\"user-1\"\\nrole:\"human\"\\ncontent:\"Let\\'s get started, ok?\"\\n}\\n'</span><span style=\"font-weight: bold\">}</span>,\n",
       "<span style=\"color: #7fbf7f; text-decoration-color: #7fbf7f\">│   </span><span style=\"font-weight: bold\">{</span><span style=\"color: #008000; text-decoration-color: #008000\">'role'</span>: <span style=\"color: #008000; text-decoration-color: #008000\">'human'</span>, <span style=\"color: #008000; text-decoration-color: #008000\">'content'</span>: <span style=\"color: #008000; text-decoration-color: #008000\">'{\\nuid:\"user-2\"\\nrole:\"human\"\\ncontent:\"YES\"\\n}\\n'</span><span style=\"font-weight: bold\">}</span>,\n",
       "<span style=\"color: #7fbf7f; text-decoration-color: #7fbf7f\">│   </span><span style=\"font-weight: bold\">{</span><span style=\"color: #008000; text-decoration-color: #008000\">'role'</span>: <span style=\"color: #008000; text-decoration-color: #008000\">'human'</span>, <span style=\"color: #008000; text-decoration-color: #008000\">'content'</span>: <span style=\"color: #008000; text-decoration-color: #008000\">'{\\nuid:\"user-3\"\\nrole:\"human\"\\ncontent:\"YEAH....\"\\n}\\n'</span><span style=\"font-weight: bold\">}</span>,\n",
       "<span style=\"color: #7fbf7f; text-decoration-color: #7fbf7f\">│   </span><span style=\"font-weight: bold\">{</span><span style=\"color: #008000; text-decoration-color: #008000\">'role'</span>: <span style=\"color: #008000; text-decoration-color: #008000\">'human'</span>, <span style=\"color: #008000; text-decoration-color: #008000\">'content'</span>: <span style=\"color: #008000; text-decoration-color: #008000\">'{\\nuid:\"user-4\"\\nrole:\"human\"\\ncontent:\"Cool..\"\\n}\\n'</span><span style=\"font-weight: bold\">}</span>,\n",
       "<span style=\"color: #7fbf7f; text-decoration-color: #7fbf7f\">│   </span><span style=\"font-weight: bold\">{</span><span style=\"color: #008000; text-decoration-color: #008000\">'role'</span>: <span style=\"color: #008000; text-decoration-color: #008000\">'human'</span>, <span style=\"color: #008000; text-decoration-color: #008000\">'content'</span>: <span style=\"color: #008000; text-decoration-color: #008000\">'{\\nuid:\"user-5\"\\nrole:\"human\"\\ncontent:\"yup.\"\\n}\\n'</span><span style=\"font-weight: bold\">}</span>,\n",
       "<span style=\"color: #7fbf7f; text-decoration-color: #7fbf7f\">│   </span><span style=\"font-weight: bold\">{</span><span style=\"color: #008000; text-decoration-color: #008000\">'role'</span>: <span style=\"color: #008000; text-decoration-color: #008000\">'human'</span>, <span style=\"color: #008000; text-decoration-color: #008000\">'content'</span>: <span style=\"color: #008000; text-decoration-color: #008000\">'{\\nuid:\"user-L\"\\nrole:\"human\"\\ncontent:\"Great.....\"\\n}\\n'</span><span style=\"font-weight: bold\">}</span>,\n",
       "<span style=\"color: #7fbf7f; text-decoration-color: #7fbf7f\">│   </span><span style=\"font-weight: bold\">{</span><span style=\"color: #008000; text-decoration-color: #008000\">'role'</span>: <span style=\"color: #008000; text-decoration-color: #008000\">'human'</span>, <span style=\"color: #008000; text-decoration-color: #008000\">'content'</span>: <span style=\"color: #008000; text-decoration-color: #008000\">'{\\nuid:\"user-XXXXL\"\\nrole:\"human\"\\ncontent:\"alles klar\"\\n}\\n'</span><span style=\"font-weight: bold\">}</span>,\n",
       "<span style=\"color: #7fbf7f; text-decoration-color: #7fbf7f\">│   </span><span style=\"font-weight: bold\">{</span><span style=\"color: #008000; text-decoration-color: #008000\">'role'</span>: <span style=\"color: #008000; text-decoration-color: #008000\">'human'</span>, <span style=\"color: #008000; text-decoration-color: #008000\">'content'</span>: <span style=\"color: #008000; text-decoration-color: #008000\">'{\\nuid:\"user-5\"\\nrole:\"human\"\\ncontent:\"I\\'m good and the best.\"\\n}\\n'</span><span style=\"font-weight: bold\">}</span>,\n",
       "<span style=\"color: #7fbf7f; text-decoration-color: #7fbf7f\">│   </span><span style=\"font-weight: bold\">{</span>\n",
       "<span style=\"color: #7fbf7f; text-decoration-color: #7fbf7f\">│   │   </span><span style=\"color: #008000; text-decoration-color: #008000\">'role'</span>: <span style=\"color: #008000; text-decoration-color: #008000\">'human'</span>,\n",
       "<span style=\"color: #7fbf7f; text-decoration-color: #7fbf7f\">│   │   </span><span style=\"color: #008000; text-decoration-color: #008000\">'content'</span>: <span style=\"color: #008000; text-decoration-color: #008000\">'{\\nuid:\"user-X\"\\nrole:\"human\"\\ncontent:\"How many users are involved in this conversation, the valid has value in \\'uid\\'? \\nOnly provide the list of user `uid`s in `[... ]` as result without any instruction text or additional information.\"\\n}\\n'</span>\n",
       "<span style=\"color: #7fbf7f; text-decoration-color: #7fbf7f\">│   </span><span style=\"font-weight: bold\">}</span>,\n",
       "<span style=\"color: #7fbf7f; text-decoration-color: #7fbf7f\">│   </span><span style=\"font-weight: bold\">{</span>\n",
       "<span style=\"color: #7fbf7f; text-decoration-color: #7fbf7f\">│   │   </span><span style=\"color: #008000; text-decoration-color: #008000\">'role'</span>: <span style=\"color: #008000; text-decoration-color: #008000\">'ai'</span>,\n",
       "<span style=\"color: #7fbf7f; text-decoration-color: #7fbf7f\">│   │   </span><span style=\"color: #008000; text-decoration-color: #008000\">'content'</span>: <span style=\"color: #008000; text-decoration-color: #008000\">'{\\nuid:\"\"\\nrole:\"ai\"\\ncontent:\"[\"user-1\", \"user-2\", \"user-3\", \"user-4\", \"user-5\", \"user-L\", \"user-XXXXL\"]\"\\n}\\n'</span>\n",
       "<span style=\"color: #7fbf7f; text-decoration-color: #7fbf7f\">│   </span><span style=\"font-weight: bold\">}</span>\n",
       "<span style=\"font-weight: bold\">]</span>\n",
       "</pre>\n"
      ],
      "text/plain": [
       "\u001b[1m[\u001b[0m\n",
       "\u001b[2;32m│   \u001b[0m\u001b[32m\"The following is a friendly conversation between a human and an AI. The AI is talkative and provides lots of specific details from its context. \\nIf the AI does not know the answer to a question, it truthfully says it does not know.\\n\\nNotice: The 'uid' is user id, 'role' is user role for human or ai, 'content' is the message content.\\n\\n\"\u001b[0m,\n",
       "\u001b[2;32m│   \u001b[0m\u001b[1m{\u001b[0m\u001b[32m'role'\u001b[0m: \u001b[32m'ai'\u001b[0m, \u001b[32m'content'\u001b[0m: \u001b[32m'\u001b[0m\u001b[32m{\u001b[0m\u001b[32m\\nuid:\"\"\\nrole:\"ai\"\\ncontent:\"This is a Gaming Place\"\\n\u001b[0m\u001b[32m}\u001b[0m\u001b[32m\\n'\u001b[0m\u001b[1m}\u001b[0m,\n",
       "\u001b[2;32m│   \u001b[0m\u001b[1m{\u001b[0m\u001b[32m'role'\u001b[0m: \u001b[32m'human'\u001b[0m, \u001b[32m'content'\u001b[0m: \u001b[32m'\u001b[0m\u001b[32m{\u001b[0m\u001b[32m\\nuid:\"user-1\"\\nrole:\"human\"\\ncontent:\"Hello dudes\"\\n\u001b[0m\u001b[32m}\u001b[0m\u001b[32m\\n'\u001b[0m\u001b[1m}\u001b[0m,\n",
       "\u001b[2;32m│   \u001b[0m\u001b[1m{\u001b[0m\u001b[32m'role'\u001b[0m: \u001b[32m'human'\u001b[0m, \u001b[32m'content'\u001b[0m: \u001b[32m'\u001b[0m\u001b[32m{\u001b[0m\u001b[32m\\nuid:\"user-2\"\\nrole:\"human\"\\ncontent:\"hi\"\\n\u001b[0m\u001b[32m}\u001b[0m\u001b[32m\\n'\u001b[0m\u001b[1m}\u001b[0m,\n",
       "\u001b[2;32m│   \u001b[0m\u001b[1m{\u001b[0m\u001b[32m'role'\u001b[0m: \u001b[32m'human'\u001b[0m, \u001b[32m'content'\u001b[0m: \u001b[32m'\u001b[0m\u001b[32m{\u001b[0m\u001b[32m\\nuid:\"user-3\"\\nrole:\"human\"\\ncontent:\"yo yo\"\\n\u001b[0m\u001b[32m}\u001b[0m\u001b[32m\\n'\u001b[0m\u001b[1m}\u001b[0m,\n",
       "\u001b[2;32m│   \u001b[0m\u001b[1m{\u001b[0m\u001b[32m'role'\u001b[0m: \u001b[32m'human'\u001b[0m, \u001b[32m'content'\u001b[0m: \u001b[32m'\u001b[0m\u001b[32m{\u001b[0m\u001b[32m\\nuid:\"user-4\"\\nrole:\"human\"\\ncontent:\"nice to see you\"\\n\u001b[0m\u001b[32m}\u001b[0m\u001b[32m\\n'\u001b[0m\u001b[1m}\u001b[0m,\n",
       "\u001b[2;32m│   \u001b[0m\u001b[1m{\u001b[0m\u001b[32m'role'\u001b[0m: \u001b[32m'human'\u001b[0m, \u001b[32m'content'\u001b[0m: \u001b[32m'\u001b[0m\u001b[32m{\u001b[0m\u001b[32m\\nuid:\"user-5\"\\nrole:\"human\"\\ncontent:\"hoho dude\"\\n\u001b[0m\u001b[32m}\u001b[0m\u001b[32m\\n'\u001b[0m\u001b[1m}\u001b[0m,\n",
       "\u001b[2;32m│   \u001b[0m\u001b[1m{\u001b[0m\u001b[32m'role'\u001b[0m: \u001b[32m'human'\u001b[0m, \u001b[32m'content'\u001b[0m: \u001b[32m'\u001b[0m\u001b[32m{\u001b[0m\u001b[32m\\nuid:\"user-L\"\\nrole:\"human\"\\ncontent:\"o lalala\"\\n\u001b[0m\u001b[32m}\u001b[0m\u001b[32m\\n'\u001b[0m\u001b[1m}\u001b[0m,\n",
       "\u001b[2;32m│   \u001b[0m\u001b[1m{\u001b[0m\u001b[32m'role'\u001b[0m: \u001b[32m'human'\u001b[0m, \u001b[32m'content'\u001b[0m: \u001b[32m'\u001b[0m\u001b[32m{\u001b[0m\u001b[32m\\nuid:\"user-XXXXL\"\\nrole:\"human\"\\ncontent:\"guten tag\"\\n\u001b[0m\u001b[32m}\u001b[0m\u001b[32m\\n'\u001b[0m\u001b[1m}\u001b[0m,\n",
       "\u001b[2;32m│   \u001b[0m\u001b[1m{\u001b[0m\u001b[32m'role'\u001b[0m: \u001b[32m'human'\u001b[0m, \u001b[32m'content'\u001b[0m: \u001b[32m'\u001b[0m\u001b[32m{\u001b[0m\u001b[32m\\nuid:\"user-1\"\\nrole:\"human\"\\ncontent:\"Let\\'s get started, ok?\"\\n\u001b[0m\u001b[32m}\u001b[0m\u001b[32m\\n'\u001b[0m\u001b[1m}\u001b[0m,\n",
       "\u001b[2;32m│   \u001b[0m\u001b[1m{\u001b[0m\u001b[32m'role'\u001b[0m: \u001b[32m'human'\u001b[0m, \u001b[32m'content'\u001b[0m: \u001b[32m'\u001b[0m\u001b[32m{\u001b[0m\u001b[32m\\nuid:\"user-2\"\\nrole:\"human\"\\ncontent:\"YES\"\\n\u001b[0m\u001b[32m}\u001b[0m\u001b[32m\\n'\u001b[0m\u001b[1m}\u001b[0m,\n",
       "\u001b[2;32m│   \u001b[0m\u001b[1m{\u001b[0m\u001b[32m'role'\u001b[0m: \u001b[32m'human'\u001b[0m, \u001b[32m'content'\u001b[0m: \u001b[32m'\u001b[0m\u001b[32m{\u001b[0m\u001b[32m\\nuid:\"user-3\"\\nrole:\"human\"\\ncontent:\"YEAH....\"\\n\u001b[0m\u001b[32m}\u001b[0m\u001b[32m\\n'\u001b[0m\u001b[1m}\u001b[0m,\n",
       "\u001b[2;32m│   \u001b[0m\u001b[1m{\u001b[0m\u001b[32m'role'\u001b[0m: \u001b[32m'human'\u001b[0m, \u001b[32m'content'\u001b[0m: \u001b[32m'\u001b[0m\u001b[32m{\u001b[0m\u001b[32m\\nuid:\"user-4\"\\nrole:\"human\"\\ncontent:\"Cool..\"\\n\u001b[0m\u001b[32m}\u001b[0m\u001b[32m\\n'\u001b[0m\u001b[1m}\u001b[0m,\n",
       "\u001b[2;32m│   \u001b[0m\u001b[1m{\u001b[0m\u001b[32m'role'\u001b[0m: \u001b[32m'human'\u001b[0m, \u001b[32m'content'\u001b[0m: \u001b[32m'\u001b[0m\u001b[32m{\u001b[0m\u001b[32m\\nuid:\"user-5\"\\nrole:\"human\"\\ncontent:\"yup.\"\\n\u001b[0m\u001b[32m}\u001b[0m\u001b[32m\\n'\u001b[0m\u001b[1m}\u001b[0m,\n",
       "\u001b[2;32m│   \u001b[0m\u001b[1m{\u001b[0m\u001b[32m'role'\u001b[0m: \u001b[32m'human'\u001b[0m, \u001b[32m'content'\u001b[0m: \u001b[32m'\u001b[0m\u001b[32m{\u001b[0m\u001b[32m\\nuid:\"user-L\"\\nrole:\"human\"\\ncontent:\"Great.....\"\\n\u001b[0m\u001b[32m}\u001b[0m\u001b[32m\\n'\u001b[0m\u001b[1m}\u001b[0m,\n",
       "\u001b[2;32m│   \u001b[0m\u001b[1m{\u001b[0m\u001b[32m'role'\u001b[0m: \u001b[32m'human'\u001b[0m, \u001b[32m'content'\u001b[0m: \u001b[32m'\u001b[0m\u001b[32m{\u001b[0m\u001b[32m\\nuid:\"user-XXXXL\"\\nrole:\"human\"\\ncontent:\"alles klar\"\\n\u001b[0m\u001b[32m}\u001b[0m\u001b[32m\\n'\u001b[0m\u001b[1m}\u001b[0m,\n",
       "\u001b[2;32m│   \u001b[0m\u001b[1m{\u001b[0m\u001b[32m'role'\u001b[0m: \u001b[32m'human'\u001b[0m, \u001b[32m'content'\u001b[0m: \u001b[32m'\u001b[0m\u001b[32m{\u001b[0m\u001b[32m\\nuid:\"user-5\"\\nrole:\"human\"\\ncontent:\"I\\'m good and the best.\"\\n\u001b[0m\u001b[32m}\u001b[0m\u001b[32m\\n'\u001b[0m\u001b[1m}\u001b[0m,\n",
       "\u001b[2;32m│   \u001b[0m\u001b[1m{\u001b[0m\n",
       "\u001b[2;32m│   │   \u001b[0m\u001b[32m'role'\u001b[0m: \u001b[32m'human'\u001b[0m,\n",
       "\u001b[2;32m│   │   \u001b[0m\u001b[32m'content'\u001b[0m: \u001b[32m'\u001b[0m\u001b[32m{\u001b[0m\u001b[32m\\nuid:\"user-X\"\\nrole:\"human\"\\ncontent:\"How many users are involved in this conversation, the valid has value in \\'uid\\'? \\nOnly provide the list of user `uid`s in `\u001b[0m\u001b[32m[\u001b[0m\u001b[32m... \u001b[0m\u001b[32m]\u001b[0m\u001b[32m` as result without any instruction text or additional information.\"\\n\u001b[0m\u001b[32m}\u001b[0m\u001b[32m\\n'\u001b[0m\n",
       "\u001b[2;32m│   \u001b[0m\u001b[1m}\u001b[0m,\n",
       "\u001b[2;32m│   \u001b[0m\u001b[1m{\u001b[0m\n",
       "\u001b[2;32m│   │   \u001b[0m\u001b[32m'role'\u001b[0m: \u001b[32m'ai'\u001b[0m,\n",
       "\u001b[2;32m│   │   \u001b[0m\u001b[32m'content'\u001b[0m: \u001b[32m'\u001b[0m\u001b[32m{\u001b[0m\u001b[32m\\nuid:\"\"\\nrole:\"ai\"\\ncontent:\"\u001b[0m\u001b[32m[\u001b[0m\u001b[32m\"user-1\", \"user-2\", \"user-3\", \"user-4\", \"user-5\", \"user-L\", \"user-XXXXL\"\u001b[0m\u001b[32m]\u001b[0m\u001b[32m\"\\n\u001b[0m\u001b[32m}\u001b[0m\u001b[32m\\n'\u001b[0m\n",
       "\u001b[2;32m│   \u001b[0m\u001b[1m}\u001b[0m\n",
       "\u001b[1m]\u001b[0m\n"
      ]
     },
     "metadata": {},
     "output_type": "display_data"
    },
    {
     "name": "stdout",
     "output_type": "stream",
     "text": [
      "user-5 result\n"
     ]
    },
    {
     "data": {
      "text/html": [
       "<pre style=\"white-space:pre;overflow-x:auto;line-height:normal;font-family:Menlo,'DejaVu Sans Mono',consolas,'Courier New',monospace\"><span style=\"color: #008000; text-decoration-color: #008000\">'[\"hoho dude\", \"yup.\", \"I\\'m good and the best.\"]'</span>\n",
       "</pre>\n"
      ],
      "text/plain": [
       "\u001b[32m'\u001b[0m\u001b[32m[\u001b[0m\u001b[32m\"hoho dude\", \"yup.\", \"I\\'m good and the best.\"\u001b[0m\u001b[32m]\u001b[0m\u001b[32m'\u001b[0m\n"
      ]
     },
     "metadata": {},
     "output_type": "display_data"
    }
   ],
   "source": [
    "memory = ConversationBufferMemory(return_messages=True)\n",
    "mem_vars = memory.load_memory_variables({})\n",
    "pretty_print(\"Memory Variables init\", mem_vars)\n",
    "pretty_print(\"Memory Variables in str list (buffer_as_str) init\", memory.buffer_as_str)\n",
    "\n",
    "memory.buffer.append(AIMessage(content=\"This is a Gaming Place\"))\n",
    "mem_vars = memory.load_memory_variables({})\n",
    "pretty_print(\"Memory Variables seeded\", mem_vars)\n",
    "pretty_print(\n",
    "    \"Memory Variables in str list (buffer_as_str), seeded\", memory.buffer_as_str\n",
    ")\n",
    "\n",
    "memory.buffer.append(HumanMessage(content=\"Hello dudes\", id=\"user-1\"))\n",
    "memory.buffer.append(HumanMessage(content=\"hi\", id=\"user-2\"))\n",
    "memory.buffer.append(HumanMessage(content=\"yo yo\", id=\"user-3\"))\n",
    "memory.buffer.append(HumanMessage(content=\"nice to see you\", id=\"user-4\"))\n",
    "memory.buffer.append(HumanMessage(content=\"hoho dude\", id=\"user-5\"))\n",
    "memory.buffer.append(HumanMessage(content=\"o lalala\", id=\"user-L\"))\n",
    "memory.buffer.append(HumanMessage(content=\"guten tag\", id=\"user-XXXXL\"))\n",
    "memory.buffer.append(HumanMessage(content=\"Let's get started, ok?\", id=\"user-1\"))\n",
    "memory.buffer.append(HumanMessage(content=\"YES\", id=\"user-2\"))\n",
    "memory.buffer.append(HumanMessage(content=\"YEAH....\", id=\"user-3\"))\n",
    "memory.buffer.append(HumanMessage(content=\"Cool..\", id=\"user-4\"))\n",
    "memory.buffer.append(HumanMessage(content=\"yup.\", id=\"user-5\"))\n",
    "memory.buffer.append(HumanMessage(content=\"Great.....\", id=\"user-L\"))\n",
    "memory.buffer.append(HumanMessage(content=\"alles klar\", id=\"user-XXXXL\"))\n",
    "memory.buffer.append(HumanMessage(content=\"I'm good and the best.\", id=\"user-5\"))\n",
    "mem_vars = memory.load_memory_variables({})\n",
    "pretty_print(\"Memory Variables\", mem_vars)\n",
    "pretty_print(\"Memory Variables in str list (buffer_as_str)\", memory.buffer_as_str)\n",
    "\n",
    "\n",
    "def convert_memory_to_dict(memory: ConversationBufferMemory) -> List[Dict[str, str]]:\n",
    "    \"\"\"Convert the memory to the dict, role is id, content is the message content.\"\"\"\n",
    "    res = [\n",
    "        \"\"\"The following is a friendly conversation between a human and an AI. The AI is talkative and provides lots of specific details from its context. \n",
    "If the AI does not know the answer to a question, it truthfully says it does not know.\n",
    "\n",
    "Notice: The 'uid' is user id, 'role' is user role for human or ai, 'content' is the message content.\n",
    "\n",
    "\"\"\"\n",
    "    ]\n",
    "    history = memory.load_memory_variables({})[\"history\"]\n",
    "    content_fmt = \"\"\"{{\n",
    "uid:\"{uid}\"\n",
    "role:\"{role}\"\n",
    "content:\"{content}\"\n",
    "}}\n",
    "\"\"\"\n",
    "    for hist_item in history:\n",
    "        role = \"human\" if isinstance(hist_item, HumanMessage) else \"ai\"\n",
    "        res.append(\n",
    "            {\n",
    "                \"role\": role,\n",
    "                \"content\": content_fmt.format(\n",
    "                    content=hist_item.content,\n",
    "                    uid=hist_item.id if role == \"human\" else \"\",\n",
    "                    role=role,\n",
    "                ),\n",
    "            }\n",
    "        )\n",
    "    return res\n",
    "\n",
    "\n",
    "cxt_dict = convert_memory_to_dict(memory)\n",
    "pretty_print(\"cxt_dict\", cxt_dict)\n",
    "\n",
    "\n",
    "def build_chain_without_parsing(\n",
    "    model: BaseChatModel,\n",
    ") -> RunnableSerializable[Dict, str]:\n",
    "    prompt = ChatPromptTemplate.from_messages(\n",
    "        [\n",
    "            SystemMessage(\n",
    "                content=(\"You are an AI assistant.\" \"You can handle the query of user.\")\n",
    "            ),\n",
    "            MessagesPlaceholder(variable_name=\"history\"),\n",
    "            HumanMessagePromptTemplate.from_template(\"{query}\"),\n",
    "        ]\n",
    "    )\n",
    "    return (\n",
    "        prompt | model\n",
    "    )  # comment model, you can see the filled template after invoking the chain.\n",
    "\n",
    "\n",
    "model = llm\n",
    "\n",
    "human_query = HumanMessage(\n",
    "    \"\"\"How many users are involved in this conversation, the valid has value in 'uid'? \n",
    "Only provide the list of user `uid`s in `[... ]` as result without any instruction text or additional information.\"\"\",\n",
    "    id=\"user-X\",\n",
    ")\n",
    "res = build_chain_without_parsing(model).invoke(\n",
    "    {\n",
    "        \"history\": cxt_dict,\n",
    "        \"query\": human_query.content,\n",
    "    }\n",
    ")\n",
    "pretty_print(\"Result\", res)\n",
    "\n",
    "# Update memory\n",
    "memory.buffer.append(human_query)\n",
    "memory.buffer.append(res)\n",
    "cxt_dict = convert_memory_to_dict(memory)\n",
    "pretty_print(\"cxt_dict\", cxt_dict)\n",
    "\n",
    "res = (build_chain_without_parsing(model) | StrOutputParser()).invoke(\n",
    "    {\n",
    "        \"history\": cxt_dict,\n",
    "        \"query\": \"\"\"Give the list of all the messages from \"user-5\" and put them in a \"[]\" without any instruction text, newlines or additional information.\n",
    "Notice: Only need content and plan-text.\n",
    "\"\"\",\n",
    "    }\n",
    ")\n",
    "pretty_print(\"user-5 result\", res)"
   ]
  },
  {
   "cell_type": "markdown",
   "metadata": {},
   "source": [
    "#### Failed approach: Convert all history into a list of dictionaries: `cxt_dict`\n",
    "\n",
    "We can omit compressing the user `role`, `user-id`, and `message` for each dictionary, **but it won't function**.\n",
    "\n",
    "Different from previous approach,  the  block has `role`, `user-id`, and `message content`.\n",
    "\n",
    "The issue is akin to the `cxt_history` method. The model input cannot retrieve any user-ids saved in `additional_kwargs`. \n",
    "\n",
    "Verify with LangSmith."
   ]
  },
  {
   "cell_type": "code",
   "execution_count": 148,
   "metadata": {},
   "outputs": [
    {
     "name": "stdout",
     "output_type": "stream",
     "text": [
      "Memory Variables init\n"
     ]
    },
    {
     "data": {
      "text/html": [
       "<pre style=\"white-space:pre;overflow-x:auto;line-height:normal;font-family:Menlo,'DejaVu Sans Mono',consolas,'Courier New',monospace\"><span style=\"font-weight: bold\">{</span><span style=\"color: #008000; text-decoration-color: #008000\">'history'</span>: <span style=\"font-weight: bold\">[]}</span>\n",
       "</pre>\n"
      ],
      "text/plain": [
       "\u001b[1m{\u001b[0m\u001b[32m'history'\u001b[0m: \u001b[1m[\u001b[0m\u001b[1m]\u001b[0m\u001b[1m}\u001b[0m\n"
      ]
     },
     "metadata": {},
     "output_type": "display_data"
    },
    {
     "name": "stdout",
     "output_type": "stream",
     "text": [
      "Memory Variables in str list (buffer_as_str) init\n"
     ]
    },
    {
     "data": {
      "text/html": [
       "<pre style=\"white-space:pre;overflow-x:auto;line-height:normal;font-family:Menlo,'DejaVu Sans Mono',consolas,'Courier New',monospace\"><span style=\"color: #008000; text-decoration-color: #008000\">''</span>\n",
       "</pre>\n"
      ],
      "text/plain": [
       "\u001b[32m''\u001b[0m\n"
      ]
     },
     "metadata": {},
     "output_type": "display_data"
    },
    {
     "name": "stdout",
     "output_type": "stream",
     "text": [
      "Memory Variables seeded\n"
     ]
    },
    {
     "data": {
      "text/html": [
       "<pre style=\"white-space:pre;overflow-x:auto;line-height:normal;font-family:Menlo,'DejaVu Sans Mono',consolas,'Courier New',monospace\"><span style=\"font-weight: bold\">{</span><span style=\"color: #008000; text-decoration-color: #008000\">'history'</span>: <span style=\"font-weight: bold\">[</span><span style=\"color: #800080; text-decoration-color: #800080; font-weight: bold\">AIMessage</span><span style=\"font-weight: bold\">(</span><span style=\"color: #808000; text-decoration-color: #808000\">content</span>=<span style=\"color: #008000; text-decoration-color: #008000\">'This is a Gaming Place'</span><span style=\"font-weight: bold\">)]}</span>\n",
       "</pre>\n"
      ],
      "text/plain": [
       "\u001b[1m{\u001b[0m\u001b[32m'history'\u001b[0m: \u001b[1m[\u001b[0m\u001b[1;35mAIMessage\u001b[0m\u001b[1m(\u001b[0m\u001b[33mcontent\u001b[0m=\u001b[32m'This is a Gaming Place'\u001b[0m\u001b[1m)\u001b[0m\u001b[1m]\u001b[0m\u001b[1m}\u001b[0m\n"
      ]
     },
     "metadata": {},
     "output_type": "display_data"
    },
    {
     "name": "stdout",
     "output_type": "stream",
     "text": [
      "Memory Variables in str list (buffer_as_str), seeded\n"
     ]
    },
    {
     "data": {
      "text/html": [
       "<pre style=\"white-space:pre;overflow-x:auto;line-height:normal;font-family:Menlo,'DejaVu Sans Mono',consolas,'Courier New',monospace\"><span style=\"color: #008000; text-decoration-color: #008000\">'AI: This is a Gaming Place'</span>\n",
       "</pre>\n"
      ],
      "text/plain": [
       "\u001b[32m'AI: This is a Gaming Place'\u001b[0m\n"
      ]
     },
     "metadata": {},
     "output_type": "display_data"
    },
    {
     "name": "stdout",
     "output_type": "stream",
     "text": [
      "Memory Variables\n"
     ]
    },
    {
     "data": {
      "text/html": [
       "<pre style=\"white-space:pre;overflow-x:auto;line-height:normal;font-family:Menlo,'DejaVu Sans Mono',consolas,'Courier New',monospace\"><span style=\"font-weight: bold\">{</span>\n",
       "<span style=\"color: #7fbf7f; text-decoration-color: #7fbf7f\">│   </span><span style=\"color: #008000; text-decoration-color: #008000\">'history'</span>: <span style=\"font-weight: bold\">[</span>\n",
       "<span style=\"color: #7fbf7f; text-decoration-color: #7fbf7f\">│   │   </span><span style=\"color: #800080; text-decoration-color: #800080; font-weight: bold\">AIMessage</span><span style=\"font-weight: bold\">(</span><span style=\"color: #808000; text-decoration-color: #808000\">content</span>=<span style=\"color: #008000; text-decoration-color: #008000\">'This is a Gaming Place'</span><span style=\"font-weight: bold\">)</span>,\n",
       "<span style=\"color: #7fbf7f; text-decoration-color: #7fbf7f\">│   │   </span><span style=\"color: #800080; text-decoration-color: #800080; font-weight: bold\">HumanMessage</span><span style=\"font-weight: bold\">(</span><span style=\"color: #808000; text-decoration-color: #808000\">content</span>=<span style=\"color: #008000; text-decoration-color: #008000\">'Hello dudes'</span>, <span style=\"color: #808000; text-decoration-color: #808000\">id</span>=<span style=\"color: #008000; text-decoration-color: #008000\">'user-1'</span><span style=\"font-weight: bold\">)</span>,\n",
       "<span style=\"color: #7fbf7f; text-decoration-color: #7fbf7f\">│   │   </span><span style=\"color: #800080; text-decoration-color: #800080; font-weight: bold\">HumanMessage</span><span style=\"font-weight: bold\">(</span><span style=\"color: #808000; text-decoration-color: #808000\">content</span>=<span style=\"color: #008000; text-decoration-color: #008000\">'hi'</span>, <span style=\"color: #808000; text-decoration-color: #808000\">id</span>=<span style=\"color: #008000; text-decoration-color: #008000\">'user-2'</span><span style=\"font-weight: bold\">)</span>,\n",
       "<span style=\"color: #7fbf7f; text-decoration-color: #7fbf7f\">│   │   </span><span style=\"color: #800080; text-decoration-color: #800080; font-weight: bold\">HumanMessage</span><span style=\"font-weight: bold\">(</span><span style=\"color: #808000; text-decoration-color: #808000\">content</span>=<span style=\"color: #008000; text-decoration-color: #008000\">'yo yo'</span>, <span style=\"color: #808000; text-decoration-color: #808000\">id</span>=<span style=\"color: #008000; text-decoration-color: #008000\">'user-3'</span><span style=\"font-weight: bold\">)</span>,\n",
       "<span style=\"color: #7fbf7f; text-decoration-color: #7fbf7f\">│   │   </span><span style=\"color: #800080; text-decoration-color: #800080; font-weight: bold\">HumanMessage</span><span style=\"font-weight: bold\">(</span><span style=\"color: #808000; text-decoration-color: #808000\">content</span>=<span style=\"color: #008000; text-decoration-color: #008000\">'nice to see you'</span>, <span style=\"color: #808000; text-decoration-color: #808000\">id</span>=<span style=\"color: #008000; text-decoration-color: #008000\">'user-4'</span><span style=\"font-weight: bold\">)</span>,\n",
       "<span style=\"color: #7fbf7f; text-decoration-color: #7fbf7f\">│   │   </span><span style=\"color: #800080; text-decoration-color: #800080; font-weight: bold\">HumanMessage</span><span style=\"font-weight: bold\">(</span><span style=\"color: #808000; text-decoration-color: #808000\">content</span>=<span style=\"color: #008000; text-decoration-color: #008000\">'hoho dude'</span>, <span style=\"color: #808000; text-decoration-color: #808000\">id</span>=<span style=\"color: #008000; text-decoration-color: #008000\">'user-5'</span><span style=\"font-weight: bold\">)</span>,\n",
       "<span style=\"color: #7fbf7f; text-decoration-color: #7fbf7f\">│   │   </span><span style=\"color: #800080; text-decoration-color: #800080; font-weight: bold\">HumanMessage</span><span style=\"font-weight: bold\">(</span><span style=\"color: #808000; text-decoration-color: #808000\">content</span>=<span style=\"color: #008000; text-decoration-color: #008000\">'o lalala'</span>, <span style=\"color: #808000; text-decoration-color: #808000\">id</span>=<span style=\"color: #008000; text-decoration-color: #008000\">'user-L'</span><span style=\"font-weight: bold\">)</span>,\n",
       "<span style=\"color: #7fbf7f; text-decoration-color: #7fbf7f\">│   │   </span><span style=\"color: #800080; text-decoration-color: #800080; font-weight: bold\">HumanMessage</span><span style=\"font-weight: bold\">(</span><span style=\"color: #808000; text-decoration-color: #808000\">content</span>=<span style=\"color: #008000; text-decoration-color: #008000\">'guten tag'</span>, <span style=\"color: #808000; text-decoration-color: #808000\">id</span>=<span style=\"color: #008000; text-decoration-color: #008000\">'user-XXXXL'</span><span style=\"font-weight: bold\">)</span>,\n",
       "<span style=\"color: #7fbf7f; text-decoration-color: #7fbf7f\">│   │   </span><span style=\"color: #800080; text-decoration-color: #800080; font-weight: bold\">HumanMessage</span><span style=\"font-weight: bold\">(</span><span style=\"color: #808000; text-decoration-color: #808000\">content</span>=<span style=\"color: #008000; text-decoration-color: #008000\">\"Let's get started, ok?\"</span>, <span style=\"color: #808000; text-decoration-color: #808000\">id</span>=<span style=\"color: #008000; text-decoration-color: #008000\">'user-1'</span><span style=\"font-weight: bold\">)</span>,\n",
       "<span style=\"color: #7fbf7f; text-decoration-color: #7fbf7f\">│   │   </span><span style=\"color: #800080; text-decoration-color: #800080; font-weight: bold\">HumanMessage</span><span style=\"font-weight: bold\">(</span><span style=\"color: #808000; text-decoration-color: #808000\">content</span>=<span style=\"color: #008000; text-decoration-color: #008000\">'YES'</span>, <span style=\"color: #808000; text-decoration-color: #808000\">id</span>=<span style=\"color: #008000; text-decoration-color: #008000\">'user-2'</span><span style=\"font-weight: bold\">)</span>,\n",
       "<span style=\"color: #7fbf7f; text-decoration-color: #7fbf7f\">│   │   </span><span style=\"color: #800080; text-decoration-color: #800080; font-weight: bold\">HumanMessage</span><span style=\"font-weight: bold\">(</span><span style=\"color: #808000; text-decoration-color: #808000\">content</span>=<span style=\"color: #008000; text-decoration-color: #008000\">'YEAH....'</span>, <span style=\"color: #808000; text-decoration-color: #808000\">id</span>=<span style=\"color: #008000; text-decoration-color: #008000\">'user-3'</span><span style=\"font-weight: bold\">)</span>,\n",
       "<span style=\"color: #7fbf7f; text-decoration-color: #7fbf7f\">│   │   </span><span style=\"color: #800080; text-decoration-color: #800080; font-weight: bold\">HumanMessage</span><span style=\"font-weight: bold\">(</span><span style=\"color: #808000; text-decoration-color: #808000\">content</span>=<span style=\"color: #008000; text-decoration-color: #008000\">'Cool..'</span>, <span style=\"color: #808000; text-decoration-color: #808000\">id</span>=<span style=\"color: #008000; text-decoration-color: #008000\">'user-4'</span><span style=\"font-weight: bold\">)</span>,\n",
       "<span style=\"color: #7fbf7f; text-decoration-color: #7fbf7f\">│   │   </span><span style=\"color: #800080; text-decoration-color: #800080; font-weight: bold\">HumanMessage</span><span style=\"font-weight: bold\">(</span><span style=\"color: #808000; text-decoration-color: #808000\">content</span>=<span style=\"color: #008000; text-decoration-color: #008000\">'yup.'</span>, <span style=\"color: #808000; text-decoration-color: #808000\">id</span>=<span style=\"color: #008000; text-decoration-color: #008000\">'user-5'</span><span style=\"font-weight: bold\">)</span>,\n",
       "<span style=\"color: #7fbf7f; text-decoration-color: #7fbf7f\">│   │   </span><span style=\"color: #800080; text-decoration-color: #800080; font-weight: bold\">HumanMessage</span><span style=\"font-weight: bold\">(</span><span style=\"color: #808000; text-decoration-color: #808000\">content</span>=<span style=\"color: #008000; text-decoration-color: #008000\">'Great.....'</span>, <span style=\"color: #808000; text-decoration-color: #808000\">id</span>=<span style=\"color: #008000; text-decoration-color: #008000\">'user-L'</span><span style=\"font-weight: bold\">)</span>,\n",
       "<span style=\"color: #7fbf7f; text-decoration-color: #7fbf7f\">│   │   </span><span style=\"color: #800080; text-decoration-color: #800080; font-weight: bold\">HumanMessage</span><span style=\"font-weight: bold\">(</span><span style=\"color: #808000; text-decoration-color: #808000\">content</span>=<span style=\"color: #008000; text-decoration-color: #008000\">'alles klar'</span>, <span style=\"color: #808000; text-decoration-color: #808000\">id</span>=<span style=\"color: #008000; text-decoration-color: #008000\">'user-XXXXL'</span><span style=\"font-weight: bold\">)</span>,\n",
       "<span style=\"color: #7fbf7f; text-decoration-color: #7fbf7f\">│   │   </span><span style=\"color: #800080; text-decoration-color: #800080; font-weight: bold\">HumanMessage</span><span style=\"font-weight: bold\">(</span><span style=\"color: #808000; text-decoration-color: #808000\">content</span>=<span style=\"color: #008000; text-decoration-color: #008000\">'Opppsssssss.'</span>, <span style=\"color: #808000; text-decoration-color: #808000\">id</span>=<span style=\"color: #008000; text-decoration-color: #008000\">'user-5'</span><span style=\"font-weight: bold\">)</span>\n",
       "<span style=\"color: #7fbf7f; text-decoration-color: #7fbf7f\">│   </span><span style=\"font-weight: bold\">]</span>\n",
       "<span style=\"font-weight: bold\">}</span>\n",
       "</pre>\n"
      ],
      "text/plain": [
       "\u001b[1m{\u001b[0m\n",
       "\u001b[2;32m│   \u001b[0m\u001b[32m'history'\u001b[0m: \u001b[1m[\u001b[0m\n",
       "\u001b[2;32m│   │   \u001b[0m\u001b[1;35mAIMessage\u001b[0m\u001b[1m(\u001b[0m\u001b[33mcontent\u001b[0m=\u001b[32m'This is a Gaming Place'\u001b[0m\u001b[1m)\u001b[0m,\n",
       "\u001b[2;32m│   │   \u001b[0m\u001b[1;35mHumanMessage\u001b[0m\u001b[1m(\u001b[0m\u001b[33mcontent\u001b[0m=\u001b[32m'Hello dudes'\u001b[0m, \u001b[33mid\u001b[0m=\u001b[32m'user-1'\u001b[0m\u001b[1m)\u001b[0m,\n",
       "\u001b[2;32m│   │   \u001b[0m\u001b[1;35mHumanMessage\u001b[0m\u001b[1m(\u001b[0m\u001b[33mcontent\u001b[0m=\u001b[32m'hi'\u001b[0m, \u001b[33mid\u001b[0m=\u001b[32m'user-2'\u001b[0m\u001b[1m)\u001b[0m,\n",
       "\u001b[2;32m│   │   \u001b[0m\u001b[1;35mHumanMessage\u001b[0m\u001b[1m(\u001b[0m\u001b[33mcontent\u001b[0m=\u001b[32m'yo yo'\u001b[0m, \u001b[33mid\u001b[0m=\u001b[32m'user-3'\u001b[0m\u001b[1m)\u001b[0m,\n",
       "\u001b[2;32m│   │   \u001b[0m\u001b[1;35mHumanMessage\u001b[0m\u001b[1m(\u001b[0m\u001b[33mcontent\u001b[0m=\u001b[32m'nice to see you'\u001b[0m, \u001b[33mid\u001b[0m=\u001b[32m'user-4'\u001b[0m\u001b[1m)\u001b[0m,\n",
       "\u001b[2;32m│   │   \u001b[0m\u001b[1;35mHumanMessage\u001b[0m\u001b[1m(\u001b[0m\u001b[33mcontent\u001b[0m=\u001b[32m'hoho dude'\u001b[0m, \u001b[33mid\u001b[0m=\u001b[32m'user-5'\u001b[0m\u001b[1m)\u001b[0m,\n",
       "\u001b[2;32m│   │   \u001b[0m\u001b[1;35mHumanMessage\u001b[0m\u001b[1m(\u001b[0m\u001b[33mcontent\u001b[0m=\u001b[32m'o lalala'\u001b[0m, \u001b[33mid\u001b[0m=\u001b[32m'user-L'\u001b[0m\u001b[1m)\u001b[0m,\n",
       "\u001b[2;32m│   │   \u001b[0m\u001b[1;35mHumanMessage\u001b[0m\u001b[1m(\u001b[0m\u001b[33mcontent\u001b[0m=\u001b[32m'guten tag'\u001b[0m, \u001b[33mid\u001b[0m=\u001b[32m'user-XXXXL'\u001b[0m\u001b[1m)\u001b[0m,\n",
       "\u001b[2;32m│   │   \u001b[0m\u001b[1;35mHumanMessage\u001b[0m\u001b[1m(\u001b[0m\u001b[33mcontent\u001b[0m=\u001b[32m\"Let\u001b[0m\u001b[32m's get started, ok?\"\u001b[0m, \u001b[33mid\u001b[0m=\u001b[32m'user-1'\u001b[0m\u001b[1m)\u001b[0m,\n",
       "\u001b[2;32m│   │   \u001b[0m\u001b[1;35mHumanMessage\u001b[0m\u001b[1m(\u001b[0m\u001b[33mcontent\u001b[0m=\u001b[32m'YES'\u001b[0m, \u001b[33mid\u001b[0m=\u001b[32m'user-2'\u001b[0m\u001b[1m)\u001b[0m,\n",
       "\u001b[2;32m│   │   \u001b[0m\u001b[1;35mHumanMessage\u001b[0m\u001b[1m(\u001b[0m\u001b[33mcontent\u001b[0m=\u001b[32m'YEAH....'\u001b[0m, \u001b[33mid\u001b[0m=\u001b[32m'user-3'\u001b[0m\u001b[1m)\u001b[0m,\n",
       "\u001b[2;32m│   │   \u001b[0m\u001b[1;35mHumanMessage\u001b[0m\u001b[1m(\u001b[0m\u001b[33mcontent\u001b[0m=\u001b[32m'Cool..'\u001b[0m, \u001b[33mid\u001b[0m=\u001b[32m'user-4'\u001b[0m\u001b[1m)\u001b[0m,\n",
       "\u001b[2;32m│   │   \u001b[0m\u001b[1;35mHumanMessage\u001b[0m\u001b[1m(\u001b[0m\u001b[33mcontent\u001b[0m=\u001b[32m'yup.'\u001b[0m, \u001b[33mid\u001b[0m=\u001b[32m'user-5'\u001b[0m\u001b[1m)\u001b[0m,\n",
       "\u001b[2;32m│   │   \u001b[0m\u001b[1;35mHumanMessage\u001b[0m\u001b[1m(\u001b[0m\u001b[33mcontent\u001b[0m=\u001b[32m'Great.....'\u001b[0m, \u001b[33mid\u001b[0m=\u001b[32m'user-L'\u001b[0m\u001b[1m)\u001b[0m,\n",
       "\u001b[2;32m│   │   \u001b[0m\u001b[1;35mHumanMessage\u001b[0m\u001b[1m(\u001b[0m\u001b[33mcontent\u001b[0m=\u001b[32m'alles klar'\u001b[0m, \u001b[33mid\u001b[0m=\u001b[32m'user-XXXXL'\u001b[0m\u001b[1m)\u001b[0m,\n",
       "\u001b[2;32m│   │   \u001b[0m\u001b[1;35mHumanMessage\u001b[0m\u001b[1m(\u001b[0m\u001b[33mcontent\u001b[0m=\u001b[32m'Opppsssssss.'\u001b[0m, \u001b[33mid\u001b[0m=\u001b[32m'user-5'\u001b[0m\u001b[1m)\u001b[0m\n",
       "\u001b[2;32m│   \u001b[0m\u001b[1m]\u001b[0m\n",
       "\u001b[1m}\u001b[0m\n"
      ]
     },
     "metadata": {},
     "output_type": "display_data"
    },
    {
     "name": "stdout",
     "output_type": "stream",
     "text": [
      "Memory Variables in str list (buffer_as_str)\n"
     ]
    },
    {
     "data": {
      "text/html": [
       "<pre style=\"white-space:pre;overflow-x:auto;line-height:normal;font-family:Menlo,'DejaVu Sans Mono',consolas,'Courier New',monospace\"><span style=\"color: #008000; text-decoration-color: #008000\">\"AI: This is a Gaming Place\\nHuman: Hello dudes\\nHuman: hi\\nHuman: yo yo\\nHuman: nice to see you\\nHuman: hoho dude\\nHuman: o lalala\\nHuman: guten tag\\nHuman: Let's get started, ok?\\nHuman: YES\\nHuman: YEAH....\\nHuman: Cool..\\nHuman: yup.\\nHuman: Great.....\\nHuman: alles klar\\nHuman: Opppsssssss.\"</span>\n",
       "</pre>\n"
      ],
      "text/plain": [
       "\u001b[32m\"AI: This is a Gaming Place\\nHuman: Hello dudes\\nHuman: hi\\nHuman: yo yo\\nHuman: nice to see you\\nHuman: hoho dude\\nHuman: o lalala\\nHuman: guten tag\\nHuman: Let's get started, ok?\\nHuman: YES\\nHuman: YEAH....\\nHuman: Cool..\\nHuman: yup.\\nHuman: Great.....\\nHuman: alles klar\\nHuman: Opppsssssss.\"\u001b[0m\n"
      ]
     },
     "metadata": {},
     "output_type": "display_data"
    },
    {
     "name": "stdout",
     "output_type": "stream",
     "text": [
      "cxt_dict\n"
     ]
    },
    {
     "data": {
      "text/html": [
       "<pre style=\"white-space:pre;overflow-x:auto;line-height:normal;font-family:Menlo,'DejaVu Sans Mono',consolas,'Courier New',monospace\"><span style=\"font-weight: bold\">[</span>\n",
       "<span style=\"color: #7fbf7f; text-decoration-color: #7fbf7f\">│   </span><span style=\"color: #008000; text-decoration-color: #008000\">\"The following is a friendly conversation between a human and an AI. The AI is talkative and provides lots of specific details from its context. \\nIf the AI does not know the answer to a question, it truthfully says it does not know.\\n\\nNotice: The 'uid' is user-id, 'role' is user role for human or ai, 'content' is the message content.\\n\\n\"</span>,\n",
       "<span style=\"color: #7fbf7f; text-decoration-color: #7fbf7f\">│   </span><span style=\"font-weight: bold\">{</span><span style=\"color: #008000; text-decoration-color: #008000\">'role'</span>: <span style=\"color: #008000; text-decoration-color: #008000\">'ai'</span>, <span style=\"color: #008000; text-decoration-color: #008000\">'content'</span>: <span style=\"color: #008000; text-decoration-color: #008000\">'This is a Gaming Place'</span>, <span style=\"color: #008000; text-decoration-color: #008000\">'uid'</span>: <span style=\"color: #008000; text-decoration-color: #008000\">''</span><span style=\"font-weight: bold\">}</span>,\n",
       "<span style=\"color: #7fbf7f; text-decoration-color: #7fbf7f\">│   </span><span style=\"font-weight: bold\">{</span><span style=\"color: #008000; text-decoration-color: #008000\">'role'</span>: <span style=\"color: #008000; text-decoration-color: #008000\">'human'</span>, <span style=\"color: #008000; text-decoration-color: #008000\">'content'</span>: <span style=\"color: #008000; text-decoration-color: #008000\">'Hello dudes'</span>, <span style=\"color: #008000; text-decoration-color: #008000\">'uid'</span>: <span style=\"color: #008000; text-decoration-color: #008000\">'user-1'</span><span style=\"font-weight: bold\">}</span>,\n",
       "<span style=\"color: #7fbf7f; text-decoration-color: #7fbf7f\">│   </span><span style=\"font-weight: bold\">{</span><span style=\"color: #008000; text-decoration-color: #008000\">'role'</span>: <span style=\"color: #008000; text-decoration-color: #008000\">'human'</span>, <span style=\"color: #008000; text-decoration-color: #008000\">'content'</span>: <span style=\"color: #008000; text-decoration-color: #008000\">'hi'</span>, <span style=\"color: #008000; text-decoration-color: #008000\">'uid'</span>: <span style=\"color: #008000; text-decoration-color: #008000\">'user-2'</span><span style=\"font-weight: bold\">}</span>,\n",
       "<span style=\"color: #7fbf7f; text-decoration-color: #7fbf7f\">│   </span><span style=\"font-weight: bold\">{</span><span style=\"color: #008000; text-decoration-color: #008000\">'role'</span>: <span style=\"color: #008000; text-decoration-color: #008000\">'human'</span>, <span style=\"color: #008000; text-decoration-color: #008000\">'content'</span>: <span style=\"color: #008000; text-decoration-color: #008000\">'yo yo'</span>, <span style=\"color: #008000; text-decoration-color: #008000\">'uid'</span>: <span style=\"color: #008000; text-decoration-color: #008000\">'user-3'</span><span style=\"font-weight: bold\">}</span>,\n",
       "<span style=\"color: #7fbf7f; text-decoration-color: #7fbf7f\">│   </span><span style=\"font-weight: bold\">{</span><span style=\"color: #008000; text-decoration-color: #008000\">'role'</span>: <span style=\"color: #008000; text-decoration-color: #008000\">'human'</span>, <span style=\"color: #008000; text-decoration-color: #008000\">'content'</span>: <span style=\"color: #008000; text-decoration-color: #008000\">'nice to see you'</span>, <span style=\"color: #008000; text-decoration-color: #008000\">'uid'</span>: <span style=\"color: #008000; text-decoration-color: #008000\">'user-4'</span><span style=\"font-weight: bold\">}</span>,\n",
       "<span style=\"color: #7fbf7f; text-decoration-color: #7fbf7f\">│   </span><span style=\"font-weight: bold\">{</span><span style=\"color: #008000; text-decoration-color: #008000\">'role'</span>: <span style=\"color: #008000; text-decoration-color: #008000\">'human'</span>, <span style=\"color: #008000; text-decoration-color: #008000\">'content'</span>: <span style=\"color: #008000; text-decoration-color: #008000\">'hoho dude'</span>, <span style=\"color: #008000; text-decoration-color: #008000\">'uid'</span>: <span style=\"color: #008000; text-decoration-color: #008000\">'user-5'</span><span style=\"font-weight: bold\">}</span>,\n",
       "<span style=\"color: #7fbf7f; text-decoration-color: #7fbf7f\">│   </span><span style=\"font-weight: bold\">{</span><span style=\"color: #008000; text-decoration-color: #008000\">'role'</span>: <span style=\"color: #008000; text-decoration-color: #008000\">'human'</span>, <span style=\"color: #008000; text-decoration-color: #008000\">'content'</span>: <span style=\"color: #008000; text-decoration-color: #008000\">'o lalala'</span>, <span style=\"color: #008000; text-decoration-color: #008000\">'uid'</span>: <span style=\"color: #008000; text-decoration-color: #008000\">'user-L'</span><span style=\"font-weight: bold\">}</span>,\n",
       "<span style=\"color: #7fbf7f; text-decoration-color: #7fbf7f\">│   </span><span style=\"font-weight: bold\">{</span><span style=\"color: #008000; text-decoration-color: #008000\">'role'</span>: <span style=\"color: #008000; text-decoration-color: #008000\">'human'</span>, <span style=\"color: #008000; text-decoration-color: #008000\">'content'</span>: <span style=\"color: #008000; text-decoration-color: #008000\">'guten tag'</span>, <span style=\"color: #008000; text-decoration-color: #008000\">'uid'</span>: <span style=\"color: #008000; text-decoration-color: #008000\">'user-XXXXL'</span><span style=\"font-weight: bold\">}</span>,\n",
       "<span style=\"color: #7fbf7f; text-decoration-color: #7fbf7f\">│   </span><span style=\"font-weight: bold\">{</span><span style=\"color: #008000; text-decoration-color: #008000\">'role'</span>: <span style=\"color: #008000; text-decoration-color: #008000\">'human'</span>, <span style=\"color: #008000; text-decoration-color: #008000\">'content'</span>: <span style=\"color: #008000; text-decoration-color: #008000\">\"Let's get started, ok?\"</span>, <span style=\"color: #008000; text-decoration-color: #008000\">'uid'</span>: <span style=\"color: #008000; text-decoration-color: #008000\">'user-1'</span><span style=\"font-weight: bold\">}</span>,\n",
       "<span style=\"color: #7fbf7f; text-decoration-color: #7fbf7f\">│   </span><span style=\"font-weight: bold\">{</span><span style=\"color: #008000; text-decoration-color: #008000\">'role'</span>: <span style=\"color: #008000; text-decoration-color: #008000\">'human'</span>, <span style=\"color: #008000; text-decoration-color: #008000\">'content'</span>: <span style=\"color: #008000; text-decoration-color: #008000\">'YES'</span>, <span style=\"color: #008000; text-decoration-color: #008000\">'uid'</span>: <span style=\"color: #008000; text-decoration-color: #008000\">'user-2'</span><span style=\"font-weight: bold\">}</span>,\n",
       "<span style=\"color: #7fbf7f; text-decoration-color: #7fbf7f\">│   </span><span style=\"font-weight: bold\">{</span><span style=\"color: #008000; text-decoration-color: #008000\">'role'</span>: <span style=\"color: #008000; text-decoration-color: #008000\">'human'</span>, <span style=\"color: #008000; text-decoration-color: #008000\">'content'</span>: <span style=\"color: #008000; text-decoration-color: #008000\">'YEAH....'</span>, <span style=\"color: #008000; text-decoration-color: #008000\">'uid'</span>: <span style=\"color: #008000; text-decoration-color: #008000\">'user-3'</span><span style=\"font-weight: bold\">}</span>,\n",
       "<span style=\"color: #7fbf7f; text-decoration-color: #7fbf7f\">│   </span><span style=\"font-weight: bold\">{</span><span style=\"color: #008000; text-decoration-color: #008000\">'role'</span>: <span style=\"color: #008000; text-decoration-color: #008000\">'human'</span>, <span style=\"color: #008000; text-decoration-color: #008000\">'content'</span>: <span style=\"color: #008000; text-decoration-color: #008000\">'Cool..'</span>, <span style=\"color: #008000; text-decoration-color: #008000\">'uid'</span>: <span style=\"color: #008000; text-decoration-color: #008000\">'user-4'</span><span style=\"font-weight: bold\">}</span>,\n",
       "<span style=\"color: #7fbf7f; text-decoration-color: #7fbf7f\">│   </span><span style=\"font-weight: bold\">{</span><span style=\"color: #008000; text-decoration-color: #008000\">'role'</span>: <span style=\"color: #008000; text-decoration-color: #008000\">'human'</span>, <span style=\"color: #008000; text-decoration-color: #008000\">'content'</span>: <span style=\"color: #008000; text-decoration-color: #008000\">'yup.'</span>, <span style=\"color: #008000; text-decoration-color: #008000\">'uid'</span>: <span style=\"color: #008000; text-decoration-color: #008000\">'user-5'</span><span style=\"font-weight: bold\">}</span>,\n",
       "<span style=\"color: #7fbf7f; text-decoration-color: #7fbf7f\">│   </span><span style=\"font-weight: bold\">{</span><span style=\"color: #008000; text-decoration-color: #008000\">'role'</span>: <span style=\"color: #008000; text-decoration-color: #008000\">'human'</span>, <span style=\"color: #008000; text-decoration-color: #008000\">'content'</span>: <span style=\"color: #008000; text-decoration-color: #008000\">'Great.....'</span>, <span style=\"color: #008000; text-decoration-color: #008000\">'uid'</span>: <span style=\"color: #008000; text-decoration-color: #008000\">'user-L'</span><span style=\"font-weight: bold\">}</span>,\n",
       "<span style=\"color: #7fbf7f; text-decoration-color: #7fbf7f\">│   </span><span style=\"font-weight: bold\">{</span><span style=\"color: #008000; text-decoration-color: #008000\">'role'</span>: <span style=\"color: #008000; text-decoration-color: #008000\">'human'</span>, <span style=\"color: #008000; text-decoration-color: #008000\">'content'</span>: <span style=\"color: #008000; text-decoration-color: #008000\">'alles klar'</span>, <span style=\"color: #008000; text-decoration-color: #008000\">'uid'</span>: <span style=\"color: #008000; text-decoration-color: #008000\">'user-XXXXL'</span><span style=\"font-weight: bold\">}</span>,\n",
       "<span style=\"color: #7fbf7f; text-decoration-color: #7fbf7f\">│   </span><span style=\"font-weight: bold\">{</span><span style=\"color: #008000; text-decoration-color: #008000\">'role'</span>: <span style=\"color: #008000; text-decoration-color: #008000\">'human'</span>, <span style=\"color: #008000; text-decoration-color: #008000\">'content'</span>: <span style=\"color: #008000; text-decoration-color: #008000\">'Opppsssssss.'</span>, <span style=\"color: #008000; text-decoration-color: #008000\">'uid'</span>: <span style=\"color: #008000; text-decoration-color: #008000\">'user-5'</span><span style=\"font-weight: bold\">}</span>\n",
       "<span style=\"font-weight: bold\">]</span>\n",
       "</pre>\n"
      ],
      "text/plain": [
       "\u001b[1m[\u001b[0m\n",
       "\u001b[2;32m│   \u001b[0m\u001b[32m\"The following is a friendly conversation between a human and an AI. The AI is talkative and provides lots of specific details from its context. \\nIf the AI does not know the answer to a question, it truthfully says it does not know.\\n\\nNotice: The 'uid' is user-id, 'role' is user role for human or ai, 'content' is the message content.\\n\\n\"\u001b[0m,\n",
       "\u001b[2;32m│   \u001b[0m\u001b[1m{\u001b[0m\u001b[32m'role'\u001b[0m: \u001b[32m'ai'\u001b[0m, \u001b[32m'content'\u001b[0m: \u001b[32m'This is a Gaming Place'\u001b[0m, \u001b[32m'uid'\u001b[0m: \u001b[32m''\u001b[0m\u001b[1m}\u001b[0m,\n",
       "\u001b[2;32m│   \u001b[0m\u001b[1m{\u001b[0m\u001b[32m'role'\u001b[0m: \u001b[32m'human'\u001b[0m, \u001b[32m'content'\u001b[0m: \u001b[32m'Hello dudes'\u001b[0m, \u001b[32m'uid'\u001b[0m: \u001b[32m'user-1'\u001b[0m\u001b[1m}\u001b[0m,\n",
       "\u001b[2;32m│   \u001b[0m\u001b[1m{\u001b[0m\u001b[32m'role'\u001b[0m: \u001b[32m'human'\u001b[0m, \u001b[32m'content'\u001b[0m: \u001b[32m'hi'\u001b[0m, \u001b[32m'uid'\u001b[0m: \u001b[32m'user-2'\u001b[0m\u001b[1m}\u001b[0m,\n",
       "\u001b[2;32m│   \u001b[0m\u001b[1m{\u001b[0m\u001b[32m'role'\u001b[0m: \u001b[32m'human'\u001b[0m, \u001b[32m'content'\u001b[0m: \u001b[32m'yo yo'\u001b[0m, \u001b[32m'uid'\u001b[0m: \u001b[32m'user-3'\u001b[0m\u001b[1m}\u001b[0m,\n",
       "\u001b[2;32m│   \u001b[0m\u001b[1m{\u001b[0m\u001b[32m'role'\u001b[0m: \u001b[32m'human'\u001b[0m, \u001b[32m'content'\u001b[0m: \u001b[32m'nice to see you'\u001b[0m, \u001b[32m'uid'\u001b[0m: \u001b[32m'user-4'\u001b[0m\u001b[1m}\u001b[0m,\n",
       "\u001b[2;32m│   \u001b[0m\u001b[1m{\u001b[0m\u001b[32m'role'\u001b[0m: \u001b[32m'human'\u001b[0m, \u001b[32m'content'\u001b[0m: \u001b[32m'hoho dude'\u001b[0m, \u001b[32m'uid'\u001b[0m: \u001b[32m'user-5'\u001b[0m\u001b[1m}\u001b[0m,\n",
       "\u001b[2;32m│   \u001b[0m\u001b[1m{\u001b[0m\u001b[32m'role'\u001b[0m: \u001b[32m'human'\u001b[0m, \u001b[32m'content'\u001b[0m: \u001b[32m'o lalala'\u001b[0m, \u001b[32m'uid'\u001b[0m: \u001b[32m'user-L'\u001b[0m\u001b[1m}\u001b[0m,\n",
       "\u001b[2;32m│   \u001b[0m\u001b[1m{\u001b[0m\u001b[32m'role'\u001b[0m: \u001b[32m'human'\u001b[0m, \u001b[32m'content'\u001b[0m: \u001b[32m'guten tag'\u001b[0m, \u001b[32m'uid'\u001b[0m: \u001b[32m'user-XXXXL'\u001b[0m\u001b[1m}\u001b[0m,\n",
       "\u001b[2;32m│   \u001b[0m\u001b[1m{\u001b[0m\u001b[32m'role'\u001b[0m: \u001b[32m'human'\u001b[0m, \u001b[32m'content'\u001b[0m: \u001b[32m\"Let's get started, ok?\"\u001b[0m, \u001b[32m'uid'\u001b[0m: \u001b[32m'user-1'\u001b[0m\u001b[1m}\u001b[0m,\n",
       "\u001b[2;32m│   \u001b[0m\u001b[1m{\u001b[0m\u001b[32m'role'\u001b[0m: \u001b[32m'human'\u001b[0m, \u001b[32m'content'\u001b[0m: \u001b[32m'YES'\u001b[0m, \u001b[32m'uid'\u001b[0m: \u001b[32m'user-2'\u001b[0m\u001b[1m}\u001b[0m,\n",
       "\u001b[2;32m│   \u001b[0m\u001b[1m{\u001b[0m\u001b[32m'role'\u001b[0m: \u001b[32m'human'\u001b[0m, \u001b[32m'content'\u001b[0m: \u001b[32m'YEAH....'\u001b[0m, \u001b[32m'uid'\u001b[0m: \u001b[32m'user-3'\u001b[0m\u001b[1m}\u001b[0m,\n",
       "\u001b[2;32m│   \u001b[0m\u001b[1m{\u001b[0m\u001b[32m'role'\u001b[0m: \u001b[32m'human'\u001b[0m, \u001b[32m'content'\u001b[0m: \u001b[32m'Cool..'\u001b[0m, \u001b[32m'uid'\u001b[0m: \u001b[32m'user-4'\u001b[0m\u001b[1m}\u001b[0m,\n",
       "\u001b[2;32m│   \u001b[0m\u001b[1m{\u001b[0m\u001b[32m'role'\u001b[0m: \u001b[32m'human'\u001b[0m, \u001b[32m'content'\u001b[0m: \u001b[32m'yup.'\u001b[0m, \u001b[32m'uid'\u001b[0m: \u001b[32m'user-5'\u001b[0m\u001b[1m}\u001b[0m,\n",
       "\u001b[2;32m│   \u001b[0m\u001b[1m{\u001b[0m\u001b[32m'role'\u001b[0m: \u001b[32m'human'\u001b[0m, \u001b[32m'content'\u001b[0m: \u001b[32m'Great.....'\u001b[0m, \u001b[32m'uid'\u001b[0m: \u001b[32m'user-L'\u001b[0m\u001b[1m}\u001b[0m,\n",
       "\u001b[2;32m│   \u001b[0m\u001b[1m{\u001b[0m\u001b[32m'role'\u001b[0m: \u001b[32m'human'\u001b[0m, \u001b[32m'content'\u001b[0m: \u001b[32m'alles klar'\u001b[0m, \u001b[32m'uid'\u001b[0m: \u001b[32m'user-XXXXL'\u001b[0m\u001b[1m}\u001b[0m,\n",
       "\u001b[2;32m│   \u001b[0m\u001b[1m{\u001b[0m\u001b[32m'role'\u001b[0m: \u001b[32m'human'\u001b[0m, \u001b[32m'content'\u001b[0m: \u001b[32m'Opppsssssss.'\u001b[0m, \u001b[32m'uid'\u001b[0m: \u001b[32m'user-5'\u001b[0m\u001b[1m}\u001b[0m\n",
       "\u001b[1m]\u001b[0m\n"
      ]
     },
     "metadata": {},
     "output_type": "display_data"
    },
    {
     "name": "stdout",
     "output_type": "stream",
     "text": [
      "Result\n"
     ]
    },
    {
     "data": {
      "text/html": [
       "<pre style=\"white-space:pre;overflow-x:auto;line-height:normal;font-family:Menlo,'DejaVu Sans Mono',consolas,'Courier New',monospace\"><span style=\"color: #800080; text-decoration-color: #800080; font-weight: bold\">AIMessage</span><span style=\"font-weight: bold\">(</span><span style=\"color: #808000; text-decoration-color: #808000\">content</span>=<span style=\"color: #008000; text-decoration-color: #008000\">'[1, 2, 3, 4, 5, 6, 7, 8, 9, 10, 11, 12, 13, 14, 15]'</span><span style=\"font-weight: bold\">)</span>\n",
       "</pre>\n"
      ],
      "text/plain": [
       "\u001b[1;35mAIMessage\u001b[0m\u001b[1m(\u001b[0m\u001b[33mcontent\u001b[0m=\u001b[32m'\u001b[0m\u001b[32m[\u001b[0m\u001b[32m1, 2, 3, 4, 5, 6, 7, 8, 9, 10, 11, 12, 13, 14, 15\u001b[0m\u001b[32m]\u001b[0m\u001b[32m'\u001b[0m\u001b[1m)\u001b[0m\n"
      ]
     },
     "metadata": {},
     "output_type": "display_data"
    },
    {
     "name": "stdout",
     "output_type": "stream",
     "text": [
      "cxt_dict\n"
     ]
    },
    {
     "data": {
      "text/html": [
       "<pre style=\"white-space:pre;overflow-x:auto;line-height:normal;font-family:Menlo,'DejaVu Sans Mono',consolas,'Courier New',monospace\"><span style=\"font-weight: bold\">[</span>\n",
       "<span style=\"color: #7fbf7f; text-decoration-color: #7fbf7f\">│   </span><span style=\"color: #008000; text-decoration-color: #008000\">\"The following is a friendly conversation between a human and an AI. The AI is talkative and provides lots of specific details from its context. \\nIf the AI does not know the answer to a question, it truthfully says it does not know.\\n\\nNotice: The 'uid' is user-id, 'role' is user role for human or ai, 'content' is the message content.\\n\\n\"</span>,\n",
       "<span style=\"color: #7fbf7f; text-decoration-color: #7fbf7f\">│   </span><span style=\"font-weight: bold\">{</span><span style=\"color: #008000; text-decoration-color: #008000\">'role'</span>: <span style=\"color: #008000; text-decoration-color: #008000\">'ai'</span>, <span style=\"color: #008000; text-decoration-color: #008000\">'content'</span>: <span style=\"color: #008000; text-decoration-color: #008000\">'This is a Gaming Place'</span>, <span style=\"color: #008000; text-decoration-color: #008000\">'uid'</span>: <span style=\"color: #008000; text-decoration-color: #008000\">''</span><span style=\"font-weight: bold\">}</span>,\n",
       "<span style=\"color: #7fbf7f; text-decoration-color: #7fbf7f\">│   </span><span style=\"font-weight: bold\">{</span><span style=\"color: #008000; text-decoration-color: #008000\">'role'</span>: <span style=\"color: #008000; text-decoration-color: #008000\">'human'</span>, <span style=\"color: #008000; text-decoration-color: #008000\">'content'</span>: <span style=\"color: #008000; text-decoration-color: #008000\">'Hello dudes'</span>, <span style=\"color: #008000; text-decoration-color: #008000\">'uid'</span>: <span style=\"color: #008000; text-decoration-color: #008000\">'user-1'</span><span style=\"font-weight: bold\">}</span>,\n",
       "<span style=\"color: #7fbf7f; text-decoration-color: #7fbf7f\">│   </span><span style=\"font-weight: bold\">{</span><span style=\"color: #008000; text-decoration-color: #008000\">'role'</span>: <span style=\"color: #008000; text-decoration-color: #008000\">'human'</span>, <span style=\"color: #008000; text-decoration-color: #008000\">'content'</span>: <span style=\"color: #008000; text-decoration-color: #008000\">'hi'</span>, <span style=\"color: #008000; text-decoration-color: #008000\">'uid'</span>: <span style=\"color: #008000; text-decoration-color: #008000\">'user-2'</span><span style=\"font-weight: bold\">}</span>,\n",
       "<span style=\"color: #7fbf7f; text-decoration-color: #7fbf7f\">│   </span><span style=\"font-weight: bold\">{</span><span style=\"color: #008000; text-decoration-color: #008000\">'role'</span>: <span style=\"color: #008000; text-decoration-color: #008000\">'human'</span>, <span style=\"color: #008000; text-decoration-color: #008000\">'content'</span>: <span style=\"color: #008000; text-decoration-color: #008000\">'yo yo'</span>, <span style=\"color: #008000; text-decoration-color: #008000\">'uid'</span>: <span style=\"color: #008000; text-decoration-color: #008000\">'user-3'</span><span style=\"font-weight: bold\">}</span>,\n",
       "<span style=\"color: #7fbf7f; text-decoration-color: #7fbf7f\">│   </span><span style=\"font-weight: bold\">{</span><span style=\"color: #008000; text-decoration-color: #008000\">'role'</span>: <span style=\"color: #008000; text-decoration-color: #008000\">'human'</span>, <span style=\"color: #008000; text-decoration-color: #008000\">'content'</span>: <span style=\"color: #008000; text-decoration-color: #008000\">'nice to see you'</span>, <span style=\"color: #008000; text-decoration-color: #008000\">'uid'</span>: <span style=\"color: #008000; text-decoration-color: #008000\">'user-4'</span><span style=\"font-weight: bold\">}</span>,\n",
       "<span style=\"color: #7fbf7f; text-decoration-color: #7fbf7f\">│   </span><span style=\"font-weight: bold\">{</span><span style=\"color: #008000; text-decoration-color: #008000\">'role'</span>: <span style=\"color: #008000; text-decoration-color: #008000\">'human'</span>, <span style=\"color: #008000; text-decoration-color: #008000\">'content'</span>: <span style=\"color: #008000; text-decoration-color: #008000\">'hoho dude'</span>, <span style=\"color: #008000; text-decoration-color: #008000\">'uid'</span>: <span style=\"color: #008000; text-decoration-color: #008000\">'user-5'</span><span style=\"font-weight: bold\">}</span>,\n",
       "<span style=\"color: #7fbf7f; text-decoration-color: #7fbf7f\">│   </span><span style=\"font-weight: bold\">{</span><span style=\"color: #008000; text-decoration-color: #008000\">'role'</span>: <span style=\"color: #008000; text-decoration-color: #008000\">'human'</span>, <span style=\"color: #008000; text-decoration-color: #008000\">'content'</span>: <span style=\"color: #008000; text-decoration-color: #008000\">'o lalala'</span>, <span style=\"color: #008000; text-decoration-color: #008000\">'uid'</span>: <span style=\"color: #008000; text-decoration-color: #008000\">'user-L'</span><span style=\"font-weight: bold\">}</span>,\n",
       "<span style=\"color: #7fbf7f; text-decoration-color: #7fbf7f\">│   </span><span style=\"font-weight: bold\">{</span><span style=\"color: #008000; text-decoration-color: #008000\">'role'</span>: <span style=\"color: #008000; text-decoration-color: #008000\">'human'</span>, <span style=\"color: #008000; text-decoration-color: #008000\">'content'</span>: <span style=\"color: #008000; text-decoration-color: #008000\">'guten tag'</span>, <span style=\"color: #008000; text-decoration-color: #008000\">'uid'</span>: <span style=\"color: #008000; text-decoration-color: #008000\">'user-XXXXL'</span><span style=\"font-weight: bold\">}</span>,\n",
       "<span style=\"color: #7fbf7f; text-decoration-color: #7fbf7f\">│   </span><span style=\"font-weight: bold\">{</span><span style=\"color: #008000; text-decoration-color: #008000\">'role'</span>: <span style=\"color: #008000; text-decoration-color: #008000\">'human'</span>, <span style=\"color: #008000; text-decoration-color: #008000\">'content'</span>: <span style=\"color: #008000; text-decoration-color: #008000\">\"Let's get started, ok?\"</span>, <span style=\"color: #008000; text-decoration-color: #008000\">'uid'</span>: <span style=\"color: #008000; text-decoration-color: #008000\">'user-1'</span><span style=\"font-weight: bold\">}</span>,\n",
       "<span style=\"color: #7fbf7f; text-decoration-color: #7fbf7f\">│   </span><span style=\"font-weight: bold\">{</span><span style=\"color: #008000; text-decoration-color: #008000\">'role'</span>: <span style=\"color: #008000; text-decoration-color: #008000\">'human'</span>, <span style=\"color: #008000; text-decoration-color: #008000\">'content'</span>: <span style=\"color: #008000; text-decoration-color: #008000\">'YES'</span>, <span style=\"color: #008000; text-decoration-color: #008000\">'uid'</span>: <span style=\"color: #008000; text-decoration-color: #008000\">'user-2'</span><span style=\"font-weight: bold\">}</span>,\n",
       "<span style=\"color: #7fbf7f; text-decoration-color: #7fbf7f\">│   </span><span style=\"font-weight: bold\">{</span><span style=\"color: #008000; text-decoration-color: #008000\">'role'</span>: <span style=\"color: #008000; text-decoration-color: #008000\">'human'</span>, <span style=\"color: #008000; text-decoration-color: #008000\">'content'</span>: <span style=\"color: #008000; text-decoration-color: #008000\">'YEAH....'</span>, <span style=\"color: #008000; text-decoration-color: #008000\">'uid'</span>: <span style=\"color: #008000; text-decoration-color: #008000\">'user-3'</span><span style=\"font-weight: bold\">}</span>,\n",
       "<span style=\"color: #7fbf7f; text-decoration-color: #7fbf7f\">│   </span><span style=\"font-weight: bold\">{</span><span style=\"color: #008000; text-decoration-color: #008000\">'role'</span>: <span style=\"color: #008000; text-decoration-color: #008000\">'human'</span>, <span style=\"color: #008000; text-decoration-color: #008000\">'content'</span>: <span style=\"color: #008000; text-decoration-color: #008000\">'Cool..'</span>, <span style=\"color: #008000; text-decoration-color: #008000\">'uid'</span>: <span style=\"color: #008000; text-decoration-color: #008000\">'user-4'</span><span style=\"font-weight: bold\">}</span>,\n",
       "<span style=\"color: #7fbf7f; text-decoration-color: #7fbf7f\">│   </span><span style=\"font-weight: bold\">{</span><span style=\"color: #008000; text-decoration-color: #008000\">'role'</span>: <span style=\"color: #008000; text-decoration-color: #008000\">'human'</span>, <span style=\"color: #008000; text-decoration-color: #008000\">'content'</span>: <span style=\"color: #008000; text-decoration-color: #008000\">'yup.'</span>, <span style=\"color: #008000; text-decoration-color: #008000\">'uid'</span>: <span style=\"color: #008000; text-decoration-color: #008000\">'user-5'</span><span style=\"font-weight: bold\">}</span>,\n",
       "<span style=\"color: #7fbf7f; text-decoration-color: #7fbf7f\">│   </span><span style=\"font-weight: bold\">{</span><span style=\"color: #008000; text-decoration-color: #008000\">'role'</span>: <span style=\"color: #008000; text-decoration-color: #008000\">'human'</span>, <span style=\"color: #008000; text-decoration-color: #008000\">'content'</span>: <span style=\"color: #008000; text-decoration-color: #008000\">'Great.....'</span>, <span style=\"color: #008000; text-decoration-color: #008000\">'uid'</span>: <span style=\"color: #008000; text-decoration-color: #008000\">'user-L'</span><span style=\"font-weight: bold\">}</span>,\n",
       "<span style=\"color: #7fbf7f; text-decoration-color: #7fbf7f\">│   </span><span style=\"font-weight: bold\">{</span><span style=\"color: #008000; text-decoration-color: #008000\">'role'</span>: <span style=\"color: #008000; text-decoration-color: #008000\">'human'</span>, <span style=\"color: #008000; text-decoration-color: #008000\">'content'</span>: <span style=\"color: #008000; text-decoration-color: #008000\">'alles klar'</span>, <span style=\"color: #008000; text-decoration-color: #008000\">'uid'</span>: <span style=\"color: #008000; text-decoration-color: #008000\">'user-XXXXL'</span><span style=\"font-weight: bold\">}</span>,\n",
       "<span style=\"color: #7fbf7f; text-decoration-color: #7fbf7f\">│   </span><span style=\"font-weight: bold\">{</span><span style=\"color: #008000; text-decoration-color: #008000\">'role'</span>: <span style=\"color: #008000; text-decoration-color: #008000\">'human'</span>, <span style=\"color: #008000; text-decoration-color: #008000\">'content'</span>: <span style=\"color: #008000; text-decoration-color: #008000\">'Opppsssssss.'</span>, <span style=\"color: #008000; text-decoration-color: #008000\">'uid'</span>: <span style=\"color: #008000; text-decoration-color: #008000\">'user-5'</span><span style=\"font-weight: bold\">}</span>,\n",
       "<span style=\"color: #7fbf7f; text-decoration-color: #7fbf7f\">│   </span><span style=\"font-weight: bold\">{</span>\n",
       "<span style=\"color: #7fbf7f; text-decoration-color: #7fbf7f\">│   │   </span><span style=\"color: #008000; text-decoration-color: #008000\">'role'</span>: <span style=\"color: #008000; text-decoration-color: #008000\">'human'</span>,\n",
       "<span style=\"color: #7fbf7f; text-decoration-color: #7fbf7f\">│   │   </span><span style=\"color: #008000; text-decoration-color: #008000\">'content'</span>: <span style=\"color: #008000; text-decoration-color: #008000\">\"How many users are involved in this conversation, the valid has value in 'uid'? \\nOnly provide the list of user `uid`s in `[... ]` as result.\"</span>,\n",
       "<span style=\"color: #7fbf7f; text-decoration-color: #7fbf7f\">│   │   </span><span style=\"color: #008000; text-decoration-color: #008000\">'uid'</span>: <span style=\"color: #008000; text-decoration-color: #008000\">'user-X'</span>\n",
       "<span style=\"color: #7fbf7f; text-decoration-color: #7fbf7f\">│   </span><span style=\"font-weight: bold\">}</span>,\n",
       "<span style=\"color: #7fbf7f; text-decoration-color: #7fbf7f\">│   </span><span style=\"font-weight: bold\">{</span><span style=\"color: #008000; text-decoration-color: #008000\">'role'</span>: <span style=\"color: #008000; text-decoration-color: #008000\">'ai'</span>, <span style=\"color: #008000; text-decoration-color: #008000\">'content'</span>: <span style=\"color: #008000; text-decoration-color: #008000\">'[1, 2, 3, 4, 5, 6, 7, 8, 9, 10, 11, 12, 13, 14, 15]'</span>, <span style=\"color: #008000; text-decoration-color: #008000\">'uid'</span>: <span style=\"color: #008000; text-decoration-color: #008000\">''</span><span style=\"font-weight: bold\">}</span>\n",
       "<span style=\"font-weight: bold\">]</span>\n",
       "</pre>\n"
      ],
      "text/plain": [
       "\u001b[1m[\u001b[0m\n",
       "\u001b[2;32m│   \u001b[0m\u001b[32m\"The following is a friendly conversation between a human and an AI. The AI is talkative and provides lots of specific details from its context. \\nIf the AI does not know the answer to a question, it truthfully says it does not know.\\n\\nNotice: The 'uid' is user-id, 'role' is user role for human or ai, 'content' is the message content.\\n\\n\"\u001b[0m,\n",
       "\u001b[2;32m│   \u001b[0m\u001b[1m{\u001b[0m\u001b[32m'role'\u001b[0m: \u001b[32m'ai'\u001b[0m, \u001b[32m'content'\u001b[0m: \u001b[32m'This is a Gaming Place'\u001b[0m, \u001b[32m'uid'\u001b[0m: \u001b[32m''\u001b[0m\u001b[1m}\u001b[0m,\n",
       "\u001b[2;32m│   \u001b[0m\u001b[1m{\u001b[0m\u001b[32m'role'\u001b[0m: \u001b[32m'human'\u001b[0m, \u001b[32m'content'\u001b[0m: \u001b[32m'Hello dudes'\u001b[0m, \u001b[32m'uid'\u001b[0m: \u001b[32m'user-1'\u001b[0m\u001b[1m}\u001b[0m,\n",
       "\u001b[2;32m│   \u001b[0m\u001b[1m{\u001b[0m\u001b[32m'role'\u001b[0m: \u001b[32m'human'\u001b[0m, \u001b[32m'content'\u001b[0m: \u001b[32m'hi'\u001b[0m, \u001b[32m'uid'\u001b[0m: \u001b[32m'user-2'\u001b[0m\u001b[1m}\u001b[0m,\n",
       "\u001b[2;32m│   \u001b[0m\u001b[1m{\u001b[0m\u001b[32m'role'\u001b[0m: \u001b[32m'human'\u001b[0m, \u001b[32m'content'\u001b[0m: \u001b[32m'yo yo'\u001b[0m, \u001b[32m'uid'\u001b[0m: \u001b[32m'user-3'\u001b[0m\u001b[1m}\u001b[0m,\n",
       "\u001b[2;32m│   \u001b[0m\u001b[1m{\u001b[0m\u001b[32m'role'\u001b[0m: \u001b[32m'human'\u001b[0m, \u001b[32m'content'\u001b[0m: \u001b[32m'nice to see you'\u001b[0m, \u001b[32m'uid'\u001b[0m: \u001b[32m'user-4'\u001b[0m\u001b[1m}\u001b[0m,\n",
       "\u001b[2;32m│   \u001b[0m\u001b[1m{\u001b[0m\u001b[32m'role'\u001b[0m: \u001b[32m'human'\u001b[0m, \u001b[32m'content'\u001b[0m: \u001b[32m'hoho dude'\u001b[0m, \u001b[32m'uid'\u001b[0m: \u001b[32m'user-5'\u001b[0m\u001b[1m}\u001b[0m,\n",
       "\u001b[2;32m│   \u001b[0m\u001b[1m{\u001b[0m\u001b[32m'role'\u001b[0m: \u001b[32m'human'\u001b[0m, \u001b[32m'content'\u001b[0m: \u001b[32m'o lalala'\u001b[0m, \u001b[32m'uid'\u001b[0m: \u001b[32m'user-L'\u001b[0m\u001b[1m}\u001b[0m,\n",
       "\u001b[2;32m│   \u001b[0m\u001b[1m{\u001b[0m\u001b[32m'role'\u001b[0m: \u001b[32m'human'\u001b[0m, \u001b[32m'content'\u001b[0m: \u001b[32m'guten tag'\u001b[0m, \u001b[32m'uid'\u001b[0m: \u001b[32m'user-XXXXL'\u001b[0m\u001b[1m}\u001b[0m,\n",
       "\u001b[2;32m│   \u001b[0m\u001b[1m{\u001b[0m\u001b[32m'role'\u001b[0m: \u001b[32m'human'\u001b[0m, \u001b[32m'content'\u001b[0m: \u001b[32m\"Let's get started, ok?\"\u001b[0m, \u001b[32m'uid'\u001b[0m: \u001b[32m'user-1'\u001b[0m\u001b[1m}\u001b[0m,\n",
       "\u001b[2;32m│   \u001b[0m\u001b[1m{\u001b[0m\u001b[32m'role'\u001b[0m: \u001b[32m'human'\u001b[0m, \u001b[32m'content'\u001b[0m: \u001b[32m'YES'\u001b[0m, \u001b[32m'uid'\u001b[0m: \u001b[32m'user-2'\u001b[0m\u001b[1m}\u001b[0m,\n",
       "\u001b[2;32m│   \u001b[0m\u001b[1m{\u001b[0m\u001b[32m'role'\u001b[0m: \u001b[32m'human'\u001b[0m, \u001b[32m'content'\u001b[0m: \u001b[32m'YEAH....'\u001b[0m, \u001b[32m'uid'\u001b[0m: \u001b[32m'user-3'\u001b[0m\u001b[1m}\u001b[0m,\n",
       "\u001b[2;32m│   \u001b[0m\u001b[1m{\u001b[0m\u001b[32m'role'\u001b[0m: \u001b[32m'human'\u001b[0m, \u001b[32m'content'\u001b[0m: \u001b[32m'Cool..'\u001b[0m, \u001b[32m'uid'\u001b[0m: \u001b[32m'user-4'\u001b[0m\u001b[1m}\u001b[0m,\n",
       "\u001b[2;32m│   \u001b[0m\u001b[1m{\u001b[0m\u001b[32m'role'\u001b[0m: \u001b[32m'human'\u001b[0m, \u001b[32m'content'\u001b[0m: \u001b[32m'yup.'\u001b[0m, \u001b[32m'uid'\u001b[0m: \u001b[32m'user-5'\u001b[0m\u001b[1m}\u001b[0m,\n",
       "\u001b[2;32m│   \u001b[0m\u001b[1m{\u001b[0m\u001b[32m'role'\u001b[0m: \u001b[32m'human'\u001b[0m, \u001b[32m'content'\u001b[0m: \u001b[32m'Great.....'\u001b[0m, \u001b[32m'uid'\u001b[0m: \u001b[32m'user-L'\u001b[0m\u001b[1m}\u001b[0m,\n",
       "\u001b[2;32m│   \u001b[0m\u001b[1m{\u001b[0m\u001b[32m'role'\u001b[0m: \u001b[32m'human'\u001b[0m, \u001b[32m'content'\u001b[0m: \u001b[32m'alles klar'\u001b[0m, \u001b[32m'uid'\u001b[0m: \u001b[32m'user-XXXXL'\u001b[0m\u001b[1m}\u001b[0m,\n",
       "\u001b[2;32m│   \u001b[0m\u001b[1m{\u001b[0m\u001b[32m'role'\u001b[0m: \u001b[32m'human'\u001b[0m, \u001b[32m'content'\u001b[0m: \u001b[32m'Opppsssssss.'\u001b[0m, \u001b[32m'uid'\u001b[0m: \u001b[32m'user-5'\u001b[0m\u001b[1m}\u001b[0m,\n",
       "\u001b[2;32m│   \u001b[0m\u001b[1m{\u001b[0m\n",
       "\u001b[2;32m│   │   \u001b[0m\u001b[32m'role'\u001b[0m: \u001b[32m'human'\u001b[0m,\n",
       "\u001b[2;32m│   │   \u001b[0m\u001b[32m'content'\u001b[0m: \u001b[32m\"How many users are involved in this conversation, the valid has value in 'uid'? \\nOnly provide the list of user `uid`s in `\u001b[0m\u001b[32m[\u001b[0m\u001b[32m... \u001b[0m\u001b[32m]\u001b[0m\u001b[32m` as result.\"\u001b[0m,\n",
       "\u001b[2;32m│   │   \u001b[0m\u001b[32m'uid'\u001b[0m: \u001b[32m'user-X'\u001b[0m\n",
       "\u001b[2;32m│   \u001b[0m\u001b[1m}\u001b[0m,\n",
       "\u001b[2;32m│   \u001b[0m\u001b[1m{\u001b[0m\u001b[32m'role'\u001b[0m: \u001b[32m'ai'\u001b[0m, \u001b[32m'content'\u001b[0m: \u001b[32m'\u001b[0m\u001b[32m[\u001b[0m\u001b[32m1, 2, 3, 4, 5, 6, 7, 8, 9, 10, 11, 12, 13, 14, 15\u001b[0m\u001b[32m]\u001b[0m\u001b[32m'\u001b[0m, \u001b[32m'uid'\u001b[0m: \u001b[32m''\u001b[0m\u001b[1m}\u001b[0m\n",
       "\u001b[1m]\u001b[0m\n"
      ]
     },
     "metadata": {},
     "output_type": "display_data"
    },
    {
     "name": "stdout",
     "output_type": "stream",
     "text": [
      "user-5 result\n"
     ]
    },
    {
     "data": {
      "text/html": [
       "<pre style=\"white-space:pre;overflow-x:auto;line-height:normal;font-family:Menlo,'DejaVu Sans Mono',consolas,'Courier New',monospace\"><span style=\"color: #008000; text-decoration-color: #008000\">'[\"hoho dude\", \"o lalala\"]'</span>\n",
       "</pre>\n"
      ],
      "text/plain": [
       "\u001b[32m'\u001b[0m\u001b[32m[\u001b[0m\u001b[32m\"hoho dude\", \"o lalala\"\u001b[0m\u001b[32m]\u001b[0m\u001b[32m'\u001b[0m\n"
      ]
     },
     "metadata": {},
     "output_type": "display_data"
    }
   ],
   "source": [
    "memory = ConversationBufferMemory(return_messages=True)\n",
    "mem_vars = memory.load_memory_variables({})\n",
    "pretty_print(\"Memory Variables init\", mem_vars)\n",
    "pretty_print(\"Memory Variables in str list (buffer_as_str) init\", memory.buffer_as_str)\n",
    "\n",
    "memory.buffer.append(AIMessage(content=\"This is a Gaming Place\"))\n",
    "mem_vars = memory.load_memory_variables({})\n",
    "pretty_print(\"Memory Variables seeded\", mem_vars)\n",
    "pretty_print(\n",
    "    \"Memory Variables in str list (buffer_as_str), seeded\", memory.buffer_as_str\n",
    ")\n",
    "\n",
    "memory.buffer.append(HumanMessage(content=\"Hello dudes\", id=\"user-1\"))\n",
    "memory.buffer.append(HumanMessage(content=\"hi\", id=\"user-2\"))\n",
    "memory.buffer.append(HumanMessage(content=\"yo yo\", id=\"user-3\"))\n",
    "memory.buffer.append(HumanMessage(content=\"nice to see you\", id=\"user-4\"))\n",
    "memory.buffer.append(HumanMessage(content=\"hoho dude\", id=\"user-5\"))\n",
    "memory.buffer.append(HumanMessage(content=\"o lalala\", id=\"user-L\"))\n",
    "memory.buffer.append(HumanMessage(content=\"guten tag\", id=\"user-XXXXL\"))\n",
    "memory.buffer.append(HumanMessage(content=\"Let's get started, ok?\", id=\"user-1\"))\n",
    "memory.buffer.append(HumanMessage(content=\"YES\", id=\"user-2\"))\n",
    "memory.buffer.append(HumanMessage(content=\"YEAH....\", id=\"user-3\"))\n",
    "memory.buffer.append(HumanMessage(content=\"Cool..\", id=\"user-4\"))\n",
    "memory.buffer.append(HumanMessage(content=\"yup.\", id=\"user-5\"))\n",
    "memory.buffer.append(HumanMessage(content=\"Great.....\", id=\"user-L\"))\n",
    "memory.buffer.append(HumanMessage(content=\"alles klar\", id=\"user-XXXXL\"))\n",
    "memory.buffer.append(HumanMessage(content=\"Opppsssssss.\", id=\"user-5\"))\n",
    "mem_vars = memory.load_memory_variables({})\n",
    "pretty_print(\"Memory Variables\", mem_vars)\n",
    "pretty_print(\"Memory Variables in str list (buffer_as_str)\", memory.buffer_as_str)\n",
    "\n",
    "\n",
    "def convert_memory_to_dict(memory: ConversationBufferMemory) -> List[Dict[str, str]]:\n",
    "    \"\"\"Convert the memory to the dict, role is id, content is the message content.\"\"\"\n",
    "    res = [\n",
    "        \"\"\"The following is a friendly conversation between a human and an AI. The AI is talkative and provides lots of specific details from its context. \n",
    "If the AI does not know the answer to a question, it truthfully says it does not know.\n",
    "\n",
    "Notice: The 'uid' is user-id, 'role' is user role for human or ai, 'content' is the message content.\n",
    "\n",
    "\"\"\"\n",
    "    ]\n",
    "    history = memory.load_memory_variables({})[\"history\"]\n",
    "    for hist_item in history:\n",
    "        role = \"human\" if isinstance(hist_item, HumanMessage) else \"ai\"\n",
    "        res.append(\n",
    "            {\n",
    "                \"role\": role,\n",
    "                \"content\": hist_item.content,\n",
    "                \"uid\": hist_item.id if role == \"human\" else \"\",\n",
    "            }\n",
    "        )\n",
    "    return res\n",
    "\n",
    "\n",
    "cxt_dict = convert_memory_to_dict(memory)\n",
    "pretty_print(\"cxt_dict\", cxt_dict)\n",
    "\n",
    "\n",
    "def build_chain_without_parsing(\n",
    "    model: BaseChatModel,\n",
    ") -> RunnableSerializable[Dict, str]:\n",
    "    prompt = ChatPromptTemplate.from_messages(\n",
    "        [\n",
    "            SystemMessage(\n",
    "                content=(\"You are an AI assistant.\" \"You can handle the query of user.\")\n",
    "            ),\n",
    "            MessagesPlaceholder(variable_name=\"history\"),\n",
    "            HumanMessagePromptTemplate.from_template(\"{query}\"),\n",
    "        ]\n",
    "    )\n",
    "    return (\n",
    "        prompt | model\n",
    "    )  # comment model, you can see the filled template after invoking the chain.\n",
    "\n",
    "\n",
    "model = llm\n",
    "human_query = HumanMessage(\n",
    "    \"\"\"How many users are involved in this conversation, the valid has value in 'uid'? \n",
    "Only provide the list of user `uid`s in `[... ]` as result.\"\"\",\n",
    "    id=\"user-X\",\n",
    ")\n",
    "# human_query = HumanMessage(\n",
    "#     \"\"\"How many users are involved in this conversation exclude the AI or System messages?\n",
    "# Also provide the list of \"uid\"s. The user ids can be any format unique to each user.\n",
    "\n",
    "# Notice: \n",
    "\n",
    "# Give me a simple result with the only number of users without any instruction text or additional information,\n",
    "# keep the result as simple as possible,ie. 1,2 or 3....\n",
    "# Output format: \n",
    "# user_count=x, x is number of users\n",
    "\n",
    "# The user ids will be saved inside \"[]\".\n",
    "# Output format: \n",
    "# user_ids=[user_1,.......]\"\"\",\n",
    "#     id=\"user-X\",\n",
    "# )\n",
    "res = build_chain_without_parsing(model).invoke(\n",
    "    {\n",
    "        \"history\": cxt_dict,\n",
    "        \"query\": human_query.content,\n",
    "    }\n",
    ")\n",
    "pretty_print(\"Result\", res)\n",
    "\n",
    "# Update memory\n",
    "memory.buffer.append(human_query)\n",
    "memory.buffer.append(res)\n",
    "cxt_dict = convert_memory_to_dict(memory)\n",
    "pretty_print(\"cxt_dict\", cxt_dict)\n",
    "\n",
    "\n",
    "res = (build_chain_without_parsing(model) | StrOutputParser()).invoke(\n",
    "    {\n",
    "        \"history\": cxt_dict,\n",
    "        \"query\": \"\"\"Give the list of all the messages from the one that \"uid\" equals \"user-5\" and put them in a \"[]\" without any instruction text, newlines or additional information.\n",
    "Notice: Only need content and plan-text.\n",
    "\"\"\",\n",
    "    }\n",
    ")\n",
    "pretty_print(\"user-5 result\", res)"
   ]
  },
  {
   "cell_type": "markdown",
   "metadata": {},
   "source": [
    "#### (Optional) Use LangChain buildin chain for history based conversation\n",
    "\n",
    "\n",
    "`ChatMessageHistory` is consturcted by a list of `BaseMessage`. We can convert list of` (\"role\":\"user\", \"content\":\"some text\")` to list of `BaseMessage`.\n",
    "\n",
    "In order to be compatible with `convert_openai_messages`, we change the role to openai format, that is ['system', 'assistant', 'user', 'function'], so, we cannot use role as identifier for user.\n",
    "\n",
    "Any role outside of the above list will cause an error.\n",
    "\n",
    "`BadRequestError: Error code: 400 - {'error': {'message': \"'user-1' is not one of ['system', 'assistant', 'user', 'function'] - 'messages.2.role'\", 'type': 'invalid_request_error', 'param': None, 'code': None}}`\n",
    "\n",
    "```python\n",
    "from langchain_core.runnables.history import RunnableWithMessageHistory\n",
    "from langchain.memory import ChatMessageHistory\n",
    "from langchain_community.adapters.openai import convert_openai_messages\n",
    "\n",
    "\n",
    "final_chain = RunnableWithMessageHistory(\n",
    "    build_chain_without_parsing(model),\n",
    "    lambda _: ChatMessageHistory(messages=convert_openai_messages(cxt_dict)),\n",
    "    input_messages_key=\"query\",\n",
    "    history_messages_key=\"history\",\n",
    ")\n",
    "res = final_chain.invoke(\n",
    "    {\"query\": human_query.content},\n",
    "    {\"configurable\": {\"session_id\": None}},\n",
    ")\n",
    "```\n",
    "\n",
    "Big advantage: The `ChatMessageHistory` object will grow with each invocation.\n",
    "\n",
    "\n",
    "\n"
   ]
  },
  {
   "cell_type": "code",
   "execution_count": 155,
   "metadata": {},
   "outputs": [
    {
     "name": "stdout",
     "output_type": "stream",
     "text": [
      "Memory Variables init\n"
     ]
    },
    {
     "data": {
      "text/html": [
       "<pre style=\"white-space:pre;overflow-x:auto;line-height:normal;font-family:Menlo,'DejaVu Sans Mono',consolas,'Courier New',monospace\"><span style=\"font-weight: bold\">{</span><span style=\"color: #008000; text-decoration-color: #008000\">'history'</span>: <span style=\"font-weight: bold\">[]}</span>\n",
       "</pre>\n"
      ],
      "text/plain": [
       "\u001b[1m{\u001b[0m\u001b[32m'history'\u001b[0m: \u001b[1m[\u001b[0m\u001b[1m]\u001b[0m\u001b[1m}\u001b[0m\n"
      ]
     },
     "metadata": {},
     "output_type": "display_data"
    },
    {
     "name": "stdout",
     "output_type": "stream",
     "text": [
      "Memory Variables in str list (buffer_as_str) init\n"
     ]
    },
    {
     "data": {
      "text/html": [
       "<pre style=\"white-space:pre;overflow-x:auto;line-height:normal;font-family:Menlo,'DejaVu Sans Mono',consolas,'Courier New',monospace\"><span style=\"color: #008000; text-decoration-color: #008000\">''</span>\n",
       "</pre>\n"
      ],
      "text/plain": [
       "\u001b[32m''\u001b[0m\n"
      ]
     },
     "metadata": {},
     "output_type": "display_data"
    },
    {
     "name": "stdout",
     "output_type": "stream",
     "text": [
      "Memory Variables seeded\n"
     ]
    },
    {
     "data": {
      "text/html": [
       "<pre style=\"white-space:pre;overflow-x:auto;line-height:normal;font-family:Menlo,'DejaVu Sans Mono',consolas,'Courier New',monospace\"><span style=\"font-weight: bold\">{</span><span style=\"color: #008000; text-decoration-color: #008000\">'history'</span>: <span style=\"font-weight: bold\">[</span><span style=\"color: #800080; text-decoration-color: #800080; font-weight: bold\">AIMessage</span><span style=\"font-weight: bold\">(</span><span style=\"color: #808000; text-decoration-color: #808000\">content</span>=<span style=\"color: #008000; text-decoration-color: #008000\">'This is a Gaming Place'</span><span style=\"font-weight: bold\">)]}</span>\n",
       "</pre>\n"
      ],
      "text/plain": [
       "\u001b[1m{\u001b[0m\u001b[32m'history'\u001b[0m: \u001b[1m[\u001b[0m\u001b[1;35mAIMessage\u001b[0m\u001b[1m(\u001b[0m\u001b[33mcontent\u001b[0m=\u001b[32m'This is a Gaming Place'\u001b[0m\u001b[1m)\u001b[0m\u001b[1m]\u001b[0m\u001b[1m}\u001b[0m\n"
      ]
     },
     "metadata": {},
     "output_type": "display_data"
    },
    {
     "name": "stdout",
     "output_type": "stream",
     "text": [
      "Memory Variables in str list (buffer_as_str), seeded\n"
     ]
    },
    {
     "data": {
      "text/html": [
       "<pre style=\"white-space:pre;overflow-x:auto;line-height:normal;font-family:Menlo,'DejaVu Sans Mono',consolas,'Courier New',monospace\"><span style=\"color: #008000; text-decoration-color: #008000\">'AI: This is a Gaming Place'</span>\n",
       "</pre>\n"
      ],
      "text/plain": [
       "\u001b[32m'AI: This is a Gaming Place'\u001b[0m\n"
      ]
     },
     "metadata": {},
     "output_type": "display_data"
    },
    {
     "name": "stdout",
     "output_type": "stream",
     "text": [
      "Memory Variables\n"
     ]
    },
    {
     "data": {
      "text/html": [
       "<pre style=\"white-space:pre;overflow-x:auto;line-height:normal;font-family:Menlo,'DejaVu Sans Mono',consolas,'Courier New',monospace\"><span style=\"font-weight: bold\">{</span>\n",
       "<span style=\"color: #7fbf7f; text-decoration-color: #7fbf7f\">│   </span><span style=\"color: #008000; text-decoration-color: #008000\">'history'</span>: <span style=\"font-weight: bold\">[</span>\n",
       "<span style=\"color: #7fbf7f; text-decoration-color: #7fbf7f\">│   │   </span><span style=\"color: #800080; text-decoration-color: #800080; font-weight: bold\">AIMessage</span><span style=\"font-weight: bold\">(</span><span style=\"color: #808000; text-decoration-color: #808000\">content</span>=<span style=\"color: #008000; text-decoration-color: #008000\">'This is a Gaming Place'</span><span style=\"font-weight: bold\">)</span>,\n",
       "<span style=\"color: #7fbf7f; text-decoration-color: #7fbf7f\">│   │   </span><span style=\"color: #800080; text-decoration-color: #800080; font-weight: bold\">HumanMessage</span><span style=\"font-weight: bold\">(</span><span style=\"color: #808000; text-decoration-color: #808000\">content</span>=<span style=\"color: #008000; text-decoration-color: #008000\">'Hello dudes'</span>, <span style=\"color: #808000; text-decoration-color: #808000\">id</span>=<span style=\"color: #008000; text-decoration-color: #008000\">'user-1'</span><span style=\"font-weight: bold\">)</span>,\n",
       "<span style=\"color: #7fbf7f; text-decoration-color: #7fbf7f\">│   │   </span><span style=\"color: #800080; text-decoration-color: #800080; font-weight: bold\">HumanMessage</span><span style=\"font-weight: bold\">(</span><span style=\"color: #808000; text-decoration-color: #808000\">content</span>=<span style=\"color: #008000; text-decoration-color: #008000\">'hi'</span>, <span style=\"color: #808000; text-decoration-color: #808000\">id</span>=<span style=\"color: #008000; text-decoration-color: #008000\">'user-2'</span><span style=\"font-weight: bold\">)</span>,\n",
       "<span style=\"color: #7fbf7f; text-decoration-color: #7fbf7f\">│   │   </span><span style=\"color: #800080; text-decoration-color: #800080; font-weight: bold\">HumanMessage</span><span style=\"font-weight: bold\">(</span><span style=\"color: #808000; text-decoration-color: #808000\">content</span>=<span style=\"color: #008000; text-decoration-color: #008000\">'yo yo'</span>, <span style=\"color: #808000; text-decoration-color: #808000\">id</span>=<span style=\"color: #008000; text-decoration-color: #008000\">'user-3'</span><span style=\"font-weight: bold\">)</span>,\n",
       "<span style=\"color: #7fbf7f; text-decoration-color: #7fbf7f\">│   │   </span><span style=\"color: #800080; text-decoration-color: #800080; font-weight: bold\">HumanMessage</span><span style=\"font-weight: bold\">(</span><span style=\"color: #808000; text-decoration-color: #808000\">content</span>=<span style=\"color: #008000; text-decoration-color: #008000\">'nice to see you'</span>, <span style=\"color: #808000; text-decoration-color: #808000\">id</span>=<span style=\"color: #008000; text-decoration-color: #008000\">'user-4'</span><span style=\"font-weight: bold\">)</span>,\n",
       "<span style=\"color: #7fbf7f; text-decoration-color: #7fbf7f\">│   │   </span><span style=\"color: #800080; text-decoration-color: #800080; font-weight: bold\">HumanMessage</span><span style=\"font-weight: bold\">(</span><span style=\"color: #808000; text-decoration-color: #808000\">content</span>=<span style=\"color: #008000; text-decoration-color: #008000\">'hoho dude'</span>, <span style=\"color: #808000; text-decoration-color: #808000\">id</span>=<span style=\"color: #008000; text-decoration-color: #008000\">'user-5'</span><span style=\"font-weight: bold\">)</span>,\n",
       "<span style=\"color: #7fbf7f; text-decoration-color: #7fbf7f\">│   │   </span><span style=\"color: #800080; text-decoration-color: #800080; font-weight: bold\">HumanMessage</span><span style=\"font-weight: bold\">(</span><span style=\"color: #808000; text-decoration-color: #808000\">content</span>=<span style=\"color: #008000; text-decoration-color: #008000\">'o lalala'</span>, <span style=\"color: #808000; text-decoration-color: #808000\">id</span>=<span style=\"color: #008000; text-decoration-color: #008000\">'user-L'</span><span style=\"font-weight: bold\">)</span>,\n",
       "<span style=\"color: #7fbf7f; text-decoration-color: #7fbf7f\">│   │   </span><span style=\"color: #800080; text-decoration-color: #800080; font-weight: bold\">HumanMessage</span><span style=\"font-weight: bold\">(</span><span style=\"color: #808000; text-decoration-color: #808000\">content</span>=<span style=\"color: #008000; text-decoration-color: #008000\">'guten tag'</span>, <span style=\"color: #808000; text-decoration-color: #808000\">id</span>=<span style=\"color: #008000; text-decoration-color: #008000\">'user-XXXXL'</span><span style=\"font-weight: bold\">)</span>,\n",
       "<span style=\"color: #7fbf7f; text-decoration-color: #7fbf7f\">│   │   </span><span style=\"color: #800080; text-decoration-color: #800080; font-weight: bold\">HumanMessage</span><span style=\"font-weight: bold\">(</span><span style=\"color: #808000; text-decoration-color: #808000\">content</span>=<span style=\"color: #008000; text-decoration-color: #008000\">\"Let's get started, ok?\"</span>, <span style=\"color: #808000; text-decoration-color: #808000\">id</span>=<span style=\"color: #008000; text-decoration-color: #008000\">'user-1'</span><span style=\"font-weight: bold\">)</span>,\n",
       "<span style=\"color: #7fbf7f; text-decoration-color: #7fbf7f\">│   │   </span><span style=\"color: #800080; text-decoration-color: #800080; font-weight: bold\">HumanMessage</span><span style=\"font-weight: bold\">(</span><span style=\"color: #808000; text-decoration-color: #808000\">content</span>=<span style=\"color: #008000; text-decoration-color: #008000\">'YES'</span>, <span style=\"color: #808000; text-decoration-color: #808000\">id</span>=<span style=\"color: #008000; text-decoration-color: #008000\">'user-2'</span><span style=\"font-weight: bold\">)</span>,\n",
       "<span style=\"color: #7fbf7f; text-decoration-color: #7fbf7f\">│   │   </span><span style=\"color: #800080; text-decoration-color: #800080; font-weight: bold\">HumanMessage</span><span style=\"font-weight: bold\">(</span><span style=\"color: #808000; text-decoration-color: #808000\">content</span>=<span style=\"color: #008000; text-decoration-color: #008000\">'YEAH....'</span>, <span style=\"color: #808000; text-decoration-color: #808000\">id</span>=<span style=\"color: #008000; text-decoration-color: #008000\">'user-3'</span><span style=\"font-weight: bold\">)</span>,\n",
       "<span style=\"color: #7fbf7f; text-decoration-color: #7fbf7f\">│   │   </span><span style=\"color: #800080; text-decoration-color: #800080; font-weight: bold\">HumanMessage</span><span style=\"font-weight: bold\">(</span><span style=\"color: #808000; text-decoration-color: #808000\">content</span>=<span style=\"color: #008000; text-decoration-color: #008000\">'Cool..'</span>, <span style=\"color: #808000; text-decoration-color: #808000\">id</span>=<span style=\"color: #008000; text-decoration-color: #008000\">'user-4'</span><span style=\"font-weight: bold\">)</span>,\n",
       "<span style=\"color: #7fbf7f; text-decoration-color: #7fbf7f\">│   │   </span><span style=\"color: #800080; text-decoration-color: #800080; font-weight: bold\">HumanMessage</span><span style=\"font-weight: bold\">(</span><span style=\"color: #808000; text-decoration-color: #808000\">content</span>=<span style=\"color: #008000; text-decoration-color: #008000\">'yup.'</span>, <span style=\"color: #808000; text-decoration-color: #808000\">id</span>=<span style=\"color: #008000; text-decoration-color: #008000\">'user-5'</span><span style=\"font-weight: bold\">)</span>,\n",
       "<span style=\"color: #7fbf7f; text-decoration-color: #7fbf7f\">│   │   </span><span style=\"color: #800080; text-decoration-color: #800080; font-weight: bold\">HumanMessage</span><span style=\"font-weight: bold\">(</span><span style=\"color: #808000; text-decoration-color: #808000\">content</span>=<span style=\"color: #008000; text-decoration-color: #008000\">'Great.....'</span>, <span style=\"color: #808000; text-decoration-color: #808000\">id</span>=<span style=\"color: #008000; text-decoration-color: #008000\">'user-L'</span><span style=\"font-weight: bold\">)</span>,\n",
       "<span style=\"color: #7fbf7f; text-decoration-color: #7fbf7f\">│   │   </span><span style=\"color: #800080; text-decoration-color: #800080; font-weight: bold\">HumanMessage</span><span style=\"font-weight: bold\">(</span><span style=\"color: #808000; text-decoration-color: #808000\">content</span>=<span style=\"color: #008000; text-decoration-color: #008000\">'alles klar'</span>, <span style=\"color: #808000; text-decoration-color: #808000\">id</span>=<span style=\"color: #008000; text-decoration-color: #008000\">'user-XL'</span><span style=\"font-weight: bold\">)</span>,\n",
       "<span style=\"color: #7fbf7f; text-decoration-color: #7fbf7f\">│   │   </span><span style=\"color: #800080; text-decoration-color: #800080; font-weight: bold\">HumanMessage</span><span style=\"font-weight: bold\">(</span><span style=\"color: #808000; text-decoration-color: #808000\">content</span>=<span style=\"color: #008000; text-decoration-color: #008000\">\"I'm good and the best.\"</span>, <span style=\"color: #808000; text-decoration-color: #808000\">id</span>=<span style=\"color: #008000; text-decoration-color: #008000\">'user-5'</span><span style=\"font-weight: bold\">)</span>,\n",
       "<span style=\"color: #7fbf7f; text-decoration-color: #7fbf7f\">│   │   </span><span style=\"color: #800080; text-decoration-color: #800080; font-weight: bold\">HumanMessage</span><span style=\"font-weight: bold\">(</span><span style=\"color: #808000; text-decoration-color: #808000\">content</span>=<span style=\"color: #008000; text-decoration-color: #008000\">'so, I am the final one.'</span>, <span style=\"color: #808000; text-decoration-color: #808000\">id</span>=<span style=\"color: #008000; text-decoration-color: #008000\">'user-5'</span><span style=\"font-weight: bold\">)</span>\n",
       "<span style=\"color: #7fbf7f; text-decoration-color: #7fbf7f\">│   </span><span style=\"font-weight: bold\">]</span>\n",
       "<span style=\"font-weight: bold\">}</span>\n",
       "</pre>\n"
      ],
      "text/plain": [
       "\u001b[1m{\u001b[0m\n",
       "\u001b[2;32m│   \u001b[0m\u001b[32m'history'\u001b[0m: \u001b[1m[\u001b[0m\n",
       "\u001b[2;32m│   │   \u001b[0m\u001b[1;35mAIMessage\u001b[0m\u001b[1m(\u001b[0m\u001b[33mcontent\u001b[0m=\u001b[32m'This is a Gaming Place'\u001b[0m\u001b[1m)\u001b[0m,\n",
       "\u001b[2;32m│   │   \u001b[0m\u001b[1;35mHumanMessage\u001b[0m\u001b[1m(\u001b[0m\u001b[33mcontent\u001b[0m=\u001b[32m'Hello dudes'\u001b[0m, \u001b[33mid\u001b[0m=\u001b[32m'user-1'\u001b[0m\u001b[1m)\u001b[0m,\n",
       "\u001b[2;32m│   │   \u001b[0m\u001b[1;35mHumanMessage\u001b[0m\u001b[1m(\u001b[0m\u001b[33mcontent\u001b[0m=\u001b[32m'hi'\u001b[0m, \u001b[33mid\u001b[0m=\u001b[32m'user-2'\u001b[0m\u001b[1m)\u001b[0m,\n",
       "\u001b[2;32m│   │   \u001b[0m\u001b[1;35mHumanMessage\u001b[0m\u001b[1m(\u001b[0m\u001b[33mcontent\u001b[0m=\u001b[32m'yo yo'\u001b[0m, \u001b[33mid\u001b[0m=\u001b[32m'user-3'\u001b[0m\u001b[1m)\u001b[0m,\n",
       "\u001b[2;32m│   │   \u001b[0m\u001b[1;35mHumanMessage\u001b[0m\u001b[1m(\u001b[0m\u001b[33mcontent\u001b[0m=\u001b[32m'nice to see you'\u001b[0m, \u001b[33mid\u001b[0m=\u001b[32m'user-4'\u001b[0m\u001b[1m)\u001b[0m,\n",
       "\u001b[2;32m│   │   \u001b[0m\u001b[1;35mHumanMessage\u001b[0m\u001b[1m(\u001b[0m\u001b[33mcontent\u001b[0m=\u001b[32m'hoho dude'\u001b[0m, \u001b[33mid\u001b[0m=\u001b[32m'user-5'\u001b[0m\u001b[1m)\u001b[0m,\n",
       "\u001b[2;32m│   │   \u001b[0m\u001b[1;35mHumanMessage\u001b[0m\u001b[1m(\u001b[0m\u001b[33mcontent\u001b[0m=\u001b[32m'o lalala'\u001b[0m, \u001b[33mid\u001b[0m=\u001b[32m'user-L'\u001b[0m\u001b[1m)\u001b[0m,\n",
       "\u001b[2;32m│   │   \u001b[0m\u001b[1;35mHumanMessage\u001b[0m\u001b[1m(\u001b[0m\u001b[33mcontent\u001b[0m=\u001b[32m'guten tag'\u001b[0m, \u001b[33mid\u001b[0m=\u001b[32m'user-XXXXL'\u001b[0m\u001b[1m)\u001b[0m,\n",
       "\u001b[2;32m│   │   \u001b[0m\u001b[1;35mHumanMessage\u001b[0m\u001b[1m(\u001b[0m\u001b[33mcontent\u001b[0m=\u001b[32m\"Let\u001b[0m\u001b[32m's get started, ok?\"\u001b[0m, \u001b[33mid\u001b[0m=\u001b[32m'user-1'\u001b[0m\u001b[1m)\u001b[0m,\n",
       "\u001b[2;32m│   │   \u001b[0m\u001b[1;35mHumanMessage\u001b[0m\u001b[1m(\u001b[0m\u001b[33mcontent\u001b[0m=\u001b[32m'YES'\u001b[0m, \u001b[33mid\u001b[0m=\u001b[32m'user-2'\u001b[0m\u001b[1m)\u001b[0m,\n",
       "\u001b[2;32m│   │   \u001b[0m\u001b[1;35mHumanMessage\u001b[0m\u001b[1m(\u001b[0m\u001b[33mcontent\u001b[0m=\u001b[32m'YEAH....'\u001b[0m, \u001b[33mid\u001b[0m=\u001b[32m'user-3'\u001b[0m\u001b[1m)\u001b[0m,\n",
       "\u001b[2;32m│   │   \u001b[0m\u001b[1;35mHumanMessage\u001b[0m\u001b[1m(\u001b[0m\u001b[33mcontent\u001b[0m=\u001b[32m'Cool..'\u001b[0m, \u001b[33mid\u001b[0m=\u001b[32m'user-4'\u001b[0m\u001b[1m)\u001b[0m,\n",
       "\u001b[2;32m│   │   \u001b[0m\u001b[1;35mHumanMessage\u001b[0m\u001b[1m(\u001b[0m\u001b[33mcontent\u001b[0m=\u001b[32m'yup.'\u001b[0m, \u001b[33mid\u001b[0m=\u001b[32m'user-5'\u001b[0m\u001b[1m)\u001b[0m,\n",
       "\u001b[2;32m│   │   \u001b[0m\u001b[1;35mHumanMessage\u001b[0m\u001b[1m(\u001b[0m\u001b[33mcontent\u001b[0m=\u001b[32m'Great.....'\u001b[0m, \u001b[33mid\u001b[0m=\u001b[32m'user-L'\u001b[0m\u001b[1m)\u001b[0m,\n",
       "\u001b[2;32m│   │   \u001b[0m\u001b[1;35mHumanMessage\u001b[0m\u001b[1m(\u001b[0m\u001b[33mcontent\u001b[0m=\u001b[32m'alles klar'\u001b[0m, \u001b[33mid\u001b[0m=\u001b[32m'user-XL'\u001b[0m\u001b[1m)\u001b[0m,\n",
       "\u001b[2;32m│   │   \u001b[0m\u001b[1;35mHumanMessage\u001b[0m\u001b[1m(\u001b[0m\u001b[33mcontent\u001b[0m=\u001b[32m\"I\u001b[0m\u001b[32m'm good and the best.\"\u001b[0m, \u001b[33mid\u001b[0m=\u001b[32m'user-5'\u001b[0m\u001b[1m)\u001b[0m,\n",
       "\u001b[2;32m│   │   \u001b[0m\u001b[1;35mHumanMessage\u001b[0m\u001b[1m(\u001b[0m\u001b[33mcontent\u001b[0m=\u001b[32m'so, I am the final one.'\u001b[0m, \u001b[33mid\u001b[0m=\u001b[32m'user-5'\u001b[0m\u001b[1m)\u001b[0m\n",
       "\u001b[2;32m│   \u001b[0m\u001b[1m]\u001b[0m\n",
       "\u001b[1m}\u001b[0m\n"
      ]
     },
     "metadata": {},
     "output_type": "display_data"
    },
    {
     "name": "stdout",
     "output_type": "stream",
     "text": [
      "Memory Variables in str list (buffer_as_str)\n"
     ]
    },
    {
     "data": {
      "text/html": [
       "<pre style=\"white-space:pre;overflow-x:auto;line-height:normal;font-family:Menlo,'DejaVu Sans Mono',consolas,'Courier New',monospace\"><span style=\"color: #008000; text-decoration-color: #008000\">\"AI: This is a Gaming Place\\nHuman: Hello dudes\\nHuman: hi\\nHuman: yo yo\\nHuman: nice to see you\\nHuman: hoho dude\\nHuman: o lalala\\nHuman: guten tag\\nHuman: Let's get started, ok?\\nHuman: YES\\nHuman: YEAH....\\nHuman: Cool..\\nHuman: yup.\\nHuman: Great.....\\nHuman: alles klar\\nHuman: I'm good and the best.\\nHuman: so, I am the final one.\"</span>\n",
       "</pre>\n"
      ],
      "text/plain": [
       "\u001b[32m\"AI: This is a Gaming Place\\nHuman: Hello dudes\\nHuman: hi\\nHuman: yo yo\\nHuman: nice to see you\\nHuman: hoho dude\\nHuman: o lalala\\nHuman: guten tag\\nHuman: Let's get started, ok?\\nHuman: YES\\nHuman: YEAH....\\nHuman: Cool..\\nHuman: yup.\\nHuman: Great.....\\nHuman: alles klar\\nHuman: I'm good and the best.\\nHuman: so, I am the final one.\"\u001b[0m\n"
      ]
     },
     "metadata": {},
     "output_type": "display_data"
    },
    {
     "name": "stdout",
     "output_type": "stream",
     "text": [
      "cxt_dict\n"
     ]
    },
    {
     "data": {
      "text/html": [
       "<pre style=\"white-space:pre;overflow-x:auto;line-height:normal;font-family:Menlo,'DejaVu Sans Mono',consolas,'Courier New',monospace\"><span style=\"font-weight: bold\">[</span>\n",
       "<span style=\"color: #7fbf7f; text-decoration-color: #7fbf7f\">│   </span><span style=\"font-weight: bold\">{</span><span style=\"color: #008000; text-decoration-color: #008000\">'role'</span>: <span style=\"color: #008000; text-decoration-color: #008000\">'assistant'</span>, <span style=\"color: #008000; text-decoration-color: #008000\">'content'</span>: <span style=\"color: #008000; text-decoration-color: #008000\">'{\\nuid:\"None\"\\nrole:\"assistant\"\\ncontent:\"This is a Gaming Place\"\\n}\\n'</span><span style=\"font-weight: bold\">}</span>,\n",
       "<span style=\"color: #7fbf7f; text-decoration-color: #7fbf7f\">│   </span><span style=\"font-weight: bold\">{</span><span style=\"color: #008000; text-decoration-color: #008000\">'role'</span>: <span style=\"color: #008000; text-decoration-color: #008000\">'user'</span>, <span style=\"color: #008000; text-decoration-color: #008000\">'content'</span>: <span style=\"color: #008000; text-decoration-color: #008000\">'{\\nuid:\"user-1\"\\nrole:\"user\"\\ncontent:\"Hello dudes\"\\n}\\n'</span><span style=\"font-weight: bold\">}</span>,\n",
       "<span style=\"color: #7fbf7f; text-decoration-color: #7fbf7f\">│   </span><span style=\"font-weight: bold\">{</span><span style=\"color: #008000; text-decoration-color: #008000\">'role'</span>: <span style=\"color: #008000; text-decoration-color: #008000\">'user'</span>, <span style=\"color: #008000; text-decoration-color: #008000\">'content'</span>: <span style=\"color: #008000; text-decoration-color: #008000\">'{\\nuid:\"user-2\"\\nrole:\"user\"\\ncontent:\"hi\"\\n}\\n'</span><span style=\"font-weight: bold\">}</span>,\n",
       "<span style=\"color: #7fbf7f; text-decoration-color: #7fbf7f\">│   </span><span style=\"font-weight: bold\">{</span><span style=\"color: #008000; text-decoration-color: #008000\">'role'</span>: <span style=\"color: #008000; text-decoration-color: #008000\">'user'</span>, <span style=\"color: #008000; text-decoration-color: #008000\">'content'</span>: <span style=\"color: #008000; text-decoration-color: #008000\">'{\\nuid:\"user-3\"\\nrole:\"user\"\\ncontent:\"yo yo\"\\n}\\n'</span><span style=\"font-weight: bold\">}</span>,\n",
       "<span style=\"color: #7fbf7f; text-decoration-color: #7fbf7f\">│   </span><span style=\"font-weight: bold\">{</span><span style=\"color: #008000; text-decoration-color: #008000\">'role'</span>: <span style=\"color: #008000; text-decoration-color: #008000\">'user'</span>, <span style=\"color: #008000; text-decoration-color: #008000\">'content'</span>: <span style=\"color: #008000; text-decoration-color: #008000\">'{\\nuid:\"user-4\"\\nrole:\"user\"\\ncontent:\"nice to see you\"\\n}\\n'</span><span style=\"font-weight: bold\">}</span>,\n",
       "<span style=\"color: #7fbf7f; text-decoration-color: #7fbf7f\">│   </span><span style=\"font-weight: bold\">{</span><span style=\"color: #008000; text-decoration-color: #008000\">'role'</span>: <span style=\"color: #008000; text-decoration-color: #008000\">'user'</span>, <span style=\"color: #008000; text-decoration-color: #008000\">'content'</span>: <span style=\"color: #008000; text-decoration-color: #008000\">'{\\nuid:\"user-5\"\\nrole:\"user\"\\ncontent:\"hoho dude\"\\n}\\n'</span><span style=\"font-weight: bold\">}</span>,\n",
       "<span style=\"color: #7fbf7f; text-decoration-color: #7fbf7f\">│   </span><span style=\"font-weight: bold\">{</span><span style=\"color: #008000; text-decoration-color: #008000\">'role'</span>: <span style=\"color: #008000; text-decoration-color: #008000\">'user'</span>, <span style=\"color: #008000; text-decoration-color: #008000\">'content'</span>: <span style=\"color: #008000; text-decoration-color: #008000\">'{\\nuid:\"user-L\"\\nrole:\"user\"\\ncontent:\"o lalala\"\\n}\\n'</span><span style=\"font-weight: bold\">}</span>,\n",
       "<span style=\"color: #7fbf7f; text-decoration-color: #7fbf7f\">│   </span><span style=\"font-weight: bold\">{</span><span style=\"color: #008000; text-decoration-color: #008000\">'role'</span>: <span style=\"color: #008000; text-decoration-color: #008000\">'user'</span>, <span style=\"color: #008000; text-decoration-color: #008000\">'content'</span>: <span style=\"color: #008000; text-decoration-color: #008000\">'{\\nuid:\"user-XXXXL\"\\nrole:\"user\"\\ncontent:\"guten tag\"\\n}\\n'</span><span style=\"font-weight: bold\">}</span>,\n",
       "<span style=\"color: #7fbf7f; text-decoration-color: #7fbf7f\">│   </span><span style=\"font-weight: bold\">{</span><span style=\"color: #008000; text-decoration-color: #008000\">'role'</span>: <span style=\"color: #008000; text-decoration-color: #008000\">'user'</span>, <span style=\"color: #008000; text-decoration-color: #008000\">'content'</span>: <span style=\"color: #008000; text-decoration-color: #008000\">'{\\nuid:\"user-1\"\\nrole:\"user\"\\ncontent:\"Let\\'s get started, ok?\"\\n}\\n'</span><span style=\"font-weight: bold\">}</span>,\n",
       "<span style=\"color: #7fbf7f; text-decoration-color: #7fbf7f\">│   </span><span style=\"font-weight: bold\">{</span><span style=\"color: #008000; text-decoration-color: #008000\">'role'</span>: <span style=\"color: #008000; text-decoration-color: #008000\">'user'</span>, <span style=\"color: #008000; text-decoration-color: #008000\">'content'</span>: <span style=\"color: #008000; text-decoration-color: #008000\">'{\\nuid:\"user-2\"\\nrole:\"user\"\\ncontent:\"YES\"\\n}\\n'</span><span style=\"font-weight: bold\">}</span>,\n",
       "<span style=\"color: #7fbf7f; text-decoration-color: #7fbf7f\">│   </span><span style=\"font-weight: bold\">{</span><span style=\"color: #008000; text-decoration-color: #008000\">'role'</span>: <span style=\"color: #008000; text-decoration-color: #008000\">'user'</span>, <span style=\"color: #008000; text-decoration-color: #008000\">'content'</span>: <span style=\"color: #008000; text-decoration-color: #008000\">'{\\nuid:\"user-3\"\\nrole:\"user\"\\ncontent:\"YEAH....\"\\n}\\n'</span><span style=\"font-weight: bold\">}</span>,\n",
       "<span style=\"color: #7fbf7f; text-decoration-color: #7fbf7f\">│   </span><span style=\"font-weight: bold\">{</span><span style=\"color: #008000; text-decoration-color: #008000\">'role'</span>: <span style=\"color: #008000; text-decoration-color: #008000\">'user'</span>, <span style=\"color: #008000; text-decoration-color: #008000\">'content'</span>: <span style=\"color: #008000; text-decoration-color: #008000\">'{\\nuid:\"user-4\"\\nrole:\"user\"\\ncontent:\"Cool..\"\\n}\\n'</span><span style=\"font-weight: bold\">}</span>,\n",
       "<span style=\"color: #7fbf7f; text-decoration-color: #7fbf7f\">│   </span><span style=\"font-weight: bold\">{</span><span style=\"color: #008000; text-decoration-color: #008000\">'role'</span>: <span style=\"color: #008000; text-decoration-color: #008000\">'user'</span>, <span style=\"color: #008000; text-decoration-color: #008000\">'content'</span>: <span style=\"color: #008000; text-decoration-color: #008000\">'{\\nuid:\"user-5\"\\nrole:\"user\"\\ncontent:\"yup.\"\\n}\\n'</span><span style=\"font-weight: bold\">}</span>,\n",
       "<span style=\"color: #7fbf7f; text-decoration-color: #7fbf7f\">│   </span><span style=\"font-weight: bold\">{</span><span style=\"color: #008000; text-decoration-color: #008000\">'role'</span>: <span style=\"color: #008000; text-decoration-color: #008000\">'user'</span>, <span style=\"color: #008000; text-decoration-color: #008000\">'content'</span>: <span style=\"color: #008000; text-decoration-color: #008000\">'{\\nuid:\"user-L\"\\nrole:\"user\"\\ncontent:\"Great.....\"\\n}\\n'</span><span style=\"font-weight: bold\">}</span>,\n",
       "<span style=\"color: #7fbf7f; text-decoration-color: #7fbf7f\">│   </span><span style=\"font-weight: bold\">{</span><span style=\"color: #008000; text-decoration-color: #008000\">'role'</span>: <span style=\"color: #008000; text-decoration-color: #008000\">'user'</span>, <span style=\"color: #008000; text-decoration-color: #008000\">'content'</span>: <span style=\"color: #008000; text-decoration-color: #008000\">'{\\nuid:\"user-XL\"\\nrole:\"user\"\\ncontent:\"alles klar\"\\n}\\n'</span><span style=\"font-weight: bold\">}</span>,\n",
       "<span style=\"color: #7fbf7f; text-decoration-color: #7fbf7f\">│   </span><span style=\"font-weight: bold\">{</span><span style=\"color: #008000; text-decoration-color: #008000\">'role'</span>: <span style=\"color: #008000; text-decoration-color: #008000\">'user'</span>, <span style=\"color: #008000; text-decoration-color: #008000\">'content'</span>: <span style=\"color: #008000; text-decoration-color: #008000\">'{\\nuid:\"user-5\"\\nrole:\"user\"\\ncontent:\"I\\'m good and the best.\"\\n}\\n'</span><span style=\"font-weight: bold\">}</span>,\n",
       "<span style=\"color: #7fbf7f; text-decoration-color: #7fbf7f\">│   </span><span style=\"font-weight: bold\">{</span><span style=\"color: #008000; text-decoration-color: #008000\">'role'</span>: <span style=\"color: #008000; text-decoration-color: #008000\">'user'</span>, <span style=\"color: #008000; text-decoration-color: #008000\">'content'</span>: <span style=\"color: #008000; text-decoration-color: #008000\">'{\\nuid:\"user-5\"\\nrole:\"user\"\\ncontent:\"so, I am the final one.\"\\n}\\n'</span><span style=\"font-weight: bold\">}</span>\n",
       "<span style=\"font-weight: bold\">]</span>\n",
       "</pre>\n"
      ],
      "text/plain": [
       "\u001b[1m[\u001b[0m\n",
       "\u001b[2;32m│   \u001b[0m\u001b[1m{\u001b[0m\u001b[32m'role'\u001b[0m: \u001b[32m'assistant'\u001b[0m, \u001b[32m'content'\u001b[0m: \u001b[32m'\u001b[0m\u001b[32m{\u001b[0m\u001b[32m\\nuid:\"None\"\\nrole:\"assistant\"\\ncontent:\"This is a Gaming Place\"\\n\u001b[0m\u001b[32m}\u001b[0m\u001b[32m\\n'\u001b[0m\u001b[1m}\u001b[0m,\n",
       "\u001b[2;32m│   \u001b[0m\u001b[1m{\u001b[0m\u001b[32m'role'\u001b[0m: \u001b[32m'user'\u001b[0m, \u001b[32m'content'\u001b[0m: \u001b[32m'\u001b[0m\u001b[32m{\u001b[0m\u001b[32m\\nuid:\"user-1\"\\nrole:\"user\"\\ncontent:\"Hello dudes\"\\n\u001b[0m\u001b[32m}\u001b[0m\u001b[32m\\n'\u001b[0m\u001b[1m}\u001b[0m,\n",
       "\u001b[2;32m│   \u001b[0m\u001b[1m{\u001b[0m\u001b[32m'role'\u001b[0m: \u001b[32m'user'\u001b[0m, \u001b[32m'content'\u001b[0m: \u001b[32m'\u001b[0m\u001b[32m{\u001b[0m\u001b[32m\\nuid:\"user-2\"\\nrole:\"user\"\\ncontent:\"hi\"\\n\u001b[0m\u001b[32m}\u001b[0m\u001b[32m\\n'\u001b[0m\u001b[1m}\u001b[0m,\n",
       "\u001b[2;32m│   \u001b[0m\u001b[1m{\u001b[0m\u001b[32m'role'\u001b[0m: \u001b[32m'user'\u001b[0m, \u001b[32m'content'\u001b[0m: \u001b[32m'\u001b[0m\u001b[32m{\u001b[0m\u001b[32m\\nuid:\"user-3\"\\nrole:\"user\"\\ncontent:\"yo yo\"\\n\u001b[0m\u001b[32m}\u001b[0m\u001b[32m\\n'\u001b[0m\u001b[1m}\u001b[0m,\n",
       "\u001b[2;32m│   \u001b[0m\u001b[1m{\u001b[0m\u001b[32m'role'\u001b[0m: \u001b[32m'user'\u001b[0m, \u001b[32m'content'\u001b[0m: \u001b[32m'\u001b[0m\u001b[32m{\u001b[0m\u001b[32m\\nuid:\"user-4\"\\nrole:\"user\"\\ncontent:\"nice to see you\"\\n\u001b[0m\u001b[32m}\u001b[0m\u001b[32m\\n'\u001b[0m\u001b[1m}\u001b[0m,\n",
       "\u001b[2;32m│   \u001b[0m\u001b[1m{\u001b[0m\u001b[32m'role'\u001b[0m: \u001b[32m'user'\u001b[0m, \u001b[32m'content'\u001b[0m: \u001b[32m'\u001b[0m\u001b[32m{\u001b[0m\u001b[32m\\nuid:\"user-5\"\\nrole:\"user\"\\ncontent:\"hoho dude\"\\n\u001b[0m\u001b[32m}\u001b[0m\u001b[32m\\n'\u001b[0m\u001b[1m}\u001b[0m,\n",
       "\u001b[2;32m│   \u001b[0m\u001b[1m{\u001b[0m\u001b[32m'role'\u001b[0m: \u001b[32m'user'\u001b[0m, \u001b[32m'content'\u001b[0m: \u001b[32m'\u001b[0m\u001b[32m{\u001b[0m\u001b[32m\\nuid:\"user-L\"\\nrole:\"user\"\\ncontent:\"o lalala\"\\n\u001b[0m\u001b[32m}\u001b[0m\u001b[32m\\n'\u001b[0m\u001b[1m}\u001b[0m,\n",
       "\u001b[2;32m│   \u001b[0m\u001b[1m{\u001b[0m\u001b[32m'role'\u001b[0m: \u001b[32m'user'\u001b[0m, \u001b[32m'content'\u001b[0m: \u001b[32m'\u001b[0m\u001b[32m{\u001b[0m\u001b[32m\\nuid:\"user-XXXXL\"\\nrole:\"user\"\\ncontent:\"guten tag\"\\n\u001b[0m\u001b[32m}\u001b[0m\u001b[32m\\n'\u001b[0m\u001b[1m}\u001b[0m,\n",
       "\u001b[2;32m│   \u001b[0m\u001b[1m{\u001b[0m\u001b[32m'role'\u001b[0m: \u001b[32m'user'\u001b[0m, \u001b[32m'content'\u001b[0m: \u001b[32m'\u001b[0m\u001b[32m{\u001b[0m\u001b[32m\\nuid:\"user-1\"\\nrole:\"user\"\\ncontent:\"Let\\'s get started, ok?\"\\n\u001b[0m\u001b[32m}\u001b[0m\u001b[32m\\n'\u001b[0m\u001b[1m}\u001b[0m,\n",
       "\u001b[2;32m│   \u001b[0m\u001b[1m{\u001b[0m\u001b[32m'role'\u001b[0m: \u001b[32m'user'\u001b[0m, \u001b[32m'content'\u001b[0m: \u001b[32m'\u001b[0m\u001b[32m{\u001b[0m\u001b[32m\\nuid:\"user-2\"\\nrole:\"user\"\\ncontent:\"YES\"\\n\u001b[0m\u001b[32m}\u001b[0m\u001b[32m\\n'\u001b[0m\u001b[1m}\u001b[0m,\n",
       "\u001b[2;32m│   \u001b[0m\u001b[1m{\u001b[0m\u001b[32m'role'\u001b[0m: \u001b[32m'user'\u001b[0m, \u001b[32m'content'\u001b[0m: \u001b[32m'\u001b[0m\u001b[32m{\u001b[0m\u001b[32m\\nuid:\"user-3\"\\nrole:\"user\"\\ncontent:\"YEAH....\"\\n\u001b[0m\u001b[32m}\u001b[0m\u001b[32m\\n'\u001b[0m\u001b[1m}\u001b[0m,\n",
       "\u001b[2;32m│   \u001b[0m\u001b[1m{\u001b[0m\u001b[32m'role'\u001b[0m: \u001b[32m'user'\u001b[0m, \u001b[32m'content'\u001b[0m: \u001b[32m'\u001b[0m\u001b[32m{\u001b[0m\u001b[32m\\nuid:\"user-4\"\\nrole:\"user\"\\ncontent:\"Cool..\"\\n\u001b[0m\u001b[32m}\u001b[0m\u001b[32m\\n'\u001b[0m\u001b[1m}\u001b[0m,\n",
       "\u001b[2;32m│   \u001b[0m\u001b[1m{\u001b[0m\u001b[32m'role'\u001b[0m: \u001b[32m'user'\u001b[0m, \u001b[32m'content'\u001b[0m: \u001b[32m'\u001b[0m\u001b[32m{\u001b[0m\u001b[32m\\nuid:\"user-5\"\\nrole:\"user\"\\ncontent:\"yup.\"\\n\u001b[0m\u001b[32m}\u001b[0m\u001b[32m\\n'\u001b[0m\u001b[1m}\u001b[0m,\n",
       "\u001b[2;32m│   \u001b[0m\u001b[1m{\u001b[0m\u001b[32m'role'\u001b[0m: \u001b[32m'user'\u001b[0m, \u001b[32m'content'\u001b[0m: \u001b[32m'\u001b[0m\u001b[32m{\u001b[0m\u001b[32m\\nuid:\"user-L\"\\nrole:\"user\"\\ncontent:\"Great.....\"\\n\u001b[0m\u001b[32m}\u001b[0m\u001b[32m\\n'\u001b[0m\u001b[1m}\u001b[0m,\n",
       "\u001b[2;32m│   \u001b[0m\u001b[1m{\u001b[0m\u001b[32m'role'\u001b[0m: \u001b[32m'user'\u001b[0m, \u001b[32m'content'\u001b[0m: \u001b[32m'\u001b[0m\u001b[32m{\u001b[0m\u001b[32m\\nuid:\"user-XL\"\\nrole:\"user\"\\ncontent:\"alles klar\"\\n\u001b[0m\u001b[32m}\u001b[0m\u001b[32m\\n'\u001b[0m\u001b[1m}\u001b[0m,\n",
       "\u001b[2;32m│   \u001b[0m\u001b[1m{\u001b[0m\u001b[32m'role'\u001b[0m: \u001b[32m'user'\u001b[0m, \u001b[32m'content'\u001b[0m: \u001b[32m'\u001b[0m\u001b[32m{\u001b[0m\u001b[32m\\nuid:\"user-5\"\\nrole:\"user\"\\ncontent:\"I\\'m good and the best.\"\\n\u001b[0m\u001b[32m}\u001b[0m\u001b[32m\\n'\u001b[0m\u001b[1m}\u001b[0m,\n",
       "\u001b[2;32m│   \u001b[0m\u001b[1m{\u001b[0m\u001b[32m'role'\u001b[0m: \u001b[32m'user'\u001b[0m, \u001b[32m'content'\u001b[0m: \u001b[32m'\u001b[0m\u001b[32m{\u001b[0m\u001b[32m\\nuid:\"user-5\"\\nrole:\"user\"\\ncontent:\"so, I am the final one.\"\\n\u001b[0m\u001b[32m}\u001b[0m\u001b[32m\\n'\u001b[0m\u001b[1m}\u001b[0m\n",
       "\u001b[1m]\u001b[0m\n"
      ]
     },
     "metadata": {},
     "output_type": "display_data"
    },
    {
     "name": "stdout",
     "output_type": "stream",
     "text": [
      "msg_history\n"
     ]
    },
    {
     "data": {
      "text/html": [
       "<pre style=\"white-space:pre;overflow-x:auto;line-height:normal;font-family:Menlo,'DejaVu Sans Mono',consolas,'Courier New',monospace\"><span style=\"color: #800080; text-decoration-color: #800080; font-weight: bold\">ChatMessageHistory</span><span style=\"font-weight: bold\">(</span>\n",
       "<span style=\"color: #7fbf7f; text-decoration-color: #7fbf7f\">│   </span><span style=\"color: #808000; text-decoration-color: #808000\">messages</span>=<span style=\"font-weight: bold\">[</span>\n",
       "<span style=\"color: #7fbf7f; text-decoration-color: #7fbf7f\">│   │   </span><span style=\"color: #800080; text-decoration-color: #800080; font-weight: bold\">AIMessage</span><span style=\"font-weight: bold\">(</span><span style=\"color: #808000; text-decoration-color: #808000\">content</span>=<span style=\"color: #008000; text-decoration-color: #008000\">'{\\nuid:\"None\"\\nrole:\"assistant\"\\ncontent:\"This is a Gaming Place\"\\n}\\n'</span><span style=\"font-weight: bold\">)</span>,\n",
       "<span style=\"color: #7fbf7f; text-decoration-color: #7fbf7f\">│   │   </span><span style=\"color: #800080; text-decoration-color: #800080; font-weight: bold\">HumanMessage</span><span style=\"font-weight: bold\">(</span><span style=\"color: #808000; text-decoration-color: #808000\">content</span>=<span style=\"color: #008000; text-decoration-color: #008000\">'{\\nuid:\"user-1\"\\nrole:\"user\"\\ncontent:\"Hello dudes\"\\n}\\n'</span><span style=\"font-weight: bold\">)</span>,\n",
       "<span style=\"color: #7fbf7f; text-decoration-color: #7fbf7f\">│   │   </span><span style=\"color: #800080; text-decoration-color: #800080; font-weight: bold\">HumanMessage</span><span style=\"font-weight: bold\">(</span><span style=\"color: #808000; text-decoration-color: #808000\">content</span>=<span style=\"color: #008000; text-decoration-color: #008000\">'{\\nuid:\"user-2\"\\nrole:\"user\"\\ncontent:\"hi\"\\n}\\n'</span><span style=\"font-weight: bold\">)</span>,\n",
       "<span style=\"color: #7fbf7f; text-decoration-color: #7fbf7f\">│   │   </span><span style=\"color: #800080; text-decoration-color: #800080; font-weight: bold\">HumanMessage</span><span style=\"font-weight: bold\">(</span><span style=\"color: #808000; text-decoration-color: #808000\">content</span>=<span style=\"color: #008000; text-decoration-color: #008000\">'{\\nuid:\"user-3\"\\nrole:\"user\"\\ncontent:\"yo yo\"\\n}\\n'</span><span style=\"font-weight: bold\">)</span>,\n",
       "<span style=\"color: #7fbf7f; text-decoration-color: #7fbf7f\">│   │   </span><span style=\"color: #800080; text-decoration-color: #800080; font-weight: bold\">HumanMessage</span><span style=\"font-weight: bold\">(</span><span style=\"color: #808000; text-decoration-color: #808000\">content</span>=<span style=\"color: #008000; text-decoration-color: #008000\">'{\\nuid:\"user-4\"\\nrole:\"user\"\\ncontent:\"nice to see you\"\\n}\\n'</span><span style=\"font-weight: bold\">)</span>,\n",
       "<span style=\"color: #7fbf7f; text-decoration-color: #7fbf7f\">│   │   </span><span style=\"color: #800080; text-decoration-color: #800080; font-weight: bold\">HumanMessage</span><span style=\"font-weight: bold\">(</span><span style=\"color: #808000; text-decoration-color: #808000\">content</span>=<span style=\"color: #008000; text-decoration-color: #008000\">'{\\nuid:\"user-5\"\\nrole:\"user\"\\ncontent:\"hoho dude\"\\n}\\n'</span><span style=\"font-weight: bold\">)</span>,\n",
       "<span style=\"color: #7fbf7f; text-decoration-color: #7fbf7f\">│   │   </span><span style=\"color: #800080; text-decoration-color: #800080; font-weight: bold\">HumanMessage</span><span style=\"font-weight: bold\">(</span><span style=\"color: #808000; text-decoration-color: #808000\">content</span>=<span style=\"color: #008000; text-decoration-color: #008000\">'{\\nuid:\"user-L\"\\nrole:\"user\"\\ncontent:\"o lalala\"\\n}\\n'</span><span style=\"font-weight: bold\">)</span>,\n",
       "<span style=\"color: #7fbf7f; text-decoration-color: #7fbf7f\">│   │   </span><span style=\"color: #800080; text-decoration-color: #800080; font-weight: bold\">HumanMessage</span><span style=\"font-weight: bold\">(</span><span style=\"color: #808000; text-decoration-color: #808000\">content</span>=<span style=\"color: #008000; text-decoration-color: #008000\">'{\\nuid:\"user-XXXXL\"\\nrole:\"user\"\\ncontent:\"guten tag\"\\n}\\n'</span><span style=\"font-weight: bold\">)</span>,\n",
       "<span style=\"color: #7fbf7f; text-decoration-color: #7fbf7f\">│   │   </span><span style=\"color: #800080; text-decoration-color: #800080; font-weight: bold\">HumanMessage</span><span style=\"font-weight: bold\">(</span><span style=\"color: #808000; text-decoration-color: #808000\">content</span>=<span style=\"color: #008000; text-decoration-color: #008000\">'{\\nuid:\"user-1\"\\nrole:\"user\"\\ncontent:\"Let\\'s get started, ok?\"\\n}\\n'</span><span style=\"font-weight: bold\">)</span>,\n",
       "<span style=\"color: #7fbf7f; text-decoration-color: #7fbf7f\">│   │   </span><span style=\"color: #800080; text-decoration-color: #800080; font-weight: bold\">HumanMessage</span><span style=\"font-weight: bold\">(</span><span style=\"color: #808000; text-decoration-color: #808000\">content</span>=<span style=\"color: #008000; text-decoration-color: #008000\">'{\\nuid:\"user-2\"\\nrole:\"user\"\\ncontent:\"YES\"\\n}\\n'</span><span style=\"font-weight: bold\">)</span>,\n",
       "<span style=\"color: #7fbf7f; text-decoration-color: #7fbf7f\">│   │   </span><span style=\"color: #800080; text-decoration-color: #800080; font-weight: bold\">HumanMessage</span><span style=\"font-weight: bold\">(</span><span style=\"color: #808000; text-decoration-color: #808000\">content</span>=<span style=\"color: #008000; text-decoration-color: #008000\">'{\\nuid:\"user-3\"\\nrole:\"user\"\\ncontent:\"YEAH....\"\\n}\\n'</span><span style=\"font-weight: bold\">)</span>,\n",
       "<span style=\"color: #7fbf7f; text-decoration-color: #7fbf7f\">│   │   </span><span style=\"color: #800080; text-decoration-color: #800080; font-weight: bold\">HumanMessage</span><span style=\"font-weight: bold\">(</span><span style=\"color: #808000; text-decoration-color: #808000\">content</span>=<span style=\"color: #008000; text-decoration-color: #008000\">'{\\nuid:\"user-4\"\\nrole:\"user\"\\ncontent:\"Cool..\"\\n}\\n'</span><span style=\"font-weight: bold\">)</span>,\n",
       "<span style=\"color: #7fbf7f; text-decoration-color: #7fbf7f\">│   │   </span><span style=\"color: #800080; text-decoration-color: #800080; font-weight: bold\">HumanMessage</span><span style=\"font-weight: bold\">(</span><span style=\"color: #808000; text-decoration-color: #808000\">content</span>=<span style=\"color: #008000; text-decoration-color: #008000\">'{\\nuid:\"user-5\"\\nrole:\"user\"\\ncontent:\"yup.\"\\n}\\n'</span><span style=\"font-weight: bold\">)</span>,\n",
       "<span style=\"color: #7fbf7f; text-decoration-color: #7fbf7f\">│   │   </span><span style=\"color: #800080; text-decoration-color: #800080; font-weight: bold\">HumanMessage</span><span style=\"font-weight: bold\">(</span><span style=\"color: #808000; text-decoration-color: #808000\">content</span>=<span style=\"color: #008000; text-decoration-color: #008000\">'{\\nuid:\"user-L\"\\nrole:\"user\"\\ncontent:\"Great.....\"\\n}\\n'</span><span style=\"font-weight: bold\">)</span>,\n",
       "<span style=\"color: #7fbf7f; text-decoration-color: #7fbf7f\">│   │   </span><span style=\"color: #800080; text-decoration-color: #800080; font-weight: bold\">HumanMessage</span><span style=\"font-weight: bold\">(</span><span style=\"color: #808000; text-decoration-color: #808000\">content</span>=<span style=\"color: #008000; text-decoration-color: #008000\">'{\\nuid:\"user-XL\"\\nrole:\"user\"\\ncontent:\"alles klar\"\\n}\\n'</span><span style=\"font-weight: bold\">)</span>,\n",
       "<span style=\"color: #7fbf7f; text-decoration-color: #7fbf7f\">│   │   </span><span style=\"color: #800080; text-decoration-color: #800080; font-weight: bold\">HumanMessage</span><span style=\"font-weight: bold\">(</span><span style=\"color: #808000; text-decoration-color: #808000\">content</span>=<span style=\"color: #008000; text-decoration-color: #008000\">'{\\nuid:\"user-5\"\\nrole:\"user\"\\ncontent:\"I\\'m good and the best.\"\\n}\\n'</span><span style=\"font-weight: bold\">)</span>,\n",
       "<span style=\"color: #7fbf7f; text-decoration-color: #7fbf7f\">│   │   </span><span style=\"color: #800080; text-decoration-color: #800080; font-weight: bold\">HumanMessage</span><span style=\"font-weight: bold\">(</span><span style=\"color: #808000; text-decoration-color: #808000\">content</span>=<span style=\"color: #008000; text-decoration-color: #008000\">'{\\nuid:\"user-5\"\\nrole:\"user\"\\ncontent:\"so, I am the final one.\"\\n}\\n'</span><span style=\"font-weight: bold\">)</span>\n",
       "<span style=\"color: #7fbf7f; text-decoration-color: #7fbf7f\">│   </span><span style=\"font-weight: bold\">]</span>\n",
       "<span style=\"font-weight: bold\">)</span>\n",
       "</pre>\n"
      ],
      "text/plain": [
       "\u001b[1;35mChatMessageHistory\u001b[0m\u001b[1m(\u001b[0m\n",
       "\u001b[2;32m│   \u001b[0m\u001b[33mmessages\u001b[0m=\u001b[1m[\u001b[0m\n",
       "\u001b[2;32m│   │   \u001b[0m\u001b[1;35mAIMessage\u001b[0m\u001b[1m(\u001b[0m\u001b[33mcontent\u001b[0m=\u001b[32m'\u001b[0m\u001b[32m{\u001b[0m\u001b[32m\\nuid:\"None\"\\nrole:\"assistant\"\\ncontent:\"This is a Gaming Place\"\\n\u001b[0m\u001b[32m}\u001b[0m\u001b[32m\\n'\u001b[0m\u001b[1m)\u001b[0m,\n",
       "\u001b[2;32m│   │   \u001b[0m\u001b[1;35mHumanMessage\u001b[0m\u001b[1m(\u001b[0m\u001b[33mcontent\u001b[0m=\u001b[32m'\u001b[0m\u001b[32m{\u001b[0m\u001b[32m\\nuid:\"user-1\"\\nrole:\"user\"\\ncontent:\"Hello dudes\"\\n\u001b[0m\u001b[32m}\u001b[0m\u001b[32m\\n'\u001b[0m\u001b[1m)\u001b[0m,\n",
       "\u001b[2;32m│   │   \u001b[0m\u001b[1;35mHumanMessage\u001b[0m\u001b[1m(\u001b[0m\u001b[33mcontent\u001b[0m=\u001b[32m'\u001b[0m\u001b[32m{\u001b[0m\u001b[32m\\nuid:\"user-2\"\\nrole:\"user\"\\ncontent:\"hi\"\\n\u001b[0m\u001b[32m}\u001b[0m\u001b[32m\\n'\u001b[0m\u001b[1m)\u001b[0m,\n",
       "\u001b[2;32m│   │   \u001b[0m\u001b[1;35mHumanMessage\u001b[0m\u001b[1m(\u001b[0m\u001b[33mcontent\u001b[0m=\u001b[32m'\u001b[0m\u001b[32m{\u001b[0m\u001b[32m\\nuid:\"user-3\"\\nrole:\"user\"\\ncontent:\"yo yo\"\\n\u001b[0m\u001b[32m}\u001b[0m\u001b[32m\\n'\u001b[0m\u001b[1m)\u001b[0m,\n",
       "\u001b[2;32m│   │   \u001b[0m\u001b[1;35mHumanMessage\u001b[0m\u001b[1m(\u001b[0m\u001b[33mcontent\u001b[0m=\u001b[32m'\u001b[0m\u001b[32m{\u001b[0m\u001b[32m\\nuid:\"user-4\"\\nrole:\"user\"\\ncontent:\"nice to see you\"\\n\u001b[0m\u001b[32m}\u001b[0m\u001b[32m\\n'\u001b[0m\u001b[1m)\u001b[0m,\n",
       "\u001b[2;32m│   │   \u001b[0m\u001b[1;35mHumanMessage\u001b[0m\u001b[1m(\u001b[0m\u001b[33mcontent\u001b[0m=\u001b[32m'\u001b[0m\u001b[32m{\u001b[0m\u001b[32m\\nuid:\"user-5\"\\nrole:\"user\"\\ncontent:\"hoho dude\"\\n\u001b[0m\u001b[32m}\u001b[0m\u001b[32m\\n'\u001b[0m\u001b[1m)\u001b[0m,\n",
       "\u001b[2;32m│   │   \u001b[0m\u001b[1;35mHumanMessage\u001b[0m\u001b[1m(\u001b[0m\u001b[33mcontent\u001b[0m=\u001b[32m'\u001b[0m\u001b[32m{\u001b[0m\u001b[32m\\nuid:\"user-L\"\\nrole:\"user\"\\ncontent:\"o lalala\"\\n\u001b[0m\u001b[32m}\u001b[0m\u001b[32m\\n'\u001b[0m\u001b[1m)\u001b[0m,\n",
       "\u001b[2;32m│   │   \u001b[0m\u001b[1;35mHumanMessage\u001b[0m\u001b[1m(\u001b[0m\u001b[33mcontent\u001b[0m=\u001b[32m'\u001b[0m\u001b[32m{\u001b[0m\u001b[32m\\nuid:\"user-XXXXL\"\\nrole:\"user\"\\ncontent:\"guten tag\"\\n\u001b[0m\u001b[32m}\u001b[0m\u001b[32m\\n'\u001b[0m\u001b[1m)\u001b[0m,\n",
       "\u001b[2;32m│   │   \u001b[0m\u001b[1;35mHumanMessage\u001b[0m\u001b[1m(\u001b[0m\u001b[33mcontent\u001b[0m=\u001b[32m'\u001b[0m\u001b[32m{\u001b[0m\u001b[32m\\nuid:\"user-1\"\\nrole:\"user\"\\ncontent:\"Let\\'s get started, ok?\"\\n\u001b[0m\u001b[32m}\u001b[0m\u001b[32m\\n'\u001b[0m\u001b[1m)\u001b[0m,\n",
       "\u001b[2;32m│   │   \u001b[0m\u001b[1;35mHumanMessage\u001b[0m\u001b[1m(\u001b[0m\u001b[33mcontent\u001b[0m=\u001b[32m'\u001b[0m\u001b[32m{\u001b[0m\u001b[32m\\nuid:\"user-2\"\\nrole:\"user\"\\ncontent:\"YES\"\\n\u001b[0m\u001b[32m}\u001b[0m\u001b[32m\\n'\u001b[0m\u001b[1m)\u001b[0m,\n",
       "\u001b[2;32m│   │   \u001b[0m\u001b[1;35mHumanMessage\u001b[0m\u001b[1m(\u001b[0m\u001b[33mcontent\u001b[0m=\u001b[32m'\u001b[0m\u001b[32m{\u001b[0m\u001b[32m\\nuid:\"user-3\"\\nrole:\"user\"\\ncontent:\"YEAH....\"\\n\u001b[0m\u001b[32m}\u001b[0m\u001b[32m\\n'\u001b[0m\u001b[1m)\u001b[0m,\n",
       "\u001b[2;32m│   │   \u001b[0m\u001b[1;35mHumanMessage\u001b[0m\u001b[1m(\u001b[0m\u001b[33mcontent\u001b[0m=\u001b[32m'\u001b[0m\u001b[32m{\u001b[0m\u001b[32m\\nuid:\"user-4\"\\nrole:\"user\"\\ncontent:\"Cool..\"\\n\u001b[0m\u001b[32m}\u001b[0m\u001b[32m\\n'\u001b[0m\u001b[1m)\u001b[0m,\n",
       "\u001b[2;32m│   │   \u001b[0m\u001b[1;35mHumanMessage\u001b[0m\u001b[1m(\u001b[0m\u001b[33mcontent\u001b[0m=\u001b[32m'\u001b[0m\u001b[32m{\u001b[0m\u001b[32m\\nuid:\"user-5\"\\nrole:\"user\"\\ncontent:\"yup.\"\\n\u001b[0m\u001b[32m}\u001b[0m\u001b[32m\\n'\u001b[0m\u001b[1m)\u001b[0m,\n",
       "\u001b[2;32m│   │   \u001b[0m\u001b[1;35mHumanMessage\u001b[0m\u001b[1m(\u001b[0m\u001b[33mcontent\u001b[0m=\u001b[32m'\u001b[0m\u001b[32m{\u001b[0m\u001b[32m\\nuid:\"user-L\"\\nrole:\"user\"\\ncontent:\"Great.....\"\\n\u001b[0m\u001b[32m}\u001b[0m\u001b[32m\\n'\u001b[0m\u001b[1m)\u001b[0m,\n",
       "\u001b[2;32m│   │   \u001b[0m\u001b[1;35mHumanMessage\u001b[0m\u001b[1m(\u001b[0m\u001b[33mcontent\u001b[0m=\u001b[32m'\u001b[0m\u001b[32m{\u001b[0m\u001b[32m\\nuid:\"user-XL\"\\nrole:\"user\"\\ncontent:\"alles klar\"\\n\u001b[0m\u001b[32m}\u001b[0m\u001b[32m\\n'\u001b[0m\u001b[1m)\u001b[0m,\n",
       "\u001b[2;32m│   │   \u001b[0m\u001b[1;35mHumanMessage\u001b[0m\u001b[1m(\u001b[0m\u001b[33mcontent\u001b[0m=\u001b[32m'\u001b[0m\u001b[32m{\u001b[0m\u001b[32m\\nuid:\"user-5\"\\nrole:\"user\"\\ncontent:\"I\\'m good and the best.\"\\n\u001b[0m\u001b[32m}\u001b[0m\u001b[32m\\n'\u001b[0m\u001b[1m)\u001b[0m,\n",
       "\u001b[2;32m│   │   \u001b[0m\u001b[1;35mHumanMessage\u001b[0m\u001b[1m(\u001b[0m\u001b[33mcontent\u001b[0m=\u001b[32m'\u001b[0m\u001b[32m{\u001b[0m\u001b[32m\\nuid:\"user-5\"\\nrole:\"user\"\\ncontent:\"so, I am the final one.\"\\n\u001b[0m\u001b[32m}\u001b[0m\u001b[32m\\n'\u001b[0m\u001b[1m)\u001b[0m\n",
       "\u001b[2;32m│   \u001b[0m\u001b[1m]\u001b[0m\n",
       "\u001b[1m)\u001b[0m\n"
      ]
     },
     "metadata": {},
     "output_type": "display_data"
    },
    {
     "name": "stdout",
     "output_type": "stream",
     "text": [
      "Result\n"
     ]
    },
    {
     "data": {
      "text/html": [
       "<pre style=\"white-space:pre;overflow-x:auto;line-height:normal;font-family:Menlo,'DejaVu Sans Mono',consolas,'Courier New',monospace\"><span style=\"color: #800080; text-decoration-color: #800080; font-weight: bold\">AIMessage</span><span style=\"font-weight: bold\">(</span><span style=\"color: #808000; text-decoration-color: #808000\">content</span>=<span style=\"color: #008000; text-decoration-color: #008000\">'[\"user-1\", \"user-2\", \"user-3\", \"user-4\", \"user-5\", \"user-L\", \"user-XXXXL\", \"user-XL\"]'</span><span style=\"font-weight: bold\">)</span>\n",
       "</pre>\n"
      ],
      "text/plain": [
       "\u001b[1;35mAIMessage\u001b[0m\u001b[1m(\u001b[0m\u001b[33mcontent\u001b[0m=\u001b[32m'\u001b[0m\u001b[32m[\u001b[0m\u001b[32m\"user-1\", \"user-2\", \"user-3\", \"user-4\", \"user-5\", \"user-L\", \"user-XXXXL\", \"user-XL\"\u001b[0m\u001b[32m]\u001b[0m\u001b[32m'\u001b[0m\u001b[1m)\u001b[0m\n"
      ]
     },
     "metadata": {},
     "output_type": "display_data"
    },
    {
     "name": "stdout",
     "output_type": "stream",
     "text": [
      "msg_history\n"
     ]
    },
    {
     "data": {
      "text/html": [
       "<pre style=\"white-space:pre;overflow-x:auto;line-height:normal;font-family:Menlo,'DejaVu Sans Mono',consolas,'Courier New',monospace\"><span style=\"color: #800080; text-decoration-color: #800080; font-weight: bold\">ChatMessageHistory</span><span style=\"font-weight: bold\">(</span>\n",
       "<span style=\"color: #7fbf7f; text-decoration-color: #7fbf7f\">│   </span><span style=\"color: #808000; text-decoration-color: #808000\">messages</span>=<span style=\"font-weight: bold\">[</span>\n",
       "<span style=\"color: #7fbf7f; text-decoration-color: #7fbf7f\">│   │   </span><span style=\"color: #800080; text-decoration-color: #800080; font-weight: bold\">AIMessage</span><span style=\"font-weight: bold\">(</span><span style=\"color: #808000; text-decoration-color: #808000\">content</span>=<span style=\"color: #008000; text-decoration-color: #008000\">'{\\nuid:\"None\"\\nrole:\"assistant\"\\ncontent:\"This is a Gaming Place\"\\n}\\n'</span><span style=\"font-weight: bold\">)</span>,\n",
       "<span style=\"color: #7fbf7f; text-decoration-color: #7fbf7f\">│   │   </span><span style=\"color: #800080; text-decoration-color: #800080; font-weight: bold\">HumanMessage</span><span style=\"font-weight: bold\">(</span><span style=\"color: #808000; text-decoration-color: #808000\">content</span>=<span style=\"color: #008000; text-decoration-color: #008000\">'{\\nuid:\"user-1\"\\nrole:\"user\"\\ncontent:\"Hello dudes\"\\n}\\n'</span><span style=\"font-weight: bold\">)</span>,\n",
       "<span style=\"color: #7fbf7f; text-decoration-color: #7fbf7f\">│   │   </span><span style=\"color: #800080; text-decoration-color: #800080; font-weight: bold\">HumanMessage</span><span style=\"font-weight: bold\">(</span><span style=\"color: #808000; text-decoration-color: #808000\">content</span>=<span style=\"color: #008000; text-decoration-color: #008000\">'{\\nuid:\"user-2\"\\nrole:\"user\"\\ncontent:\"hi\"\\n}\\n'</span><span style=\"font-weight: bold\">)</span>,\n",
       "<span style=\"color: #7fbf7f; text-decoration-color: #7fbf7f\">│   │   </span><span style=\"color: #800080; text-decoration-color: #800080; font-weight: bold\">HumanMessage</span><span style=\"font-weight: bold\">(</span><span style=\"color: #808000; text-decoration-color: #808000\">content</span>=<span style=\"color: #008000; text-decoration-color: #008000\">'{\\nuid:\"user-3\"\\nrole:\"user\"\\ncontent:\"yo yo\"\\n}\\n'</span><span style=\"font-weight: bold\">)</span>,\n",
       "<span style=\"color: #7fbf7f; text-decoration-color: #7fbf7f\">│   │   </span><span style=\"color: #800080; text-decoration-color: #800080; font-weight: bold\">HumanMessage</span><span style=\"font-weight: bold\">(</span><span style=\"color: #808000; text-decoration-color: #808000\">content</span>=<span style=\"color: #008000; text-decoration-color: #008000\">'{\\nuid:\"user-4\"\\nrole:\"user\"\\ncontent:\"nice to see you\"\\n}\\n'</span><span style=\"font-weight: bold\">)</span>,\n",
       "<span style=\"color: #7fbf7f; text-decoration-color: #7fbf7f\">│   │   </span><span style=\"color: #800080; text-decoration-color: #800080; font-weight: bold\">HumanMessage</span><span style=\"font-weight: bold\">(</span><span style=\"color: #808000; text-decoration-color: #808000\">content</span>=<span style=\"color: #008000; text-decoration-color: #008000\">'{\\nuid:\"user-5\"\\nrole:\"user\"\\ncontent:\"hoho dude\"\\n}\\n'</span><span style=\"font-weight: bold\">)</span>,\n",
       "<span style=\"color: #7fbf7f; text-decoration-color: #7fbf7f\">│   │   </span><span style=\"color: #800080; text-decoration-color: #800080; font-weight: bold\">HumanMessage</span><span style=\"font-weight: bold\">(</span><span style=\"color: #808000; text-decoration-color: #808000\">content</span>=<span style=\"color: #008000; text-decoration-color: #008000\">'{\\nuid:\"user-L\"\\nrole:\"user\"\\ncontent:\"o lalala\"\\n}\\n'</span><span style=\"font-weight: bold\">)</span>,\n",
       "<span style=\"color: #7fbf7f; text-decoration-color: #7fbf7f\">│   │   </span><span style=\"color: #800080; text-decoration-color: #800080; font-weight: bold\">HumanMessage</span><span style=\"font-weight: bold\">(</span><span style=\"color: #808000; text-decoration-color: #808000\">content</span>=<span style=\"color: #008000; text-decoration-color: #008000\">'{\\nuid:\"user-XXXXL\"\\nrole:\"user\"\\ncontent:\"guten tag\"\\n}\\n'</span><span style=\"font-weight: bold\">)</span>,\n",
       "<span style=\"color: #7fbf7f; text-decoration-color: #7fbf7f\">│   │   </span><span style=\"color: #800080; text-decoration-color: #800080; font-weight: bold\">HumanMessage</span><span style=\"font-weight: bold\">(</span><span style=\"color: #808000; text-decoration-color: #808000\">content</span>=<span style=\"color: #008000; text-decoration-color: #008000\">'{\\nuid:\"user-1\"\\nrole:\"user\"\\ncontent:\"Let\\'s get started, ok?\"\\n}\\n'</span><span style=\"font-weight: bold\">)</span>,\n",
       "<span style=\"color: #7fbf7f; text-decoration-color: #7fbf7f\">│   │   </span><span style=\"color: #800080; text-decoration-color: #800080; font-weight: bold\">HumanMessage</span><span style=\"font-weight: bold\">(</span><span style=\"color: #808000; text-decoration-color: #808000\">content</span>=<span style=\"color: #008000; text-decoration-color: #008000\">'{\\nuid:\"user-2\"\\nrole:\"user\"\\ncontent:\"YES\"\\n}\\n'</span><span style=\"font-weight: bold\">)</span>,\n",
       "<span style=\"color: #7fbf7f; text-decoration-color: #7fbf7f\">│   │   </span><span style=\"color: #800080; text-decoration-color: #800080; font-weight: bold\">HumanMessage</span><span style=\"font-weight: bold\">(</span><span style=\"color: #808000; text-decoration-color: #808000\">content</span>=<span style=\"color: #008000; text-decoration-color: #008000\">'{\\nuid:\"user-3\"\\nrole:\"user\"\\ncontent:\"YEAH....\"\\n}\\n'</span><span style=\"font-weight: bold\">)</span>,\n",
       "<span style=\"color: #7fbf7f; text-decoration-color: #7fbf7f\">│   │   </span><span style=\"color: #800080; text-decoration-color: #800080; font-weight: bold\">HumanMessage</span><span style=\"font-weight: bold\">(</span><span style=\"color: #808000; text-decoration-color: #808000\">content</span>=<span style=\"color: #008000; text-decoration-color: #008000\">'{\\nuid:\"user-4\"\\nrole:\"user\"\\ncontent:\"Cool..\"\\n}\\n'</span><span style=\"font-weight: bold\">)</span>,\n",
       "<span style=\"color: #7fbf7f; text-decoration-color: #7fbf7f\">│   │   </span><span style=\"color: #800080; text-decoration-color: #800080; font-weight: bold\">HumanMessage</span><span style=\"font-weight: bold\">(</span><span style=\"color: #808000; text-decoration-color: #808000\">content</span>=<span style=\"color: #008000; text-decoration-color: #008000\">'{\\nuid:\"user-5\"\\nrole:\"user\"\\ncontent:\"yup.\"\\n}\\n'</span><span style=\"font-weight: bold\">)</span>,\n",
       "<span style=\"color: #7fbf7f; text-decoration-color: #7fbf7f\">│   │   </span><span style=\"color: #800080; text-decoration-color: #800080; font-weight: bold\">HumanMessage</span><span style=\"font-weight: bold\">(</span><span style=\"color: #808000; text-decoration-color: #808000\">content</span>=<span style=\"color: #008000; text-decoration-color: #008000\">'{\\nuid:\"user-L\"\\nrole:\"user\"\\ncontent:\"Great.....\"\\n}\\n'</span><span style=\"font-weight: bold\">)</span>,\n",
       "<span style=\"color: #7fbf7f; text-decoration-color: #7fbf7f\">│   │   </span><span style=\"color: #800080; text-decoration-color: #800080; font-weight: bold\">HumanMessage</span><span style=\"font-weight: bold\">(</span><span style=\"color: #808000; text-decoration-color: #808000\">content</span>=<span style=\"color: #008000; text-decoration-color: #008000\">'{\\nuid:\"user-XL\"\\nrole:\"user\"\\ncontent:\"alles klar\"\\n}\\n'</span><span style=\"font-weight: bold\">)</span>,\n",
       "<span style=\"color: #7fbf7f; text-decoration-color: #7fbf7f\">│   │   </span><span style=\"color: #800080; text-decoration-color: #800080; font-weight: bold\">HumanMessage</span><span style=\"font-weight: bold\">(</span><span style=\"color: #808000; text-decoration-color: #808000\">content</span>=<span style=\"color: #008000; text-decoration-color: #008000\">'{\\nuid:\"user-5\"\\nrole:\"user\"\\ncontent:\"I\\'m good and the best.\"\\n}\\n'</span><span style=\"font-weight: bold\">)</span>,\n",
       "<span style=\"color: #7fbf7f; text-decoration-color: #7fbf7f\">│   │   </span><span style=\"color: #800080; text-decoration-color: #800080; font-weight: bold\">HumanMessage</span><span style=\"font-weight: bold\">(</span><span style=\"color: #808000; text-decoration-color: #808000\">content</span>=<span style=\"color: #008000; text-decoration-color: #008000\">'{\\nuid:\"user-5\"\\nrole:\"user\"\\ncontent:\"so, I am the final one.\"\\n}\\n'</span><span style=\"font-weight: bold\">)</span>,\n",
       "<span style=\"color: #7fbf7f; text-decoration-color: #7fbf7f\">│   │   </span><span style=\"color: #800080; text-decoration-color: #800080; font-weight: bold\">HumanMessage</span><span style=\"font-weight: bold\">(</span>\n",
       "<span style=\"color: #7fbf7f; text-decoration-color: #7fbf7f\">│   │   │   </span><span style=\"color: #808000; text-decoration-color: #808000\">content</span>=<span style=\"color: #008000; text-decoration-color: #008000\">\"How many users are involved in this conversation, the valid has value in 'uid'? \\nOnly provide the list of user `uid`s in `[... ]` as result without any instruction text or additional information.\"</span>\n",
       "<span style=\"color: #7fbf7f; text-decoration-color: #7fbf7f\">│   │   </span><span style=\"font-weight: bold\">)</span>,\n",
       "<span style=\"color: #7fbf7f; text-decoration-color: #7fbf7f\">│   │   </span><span style=\"color: #800080; text-decoration-color: #800080; font-weight: bold\">AIMessage</span><span style=\"font-weight: bold\">(</span>\n",
       "<span style=\"color: #7fbf7f; text-decoration-color: #7fbf7f\">│   │   │   </span><span style=\"color: #808000; text-decoration-color: #808000\">content</span>=<span style=\"color: #008000; text-decoration-color: #008000\">'[\"user-1\", \"user-2\", \"user-3\", \"user-4\", \"user-5\", \"user-L\", \"user-XXXXL\", \"user-XL\"]'</span>\n",
       "<span style=\"color: #7fbf7f; text-decoration-color: #7fbf7f\">│   │   </span><span style=\"font-weight: bold\">)</span>\n",
       "<span style=\"color: #7fbf7f; text-decoration-color: #7fbf7f\">│   </span><span style=\"font-weight: bold\">]</span>\n",
       "<span style=\"font-weight: bold\">)</span>\n",
       "</pre>\n"
      ],
      "text/plain": [
       "\u001b[1;35mChatMessageHistory\u001b[0m\u001b[1m(\u001b[0m\n",
       "\u001b[2;32m│   \u001b[0m\u001b[33mmessages\u001b[0m=\u001b[1m[\u001b[0m\n",
       "\u001b[2;32m│   │   \u001b[0m\u001b[1;35mAIMessage\u001b[0m\u001b[1m(\u001b[0m\u001b[33mcontent\u001b[0m=\u001b[32m'\u001b[0m\u001b[32m{\u001b[0m\u001b[32m\\nuid:\"None\"\\nrole:\"assistant\"\\ncontent:\"This is a Gaming Place\"\\n\u001b[0m\u001b[32m}\u001b[0m\u001b[32m\\n'\u001b[0m\u001b[1m)\u001b[0m,\n",
       "\u001b[2;32m│   │   \u001b[0m\u001b[1;35mHumanMessage\u001b[0m\u001b[1m(\u001b[0m\u001b[33mcontent\u001b[0m=\u001b[32m'\u001b[0m\u001b[32m{\u001b[0m\u001b[32m\\nuid:\"user-1\"\\nrole:\"user\"\\ncontent:\"Hello dudes\"\\n\u001b[0m\u001b[32m}\u001b[0m\u001b[32m\\n'\u001b[0m\u001b[1m)\u001b[0m,\n",
       "\u001b[2;32m│   │   \u001b[0m\u001b[1;35mHumanMessage\u001b[0m\u001b[1m(\u001b[0m\u001b[33mcontent\u001b[0m=\u001b[32m'\u001b[0m\u001b[32m{\u001b[0m\u001b[32m\\nuid:\"user-2\"\\nrole:\"user\"\\ncontent:\"hi\"\\n\u001b[0m\u001b[32m}\u001b[0m\u001b[32m\\n'\u001b[0m\u001b[1m)\u001b[0m,\n",
       "\u001b[2;32m│   │   \u001b[0m\u001b[1;35mHumanMessage\u001b[0m\u001b[1m(\u001b[0m\u001b[33mcontent\u001b[0m=\u001b[32m'\u001b[0m\u001b[32m{\u001b[0m\u001b[32m\\nuid:\"user-3\"\\nrole:\"user\"\\ncontent:\"yo yo\"\\n\u001b[0m\u001b[32m}\u001b[0m\u001b[32m\\n'\u001b[0m\u001b[1m)\u001b[0m,\n",
       "\u001b[2;32m│   │   \u001b[0m\u001b[1;35mHumanMessage\u001b[0m\u001b[1m(\u001b[0m\u001b[33mcontent\u001b[0m=\u001b[32m'\u001b[0m\u001b[32m{\u001b[0m\u001b[32m\\nuid:\"user-4\"\\nrole:\"user\"\\ncontent:\"nice to see you\"\\n\u001b[0m\u001b[32m}\u001b[0m\u001b[32m\\n'\u001b[0m\u001b[1m)\u001b[0m,\n",
       "\u001b[2;32m│   │   \u001b[0m\u001b[1;35mHumanMessage\u001b[0m\u001b[1m(\u001b[0m\u001b[33mcontent\u001b[0m=\u001b[32m'\u001b[0m\u001b[32m{\u001b[0m\u001b[32m\\nuid:\"user-5\"\\nrole:\"user\"\\ncontent:\"hoho dude\"\\n\u001b[0m\u001b[32m}\u001b[0m\u001b[32m\\n'\u001b[0m\u001b[1m)\u001b[0m,\n",
       "\u001b[2;32m│   │   \u001b[0m\u001b[1;35mHumanMessage\u001b[0m\u001b[1m(\u001b[0m\u001b[33mcontent\u001b[0m=\u001b[32m'\u001b[0m\u001b[32m{\u001b[0m\u001b[32m\\nuid:\"user-L\"\\nrole:\"user\"\\ncontent:\"o lalala\"\\n\u001b[0m\u001b[32m}\u001b[0m\u001b[32m\\n'\u001b[0m\u001b[1m)\u001b[0m,\n",
       "\u001b[2;32m│   │   \u001b[0m\u001b[1;35mHumanMessage\u001b[0m\u001b[1m(\u001b[0m\u001b[33mcontent\u001b[0m=\u001b[32m'\u001b[0m\u001b[32m{\u001b[0m\u001b[32m\\nuid:\"user-XXXXL\"\\nrole:\"user\"\\ncontent:\"guten tag\"\\n\u001b[0m\u001b[32m}\u001b[0m\u001b[32m\\n'\u001b[0m\u001b[1m)\u001b[0m,\n",
       "\u001b[2;32m│   │   \u001b[0m\u001b[1;35mHumanMessage\u001b[0m\u001b[1m(\u001b[0m\u001b[33mcontent\u001b[0m=\u001b[32m'\u001b[0m\u001b[32m{\u001b[0m\u001b[32m\\nuid:\"user-1\"\\nrole:\"user\"\\ncontent:\"Let\\'s get started, ok?\"\\n\u001b[0m\u001b[32m}\u001b[0m\u001b[32m\\n'\u001b[0m\u001b[1m)\u001b[0m,\n",
       "\u001b[2;32m│   │   \u001b[0m\u001b[1;35mHumanMessage\u001b[0m\u001b[1m(\u001b[0m\u001b[33mcontent\u001b[0m=\u001b[32m'\u001b[0m\u001b[32m{\u001b[0m\u001b[32m\\nuid:\"user-2\"\\nrole:\"user\"\\ncontent:\"YES\"\\n\u001b[0m\u001b[32m}\u001b[0m\u001b[32m\\n'\u001b[0m\u001b[1m)\u001b[0m,\n",
       "\u001b[2;32m│   │   \u001b[0m\u001b[1;35mHumanMessage\u001b[0m\u001b[1m(\u001b[0m\u001b[33mcontent\u001b[0m=\u001b[32m'\u001b[0m\u001b[32m{\u001b[0m\u001b[32m\\nuid:\"user-3\"\\nrole:\"user\"\\ncontent:\"YEAH....\"\\n\u001b[0m\u001b[32m}\u001b[0m\u001b[32m\\n'\u001b[0m\u001b[1m)\u001b[0m,\n",
       "\u001b[2;32m│   │   \u001b[0m\u001b[1;35mHumanMessage\u001b[0m\u001b[1m(\u001b[0m\u001b[33mcontent\u001b[0m=\u001b[32m'\u001b[0m\u001b[32m{\u001b[0m\u001b[32m\\nuid:\"user-4\"\\nrole:\"user\"\\ncontent:\"Cool..\"\\n\u001b[0m\u001b[32m}\u001b[0m\u001b[32m\\n'\u001b[0m\u001b[1m)\u001b[0m,\n",
       "\u001b[2;32m│   │   \u001b[0m\u001b[1;35mHumanMessage\u001b[0m\u001b[1m(\u001b[0m\u001b[33mcontent\u001b[0m=\u001b[32m'\u001b[0m\u001b[32m{\u001b[0m\u001b[32m\\nuid:\"user-5\"\\nrole:\"user\"\\ncontent:\"yup.\"\\n\u001b[0m\u001b[32m}\u001b[0m\u001b[32m\\n'\u001b[0m\u001b[1m)\u001b[0m,\n",
       "\u001b[2;32m│   │   \u001b[0m\u001b[1;35mHumanMessage\u001b[0m\u001b[1m(\u001b[0m\u001b[33mcontent\u001b[0m=\u001b[32m'\u001b[0m\u001b[32m{\u001b[0m\u001b[32m\\nuid:\"user-L\"\\nrole:\"user\"\\ncontent:\"Great.....\"\\n\u001b[0m\u001b[32m}\u001b[0m\u001b[32m\\n'\u001b[0m\u001b[1m)\u001b[0m,\n",
       "\u001b[2;32m│   │   \u001b[0m\u001b[1;35mHumanMessage\u001b[0m\u001b[1m(\u001b[0m\u001b[33mcontent\u001b[0m=\u001b[32m'\u001b[0m\u001b[32m{\u001b[0m\u001b[32m\\nuid:\"user-XL\"\\nrole:\"user\"\\ncontent:\"alles klar\"\\n\u001b[0m\u001b[32m}\u001b[0m\u001b[32m\\n'\u001b[0m\u001b[1m)\u001b[0m,\n",
       "\u001b[2;32m│   │   \u001b[0m\u001b[1;35mHumanMessage\u001b[0m\u001b[1m(\u001b[0m\u001b[33mcontent\u001b[0m=\u001b[32m'\u001b[0m\u001b[32m{\u001b[0m\u001b[32m\\nuid:\"user-5\"\\nrole:\"user\"\\ncontent:\"I\\'m good and the best.\"\\n\u001b[0m\u001b[32m}\u001b[0m\u001b[32m\\n'\u001b[0m\u001b[1m)\u001b[0m,\n",
       "\u001b[2;32m│   │   \u001b[0m\u001b[1;35mHumanMessage\u001b[0m\u001b[1m(\u001b[0m\u001b[33mcontent\u001b[0m=\u001b[32m'\u001b[0m\u001b[32m{\u001b[0m\u001b[32m\\nuid:\"user-5\"\\nrole:\"user\"\\ncontent:\"so, I am the final one.\"\\n\u001b[0m\u001b[32m}\u001b[0m\u001b[32m\\n'\u001b[0m\u001b[1m)\u001b[0m,\n",
       "\u001b[2;32m│   │   \u001b[0m\u001b[1;35mHumanMessage\u001b[0m\u001b[1m(\u001b[0m\n",
       "\u001b[2;32m│   │   │   \u001b[0m\u001b[33mcontent\u001b[0m=\u001b[32m\"How\u001b[0m\u001b[32m many users are involved in this conversation, the valid has value in 'uid'? \\nOnly provide the list of user `uid`s in `\u001b[0m\u001b[32m[\u001b[0m\u001b[32m... \u001b[0m\u001b[32m]\u001b[0m\u001b[32m` as result without any instruction text or additional information.\"\u001b[0m\n",
       "\u001b[2;32m│   │   \u001b[0m\u001b[1m)\u001b[0m,\n",
       "\u001b[2;32m│   │   \u001b[0m\u001b[1;35mAIMessage\u001b[0m\u001b[1m(\u001b[0m\n",
       "\u001b[2;32m│   │   │   \u001b[0m\u001b[33mcontent\u001b[0m=\u001b[32m'\u001b[0m\u001b[32m[\u001b[0m\u001b[32m\"user-1\", \"user-2\", \"user-3\", \"user-4\", \"user-5\", \"user-L\", \"user-XXXXL\", \"user-XL\"\u001b[0m\u001b[32m]\u001b[0m\u001b[32m'\u001b[0m\n",
       "\u001b[2;32m│   │   \u001b[0m\u001b[1m)\u001b[0m\n",
       "\u001b[2;32m│   \u001b[0m\u001b[1m]\u001b[0m\n",
       "\u001b[1m)\u001b[0m\n"
      ]
     },
     "metadata": {},
     "output_type": "display_data"
    },
    {
     "name": "stdout",
     "output_type": "stream",
     "text": [
      "user-5 result\n"
     ]
    },
    {
     "data": {
      "text/html": [
       "<pre style=\"white-space:pre;overflow-x:auto;line-height:normal;font-family:Menlo,'DejaVu Sans Mono',consolas,'Courier New',monospace\"><span style=\"color: #008000; text-decoration-color: #008000\">'[\"hoho dude\", \"yup.\", \"I\\'m good and the best.\", \"so, I am the final one.\"]'</span>\n",
       "</pre>\n"
      ],
      "text/plain": [
       "\u001b[32m'\u001b[0m\u001b[32m[\u001b[0m\u001b[32m\"hoho dude\", \"yup.\", \"I\\'m good and the best.\", \"so, I am the final one.\"\u001b[0m\u001b[32m]\u001b[0m\u001b[32m'\u001b[0m\n"
      ]
     },
     "metadata": {},
     "output_type": "display_data"
    }
   ],
   "source": [
    "from langchain_core.runnables.history import RunnableWithMessageHistory\n",
    "from langchain.memory import ChatMessageHistory\n",
    "from langchain_community.adapters.openai import convert_openai_messages\n",
    "\n",
    "memory = ConversationBufferMemory(return_messages=True)\n",
    "mem_vars = memory.load_memory_variables({})\n",
    "pretty_print(\"Memory Variables init\", mem_vars)\n",
    "pretty_print(\"Memory Variables in str list (buffer_as_str) init\", memory.buffer_as_str)\n",
    "\n",
    "memory.buffer.append(AIMessage(content=\"This is a Gaming Place\"))\n",
    "mem_vars = memory.load_memory_variables({})\n",
    "pretty_print(\"Memory Variables seeded\", mem_vars)\n",
    "pretty_print(\n",
    "    \"Memory Variables in str list (buffer_as_str), seeded\", memory.buffer_as_str\n",
    ")\n",
    "\n",
    "memory.buffer.append(HumanMessage(content=\"Hello dudes\", id=\"user-1\"))\n",
    "memory.buffer.append(HumanMessage(content=\"hi\", id=\"user-2\"))\n",
    "memory.buffer.append(HumanMessage(content=\"yo yo\", id=\"user-3\"))\n",
    "memory.buffer.append(HumanMessage(content=\"nice to see you\", id=\"user-4\"))\n",
    "memory.buffer.append(HumanMessage(content=\"hoho dude\", id=\"user-5\"))\n",
    "memory.buffer.append(HumanMessage(content=\"o lalala\", id=\"user-L\"))\n",
    "memory.buffer.append(HumanMessage(content=\"guten tag\", id=\"user-XXXXL\"))\n",
    "memory.buffer.append(HumanMessage(content=\"Let's get started, ok?\", id=\"user-1\"))\n",
    "memory.buffer.append(HumanMessage(content=\"YES\", id=\"user-2\"))\n",
    "memory.buffer.append(HumanMessage(content=\"YEAH....\", id=\"user-3\"))\n",
    "memory.buffer.append(HumanMessage(content=\"Cool..\", id=\"user-4\"))\n",
    "memory.buffer.append(HumanMessage(content=\"yup.\", id=\"user-5\"))\n",
    "memory.buffer.append(HumanMessage(content=\"Great.....\", id=\"user-L\"))\n",
    "memory.buffer.append(HumanMessage(content=\"alles klar\", id=\"user-XL\"))\n",
    "memory.buffer.append(HumanMessage(content=\"I'm good and the best.\", id=\"user-5\"))\n",
    "memory.buffer.append(HumanMessage(content=\"so, I am the final one.\", id=\"user-5\"))\n",
    "mem_vars = memory.load_memory_variables({})\n",
    "pretty_print(\"Memory Variables\", mem_vars)\n",
    "pretty_print(\"Memory Variables in str list (buffer_as_str)\", memory.buffer_as_str)\n",
    "\n",
    "\n",
    "def convert_memory_to_dict(memory: ConversationBufferMemory) -> List[Dict[str, str]]:\n",
    "    \"\"\"Convert the memory to the dict, role is id, content is the message content.\"\"\"\n",
    "    res = list()\n",
    "    history = memory.load_memory_variables({})[\"history\"]\n",
    "    content_fmt = \"\"\"{{\n",
    "uid:\"{uid}\"\n",
    "role:\"{role}\"\n",
    "content:\"{content}\"\n",
    "}}\n",
    "\"\"\"\n",
    "    for hist_item in history:\n",
    "        role = \"user\" if isinstance(hist_item, HumanMessage) else \"assistant\"\n",
    "        res.append(\n",
    "            {\n",
    "                \"role\": role,  # If we want to use identifier for role, we must have openai error: BadRequestError: Error code: 400 - {'error': {'message': \"'user-1' is not one of ['system', 'assistant', 'user', 'function'] - 'messages.2.role'\", 'type': 'invalid_request_error', 'param': None, 'code': None}}\n",
    "                \"content\": content_fmt.format(\n",
    "                    content=hist_item.content,\n",
    "                    uid=hist_item.id if role == \"user\" else None,\n",
    "                    role=role,\n",
    "                ),\n",
    "            }\n",
    "        )\n",
    "    return res\n",
    "\n",
    "\n",
    "cxt_dict = convert_memory_to_dict(memory)\n",
    "pretty_print(\"cxt_dict\", cxt_dict)\n",
    "\n",
    "\n",
    "def build_chain_without_parsing(\n",
    "    model: BaseChatModel,\n",
    ") -> RunnableSerializable[Dict, str]:\n",
    "    prompt = ChatPromptTemplate.from_messages(\n",
    "        [\n",
    "            SystemMessage(\n",
    "                content=(\"You are an AI assistant.\" \"You can handle the query of user.\")\n",
    "            ),\n",
    "            MessagesPlaceholder(variable_name=\"history\"),\n",
    "            HumanMessagePromptTemplate.from_template(\"{query}\"),\n",
    "        ]\n",
    "    )\n",
    "    return (\n",
    "        prompt | model\n",
    "    )  # comment model, you can see the filled template after invoking the chain.\n",
    "\n",
    "\n",
    "model = llm  # ChatGroq(model=\"mixtral-8x7b-32768\", temperature=0)\n",
    "human_query = HumanMessage(\n",
    "    content=\"\"\"How many users are involved in this conversation, the valid has value in 'uid'? \n",
    "Only provide the list of user `uid`s in `[... ]` as result without any instruction text or additional information.\"\"\",\n",
    "    id=\"user-X\",\n",
    ")\n",
    "\n",
    "msg_history = ChatMessageHistory(messages=convert_openai_messages(cxt_dict))\n",
    "pretty_print(\"msg_history\", msg_history)\n",
    "\n",
    "final_chain = RunnableWithMessageHistory(\n",
    "    build_chain_without_parsing(model),\n",
    "    lambda _: msg_history, # auto grow\n",
    "    input_messages_key=\"query\",\n",
    "    history_messages_key=\"history\",\n",
    ")\n",
    "res = final_chain.invoke(\n",
    "    {\"query\": human_query.content},\n",
    "    {\"configurable\": {\"session_id\": None}},\n",
    ")\n",
    "pretty_print(\"Result\", res)\n",
    "\n",
    "pretty_print(\"msg_history\", msg_history)\n",
    "\n",
    "res = (final_chain | StrOutputParser()).invoke(\n",
    "    {\n",
    "        \"query\": \"\"\"Give the list of all the messages from the one that \"uid\" equals \"user-5\" and put them in a \"[]\" without any instruction text, newlines or additional information.\n",
    "Notice: Only need content and plan-text.\n",
    "\"\"\",\n",
    "    },\n",
    "    {\"configurable\": {\"session_id\": None}},\n",
    ")\n",
    "pretty_print(\"user-5 result\", res)"
   ]
  },
  {
   "cell_type": "markdown",
   "metadata": {},
   "source": [
    "#### (Optional) We can pass the query and history in a more elegant way.\n",
    "\n",
    "Use `RunnableParallel` and `RunnableLambda` to pass data in advance, use `RunnablePassthrough` to directly pass the input query.\n",
    "\n",
    "```python\n",
    "(\n",
    "    {\n",
    "        \"history\": RunnableLambda(lambda _: convert_memory_to_dict(memory)),\n",
    "        \"query\": RunnablePassthrough(),\n",
    "    }\n",
    "    | build_chain_without_parsing(model)\n",
    "    | StrOutputParser()\n",
    ").invoke(\n",
    "    \"\"\"Give the list of all the messages from the one that \"uid\" equals \"user-5\" and put them in a \"[]\" without any instruction text, newlines or additional information.\n",
    "Notice: Only need content and plan-text.\n",
    "\"\"\"\n",
    ")\n",
    "```"
   ]
  },
  {
   "cell_type": "code",
   "execution_count": 195,
   "metadata": {},
   "outputs": [
    {
     "name": "stdout",
     "output_type": "stream",
     "text": [
      "user-1: Hello dudes\n",
      "user-2: hi\n",
      "user-3: yo yo\n",
      "user-4: nice to see you\n",
      "user-5: hoho dude\n",
      "user-L: o lalala\n",
      "user-XXXXL: guten tag\n",
      "user-1: Let's get started, ok?\n",
      "user-2: YES\n",
      "user-3: YEAH....\n",
      "user-4: Cool..\n",
      "user-5: yup\n",
      "user-L: Great.....\n",
      "user-XL: alles klar\n",
      "user-5: I'm good and the best\n",
      "user-5: so, I am the final one"
     ]
    }
   ],
   "source": [
    "from langchain_core.runnables import (\n",
    "    RunnableLambda,\n",
    "    RunnablePassthrough,\n",
    ")\n",
    "\n",
    "memory = ConversationBufferMemory(return_messages=True)\n",
    "mem_vars = memory.load_memory_variables({})\n",
    "\n",
    "\n",
    "memory.buffer.append(AIMessage(content=\"This is a Gaming Place\"))\n",
    "mem_vars = memory.load_memory_variables({})\n",
    "\n",
    "\n",
    "memory.buffer.append(HumanMessage(content=\"Hello dudes\", id=\"user-1\"))\n",
    "memory.buffer.append(HumanMessage(content=\"hi\", id=\"user-2\"))\n",
    "memory.buffer.append(HumanMessage(content=\"yo yo\", id=\"user-3\"))\n",
    "memory.buffer.append(HumanMessage(content=\"nice to see you\", id=\"user-4\"))\n",
    "memory.buffer.append(HumanMessage(content=\"hoho dude\", id=\"user-5\"))\n",
    "memory.buffer.append(HumanMessage(content=\"o lalala\", id=\"user-L\"))\n",
    "memory.buffer.append(HumanMessage(content=\"guten tag\", id=\"user-XXXXL\"))\n",
    "memory.buffer.append(HumanMessage(content=\"Let's get started, ok?\", id=\"user-1\"))\n",
    "memory.buffer.append(HumanMessage(content=\"YES\", id=\"user-2\"))\n",
    "memory.buffer.append(HumanMessage(content=\"YEAH....\", id=\"user-3\"))\n",
    "memory.buffer.append(HumanMessage(content=\"Cool..\", id=\"user-4\"))\n",
    "memory.buffer.append(HumanMessage(content=\"yup.\", id=\"user-5\"))\n",
    "memory.buffer.append(HumanMessage(content=\"Great.....\", id=\"user-L\"))\n",
    "memory.buffer.append(HumanMessage(content=\"alles klar\", id=\"user-XL\"))\n",
    "memory.buffer.append(HumanMessage(content=\"I'm good and the best.\", id=\"user-5\"))\n",
    "memory.buffer.append(HumanMessage(content=\"so, I am the final one.\", id=\"user-5\"))\n",
    "mem_vars = memory.load_memory_variables({})\n",
    "\n",
    "\n",
    "def convert_memory_to_dict(memory: ConversationBufferMemory) -> List[Dict[str, str]]:\n",
    "    \"\"\"Convert the memory to the dict, role is id, content is the message content.\"\"\"\n",
    "    res = list()\n",
    "    history = memory.load_memory_variables({})[\"history\"]\n",
    "    content_fmt = \"\"\"{{\n",
    "uid:\"{uid}\"\n",
    "role:\"{role}\"\n",
    "content:\"{content}\"\n",
    "}}\n",
    "\"\"\"\n",
    "    for hist_item in history:\n",
    "        role = \"user\" if isinstance(hist_item, HumanMessage) else \"assistant\"\n",
    "        res.append(\n",
    "            {\n",
    "                \"role\": role,  # If we want to use identifier for role, we must have openai error: BadRequestError: Error code: 400 - {'error': {'message': \"'user-1' is not one of ['system', 'assistant', 'user', 'function'] - 'messages.2.role'\", 'type': 'invalid_request_error', 'param': None, 'code': None}}\n",
    "                \"content\": content_fmt.format(\n",
    "                    content=hist_item.content,\n",
    "                    uid=hist_item.id if role == \"user\" else None,\n",
    "                    role=role,\n",
    "                ),\n",
    "            }\n",
    "        )\n",
    "    return res\n",
    "\n",
    "\n",
    "def build_chain_without_parsing(\n",
    "    model: BaseChatModel,\n",
    ") -> RunnableSerializable[Dict, str]:\n",
    "    prompt = ChatPromptTemplate.from_messages(\n",
    "        [\n",
    "            SystemMessage(\n",
    "                content=(\"You are an AI assistant.\" \"You can handle the query of user.\")\n",
    "            ),\n",
    "            MessagesPlaceholder(variable_name=\"history\"),\n",
    "            HumanMessagePromptTemplate.from_template(\"{query}\"),\n",
    "        ]\n",
    "    )\n",
    "    return (\n",
    "        prompt | model\n",
    "    )  # comment model, you can see the filled template after invoking the chain.\n",
    "\n",
    "\n",
    "model = ChatGroq(model=\"llama2-70b-4096\", temperature=0, max_tokens=1024 * 4)\n",
    "\n",
    "\n",
    "final_chain = (\n",
    "    {\n",
    "        \"history\": RunnableLambda(lambda _: convert_memory_to_dict(memory)),\n",
    "        \"query\": RunnablePassthrough(),\n",
    "    }\n",
    "    | build_chain_without_parsing(model)\n",
    "    | StrOutputParser()\n",
    ")\n",
    "stream = final_chain.astream(\n",
    "    \"\"\"Give the list of all the messages from users, no instruction text, newlines, headlines, additional information and decorations in the result. \n",
    "\n",
    "\n",
    "Output a list of message content in plan-text only:\n",
    "\n",
    "Speaker 1(user uid): message content\n",
    "\n",
    "\"\"\"\n",
    ")\n",
    "async for chunk in stream:\n",
    "    print(chunk, end=\"\", flush=True)"
   ]
  }
 ],
 "metadata": {
  "kernelspec": {
   "display_name": "machinelearning",
   "language": "python",
   "name": "python3"
  },
  "language_info": {
   "codemirror_mode": {
    "name": "ipython",
    "version": 3
   },
   "file_extension": ".py",
   "mimetype": "text/x-python",
   "name": "python",
   "nbconvert_exporter": "python",
   "pygments_lexer": "ipython3",
   "version": "3.11.5"
  }
 },
 "nbformat": 4,
 "nbformat_minor": 2
}
